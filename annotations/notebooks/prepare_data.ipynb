{
 "cells": [
  {
   "cell_type": "code",
   "execution_count": 4,
   "metadata": {},
   "outputs": [
    {
     "data": {
      "text/html": [
       "<div>\n",
       "<style scoped>\n",
       "    .dataframe tbody tr th:only-of-type {\n",
       "        vertical-align: middle;\n",
       "    }\n",
       "\n",
       "    .dataframe tbody tr th {\n",
       "        vertical-align: top;\n",
       "    }\n",
       "\n",
       "    .dataframe thead th {\n",
       "        text-align: right;\n",
       "    }\n",
       "</style>\n",
       "<table border=\"1\" class=\"dataframe\">\n",
       "  <thead>\n",
       "    <tr style=\"text-align: right;\">\n",
       "      <th></th>\n",
       "      <th>text</th>\n",
       "      <th>rating</th>\n",
       "    </tr>\n",
       "  </thead>\n",
       "  <tbody>\n",
       "    <tr>\n",
       "      <th>0</th>\n",
       "      <td>Jako do ceny dobra. Przyssawka mogłaby być lep...</td>\n",
       "      <td>3.0</td>\n",
       "    </tr>\n",
       "    <tr>\n",
       "      <th>1</th>\n",
       "      <td>Na słuchawkę czekałam spory czas a po zadzwoni...</td>\n",
       "      <td>1.0</td>\n",
       "    </tr>\n",
       "    <tr>\n",
       "      <th>2</th>\n",
       "      <td>Czajnik na pierwszy rzut oka wygląda ok, ale n...</td>\n",
       "      <td>1.0</td>\n",
       "    </tr>\n",
       "    <tr>\n",
       "      <th>3</th>\n",
       "      <td>Bardzo fajny czajnik, na pewno nie gorszy od m...</td>\n",
       "      <td>4.0</td>\n",
       "    </tr>\n",
       "    <tr>\n",
       "      <th>4</th>\n",
       "      <td>Pomysł na produkt (uchwyt na kierownicę) bardz...</td>\n",
       "      <td>2.0</td>\n",
       "    </tr>\n",
       "  </tbody>\n",
       "</table>\n",
       "</div>"
      ],
      "text/plain": [
       "                                                text  rating\n",
       "0  Jako do ceny dobra. Przyssawka mogłaby być lep...     3.0\n",
       "1  Na słuchawkę czekałam spory czas a po zadzwoni...     1.0\n",
       "2  Czajnik na pierwszy rzut oka wygląda ok, ale n...     1.0\n",
       "3  Bardzo fajny czajnik, na pewno nie gorszy od m...     4.0\n",
       "4  Pomysł na produkt (uchwyt na kierownicę) bardz...     2.0"
      ]
     },
     "execution_count": 4,
     "metadata": {},
     "output_type": "execute_result"
    }
   ],
   "source": [
    "import pandas as pd\n",
    "import os\n",
    "\n",
    "DATA_FILE = '../data/train-00000-of-00001.parquet'\n",
    "\n",
    "df = pd.read_parquet(DATA_FILE)\n",
    "df.head()"
   ]
  },
  {
   "cell_type": "code",
   "execution_count": 10,
   "metadata": {},
   "outputs": [
    {
     "name": "stdout",
     "output_type": "stream",
     "text": [
      "Processed data saved to ../data/second_batch.csv\n",
      "Number of texts in the output: 70\n"
     ]
    }
   ],
   "source": [
    "\n",
    "df['word_count'] = df['text'].str.split().str.len()\n",
    "df_filtered = df[df['word_count'] < 60]\n",
    "\n",
    "df_second_batch = df_filtered[110:180]\n",
    "output_file = '../data/second_batch.csv'\n",
    "\n",
    "# Ensure the directory exists\n",
    "os.makedirs(os.path.dirname(output_file), exist_ok=True)\n",
    "\n",
    "# Save the filtered text data to CSV\n",
    "df_second_batch['text'].to_csv(output_file, index=False, header=False)\n",
    "\n",
    "print(f\"Processed data saved to {output_file}\")\n",
    "print(f\"Number of texts in the output: {len(df_second_batch)}\")\n"
   ]
  },
  {
   "cell_type": "code",
   "execution_count": 7,
   "metadata": {},
   "outputs": [
    {
     "name": "stdout",
     "output_type": "stream",
     "text": [
      "No duplicate records found between first_batch.csv and second_batch.csv\n"
     ]
    }
   ],
   "source": [
    "import pandas as pd\n",
    "\n",
    "# Read the CSV files\n",
    "first_batch = pd.read_csv('../data/first_batch.csv', header=None, names=['text'])\n",
    "second_batch = pd.read_csv('../data/second_batch.csv', header=None, names=['text'])\n",
    "\n",
    "# Check for duplicate records\n",
    "duplicates = pd.merge(first_batch, second_batch, on='text', how='inner')\n",
    "\n",
    "if duplicates.empty:\n",
    "    print(\"No duplicate records found between first_batch.csv and second_batch.csv\")\n",
    "else:\n",
    "    print(f\"Found {len(duplicates)} duplicate records:\")\n",
    "    print(duplicates)\n"
   ]
  },
  {
   "cell_type": "code",
   "execution_count": 14,
   "metadata": {},
   "outputs": [
    {
     "name": "stdout",
     "output_type": "stream",
     "text": [
      "Sample of the by-word annotations dataframe:\n",
      "   sentence_id  word_id         word annotation\n",
      "0            1        1   Generalnie           \n",
      "1            1        2          nie           \n",
      "2            1        3          mam           \n",
      "3            1        4      żadnych           \n",
      "4            1        5   zastrzeżeń           \n",
      "5            1        6            i           \n",
      "6            1        7          jak           \n",
      "7            1        8  najbardziej           \n",
      "8            1        9      polecam           \n",
      "9            1       10    pokrowiec           \n",
      "\n",
      "Total number of words across 5 sentences: 264\n",
      "\n",
      "Original sentences:\n",
      "Sentence 1: \"Generalnie nie mam żadnych zastrzeżeń i jak najbardziej polecam - pokrowiec jest solidny, świetnie wygląda (chociaż wolałbym, gdyby był matowy, ale to inna kwestia), a także sztywno trzyma pada. Jedyny, drobny minus to zamek błyskawiczny, który przy otwarciu w dziwny sposób się \"\"rozkłada\"\", ale można to samemu sobie poprawić, poza tym nie wpływa to na nic.\"\n",
      "Sentence 2: Etui na pierwszy rzut oka wydaje się bardzo ładne i dobrze wykonane lecz nie nadaje się do użytku. Przednia część etui jest sztywna i twarda co powoduje powstawanie ryz w przypadku dostania się zanieczyszczeń pomiędzy wyświetlacz a etui. Po tygodniu użytkowania szkło na wyświetlaczu nadawało się do wymiany. Szkoda telefonu.  Aplikacja nie działa. \n",
      "Sentence 3: Statyw fajnie wykonany, wysoki i ku mojemu zdziwieniu stabilny (statywy w tym przedziale cenowym mają skłonności do przewracania się, gdy podłoże nie jest idealnie płaskie). Jedynym minusem, którego się dopatrzyłem to to, że głowica nie pozwala na płynną pracę (płynny ruch) przez co nagrywanie filmów z tego statywu może być trudne.\n",
      "Sentence 4: przepraszam ze tak dlugo nie odpowiadalem ,ale produkt jest de best oprocz balaganu w kuchi jest ok soki ktore zawiozlem do pracy zostaly skomunsowane w krotkiej chwili jedyna wada jest ze nie mamy grzie schowa ale to nie problem ,polecam zmieli wszystko nawet cegly -ale brac to z przymrozonym okie  jesze raz poleca i pozdrawiam \n",
      "Sentence 5: Brak opakowania, instrukcji przez co występują trudności w identyfikacji sterowników - nie instaluje się też automatycznie  pod Win7. Nie uruchamia się po uśpieniu, gubi sterowniki, sieć przez co rozłącza się i co utrudnia użytkowanie. Prawdopodobnie produkt z odzysku, po zwrocie nie w pełni kompatybilny i  sprawny. Bez anteny b. słaby zasięg.\n"
     ]
    }
   ],
   "source": [
    "# Prepare by-word annotations dataframe for 5 sentences\n",
    "\n",
    "# Select 5 sentences from the second batch\n",
    "sentences = second_batch['text'].head(5).tolist()\n",
    "\n",
    "# Initialize an empty list to store word-level data\n",
    "word_data = []\n",
    "\n",
    "# Process each sentence\n",
    "for sentence_id, sentence in enumerate(sentences, 1):\n",
    "    # Split the sentence into words, removing special characters\n",
    "    words = ''.join(char for char in sentence if char.isalnum() or char.isspace()).split()\n",
    "    for word_id, word in enumerate(words, 1):\n",
    "        word_data.append({\n",
    "            'sentence_id': sentence_id,\n",
    "            'word_id': word_id,\n",
    "            'word': word,\n",
    "            'annotation': ''  # Empty annotation to be filled by annotators\n",
    "        })\n",
    "\n",
    "# Create a DataFrame from the word-level data\n",
    "df_word_annotations = pd.DataFrame(word_data)\n",
    "\n",
    "print(\"Sample of the by-word annotations dataframe:\")\n",
    "print(df_word_annotations.head(10))\n",
    "\n",
    "print(\"\\nTotal number of words across 5 sentences:\", len(df_word_annotations))\n",
    "\n",
    "# Display the original sentences for reference\n",
    "print(\"\\nOriginal sentences:\")\n",
    "for i, sentence in enumerate(sentences, 1):\n",
    "    print(f\"Sentence {i}: {sentence}\")\n"
   ]
  },
  {
   "cell_type": "code",
   "execution_count": 15,
   "metadata": {},
   "outputs": [
    {
     "name": "stdout",
     "output_type": "stream",
     "text": [
      "Word-level annotations saved to ../data/word_annotations.csv\n",
      "   sentence_id  word_id        word annotation\n",
      "0            1        1  Generalnie           \n",
      "1            1        2         nie           \n",
      "2            1        3         mam           \n",
      "3            1        4     żadnych           \n",
      "4            1        5  zastrzeżeń           \n"
     ]
    }
   ],
   "source": [
    "# Save the word-level annotations DataFrame to a CSV file in the data folder\n",
    "output_path = '../data/word_annotations.csv'\n",
    "df_word_annotations.to_csv(output_path, index=False)\n",
    "print(f\"Word-level annotations saved to {output_path}\")\n",
    "\n",
    "# Display the first few rows of the saved DataFrame\n",
    "print(df_word_annotations.head())"
   ]
  },
  {
   "cell_type": "code",
   "execution_count": null,
   "metadata": {},
   "outputs": [],
   "source": []
  }
 ],
 "metadata": {
  "kernelspec": {
   "display_name": "venv",
   "language": "python",
   "name": "python3"
  },
  "language_info": {
   "codemirror_mode": {
    "name": "ipython",
    "version": 3
   },
   "file_extension": ".py",
   "mimetype": "text/x-python",
   "name": "python",
   "nbconvert_exporter": "python",
   "pygments_lexer": "ipython3",
   "version": "3.11.10"
  }
 },
 "nbformat": 4,
 "nbformat_minor": 2
}
