{
 "cells": [
  {
   "cell_type": "markdown",
   "metadata": {},
   "source": [
    "# Setup"
   ]
  },
  {
   "cell_type": "code",
   "execution_count": 1,
   "metadata": {},
   "outputs": [
    {
     "name": "stderr",
     "output_type": "stream",
     "text": [
      "/usr/lib/python3/dist-packages/paramiko/transport.py:237: CryptographyDeprecationWarning: Blowfish has been deprecated and will be removed in a future release\n",
      "  \"class\": algorithms.Blowfish,\n"
     ]
    }
   ],
   "source": [
    "import os\n",
    "import pandas as pd\n",
    "from sklearn.preprocessing import LabelEncoder\n",
    "import fasttext.util\n",
    "import numpy as np\n",
    "\n",
    "import plotly.express as px\n",
    "from sklearn.manifold import TSNE\n",
    "import gensim\n",
    "\n",
    "import nltk\n",
    "import nltk.downloader\n",
    "\n",
    "fasttext.util.download_model(\"pl\", if_exists=\"ignore\")\n",
    "\n",
    "if not os.path.exists(\"nkjp+wiki-forms-all-100-cbow-hs.txt\"):\n",
    "    raise ValueError(\n",
    "        \"Download the model from http://dsmodels.nlp.ipipan.waw.pl/dsmodels/nkjp+wiki-forms-all-100-cbow-hs.txt.gz and extract it to the root of the project\"\n",
    "    )\n",
    "\n",
    "\n",
    "if not nltk.downloader.Downloader().is_installed(\"punkt_tab\"):\n",
    "    nltk.download(\"punkt_tab\")"
   ]
  },
  {
   "cell_type": "code",
   "execution_count": 9,
   "metadata": {},
   "outputs": [],
   "source": [
    "model_fasttext = fasttext.load_model(\"cc.pl.300.bin\")"
   ]
  },
  {
   "cell_type": "code",
   "execution_count": 8,
   "metadata": {},
   "outputs": [],
   "source": [
    "model_word2vec = gensim.models.KeyedVectors.load_word2vec_format(\n",
    "    \"nkjp+wiki-forms-all-100-cbow-hs.txt\"\n",
    ")"
   ]
  },
  {
   "cell_type": "code",
   "execution_count": 2,
   "metadata": {},
   "outputs": [
    {
     "data": {
      "text/html": [
       "<div>\n",
       "<style scoped>\n",
       "    .dataframe tbody tr th:only-of-type {\n",
       "        vertical-align: middle;\n",
       "    }\n",
       "\n",
       "    .dataframe tbody tr th {\n",
       "        vertical-align: top;\n",
       "    }\n",
       "\n",
       "    .dataframe thead th {\n",
       "        text-align: right;\n",
       "    }\n",
       "</style>\n",
       "<table border=\"1\" class=\"dataframe\">\n",
       "  <thead>\n",
       "    <tr style=\"text-align: right;\">\n",
       "      <th></th>\n",
       "      <th>sentence_id</th>\n",
       "      <th>word_id</th>\n",
       "      <th>word</th>\n",
       "      <th>Olek</th>\n",
       "      <th>Kuba</th>\n",
       "      <th>Zgodne?</th>\n",
       "      <th>Stachu</th>\n",
       "      <th>Finalna anotacja</th>\n",
       "      <th>target</th>\n",
       "    </tr>\n",
       "  </thead>\n",
       "  <tbody>\n",
       "    <tr>\n",
       "      <th>0</th>\n",
       "      <td>1</td>\n",
       "      <td>1</td>\n",
       "      <td>Generalnie</td>\n",
       "      <td>0</td>\n",
       "      <td>1</td>\n",
       "      <td>N</td>\n",
       "      <td>0.0</td>\n",
       "      <td>0</td>\n",
       "      <td>NEG</td>\n",
       "    </tr>\n",
       "    <tr>\n",
       "      <th>1</th>\n",
       "      <td>1</td>\n",
       "      <td>2</td>\n",
       "      <td>nie</td>\n",
       "      <td>2</td>\n",
       "      <td>1</td>\n",
       "      <td>N</td>\n",
       "      <td>2.0</td>\n",
       "      <td>2</td>\n",
       "      <td>POS</td>\n",
       "    </tr>\n",
       "    <tr>\n",
       "      <th>2</th>\n",
       "      <td>1</td>\n",
       "      <td>3</td>\n",
       "      <td>mam</td>\n",
       "      <td>2</td>\n",
       "      <td>1</td>\n",
       "      <td>N</td>\n",
       "      <td>2.0</td>\n",
       "      <td>2</td>\n",
       "      <td>POS</td>\n",
       "    </tr>\n",
       "    <tr>\n",
       "      <th>3</th>\n",
       "      <td>1</td>\n",
       "      <td>4</td>\n",
       "      <td>żadnych</td>\n",
       "      <td>2</td>\n",
       "      <td>1</td>\n",
       "      <td>N</td>\n",
       "      <td>2.0</td>\n",
       "      <td>2</td>\n",
       "      <td>POS</td>\n",
       "    </tr>\n",
       "    <tr>\n",
       "      <th>4</th>\n",
       "      <td>1</td>\n",
       "      <td>5</td>\n",
       "      <td>zastrzeżeń</td>\n",
       "      <td>2</td>\n",
       "      <td>1</td>\n",
       "      <td>N</td>\n",
       "      <td>2.0</td>\n",
       "      <td>2</td>\n",
       "      <td>POS</td>\n",
       "    </tr>\n",
       "    <tr>\n",
       "      <th>...</th>\n",
       "      <td>...</td>\n",
       "      <td>...</td>\n",
       "      <td>...</td>\n",
       "      <td>...</td>\n",
       "      <td>...</td>\n",
       "      <td>...</td>\n",
       "      <td>...</td>\n",
       "      <td>...</td>\n",
       "      <td>...</td>\n",
       "    </tr>\n",
       "    <tr>\n",
       "      <th>259</th>\n",
       "      <td>5</td>\n",
       "      <td>46</td>\n",
       "      <td>Bez</td>\n",
       "      <td>1</td>\n",
       "      <td>1</td>\n",
       "      <td>T</td>\n",
       "      <td>NaN</td>\n",
       "      <td>1</td>\n",
       "      <td>NEU</td>\n",
       "    </tr>\n",
       "    <tr>\n",
       "      <th>260</th>\n",
       "      <td>5</td>\n",
       "      <td>47</td>\n",
       "      <td>anteny</td>\n",
       "      <td>1</td>\n",
       "      <td>1</td>\n",
       "      <td>T</td>\n",
       "      <td>NaN</td>\n",
       "      <td>1</td>\n",
       "      <td>NEU</td>\n",
       "    </tr>\n",
       "    <tr>\n",
       "      <th>261</th>\n",
       "      <td>5</td>\n",
       "      <td>48</td>\n",
       "      <td>b</td>\n",
       "      <td>0</td>\n",
       "      <td>1</td>\n",
       "      <td>N</td>\n",
       "      <td>0.0</td>\n",
       "      <td>0</td>\n",
       "      <td>NEG</td>\n",
       "    </tr>\n",
       "    <tr>\n",
       "      <th>262</th>\n",
       "      <td>5</td>\n",
       "      <td>49</td>\n",
       "      <td>słaby</td>\n",
       "      <td>0</td>\n",
       "      <td>0</td>\n",
       "      <td>T</td>\n",
       "      <td>NaN</td>\n",
       "      <td>0</td>\n",
       "      <td>NEG</td>\n",
       "    </tr>\n",
       "    <tr>\n",
       "      <th>263</th>\n",
       "      <td>5</td>\n",
       "      <td>50</td>\n",
       "      <td>zasięg</td>\n",
       "      <td>0</td>\n",
       "      <td>1</td>\n",
       "      <td>N</td>\n",
       "      <td>1.0</td>\n",
       "      <td>1</td>\n",
       "      <td>NEU</td>\n",
       "    </tr>\n",
       "  </tbody>\n",
       "</table>\n",
       "<p>264 rows × 9 columns</p>\n",
       "</div>"
      ],
      "text/plain": [
       "     sentence_id  word_id        word  Olek  Kuba Zgodne?  Stachu  \\\n",
       "0              1        1  Generalnie     0     1       N     0.0   \n",
       "1              1        2         nie     2     1       N     2.0   \n",
       "2              1        3         mam     2     1       N     2.0   \n",
       "3              1        4     żadnych     2     1       N     2.0   \n",
       "4              1        5  zastrzeżeń     2     1       N     2.0   \n",
       "..           ...      ...         ...   ...   ...     ...     ...   \n",
       "259            5       46         Bez     1     1       T     NaN   \n",
       "260            5       47      anteny     1     1       T     NaN   \n",
       "261            5       48           b     0     1       N     0.0   \n",
       "262            5       49       słaby     0     0       T     NaN   \n",
       "263            5       50      zasięg     0     1       N     1.0   \n",
       "\n",
       "     Finalna anotacja target  \n",
       "0                   0    NEG  \n",
       "1                   2    POS  \n",
       "2                   2    POS  \n",
       "3                   2    POS  \n",
       "4                   2    POS  \n",
       "..                ...    ...  \n",
       "259                 1    NEU  \n",
       "260                 1    NEU  \n",
       "261                 0    NEG  \n",
       "262                 0    NEG  \n",
       "263                 1    NEU  \n",
       "\n",
       "[264 rows x 9 columns]"
      ]
     },
     "execution_count": 2,
     "metadata": {},
     "output_type": "execute_result"
    }
   ],
   "source": [
    "import pandas as pd\n",
    "\n",
    "excel_file = 'annotations_all_batches.xlsx'\n",
    "data = pd.DataFrame()\n",
    "for sheet in [\"WORD - FIRST BATCH\"]:\n",
    "    df = pd.read_excel(excel_file, sheet_name=sheet, header=8, usecols='A:H')\n",
    "    data = pd.concat([data, df])\n",
    "\n",
    "data.rename(columns={\"text\": \"sentence\"}, inplace=True)\n",
    "target_map = {\n",
    "    0: \"NEG\",\n",
    "    1: \"NEU\",\n",
    "    2: \"POS\",\n",
    "    3: \"O\",}\n",
    "data['target'] = data['Finalna anotacja'].map(target_map)\n",
    "data"
   ]
  },
  {
   "cell_type": "markdown",
   "metadata": {},
   "source": [
    "# 1. FastText embedding"
   ]
  },
  {
   "cell_type": "code",
   "execution_count": 8,
   "metadata": {},
   "outputs": [],
   "source": [
    "# vectorize the words with FastText\n",
    "vectors_fasttext = []\n",
    "annotations_fasttext = (\n",
    "    []\n",
    ")  # annotations for words that have a vector in fasttext (some words may not have a vector)\n",
    "words_used_fasttext = []  # words that have a vector in fasttext\n",
    "\n",
    "for idx, word in enumerate(data['word']):\n",
    "    if word in model_fasttext.words:\n",
    "        vectorized = model_fasttext.get_word_vector(word)\n",
    "        vectors_fasttext.append(vectorized)\n",
    "        annotations_fasttext.append(data['target'].iloc[idx])\n",
    "        words_used_fasttext.append(word)\n",
    "\n",
    "\n",
    "vectors_fasttext = np.array(vectors_fasttext)\n",
    "annotations_fasttext = np.array(annotations_fasttext)\n",
    "np.save(\"word_vectors_fasttext.npy\", vectors_fasttext)\n",
    "np.save(\"word_annotations_fasttext.npy\", annotations_fasttext)\n",
    "np.save(\"words_used_fasttext.npy\", words_used_fasttext)"
   ]
  },
  {
   "cell_type": "code",
   "execution_count": 4,
   "metadata": {},
   "outputs": [],
   "source": [
    "vectors_fasttext = np.load(\"word_vectors_fasttext.npy\")\n",
    "annotations_fasttext = np.load(\"word_annotations_fasttext.npy\")\n",
    "words_used_fasttext = np.load(\"words_used_fasttext.npy\")"
   ]
  },
  {
   "cell_type": "code",
   "execution_count": 4,
   "metadata": {},
   "outputs": [],
   "source": [
    "# reduce dimensionality\n",
    "tsne_fasttext = TSNE(n_components=2, random_state=42)\n",
    "vectors_fasttext_embedded = tsne_fasttext.fit_transform(vectors_fasttext)"
   ]
  },
  {
   "cell_type": "code",
   "execution_count": 6,
   "metadata": {},
   "outputs": [
    {
     "data": {
      "application/vnd.plotly.v1+json": {
       "config": {
        "plotlyServerURL": "https://plot.ly"
       },
       "data": [
        {
         "customdata": [
          [
           "Generalnie",
           "NEG"
          ],
          [
           "minus",
           "NEG"
          ],
          [
           "dziwny",
           "NEG"
          ],
          [
           "nie",
           "NEG"
          ],
          [
           "nadaje",
           "NEG"
          ],
          [
           "powstawanie",
           "NEG"
          ],
          [
           "ryz",
           "NEG"
          ],
          [
           "zanieczyszczeń",
           "NEG"
          ],
          [
           "do",
           "NEG"
          ],
          [
           "wymiany",
           "NEG"
          ],
          [
           "Szkoda",
           "NEG"
          ],
          [
           "nie",
           "NEG"
          ],
          [
           "działa",
           "NEG"
          ],
          [
           "przewracania",
           "NEG"
          ],
          [
           "nie",
           "NEG"
          ],
          [
           "jest",
           "NEG"
          ],
          [
           "idealnie",
           "NEG"
          ],
          [
           "minusem",
           "NEG"
          ],
          [
           "nie",
           "NEG"
          ],
          [
           "pozwala",
           "NEG"
          ],
          [
           "trudne",
           "NEG"
          ],
          [
           "balaganu",
           "NEG"
          ],
          [
           "wada",
           "NEG"
          ],
          [
           "nie",
           "NEG"
          ],
          [
           "mamy",
           "NEG"
          ],
          [
           "Brak",
           "NEG"
          ],
          [
           "trudności",
           "NEG"
          ],
          [
           "nie",
           "NEG"
          ],
          [
           "instaluje",
           "NEG"
          ],
          [
           "Nie",
           "NEG"
          ],
          [
           "uruchamia",
           "NEG"
          ],
          [
           "gubi",
           "NEG"
          ],
          [
           "rozłącza",
           "NEG"
          ],
          [
           "utrudnia",
           "NEG"
          ],
          [
           "odzysku",
           "NEG"
          ],
          [
           "nie",
           "NEG"
          ],
          [
           "kompatybilny",
           "NEG"
          ],
          [
           "b",
           "NEG"
          ],
          [
           "słaby",
           "NEG"
          ]
         ],
         "hovertemplate": "Annotation=NEG<br>t-SNE 1=%{x}<br>t-SNE 2=%{y}<br>word=%{customdata[0]}<br>annotation=%{customdata[1]}<extra></extra>",
         "legendgroup": "NEG",
         "marker": {
          "color": "#636efa",
          "line": {
           "color": "DarkSlateGrey",
           "width": 1
          },
          "opacity": 0.8,
          "size": 10,
          "symbol": "circle"
         },
         "mode": "markers",
         "name": "NEG",
         "orientation": "v",
         "showlegend": true,
         "type": "scatter",
         "x": [
          11.678024,
          5.908545,
          -38.23995,
          -243.04987,
          -26.52653,
          26.487206,
          138.3673,
          42.068573,
          220.10713,
          -97.91853,
          -44.62782,
          -243.04987,
          48.781746,
          61.421055,
          -243.04987,
          -203.28079,
          -52.76019,
          7.636985,
          -243.04987,
          -59.524803,
          18.781042,
          106.61512,
          -1.0908937,
          -243.04987,
          -116.99318,
          -94.350586,
          25.977057,
          -243.04987,
          75.32765,
          -231.5678,
          60.47434,
          241.27048,
          109.50043,
          -57.86895,
          107.163124,
          -243.04987,
          59.325203,
          -69.8828,
          -38.36728
         ],
         "xaxis": "x",
         "y": [
          18.415264,
          207.48215,
          -112.34629,
          75.10917,
          80.118,
          -15.0061245,
          -37.233253,
          15.764137,
          135.32426,
          23.634853,
          29.354311,
          75.10917,
          69.64549,
          15.986029,
          75.10917,
          -46.29657,
          77.77871,
          190.50977,
          75.10917,
          8.566275,
          90.27908,
          -9.036176,
          168.71185,
          75.10917,
          1.3008586,
          -77.8013,
          72.20641,
          75.10917,
          60.813908,
          39.785587,
          56.522877,
          -9.93304,
          -32.600067,
          -9.218401,
          98.1076,
          75.10917,
          -21.197289,
          -186.31839,
          -134.33748
         ],
         "yaxis": "y"
        },
        {
         "customdata": [
          [
           "nie",
           "POS"
          ],
          [
           "mam",
           "POS"
          ],
          [
           "żadnych",
           "POS"
          ],
          [
           "zastrzeżeń",
           "POS"
          ],
          [
           "polecam",
           "POS"
          ],
          [
           "solidny",
           "POS"
          ],
          [
           "świetnie",
           "POS"
          ],
          [
           "ładne",
           "POS"
          ],
          [
           "dobrze",
           "POS"
          ],
          [
           "fajnie",
           "POS"
          ],
          [
           "wysoki",
           "POS"
          ],
          [
           "stabilny",
           "POS"
          ],
          [
           "de",
           "POS"
          ],
          [
           "best",
           "POS"
          ],
          [
           "ok",
           "POS"
          ],
          [
           "nie",
           "POS"
          ],
          [
           "problem",
           "POS"
          ],
          [
           "polecam",
           "POS"
          ],
          [
           "zmieli",
           "POS"
          ],
          [
           "wszystko",
           "POS"
          ],
          [
           "poleca",
           "POS"
          ],
          [
           "pozdrawiam",
           "POS"
          ]
         ],
         "hovertemplate": "Annotation=POS<br>t-SNE 1=%{x}<br>t-SNE 2=%{y}<br>word=%{customdata[0]}<br>annotation=%{customdata[1]}<extra></extra>",
         "legendgroup": "POS",
         "marker": {
          "color": "#EF553B",
          "line": {
           "color": "DarkSlateGrey",
           "width": 1
          },
          "opacity": 0.8,
          "size": 10,
          "symbol": "circle"
         },
         "mode": "markers",
         "name": "POS",
         "orientation": "v",
         "showlegend": true,
         "type": "scatter",
         "x": [
          -243.04987,
          -135.30565,
          -81.581154,
          -3.1183193,
          127.47065,
          -13.662474,
          -61.244076,
          -68.56415,
          -76.69138,
          -75.925735,
          -16.021378,
          -0.79164505,
          -89.70684,
          92.734,
          167.25276,
          -243.04987,
          -19.990812,
          127.47065,
          125.16099,
          37.21935,
          142.5725,
          4.591391
         ],
         "xaxis": "x",
         "y": [
          75.10917,
          3.1686733,
          -63.382336,
          8.969924,
          136.50917,
          -121.62821,
          88.85547,
          119.20821,
          82.99991,
          100.112946,
          -143.93317,
          -125.479744,
          -225.27388,
          -145.93565,
          108.98388,
          75.10917,
          -70.26553,
          136.50917,
          -59.04324,
          45.954105,
          151.54788,
          -13.377046
         ],
         "yaxis": "y"
        },
        {
         "customdata": [
          [
           "i",
           "O"
          ],
          [
           "jak",
           "O"
          ],
          [
           "jest",
           "O"
          ],
          [
           "ale",
           "O"
          ],
          [
           "to",
           "O"
          ],
          [
           "a",
           "O"
          ],
          [
           "to",
           "O"
          ],
          [
           "który",
           "O"
          ],
          [
           "przy",
           "O"
          ],
          [
           "w",
           "O"
          ],
          [
           "się",
           "O"
          ],
          [
           "ale",
           "O"
          ],
          [
           "to",
           "O"
          ],
          [
           "poza",
           "O"
          ],
          [
           "tym",
           "O"
          ],
          [
           "na",
           "O"
          ],
          [
           "pierwszy",
           "O"
          ],
          [
           "się",
           "O"
          ],
          [
           "i",
           "O"
          ],
          [
           "lecz",
           "O"
          ],
          [
           "się",
           "O"
          ],
          [
           "do",
           "O"
          ],
          [
           "jest",
           "O"
          ],
          [
           "i",
           "O"
          ],
          [
           "co",
           "O"
          ],
          [
           "w",
           "O"
          ],
          [
           "się",
           "O"
          ],
          [
           "pomiędzy",
           "O"
          ],
          [
           "a",
           "O"
          ],
          [
           "Po",
           "O"
          ],
          [
           "na",
           "O"
          ],
          [
           "się",
           "O"
          ],
          [
           "i",
           "O"
          ],
          [
           "ku",
           "O"
          ],
          [
           "w",
           "O"
          ],
          [
           "tym",
           "O"
          ],
          [
           "do",
           "O"
          ],
          [
           "się",
           "O"
          ],
          [
           "gdy",
           "O"
          ],
          [
           "Jedynym",
           "O"
          ],
          [
           "którego",
           "O"
          ],
          [
           "się",
           "O"
          ],
          [
           "to",
           "O"
          ],
          [
           "to",
           "O"
          ],
          [
           "że",
           "O"
          ],
          [
           "na",
           "O"
          ],
          [
           "przez",
           "O"
          ],
          [
           "co",
           "O"
          ],
          [
           "z",
           "O"
          ],
          [
           "ze",
           "O"
          ],
          [
           "tak",
           "O"
          ],
          [
           "ale",
           "O"
          ],
          [
           "w",
           "O"
          ],
          [
           "ktore",
           "O"
          ],
          [
           "do",
           "O"
          ],
          [
           "w",
           "O"
          ],
          [
           "ze",
           "O"
          ],
          [
           "ale",
           "O"
          ],
          [
           "to",
           "O"
          ],
          [
           "ale",
           "O"
          ],
          [
           "to",
           "O"
          ],
          [
           "z",
           "O"
          ],
          [
           "raz",
           "O"
          ],
          [
           "i",
           "O"
          ],
          [
           "co",
           "O"
          ],
          [
           "w",
           "O"
          ],
          [
           "się",
           "O"
          ],
          [
           "też",
           "O"
          ],
          [
           "pod",
           "O"
          ],
          [
           "się",
           "O"
          ],
          [
           "po",
           "O"
          ],
          [
           "przez",
           "O"
          ],
          [
           "co",
           "O"
          ],
          [
           "się",
           "O"
          ],
          [
           "i",
           "O"
          ],
          [
           "co",
           "O"
          ],
          [
           "z",
           "O"
          ],
          [
           "po",
           "O"
          ],
          [
           "w",
           "O"
          ],
          [
           "i",
           "O"
          ]
         ],
         "hovertemplate": "Annotation=O<br>t-SNE 1=%{x}<br>t-SNE 2=%{y}<br>word=%{customdata[0]}<br>annotation=%{customdata[1]}<extra></extra>",
         "legendgroup": "O",
         "marker": {
          "color": "#00cc96",
          "line": {
           "color": "DarkSlateGrey",
           "width": 1
          },
          "opacity": 0.8,
          "size": 10,
          "symbol": "circle"
         },
         "mode": "markers",
         "name": "O",
         "orientation": "v",
         "showlegend": true,
         "type": "scatter",
         "x": [
          -12.389417,
          -143.58546,
          -196.71086,
          -169.63155,
          -168.6761,
          -78.494446,
          -168.6761,
          -43.755516,
          23.527836,
          137.38399,
          -142.33789,
          -169.63155,
          -168.6761,
          49.61703,
          -55.34536,
          206.64197,
          36.9996,
          -142.33789,
          -22.557358,
          -142.49792,
          -142.33789,
          220.10713,
          -167.60529,
          -12.389417,
          -220.64085,
          137.38399,
          -142.33789,
          51.348743,
          -78.494446,
          61.581738,
          206.64197,
          -142.33789,
          -12.389417,
          159.1242,
          137.38399,
          -55.34536,
          220.10713,
          -142.33789,
          -156.87251,
          190.58061,
          -32.475166,
          -142.33789,
          -168.6761,
          -168.6761,
          -172.01866,
          206.64197,
          -92.43876,
          -220.64085,
          107.56521,
          163.53307,
          -124.15757,
          -169.63155,
          137.38399,
          180.8875,
          220.10713,
          137.38399,
          163.53307,
          -169.63155,
          -168.6761,
          -169.63155,
          -168.6761,
          107.56521,
          61.64189,
          -22.557358,
          -220.64085,
          137.38399,
          -142.33789,
          -119.60795,
          57.342854,
          -142.33789,
          68.59812,
          -92.43876,
          -220.64085,
          -142.33789,
          -22.557358,
          -220.64085,
          107.56521,
          68.59812,
          137.38399,
          -34.118137
         ],
         "xaxis": "x",
         "y": [
          -241.5824,
          91.144356,
          -29.788715,
          58.275524,
          -159.24646,
          -205.86229,
          -159.24646,
          -56.41033,
          137.41856,
          -197.99689,
          206.19753,
          58.275524,
          -159.24646,
          172.46599,
          222.53918,
          -153.86922,
          -73.77386,
          206.19753,
          -222.36655,
          39.136177,
          206.19753,
          135.32426,
          -40.716263,
          -241.5824,
          -128.77158,
          -197.99689,
          206.19753,
          153.09297,
          -205.86229,
          -245.33272,
          -153.86922,
          206.19753,
          -241.5824,
          -105.02395,
          -197.99689,
          222.53918,
          135.32426,
          206.19753,
          119.11824,
          36.77537,
          -42.840733,
          206.19753,
          -159.24646,
          -159.24646,
          -193.28726,
          -153.86922,
          -127.36826,
          -128.77158,
          224.96501,
          202.03049,
          86.15906,
          58.275524,
          -197.99689,
          -49.832245,
          135.32426,
          -197.99689,
          202.03049,
          58.275524,
          -159.24646,
          58.275524,
          -159.24646,
          224.96501,
          -131.52948,
          -222.36655,
          -128.77158,
          -197.99689,
          206.19753,
          56.44846,
          188.06071,
          206.19753,
          -229.03726,
          -127.36826,
          -128.77158,
          206.19753,
          -222.36655,
          -128.77158,
          224.96501,
          -229.03726,
          -197.99689,
          -240.88574
         ],
         "yaxis": "y"
        },
        {
         "customdata": [
          [
           "najbardziej",
           "NEU"
          ],
          [
           "pokrowiec",
           "NEU"
          ],
          [
           "wygląda",
           "NEU"
          ],
          [
           "chociaż",
           "NEU"
          ],
          [
           "wolałbym",
           "NEU"
          ],
          [
           "gdyby",
           "NEU"
          ],
          [
           "był",
           "NEU"
          ],
          [
           "matowy",
           "NEU"
          ],
          [
           "inna",
           "NEU"
          ],
          [
           "kwestia",
           "NEU"
          ],
          [
           "także",
           "NEU"
          ],
          [
           "sztywno",
           "NEU"
          ],
          [
           "trzyma",
           "NEU"
          ],
          [
           "pada",
           "NEU"
          ],
          [
           "Jedyny",
           "NEU"
          ],
          [
           "drobny",
           "NEU"
          ],
          [
           "zamek",
           "NEU"
          ],
          [
           "błyskawiczny",
           "NEU"
          ],
          [
           "otwarciu",
           "NEU"
          ],
          [
           "sposób",
           "NEU"
          ],
          [
           "rozkłada",
           "NEU"
          ],
          [
           "można",
           "NEU"
          ],
          [
           "samemu",
           "NEU"
          ],
          [
           "sobie",
           "NEU"
          ],
          [
           "poprawić",
           "NEU"
          ],
          [
           "nie",
           "NEU"
          ],
          [
           "wpływa",
           "NEU"
          ],
          [
           "to",
           "NEU"
          ],
          [
           "na",
           "NEU"
          ],
          [
           "nic",
           "NEU"
          ],
          [
           "Etui",
           "NEU"
          ],
          [
           "rzut",
           "NEU"
          ],
          [
           "oka",
           "NEU"
          ],
          [
           "wydaje",
           "NEU"
          ],
          [
           "bardzo",
           "NEU"
          ],
          [
           "wykonane",
           "NEU"
          ],
          [
           "użytku",
           "NEU"
          ],
          [
           "Przednia",
           "NEU"
          ],
          [
           "część",
           "NEU"
          ],
          [
           "etui",
           "NEU"
          ],
          [
           "sztywna",
           "NEU"
          ],
          [
           "twarda",
           "NEU"
          ],
          [
           "powoduje",
           "NEU"
          ],
          [
           "przypadku",
           "NEU"
          ],
          [
           "dostania",
           "NEU"
          ],
          [
           "wyświetlacz",
           "NEU"
          ],
          [
           "etui",
           "NEU"
          ],
          [
           "tygodniu",
           "NEU"
          ],
          [
           "użytkowania",
           "NEU"
          ],
          [
           "szkło",
           "NEU"
          ],
          [
           "wyświetlaczu",
           "NEU"
          ],
          [
           "nadawało",
           "NEU"
          ],
          [
           "telefonu",
           "NEU"
          ],
          [
           "Aplikacja",
           "NEU"
          ],
          [
           "Statyw",
           "NEU"
          ],
          [
           "wykonany",
           "NEU"
          ],
          [
           "mojemu",
           "NEU"
          ],
          [
           "zdziwieniu",
           "NEU"
          ],
          [
           "statywy",
           "NEU"
          ],
          [
           "przedziale",
           "NEU"
          ],
          [
           "cenowym",
           "NEU"
          ],
          [
           "mają",
           "NEU"
          ],
          [
           "skłonności",
           "NEU"
          ],
          [
           "podłoże",
           "NEU"
          ],
          [
           "płaskie",
           "NEU"
          ],
          [
           "dopatrzyłem",
           "NEU"
          ],
          [
           "głowica",
           "NEU"
          ],
          [
           "płynną",
           "NEU"
          ],
          [
           "pracę",
           "NEU"
          ],
          [
           "płynny",
           "NEU"
          ],
          [
           "ruch",
           "NEU"
          ],
          [
           "nagrywanie",
           "NEU"
          ],
          [
           "filmów",
           "NEU"
          ],
          [
           "tego",
           "NEU"
          ],
          [
           "statywu",
           "NEU"
          ],
          [
           "może",
           "NEU"
          ],
          [
           "być",
           "NEU"
          ],
          [
           "przepraszam",
           "NEU"
          ],
          [
           "dlugo",
           "NEU"
          ],
          [
           "nie",
           "NEU"
          ],
          [
           "odpowiadalem",
           "NEU"
          ],
          [
           "produkt",
           "NEU"
          ],
          [
           "jest",
           "NEU"
          ],
          [
           "oprocz",
           "NEU"
          ],
          [
           "kuchi",
           "NEU"
          ],
          [
           "jest",
           "NEU"
          ],
          [
           "soki",
           "NEU"
          ],
          [
           "zawiozlem",
           "NEU"
          ],
          [
           "pracy",
           "NEU"
          ],
          [
           "zostaly",
           "NEU"
          ],
          [
           "krotkiej",
           "NEU"
          ],
          [
           "chwili",
           "NEU"
          ],
          [
           "jedyna",
           "NEU"
          ],
          [
           "jest",
           "NEU"
          ],
          [
           "schowa",
           "NEU"
          ],
          [
           "nawet",
           "NEU"
          ],
          [
           "cegly",
           "NEU"
          ],
          [
           "brac",
           "NEU"
          ],
          [
           "okie",
           "NEU"
          ],
          [
           "jesze",
           "NEU"
          ],
          [
           "opakowania",
           "NEU"
          ],
          [
           "instrukcji",
           "NEU"
          ],
          [
           "przez",
           "NEU"
          ],
          [
           "występują",
           "NEU"
          ],
          [
           "identyfikacji",
           "NEU"
          ],
          [
           "sterowników",
           "NEU"
          ],
          [
           "automatycznie",
           "NEU"
          ],
          [
           "Win7",
           "NEU"
          ],
          [
           "uśpieniu",
           "NEU"
          ],
          [
           "sterowniki",
           "NEU"
          ],
          [
           "sieć",
           "NEU"
          ],
          [
           "użytkowanie",
           "NEU"
          ],
          [
           "Prawdopodobnie",
           "NEU"
          ],
          [
           "produkt",
           "NEU"
          ],
          [
           "zwrocie",
           "NEU"
          ],
          [
           "pełni",
           "NEU"
          ],
          [
           "sprawny",
           "NEU"
          ],
          [
           "Bez",
           "NEU"
          ],
          [
           "anteny",
           "NEU"
          ],
          [
           "zasięg",
           "NEU"
          ]
         ],
         "hovertemplate": "Annotation=NEU<br>t-SNE 1=%{x}<br>t-SNE 2=%{y}<br>word=%{customdata[0]}<br>annotation=%{customdata[1]}<extra></extra>",
         "legendgroup": "NEU",
         "marker": {
          "color": "#ab63fa",
          "line": {
           "color": "DarkSlateGrey",
           "width": 1
          },
          "opacity": 0.8,
          "size": 10,
          "symbol": "circle"
         },
         "mode": "markers",
         "name": "NEU",
         "orientation": "v",
         "showlegend": true,
         "type": "scatter",
         "x": [
          26.51044,
          95.15874,
          -38.812138,
          -28.449347,
          -27.655867,
          -135.0843,
          -172.66785,
          37.144875,
          -49.034767,
          -10.603522,
          -101.33011,
          -54.564472,
          224.02138,
          47.267822,
          200.73929,
          -22.970903,
          87.12031,
          23.407967,
          35.32768,
          11.119867,
          -12.218733,
          -70.861694,
          5.52126,
          -13.10686,
          -17.286436,
          -243.04987,
          -39.96737,
          -168.6761,
          206.64197,
          -280.08246,
          243.58186,
          32.450012,
          175.0587,
          -84.16718,
          -102.96068,
          103.73301,
          -86.596596,
          18.98048,
          -31.83249,
          246.92572,
          44.090076,
          54.87883,
          -39.727947,
          9.137423,
          -60.918785,
          82.32439,
          246.92572,
          44.713226,
          52.631187,
          164.51213,
          81.16957,
          -13.503403,
          64.39042,
          71.64385,
          223.61176,
          90.93571,
          86.05415,
          145.67714,
          234.61717,
          100.58677,
          117.14319,
          -115.951004,
          -3.0282786,
          152.42989,
          141.5769,
          -7.773597,
          119.11342,
          7.541442,
          91.744225,
          12.323758,
          2.8035944,
          39.00454,
          120.13561,
          -102.146286,
          244.30069,
          -168.16954,
          -191.90517,
          12.63869,
          192.08418,
          -243.04987,
          70.19335,
          61.802654,
          -185.12202,
          158.54291,
          44.483906,
          -185.12202,
          124.91455,
          86.88578,
          3.4536307,
          164.00018,
          15.471137,
          -52.952705,
          -39.000263,
          -179.5546,
          133.19615,
          -78.73723,
          128.875,
          185.62375,
          152.65993,
          -117.04102,
          80.272736,
          68.159035,
          -83.23712,
          -23.76565,
          47.757824,
          90.40266,
          32.4515,
          93.46511,
          136.30795,
          104.69952,
          79.67708,
          45.6154,
          25.207737,
          59.999058,
          57.406208,
          -83.436806,
          13.996127,
          -111.61372,
          71.00038,
          -1.1528113
         ],
         "xaxis": "x",
         "y": [
          31.088497,
          -54.31888,
          101.558395,
          37.982903,
          54.900707,
          122.14643,
          -69.480995,
          -119.50166,
          150.14293,
          150.06055,
          51.308098,
          -85.82138,
          -16.66624,
          92.9941,
          21.57028,
          -99.16197,
          -110.929,
          -53.57117,
          117.354485,
          -71.6557,
          -30.357706,
          26.033602,
          112.25787,
          117.61936,
          -8.370681,
          75.10917,
          -18.489332,
          -159.24646,
          -153.86922,
          73.28514,
          -84.859535,
          -90.01888,
          73.29451,
          0.44083345,
          87.54642,
          -79.14087,
          -32.302353,
          52.605824,
          177.5862,
          -65.39222,
          -164.86618,
          -175.21933,
          0.6534943,
          34.15665,
          -36.849846,
          -37.408264,
          -65.39222,
          -50.663044,
          1.9083999,
          10.512041,
          -23.846437,
          86.38066,
          -40.733334,
          84.24306,
          68.105835,
          -82.15768,
          132.68349,
          -85.776405,
          51.43632,
          17.77683,
          16.144953,
          -14.493298,
          49.51459,
          36.968613,
          11.758079,
          26.819431,
          -103.29426,
          -169.90111,
          165.1937,
          -110.61825,
          -89.299675,
          -28.549637,
          69.312225,
          126.422676,
          60.696438,
          0.78979445,
          -2.228157,
          0.020707931,
          -83.58942,
          75.10917,
          -3.5200922,
          -87.460625,
          -46.38442,
          -21.880203,
          228.78381,
          -46.38442,
          41.948616,
          -3.3897474,
          70.91208,
          -55.815563,
          -33.11639,
          50.96459,
          136.12314,
          -27.738495,
          -132.08324,
          52.454826,
          -11.605111,
          -15.545892,
          65.927956,
          -46.403908,
          17.553394,
          34.94457,
          -138.99597,
          14.621772,
          30.402397,
          42.7769,
          2.069877,
          69.42667,
          94.24514,
          45.44192,
          101.63539,
          -9.802237,
          14.937612,
          -99.19803,
          121.55505,
          152.15125,
          -138.40579,
          -82.61991,
          -60.660522,
          -52.59337
         ],
         "yaxis": "y"
        }
       ],
       "layout": {
        "coloraxis": {
         "colorbar": {
          "title": {
           "text": "Annotation"
          }
         }
        },
        "height": 800,
        "legend": {
         "title": {
          "text": "Annotation"
         },
         "tracegroupgap": 0
        },
        "template": {
         "data": {
          "bar": [
           {
            "error_x": {
             "color": "#2a3f5f"
            },
            "error_y": {
             "color": "#2a3f5f"
            },
            "marker": {
             "line": {
              "color": "white",
              "width": 0.5
             },
             "pattern": {
              "fillmode": "overlay",
              "size": 10,
              "solidity": 0.2
             }
            },
            "type": "bar"
           }
          ],
          "barpolar": [
           {
            "marker": {
             "line": {
              "color": "white",
              "width": 0.5
             },
             "pattern": {
              "fillmode": "overlay",
              "size": 10,
              "solidity": 0.2
             }
            },
            "type": "barpolar"
           }
          ],
          "carpet": [
           {
            "aaxis": {
             "endlinecolor": "#2a3f5f",
             "gridcolor": "#C8D4E3",
             "linecolor": "#C8D4E3",
             "minorgridcolor": "#C8D4E3",
             "startlinecolor": "#2a3f5f"
            },
            "baxis": {
             "endlinecolor": "#2a3f5f",
             "gridcolor": "#C8D4E3",
             "linecolor": "#C8D4E3",
             "minorgridcolor": "#C8D4E3",
             "startlinecolor": "#2a3f5f"
            },
            "type": "carpet"
           }
          ],
          "choropleth": [
           {
            "colorbar": {
             "outlinewidth": 0,
             "ticks": ""
            },
            "type": "choropleth"
           }
          ],
          "contour": [
           {
            "colorbar": {
             "outlinewidth": 0,
             "ticks": ""
            },
            "colorscale": [
             [
              0,
              "#0d0887"
             ],
             [
              0.1111111111111111,
              "#46039f"
             ],
             [
              0.2222222222222222,
              "#7201a8"
             ],
             [
              0.3333333333333333,
              "#9c179e"
             ],
             [
              0.4444444444444444,
              "#bd3786"
             ],
             [
              0.5555555555555556,
              "#d8576b"
             ],
             [
              0.6666666666666666,
              "#ed7953"
             ],
             [
              0.7777777777777778,
              "#fb9f3a"
             ],
             [
              0.8888888888888888,
              "#fdca26"
             ],
             [
              1,
              "#f0f921"
             ]
            ],
            "type": "contour"
           }
          ],
          "contourcarpet": [
           {
            "colorbar": {
             "outlinewidth": 0,
             "ticks": ""
            },
            "type": "contourcarpet"
           }
          ],
          "heatmap": [
           {
            "colorbar": {
             "outlinewidth": 0,
             "ticks": ""
            },
            "colorscale": [
             [
              0,
              "#0d0887"
             ],
             [
              0.1111111111111111,
              "#46039f"
             ],
             [
              0.2222222222222222,
              "#7201a8"
             ],
             [
              0.3333333333333333,
              "#9c179e"
             ],
             [
              0.4444444444444444,
              "#bd3786"
             ],
             [
              0.5555555555555556,
              "#d8576b"
             ],
             [
              0.6666666666666666,
              "#ed7953"
             ],
             [
              0.7777777777777778,
              "#fb9f3a"
             ],
             [
              0.8888888888888888,
              "#fdca26"
             ],
             [
              1,
              "#f0f921"
             ]
            ],
            "type": "heatmap"
           }
          ],
          "heatmapgl": [
           {
            "colorbar": {
             "outlinewidth": 0,
             "ticks": ""
            },
            "colorscale": [
             [
              0,
              "#0d0887"
             ],
             [
              0.1111111111111111,
              "#46039f"
             ],
             [
              0.2222222222222222,
              "#7201a8"
             ],
             [
              0.3333333333333333,
              "#9c179e"
             ],
             [
              0.4444444444444444,
              "#bd3786"
             ],
             [
              0.5555555555555556,
              "#d8576b"
             ],
             [
              0.6666666666666666,
              "#ed7953"
             ],
             [
              0.7777777777777778,
              "#fb9f3a"
             ],
             [
              0.8888888888888888,
              "#fdca26"
             ],
             [
              1,
              "#f0f921"
             ]
            ],
            "type": "heatmapgl"
           }
          ],
          "histogram": [
           {
            "marker": {
             "pattern": {
              "fillmode": "overlay",
              "size": 10,
              "solidity": 0.2
             }
            },
            "type": "histogram"
           }
          ],
          "histogram2d": [
           {
            "colorbar": {
             "outlinewidth": 0,
             "ticks": ""
            },
            "colorscale": [
             [
              0,
              "#0d0887"
             ],
             [
              0.1111111111111111,
              "#46039f"
             ],
             [
              0.2222222222222222,
              "#7201a8"
             ],
             [
              0.3333333333333333,
              "#9c179e"
             ],
             [
              0.4444444444444444,
              "#bd3786"
             ],
             [
              0.5555555555555556,
              "#d8576b"
             ],
             [
              0.6666666666666666,
              "#ed7953"
             ],
             [
              0.7777777777777778,
              "#fb9f3a"
             ],
             [
              0.8888888888888888,
              "#fdca26"
             ],
             [
              1,
              "#f0f921"
             ]
            ],
            "type": "histogram2d"
           }
          ],
          "histogram2dcontour": [
           {
            "colorbar": {
             "outlinewidth": 0,
             "ticks": ""
            },
            "colorscale": [
             [
              0,
              "#0d0887"
             ],
             [
              0.1111111111111111,
              "#46039f"
             ],
             [
              0.2222222222222222,
              "#7201a8"
             ],
             [
              0.3333333333333333,
              "#9c179e"
             ],
             [
              0.4444444444444444,
              "#bd3786"
             ],
             [
              0.5555555555555556,
              "#d8576b"
             ],
             [
              0.6666666666666666,
              "#ed7953"
             ],
             [
              0.7777777777777778,
              "#fb9f3a"
             ],
             [
              0.8888888888888888,
              "#fdca26"
             ],
             [
              1,
              "#f0f921"
             ]
            ],
            "type": "histogram2dcontour"
           }
          ],
          "mesh3d": [
           {
            "colorbar": {
             "outlinewidth": 0,
             "ticks": ""
            },
            "type": "mesh3d"
           }
          ],
          "parcoords": [
           {
            "line": {
             "colorbar": {
              "outlinewidth": 0,
              "ticks": ""
             }
            },
            "type": "parcoords"
           }
          ],
          "pie": [
           {
            "automargin": true,
            "type": "pie"
           }
          ],
          "scatter": [
           {
            "fillpattern": {
             "fillmode": "overlay",
             "size": 10,
             "solidity": 0.2
            },
            "type": "scatter"
           }
          ],
          "scatter3d": [
           {
            "line": {
             "colorbar": {
              "outlinewidth": 0,
              "ticks": ""
             }
            },
            "marker": {
             "colorbar": {
              "outlinewidth": 0,
              "ticks": ""
             }
            },
            "type": "scatter3d"
           }
          ],
          "scattercarpet": [
           {
            "marker": {
             "colorbar": {
              "outlinewidth": 0,
              "ticks": ""
             }
            },
            "type": "scattercarpet"
           }
          ],
          "scattergeo": [
           {
            "marker": {
             "colorbar": {
              "outlinewidth": 0,
              "ticks": ""
             }
            },
            "type": "scattergeo"
           }
          ],
          "scattergl": [
           {
            "marker": {
             "colorbar": {
              "outlinewidth": 0,
              "ticks": ""
             }
            },
            "type": "scattergl"
           }
          ],
          "scattermapbox": [
           {
            "marker": {
             "colorbar": {
              "outlinewidth": 0,
              "ticks": ""
             }
            },
            "type": "scattermapbox"
           }
          ],
          "scatterpolar": [
           {
            "marker": {
             "colorbar": {
              "outlinewidth": 0,
              "ticks": ""
             }
            },
            "type": "scatterpolar"
           }
          ],
          "scatterpolargl": [
           {
            "marker": {
             "colorbar": {
              "outlinewidth": 0,
              "ticks": ""
             }
            },
            "type": "scatterpolargl"
           }
          ],
          "scatterternary": [
           {
            "marker": {
             "colorbar": {
              "outlinewidth": 0,
              "ticks": ""
             }
            },
            "type": "scatterternary"
           }
          ],
          "surface": [
           {
            "colorbar": {
             "outlinewidth": 0,
             "ticks": ""
            },
            "colorscale": [
             [
              0,
              "#0d0887"
             ],
             [
              0.1111111111111111,
              "#46039f"
             ],
             [
              0.2222222222222222,
              "#7201a8"
             ],
             [
              0.3333333333333333,
              "#9c179e"
             ],
             [
              0.4444444444444444,
              "#bd3786"
             ],
             [
              0.5555555555555556,
              "#d8576b"
             ],
             [
              0.6666666666666666,
              "#ed7953"
             ],
             [
              0.7777777777777778,
              "#fb9f3a"
             ],
             [
              0.8888888888888888,
              "#fdca26"
             ],
             [
              1,
              "#f0f921"
             ]
            ],
            "type": "surface"
           }
          ],
          "table": [
           {
            "cells": {
             "fill": {
              "color": "#EBF0F8"
             },
             "line": {
              "color": "white"
             }
            },
            "header": {
             "fill": {
              "color": "#C8D4E3"
             },
             "line": {
              "color": "white"
             }
            },
            "type": "table"
           }
          ]
         },
         "layout": {
          "annotationdefaults": {
           "arrowcolor": "#2a3f5f",
           "arrowhead": 0,
           "arrowwidth": 1
          },
          "autotypenumbers": "strict",
          "coloraxis": {
           "colorbar": {
            "outlinewidth": 0,
            "ticks": ""
           }
          },
          "colorscale": {
           "diverging": [
            [
             0,
             "#8e0152"
            ],
            [
             0.1,
             "#c51b7d"
            ],
            [
             0.2,
             "#de77ae"
            ],
            [
             0.3,
             "#f1b6da"
            ],
            [
             0.4,
             "#fde0ef"
            ],
            [
             0.5,
             "#f7f7f7"
            ],
            [
             0.6,
             "#e6f5d0"
            ],
            [
             0.7,
             "#b8e186"
            ],
            [
             0.8,
             "#7fbc41"
            ],
            [
             0.9,
             "#4d9221"
            ],
            [
             1,
             "#276419"
            ]
           ],
           "sequential": [
            [
             0,
             "#0d0887"
            ],
            [
             0.1111111111111111,
             "#46039f"
            ],
            [
             0.2222222222222222,
             "#7201a8"
            ],
            [
             0.3333333333333333,
             "#9c179e"
            ],
            [
             0.4444444444444444,
             "#bd3786"
            ],
            [
             0.5555555555555556,
             "#d8576b"
            ],
            [
             0.6666666666666666,
             "#ed7953"
            ],
            [
             0.7777777777777778,
             "#fb9f3a"
            ],
            [
             0.8888888888888888,
             "#fdca26"
            ],
            [
             1,
             "#f0f921"
            ]
           ],
           "sequentialminus": [
            [
             0,
             "#0d0887"
            ],
            [
             0.1111111111111111,
             "#46039f"
            ],
            [
             0.2222222222222222,
             "#7201a8"
            ],
            [
             0.3333333333333333,
             "#9c179e"
            ],
            [
             0.4444444444444444,
             "#bd3786"
            ],
            [
             0.5555555555555556,
             "#d8576b"
            ],
            [
             0.6666666666666666,
             "#ed7953"
            ],
            [
             0.7777777777777778,
             "#fb9f3a"
            ],
            [
             0.8888888888888888,
             "#fdca26"
            ],
            [
             1,
             "#f0f921"
            ]
           ]
          },
          "colorway": [
           "#636efa",
           "#EF553B",
           "#00cc96",
           "#ab63fa",
           "#FFA15A",
           "#19d3f3",
           "#FF6692",
           "#B6E880",
           "#FF97FF",
           "#FECB52"
          ],
          "font": {
           "color": "#2a3f5f"
          },
          "geo": {
           "bgcolor": "white",
           "lakecolor": "white",
           "landcolor": "white",
           "showlakes": true,
           "showland": true,
           "subunitcolor": "#C8D4E3"
          },
          "hoverlabel": {
           "align": "left"
          },
          "hovermode": "closest",
          "mapbox": {
           "style": "light"
          },
          "paper_bgcolor": "white",
          "plot_bgcolor": "white",
          "polar": {
           "angularaxis": {
            "gridcolor": "#EBF0F8",
            "linecolor": "#EBF0F8",
            "ticks": ""
           },
           "bgcolor": "white",
           "radialaxis": {
            "gridcolor": "#EBF0F8",
            "linecolor": "#EBF0F8",
            "ticks": ""
           }
          },
          "scene": {
           "xaxis": {
            "backgroundcolor": "white",
            "gridcolor": "#DFE8F3",
            "gridwidth": 2,
            "linecolor": "#EBF0F8",
            "showbackground": true,
            "ticks": "",
            "zerolinecolor": "#EBF0F8"
           },
           "yaxis": {
            "backgroundcolor": "white",
            "gridcolor": "#DFE8F3",
            "gridwidth": 2,
            "linecolor": "#EBF0F8",
            "showbackground": true,
            "ticks": "",
            "zerolinecolor": "#EBF0F8"
           },
           "zaxis": {
            "backgroundcolor": "white",
            "gridcolor": "#DFE8F3",
            "gridwidth": 2,
            "linecolor": "#EBF0F8",
            "showbackground": true,
            "ticks": "",
            "zerolinecolor": "#EBF0F8"
           }
          },
          "shapedefaults": {
           "line": {
            "color": "#2a3f5f"
           }
          },
          "ternary": {
           "aaxis": {
            "gridcolor": "#DFE8F3",
            "linecolor": "#A2B1C6",
            "ticks": ""
           },
           "baxis": {
            "gridcolor": "#DFE8F3",
            "linecolor": "#A2B1C6",
            "ticks": ""
           },
           "bgcolor": "white",
           "caxis": {
            "gridcolor": "#DFE8F3",
            "linecolor": "#A2B1C6",
            "ticks": ""
           }
          },
          "title": {
           "x": 0.05
          },
          "xaxis": {
           "automargin": true,
           "gridcolor": "#EBF0F8",
           "linecolor": "#EBF0F8",
           "ticks": "",
           "title": {
            "standoff": 15
           },
           "zerolinecolor": "#EBF0F8",
           "zerolinewidth": 2
          },
          "yaxis": {
           "automargin": true,
           "gridcolor": "#EBF0F8",
           "linecolor": "#EBF0F8",
           "ticks": "",
           "title": {
            "standoff": 15
           },
           "zerolinecolor": "#EBF0F8",
           "zerolinewidth": 2
          }
         }
        },
        "title": {
         "font": {
          "size": 20
         },
         "text": "t-SNE - NLTK word tokenization - FastText embeddings",
         "x": 0.5
        },
        "width": 1200,
        "xaxis": {
         "anchor": "y",
         "domain": [
          0,
          1
         ],
         "showgrid": false,
         "title": {
          "text": "t-SNE 1"
         }
        },
        "yaxis": {
         "anchor": "x",
         "domain": [
          0,
          1
         ],
         "showgrid": false,
         "title": {
          "text": "t-SNE 2"
         }
        }
       }
      }
     },
     "metadata": {},
     "output_type": "display_data"
    }
   ],
   "source": [
    "fig = px.scatter(\n",
    "    x=vectors_fasttext_embedded[:, 0],\n",
    "    y=vectors_fasttext_embedded[:, 1],\n",
    "    color=annotations_fasttext,\n",
    "    hover_data={\"word\": words_used_fasttext, \"annotation\": annotations_fasttext},\n",
    "    title=\"t-SNE - NLTK word tokenization - FastText embeddings\",\n",
    "    labels={\"color\": \"Annotation\", \"x\": \"t-SNE 1\", \"y\": \"t-SNE 2\"},\n",
    "    color_continuous_scale=px.colors.sequential.Viridis,\n",
    "    template=\"plotly_white\",\n",
    ")\n",
    "\n",
    "fig.update_traces(\n",
    "    marker=dict(size=10, opacity=0.8, line=dict(width=1, color=\"DarkSlateGrey\"))\n",
    ")\n",
    "fig.update_layout(\n",
    "    title_font_size=20,\n",
    "    title_x=0.5,\n",
    "    xaxis=dict(showgrid=False),\n",
    "    yaxis=dict(showgrid=False),\n",
    "    coloraxis_colorbar=dict(title=\"Annotation\"),\n",
    "    legend_title_text=\"Annotation\",\n",
    "    width=1200,\n",
    "    height=800,\n",
    ")\n",
    "\n",
    "fig.show()"
   ]
  },
  {
   "cell_type": "code",
   "execution_count": 7,
   "metadata": {},
   "outputs": [
    {
     "data": {
      "text/plain": [
       "261"
      ]
     },
     "execution_count": 7,
     "metadata": {},
     "output_type": "execute_result"
    }
   ],
   "source": [
    "len(vectors_fasttext_embedded[:, 1])"
   ]
  },
  {
   "cell_type": "markdown",
   "metadata": {},
   "source": [
    "# 2. Word2Vec embedding"
   ]
  },
  {
   "cell_type": "code",
   "execution_count": 9,
   "metadata": {},
   "outputs": [],
   "source": [
    "# vectorize the words with Word2Vec\n",
    "vectors_word2vec = []\n",
    "annotations_word2vec = (\n",
    "    []\n",
    ")  # annotations for words that have a vector in word2vec (some words may not have a vector)\n",
    "words_used_word2vec = []  # words that have a vector in word2vec\n",
    "\n",
    "for idx, word in enumerate(data['word']):\n",
    "    if model_word2vec.has_index_for(word):\n",
    "        vectorized = model_word2vec.get_vector(word)\n",
    "        vectors_word2vec.append(vectorized)\n",
    "        annotations_word2vec.append(data['target'].iloc[idx])\n",
    "        words_used_word2vec.append(word)\n",
    "\n",
    "vectors_word2vec = np.array(vectors_word2vec)\n",
    "annotations_word2vec = np.array(annotations_word2vec)\n",
    "\n",
    "np.save(\"word_vectors_word2vec.npy\", vectors_word2vec)\n",
    "np.save(\"word_annotations_word2vec.npy\", annotations_word2vec)\n",
    "np.save(\"words_used_word2vec.npy\", words_used_word2vec)"
   ]
  },
  {
   "cell_type": "code",
   "execution_count": 6,
   "metadata": {},
   "outputs": [],
   "source": [
    "vectors_word2vec = np.load(\"word_vectors_word2vec.npy\")\n",
    "annotations_word2vec = np.load(\"word_annotations_word2vec.npy\")\n",
    "words_used_word2vec = np.load(\"words_used_word2vec.npy\")"
   ]
  },
  {
   "cell_type": "code",
   "execution_count": 22,
   "metadata": {},
   "outputs": [],
   "source": [
    "# reduce dimensionality\n",
    "tsne_word2vec = TSNE(n_components=2, random_state=42)\n",
    "vectors_word2vec_embedded = tsne_fasttext.fit_transform(vectors_word2vec)"
   ]
  },
  {
   "cell_type": "code",
   "execution_count": 26,
   "metadata": {},
   "outputs": [
    {
     "data": {
      "application/vnd.plotly.v1+json": {
       "config": {
        "plotlyServerURL": "https://plot.ly"
       },
       "data": [
        {
         "customdata": [
          [
           "nie",
           "POS"
          ],
          [
           "mam",
           "POS"
          ],
          [
           "żadnych",
           "POS"
          ],
          [
           "zastrzeżeń",
           "POS"
          ],
          [
           "polecam",
           "POS"
          ],
          [
           "solidny",
           "POS"
          ],
          [
           "świetnie",
           "POS"
          ],
          [
           "ładne",
           "POS"
          ],
          [
           "dobrze",
           "POS"
          ],
          [
           "fajnie",
           "POS"
          ],
          [
           "wysoki",
           "POS"
          ],
          [
           "stabilny",
           "POS"
          ],
          [
           "de",
           "POS"
          ],
          [
           "best",
           "POS"
          ],
          [
           "ok",
           "POS"
          ],
          [
           "nie",
           "POS"
          ],
          [
           "problem",
           "POS"
          ],
          [
           "polecam",
           "POS"
          ],
          [
           "zmieli",
           "POS"
          ],
          [
           "wszystko",
           "POS"
          ],
          [
           "poleca",
           "POS"
          ],
          [
           "pozdrawiam",
           "POS"
          ]
         ],
         "hovertemplate": "Annotation=POS<br>t-SNE 1=%{x}<br>t-SNE 2=%{y}<br>word=%{customdata[0]}<br>annotation=%{customdata[1]}<extra></extra>",
         "legendgroup": "POS",
         "marker": {
          "color": "#636efa",
          "line": {
           "color": "DarkSlateGrey",
           "width": 1
          },
          "opacity": 0.8,
          "size": 10,
          "symbol": "circle"
         },
         "mode": "markers",
         "name": "POS",
         "orientation": "v",
         "showlegend": true,
         "type": "scatter",
         "x": [
          66.60636,
          22.440708,
          103.513824,
          -32.98996,
          39.573784,
          82.09839,
          95.63842,
          0.43713623,
          86.16732,
          80.464874,
          101.217224,
          96.67274,
          -137.99474,
          16.697126,
          -33.177456,
          76.20997,
          -160.46301,
          34.924213,
          -12.750486,
          59.289043,
          50.549633,
          -74.732864
         ],
         "xaxis": "x",
         "y": [
          119.85327,
          -101.403366,
          130.89769,
          128.92245,
          -81.690796,
          21.747526,
          78.80229,
          38.496643,
          80.142075,
          68.198456,
          40.152706,
          25.922106,
          -24.110338,
          68.49874,
          -81.700745,
          125.66498,
          37.299988,
          -75.33247,
          -15.813633,
          87.31602,
          -69.3427,
          95.57964
         ],
         "yaxis": "y"
        },
        {
         "customdata": [
          [
           "i",
           "O"
          ],
          [
           "jak",
           "O"
          ],
          [
           "jest",
           "O"
          ],
          [
           "ale",
           "O"
          ],
          [
           "to",
           "O"
          ],
          [
           "a",
           "O"
          ],
          [
           "to",
           "O"
          ],
          [
           "który",
           "O"
          ],
          [
           "przy",
           "O"
          ],
          [
           "w",
           "O"
          ],
          [
           "się",
           "O"
          ],
          [
           "ale",
           "O"
          ],
          [
           "to",
           "O"
          ],
          [
           "poza",
           "O"
          ],
          [
           "tym",
           "O"
          ],
          [
           "na",
           "O"
          ],
          [
           "pierwszy",
           "O"
          ],
          [
           "się",
           "O"
          ],
          [
           "i",
           "O"
          ],
          [
           "lecz",
           "O"
          ],
          [
           "się",
           "O"
          ],
          [
           "do",
           "O"
          ],
          [
           "jest",
           "O"
          ],
          [
           "i",
           "O"
          ],
          [
           "co",
           "O"
          ],
          [
           "w",
           "O"
          ],
          [
           "się",
           "O"
          ],
          [
           "pomiędzy",
           "O"
          ],
          [
           "a",
           "O"
          ],
          [
           "Po",
           "O"
          ],
          [
           "na",
           "O"
          ],
          [
           "się",
           "O"
          ],
          [
           "i",
           "O"
          ],
          [
           "ku",
           "O"
          ],
          [
           "w",
           "O"
          ],
          [
           "tym",
           "O"
          ],
          [
           "do",
           "O"
          ],
          [
           "się",
           "O"
          ],
          [
           "gdy",
           "O"
          ],
          [
           "którego",
           "O"
          ],
          [
           "się",
           "O"
          ],
          [
           "to",
           "O"
          ],
          [
           "to",
           "O"
          ],
          [
           "że",
           "O"
          ],
          [
           "na",
           "O"
          ],
          [
           "przez",
           "O"
          ],
          [
           "co",
           "O"
          ],
          [
           "z",
           "O"
          ],
          [
           "ze",
           "O"
          ],
          [
           "tak",
           "O"
          ],
          [
           "ale",
           "O"
          ],
          [
           "w",
           "O"
          ],
          [
           "ktore",
           "O"
          ],
          [
           "do",
           "O"
          ],
          [
           "w",
           "O"
          ],
          [
           "ze",
           "O"
          ],
          [
           "ale",
           "O"
          ],
          [
           "to",
           "O"
          ],
          [
           "ale",
           "O"
          ],
          [
           "to",
           "O"
          ],
          [
           "z",
           "O"
          ],
          [
           "raz",
           "O"
          ],
          [
           "i",
           "O"
          ],
          [
           "co",
           "O"
          ],
          [
           "w",
           "O"
          ],
          [
           "się",
           "O"
          ],
          [
           "też",
           "O"
          ],
          [
           "pod",
           "O"
          ],
          [
           "się",
           "O"
          ],
          [
           "po",
           "O"
          ],
          [
           "przez",
           "O"
          ],
          [
           "co",
           "O"
          ],
          [
           "się",
           "O"
          ],
          [
           "i",
           "O"
          ],
          [
           "co",
           "O"
          ],
          [
           "z",
           "O"
          ],
          [
           "po",
           "O"
          ],
          [
           "w",
           "O"
          ],
          [
           "i",
           "O"
          ]
         ],
         "hovertemplate": "Annotation=O<br>t-SNE 1=%{x}<br>t-SNE 2=%{y}<br>word=%{customdata[0]}<br>annotation=%{customdata[1]}<extra></extra>",
         "legendgroup": "O",
         "marker": {
          "color": "#EF553B",
          "line": {
           "color": "DarkSlateGrey",
           "width": 1
          },
          "opacity": 0.8,
          "size": 10,
          "symbol": "circle"
         },
         "mode": "markers",
         "name": "O",
         "orientation": "v",
         "showlegend": true,
         "type": "scatter",
         "x": [
          -56.79815,
          23.542772,
          36.941727,
          8.018769,
          33.57421,
          -47.552406,
          33.57421,
          -7.2700853,
          -35.04205,
          -54.45921,
          175.45177,
          16.214083,
          33.57421,
          -109.03514,
          -31.023153,
          -72.62025,
          74.34527,
          181.52435,
          -46.008488,
          -4.1613884,
          175.45177,
          -98.59322,
          49.51305,
          -46.008488,
          38.561146,
          -45.949787,
          175.45177,
          -99.53546,
          -57.566032,
          -9.436246,
          -72.62025,
          175.45177,
          -56.79815,
          -27.99017,
          -57.644,
          -31.023153,
          -98.59322,
          181.52435,
          2.562795,
          -7.8610377,
          175.45177,
          33.57421,
          33.57421,
          25.570978,
          -72.62025,
          -117.96788,
          38.561146,
          -84.14101,
          -142.85611,
          55.285675,
          16.214083,
          -42.75728,
          -51.81965,
          -98.59322,
          -63.298904,
          -150.6715,
          1.0507658,
          33.57421,
          8.358513,
          33.57421,
          -84.14101,
          -27.055231,
          -56.79815,
          38.561146,
          -66.49166,
          181.52435,
          29.277863,
          -107.38676,
          175.45177,
          -36.54221,
          -117.96788,
          38.561146,
          175.45177,
          -56.79815,
          38.561146,
          -84.14101,
          -36.54221,
          -51.663845,
          -62.442127
         ],
         "xaxis": "x",
         "y": [
          -74.71908,
          135.2563,
          -151.59496,
          104.83509,
          55.343525,
          -47.131516,
          55.343525,
          129.78926,
          -136.57684,
          -116.11507,
          -20.220842,
          113.94034,
          55.343525,
          -74.14542,
          186.56294,
          -148.36026,
          -13.381869,
          -4.3588514,
          -65.03662,
          101.165535,
          -20.220842,
          -122.41682,
          -157.70723,
          -65.03662,
          171.6253,
          -107.42858,
          -20.220842,
          -81.51915,
          -46.006523,
          -43.922802,
          -148.36026,
          -20.220842,
          -74.71908,
          -107.75476,
          -104.29695,
          186.56294,
          -122.41682,
          -4.3588514,
          144.85971,
          148.75113,
          -20.220842,
          55.343525,
          55.343525,
          154.53467,
          -148.36026,
          -157.26288,
          171.6253,
          -89.58814,
          98.104576,
          49.876972,
          113.94034,
          -119.49129,
          105.644844,
          -122.41682,
          -124.34217,
          95.77669,
          114.03524,
          55.343525,
          123.080246,
          55.343525,
          -89.58814,
          101.64848,
          -74.71908,
          171.6253,
          -112.71266,
          -4.3588514,
          87.15538,
          -94.945496,
          -20.220842,
          -155.75075,
          -157.26288,
          171.6253,
          -20.220842,
          -74.71908,
          171.6253,
          -89.58814,
          -155.75075,
          -128.11176,
          -61.79309
         ],
         "yaxis": "y"
        },
        {
         "customdata": [
          [
           "najbardziej",
           "NEU"
          ],
          [
           "pokrowiec",
           "NEU"
          ],
          [
           "wygląda",
           "NEU"
          ],
          [
           "chociaż",
           "NEU"
          ],
          [
           "gdyby",
           "NEU"
          ],
          [
           "był",
           "NEU"
          ],
          [
           "matowy",
           "NEU"
          ],
          [
           "inna",
           "NEU"
          ],
          [
           "kwestia",
           "NEU"
          ],
          [
           "także",
           "NEU"
          ],
          [
           "sztywno",
           "NEU"
          ],
          [
           "trzyma",
           "NEU"
          ],
          [
           "pada",
           "NEU"
          ],
          [
           "drobny",
           "NEU"
          ],
          [
           "zamek",
           "NEU"
          ],
          [
           "błyskawiczny",
           "NEU"
          ],
          [
           "otwarciu",
           "NEU"
          ],
          [
           "sposób",
           "NEU"
          ],
          [
           "rozkłada",
           "NEU"
          ],
          [
           "można",
           "NEU"
          ],
          [
           "samemu",
           "NEU"
          ],
          [
           "sobie",
           "NEU"
          ],
          [
           "poprawić",
           "NEU"
          ],
          [
           "nie",
           "NEU"
          ],
          [
           "wpływa",
           "NEU"
          ],
          [
           "to",
           "NEU"
          ],
          [
           "na",
           "NEU"
          ],
          [
           "nic",
           "NEU"
          ],
          [
           "rzut",
           "NEU"
          ],
          [
           "oka",
           "NEU"
          ],
          [
           "wydaje",
           "NEU"
          ],
          [
           "bardzo",
           "NEU"
          ],
          [
           "wykonane",
           "NEU"
          ],
          [
           "użytku",
           "NEU"
          ],
          [
           "część",
           "NEU"
          ],
          [
           "etui",
           "NEU"
          ],
          [
           "sztywna",
           "NEU"
          ],
          [
           "twarda",
           "NEU"
          ],
          [
           "powoduje",
           "NEU"
          ],
          [
           "przypadku",
           "NEU"
          ],
          [
           "dostania",
           "NEU"
          ],
          [
           "wyświetlacz",
           "NEU"
          ],
          [
           "etui",
           "NEU"
          ],
          [
           "tygodniu",
           "NEU"
          ],
          [
           "użytkowania",
           "NEU"
          ],
          [
           "szkło",
           "NEU"
          ],
          [
           "wyświetlaczu",
           "NEU"
          ],
          [
           "nadawało",
           "NEU"
          ],
          [
           "telefonu",
           "NEU"
          ],
          [
           "wykonany",
           "NEU"
          ],
          [
           "mojemu",
           "NEU"
          ],
          [
           "zdziwieniu",
           "NEU"
          ],
          [
           "statywy",
           "NEU"
          ],
          [
           "przedziale",
           "NEU"
          ],
          [
           "cenowym",
           "NEU"
          ],
          [
           "mają",
           "NEU"
          ],
          [
           "skłonności",
           "NEU"
          ],
          [
           "podłoże",
           "NEU"
          ],
          [
           "płaskie",
           "NEU"
          ],
          [
           "głowica",
           "NEU"
          ],
          [
           "płynną",
           "NEU"
          ],
          [
           "pracę",
           "NEU"
          ],
          [
           "płynny",
           "NEU"
          ],
          [
           "ruch",
           "NEU"
          ],
          [
           "nagrywanie",
           "NEU"
          ],
          [
           "filmów",
           "NEU"
          ],
          [
           "tego",
           "NEU"
          ],
          [
           "statywu",
           "NEU"
          ],
          [
           "może",
           "NEU"
          ],
          [
           "być",
           "NEU"
          ],
          [
           "przepraszam",
           "NEU"
          ],
          [
           "dlugo",
           "NEU"
          ],
          [
           "nie",
           "NEU"
          ],
          [
           "odpowiadalem",
           "NEU"
          ],
          [
           "produkt",
           "NEU"
          ],
          [
           "jest",
           "NEU"
          ],
          [
           "oprocz",
           "NEU"
          ],
          [
           "kuchi",
           "NEU"
          ],
          [
           "jest",
           "NEU"
          ],
          [
           "soki",
           "NEU"
          ],
          [
           "pracy",
           "NEU"
          ],
          [
           "zostaly",
           "NEU"
          ],
          [
           "krotkiej",
           "NEU"
          ],
          [
           "chwili",
           "NEU"
          ],
          [
           "jedyna",
           "NEU"
          ],
          [
           "jest",
           "NEU"
          ],
          [
           "schowa",
           "NEU"
          ],
          [
           "nawet",
           "NEU"
          ],
          [
           "cegly",
           "NEU"
          ],
          [
           "brac",
           "NEU"
          ],
          [
           "okie",
           "NEU"
          ],
          [
           "jesze",
           "NEU"
          ],
          [
           "opakowania",
           "NEU"
          ],
          [
           "instrukcji",
           "NEU"
          ],
          [
           "przez",
           "NEU"
          ],
          [
           "występują",
           "NEU"
          ],
          [
           "identyfikacji",
           "NEU"
          ],
          [
           "sterowników",
           "NEU"
          ],
          [
           "automatycznie",
           "NEU"
          ],
          [
           "uśpieniu",
           "NEU"
          ],
          [
           "sterowniki",
           "NEU"
          ],
          [
           "sieć",
           "NEU"
          ],
          [
           "użytkowanie",
           "NEU"
          ],
          [
           "produkt",
           "NEU"
          ],
          [
           "zwrocie",
           "NEU"
          ],
          [
           "pełni",
           "NEU"
          ],
          [
           "sprawny",
           "NEU"
          ],
          [
           "anteny",
           "NEU"
          ],
          [
           "zasięg",
           "NEU"
          ]
         ],
         "hovertemplate": "Annotation=NEU<br>t-SNE 1=%{x}<br>t-SNE 2=%{y}<br>word=%{customdata[0]}<br>annotation=%{customdata[1]}<extra></extra>",
         "legendgroup": "NEU",
         "marker": {
          "color": "#00cc96",
          "line": {
           "color": "DarkSlateGrey",
           "width": 1
          },
          "opacity": 0.8,
          "size": 10,
          "symbol": "circle"
         },
         "mode": "markers",
         "name": "NEU",
         "orientation": "v",
         "showlegend": true,
         "type": "scatter",
         "x": [
          0.929915,
          -62.09285,
          54.528122,
          19.997635,
          34.030712,
          35.791637,
          -17.995417,
          -0.68535095,
          -51.996586,
          8.595716,
          9.886306,
          96.97031,
          59.98928,
          70.21718,
          -123.8576,
          72.380424,
          -97.49062,
          -172.67299,
          110.75786,
          101.3685,
          50.742214,
          0.10801607,
          131.90009,
          88.15235,
          73.21182,
          33.57421,
          -72.62025,
          72.71018,
          -139.71973,
          -44.16588,
          122.73618,
          10.90915,
          -99.531975,
          55.48848,
          -146.02232,
          -75.41757,
          -19.224897,
          -10.623433,
          74.44191,
          -99.25154,
          -67.010315,
          -122.13435,
          -72.82673,
          -108.52697,
          -79.248,
          -34.569283,
          -90.020195,
          106.94269,
          -27.015965,
          -97.95303,
          -22.885252,
          49.280834,
          -45.478863,
          -88.32035,
          -61.716114,
          19.399998,
          -53.614166,
          -60.98195,
          -7.7668767,
          -39.70949,
          -6.4976864,
          -115.07838,
          85.28125,
          -144.62029,
          -99.54181,
          -58.436146,
          57.415424,
          -56.730873,
          92.57245,
          144.25873,
          34.10623,
          18.894001,
          55.75799,
          18.894636,
          -156.73729,
          36.941727,
          7.2373915,
          -5.761394,
          49.51305,
          -28.862265,
          -111.00319,
          33.82217,
          7.709382,
          37.67746,
          -17.550833,
          36.941727,
          100.622665,
          25.38526,
          6.5245953,
          133.67206,
          -6.3133063,
          3.2929614,
          -39.14937,
          -39.9203,
          -117.96788,
          61.84952,
          -101.78511,
          -45.48129,
          15.61617,
          -87.52763,
          -39.951656,
          -139.74405,
          -83.0748,
          -156.73729,
          -83.75564,
          29.154913,
          98.52682,
          -24.458723,
          -140.9416
         ],
         "xaxis": "x",
         "y": [
          80.67259,
          2.9917314,
          -110.705414,
          99.90216,
          111.386635,
          -169.99849,
          2.760596,
          62.9392,
          79.62541,
          20.435072,
          5.990215,
          -120.03617,
          -96.077576,
          20.106436,
          35.95806,
          7.8575077,
          35.9747,
          21.543915,
          -123.28226,
          -41.235916,
          2.6255832,
          -75.62298,
          47.80603,
          122.513695,
          -84.16858,
          55.343525,
          -148.36026,
          153.82516,
          51.55399,
          -24.665623,
          -95.00195,
          86.72351,
          116.01734,
          -38.786285,
          -59.125797,
          5.0343237,
          52.23665,
          52.982643,
          -71.204056,
          67.24478,
          -19.033274,
          16.279613,
          12.845113,
          74.91272,
          -25.651873,
          5.649215,
          15.533356,
          -80.20371,
          33.90228,
          125.217995,
          87.521095,
          -16.41157,
          8.8008795,
          64.22103,
          54.388897,
          -115.527084,
          146.63191,
          139.10585,
          28.361958,
          59.485527,
          12.758274,
          -40.41024,
          8.79774,
          34.55461,
          -44.465042,
          36.634052,
          66.48114,
          19.153664,
          -39.062977,
          52.96742,
          -25.714233,
          -45.15651,
          114.42837,
          -31.920763,
          21.610296,
          -151.59496,
          -55.474384,
          -8.984398,
          -157.70723,
          -10.177518,
          -17.670645,
          -46.672394,
          -37.00613,
          12.256434,
          66.90434,
          -151.59496,
          -109.32141,
          25.131325,
          -9.314366,
          35.900673,
          0.20789605,
          -21.524109,
          -5.055837,
          38.77813,
          -157.26288,
          -127.30506,
          -11.30021,
          30.567225,
          31.934837,
          49.81378,
          20.035023,
          -52.946922,
          -39.257877,
          21.610296,
          38.213284,
          -2.8839893,
          15.481614,
          18.149933,
          21.505575
         ],
         "yaxis": "y"
        },
        {
         "customdata": [
          [
           "minus",
           "NEG"
          ],
          [
           "dziwny",
           "NEG"
          ],
          [
           "nie",
           "NEG"
          ],
          [
           "nadaje",
           "NEG"
          ],
          [
           "powstawanie",
           "NEG"
          ],
          [
           "ryz",
           "NEG"
          ],
          [
           "zanieczyszczeń",
           "NEG"
          ],
          [
           "do",
           "NEG"
          ],
          [
           "wymiany",
           "NEG"
          ],
          [
           "nie",
           "NEG"
          ],
          [
           "działa",
           "NEG"
          ],
          [
           "przewracania",
           "NEG"
          ],
          [
           "nie",
           "NEG"
          ],
          [
           "jest",
           "NEG"
          ],
          [
           "idealnie",
           "NEG"
          ],
          [
           "minusem",
           "NEG"
          ],
          [
           "nie",
           "NEG"
          ],
          [
           "pozwala",
           "NEG"
          ],
          [
           "trudne",
           "NEG"
          ],
          [
           "balaganu",
           "NEG"
          ],
          [
           "wada",
           "NEG"
          ],
          [
           "nie",
           "NEG"
          ],
          [
           "mamy",
           "NEG"
          ],
          [
           "trudności",
           "NEG"
          ],
          [
           "nie",
           "NEG"
          ],
          [
           "instaluje",
           "NEG"
          ],
          [
           "uruchamia",
           "NEG"
          ],
          [
           "gubi",
           "NEG"
          ],
          [
           "rozłącza",
           "NEG"
          ],
          [
           "utrudnia",
           "NEG"
          ],
          [
           "odzysku",
           "NEG"
          ],
          [
           "nie",
           "NEG"
          ],
          [
           "kompatybilny",
           "NEG"
          ],
          [
           "b",
           "NEG"
          ],
          [
           "słaby",
           "NEG"
          ]
         ],
         "hovertemplate": "Annotation=NEG<br>t-SNE 1=%{x}<br>t-SNE 2=%{y}<br>word=%{customdata[0]}<br>annotation=%{customdata[1]}<extra></extra>",
         "legendgroup": "NEG",
         "marker": {
          "color": "#ab63fa",
          "line": {
           "color": "DarkSlateGrey",
           "width": 1
          },
          "opacity": 0.8,
          "size": 10,
          "symbol": "circle"
         },
         "mode": "markers",
         "name": "NEG",
         "orientation": "v",
         "showlegend": true,
         "type": "scatter",
         "x": [
          45.720352,
          71.88151,
          77.852234,
          108.18103,
          -91.83942,
          -7.7143373,
          -28.051998,
          -98.59322,
          -92.83961,
          57.386852,
          66.928276,
          -56.18272,
          65.987465,
          36.941727,
          20.506643,
          42.06382,
          89.42495,
          91.44969,
          11.492678,
          17.068125,
          -45.980297,
          83.02509,
          27.260828,
          -44.952576,
          77.22796,
          84.28347,
          78.15666,
          88.48203,
          90.49114,
          83.57746,
          -25.035978,
          68.34094,
          108.436386,
          -24.059256,
          86.94609
         ],
         "xaxis": "x",
         "y": [
          29.181206,
          33.91576,
          102.19934,
          -89.784805,
          -54.411697,
          -27.788301,
          -38.10747,
          -122.41682,
          -16.781105,
          128.30367,
          -112.706245,
          -20.051893,
          106.863014,
          -151.59496,
          10.286336,
          75.010796,
          109.86036,
          -53.141563,
          48.526623,
          -19.591736,
          72.489044,
          135.49094,
          -108.61062,
          139.81851,
          114.225075,
          -109.687416,
          -102.25796,
          -127.45229,
          -99.43693,
          -74.27576,
          -24.905888,
          134.8744,
          6.1974173,
          -59.6434,
          35.577797
         ],
         "yaxis": "y"
        }
       ],
       "layout": {
        "coloraxis": {
         "colorbar": {
          "title": {
           "text": "Annotation"
          }
         }
        },
        "height": 800,
        "legend": {
         "title": {
          "text": "Annotation"
         },
         "tracegroupgap": 0
        },
        "template": {
         "data": {
          "bar": [
           {
            "error_x": {
             "color": "#2a3f5f"
            },
            "error_y": {
             "color": "#2a3f5f"
            },
            "marker": {
             "line": {
              "color": "white",
              "width": 0.5
             },
             "pattern": {
              "fillmode": "overlay",
              "size": 10,
              "solidity": 0.2
             }
            },
            "type": "bar"
           }
          ],
          "barpolar": [
           {
            "marker": {
             "line": {
              "color": "white",
              "width": 0.5
             },
             "pattern": {
              "fillmode": "overlay",
              "size": 10,
              "solidity": 0.2
             }
            },
            "type": "barpolar"
           }
          ],
          "carpet": [
           {
            "aaxis": {
             "endlinecolor": "#2a3f5f",
             "gridcolor": "#C8D4E3",
             "linecolor": "#C8D4E3",
             "minorgridcolor": "#C8D4E3",
             "startlinecolor": "#2a3f5f"
            },
            "baxis": {
             "endlinecolor": "#2a3f5f",
             "gridcolor": "#C8D4E3",
             "linecolor": "#C8D4E3",
             "minorgridcolor": "#C8D4E3",
             "startlinecolor": "#2a3f5f"
            },
            "type": "carpet"
           }
          ],
          "choropleth": [
           {
            "colorbar": {
             "outlinewidth": 0,
             "ticks": ""
            },
            "type": "choropleth"
           }
          ],
          "contour": [
           {
            "colorbar": {
             "outlinewidth": 0,
             "ticks": ""
            },
            "colorscale": [
             [
              0,
              "#0d0887"
             ],
             [
              0.1111111111111111,
              "#46039f"
             ],
             [
              0.2222222222222222,
              "#7201a8"
             ],
             [
              0.3333333333333333,
              "#9c179e"
             ],
             [
              0.4444444444444444,
              "#bd3786"
             ],
             [
              0.5555555555555556,
              "#d8576b"
             ],
             [
              0.6666666666666666,
              "#ed7953"
             ],
             [
              0.7777777777777778,
              "#fb9f3a"
             ],
             [
              0.8888888888888888,
              "#fdca26"
             ],
             [
              1,
              "#f0f921"
             ]
            ],
            "type": "contour"
           }
          ],
          "contourcarpet": [
           {
            "colorbar": {
             "outlinewidth": 0,
             "ticks": ""
            },
            "type": "contourcarpet"
           }
          ],
          "heatmap": [
           {
            "colorbar": {
             "outlinewidth": 0,
             "ticks": ""
            },
            "colorscale": [
             [
              0,
              "#0d0887"
             ],
             [
              0.1111111111111111,
              "#46039f"
             ],
             [
              0.2222222222222222,
              "#7201a8"
             ],
             [
              0.3333333333333333,
              "#9c179e"
             ],
             [
              0.4444444444444444,
              "#bd3786"
             ],
             [
              0.5555555555555556,
              "#d8576b"
             ],
             [
              0.6666666666666666,
              "#ed7953"
             ],
             [
              0.7777777777777778,
              "#fb9f3a"
             ],
             [
              0.8888888888888888,
              "#fdca26"
             ],
             [
              1,
              "#f0f921"
             ]
            ],
            "type": "heatmap"
           }
          ],
          "heatmapgl": [
           {
            "colorbar": {
             "outlinewidth": 0,
             "ticks": ""
            },
            "colorscale": [
             [
              0,
              "#0d0887"
             ],
             [
              0.1111111111111111,
              "#46039f"
             ],
             [
              0.2222222222222222,
              "#7201a8"
             ],
             [
              0.3333333333333333,
              "#9c179e"
             ],
             [
              0.4444444444444444,
              "#bd3786"
             ],
             [
              0.5555555555555556,
              "#d8576b"
             ],
             [
              0.6666666666666666,
              "#ed7953"
             ],
             [
              0.7777777777777778,
              "#fb9f3a"
             ],
             [
              0.8888888888888888,
              "#fdca26"
             ],
             [
              1,
              "#f0f921"
             ]
            ],
            "type": "heatmapgl"
           }
          ],
          "histogram": [
           {
            "marker": {
             "pattern": {
              "fillmode": "overlay",
              "size": 10,
              "solidity": 0.2
             }
            },
            "type": "histogram"
           }
          ],
          "histogram2d": [
           {
            "colorbar": {
             "outlinewidth": 0,
             "ticks": ""
            },
            "colorscale": [
             [
              0,
              "#0d0887"
             ],
             [
              0.1111111111111111,
              "#46039f"
             ],
             [
              0.2222222222222222,
              "#7201a8"
             ],
             [
              0.3333333333333333,
              "#9c179e"
             ],
             [
              0.4444444444444444,
              "#bd3786"
             ],
             [
              0.5555555555555556,
              "#d8576b"
             ],
             [
              0.6666666666666666,
              "#ed7953"
             ],
             [
              0.7777777777777778,
              "#fb9f3a"
             ],
             [
              0.8888888888888888,
              "#fdca26"
             ],
             [
              1,
              "#f0f921"
             ]
            ],
            "type": "histogram2d"
           }
          ],
          "histogram2dcontour": [
           {
            "colorbar": {
             "outlinewidth": 0,
             "ticks": ""
            },
            "colorscale": [
             [
              0,
              "#0d0887"
             ],
             [
              0.1111111111111111,
              "#46039f"
             ],
             [
              0.2222222222222222,
              "#7201a8"
             ],
             [
              0.3333333333333333,
              "#9c179e"
             ],
             [
              0.4444444444444444,
              "#bd3786"
             ],
             [
              0.5555555555555556,
              "#d8576b"
             ],
             [
              0.6666666666666666,
              "#ed7953"
             ],
             [
              0.7777777777777778,
              "#fb9f3a"
             ],
             [
              0.8888888888888888,
              "#fdca26"
             ],
             [
              1,
              "#f0f921"
             ]
            ],
            "type": "histogram2dcontour"
           }
          ],
          "mesh3d": [
           {
            "colorbar": {
             "outlinewidth": 0,
             "ticks": ""
            },
            "type": "mesh3d"
           }
          ],
          "parcoords": [
           {
            "line": {
             "colorbar": {
              "outlinewidth": 0,
              "ticks": ""
             }
            },
            "type": "parcoords"
           }
          ],
          "pie": [
           {
            "automargin": true,
            "type": "pie"
           }
          ],
          "scatter": [
           {
            "fillpattern": {
             "fillmode": "overlay",
             "size": 10,
             "solidity": 0.2
            },
            "type": "scatter"
           }
          ],
          "scatter3d": [
           {
            "line": {
             "colorbar": {
              "outlinewidth": 0,
              "ticks": ""
             }
            },
            "marker": {
             "colorbar": {
              "outlinewidth": 0,
              "ticks": ""
             }
            },
            "type": "scatter3d"
           }
          ],
          "scattercarpet": [
           {
            "marker": {
             "colorbar": {
              "outlinewidth": 0,
              "ticks": ""
             }
            },
            "type": "scattercarpet"
           }
          ],
          "scattergeo": [
           {
            "marker": {
             "colorbar": {
              "outlinewidth": 0,
              "ticks": ""
             }
            },
            "type": "scattergeo"
           }
          ],
          "scattergl": [
           {
            "marker": {
             "colorbar": {
              "outlinewidth": 0,
              "ticks": ""
             }
            },
            "type": "scattergl"
           }
          ],
          "scattermapbox": [
           {
            "marker": {
             "colorbar": {
              "outlinewidth": 0,
              "ticks": ""
             }
            },
            "type": "scattermapbox"
           }
          ],
          "scatterpolar": [
           {
            "marker": {
             "colorbar": {
              "outlinewidth": 0,
              "ticks": ""
             }
            },
            "type": "scatterpolar"
           }
          ],
          "scatterpolargl": [
           {
            "marker": {
             "colorbar": {
              "outlinewidth": 0,
              "ticks": ""
             }
            },
            "type": "scatterpolargl"
           }
          ],
          "scatterternary": [
           {
            "marker": {
             "colorbar": {
              "outlinewidth": 0,
              "ticks": ""
             }
            },
            "type": "scatterternary"
           }
          ],
          "surface": [
           {
            "colorbar": {
             "outlinewidth": 0,
             "ticks": ""
            },
            "colorscale": [
             [
              0,
              "#0d0887"
             ],
             [
              0.1111111111111111,
              "#46039f"
             ],
             [
              0.2222222222222222,
              "#7201a8"
             ],
             [
              0.3333333333333333,
              "#9c179e"
             ],
             [
              0.4444444444444444,
              "#bd3786"
             ],
             [
              0.5555555555555556,
              "#d8576b"
             ],
             [
              0.6666666666666666,
              "#ed7953"
             ],
             [
              0.7777777777777778,
              "#fb9f3a"
             ],
             [
              0.8888888888888888,
              "#fdca26"
             ],
             [
              1,
              "#f0f921"
             ]
            ],
            "type": "surface"
           }
          ],
          "table": [
           {
            "cells": {
             "fill": {
              "color": "#EBF0F8"
             },
             "line": {
              "color": "white"
             }
            },
            "header": {
             "fill": {
              "color": "#C8D4E3"
             },
             "line": {
              "color": "white"
             }
            },
            "type": "table"
           }
          ]
         },
         "layout": {
          "annotationdefaults": {
           "arrowcolor": "#2a3f5f",
           "arrowhead": 0,
           "arrowwidth": 1
          },
          "autotypenumbers": "strict",
          "coloraxis": {
           "colorbar": {
            "outlinewidth": 0,
            "ticks": ""
           }
          },
          "colorscale": {
           "diverging": [
            [
             0,
             "#8e0152"
            ],
            [
             0.1,
             "#c51b7d"
            ],
            [
             0.2,
             "#de77ae"
            ],
            [
             0.3,
             "#f1b6da"
            ],
            [
             0.4,
             "#fde0ef"
            ],
            [
             0.5,
             "#f7f7f7"
            ],
            [
             0.6,
             "#e6f5d0"
            ],
            [
             0.7,
             "#b8e186"
            ],
            [
             0.8,
             "#7fbc41"
            ],
            [
             0.9,
             "#4d9221"
            ],
            [
             1,
             "#276419"
            ]
           ],
           "sequential": [
            [
             0,
             "#0d0887"
            ],
            [
             0.1111111111111111,
             "#46039f"
            ],
            [
             0.2222222222222222,
             "#7201a8"
            ],
            [
             0.3333333333333333,
             "#9c179e"
            ],
            [
             0.4444444444444444,
             "#bd3786"
            ],
            [
             0.5555555555555556,
             "#d8576b"
            ],
            [
             0.6666666666666666,
             "#ed7953"
            ],
            [
             0.7777777777777778,
             "#fb9f3a"
            ],
            [
             0.8888888888888888,
             "#fdca26"
            ],
            [
             1,
             "#f0f921"
            ]
           ],
           "sequentialminus": [
            [
             0,
             "#0d0887"
            ],
            [
             0.1111111111111111,
             "#46039f"
            ],
            [
             0.2222222222222222,
             "#7201a8"
            ],
            [
             0.3333333333333333,
             "#9c179e"
            ],
            [
             0.4444444444444444,
             "#bd3786"
            ],
            [
             0.5555555555555556,
             "#d8576b"
            ],
            [
             0.6666666666666666,
             "#ed7953"
            ],
            [
             0.7777777777777778,
             "#fb9f3a"
            ],
            [
             0.8888888888888888,
             "#fdca26"
            ],
            [
             1,
             "#f0f921"
            ]
           ]
          },
          "colorway": [
           "#636efa",
           "#EF553B",
           "#00cc96",
           "#ab63fa",
           "#FFA15A",
           "#19d3f3",
           "#FF6692",
           "#B6E880",
           "#FF97FF",
           "#FECB52"
          ],
          "font": {
           "color": "#2a3f5f"
          },
          "geo": {
           "bgcolor": "white",
           "lakecolor": "white",
           "landcolor": "white",
           "showlakes": true,
           "showland": true,
           "subunitcolor": "#C8D4E3"
          },
          "hoverlabel": {
           "align": "left"
          },
          "hovermode": "closest",
          "mapbox": {
           "style": "light"
          },
          "paper_bgcolor": "white",
          "plot_bgcolor": "white",
          "polar": {
           "angularaxis": {
            "gridcolor": "#EBF0F8",
            "linecolor": "#EBF0F8",
            "ticks": ""
           },
           "bgcolor": "white",
           "radialaxis": {
            "gridcolor": "#EBF0F8",
            "linecolor": "#EBF0F8",
            "ticks": ""
           }
          },
          "scene": {
           "xaxis": {
            "backgroundcolor": "white",
            "gridcolor": "#DFE8F3",
            "gridwidth": 2,
            "linecolor": "#EBF0F8",
            "showbackground": true,
            "ticks": "",
            "zerolinecolor": "#EBF0F8"
           },
           "yaxis": {
            "backgroundcolor": "white",
            "gridcolor": "#DFE8F3",
            "gridwidth": 2,
            "linecolor": "#EBF0F8",
            "showbackground": true,
            "ticks": "",
            "zerolinecolor": "#EBF0F8"
           },
           "zaxis": {
            "backgroundcolor": "white",
            "gridcolor": "#DFE8F3",
            "gridwidth": 2,
            "linecolor": "#EBF0F8",
            "showbackground": true,
            "ticks": "",
            "zerolinecolor": "#EBF0F8"
           }
          },
          "shapedefaults": {
           "line": {
            "color": "#2a3f5f"
           }
          },
          "ternary": {
           "aaxis": {
            "gridcolor": "#DFE8F3",
            "linecolor": "#A2B1C6",
            "ticks": ""
           },
           "baxis": {
            "gridcolor": "#DFE8F3",
            "linecolor": "#A2B1C6",
            "ticks": ""
           },
           "bgcolor": "white",
           "caxis": {
            "gridcolor": "#DFE8F3",
            "linecolor": "#A2B1C6",
            "ticks": ""
           }
          },
          "title": {
           "x": 0.05
          },
          "xaxis": {
           "automargin": true,
           "gridcolor": "#EBF0F8",
           "linecolor": "#EBF0F8",
           "ticks": "",
           "title": {
            "standoff": 15
           },
           "zerolinecolor": "#EBF0F8",
           "zerolinewidth": 2
          },
          "yaxis": {
           "automargin": true,
           "gridcolor": "#EBF0F8",
           "linecolor": "#EBF0F8",
           "ticks": "",
           "title": {
            "standoff": 15
           },
           "zerolinecolor": "#EBF0F8",
           "zerolinewidth": 2
          }
         }
        },
        "title": {
         "font": {
          "size": 20
         },
         "text": "t-SNE - NLTK word tokenization - Word2Vec embeddings",
         "x": 0.5
        },
        "width": 1200,
        "xaxis": {
         "anchor": "y",
         "domain": [
          0,
          1
         ],
         "showgrid": false,
         "title": {
          "text": "t-SNE 1"
         }
        },
        "yaxis": {
         "anchor": "x",
         "domain": [
          0,
          1
         ],
         "showgrid": false,
         "title": {
          "text": "t-SNE 2"
         }
        }
       }
      }
     },
     "metadata": {},
     "output_type": "display_data"
    }
   ],
   "source": [
    "fig = px.scatter(\n",
    "    x=vectors_word2vec_embedded[:, 0],\n",
    "    y=vectors_word2vec_embedded[:, 1],\n",
    "    color=annotations_word2vec,\n",
    "    hover_data={\"word\": words_used_word2vec, \"annotation\": annotations_word2vec},\n",
    "    title=\"t-SNE - NLTK word tokenization - Word2Vec embeddings\",\n",
    "    labels={\"color\": \"Annotation\", \"x\": \"t-SNE 1\", \"y\": \"t-SNE 2\"},\n",
    "    color_continuous_scale=px.colors.sequential.Viridis,\n",
    "    template=\"plotly_white\",\n",
    ")\n",
    "\n",
    "fig.update_traces(\n",
    "    marker=dict(size=10, opacity=0.8, line=dict(width=1, color=\"DarkSlateGrey\"))\n",
    ")\n",
    "fig.update_layout(\n",
    "    title_font_size=20,\n",
    "    title_x=0.5,\n",
    "    xaxis=dict(showgrid=False),\n",
    "    yaxis=dict(showgrid=False),\n",
    "    coloraxis_colorbar=dict(title=\"Annotation\"),\n",
    "    legend_title_text=\"Annotation\",\n",
    "    width=1200,\n",
    "    height=800,\n",
    ")\n",
    "\n",
    "fig.show()"
   ]
  },
  {
   "cell_type": "markdown",
   "metadata": {},
   "source": [
    "# 3. Compare k-nearest words results"
   ]
  },
  {
   "cell_type": "code",
   "execution_count": 7,
   "metadata": {},
   "outputs": [],
   "source": [
    "annotated_words = [\n",
    "    \"zły\",\n",
    "    \"użyteczna\",\n",
    "    \"okropnie\",\n",
    "    \"znakomicie\",\n",
    "    \"brzydki\",\n",
    "    \"polecam\",\n",
    "    \"zdecydowanie\",\n",
    "    \"absolutnie\",\n",
    "]  # you may replace it with words annotated in the task\n",
    "\n",
    "common_words = (\n",
    "    set(words_used_fasttext)\n",
    "    .intersection(set(words_used_word2vec))\n",
    "    .intersection(set(annotated_words))\n",
    ")"
   ]
  },
  {
   "cell_type": "code",
   "execution_count": null,
   "metadata": {},
   "outputs": [],
   "source": [
    "# ['Polecam', 'polecam-', 'odradzam', '-polecam', 'polecamy']\n",
    "# ['zalecam', 'odradzam', 'podsyłam', 'polecem', 'podrzucam']\n",
    "\n"
   ]
  },
  {
   "cell_type": "code",
   "execution_count": 2,
   "metadata": {
    "tags": [
     "parameters"
    ]
   },
   "outputs": [
    {
     "name": "stdout",
     "output_type": "stream",
     "text": [
      "FastText:\n"
     ]
    },
    {
     "data": {
      "text/plain": [
       "['Polecam', 'polecam-', 'odradzam', '-polecam', 'polecamy']"
      ]
     },
     "execution_count": 2,
     "metadata": {},
     "output_type": "execute_result"
    }
   ],
   "source": [
    "k = 5\n",
    "\n",
    "for word in common_words:\n",
    "    print(f\"Word: {word}\")\n",
    "    print(\"FastText:\")  \n",
    "    results = model_fasttext.get_nearest_neighbors(word, k=k)\n",
    "    print([res for _, res in results])\n",
    "['Polecam', 'polecam-', 'odradzam', '-polecam', 'polecamy']\n"
   ]
  },
  {
   "cell_type": "code",
   "execution_count": 3,
   "metadata": {},
   "outputs": [
    {
     "name": "stdout",
     "output_type": "stream",
     "text": [
      "Word2Vec:\n"
     ]
    },
    {
     "data": {
      "text/plain": [
       "['zalecam', 'odradzam', 'podsyłam', 'polecem', 'podrzucam']"
      ]
     },
     "execution_count": 3,
     "metadata": {},
     "output_type": "execute_result"
    }
   ],
   "source": [
    "for word in common_words:\n",
    "    print(\"Word2Vec:\")\n",
    "    results = model_word2vec.most_similar(positive=word, topn=k)\n",
    "    print([res for res, _ in results])\n",
    "    print()"
   ]
  }
 ],
 "metadata": {
  "kernelspec": {
   "display_name": "Python 3",
   "language": "python",
   "name": "python3"
  },
  "language_info": {
   "codemirror_mode": {
    "name": "ipython",
    "version": 3
   },
   "file_extension": ".py",
   "mimetype": "text/x-python",
   "name": "python",
   "nbconvert_exporter": "python",
   "pygments_lexer": "ipython3",
   "version": "3.10.12"
  }
 },
 "nbformat": 4,
 "nbformat_minor": 4
}
