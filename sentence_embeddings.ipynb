{
 "cells": [
  {
   "cell_type": "markdown",
   "metadata": {},
   "source": [
    "# Setup"
   ]
  },
  {
   "cell_type": "code",
   "execution_count": 18,
   "metadata": {},
   "outputs": [
    {
     "data": {
      "text/html": [
       "<div>\n",
       "<style scoped>\n",
       "    .dataframe tbody tr th:only-of-type {\n",
       "        vertical-align: middle;\n",
       "    }\n",
       "\n",
       "    .dataframe tbody tr th {\n",
       "        vertical-align: top;\n",
       "    }\n",
       "\n",
       "    .dataframe thead th {\n",
       "        text-align: right;\n",
       "    }\n",
       "</style>\n",
       "<table border=\"1\" class=\"dataframe\">\n",
       "  <thead>\n",
       "    <tr style=\"text-align: right;\">\n",
       "      <th></th>\n",
       "      <th>sentence</th>\n",
       "      <th>Olek</th>\n",
       "      <th>Kuba</th>\n",
       "      <th>Zgodne?</th>\n",
       "      <th>Stachu</th>\n",
       "      <th>target</th>\n",
       "    </tr>\n",
       "  </thead>\n",
       "  <tbody>\n",
       "    <tr>\n",
       "      <th>0</th>\n",
       "      <td>Używam od miesiąca, bardzo fajne słuchawki, ja...</td>\n",
       "      <td>2</td>\n",
       "      <td>2</td>\n",
       "      <td>T</td>\n",
       "      <td>NaN</td>\n",
       "      <td>POS</td>\n",
       "    </tr>\n",
       "    <tr>\n",
       "      <th>1</th>\n",
       "      <td>Dla małych telefonów ok, choć plastik nie spra...</td>\n",
       "      <td>1</td>\n",
       "      <td>1</td>\n",
       "      <td>T</td>\n",
       "      <td>NaN</td>\n",
       "      <td>NEU</td>\n",
       "    </tr>\n",
       "    <tr>\n",
       "      <th>2</th>\n",
       "      <td>Całkiem ok trzyma się szyby jak nie odkleja si...</td>\n",
       "      <td>1</td>\n",
       "      <td>1</td>\n",
       "      <td>T</td>\n",
       "      <td>NaN</td>\n",
       "      <td>NEU</td>\n",
       "    </tr>\n",
       "    <tr>\n",
       "      <th>3</th>\n",
       "      <td>Łatwy montaż i dobrze trzyma się szyby. Szybki...</td>\n",
       "      <td>1</td>\n",
       "      <td>1</td>\n",
       "      <td>T</td>\n",
       "      <td>NaN</td>\n",
       "      <td>NEU</td>\n",
       "    </tr>\n",
       "    <tr>\n",
       "      <th>4</th>\n",
       "      <td>Bardzo fajna myszka o standardowym kształcie i...</td>\n",
       "      <td>2</td>\n",
       "      <td>2</td>\n",
       "      <td>T</td>\n",
       "      <td>NaN</td>\n",
       "      <td>POS</td>\n",
       "    </tr>\n",
       "    <tr>\n",
       "      <th>...</th>\n",
       "      <td>...</td>\n",
       "      <td>...</td>\n",
       "      <td>...</td>\n",
       "      <td>...</td>\n",
       "      <td>...</td>\n",
       "      <td>...</td>\n",
       "    </tr>\n",
       "    <tr>\n",
       "      <th>65</th>\n",
       "      <td>Rakieta - 8 rdzeni, 16 wątków. Super wentylato...</td>\n",
       "      <td>1</td>\n",
       "      <td>2</td>\n",
       "      <td>N</td>\n",
       "      <td>2.0</td>\n",
       "      <td>POS</td>\n",
       "    </tr>\n",
       "    <tr>\n",
       "      <th>66</th>\n",
       "      <td>Gorąco polecam tę szczotkę szczególnie właścic...</td>\n",
       "      <td>2</td>\n",
       "      <td>2</td>\n",
       "      <td>T</td>\n",
       "      <td>NaN</td>\n",
       "      <td>POS</td>\n",
       "    </tr>\n",
       "    <tr>\n",
       "      <th>67</th>\n",
       "      <td>\"Według mnie najlepszy rodzaj etui, wytrzymałe...</td>\n",
       "      <td>2</td>\n",
       "      <td>0</td>\n",
       "      <td>N</td>\n",
       "      <td>1.0</td>\n",
       "      <td>NEU</td>\n",
       "    </tr>\n",
       "    <tr>\n",
       "      <th>68</th>\n",
       "      <td>Etui ładne, niestety zostaje sporo tłustych śl...</td>\n",
       "      <td>1</td>\n",
       "      <td>0</td>\n",
       "      <td>N</td>\n",
       "      <td>1.0</td>\n",
       "      <td>NEU</td>\n",
       "    </tr>\n",
       "    <tr>\n",
       "      <th>69</th>\n",
       "      <td>Bardzo słaby. Po pierwsze, wbrew promocyjnym z...</td>\n",
       "      <td>0</td>\n",
       "      <td>0</td>\n",
       "      <td>T</td>\n",
       "      <td>NaN</td>\n",
       "      <td>NEG</td>\n",
       "    </tr>\n",
       "  </tbody>\n",
       "</table>\n",
       "<p>138 rows × 6 columns</p>\n",
       "</div>"
      ],
      "text/plain": [
       "                                             sentence  Olek  Kuba Zgodne?  \\\n",
       "0   Używam od miesiąca, bardzo fajne słuchawki, ja...     2     2       T   \n",
       "1   Dla małych telefonów ok, choć plastik nie spra...     1     1       T   \n",
       "2   Całkiem ok trzyma się szyby jak nie odkleja si...     1     1       T   \n",
       "3   Łatwy montaż i dobrze trzyma się szyby. Szybki...     1     1       T   \n",
       "4   Bardzo fajna myszka o standardowym kształcie i...     2     2       T   \n",
       "..                                                ...   ...   ...     ...   \n",
       "65  Rakieta - 8 rdzeni, 16 wątków. Super wentylato...     1     2       N   \n",
       "66  Gorąco polecam tę szczotkę szczególnie właścic...     2     2       T   \n",
       "67  \"Według mnie najlepszy rodzaj etui, wytrzymałe...     2     0       N   \n",
       "68  Etui ładne, niestety zostaje sporo tłustych śl...     1     0       N   \n",
       "69  Bardzo słaby. Po pierwsze, wbrew promocyjnym z...     0     0       T   \n",
       "\n",
       "    Stachu target  \n",
       "0      NaN    POS  \n",
       "1      NaN    NEU  \n",
       "2      NaN    NEU  \n",
       "3      NaN    NEU  \n",
       "4      NaN    POS  \n",
       "..     ...    ...  \n",
       "65     2.0    POS  \n",
       "66     NaN    POS  \n",
       "67     1.0    NEU  \n",
       "68     1.0    NEU  \n",
       "69     NaN    NEG  \n",
       "\n",
       "[138 rows x 6 columns]"
      ]
     },
     "execution_count": 18,
     "metadata": {},
     "output_type": "execute_result"
    }
   ],
   "source": [
    "import pandas as pd\n",
    "\n",
    "excel_file = 'annotations_all_batches.xlsx'\n",
    "data = pd.DataFrame()\n",
    "for sheet in [\"FIRST BATCH\", \"SECOND BATCH\"]:\n",
    "    df = pd.read_excel(excel_file, sheet_name=sheet, header=8, usecols='A:F')\n",
    "    data = pd.concat([data, df])\n",
    "data.rename(columns={\"text\": \"sentence\", \"Finalna anotacja\": \"target\"}, inplace=True)\n",
    "target_map = {\n",
    "    0: \"NEG\",\n",
    "    1: \"NEU\",\n",
    "    2: \"POS\"}\n",
    "data['target'] = data['target'].map(target_map)\n",
    "data"
   ]
  },
  {
   "cell_type": "code",
   "execution_count": 3,
   "metadata": {},
   "outputs": [],
   "source": [
    "import os\n",
    "import pandas as pd\n",
    "import fasttext.util\n",
    "import numpy as np\n",
    "\n",
    "import plotly.express as px\n",
    "from sklearn.manifold import TSNE\n",
    "from sklearn.feature_extraction.text import TfidfVectorizer\n",
    "\n",
    "import nltk\n",
    "import nltk.downloader\n",
    "\n",
    "fasttext.util.download_model(\"pl\", if_exists=\"ignore\")\n",
    "\n",
    "if not os.path.exists(\"nkjp+wiki-forms-all-100-cbow-hs.txt\"):\n",
    "    raise ValueError(\n",
    "        \"Download the model from http://dsmodels.nlp.ipipan.waw.pl/dsmodels/nkjp+wiki-forms-all-100-cbow-hs.txt.gz and extract it to the root of the project\"\n",
    "    )\n",
    "\n",
    "\n",
    "if not nltk.downloader.Downloader().is_installed(\"punkt_tab\"):\n",
    "    nltk.download(\"punkt_tab\")"
   ]
  },
  {
   "cell_type": "code",
   "execution_count": 2,
   "metadata": {},
   "outputs": [],
   "source": [
    "model_fasttext = fasttext.load_model(\"cc.pl.300.bin\")"
   ]
  },
  {
   "cell_type": "markdown",
   "metadata": {},
   "source": [
    "# 1. FastText embedding"
   ]
  },
  {
   "cell_type": "code",
   "execution_count": 5,
   "metadata": {},
   "outputs": [],
   "source": [
    "vectors_fasttext = []\n",
    "\n",
    "\n",
    "for idx, sentence in enumerate(data[\"sentence\"]):\n",
    "    vectorized = model_fasttext.get_sentence_vector(sentence.replace(\"\\n\", \" \"))\n",
    "    vectors_fasttext.append(vectorized)\n",
    "\n",
    "\n",
    "vectors_fasttext = np.array(vectors_fasttext)"
   ]
  },
  {
   "cell_type": "code",
   "execution_count": null,
   "metadata": {},
   "outputs": [],
   "source": [
    "np.save(\"vectors_fasttext.npy\", vectors_fasttext)"
   ]
  },
  {
   "cell_type": "code",
   "execution_count": 20,
   "metadata": {},
   "outputs": [],
   "source": [
    "vectors_fasttext = np.load(\"vectors_fasttext.npy\")"
   ]
  },
  {
   "cell_type": "code",
   "execution_count": 21,
   "metadata": {},
   "outputs": [],
   "source": [
    "# reduce dimensionality\n",
    "tsne_fasttext = TSNE(n_components=2, random_state=42)\n",
    "vectors_fasttext_embedded = tsne_fasttext.fit_transform(vectors_fasttext)"
   ]
  },
  {
   "cell_type": "code",
   "execution_count": 22,
   "metadata": {},
   "outputs": [
    {
     "data": {
      "application/vnd.plotly.v1+json": {
       "config": {
        "plotlyServerURL": "https://plot.ly"
       },
       "data": [
        {
         "customdata": [
          [
           "Używam od miesiąca, bardzo fajne słuchawki, jakość<br>dźwięku OK, fantastycznie leżą w uchu (nie ma<br>opcji żeby wypadły nawet przy intensywnym sporcie,<br>przy czym bardzo wygodnie się zakłada). Jeden<br>mankament - czasem po włączeniu szwankuje<br>komunikacja bluetooth (łączy się i rozłącza z<br>telefonem w kółko) - jednak po ponownym restarcie<br>słuchawek jest OK.",
           "POS"
          ],
          [
           "Bardzo fajna myszka o standardowym kształcie i<br>niebiesko-czarnym kolorze. Nadaje się w sam raz do<br>użytku w biurze czy też w domu. Jest bardzo lekka<br>oraz działa bezprzewodowo. Mysz działa nawet do 5<br>metrów od odbiornika. Obsługuje technologię<br>Logitech Unifying dzięki której można sparować<br>kilka urządzeń firmy Logitech do jednego<br>odbiornika USB co pozwala na zaoszczędzenie gniazd<br>USB.",
           "POS"
          ],
          [
           "Super kijek. Odrobinę krótszy niż większość<br>standardowych kijków (tak z 5-10cm) ale i tak jest<br>ok. Za to dobrze wykonany, solidny, nie chwieje<br>się tak jak ta tania tandeta. Jest ładny. Fajnie<br>się składa. No i uważam, że rozwiązanie z<br>minijackiem jest lepsze niż kijki bluetooth, dużo<br>szybsze do przygotowania, nie trzeba się bawić w<br>żadne parowanie bluetooth tylko cyk i już.",
           "POS"
          ],
          [
           "Telefon zgodny z opisem. Tak jak było podane -<br>kilka rysek na obudowie, bo powystawowy, ale<br>sprzęt działa jak nowy i świetnie się sprawdza.<br>Fajnie, ze etui i szybka są w gratisie.  Mój<br>pierwszy iphone. Oprogramowanie ios bardzo mi się<br>podoba i jest bardziej funkcjonalne niż android.<br>Aparat robi zdjęcia o bardzo naturalnych kolorach,<br>dobrej jakości",
           "POS"
          ],
          [
           "Takiego telefonu oczekiwałem. Nie lubię martwić<br>się co się stanie jak wypadnie mi z ręki lub<br>wypadnie z kieszeni. Ten wytrzyma niemal wszystko<br>a do tego szybki, świetny ekran, 2 karty SIM +<br>micro SD. Nie jest może cienki jak kartka papieru,<br>ale dobrze leży w ręce, naprawdę solidny. Bateria<br>na kilka dni + szybkie ładowanie. Dla mnie same<br>plusy. Polecam!",
           "POS"
          ],
          [
           "Uchwyt wykonany solidnie. Montaż jest bardzo<br>prosty i stabilny. Bez problemu można przepiąć<br>uchwyt czy poprawić ustawienie telefonu za pomocą<br>nakrętki. Telefon nakładasz na dolną część i boki<br>same się 'zamykają'. Raczej nic nie trzeszczy, nie<br>pęka. Jeśli w czasie jazdy nie ma w uchwycie<br>telefonu potrafi wydać z siebie odgłosy<br>ruszających się zębatek, ale nie jest to<br>uciążliwe. Polecam!",
           "POS"
          ],
          [
           "Najlepszy uchwyt samochodowy jaki miałem do tej<br>pory. Koniec problemu z odpadającymi przylepami.<br>Na kratce wentylacyjnej uchwyt trzyma się pewnie,<br>a telefon pewnie leży w uchwycie. Dodatkowa zaleta<br>to dobre chłodzenie telefonu w upalne dni dzięki<br>nadmuchowi z kratki wentylacyjnej, co niestety<br>przy uchwytach montowanych na szybie nie jest<br>możliwe. Polecam!",
           "POS"
          ],
          [
           "Po kilku beznadziejnych słuchawkach (reklamowanych<br>jako super produkt) firmy Samsung, ta słuchawka<br>jest jak przesiadka z furmanki na mercedesa. Mam<br>już 2 takie i cały czas od ok pół roku działają<br>bez zarzutu. Świetnie zaprojektowany uchwyt na<br>ucho i działające przyciski to jest to czego<br>potrzebuję. Nigdy więcej produktów Samsung !!!<br>Plantronics jest OK !!",
           "POS"
          ],
          [
           "Faktycznie ciche i miękkie klawisze, aż przyjemnie<br>klikać. Dobra jakość materiałów. Plastikowe boki<br>robią się śliskie, ale nie brudne, więc wolę takie<br>od gumowych. Szerokie ślizgacze nie odlepiają się.<br>Bardzo precyzyjna (3 ustawienia dpi). Jedyny<br>minus: podświetlenie rozładowuje akumulator w<br>tydzień/dwa, ale można je wyłączyć. Da się też<br>używać podczas ładowania z USB. Za taką cenę -<br>fenomen.",
           "POS"
          ],
          [
           "Bardzo trafiony zakup, niska cena w stosunku do<br>jakości, bardzo dobrze wykonany, przyjemny wygląd.<br>Po pierwszym naładowaniu do pełna naładowałem<br>swojego smatrfona od okoo 15-20% do 100% pięć razy<br>(samsung S3 I9305 Poj baterii 2100mAh) co przy<br>noname'owym power banku o tej samej pojemności<br>udało się nie całe 3x. Produkt godny polecenia.",
           "POS"
          ],
          [
           "Bardzo dobre 2-warstwowe szczotki pracują w 11<br>letniej pralce Amica i praktycznie nie iskrzą. Na<br>pewno nie wytrzymają tyle co produkcyjne, ale przy<br>tej cenie mógłbym je wymieniać nawet co rok. Jest<br>to proste, a w pralce wystarczy zdjąć tylko jedną<br>klapę przykręconą 2 blachowkrętami i szczotki<br>praktycznie mamy na wierzchu.",
           "POS"
          ],
          [
           "Tym razem zostałem miło zaskoczony przez firmę<br>Green Cell. Ładowarka jest wykonana bardzo dobrze,<br>nie grzeje się, dobiera odpowiedni prąd do<br>urządzenia. Matowa, przez co nie zbiera żadnych<br>rys no i można powiedzieć, że dzięki swoim<br>kształtom również elegancka :D Lecz nie to jest<br>najważniejsze - działa dobrze, obsługuje QC 3.0,<br>czego chcieć więcej w tej cenie? :)",
           "POS"
          ],
          [
           "Bardzo dobry watomierz. Teraz wiem co najwięcej mi<br>zżera prądu - Lodówka. Można sprawdzić czy opis<br>zużycia energii różnych sprzętów zgadza się z<br>rzeczywistością. I dowiedzieć się, że nawet<br>pozostawienie w gniazdku przewodu od pralki<br>powoduje pobieranie ok. 1W energii. Niby niewiele<br>5zł. na rok to kosztuje. Ale jeszcze inne sprzęty,<br>ruter, ładowarki , telewizory i trochę się<br>uzbiera.",
           "POS"
          ],
          [
           "Wszystko ok.<br>Polecam",
           "POS"
          ],
          [
           "\"Zakupiona do Laguny 2 ph1 z oryginalnym radiem<br>\"\"Renault Tuner List\"\", używam do niego kart<br>microSD z przejściówką na SD 8GB Goodram. I super<br>wszystko gra i śmiga, z pilota w kierownicy. Sam<br>montaż jest bezproblemowy. Szkoda tylko, że taka<br>duża wtyczka do samej zmieniarki jest i brak nazw<br>utworów. Ogólnie - polecam jeżeli masz już dość<br>manewrowania płytami.\"",
           "POS"
          ],
          [
           "Wysoka jakość.  W stosunku do tanich odbiorników<br>nie nagrzewa się nadmiernie.  Solidnie wykonany. W<br>Galaxy S7 działa podobnie jak fabryczny w S8 -<br>tanie cewki się bardzo nagrzewały - tutaj jak w<br>fabrycznym wykonaniu. Jeżeli chcesz zamontować nad<br>baterią - pod klapką to pewnie będzie za gruby,<br>ale na pokrywie spisuje się rewelacyjnie Polecam.",
           "POS"
          ],
          [
           "Zaletą jest szeroki zakres napięć, regulacja w<br>górę i w dół, oraz duży prą wejściowy 4A, wymagany<br>duży radiator (podkładka n. teflon folia). Brak<br>miękkiego startu (tylko twarde kluczowanie),<br>krótkie piki na wyjściu przy starcie mogą sie<br>pojawić, stabilna praca nawet z dodatkowym filtrem<br>wyjściowym (napięcie błędu trzeba brać z<br>obciążenia). Polecam.",
           "POS"
          ],
          [
           "Oceniam na +4. Etui cieniutkie, prawie nie zmienia<br>grubości telefonu. Wystarcza jednak, aby ochronić<br>tylny aparat (plecki są idealnie płaskie) Trochę<br>słabo obejmuje boki, przez co ma tendencję do<br>zsuwania się z rogów i z boku z przyciskami.<br>Wycięcia dobrze wymierzone. Silikon nie ślizga się<br>w ręku, można spokojnie położyć telefon na desce<br>rozdzielczej w samochodzie - nie odjeżdża.<br>Polecam.",
           "POS"
          ],
          [
           "DOBRA JAKOŚĆ PRODUKTU,FAJNIE SIĘ ROZWIJA,DOBRZE<br>SIĘ SPRAWDZA PRZY MOTORZE PRZY KIEROWNICY BO JEST<br>KRÓTKI I ZAWSZE WRACA NA SWOJE MIEJSCE,BRAK LUZÓW<br>PO PODŁĄCZENIU DO TELEFONU W GNIEŹDZIE USB CO NIE<br>ZAWSZE JEST OCZYWISTE NIEKTÓRE KABLE LATAJĄ NA<br>BOKI I NIE ZAWSZE STYKA ŁADOWANIE.POLECAM<br>SZCZEGÓLNIE DO MOTOCYKLI TĄ DŁUGOŚĆ LUB DŁUŻSZĄ W<br>ZALEŻNOŚCI OD POTRZEB.",
           "POS"
          ],
          [
           "\"Do codziennego użytkowania są rewelacyjne. Od lat<br>kupuję wyłącznie te słuchawki ( w różnych opcjach<br>np. ze składanym pałąkiem). Świetny dźwięk,<br>wytrzymały kabel. Słuchawki są lekkie i dobrze<br>trzymają się na głowie. Jeśli coś się psuje, to<br>pęka właśnie plastik w trakcie \"\"transportu\"\". Ale<br>to już wina nieuważnego użytkownika ;-) Egzemplarz<br>domowy śmiga bezawaryjnie od kilku lat.    \"",
           "POS"
          ],
          [
           "\"Generalnie nie mam żadnych zastrzeżeń i jak<br>najbardziej polecam - pokrowiec jest solidny,<br>świetnie wygląda (chociaż wolałbym, gdyby był<br>matowy, ale to inna kwestia), a także sztywno<br>trzyma pada. Jedyny, drobny minus to zamek<br>błyskawiczny, który przy otwarciu w dziwny sposób<br>się \"\"rozkłada\"\", ale można to samemu sobie<br>poprawić, poza tym nie wpływa to na nic.\"",
           "POS"
          ],
          [
           "przepraszam ze tak dlugo nie odpowiadalem ,ale<br>produkt jest de best oprocz balaganu w kuchi jest<br>ok soki ktore zawiozlem do pracy zostaly<br>skomunsowane w krotkiej chwili jedyna wada jest ze<br>nie mamy grzie schowa ale to nie problem ,polecam<br>zmieli wszystko nawet cegly -ale brac to z<br>przymrozonym okie  jesze raz poleca i pozdrawiam",
           "POS"
          ],
          [
           "Do Bosch SMV53L10EU pasuje IDEALNIE - wpasowuje<br>się w nowe miejsce (które jest przygotowane w<br>zmywarce), więc jeśli po drodze coś się połamało w<br>gnieździe to bez obaw - wchodzi idealnie.<br>Zastosowano łączenie bardziej trwałe niż w<br>oryginalnej zmywarce. Wszystko na koniec trzeba<br>delikatnie potraktować młotkiem, żeby schowało się<br>pod osłonkę - każdy sobie z tym poradzi ;-)",
           "POS"
          ],
          [
           "Zestaw zawiera wszystko czego potrzeba aby<br>podłączyć dyski ATA/SATA do komputera.<br>Przetestowane na Windows 7. System bez problemu<br>wykrył podłączony przez USB starszy dysk IDE ultra<br>ATA jak i nowszy na złączu SATA III. Długość kabli<br>po podłączeniu wystarcza aby urządzenie swobodnie<br>leżało na biurku. Zasilacz nie przegrzewa się<br>nawet po kilkugodzinnej pracy. Polecam.",
           "POS"
          ],
          [
           "\"Super uchwyt. Jak go dostałem myślałem że go<br>zrobili w Niemczech :) a tu Chiny. Bardzo dobra<br>jakość wykonania i wszystko jest w zestawie co<br>potrzeba do zamontowania go na ścianie i<br>przykręcenia telewizora. Do 40\"\" TV też super<br>pasuje tylko trzeba sprawdzić najpierw tv jaki ma<br>rozstaw vesa.Wygląda też super! Solidny<br>polecam!!!\"",
           "POS"
          ],
          [
           "Dobry i tani oczyszczacz. Ma wskaźnik jakości<br>powietrza, który przetestowałam i sprawdził się<br>bardzo dobrze. Przed otwarciem okna w pokoju stan<br>powietrza był dobry, ale po otwarciu ( a tego<br>wieczory był w powietrzu wyraźny smog) już po<br>minucie oczyszczacz przeskoczył na zły  stan<br>powietrza i włączył  intensywne oczyszczanie.",
           "POS"
          ],
          [
           "Wykonanie i estetyka na wysokim poziomie.<br>Użytkowałam juz te etui i zapewniam, że jest<br>wygodne i funkcjonalne, a przy tym bardzo<br>efektowne i naprawdę zabezpiecza telefon przed<br>upadkiem. To etui nieraz uratowało mój telefon<br>(spory wyświetlacz (6,44 cala). Dopiero upadek na<br>tzw. płask, przy otwartej klapce   spowodował<br>pojawienie sie drobnej rysy na hartowanym szkle.<br>Polecam zdecydowanie zakup.",
           "POS"
          ],
          [
           "Świetny odkurzacz ! Za te pieniądze - mały, lekki,<br>zgrabny, pięknie wygląda i co najważniejsze<br>bardzo dobrze ciągnie. Szczotkę aż ciężko oderwać<br>od podłogi :) Bardzo dobry zakup. Gdybym miał<br>jeszcze raz kupować odkurzacz - to tylko ten.<br>Wcześniej używałem 3 razy droższego zelmera.<br>Różnica jedynie w ilości akcesoriów z których<br>rzadko korzystam. POLECAM !!!",
           "POS"
          ],
          [
           "Folia 3mk shield mogę polecić. Testowałem<br>wcześniej folię 3mk arc i zauważyłem dużą różnicę<br>pomiędzy tymi foliami. ARC jest mało trwała,<br>szybko krawędzie przestają przylegać i wchodzi pod<br>spód bród. Wkładając telefon do kieszeni spodni<br>folia lubiła przesuwać się. W foli  3mk shield<br>doświadczyłem tego do teraz. Folię mam założoną od<br>września tego roku.",
           "POS"
          ],
          [
           "Dobrze zabezpiecza mój smartfon przed<br>zarysowaniami i upadkami z niewielkich wysokości.<br>Mi się podoba polecam wszystkim. ps. trafił mi się<br>egzemplarz z otworem na czytnik linii papilarnych,<br>którego mój telefon nie ma. Po rozpakowaniu<br>przestraszyła mnie ta dziura z tyłu, ale po<br>napisaniu pierwszego sms-a stwierdziłem że<br>poprawia chwyt przy obsłudze jedną ręką.",
           "POS"
          ],
          [
           "Działa OK, transfery na pendrive HAMA USB 3.0 (w<br>zasadzie 3.1 Gen 1 po zmianie nazw :v) wyciąga<br>pełną prędkość. Ale! Windows czasem może nie<br>zainstalować sterowników do HUBa, objawia się to<br>problemem z niektórymi urządzeniami. Polecam użyć<br>darmowego  programu  SDI (Snappy Driver Installer)<br>do pobrania sterownika - wtedy nie ma bata, musi<br>działać ;) Warte swojej ceny.",
           "POS"
          ],
          [
           "Jakość wody naprawdę uległa znacznej poprawie,<br>wcześniej czajnik ciągle się zakamieniał, odkąd<br>używamy filtrowanej wody kamienia nie widać wcale.<br>Do zakupu podchodziliśmy sceptycznie, ale jesteśmy<br>bardzo zadowoleni, gdyż jakość wody u nas w kranie<br>to istna tragedia, pić tego nawet po przegotowaniu<br>się nie dało, a teraz jest dużo lepiej :)",
           "POS"
          ],
          [
           "\"Sokowirówka godna uwagi. \"\"odpadki\"\" są suche<br>więc dobrze wyciska sok. Trochę mały pojemnik na<br>sok. Z marchewkami radzi sobie nieźle. Sysyem<br>niekapania czasem przypadkowo się zamyka co jest<br>niebezpieczne dla mechanizmu bo może zalać się<br>sokiem ale jest bardzo przydatny bo można w<br>spokoju przelać sok do szklanki bez podkładania<br>dodatkowych pojemniczków. Czysto i wygodnie.  Ja<br>polecam\"",
           "POS"
          ],
          [
           "\"Torba świetnie wykonana, zamki bardzo dobrej<br>jakości, ładnie przesuwają się i nie zacinają. Co<br>ważne nie czuć \"\"Chińczykiem\"\" od tej torby. Metka<br>z napisem \"\"Made in Poland\"\" bardzo na plus :)<br>Fajnie jakbyście jeszcze zrobili szmacianą wszywkę<br>w środku z tym napisem bo to ważna sprawa :)<br>Polecam z czystym sumieniem :)\"",
           "POS"
          ],
          [
           "Produkt o doskonałym kompaktowym wymiarze, który<br>sprwuje się bardzo dobrze do podstwowych domowych<br>potrzeb gdzie jest potrzeba odtworzenia płyt DVD.<br>Złącze HDMI zapewnia doskonała jakosc obrazu.<br>Bardzo łatwa obsługa wygodny pilot na<br>zadowalajacym poziomie. Praca z pamieciami Flasch<br>po podpieciu do portu USB uzalezniona od ich<br>objętości im większa pamięć tym dłuższa praca<br>urzadzenia. Do podstawowych potrzeb goraco<br>polecam.",
           "POS"
          ],
          [
           "Szukałam czegoś, co pozwoli mi zwiększyć pojemność<br>dysku mojego laptopa, a nie będzie powodować<br>problemów pierwszego świata, jak plątanina kabli<br>czy wystająca karta. Kiedyś widziałam coś<br>podobnego na zagranicznych stronach, a tu nagle<br>trafiłam na to cudo. Sprawdza się genialnie,<br>minimalnie wystaje, ale obły kształt i brak<br>krawędzi sprawiają, że nie ma szans tego zaczepić,<br>złamać itp. Super!",
           "POS"
          ],
          [
           "Świetne rozwiązanie do zastosowań domowych i nie<br>tylko, ogranicza was tylko wyobraźnia. Świetnie<br>trzyma telefon a nawet mały aparat fotograficzny.<br>Można to małe cacko ponieść ze sobą gdzie się chce<br>bo jest naprawdę leciutkie. Ustawić lub przyczepić<br>w najprzeróżniejszych miejscach i kręcić lub robić<br>zdjęcia w trudnych warunkach oświetlenia. Bomba do<br>zdjęć z książek.",
           "POS"
          ],
          [
           "Bardzo dobry odkurzacz. Siła ssania zaskakująco<br>mocna. Głośność akceptowalna, bo odgłos pracy jest<br>inny niż w starych odkurzaczach. Dzieci bały się<br>starego Samsunga o głośności podobnej w<br>decybelach, ale była inna praca silnika. Tego<br>odkurzacza się nie boją, bo przyjemnie szumi.<br>Polecam - zawsze długo i staranie dobieram sprzęt<br>- tym razem ponownie strzał w 10.",
           "POS"
          ],
          [
           "Rakieta - 8 rdzeni, 16 wątków. Super wentylator<br>RGB z logiem AMD. Chciałem z początku kupić<br>threadrippera, ale ten procesor starczy aż nadto.<br>Głównie dlatego, że większość obliczeń przerzucam<br>na GPU. Wentylator cichy. W dobrych płytach<br>głównych można zmieniać mu obroty w zależności od<br>temperatury procesora. W moim przypadku przez<br>większość czasu jest po prostu niesłyszalny.",
           "POS"
          ],
          [
           "Gorąco polecam tę szczotkę szczególnie<br>właścicielom czworonogów. Kilkanaście lat szukałam<br>skutecznego sposobu na sprzątanie kocich kłaków z<br>dywanów. Szczotki obrotowe nie dawały rady. Ta<br>szczotka jest rewelacyjna. Ściąga włosy<br>ekspresowo. Trzeba się trochę namachać ale efekt<br>jest piorunujący. Dla mnie to odkrycie równomierne<br>z odkryciem koła. No i cena oczywiście też super.<br>Taki efekt za niecałe 30 zł. POLECAM!!!!",
           "POS"
          ]
         ],
         "hovertemplate": "Annotation=%{customdata[1]}<br>t-SNE 1=%{x}<br>t-SNE 2=%{y}<br>sentence=%{customdata[0]}<extra></extra>",
         "legendgroup": "POS",
         "marker": {
          "color": "#636efa",
          "line": {
           "color": "DarkSlateGrey",
           "width": 1
          },
          "opacity": 0.8,
          "size": 10,
          "symbol": "circle"
         },
         "mode": "markers",
         "name": "POS",
         "orientation": "v",
         "showlegend": true,
         "type": "scatter",
         "x": [
          1.1456298,
          0.9492439,
          -3.517873,
          -2.4667604,
          -1.6793078,
          -1.5921948,
          1.5177046,
          1.592332,
          -3.491681,
          0.4668125,
          2.333479,
          -2.9393144,
          -0.86096764,
          -4.542308,
          1.1492652,
          1.8137321,
          -1.0822026,
          1.3160474,
          3.5755482,
          1.6784972,
          -5.35809,
          4.989165,
          1.8740288,
          1.8084295,
          4.4236946,
          -0.12960085,
          -0.9075763,
          -3.9644077,
          2.5717595,
          0.54768133,
          1.4721793,
          -6.218039,
          -5.697553,
          -1.8990692,
          0.5688218,
          -2.4283476,
          -1.3012911,
          -2.4857981,
          1.16617,
          -4.0781245
         ],
         "xaxis": "x",
         "y": [
          0.633435,
          4.537868,
          0.052606847,
          -0.20856674,
          -0.51205856,
          -1.6560585,
          -2.069711,
          2.5356054,
          -0.29927742,
          4.9741416,
          0.98083276,
          -2.65155,
          1.572437,
          3.6958463,
          4.0219646,
          -0.35597366,
          -3.8692796,
          -2.3783293,
          3.5237284,
          2.3576734,
          -2.488866,
          1.7874769,
          -0.8790769,
          4.7394276,
          -0.076369725,
          -6.1939545,
          -5.2457867,
          2.981007,
          -4.3292017,
          -0.26510584,
          4.392911,
          2.308319,
          1.098622,
          4.4218693,
          5.0445747,
          -1.272299,
          -0.07169091,
          0.43666533,
          3.0784318,
          3.0182705
         ],
         "yaxis": "y"
        },
        {
         "customdata": [
          [
           "Dla małych telefonów ok, choć plastik nie sprawia<br>wrażenia solidnego i wygina się dosyć łatwo.<br>Uchwyt nie nadaje się dla średnich i większych<br>smartfonów ponieważ jest za mały. Sprężyna jest za<br>silna i mój telefon, który ma 7,5 cm szerokości<br>wchodzi już na mocny wcisk i trudno go tam<br>zamocować.",
           "NEU"
          ],
          [
           "Całkiem ok trzyma się szyby jak nie odkleja się i<br>przykleja codziennie. 2 razy odpadł przy upale<br>powyżej 30 stopni - nie było to w trakcie jazdy.<br>Nie ma kilku kolorów metalowych naklejek na tył<br>smartfona, wg. mnie powinna być biała i czarna w<br>zestawie. Ja używam pod etui cienkim i jest ok.",
           "NEU"
          ],
          [
           "Łatwy montaż i dobrze trzyma się szyby. Szybkie,<br>proste wkładanie telefonu. Jeżeli nie używa się<br>telefonu ładuje tak szybko jak ładowarka<br>standardowa na kablu. Przy używaniu nawigacji,<br>ładowanie bardzo powolne, ale zawsze trochę<br>doładuje - ale musi być dobry zasilacz USB i dobry<br>kabel aby przy długim kablu był mały spadek<br>napięcia.",
           "NEU"
          ],
          [
           "Jestem zadowolony. Używam od ponad 2 tygodni<br>(słucham dużo muzyki przez Tidal). Dźwięk jest<br>przyjemny, ale kabel wydaje się być delikatny (nie<br>sądzę, żeby był w stanie wytrzymać rok). Dodatkowo<br>wadą jest ten pilot (przyciski dosyć ciężko się<br>naciska). Pilot mógłby być też lepiej<br>umiejscowiony.   Jednak sam mikrofon nadaje się do<br>rozmów",
           "NEU"
          ],
          [
           "W sumie uchwyt działa sprawnie - jedynym problemem<br>jest fakt, że mam zamykane etui na telefon i albo<br>trzeba zrezygnować z ładowania i przykrywkę<br>odwinąć do tyłu (pod telefon) - lub korzystać z<br>ładowania z zamkniętą klapką (brak możliwości<br>odebrania połączenia, nie widać kto dzwoni itp<br>itd. Sam uchwyt choć na początku zwróciła moją<br>uwagę delikatność wykonania spisuje się zupełnie<br>bez zarzutów.",
           "NEU"
          ],
          [
           "Po wyjęciu z opakowania wygląda na to że towar<br>jest ok. Telefon dobrze trzyma się w uchwycie.<br>Materiał na tyle giętki że da się formować i na<br>tyle sztywny że sam się nie odkształca. Jednym<br>słowem w sam raz. Może służyć do trzymania<br>telefony na szyi jak i w ręku. Całkiem fajny<br>pomysł.",
           "NEU"
          ],
          [
           "Drukarka laserowa ma pojemnik na arkusze A4 do 250<br>szt. czyli kartki nie są narażone na pogniecenie,<br>zakurzenie jak w tańszych modelach z podajnikiem<br>kartek i drukuje dwustronnie. Można też podawać<br>kartki pojedynczo z osobnej tacki co jest bardzo<br>wygodne np. przy zmianie formatu, koloru kartki<br>itp. Cena niewiele wyższa od najtańszych modeli<br>tej firmy.",
           "NEU"
          ],
          [
           "Części odpowiadająca za przylepienie/przyczepienie<br>super. Nigdy nie spada i wręcz lepi się do szyby.<br>Natomiast na głowicy kulkowej są duże wstrząsy<br>które przenoszą się na telefon podczas jazdy. Wiec<br>telefon zawsze się trzęsie na uchwycie. Dopiero<br>zamontowanie mniejszego telefony poniżej 4,5 cala<br>minimalizuje w/w objawy. Do dużych telefonów<br>uchwyty z głowicami są beznadziejne.",
           "NEU"
          ],
          [
           "Jeśli chodzi o myszkę liczyłem na trochę lepsze<br>wykonanie, główne przyciski dość głośne, boczne<br>przyciski są zbyt miękkie i mają za duży skok.<br>Jeśli chodzi o plusy to na pewno świetny scroll,<br>szeroki i wygodny. Dobra ergonomia, ale to już<br>zależy od wielkości dłoni, gdyż myszka jest<br>przeznaczona dla ludzi z dość dużym dłońmi.<br>Świetnie wykonany kabel. Dobra precyzja sensora.",
           "NEU"
          ],
          [
           "Produkt świetny, jedyne co się nie sprawdza to<br>nakładka goląca zarost i podstawka. Podstawka mało<br>stabilna, kiepsko mieszczą się na niej końcówki.<br>Porównując nakładkę do golarki do innej golarki<br>firmy Wahl to nakładka w zestawie mimo iż jest<br>podwójna jest beznadziejna. Pojedyncza golarka<br>Wahl ledwo daje radę, nakładka zostawia większość<br>włosków niezgolonych.",
           "NEU"
          ],
          [
           "\"\"\"Elastyczny\"\" to niefortunne okreslenie, to jest<br>kawal drutu, ktory pewnie po rozgrzaniu  w piecu<br>jest elastyczny ;). NIEMNIEJ jesli juz komus uda<br>sie wygiac go w żadany ksztalt, to jest dosc<br>stabilny. Raczej do wygiecia raz i zostawienia w<br>tej pozycji, a nie do zmieniania co chwile<br>umiejscowienia. Sam uchyt do mocowania do np.<br>blatu - OK.\"",
           "NEU"
          ],
          [
           "Moja stara N72 padła po 8 latach użytkowania. Nikt<br>nie chciał podjąć się naprawy. Kupiłem ten sam<br>model ze względu na bezawaryjność, przyciski<br>(sic!) i sentyment. Choć również jestem<br>użytkownikiem smartfona, to preferuję telefony z<br>klawiaturą, zwłaszcza, gdy korzystam z urządzenia<br>na mrozie czy deszczu. Nokia E72 nigdy mnie nie<br>zawiodła.",
           "NEU"
          ],
          [
           "Pierwszy raz miałem przypadek, że po wlaniu do<br>kartridża i włożeniu go do stacji, owa stacja<br>oszalała. Kartridż czyściutki, uzupełniony tym<br>płynem, a stacja stwierdziła, że potrzebna jest<br>wymiana kartridża... Nie wiem czym to jest<br>spowodowane, ale kupuję już Bioprettę od 2 lat i<br>zalewam nią ten sam kartridż i do teraz nie było<br>problemów. Braun 9260CC.",
           "NEU"
          ],
          [
           "Jak się przetrze czymś mokrym to faktycznie mocno<br>klei (aż trudno potem oderwać ;p), aczkolwiek<br>trzeba czyścić po kilku użyciach, inaczej od<br>wstrząsu zamykanych drzwi telefon potrafi odpaść.<br>Samo ramię trochę się trzęsie na wybojach, ale<br>generalnie wykonanie i plastiki są ok. Jak za 10zł<br>to jestem zadowolony, ale nie polecam tego uchwytu<br>kierowcom zawodowym.",
           "NEU"
          ],
          [
           "Pendrive solidnie wykonany,wytrzymały.Jeżeli<br>chodzi o prędkość przesyłania danych to niestety<br>jest kiepsko.Na usb 3.0 od 40 mb/s i spada.Mam<br>dysk innej firmy o pojemnosci 600 gb i bez usb 3.0<br>mam stabilnosc predkosc na poziomie 60 mb.  Jako<br>dodatkowy pendrive w ktorym mamy zapasowe pliki na<br>pewno polecam, do szybkiego przesylania danych<br>niestety sie nie nadaje :(",
           "NEU"
          ],
          [
           "Generalnie - patchcord, jak patchcord. Działał.<br>Niestety - muszę odjąć jedną gwiazdkę za długość<br>gotowania - jak na spaghetti - niestety<br>zdecydowanie za długo się gotuje. Aczkolwiek -<br>dobrze przyprawiony - jak najbardziej ok.  Trzeba<br>tylko pamiętać, aby zdjąć wcześniej wtyczki -<br>pomimo zieleni - nie dostarczają one żadnych<br>wartości odżywczych ....",
           "NEU"
          ],
          [
           "Jakość wykonania adekwatna do ceny. Szkło chroni w<br>pełni wyświetlacz, ale trzeba pamiętać , że nie<br>jest to pancerne szkło. Zakrywa cały wyświetlacz z<br>tym , że szkło nie jest zakrzywione. Klej trzyma<br>bardzo dobrze. Może ulec zniszczeniu przy<br>mocniejszym uderzeniu. Ogólnie produkt bardzo<br>tani, więc zakupiłem kilka szt na wypadek<br>zniszczenia ;) Polecam",
           "NEU"
          ],
          [
           "Produkt ok. Czyścik jest estetyczny i spełnia<br>swoje zadanie. Co prawda czarna farba na puszce<br>sprawia wrażenie jakby miała lada moment zejść,<br>ale to i tak nie jest sprzęt, z którym ktokolwiek<br>bedzię się deliktanie obchodzić ;) Instrukcja na<br>pudełku po angielsku przerzucona z chińskiego<br>tłumaczem dodaje temu przedmiotu specyficznego<br>uroku xd Przedmiot godny polecenia zwłaszcza za<br>taką cenę.",
           "NEU"
          ],
          [
           "Lokówka za tę cenę w porządku, raczej do<br>okazyjnego korzystania i na pewno konieczne jest<br>utrwalenie loków, bo nie ma zbyt wysokiej<br>temperatury, żeby same z siebie długo się<br>trzymały. Jeśli ktoś chce korzystać na co dzień,<br>lepiej kupić coś z regulacją temperatury, jeśli<br>tylko od czasu do czasu, to będzie ok.",
           "NEU"
          ],
          [
           "Wszystko w porządku. Działa jak należy. Niestety,<br>jeśli mamy gniazdko, gdzie bolec od górnego portu<br>jest w dolnej cześci, a bolec od dolnego portu<br>jest w górnej części, to niestety nie da się<br>włożyć programatora tak, żeby zająć to drugie<br>gniazdko przez inne urządzenie. Programator spięty<br>z bojlerem, nie nagrzewa się nadmiernie.",
           "NEU"
          ],
          [
           "Niestety, plastikowe uchwyty ułamały się po ok 2<br>tyg. mimo że telefon ani nie upadł, ani nie został<br>uderzony. Generalnie etui fajne ale zrobione z<br>bardzo słabego materiału, ale czego można<br>oczekiwać od etui za 9zł gdy oryginał kosztuje<br>ponad 100zł. Oczywiście nie jest to wina sklepu,<br>nie jest on producentem. Szkło na telefon jak<br>najbardziej OK",
           "NEU"
          ],
          [
           "To nie jest zarzut, ale rada. Jeśli zrobiłeś<br>bochenek w tosterze, nie usuwaj go natychmiast.<br>Pozwól mu wchłonąć całe ciepło z elementu<br>grzejnego tostera. Natychmiast zaczęliśmy gotować<br>bochenek w tosterze i natychmiast go wyjęliśmy. A<br>po 3 razach zwróć uwagę, że korpus tostera stopił<br>się trochę, prawie do dziury. To jego wada -<br>cienkie obudowa.",
           "NEU"
          ],
          [
           "Szkło pasuje idealnie, założenie nie sprawia<br>dużego problemu. Jednak strasznie łapie wszelkie<br>zabrudzenia, palcuje się. Po pierwszym upadku<br>telefonu z wysokości około 50 cm szkło odkleiło<br>się. Spowodowane jest to małą powierzchnią kleju -<br>tylko na rantach wokół. Cała powierzchnia ekranu<br>tylko przylega. Trzeba zwiększyć czułość dotyku<br>urządzenia aby można było normalnie używać<br>telefonu.",
           "NEU"
          ],
          [
           "\"Podstawową funkcję raczej spełnia tj. filtruje.<br>Niestety brak tej (zazwyczaj niebieskiej)<br>\"\"czapki\"\" z okienkiem do zaznaczania miesiąca.<br>Numery miesięcy są, ale nie ma jak zaznaczyć,<br>niestety zorientowałem się już po wyrzuceniu<br>starego filtra więc przełożenie nie wchodzi w grę.<br>Przez brak tego elementu filtr nie siedzi w<br>zbiorniku na wodę sztywno tylko się kiwa.\"",
           "NEU"
          ],
          [
           "\"Miernik przyszedł zupełnie rozkalibrowany. Na<br>szczęście dają saszetki do kalibracji, niestety<br>już je zużyłem i z ponowną kalibracją za jakiś<br>czas będzie problem (lepiej gdyby można to było<br>kalibrować czymś łatwo dostępnym - np wodą<br>destylowaną i coca-colą). Czasem pokazuje<br>dokładnie, czasem zupełnie \"\"świruje\"\" i wyświetla<br>losowo zupełnie rozbieżne wartości pH.\"",
           "NEU"
          ],
          [
           "Obudowa wygląda dobrze. Po wyciągnięciu z pudełka<br>ma się wrażenie, że odebraliśmy oryginał NOKIA.<br>Nie mniej jednak wydaję się, że jest to dobry<br>jakościowo zamiennik. Brakuję kilku wypustek w<br>metalowym korpusie wewnętrznym, jeżeli porównujemy<br>z oryginałem, ale nie przeszkadza to w złożeniu<br>telefonu w jedną całość. Ze względu na wiek<br>telefonu, taki zamiennik, za taką kwotę można<br>przyjąć.",
           "NEU"
          ],
          [
           "\"Produkt oryginalny. Po wymianie maszynka jak nowa<br>- goli bezboleśnie, bez wibracji i hałasu.  Jeśli<br>ktoś ma podstawowe umiejętności i cierpliwość, to<br>możliwe jest rozebranie bloku na części i<br>gruntowne oczyszczenie. Jeśli na golarce jest<br>napisane \"\"use part 32B\"\", to nie radzę zastępować<br>tańszym 21B, bo będą niepotrzebne drgania i hałas.<br>Wiem, bo raz się sam nadziałem z<br>\"\"oszczędności\"\".\"",
           "NEU"
          ],
          [
           "Urządzenie kupione w celu użytkowania, jako budzik<br>doskonale widoczny w nocy. Spełnia swą rolę<br>doskonale, jednakże ekran dotykowy oraz menu<br>ustawień jest niskiej jakości. To samo dotyczy<br>wyboru wyświetlania czasu - po prostu nie ma go.<br>Zdaję sobie sprawę, że jest to urządzenie mające<br>służyć zupełnie innym celom, ale lepszą decyzją<br>byłby tablet...",
           "NEU"
          ],
          [
           "Statyw fajnie wykonany, wysoki i ku mojemu<br>zdziwieniu stabilny (statywy w tym przedziale<br>cenowym mają skłonności do przewracania się, gdy<br>podłoże nie jest idealnie płaskie). Jedynym<br>minusem, którego się dopatrzyłem to to, że głowica<br>nie pozwala na płynną pracę (płynny ruch) przez co<br>nagrywanie filmów z tego statywu może być trudne.",
           "NEU"
          ],
          [
           "założyłem sam i działa..zamiennik jak w<br>opisie..pasuje nawet spoko..ale..szkło jest bardzo<br>delikatne , rogi ekranu mniej dokładnie<br>wykończone, niestety jakość nieporównywalna do<br>oryginału.. ale wiadomo..cena.., zamiennik jest 2x<br>lżejszy i przy przyciskaniu dotyku widać<br>odbarwienia także trzeba uważać żeby nie pękło.<br>takie moje spostrzeżenia i różnice a używałem<br>oryginał rok..tak czy inaczej warto się pobawić :)",
           "NEU"
          ],
          [
           "Nie ma tragedii, ale zastosowany materiał nie jest<br>zbyt wytrzymały, a spasowanie części również nie<br>jest idealne. Dedykowane szkło jest odczuwalnie<br>grubsze niż te powszechnie stosowane i mam<br>wrażenie że przez to ekran jest mniej czuły.<br>Plusem jest to, że etui obejmuje również przednie<br>zaokrąglone krawędzie wyświetlacza. Raczej nie<br>zdecydowałbym się na ponowny zakup.",
           "NEU"
          ],
          [
           "etui pasuje do Samsunga 4+ co do szybki mam<br>niewielkie zastrzeżenia (rozmiar i kształt<br>uniwersalny) ,szybka która miała chronić telefon<br>pękła na rogu w palcach przed przyklejeniem jej do<br>telefonu . Powierzchnia mimo dokładnego<br>oczyszczenia nie przykleiła się na całej<br>powierzchni i na ekranie widoczny jest podłużny<br>pasek powietrza pod spodem",
           "NEU"
          ],
          [
           "Zestaw nie zawiera instrukcji montażu, więc zajęło<br>chwilę poskładanie go tak jak należy. Niektóre<br>elementy nie wydają się bardzo solidne (np.<br>oprawki żarówek, statyw). Ogólnie zestaw jest OK,<br>jak za taką cenę. Zdjęcia przedmiotów w nim<br>umieszczonych wychodzą dużo lepiej niż samym<br>aparatem z lampą - cienie faktycznie są miękkie i<br>delikatne.",
           "NEU"
          ],
          [
           "ładny i przydatny co do jakośc oczyszczania nie<br>mogę nic powiedzieć bo nie mam jak sprawdzić  Wg.<br>mnie istotne: wskaźnik LED odlicza dni niezależnie<br>czy uzywałeś codziennie czy nie więc nie wiadomo<br>właściwie kiedy zmienić filtr (150 l w ciągu 30<br>jesiennych dni nie przelaliśmy przez dzbanek na<br>pewno). Używamy wyłącznie do picia. Do gotowania<br>natomiast wodę z kranu.",
           "NEU"
          ],
          [
           "Etui mega spoko, dobrze się trzyma telefonu i<br>zmienia jego wygląd na plus, aż znajomi pytali czy<br>kupiłam nowy telefon.  Niestety szybka trochę<br>gorszej jakości - ale może to dlatego, że ekran<br>mojego modelu tel. jest lekko zaokrąglony i żadna<br>szybka nie trzyma się zbyt dobrze, przez co potem<br>pęka :(   OBsługa i wysłka na 5!",
           "NEU"
          ],
          [
           "Produkt posiada wszystkie wcięcia które powinien<br>posiadać, lecz nie wszystkie kable da się<br>podłączyć do lądowania (dolną część ramki przy<br>gnieździe do ładowania trzeba nadpiłować). Poza<br>tym ramka godna polecenia. Nie odpina się, spadł<br>telefon mi nie raz i nadal żyje (nie korzystam ze<br>szkła hartowanego). Lepsze rozwiązanie niż z<br>podobnymi ramkami przykręcanymi na śrubki które<br>wiecznie się odkręcają.",
           "NEU"
          ],
          [
           "to jak dobrze się klei do magnesu zależy od siły<br>magnesu, więc ciężko o uchwyt z wystarczająco<br>silnym magnesem, bo sam telefon też trochę waży ;/<br>cała reszta jak najbardziej na plus, wygodny i nie<br>tylko powierzchnia ale też dodatkowy uchwyt na<br>palec zwiększa znacznie pewny chwyt :) jak z<br>ochroną ciężko mi ocenić, bo nie upuszczam<br>telefonów",
           "NEU"
          ],
          [
           "Nie mam możliwości zbadania wody przed i po<br>filtrowaniu, ale czajnik, do którego lejemy wodę<br>tylko przefiltrowaną wcześniej do dzbanka dużo<br>mniej zarasta kamieniem (nie to, ze w ogóle, ale<br>różnica jest bardzo wyraźna). Z rzadka zdarzy, że<br>filtr się przytka (zdarzało się też przy innych<br>producentach), wtedy wystarczy go wyciągnąć i<br>wstrząsnąć.",
           "NEU"
          ],
          [
           "Dla początkujących jak najbardziej okej. Dźwięk<br>nieco przytłumiony, ale to jest mikrofon za kilka<br>stówek, który ma w sobie interfejs audio.<br>Mikrofony pod usb nigdy nie będą tak dobre jak te<br>łączone preampem czy mikserem. Wykonanie<br>wporządku, statyw troszkę ssie popfiltr daje radę.<br>Pudełko raczej minimalistyczne ja osobiście<br>musiałem dokupić walizkę aby móc go bezpiecznie<br>przewozić.",
           "NEU"
          ],
          [
           "\"Dobra, zgodnie z oczekiwaniami. MA być szybsza od<br>klasycznych mechaników - nie jestem w stanie tego<br>zmierzyć.  Dla zwykłego \"\"pisania\"\" nie najlepsza<br>ze względu na czcionkę i widoczność liter<br>wyłącznie po podświetleniu klawiatury.  Ale szybka<br>potrzebna jest do grania, nie do pisania. Do gier<br>fajna, a pisma też można, tylko trzeba się<br>przyzwyczaić. Jeśli poszukujesz mechanicznej -<br>polecam. \"",
           "NEU"
          ],
          [
           "Bardzo dobrze wykonane etui, idealnie pasuje do<br>telefonu. Jedyny minus to wyjście na słuchawki.<br>Jest otwór w gumie, ale nie ma go w klapce etui,<br>więc podłączenie słuchawek uniemożliwia zamknięcie<br>klapki. Szkło też pasuje idealnie, natomiast<br>ściereczka, która powinna być nasączona płynem do<br>wyczyszczenia ekranu, była sucha. Poza tym brzegi<br>szkła nie doklejają się dokładnie do ekranu.",
           "NEU"
          ],
          [
           "Płytka, jak płytka. Robi swoje. Trzyma aparat,<br>trzyma się w głowicy. Kupiłem ją jako zamiennik do<br>głowicy Vanguard GH-300T. Była jednak za krótka.<br>Gdyby nie to, byłaby OK. Choć opisują ją jako<br>38mm, jest jakby trochę za szeroka i za gruba do<br>tej głowicy, ale dałoby się ją zamontować i<br>używać.",
           "NEU"
          ],
          [
           "Łatwo zamontować, ale trzeba uważać, bo podkład-<br>zabezpieczenie jest twardsze niż samo szkło. Nie<br>trudno złamać szkło przy odklejaniu od<br>zabezpieczenia. Samo szkło ma dobry poślizg,<br>dobrze przylega i ma odpowiednią ilość kleju. Na<br>minus ramki boczne w kolorze, które zasłaniają<br>boczną krzywiznę. Sam dotyk łapie nawet na<br>zakrzywieniu. Gdyby nie to obramowanie to byłby<br>ideał.",
           "NEU"
          ],
          [
           "\"Wieszak wykonany w bardzo przyzwoity i solidny<br>sposób. Przeznaczony raczej dla ciężkich<br>telewizorów o dużej przekątnej ekranu. Niestety<br>mimo standardu VESA nie nadaje się do telewizorów<br>o rozstawie otworów 30X20 cm - otwory nie są<br>dopasowane i przy np. przekątnej 55\"\" uchwyty będą<br>wystawać poza telewizor, chyba że nawierci się<br>dodatkowe otwory samemu. \"",
           "NEU"
          ],
          [
           "spełnia swoje zadanie, ale poprzedni model który<br>miałem miał metalowy spód a tu plastik, nie<br>otwiera się bezszelestnie tylko na sucho trochę<br>szoruje (przydałoby się jakieś smarowanie), wydaje<br>sygnał dźwiękowy otwierając się z kilko sek.<br>opóźnieniem, to też w porównaniu do mojej<br>oryginalnej z laptopa trochę dziwne, dioda świeci<br>na żółto, a w starej miałem na pomarańczowo",
           "NEU"
          ],
          [
           "etui ładne, magnes trzymam wzorek nie ściera się,<br>na narożnikach wycierają się krawędzie, z czasem<br>zgięcia etui przestają się trzymać w pozycji np.<br>do oglądania filmu. Szkło pomimo reklamowania<br>dopasowania do konkretnego modelu telefonu nie<br>przylega w całości (w opisie uwzględniono to) -<br>jest o 5 mm krótsze niż ekran i na zaokrągleniach<br>płaszczyzn odstaje.",
           "NEU"
          ],
          [
           "Dysk jest widoczny jako SAMSUNG - nieco mniejsza<br>pojemność od zadeklarowanej ( około 112 GB)  Lecz<br>za takie pieniądze to świetny zapas na dane - tym<br>bardziej że HDD a nie flasch więc jest szansa że<br>przetrwają lata ( np zdjęcia i filmy jakie chcemy<br>zachować - bo właśnie w tym celu został zakupiony<br>)",
           "NEU"
          ],
          [
           "Zakupiłem torbę razem z maszynkami do strzyżenia<br>oraz innymi akcesoriami fryzjerskimi. Z początku<br>myślałem, że jest za duża ale po ułożeniu<br>wszystkiego w środku okazała się w sam raz.<br>Zamykana jest na zamek z dopinanym paskiem i<br>wyposażona w środku w kieszonki na maszynki oraz<br>inne akcesoria dzięki czemu można mieć wszystkie<br>potrzebne do strzyżenia rzeczy w jednym miejscu.",
           "NEU"
          ],
          [
           "Bateria zapakowana fabrycznie jednak w instrukcji<br>napisane było,że powinna pokazywać 70% naładowania<br>a niestety było 5% ! Po trzech próbach ładowania<br>(ładowała się kilka minut i konie) naładowała się<br>i działa ale nie wiem czy to 5 zamiast 70 nie<br>będzie miało wpływu na żywotność.Nie jestem w<br>stanie tego ocenić po kilku dniach więc mam trochę<br>mieszane odczucia.",
           "NEU"
          ],
          [
           "\"Według mnie najlepszy rodzaj etui, wytrzymałe i<br>dobrze chroni, niestety \"\"nózka\"\" się wyrabia i po<br>kilku miesiącach (jeżeli się jej często używa)<br>potrafi się popsuć, tzn. połamać bądź pęknąć. Mimo<br>to telefon w czymś takim nie wygląda źle, a jego<br>żywotność na pewno mocno się wydłuża i korzystam z<br>miłą chęcią.\"",
           "NEU"
          ],
          [
           "Etui ładne, niestety zostaje sporo tłustych<br>śladów, a dostęp do otwarcia stopki (kółka) jest<br>nieco ograniczony i trudno to zrobić bez paznokci.<br>Telefon na pewno ochroni lepiej od jakiegoś<br>zwykłego silikonu i jest przyjemne w dotyku, a<br>fakt iż można w sekundę zamontować telefon do<br>stojaka (niestety chyba tylko do samochodu) za<br>pomocą magnesu to ogromny plus.",
           "NEU"
          ]
         ],
         "hovertemplate": "Annotation=%{customdata[1]}<br>t-SNE 1=%{x}<br>t-SNE 2=%{y}<br>sentence=%{customdata[0]}<extra></extra>",
         "legendgroup": "NEU",
         "marker": {
          "color": "#EF553B",
          "line": {
           "color": "DarkSlateGrey",
           "width": 1
          },
          "opacity": 0.8,
          "size": 10,
          "symbol": "circle"
         },
         "mode": "markers",
         "name": "NEU",
         "orientation": "v",
         "showlegend": true,
         "type": "scatter",
         "x": [
          -4.190357,
          2.6148205,
          -4.851126,
          -6.092695,
          0.07552161,
          3.7930975,
          3.4055169,
          1.9991101,
          -4.5873337,
          0.90200824,
          4.8735538,
          0.23239218,
          -0.5896009,
          -4.9390197,
          1.4989014,
          3.3353193,
          -3.5672543,
          -2.3073027,
          -2.082692,
          -0.85592854,
          -3.6881676,
          3.0727124,
          -0.21277118,
          -1.7534983,
          -5.0762267,
          -1.9160737,
          -0.061093334,
          -3.028851,
          -1.907859,
          -3.8517847,
          -4.3936706,
          1.9176201,
          -4.1941166,
          -2.2668142,
          -3.8921914,
          -0.12999398,
          -4.549142,
          -5.948308,
          -4.3448224,
          -0.2916514,
          0.46845,
          4.658543,
          -3.3913615,
          2.6822455,
          1.1508962,
          2.195915,
          2.7863185,
          2.701504,
          -1.5367471,
          -4.330231,
          -0.74637294
         ],
         "xaxis": "x",
         "y": [
          -1.7065626,
          0.20421311,
          -4.366293,
          -3.4324238,
          -0.81670105,
          -1.053926,
          -2.6594296,
          -2.4273388,
          -2.0087738,
          -4.73106,
          1.6779544,
          0.28810692,
          3.2217007,
          -0.31463718,
          4.523002,
          5.0302887,
          -2.6561074,
          -2.0170794,
          1.4161769,
          -1.1114122,
          -2.6672337,
          1.1804849,
          -3.1465144,
          0.6806629,
          1.7137939,
          -2.309462,
          1.3655633,
          -3.916712,
          -2.8932211,
          -0.18565309,
          -3.0485303,
          -3.503337,
          0.49590778,
          1.6332605,
          -1.6320344,
          -1.797586,
          -1.2607366,
          2.0748954,
          0.43033147,
          2.4381042,
          -3.6766458,
          -0.15426613,
          -1.4195108,
          -2.7874556,
          -1.2365737,
          -3.132864,
          3.1424322,
          -1.2860811,
          2.54675,
          -0.9647543,
          0.34434512
         ],
         "yaxis": "y"
        },
        {
         "customdata": [
          [
           "Pozytywne opinie na temat tego uchwytu zachęciły<br>mnie do jego zakupu, niestety bardzo się<br>rozczarowałam. Uchwyt wcale nie trzyma się<br>kokpitu, już po chwili sam się odkleja. Próbowałam<br>zamontować go kilka razy, niestety nie udało się.<br>Być może do szyby się nada, ale jeśli ktoś chce<br>ten uchwyt na kokpit to nie polecam, strata<br>pieniędzy.",
           "NEG"
          ],
          [
           "O Ile inny produkt tej firmy został mi polecony<br>przez profesjonalnego fryzjera, tak ten konkretny<br>jest po prostu chińskim tworem z naklejką WAHL.<br>Maszynka w dotyku tania i lekka. Nie sprawia<br>dobrego wrażenia. Silniczek wydaje przeraźliwe<br>dźwięki i działa tylko wpięty sieciowo. Ledwo<br>zipie na akumulatorze, dlatego nie polecam jeśli<br>ktoś chce używać mobilnie.",
           "NEG"
          ],
          [
           "ciężko podważyć ich oryginalność, na co dostałem<br>zapewnienie, bo wyglądają identycznie jak te<br>dołączone do Samsunga S8 za 2500zł, które miałem<br>okazję testować od znajomego (dlatego się<br>połasiłem) Niemniej grają o wiele słabiej. Mają<br>zdecydowanie mniej dołu, są cichsze, dźwięk jest<br>mniej nasycony. Reasumując sugeruję testować je na<br>miejscu i wtedy podejmować decyzję w celu<br>uniknięcia rozczarowania. pozdrawiam.",
           "NEG"
          ],
          [
           "\"Zasługuje na dwie i pół gwiazdki. Łączenie z<br>odbiornikiem dobre, nie zawsze można odebrać<br>poprzez przycisk. Niska jakość i wytrzymałość<br>pałąka mocowania, powinna byś profilowana. Po<br>dwóch miesiącach kupiłem nowy, po kolejnych znowu.<br>W uchu siedzi dobrze, lecz ze względu na kształt<br>gumy zaczyna \"\"drażnić\"\", odbiorca połączenia<br>niezależnie od marki telefonu, smartfona narzeka<br>na jakość połączenia, użytkownik ma świetną<br>słyszalność. Nie kupię powtórnie.\"",
           "NEG"
          ],
          [
           "\"Jakość tego produktu jest fatalna. Końcówka USB<br>jest wadliwa i bardzo luźno siedzi w gniazdku,<br>więc komputer przeważnie w ogóle nie widzi tego<br>dysku, a każde potrącenie czy dotknięcie kabelka<br>powoduje podłączenie/rozłączenie. Sama obudowa<br>wygląda na bardzo kiepską i niesolidną. Dysk w<br>środku \"\"lata\"\", jak potrząśnie się nim lekko,<br>słychać stukot. Nie zapisałabym na nim moich<br>plików. Nie można zaufać temu produktowi... \"",
           "NEG"
          ],
          [
           "niestety  przystawka absolutnie nie spełnia swojej<br>roli tak jak mowa w nazwie . Wyciskane maliny wraz<br>z sokiem i tak wychodziły wylotem z przodu<br>maszynki  . a bokiem tylko niewielka ilość soku.<br>Pomimo regulacji pokrętła z przodu przystawki ,<br>nic to nie dało . Jestem nie zadowolona z takiego<br>rozwiązania.",
           "NEG"
          ],
          [
           "jedyne co się zgadza to ze pokrywa cały ekran.<br>natomiast to niby dopasowanie polega na 2<br>grubościach normalnie z chamskim schodkiem,<br>żadnego zaokrąglenia. telefon wygląda gorzej niż<br>ze zwykłym szkłem. szkło nie będzie pasowało do<br>większości etui chroniących przód telefonu, gdyż<br>trzyma się na tyle słabo że etui je odrywa od<br>ekranu.",
           "NEG"
          ],
          [
           "Trudno ocenić , ale wydaje mi się ,że nie są zbyt<br>skuteczne do twardej wody. Do ekspresu używałem<br>wyłącznie wody z tego filtra i zakamienił się<br>bardzo szybko. Podejrzane wydaje mi się to ,że<br>woda przelewa się przez filtr bardzo szybko i nie<br>wiem czy ma czas się odkamienić . Ogólnie jestem<br>rozczarowany.",
           "NEG"
          ],
          [
           "Jedno z połączeń ma luzy. Tego luzu nie można<br>skasować.  Kamera nagrywa ładny obraz tylko<br>podczas jazdy po  gładkim jak stół asfalcie. Na<br>wszelkich nierównościach  wpada w takie drgania,<br>że miałem obawy czy się nie urwie.  Wkręt<br>(malutki) metalowy wkręcony w plastik to marny<br>pomysł na przenoszenie drgań. W oczach widać jak<br>luz  robi się coraz większy.",
           "NEG"
          ],
          [
           "Etui w żaden sposób nie chroni telefonu, przy<br>bardzo małym upadku dosyć, że magnesy się<br>rozczepily to tylna pokrywa pękła. Dzięki temu<br>zamiast super ochrony telefonu mam go<br>rozwalonego.!!! W dodatku szkło pękło na 3 dzień<br>użytkowania z niewiadomych przyczyn (chyba<br>najbardziej cieniutkie szkło). Nie polecam. Lepiej<br>kupić gumowe etui za 5 złoty...",
           "NEG"
          ],
          [
           "Etui na zdjęciu prezentuje się elegancko jednak w<br>rzeczywistości totalny badziew. Plastik słabej<br>jakości, ma się wrażenie że montujac telefon w<br>obudowie zaraz wszystko popęka (choć i tak do mnie<br>produkt trafił już uszkodzony więc telefon nie<br>mógł być umieszczony w etui) klapka obudowy w<br>ogóle się nie domyka, lata bezwładnie w lewo i<br>prawo. Również nie polecam",
           "NEG"
          ],
          [
           "Niestety szkło w zamyśle jest do Nokii 7,1<br>aczkolwiek w rzeczywistości pasuje, ale tylko na<br>szerokość. Na długość już nie bardzo. Przy próbie<br>montażu okazało się, że wycięcie na przedni aparat<br>nie jest kompatybilne gdyż zasłania część aparatu<br>oraz czujnika zbliżeniowego. Aby tego uniknąć<br>należy zamocować szkło tak aby w górnej części<br>wystawało poza obrys telefonu ok. 1.5 mm...",
           "NEG"
          ],
          [
           "Drugi raz już nie popełnię tego samego błędu. To<br>szkło jest niedopasowane do telefonu, szybko się<br>odkleja, a przez to dotyk nie działa jak powinien.<br>Ogólnie strata czasu i pieniędzy na tego typu<br>szkła. Lepiej poszukać szkła, które być może nie<br>jest zaokrąglone na krawędziach, za to lepiej<br>spasowane do telefonu",
           "NEG"
          ],
          [
           "Zakupiony egzemplarz nie był dobrze spasowany,<br>ramka etui delikatnie wygięta, kłopot sprawiał<br>tylni panel - montaż siłowy na wcisk - nie wsuwany<br>jak podano, ponad to panel tylni się ruszał,<br>dołączone szkło hartowane nie trzymanie się<br>telefonu mimo uprzedniego przygotowania<br>wyświetlacza, dołączone ściereczki zamiast mokre<br>były suche. Dokonano reklamacji - towar został<br>wymieniony na inny bez ponoszenia kosztów.",
           "NEG"
          ],
          [
           "Niestety, kolor jest nietrwały i się zdrapuje.<br>Boki już mam praktycznie starte i widać czarne<br>rysy. Szkoda, ponieważ obudowa naprawdę fajnie<br>wygląda i rzeczywiście na początku wyglądała<br>dobrze i estetycznie. Jednak z kolejnymi dniami<br>wyglądało to gorzej dlatego zdecydowałam się<br>pomalować lakierem (co również nie wygląda dobrze<br>ale chciałam dłużej zachować kolor). Z żalem<br>stwierdzam, że obudowa tylko na chwilę",
           "NEG"
          ],
          [
           "Tak sobie. Niby lekki, zwinny i poręczny. Ale to<br>chyba koniec jego zalet. Buczy jak stary kopciuch,<br>ssanie też bez szału - dywanu nie porywa.  Na plus<br>jest jeszcze bezworkowość. Ale cyklonowy? Jak<br>zobaczyłam to u rodziców to miałam niemiłe<br>skojarzenia z panem z kiepskim wąsikiem.  W każdym<br>bądź razie odkurza jak każdy inny znany mi<br>odkurzacz.",
           "NEG"
          ],
          [
           "Produkt godny polecenia ale ZAWSZE mam z nim jedne<br>problem. Przy próbie wytarcia nadmiaru kleju<br>zawsze wyjedzie go troszkę spod szkła. Dodatkowo<br>tym razem nadmiar kleju wlał się do obudowy przez<br>szpary przy bocznych klawiszach... pomimo<br>zastosowanych, załączonych, podkładek, które ten<br>nadmiar miały z boków pochłonąć. Wszystko zrobione<br>zgodnie z instrukcją, a jednak.... Na Note 8<br>takiego wycieku nie miałem.",
           "NEG"
          ],
          [
           "Szkło zle przylega do telefonu. Tylko cieniutki<br>pasek kleju trzymał szkło na telefonie i przez to<br>pod szkło przyklejaly się brudy. Dodatkowo w<br>miejscu kleju dotyk nie działa, co oznacza brak<br>możliwości uzywania dotyku na skrajnych brzegach<br>telefonu. Po jednym dniu użytkowania szkło musiało<br>wyladowac w koszu z polecenia serwisanta w<br>autoryzowanym serwisie Apple. Nie polecam,<br>pieniądze wyrzucone w błoto.",
           "NEG"
          ],
          [
           "Sprzedającego ten produkt omijać z daleka. Sprzęt<br>nie zgodny z tym co jest wystawione na<br>aukcji,czyli starszy model. Widoczne były ślady<br>użytkowania. Nie podłączyłem tych słuchawek bo nie<br>był to ten model co widniał na aukcji. Reklamacja<br>i zwrot odbyła się bez problemów z jedną małą<br>rzeczą.. Nie mogłem odesłać w pakiecie Smart.",
           "NEG"
          ],
          [
           "Bardzo kiepskie wykonanie nie polecam zakupu. Klej<br>naniesiony nie trzyma, dotyk źle wykrojony nie<br>przylega do ramki w rogach, otwór na przycisk home<br>zbyt wielki w konsekwencji przycisk lata na boki,<br>trzeba się zaopatrzyć w klej B-7000, szkło nie<br>dolane z wadą na środku w konsekwencji wielki<br>bombel i o wiele za wąski od razu poszedł do kosza",
           "NEG"
          ],
          [
           "Etui na pierwszy rzut oka wydaje się bardzo ładne<br>i dobrze wykonane lecz nie nadaje się do użytku.<br>Przednia część etui jest sztywna i twarda co<br>powoduje powstawanie ryz w przypadku dostania się<br>zanieczyszczeń pomiędzy wyświetlacz a etui. Po<br>tygodniu użytkowania szkło na wyświetlaczu<br>nadawało się do wymiany. Szkoda telefonu.<br>Aplikacja nie działa.",
           "NEG"
          ],
          [
           "Brak opakowania, instrukcji przez co występują<br>trudności w identyfikacji sterowników - nie<br>instaluje się też automatycznie  pod Win7. Nie<br>uruchamia się po uśpieniu, gubi sterowniki, sieć<br>przez co rozłącza się i co utrudnia użytkowanie.<br>Prawdopodobnie produkt z odzysku, po zwrocie nie w<br>pełni kompatybilny i  sprawny. Bez anteny b. słaby<br>zasięg.",
           "NEG"
          ],
          [
           "Jakość i praktyczność wykonania tego trymera<br>pozostawia naprawdę wiele do życzenia. O golarce w<br>tym zestawie nie warto nawet wspominać. Lepiej od<br>razu ja wyrzucić. Za połowę ceny można kupić nieco<br>lepszy produkt produkowany dla marketów jak np<br>Lidl. Jednym słowem warto dołożyć kilkanaście<br>złotych i zakupić np Philipsa. Różnica kolosalna.<br>Nie polecam.",
           "NEG"
          ],
          [
           "Kompletna TANDETA!!!  To szkło w ogóle nie pasuj<br>do LG K8 2017, jest za długie, wycięcia są<br>nieprawidłowe, zgadza się tylko szerokość ale co z<br>tego skoro odstaje bokami, jest PŁASKIE a nie<br>zaokrąglone jak mówi opis, N I E    P O L E C A M<br>! ! !",
           "NEG"
          ],
          [
           "LCD świeci ładnie i wyraźnie. Nie jest to co<br>prawda amoled samsunga ale wygląda znośnie.<br>Problem w samym wykonaniu frontu.Sam LCD Jest<br>nieznacznie grubszy niż oryginał i nie ma<br>możliwości poprawnego wklejenia w ramki. Całość<br>nie mieści się w korpusie. Całość po wklejeniu<br>wystaje z ramki o ok 0.5mm. Nie wygląda to fajnie.",
           "NEG"
          ],
          [
           "Mówiąc krótko szkło kiepskie. Dłużej: szkło na<br>starcie jest porysowane, pasek odkleił się sam i<br>nie odkleił folii, co spowodowało, że trzeba było<br>ją mechanicznie odkleić (to spowodowało odciski<br>palców i kurz). Wacik do polerowania zostawia<br>bardzo dużo niteczek, nie nadaje się kompletnie.<br>Po tej zabawie tylko porysowany telefon. Nie<br>polecam kompletnie.",
           "NEG"
          ],
          [
           "Co prawda szkło jest jeszcze krótko na moim<br>telefonie ale już chcę przestrzec potencjalnych<br>kupców o fakcie, iż przez nie (to szkło) bardzo<br>słabo a praktycznie kompletnie nie działa czytnik<br>linii papilarnych. Oby chociaż dobrze ochroniło<br>przed ewentualnym zbiciem ekranu, chociaż chyba<br>nie chciałabym sprawdzać bo jeszcze bym się<br>rozczarowała.",
           "NEG"
          ],
          [
           "Witam niestety gdzieś zawieruszył mi się paragon i<br>nici  z reklamacji ,towar oceniam na  beznadziejny<br>,bateria jest minimalnie mniejsza od wyciągniętej<br>fabrycznej ,ale to by jeszcze nie miało  takiego<br>znaczenia gdyby bateria pracowała poprawnie a<br>pracuje beznadziejnie ,średnio  przy normalnym<br>użytkowaniu wymagała ładowania dwa razy na dzień",
           "NEG"
          ],
          [
           "Rozumiem,że cena słuchawek nie jest porywająca ale<br>fakt,że jedna słuchaweczka była pęknięta a z<br>drugiej paczki, słuchawek jedna z niej jakby nie<br>sklejona od razu wypadła, przentując mi zaratość<br>kabelków itd , to uważam ,ż etowar jest wadliwy.<br>Chyba bym nie poleciła. Za 15,99 kupiłam w<br>markecie identyczne, wszytsko działa, nei rozpadły<br>się po rozpakowaniu :)",
           "NEG"
          ],
          [
           "Generalnie OK, jednak po sprzęcie kilkukrotnie<br>droższym od najtańszego spodziewałem się lepszej<br>jakości. Radio koszmarne, jeśli ktoś kupuje, żeby<br>posłuchać przed snem, to niestety nie nadaje się.<br>Projektor tylko na sufit i to w pozycji dziwnej,<br>zmiana i regulacja średnio pomaga. Jako zegarek<br>spełnia swoją funkcję, gdu=yby nie radio, można<br>polecać.",
           "NEG"
          ],
          [
           "\"Albumy są słabej jakości. Materiał nie jest<br>dostatecznie wytrzymały, stąd też zagniecenia<br>okładki albumu  powstają już w chwili transportu.<br>Folia z której wykonana jest \"\"koperta\"\" na<br>zdjęcia jest bardzo delikatna i targa się podczas<br>umieszczania zdjęć w albumie. Cena nie jest<br>wygórowana, ale w marketach można kupić album w<br>tej samej cenie w dużo lepszym wykonaniu.\"",
           "NEG"
          ],
          [
           "Porażka! Z tak słabymi zdjęciami jeszcze się nie<br>spotkałam a zawsze zamawiam przez internet!<br>Jakość, kolory i papier który jest bardzo cienki-<br>pierwszy raz coś takiego widzę!  Zdjęcia poniżej<br>do porównania oryginalnego i odbitki. Nie wiem czy<br>z tych 210 zdjęć wybiorę chociaż 20 które się do<br>czegoś nadają. Strata pieniędzy!!!!!!",
           "NEG"
          ],
          [
           "\"Niestety, zbyt łatwo przesuwająca się przednia<br>klapka (zbyt miękkie zawieszenie) i źle wycięty<br>górny otwór powodują, że komfort używania w<br>postaci praktycznych okienek jest umniejszony<br>przez często pojawiający się komunikat \"\"Nie<br>zakrywaj górnej części ekranu\"\" a tryb pracy z<br>podparciem w zasadzie nie jest użyteczny. Ale na<br>co dzień da się używać jako ochronka telefonu.\"",
           "NEG"
          ],
          [
           "Ogólnie w porządku, ale można używać  tylko w<br>gniazdku. Nie można np. postawić i podłączyć do<br>przedłużacza ze względu na wlot powietrza od<br>spodu. Kupiłem z myślą o suszeniu samochodu w<br>środku i do tego się nie nadaje. Głośny i mocno<br>śmierdzi, ale się może się wypali. Obsługa klienta<br>ok.",
           "NEG"
          ],
          [
           "\"Po niecałym dniu użytkowania szkło zaczęło się<br>kruszyć i pękać, mimo że telefon był w obudowie i<br>tak na prawdę nie uległ żadnemu upadkowi, ani<br>niczemu co mogło wpłynąć na jego uszkodzenie. Mam<br>też wrażenie, że nieco wpływa na jakość przedniego<br>aparatu, ponieważ czasami obraz jest \"\"zamglony\"\".<br>Dopasowanie jest jednak bardzo dobre i sam klej<br>dobrze trzyma.\"",
           "NEG"
          ],
          [
           "Akumulatorki ładowały się 30 minut do pełnego<br>ładowania ( a były w stanie rozładowania), więc<br>ich pojemność jest pewnie 550mAh a nie<br>deklarowane. W firmowych o pojemności 2000mAh<br>ładowarka potrzebuje ok 4 godzin do pełnego<br>naładowania. Nie spodziewałem się oczywiście<br>otrzymać tego co jest napisane na obudowie, ale<br>mógłby to być produkt trochę lepszy :)",
           "NEG"
          ],
          [
           "Kamera działa ok ale radio to porażka. Guziki na<br>przodzie to atrapa. Gdyby mi gdzieś pokrętło nie<br>wyleciało bo nawet nie było przyklejone to bym<br>odesłał. Gubi dźwięk i raz gra raz nie. Nawet żeby<br>ściszyć to trzeba sie rozkojarzyć bo pokrętło na<br>panelu nie działa. Nie tracie nerwów na te<br>chińskie badziewia. Lepiej dołożyć i mieć spokój.",
           "NEG"
          ],
          [
           "\"wg opisu z auk.ji i instrukcji dostarczonej przez<br>producenta czas  działania \"\"do 8 godzin\"\"  w<br>praktyce czas działania  jaki udało się uzyskać po<br>całonocnym ładowaniu to 1:45h,  równie dobrze<br>można było by napisać że działa do 1 roku na<br>jednym ładowaniu,  ten adapter to pieniądze<br>wyrzucone w błoto,  nie kupujcie tego\"",
           "NEG"
          ],
          [
           "Produkt spełnia swoje przeznaczenie, jednakże<br>podczas użytkowania na produkcie pozostają wyraźne<br>ślady zagięć co w znaczącym stopniu szkodzi<br>estetyce. Ślady te nie odkształcają się same,<br>tylko pozostają na produkcie. Za cenę 40 zł od<br>produktu oczekuję nie tylko spełniania swoich<br>funkcji ale również estetycznego wyglądu co<br>niestety w tym przypadku jest psute przez<br>odkształcenia.",
           "NEG"
          ],
          [
           "Wygląd jak na zdjęciach, jednak cyfry są zbyt<br>wąskie. UWAGA  w opisie przedmiotu nie ma<br>informacji, że zegarek nie posiada trybu 24h, jest<br>tylko 12AM/PM. Gdyby to było zamieszczone w<br>opisie, to nie kupiłbym go. Chyba nie ma w zegarku<br>bardziej irytującej rzeczy, jak gdy zamiast np.<br>15:00 widzę 3:00.",
           "NEG"
          ],
          [
           "Po ponad miesiącu użytkowania mogę stwierdzić iż<br>casy są średniej jakości, szybko się rysują i<br>pękają same na rogach. Kupiłem 4 sztuki i dwie z<br>nich już wylądowały w koszu gdyż pękł sam bok i<br>pęknięcie posuwało się dalej, aż obudowa się<br>ukruszyła. Ponadto kolor czerwony potrafi brudzić<br>i farbować. No ale jaka cena taka jakość.",
           "NEG"
          ],
          [
           "Nie polecam. Pasek miał być najwyższej jakości.<br>Sam pasek jest ok natomiast jeden z teleskopów<br>jest nieco grubszy i nie dokładnie pasuje. (<br>teleskopy to tani zamiennik) Nie zakładam paska<br>gdyż obawiam się że mogę go zgubić. ( szkoda<br>stracić zegarek za niemałe pieniądze ). Nie<br>polecam osobom którzy cenią sobie jakość produktu.",
           "NEG"
          ],
          [
           "Według mnie takie coś nie powinno trafić na rynek.<br>Szkło nie przykleja się na brzegach ekranu (bo<br>jest on leciutko zaokrąglony), z czasem pod spód<br>dostaje się kurz i syf i całość wygląda<br>tragicznie,  niestety do tego telefonu trzeba<br>kupić albo szkło bardziej miękkie (7H), albo sporo<br>mniejsze, albo folię... powinni tego zabronić",
           "NEG"
          ],
          [
           "Po pierwsze szkło ewidentnie nie jest dedykowane<br>do Redmi Note 6 Pro. Jest dużo za małe i nie<br>zakrywa całego ekranu, a do tego czarny pasek z<br>dołu zakrywa część wyświetlacza. o Otwory na<br>obiektyw, słuchawkę i czujniki również nie pasują.<br>Jakby tego było mało mój egzemplarz był mocno<br>uszkodzony, a konkretnie cały popękany. Nie<br>polecam.",
           "NEG"
          ],
          [
           "Porażka. Ekspres za prawie 4tys. zł był wysyłany<br>kilkukrotnie na serwis w przeciągu 2 lat<br>użytkowania. Za każdym razem serwis stwierdzał że<br>ekspres był zbyt rzadko odkamieniany co było nie<br>prawdą. Zawsze był odkamieniany gdy pojawiał się<br>komunikat. Albo coś jest nie tak z odkamieniaczem<br>DeLonghi albo z ekspresem tego samego pożal się<br>Boże producenta. Nigdy więcej DeLonghi.",
           "NEG"
          ],
          [
           "Porażka. Pomimo odkamieniania i czyszczenia układu<br>spieniania mleka ekspres kilkukrotnie ulegał<br>awarii i był wysyłany do serwisu. Serwis<br>stwierdzał że ekspres był za rzadko czyszczony, co<br>oczywiście było nie prawdą. Albo coś jest nie tak<br>z ekspresem tej samej firmy albo że środkami do<br>czyszczenia. Nigdy więcej DeLonghi!!! Zarówno<br>sprzętu jak i chemii. PORAŻKA!!!",
           "NEG"
          ],
          [
           "Bardzo słaby. Po pierwsze, wbrew promocyjnym<br>zapewnieniem nie da się nalać wody bez zdjęcia<br>pokrywki, bo nie widać poziomu nalewanej wody. Do<br>tego  jest tak zbudowany, że nie można korzystać z<br>wody, zanim się cała nie przefiltruje: przy próbie<br>wcześniejszego wylania z dzbanka przefiltrowanej<br>wody wylewa się jednocześnie przez otwory w<br>pokrywie (te do napełniania dzbanka) woda<br>nieprzefiltrowana.",
           "NEG"
          ]
         ],
         "hovertemplate": "Annotation=%{customdata[1]}<br>t-SNE 1=%{x}<br>t-SNE 2=%{y}<br>sentence=%{customdata[0]}<extra></extra>",
         "legendgroup": "NEG",
         "marker": {
          "color": "#00cc96",
          "line": {
           "color": "DarkSlateGrey",
           "width": 1
          },
          "opacity": 0.8,
          "size": 10,
          "symbol": "circle"
         },
         "mode": "markers",
         "name": "NEG",
         "orientation": "v",
         "showlegend": true,
         "type": "scatter",
         "x": [
          -6.1058354,
          -2.7032905,
          -3.6064801,
          -0.036128182,
          -1.8116212,
          -1.7474021,
          0.6778704,
          -6.2022223,
          -1.2169594,
          0.23575085,
          1.2895299,
          -0.7098493,
          -2.754179,
          -0.27892745,
          -6.35646,
          -5.486601,
          -0.055263165,
          1.6171572,
          0.49238813,
          1.5088501,
          0.5879475,
          0.8349834,
          -3.7395456,
          3.3593936,
          2.9813018,
          -5.261831,
          -6.524453,
          -1.5896822,
          -2.1888602,
          -3.0033844,
          -2.0653632,
          -2.981137,
          -0.7823479,
          -0.7692381,
          -3.677421,
          -1.2194685,
          -5.5410247,
          0.9642915,
          -3.073229,
          -2.5548177,
          2.5761814,
          -3.9354978,
          -3.0900774,
          -1.7931479,
          -3.4631546,
          -3.4295506,
          -6.2420883
         ],
         "xaxis": "x",
         "y": [
          -1.0836395,
          -1.8241727,
          1.1643181,
          -1.0014247,
          -1.7018847,
          4.319336,
          -3.1875117,
          0.9864306,
          -2.215232,
          -2.4438212,
          -1.2862728,
          -2.9767349,
          -0.9966849,
          -4.3401194,
          -1.8229383,
          -2.4643593,
          -1.8635451,
          -2.948965,
          1.8237654,
          -2.5646615,
          -3.3915718,
          1.2145604,
          2.3642325,
          3.2861357,
          -0.14984572,
          -0.790537,
          -1.4734854,
          2.4182265,
          2.9424896,
          0.30828688,
          -4.7645774,
          1.3233073,
          -2.923808,
          0.5084196,
          -2.0085611,
          2.767053,
          0.037353147,
          2.8790853,
          -4.7449465,
          -3.674829,
          0.66204554,
          -2.8430803,
          -0.92759025,
          -0.8059101,
          5.1212993,
          5.106882,
          2.3526275
         ],
         "yaxis": "y"
        }
       ],
       "layout": {
        "coloraxis": {
         "colorbar": {
          "title": {
           "text": "Annotation"
          }
         }
        },
        "height": 800,
        "legend": {
         "title": {
          "text": "Annotation"
         },
         "tracegroupgap": 0
        },
        "template": {
         "data": {
          "bar": [
           {
            "error_x": {
             "color": "#2a3f5f"
            },
            "error_y": {
             "color": "#2a3f5f"
            },
            "marker": {
             "line": {
              "color": "white",
              "width": 0.5
             },
             "pattern": {
              "fillmode": "overlay",
              "size": 10,
              "solidity": 0.2
             }
            },
            "type": "bar"
           }
          ],
          "barpolar": [
           {
            "marker": {
             "line": {
              "color": "white",
              "width": 0.5
             },
             "pattern": {
              "fillmode": "overlay",
              "size": 10,
              "solidity": 0.2
             }
            },
            "type": "barpolar"
           }
          ],
          "carpet": [
           {
            "aaxis": {
             "endlinecolor": "#2a3f5f",
             "gridcolor": "#C8D4E3",
             "linecolor": "#C8D4E3",
             "minorgridcolor": "#C8D4E3",
             "startlinecolor": "#2a3f5f"
            },
            "baxis": {
             "endlinecolor": "#2a3f5f",
             "gridcolor": "#C8D4E3",
             "linecolor": "#C8D4E3",
             "minorgridcolor": "#C8D4E3",
             "startlinecolor": "#2a3f5f"
            },
            "type": "carpet"
           }
          ],
          "choropleth": [
           {
            "colorbar": {
             "outlinewidth": 0,
             "ticks": ""
            },
            "type": "choropleth"
           }
          ],
          "contour": [
           {
            "colorbar": {
             "outlinewidth": 0,
             "ticks": ""
            },
            "colorscale": [
             [
              0,
              "#0d0887"
             ],
             [
              0.1111111111111111,
              "#46039f"
             ],
             [
              0.2222222222222222,
              "#7201a8"
             ],
             [
              0.3333333333333333,
              "#9c179e"
             ],
             [
              0.4444444444444444,
              "#bd3786"
             ],
             [
              0.5555555555555556,
              "#d8576b"
             ],
             [
              0.6666666666666666,
              "#ed7953"
             ],
             [
              0.7777777777777778,
              "#fb9f3a"
             ],
             [
              0.8888888888888888,
              "#fdca26"
             ],
             [
              1,
              "#f0f921"
             ]
            ],
            "type": "contour"
           }
          ],
          "contourcarpet": [
           {
            "colorbar": {
             "outlinewidth": 0,
             "ticks": ""
            },
            "type": "contourcarpet"
           }
          ],
          "heatmap": [
           {
            "colorbar": {
             "outlinewidth": 0,
             "ticks": ""
            },
            "colorscale": [
             [
              0,
              "#0d0887"
             ],
             [
              0.1111111111111111,
              "#46039f"
             ],
             [
              0.2222222222222222,
              "#7201a8"
             ],
             [
              0.3333333333333333,
              "#9c179e"
             ],
             [
              0.4444444444444444,
              "#bd3786"
             ],
             [
              0.5555555555555556,
              "#d8576b"
             ],
             [
              0.6666666666666666,
              "#ed7953"
             ],
             [
              0.7777777777777778,
              "#fb9f3a"
             ],
             [
              0.8888888888888888,
              "#fdca26"
             ],
             [
              1,
              "#f0f921"
             ]
            ],
            "type": "heatmap"
           }
          ],
          "heatmapgl": [
           {
            "colorbar": {
             "outlinewidth": 0,
             "ticks": ""
            },
            "colorscale": [
             [
              0,
              "#0d0887"
             ],
             [
              0.1111111111111111,
              "#46039f"
             ],
             [
              0.2222222222222222,
              "#7201a8"
             ],
             [
              0.3333333333333333,
              "#9c179e"
             ],
             [
              0.4444444444444444,
              "#bd3786"
             ],
             [
              0.5555555555555556,
              "#d8576b"
             ],
             [
              0.6666666666666666,
              "#ed7953"
             ],
             [
              0.7777777777777778,
              "#fb9f3a"
             ],
             [
              0.8888888888888888,
              "#fdca26"
             ],
             [
              1,
              "#f0f921"
             ]
            ],
            "type": "heatmapgl"
           }
          ],
          "histogram": [
           {
            "marker": {
             "pattern": {
              "fillmode": "overlay",
              "size": 10,
              "solidity": 0.2
             }
            },
            "type": "histogram"
           }
          ],
          "histogram2d": [
           {
            "colorbar": {
             "outlinewidth": 0,
             "ticks": ""
            },
            "colorscale": [
             [
              0,
              "#0d0887"
             ],
             [
              0.1111111111111111,
              "#46039f"
             ],
             [
              0.2222222222222222,
              "#7201a8"
             ],
             [
              0.3333333333333333,
              "#9c179e"
             ],
             [
              0.4444444444444444,
              "#bd3786"
             ],
             [
              0.5555555555555556,
              "#d8576b"
             ],
             [
              0.6666666666666666,
              "#ed7953"
             ],
             [
              0.7777777777777778,
              "#fb9f3a"
             ],
             [
              0.8888888888888888,
              "#fdca26"
             ],
             [
              1,
              "#f0f921"
             ]
            ],
            "type": "histogram2d"
           }
          ],
          "histogram2dcontour": [
           {
            "colorbar": {
             "outlinewidth": 0,
             "ticks": ""
            },
            "colorscale": [
             [
              0,
              "#0d0887"
             ],
             [
              0.1111111111111111,
              "#46039f"
             ],
             [
              0.2222222222222222,
              "#7201a8"
             ],
             [
              0.3333333333333333,
              "#9c179e"
             ],
             [
              0.4444444444444444,
              "#bd3786"
             ],
             [
              0.5555555555555556,
              "#d8576b"
             ],
             [
              0.6666666666666666,
              "#ed7953"
             ],
             [
              0.7777777777777778,
              "#fb9f3a"
             ],
             [
              0.8888888888888888,
              "#fdca26"
             ],
             [
              1,
              "#f0f921"
             ]
            ],
            "type": "histogram2dcontour"
           }
          ],
          "mesh3d": [
           {
            "colorbar": {
             "outlinewidth": 0,
             "ticks": ""
            },
            "type": "mesh3d"
           }
          ],
          "parcoords": [
           {
            "line": {
             "colorbar": {
              "outlinewidth": 0,
              "ticks": ""
             }
            },
            "type": "parcoords"
           }
          ],
          "pie": [
           {
            "automargin": true,
            "type": "pie"
           }
          ],
          "scatter": [
           {
            "fillpattern": {
             "fillmode": "overlay",
             "size": 10,
             "solidity": 0.2
            },
            "type": "scatter"
           }
          ],
          "scatter3d": [
           {
            "line": {
             "colorbar": {
              "outlinewidth": 0,
              "ticks": ""
             }
            },
            "marker": {
             "colorbar": {
              "outlinewidth": 0,
              "ticks": ""
             }
            },
            "type": "scatter3d"
           }
          ],
          "scattercarpet": [
           {
            "marker": {
             "colorbar": {
              "outlinewidth": 0,
              "ticks": ""
             }
            },
            "type": "scattercarpet"
           }
          ],
          "scattergeo": [
           {
            "marker": {
             "colorbar": {
              "outlinewidth": 0,
              "ticks": ""
             }
            },
            "type": "scattergeo"
           }
          ],
          "scattergl": [
           {
            "marker": {
             "colorbar": {
              "outlinewidth": 0,
              "ticks": ""
             }
            },
            "type": "scattergl"
           }
          ],
          "scattermapbox": [
           {
            "marker": {
             "colorbar": {
              "outlinewidth": 0,
              "ticks": ""
             }
            },
            "type": "scattermapbox"
           }
          ],
          "scatterpolar": [
           {
            "marker": {
             "colorbar": {
              "outlinewidth": 0,
              "ticks": ""
             }
            },
            "type": "scatterpolar"
           }
          ],
          "scatterpolargl": [
           {
            "marker": {
             "colorbar": {
              "outlinewidth": 0,
              "ticks": ""
             }
            },
            "type": "scatterpolargl"
           }
          ],
          "scatterternary": [
           {
            "marker": {
             "colorbar": {
              "outlinewidth": 0,
              "ticks": ""
             }
            },
            "type": "scatterternary"
           }
          ],
          "surface": [
           {
            "colorbar": {
             "outlinewidth": 0,
             "ticks": ""
            },
            "colorscale": [
             [
              0,
              "#0d0887"
             ],
             [
              0.1111111111111111,
              "#46039f"
             ],
             [
              0.2222222222222222,
              "#7201a8"
             ],
             [
              0.3333333333333333,
              "#9c179e"
             ],
             [
              0.4444444444444444,
              "#bd3786"
             ],
             [
              0.5555555555555556,
              "#d8576b"
             ],
             [
              0.6666666666666666,
              "#ed7953"
             ],
             [
              0.7777777777777778,
              "#fb9f3a"
             ],
             [
              0.8888888888888888,
              "#fdca26"
             ],
             [
              1,
              "#f0f921"
             ]
            ],
            "type": "surface"
           }
          ],
          "table": [
           {
            "cells": {
             "fill": {
              "color": "#EBF0F8"
             },
             "line": {
              "color": "white"
             }
            },
            "header": {
             "fill": {
              "color": "#C8D4E3"
             },
             "line": {
              "color": "white"
             }
            },
            "type": "table"
           }
          ]
         },
         "layout": {
          "annotationdefaults": {
           "arrowcolor": "#2a3f5f",
           "arrowhead": 0,
           "arrowwidth": 1
          },
          "autotypenumbers": "strict",
          "coloraxis": {
           "colorbar": {
            "outlinewidth": 0,
            "ticks": ""
           }
          },
          "colorscale": {
           "diverging": [
            [
             0,
             "#8e0152"
            ],
            [
             0.1,
             "#c51b7d"
            ],
            [
             0.2,
             "#de77ae"
            ],
            [
             0.3,
             "#f1b6da"
            ],
            [
             0.4,
             "#fde0ef"
            ],
            [
             0.5,
             "#f7f7f7"
            ],
            [
             0.6,
             "#e6f5d0"
            ],
            [
             0.7,
             "#b8e186"
            ],
            [
             0.8,
             "#7fbc41"
            ],
            [
             0.9,
             "#4d9221"
            ],
            [
             1,
             "#276419"
            ]
           ],
           "sequential": [
            [
             0,
             "#0d0887"
            ],
            [
             0.1111111111111111,
             "#46039f"
            ],
            [
             0.2222222222222222,
             "#7201a8"
            ],
            [
             0.3333333333333333,
             "#9c179e"
            ],
            [
             0.4444444444444444,
             "#bd3786"
            ],
            [
             0.5555555555555556,
             "#d8576b"
            ],
            [
             0.6666666666666666,
             "#ed7953"
            ],
            [
             0.7777777777777778,
             "#fb9f3a"
            ],
            [
             0.8888888888888888,
             "#fdca26"
            ],
            [
             1,
             "#f0f921"
            ]
           ],
           "sequentialminus": [
            [
             0,
             "#0d0887"
            ],
            [
             0.1111111111111111,
             "#46039f"
            ],
            [
             0.2222222222222222,
             "#7201a8"
            ],
            [
             0.3333333333333333,
             "#9c179e"
            ],
            [
             0.4444444444444444,
             "#bd3786"
            ],
            [
             0.5555555555555556,
             "#d8576b"
            ],
            [
             0.6666666666666666,
             "#ed7953"
            ],
            [
             0.7777777777777778,
             "#fb9f3a"
            ],
            [
             0.8888888888888888,
             "#fdca26"
            ],
            [
             1,
             "#f0f921"
            ]
           ]
          },
          "colorway": [
           "#636efa",
           "#EF553B",
           "#00cc96",
           "#ab63fa",
           "#FFA15A",
           "#19d3f3",
           "#FF6692",
           "#B6E880",
           "#FF97FF",
           "#FECB52"
          ],
          "font": {
           "color": "#2a3f5f"
          },
          "geo": {
           "bgcolor": "white",
           "lakecolor": "white",
           "landcolor": "white",
           "showlakes": true,
           "showland": true,
           "subunitcolor": "#C8D4E3"
          },
          "hoverlabel": {
           "align": "left"
          },
          "hovermode": "closest",
          "mapbox": {
           "style": "light"
          },
          "paper_bgcolor": "white",
          "plot_bgcolor": "white",
          "polar": {
           "angularaxis": {
            "gridcolor": "#EBF0F8",
            "linecolor": "#EBF0F8",
            "ticks": ""
           },
           "bgcolor": "white",
           "radialaxis": {
            "gridcolor": "#EBF0F8",
            "linecolor": "#EBF0F8",
            "ticks": ""
           }
          },
          "scene": {
           "xaxis": {
            "backgroundcolor": "white",
            "gridcolor": "#DFE8F3",
            "gridwidth": 2,
            "linecolor": "#EBF0F8",
            "showbackground": true,
            "ticks": "",
            "zerolinecolor": "#EBF0F8"
           },
           "yaxis": {
            "backgroundcolor": "white",
            "gridcolor": "#DFE8F3",
            "gridwidth": 2,
            "linecolor": "#EBF0F8",
            "showbackground": true,
            "ticks": "",
            "zerolinecolor": "#EBF0F8"
           },
           "zaxis": {
            "backgroundcolor": "white",
            "gridcolor": "#DFE8F3",
            "gridwidth": 2,
            "linecolor": "#EBF0F8",
            "showbackground": true,
            "ticks": "",
            "zerolinecolor": "#EBF0F8"
           }
          },
          "shapedefaults": {
           "line": {
            "color": "#2a3f5f"
           }
          },
          "ternary": {
           "aaxis": {
            "gridcolor": "#DFE8F3",
            "linecolor": "#A2B1C6",
            "ticks": ""
           },
           "baxis": {
            "gridcolor": "#DFE8F3",
            "linecolor": "#A2B1C6",
            "ticks": ""
           },
           "bgcolor": "white",
           "caxis": {
            "gridcolor": "#DFE8F3",
            "linecolor": "#A2B1C6",
            "ticks": ""
           }
          },
          "title": {
           "x": 0.05
          },
          "xaxis": {
           "automargin": true,
           "gridcolor": "#EBF0F8",
           "linecolor": "#EBF0F8",
           "ticks": "",
           "title": {
            "standoff": 15
           },
           "zerolinecolor": "#EBF0F8",
           "zerolinewidth": 2
          },
          "yaxis": {
           "automargin": true,
           "gridcolor": "#EBF0F8",
           "linecolor": "#EBF0F8",
           "ticks": "",
           "title": {
            "standoff": 15
           },
           "zerolinecolor": "#EBF0F8",
           "zerolinewidth": 2
          }
         }
        },
        "title": {
         "font": {
          "size": 20
         },
         "text": "t-SNE - FastText Sentence Embeddings",
         "x": 0.5
        },
        "width": 1200,
        "xaxis": {
         "anchor": "y",
         "domain": [
          0,
          1
         ],
         "showgrid": false,
         "title": {
          "text": "t-SNE 1"
         }
        },
        "yaxis": {
         "anchor": "x",
         "domain": [
          0,
          1
         ],
         "showgrid": false,
         "title": {
          "text": "t-SNE 2"
         }
        }
       }
      }
     },
     "metadata": {},
     "output_type": "display_data"
    }
   ],
   "source": [
    "# display interactive plot with reduced dimensionality\n",
    "annotation_plt_series = pd.Series(data[\"target\"])\n",
    "\n",
    "fig = px.scatter(\n",
    "    x=vectors_fasttext_embedded[:, 0],\n",
    "    y=vectors_fasttext_embedded[:, 1],\n",
    "    color=annotation_plt_series,\n",
    "    hover_data={\n",
    "        \"sentence\": data[\"sentence\"]\n",
    "        .str.wrap(50)\n",
    "        .apply(lambda x: x.replace(\"\\n\", \"<br>\")),\n",
    "        \"Annotation\": annotation_plt_series,\n",
    "    },\n",
    "    title=\"t-SNE - FastText Sentence Embeddings\",\n",
    "    labels={\"color\": \"Annotation\", \"x\": \"t-SNE 1\", \"y\": \"t-SNE 2\"},\n",
    "    color_continuous_scale=px.colors.sequential.Viridis,\n",
    "    template=\"plotly_white\",\n",
    ")\n",
    "\n",
    "fig.update_traces(\n",
    "    marker=dict(size=10, opacity=0.8, line=dict(width=1, color=\"DarkSlateGrey\"))\n",
    ")\n",
    "fig.update_layout(\n",
    "    title_font_size=20,\n",
    "    title_x=0.5,\n",
    "    xaxis=dict(showgrid=False),\n",
    "    yaxis=dict(showgrid=False),\n",
    "    coloraxis_colorbar=dict(title=\"Annotation\"),\n",
    "    legend_title_text=\"Annotation\",\n",
    "    width=1200,\n",
    "    height=800,\n",
    ")\n",
    "\n",
    "fig.show()"
   ]
  },
  {
   "cell_type": "markdown",
   "metadata": {},
   "source": [
    "# 2. TF-IDF embedding"
   ]
  },
  {
   "cell_type": "code",
   "execution_count": 23,
   "metadata": {},
   "outputs": [],
   "source": [
    "tfidf_vectorizer = TfidfVectorizer()\n",
    "vectors_tfidf = tfidf_vectorizer.fit_transform(data[\"sentence\"])"
   ]
  },
  {
   "cell_type": "code",
   "execution_count": 24,
   "metadata": {},
   "outputs": [],
   "source": [
    "# reduce dimensionality\n",
    "tfidf_tsne = TSNE(n_components=2, random_state=42, init=\"random\")\n",
    "vectors_tfidf_embedded = tfidf_tsne.fit_transform(vectors_tfidf)"
   ]
  },
  {
   "cell_type": "code",
   "execution_count": 25,
   "metadata": {},
   "outputs": [
    {
     "data": {
      "application/vnd.plotly.v1+json": {
       "config": {
        "plotlyServerURL": "https://plot.ly"
       },
       "data": [
        {
         "customdata": [
          [
           "Używam od miesiąca, bardzo fajne słuchawki, jakość<br>dźwięku OK, fantastycznie leżą w uchu (nie ma<br>opcji żeby wypadły nawet przy intensywnym sporcie,<br>przy czym bardzo wygodnie się zakłada). Jeden<br>mankament - czasem po włączeniu szwankuje<br>komunikacja bluetooth (łączy się i rozłącza z<br>telefonem w kółko) - jednak po ponownym restarcie<br>słuchawek jest OK.",
           "POS"
          ],
          [
           "Bardzo fajna myszka o standardowym kształcie i<br>niebiesko-czarnym kolorze. Nadaje się w sam raz do<br>użytku w biurze czy też w domu. Jest bardzo lekka<br>oraz działa bezprzewodowo. Mysz działa nawet do 5<br>metrów od odbiornika. Obsługuje technologię<br>Logitech Unifying dzięki której można sparować<br>kilka urządzeń firmy Logitech do jednego<br>odbiornika USB co pozwala na zaoszczędzenie gniazd<br>USB.",
           "POS"
          ],
          [
           "Super kijek. Odrobinę krótszy niż większość<br>standardowych kijków (tak z 5-10cm) ale i tak jest<br>ok. Za to dobrze wykonany, solidny, nie chwieje<br>się tak jak ta tania tandeta. Jest ładny. Fajnie<br>się składa. No i uważam, że rozwiązanie z<br>minijackiem jest lepsze niż kijki bluetooth, dużo<br>szybsze do przygotowania, nie trzeba się bawić w<br>żadne parowanie bluetooth tylko cyk i już.",
           "POS"
          ],
          [
           "Telefon zgodny z opisem. Tak jak było podane -<br>kilka rysek na obudowie, bo powystawowy, ale<br>sprzęt działa jak nowy i świetnie się sprawdza.<br>Fajnie, ze etui i szybka są w gratisie.  Mój<br>pierwszy iphone. Oprogramowanie ios bardzo mi się<br>podoba i jest bardziej funkcjonalne niż android.<br>Aparat robi zdjęcia o bardzo naturalnych kolorach,<br>dobrej jakości",
           "POS"
          ],
          [
           "Takiego telefonu oczekiwałem. Nie lubię martwić<br>się co się stanie jak wypadnie mi z ręki lub<br>wypadnie z kieszeni. Ten wytrzyma niemal wszystko<br>a do tego szybki, świetny ekran, 2 karty SIM +<br>micro SD. Nie jest może cienki jak kartka papieru,<br>ale dobrze leży w ręce, naprawdę solidny. Bateria<br>na kilka dni + szybkie ładowanie. Dla mnie same<br>plusy. Polecam!",
           "POS"
          ],
          [
           "Uchwyt wykonany solidnie. Montaż jest bardzo<br>prosty i stabilny. Bez problemu można przepiąć<br>uchwyt czy poprawić ustawienie telefonu za pomocą<br>nakrętki. Telefon nakładasz na dolną część i boki<br>same się 'zamykają'. Raczej nic nie trzeszczy, nie<br>pęka. Jeśli w czasie jazdy nie ma w uchwycie<br>telefonu potrafi wydać z siebie odgłosy<br>ruszających się zębatek, ale nie jest to<br>uciążliwe. Polecam!",
           "POS"
          ],
          [
           "Najlepszy uchwyt samochodowy jaki miałem do tej<br>pory. Koniec problemu z odpadającymi przylepami.<br>Na kratce wentylacyjnej uchwyt trzyma się pewnie,<br>a telefon pewnie leży w uchwycie. Dodatkowa zaleta<br>to dobre chłodzenie telefonu w upalne dni dzięki<br>nadmuchowi z kratki wentylacyjnej, co niestety<br>przy uchwytach montowanych na szybie nie jest<br>możliwe. Polecam!",
           "POS"
          ],
          [
           "Po kilku beznadziejnych słuchawkach (reklamowanych<br>jako super produkt) firmy Samsung, ta słuchawka<br>jest jak przesiadka z furmanki na mercedesa. Mam<br>już 2 takie i cały czas od ok pół roku działają<br>bez zarzutu. Świetnie zaprojektowany uchwyt na<br>ucho i działające przyciski to jest to czego<br>potrzebuję. Nigdy więcej produktów Samsung !!!<br>Plantronics jest OK !!",
           "POS"
          ],
          [
           "Faktycznie ciche i miękkie klawisze, aż przyjemnie<br>klikać. Dobra jakość materiałów. Plastikowe boki<br>robią się śliskie, ale nie brudne, więc wolę takie<br>od gumowych. Szerokie ślizgacze nie odlepiają się.<br>Bardzo precyzyjna (3 ustawienia dpi). Jedyny<br>minus: podświetlenie rozładowuje akumulator w<br>tydzień/dwa, ale można je wyłączyć. Da się też<br>używać podczas ładowania z USB. Za taką cenę -<br>fenomen.",
           "POS"
          ],
          [
           "Bardzo trafiony zakup, niska cena w stosunku do<br>jakości, bardzo dobrze wykonany, przyjemny wygląd.<br>Po pierwszym naładowaniu do pełna naładowałem<br>swojego smatrfona od okoo 15-20% do 100% pięć razy<br>(samsung S3 I9305 Poj baterii 2100mAh) co przy<br>noname'owym power banku o tej samej pojemności<br>udało się nie całe 3x. Produkt godny polecenia.",
           "POS"
          ],
          [
           "Bardzo dobre 2-warstwowe szczotki pracują w 11<br>letniej pralce Amica i praktycznie nie iskrzą. Na<br>pewno nie wytrzymają tyle co produkcyjne, ale przy<br>tej cenie mógłbym je wymieniać nawet co rok. Jest<br>to proste, a w pralce wystarczy zdjąć tylko jedną<br>klapę przykręconą 2 blachowkrętami i szczotki<br>praktycznie mamy na wierzchu.",
           "POS"
          ],
          [
           "Tym razem zostałem miło zaskoczony przez firmę<br>Green Cell. Ładowarka jest wykonana bardzo dobrze,<br>nie grzeje się, dobiera odpowiedni prąd do<br>urządzenia. Matowa, przez co nie zbiera żadnych<br>rys no i można powiedzieć, że dzięki swoim<br>kształtom również elegancka :D Lecz nie to jest<br>najważniejsze - działa dobrze, obsługuje QC 3.0,<br>czego chcieć więcej w tej cenie? :)",
           "POS"
          ],
          [
           "Bardzo dobry watomierz. Teraz wiem co najwięcej mi<br>zżera prądu - Lodówka. Można sprawdzić czy opis<br>zużycia energii różnych sprzętów zgadza się z<br>rzeczywistością. I dowiedzieć się, że nawet<br>pozostawienie w gniazdku przewodu od pralki<br>powoduje pobieranie ok. 1W energii. Niby niewiele<br>5zł. na rok to kosztuje. Ale jeszcze inne sprzęty,<br>ruter, ładowarki , telewizory i trochę się<br>uzbiera.",
           "POS"
          ],
          [
           "Wszystko ok.<br>Polecam",
           "POS"
          ],
          [
           "\"Zakupiona do Laguny 2 ph1 z oryginalnym radiem<br>\"\"Renault Tuner List\"\", używam do niego kart<br>microSD z przejściówką na SD 8GB Goodram. I super<br>wszystko gra i śmiga, z pilota w kierownicy. Sam<br>montaż jest bezproblemowy. Szkoda tylko, że taka<br>duża wtyczka do samej zmieniarki jest i brak nazw<br>utworów. Ogólnie - polecam jeżeli masz już dość<br>manewrowania płytami.\"",
           "POS"
          ],
          [
           "Wysoka jakość.  W stosunku do tanich odbiorników<br>nie nagrzewa się nadmiernie.  Solidnie wykonany. W<br>Galaxy S7 działa podobnie jak fabryczny w S8 -<br>tanie cewki się bardzo nagrzewały - tutaj jak w<br>fabrycznym wykonaniu. Jeżeli chcesz zamontować nad<br>baterią - pod klapką to pewnie będzie za gruby,<br>ale na pokrywie spisuje się rewelacyjnie Polecam.",
           "POS"
          ],
          [
           "Zaletą jest szeroki zakres napięć, regulacja w<br>górę i w dół, oraz duży prą wejściowy 4A, wymagany<br>duży radiator (podkładka n. teflon folia). Brak<br>miękkiego startu (tylko twarde kluczowanie),<br>krótkie piki na wyjściu przy starcie mogą sie<br>pojawić, stabilna praca nawet z dodatkowym filtrem<br>wyjściowym (napięcie błędu trzeba brać z<br>obciążenia). Polecam.",
           "POS"
          ],
          [
           "Oceniam na +4. Etui cieniutkie, prawie nie zmienia<br>grubości telefonu. Wystarcza jednak, aby ochronić<br>tylny aparat (plecki są idealnie płaskie) Trochę<br>słabo obejmuje boki, przez co ma tendencję do<br>zsuwania się z rogów i z boku z przyciskami.<br>Wycięcia dobrze wymierzone. Silikon nie ślizga się<br>w ręku, można spokojnie położyć telefon na desce<br>rozdzielczej w samochodzie - nie odjeżdża.<br>Polecam.",
           "POS"
          ],
          [
           "DOBRA JAKOŚĆ PRODUKTU,FAJNIE SIĘ ROZWIJA,DOBRZE<br>SIĘ SPRAWDZA PRZY MOTORZE PRZY KIEROWNICY BO JEST<br>KRÓTKI I ZAWSZE WRACA NA SWOJE MIEJSCE,BRAK LUZÓW<br>PO PODŁĄCZENIU DO TELEFONU W GNIEŹDZIE USB CO NIE<br>ZAWSZE JEST OCZYWISTE NIEKTÓRE KABLE LATAJĄ NA<br>BOKI I NIE ZAWSZE STYKA ŁADOWANIE.POLECAM<br>SZCZEGÓLNIE DO MOTOCYKLI TĄ DŁUGOŚĆ LUB DŁUŻSZĄ W<br>ZALEŻNOŚCI OD POTRZEB.",
           "POS"
          ],
          [
           "\"Do codziennego użytkowania są rewelacyjne. Od lat<br>kupuję wyłącznie te słuchawki ( w różnych opcjach<br>np. ze składanym pałąkiem). Świetny dźwięk,<br>wytrzymały kabel. Słuchawki są lekkie i dobrze<br>trzymają się na głowie. Jeśli coś się psuje, to<br>pęka właśnie plastik w trakcie \"\"transportu\"\". Ale<br>to już wina nieuważnego użytkownika ;-) Egzemplarz<br>domowy śmiga bezawaryjnie od kilku lat.    \"",
           "POS"
          ],
          [
           "\"Generalnie nie mam żadnych zastrzeżeń i jak<br>najbardziej polecam - pokrowiec jest solidny,<br>świetnie wygląda (chociaż wolałbym, gdyby był<br>matowy, ale to inna kwestia), a także sztywno<br>trzyma pada. Jedyny, drobny minus to zamek<br>błyskawiczny, który przy otwarciu w dziwny sposób<br>się \"\"rozkłada\"\", ale można to samemu sobie<br>poprawić, poza tym nie wpływa to na nic.\"",
           "POS"
          ],
          [
           "przepraszam ze tak dlugo nie odpowiadalem ,ale<br>produkt jest de best oprocz balaganu w kuchi jest<br>ok soki ktore zawiozlem do pracy zostaly<br>skomunsowane w krotkiej chwili jedyna wada jest ze<br>nie mamy grzie schowa ale to nie problem ,polecam<br>zmieli wszystko nawet cegly -ale brac to z<br>przymrozonym okie  jesze raz poleca i pozdrawiam",
           "POS"
          ],
          [
           "Do Bosch SMV53L10EU pasuje IDEALNIE - wpasowuje<br>się w nowe miejsce (które jest przygotowane w<br>zmywarce), więc jeśli po drodze coś się połamało w<br>gnieździe to bez obaw - wchodzi idealnie.<br>Zastosowano łączenie bardziej trwałe niż w<br>oryginalnej zmywarce. Wszystko na koniec trzeba<br>delikatnie potraktować młotkiem, żeby schowało się<br>pod osłonkę - każdy sobie z tym poradzi ;-)",
           "POS"
          ],
          [
           "Zestaw zawiera wszystko czego potrzeba aby<br>podłączyć dyski ATA/SATA do komputera.<br>Przetestowane na Windows 7. System bez problemu<br>wykrył podłączony przez USB starszy dysk IDE ultra<br>ATA jak i nowszy na złączu SATA III. Długość kabli<br>po podłączeniu wystarcza aby urządzenie swobodnie<br>leżało na biurku. Zasilacz nie przegrzewa się<br>nawet po kilkugodzinnej pracy. Polecam.",
           "POS"
          ],
          [
           "\"Super uchwyt. Jak go dostałem myślałem że go<br>zrobili w Niemczech :) a tu Chiny. Bardzo dobra<br>jakość wykonania i wszystko jest w zestawie co<br>potrzeba do zamontowania go na ścianie i<br>przykręcenia telewizora. Do 40\"\" TV też super<br>pasuje tylko trzeba sprawdzić najpierw tv jaki ma<br>rozstaw vesa.Wygląda też super! Solidny<br>polecam!!!\"",
           "POS"
          ],
          [
           "Dobry i tani oczyszczacz. Ma wskaźnik jakości<br>powietrza, który przetestowałam i sprawdził się<br>bardzo dobrze. Przed otwarciem okna w pokoju stan<br>powietrza był dobry, ale po otwarciu ( a tego<br>wieczory był w powietrzu wyraźny smog) już po<br>minucie oczyszczacz przeskoczył na zły  stan<br>powietrza i włączył  intensywne oczyszczanie.",
           "POS"
          ],
          [
           "Wykonanie i estetyka na wysokim poziomie.<br>Użytkowałam juz te etui i zapewniam, że jest<br>wygodne i funkcjonalne, a przy tym bardzo<br>efektowne i naprawdę zabezpiecza telefon przed<br>upadkiem. To etui nieraz uratowało mój telefon<br>(spory wyświetlacz (6,44 cala). Dopiero upadek na<br>tzw. płask, przy otwartej klapce   spowodował<br>pojawienie sie drobnej rysy na hartowanym szkle.<br>Polecam zdecydowanie zakup.",
           "POS"
          ],
          [
           "Świetny odkurzacz ! Za te pieniądze - mały, lekki,<br>zgrabny, pięknie wygląda i co najważniejsze<br>bardzo dobrze ciągnie. Szczotkę aż ciężko oderwać<br>od podłogi :) Bardzo dobry zakup. Gdybym miał<br>jeszcze raz kupować odkurzacz - to tylko ten.<br>Wcześniej używałem 3 razy droższego zelmera.<br>Różnica jedynie w ilości akcesoriów z których<br>rzadko korzystam. POLECAM !!!",
           "POS"
          ],
          [
           "Folia 3mk shield mogę polecić. Testowałem<br>wcześniej folię 3mk arc i zauważyłem dużą różnicę<br>pomiędzy tymi foliami. ARC jest mało trwała,<br>szybko krawędzie przestają przylegać i wchodzi pod<br>spód bród. Wkładając telefon do kieszeni spodni<br>folia lubiła przesuwać się. W foli  3mk shield<br>doświadczyłem tego do teraz. Folię mam założoną od<br>września tego roku.",
           "POS"
          ],
          [
           "Dobrze zabezpiecza mój smartfon przed<br>zarysowaniami i upadkami z niewielkich wysokości.<br>Mi się podoba polecam wszystkim. ps. trafił mi się<br>egzemplarz z otworem na czytnik linii papilarnych,<br>którego mój telefon nie ma. Po rozpakowaniu<br>przestraszyła mnie ta dziura z tyłu, ale po<br>napisaniu pierwszego sms-a stwierdziłem że<br>poprawia chwyt przy obsłudze jedną ręką.",
           "POS"
          ],
          [
           "Działa OK, transfery na pendrive HAMA USB 3.0 (w<br>zasadzie 3.1 Gen 1 po zmianie nazw :v) wyciąga<br>pełną prędkość. Ale! Windows czasem może nie<br>zainstalować sterowników do HUBa, objawia się to<br>problemem z niektórymi urządzeniami. Polecam użyć<br>darmowego  programu  SDI (Snappy Driver Installer)<br>do pobrania sterownika - wtedy nie ma bata, musi<br>działać ;) Warte swojej ceny.",
           "POS"
          ],
          [
           "Jakość wody naprawdę uległa znacznej poprawie,<br>wcześniej czajnik ciągle się zakamieniał, odkąd<br>używamy filtrowanej wody kamienia nie widać wcale.<br>Do zakupu podchodziliśmy sceptycznie, ale jesteśmy<br>bardzo zadowoleni, gdyż jakość wody u nas w kranie<br>to istna tragedia, pić tego nawet po przegotowaniu<br>się nie dało, a teraz jest dużo lepiej :)",
           "POS"
          ],
          [
           "\"Sokowirówka godna uwagi. \"\"odpadki\"\" są suche<br>więc dobrze wyciska sok. Trochę mały pojemnik na<br>sok. Z marchewkami radzi sobie nieźle. Sysyem<br>niekapania czasem przypadkowo się zamyka co jest<br>niebezpieczne dla mechanizmu bo może zalać się<br>sokiem ale jest bardzo przydatny bo można w<br>spokoju przelać sok do szklanki bez podkładania<br>dodatkowych pojemniczków. Czysto i wygodnie.  Ja<br>polecam\"",
           "POS"
          ],
          [
           "\"Torba świetnie wykonana, zamki bardzo dobrej<br>jakości, ładnie przesuwają się i nie zacinają. Co<br>ważne nie czuć \"\"Chińczykiem\"\" od tej torby. Metka<br>z napisem \"\"Made in Poland\"\" bardzo na plus :)<br>Fajnie jakbyście jeszcze zrobili szmacianą wszywkę<br>w środku z tym napisem bo to ważna sprawa :)<br>Polecam z czystym sumieniem :)\"",
           "POS"
          ],
          [
           "Produkt o doskonałym kompaktowym wymiarze, który<br>sprwuje się bardzo dobrze do podstwowych domowych<br>potrzeb gdzie jest potrzeba odtworzenia płyt DVD.<br>Złącze HDMI zapewnia doskonała jakosc obrazu.<br>Bardzo łatwa obsługa wygodny pilot na<br>zadowalajacym poziomie. Praca z pamieciami Flasch<br>po podpieciu do portu USB uzalezniona od ich<br>objętości im większa pamięć tym dłuższa praca<br>urzadzenia. Do podstawowych potrzeb goraco<br>polecam.",
           "POS"
          ],
          [
           "Szukałam czegoś, co pozwoli mi zwiększyć pojemność<br>dysku mojego laptopa, a nie będzie powodować<br>problemów pierwszego świata, jak plątanina kabli<br>czy wystająca karta. Kiedyś widziałam coś<br>podobnego na zagranicznych stronach, a tu nagle<br>trafiłam na to cudo. Sprawdza się genialnie,<br>minimalnie wystaje, ale obły kształt i brak<br>krawędzi sprawiają, że nie ma szans tego zaczepić,<br>złamać itp. Super!",
           "POS"
          ],
          [
           "Świetne rozwiązanie do zastosowań domowych i nie<br>tylko, ogranicza was tylko wyobraźnia. Świetnie<br>trzyma telefon a nawet mały aparat fotograficzny.<br>Można to małe cacko ponieść ze sobą gdzie się chce<br>bo jest naprawdę leciutkie. Ustawić lub przyczepić<br>w najprzeróżniejszych miejscach i kręcić lub robić<br>zdjęcia w trudnych warunkach oświetlenia. Bomba do<br>zdjęć z książek.",
           "POS"
          ],
          [
           "Bardzo dobry odkurzacz. Siła ssania zaskakująco<br>mocna. Głośność akceptowalna, bo odgłos pracy jest<br>inny niż w starych odkurzaczach. Dzieci bały się<br>starego Samsunga o głośności podobnej w<br>decybelach, ale była inna praca silnika. Tego<br>odkurzacza się nie boją, bo przyjemnie szumi.<br>Polecam - zawsze długo i staranie dobieram sprzęt<br>- tym razem ponownie strzał w 10.",
           "POS"
          ],
          [
           "Rakieta - 8 rdzeni, 16 wątków. Super wentylator<br>RGB z logiem AMD. Chciałem z początku kupić<br>threadrippera, ale ten procesor starczy aż nadto.<br>Głównie dlatego, że większość obliczeń przerzucam<br>na GPU. Wentylator cichy. W dobrych płytach<br>głównych można zmieniać mu obroty w zależności od<br>temperatury procesora. W moim przypadku przez<br>większość czasu jest po prostu niesłyszalny.",
           "POS"
          ],
          [
           "Gorąco polecam tę szczotkę szczególnie<br>właścicielom czworonogów. Kilkanaście lat szukałam<br>skutecznego sposobu na sprzątanie kocich kłaków z<br>dywanów. Szczotki obrotowe nie dawały rady. Ta<br>szczotka jest rewelacyjna. Ściąga włosy<br>ekspresowo. Trzeba się trochę namachać ale efekt<br>jest piorunujący. Dla mnie to odkrycie równomierne<br>z odkryciem koła. No i cena oczywiście też super.<br>Taki efekt za niecałe 30 zł. POLECAM!!!!",
           "POS"
          ]
         ],
         "hovertemplate": "Annotation=%{customdata[1]}<br>t-SNE 1=%{x}<br>t-SNE 2=%{y}<br>sentence=%{customdata[0]}<extra></extra>",
         "legendgroup": "POS",
         "marker": {
          "color": "#636efa",
          "line": {
           "color": "DarkSlateGrey",
           "width": 1
          },
          "opacity": 0.8,
          "size": 10,
          "symbol": "circle"
         },
         "mode": "markers",
         "name": "POS",
         "orientation": "v",
         "showlegend": true,
         "type": "scatter",
         "x": [
          -3.3765886,
          -6.6230836,
          -4.0429583,
          -0.081408724,
          -4.1758003,
          0.13822512,
          0.09580434,
          -7.875175,
          -2.7676823,
          -4.132036,
          6.531953,
          2.3477283,
          -2.831591,
          -5.05297,
          -5.965615,
          -0.930754,
          -10.227476,
          1.0924326,
          1.5747855,
          -8.5873375,
          1.9811227,
          -5.1872864,
          4.9888425,
          -0.91966635,
          -6.297023,
          2.8980186,
          -0.27399895,
          -3.3700774,
          7.883235,
          -0.57363796,
          -8.56664,
          -1.5072467,
          -3.1955514,
          0.3956608,
          0.8834089,
          -6.9545503,
          -0.6447293,
          1.618494,
          -8.144753,
          -5.945831
         ],
         "xaxis": "x",
         "y": [
          2.3506222,
          5.177955,
          -7.006499,
          -6.8451285,
          0.8691203,
          5.041363,
          5.1409154,
          2.7625113,
          -6.30028,
          7.3961816,
          -2.7911677,
          -2.2148435,
          -3.1930203,
          1.8402469,
          2.3479838,
          6.470241,
          1.1591157,
          0.7978084,
          -4.6326313,
          0.84431344,
          5.1456904,
          1.5870298,
          3.2125707,
          -1.337378,
          -4.9141736,
          -4.963044,
          -8.469304,
          6.517447,
          3.1768017,
          -8.311852,
          4.747982,
          -4.195228,
          3.9743056,
          -6.901283,
          -4.8309164,
          -5.2203197,
          -6.272123,
          -6.0624943,
          -2.6340113,
          -6.5968733
         ],
         "yaxis": "y"
        },
        {
         "customdata": [
          [
           "Dla małych telefonów ok, choć plastik nie sprawia<br>wrażenia solidnego i wygina się dosyć łatwo.<br>Uchwyt nie nadaje się dla średnich i większych<br>smartfonów ponieważ jest za mały. Sprężyna jest za<br>silna i mój telefon, który ma 7,5 cm szerokości<br>wchodzi już na mocny wcisk i trudno go tam<br>zamocować.",
           "NEU"
          ],
          [
           "Całkiem ok trzyma się szyby jak nie odkleja się i<br>przykleja codziennie. 2 razy odpadł przy upale<br>powyżej 30 stopni - nie było to w trakcie jazdy.<br>Nie ma kilku kolorów metalowych naklejek na tył<br>smartfona, wg. mnie powinna być biała i czarna w<br>zestawie. Ja używam pod etui cienkim i jest ok.",
           "NEU"
          ],
          [
           "Łatwy montaż i dobrze trzyma się szyby. Szybkie,<br>proste wkładanie telefonu. Jeżeli nie używa się<br>telefonu ładuje tak szybko jak ładowarka<br>standardowa na kablu. Przy używaniu nawigacji,<br>ładowanie bardzo powolne, ale zawsze trochę<br>doładuje - ale musi być dobry zasilacz USB i dobry<br>kabel aby przy długim kablu był mały spadek<br>napięcia.",
           "NEU"
          ],
          [
           "Jestem zadowolony. Używam od ponad 2 tygodni<br>(słucham dużo muzyki przez Tidal). Dźwięk jest<br>przyjemny, ale kabel wydaje się być delikatny (nie<br>sądzę, żeby był w stanie wytrzymać rok). Dodatkowo<br>wadą jest ten pilot (przyciski dosyć ciężko się<br>naciska). Pilot mógłby być też lepiej<br>umiejscowiony.   Jednak sam mikrofon nadaje się do<br>rozmów",
           "NEU"
          ],
          [
           "W sumie uchwyt działa sprawnie - jedynym problemem<br>jest fakt, że mam zamykane etui na telefon i albo<br>trzeba zrezygnować z ładowania i przykrywkę<br>odwinąć do tyłu (pod telefon) - lub korzystać z<br>ładowania z zamkniętą klapką (brak możliwości<br>odebrania połączenia, nie widać kto dzwoni itp<br>itd. Sam uchwyt choć na początku zwróciła moją<br>uwagę delikatność wykonania spisuje się zupełnie<br>bez zarzutów.",
           "NEU"
          ],
          [
           "Po wyjęciu z opakowania wygląda na to że towar<br>jest ok. Telefon dobrze trzyma się w uchwycie.<br>Materiał na tyle giętki że da się formować i na<br>tyle sztywny że sam się nie odkształca. Jednym<br>słowem w sam raz. Może służyć do trzymania<br>telefony na szyi jak i w ręku. Całkiem fajny<br>pomysł.",
           "NEU"
          ],
          [
           "Drukarka laserowa ma pojemnik na arkusze A4 do 250<br>szt. czyli kartki nie są narażone na pogniecenie,<br>zakurzenie jak w tańszych modelach z podajnikiem<br>kartek i drukuje dwustronnie. Można też podawać<br>kartki pojedynczo z osobnej tacki co jest bardzo<br>wygodne np. przy zmianie formatu, koloru kartki<br>itp. Cena niewiele wyższa od najtańszych modeli<br>tej firmy.",
           "NEU"
          ],
          [
           "Części odpowiadająca za przylepienie/przyczepienie<br>super. Nigdy nie spada i wręcz lepi się do szyby.<br>Natomiast na głowicy kulkowej są duże wstrząsy<br>które przenoszą się na telefon podczas jazdy. Wiec<br>telefon zawsze się trzęsie na uchwycie. Dopiero<br>zamontowanie mniejszego telefony poniżej 4,5 cala<br>minimalizuje w/w objawy. Do dużych telefonów<br>uchwyty z głowicami są beznadziejne.",
           "NEU"
          ],
          [
           "Jeśli chodzi o myszkę liczyłem na trochę lepsze<br>wykonanie, główne przyciski dość głośne, boczne<br>przyciski są zbyt miękkie i mają za duży skok.<br>Jeśli chodzi o plusy to na pewno świetny scroll,<br>szeroki i wygodny. Dobra ergonomia, ale to już<br>zależy od wielkości dłoni, gdyż myszka jest<br>przeznaczona dla ludzi z dość dużym dłońmi.<br>Świetnie wykonany kabel. Dobra precyzja sensora.",
           "NEU"
          ],
          [
           "Produkt świetny, jedyne co się nie sprawdza to<br>nakładka goląca zarost i podstawka. Podstawka mało<br>stabilna, kiepsko mieszczą się na niej końcówki.<br>Porównując nakładkę do golarki do innej golarki<br>firmy Wahl to nakładka w zestawie mimo iż jest<br>podwójna jest beznadziejna. Pojedyncza golarka<br>Wahl ledwo daje radę, nakładka zostawia większość<br>włosków niezgolonych.",
           "NEU"
          ],
          [
           "\"\"\"Elastyczny\"\" to niefortunne okreslenie, to jest<br>kawal drutu, ktory pewnie po rozgrzaniu  w piecu<br>jest elastyczny ;). NIEMNIEJ jesli juz komus uda<br>sie wygiac go w żadany ksztalt, to jest dosc<br>stabilny. Raczej do wygiecia raz i zostawienia w<br>tej pozycji, a nie do zmieniania co chwile<br>umiejscowienia. Sam uchyt do mocowania do np.<br>blatu - OK.\"",
           "NEU"
          ],
          [
           "Moja stara N72 padła po 8 latach użytkowania. Nikt<br>nie chciał podjąć się naprawy. Kupiłem ten sam<br>model ze względu na bezawaryjność, przyciski<br>(sic!) i sentyment. Choć również jestem<br>użytkownikiem smartfona, to preferuję telefony z<br>klawiaturą, zwłaszcza, gdy korzystam z urządzenia<br>na mrozie czy deszczu. Nokia E72 nigdy mnie nie<br>zawiodła.",
           "NEU"
          ],
          [
           "Pierwszy raz miałem przypadek, że po wlaniu do<br>kartridża i włożeniu go do stacji, owa stacja<br>oszalała. Kartridż czyściutki, uzupełniony tym<br>płynem, a stacja stwierdziła, że potrzebna jest<br>wymiana kartridża... Nie wiem czym to jest<br>spowodowane, ale kupuję już Bioprettę od 2 lat i<br>zalewam nią ten sam kartridż i do teraz nie było<br>problemów. Braun 9260CC.",
           "NEU"
          ],
          [
           "Jak się przetrze czymś mokrym to faktycznie mocno<br>klei (aż trudno potem oderwać ;p), aczkolwiek<br>trzeba czyścić po kilku użyciach, inaczej od<br>wstrząsu zamykanych drzwi telefon potrafi odpaść.<br>Samo ramię trochę się trzęsie na wybojach, ale<br>generalnie wykonanie i plastiki są ok. Jak za 10zł<br>to jestem zadowolony, ale nie polecam tego uchwytu<br>kierowcom zawodowym.",
           "NEU"
          ],
          [
           "Pendrive solidnie wykonany,wytrzymały.Jeżeli<br>chodzi o prędkość przesyłania danych to niestety<br>jest kiepsko.Na usb 3.0 od 40 mb/s i spada.Mam<br>dysk innej firmy o pojemnosci 600 gb i bez usb 3.0<br>mam stabilnosc predkosc na poziomie 60 mb.  Jako<br>dodatkowy pendrive w ktorym mamy zapasowe pliki na<br>pewno polecam, do szybkiego przesylania danych<br>niestety sie nie nadaje :(",
           "NEU"
          ],
          [
           "Generalnie - patchcord, jak patchcord. Działał.<br>Niestety - muszę odjąć jedną gwiazdkę za długość<br>gotowania - jak na spaghetti - niestety<br>zdecydowanie za długo się gotuje. Aczkolwiek -<br>dobrze przyprawiony - jak najbardziej ok.  Trzeba<br>tylko pamiętać, aby zdjąć wcześniej wtyczki -<br>pomimo zieleni - nie dostarczają one żadnych<br>wartości odżywczych ....",
           "NEU"
          ],
          [
           "Jakość wykonania adekwatna do ceny. Szkło chroni w<br>pełni wyświetlacz, ale trzeba pamiętać , że nie<br>jest to pancerne szkło. Zakrywa cały wyświetlacz z<br>tym , że szkło nie jest zakrzywione. Klej trzyma<br>bardzo dobrze. Może ulec zniszczeniu przy<br>mocniejszym uderzeniu. Ogólnie produkt bardzo<br>tani, więc zakupiłem kilka szt na wypadek<br>zniszczenia ;) Polecam",
           "NEU"
          ],
          [
           "Produkt ok. Czyścik jest estetyczny i spełnia<br>swoje zadanie. Co prawda czarna farba na puszce<br>sprawia wrażenie jakby miała lada moment zejść,<br>ale to i tak nie jest sprzęt, z którym ktokolwiek<br>bedzię się deliktanie obchodzić ;) Instrukcja na<br>pudełku po angielsku przerzucona z chińskiego<br>tłumaczem dodaje temu przedmiotu specyficznego<br>uroku xd Przedmiot godny polecenia zwłaszcza za<br>taką cenę.",
           "NEU"
          ],
          [
           "Lokówka za tę cenę w porządku, raczej do<br>okazyjnego korzystania i na pewno konieczne jest<br>utrwalenie loków, bo nie ma zbyt wysokiej<br>temperatury, żeby same z siebie długo się<br>trzymały. Jeśli ktoś chce korzystać na co dzień,<br>lepiej kupić coś z regulacją temperatury, jeśli<br>tylko od czasu do czasu, to będzie ok.",
           "NEU"
          ],
          [
           "Wszystko w porządku. Działa jak należy. Niestety,<br>jeśli mamy gniazdko, gdzie bolec od górnego portu<br>jest w dolnej cześci, a bolec od dolnego portu<br>jest w górnej części, to niestety nie da się<br>włożyć programatora tak, żeby zająć to drugie<br>gniazdko przez inne urządzenie. Programator spięty<br>z bojlerem, nie nagrzewa się nadmiernie.",
           "NEU"
          ],
          [
           "Niestety, plastikowe uchwyty ułamały się po ok 2<br>tyg. mimo że telefon ani nie upadł, ani nie został<br>uderzony. Generalnie etui fajne ale zrobione z<br>bardzo słabego materiału, ale czego można<br>oczekiwać od etui za 9zł gdy oryginał kosztuje<br>ponad 100zł. Oczywiście nie jest to wina sklepu,<br>nie jest on producentem. Szkło na telefon jak<br>najbardziej OK",
           "NEU"
          ],
          [
           "To nie jest zarzut, ale rada. Jeśli zrobiłeś<br>bochenek w tosterze, nie usuwaj go natychmiast.<br>Pozwól mu wchłonąć całe ciepło z elementu<br>grzejnego tostera. Natychmiast zaczęliśmy gotować<br>bochenek w tosterze i natychmiast go wyjęliśmy. A<br>po 3 razach zwróć uwagę, że korpus tostera stopił<br>się trochę, prawie do dziury. To jego wada -<br>cienkie obudowa.",
           "NEU"
          ],
          [
           "Szkło pasuje idealnie, założenie nie sprawia<br>dużego problemu. Jednak strasznie łapie wszelkie<br>zabrudzenia, palcuje się. Po pierwszym upadku<br>telefonu z wysokości około 50 cm szkło odkleiło<br>się. Spowodowane jest to małą powierzchnią kleju -<br>tylko na rantach wokół. Cała powierzchnia ekranu<br>tylko przylega. Trzeba zwiększyć czułość dotyku<br>urządzenia aby można było normalnie używać<br>telefonu.",
           "NEU"
          ],
          [
           "\"Podstawową funkcję raczej spełnia tj. filtruje.<br>Niestety brak tej (zazwyczaj niebieskiej)<br>\"\"czapki\"\" z okienkiem do zaznaczania miesiąca.<br>Numery miesięcy są, ale nie ma jak zaznaczyć,<br>niestety zorientowałem się już po wyrzuceniu<br>starego filtra więc przełożenie nie wchodzi w grę.<br>Przez brak tego elementu filtr nie siedzi w<br>zbiorniku na wodę sztywno tylko się kiwa.\"",
           "NEU"
          ],
          [
           "\"Miernik przyszedł zupełnie rozkalibrowany. Na<br>szczęście dają saszetki do kalibracji, niestety<br>już je zużyłem i z ponowną kalibracją za jakiś<br>czas będzie problem (lepiej gdyby można to było<br>kalibrować czymś łatwo dostępnym - np wodą<br>destylowaną i coca-colą). Czasem pokazuje<br>dokładnie, czasem zupełnie \"\"świruje\"\" i wyświetla<br>losowo zupełnie rozbieżne wartości pH.\"",
           "NEU"
          ],
          [
           "Obudowa wygląda dobrze. Po wyciągnięciu z pudełka<br>ma się wrażenie, że odebraliśmy oryginał NOKIA.<br>Nie mniej jednak wydaję się, że jest to dobry<br>jakościowo zamiennik. Brakuję kilku wypustek w<br>metalowym korpusie wewnętrznym, jeżeli porównujemy<br>z oryginałem, ale nie przeszkadza to w złożeniu<br>telefonu w jedną całość. Ze względu na wiek<br>telefonu, taki zamiennik, za taką kwotę można<br>przyjąć.",
           "NEU"
          ],
          [
           "\"Produkt oryginalny. Po wymianie maszynka jak nowa<br>- goli bezboleśnie, bez wibracji i hałasu.  Jeśli<br>ktoś ma podstawowe umiejętności i cierpliwość, to<br>możliwe jest rozebranie bloku na części i<br>gruntowne oczyszczenie. Jeśli na golarce jest<br>napisane \"\"use part 32B\"\", to nie radzę zastępować<br>tańszym 21B, bo będą niepotrzebne drgania i hałas.<br>Wiem, bo raz się sam nadziałem z<br>\"\"oszczędności\"\".\"",
           "NEU"
          ],
          [
           "Urządzenie kupione w celu użytkowania, jako budzik<br>doskonale widoczny w nocy. Spełnia swą rolę<br>doskonale, jednakże ekran dotykowy oraz menu<br>ustawień jest niskiej jakości. To samo dotyczy<br>wyboru wyświetlania czasu - po prostu nie ma go.<br>Zdaję sobie sprawę, że jest to urządzenie mające<br>służyć zupełnie innym celom, ale lepszą decyzją<br>byłby tablet...",
           "NEU"
          ],
          [
           "Statyw fajnie wykonany, wysoki i ku mojemu<br>zdziwieniu stabilny (statywy w tym przedziale<br>cenowym mają skłonności do przewracania się, gdy<br>podłoże nie jest idealnie płaskie). Jedynym<br>minusem, którego się dopatrzyłem to to, że głowica<br>nie pozwala na płynną pracę (płynny ruch) przez co<br>nagrywanie filmów z tego statywu może być trudne.",
           "NEU"
          ],
          [
           "założyłem sam i działa..zamiennik jak w<br>opisie..pasuje nawet spoko..ale..szkło jest bardzo<br>delikatne , rogi ekranu mniej dokładnie<br>wykończone, niestety jakość nieporównywalna do<br>oryginału.. ale wiadomo..cena.., zamiennik jest 2x<br>lżejszy i przy przyciskaniu dotyku widać<br>odbarwienia także trzeba uważać żeby nie pękło.<br>takie moje spostrzeżenia i różnice a używałem<br>oryginał rok..tak czy inaczej warto się pobawić :)",
           "NEU"
          ],
          [
           "Nie ma tragedii, ale zastosowany materiał nie jest<br>zbyt wytrzymały, a spasowanie części również nie<br>jest idealne. Dedykowane szkło jest odczuwalnie<br>grubsze niż te powszechnie stosowane i mam<br>wrażenie że przez to ekran jest mniej czuły.<br>Plusem jest to, że etui obejmuje również przednie<br>zaokrąglone krawędzie wyświetlacza. Raczej nie<br>zdecydowałbym się na ponowny zakup.",
           "NEU"
          ],
          [
           "etui pasuje do Samsunga 4+ co do szybki mam<br>niewielkie zastrzeżenia (rozmiar i kształt<br>uniwersalny) ,szybka która miała chronić telefon<br>pękła na rogu w palcach przed przyklejeniem jej do<br>telefonu . Powierzchnia mimo dokładnego<br>oczyszczenia nie przykleiła się na całej<br>powierzchni i na ekranie widoczny jest podłużny<br>pasek powietrza pod spodem",
           "NEU"
          ],
          [
           "Zestaw nie zawiera instrukcji montażu, więc zajęło<br>chwilę poskładanie go tak jak należy. Niektóre<br>elementy nie wydają się bardzo solidne (np.<br>oprawki żarówek, statyw). Ogólnie zestaw jest OK,<br>jak za taką cenę. Zdjęcia przedmiotów w nim<br>umieszczonych wychodzą dużo lepiej niż samym<br>aparatem z lampą - cienie faktycznie są miękkie i<br>delikatne.",
           "NEU"
          ],
          [
           "ładny i przydatny co do jakośc oczyszczania nie<br>mogę nic powiedzieć bo nie mam jak sprawdzić  Wg.<br>mnie istotne: wskaźnik LED odlicza dni niezależnie<br>czy uzywałeś codziennie czy nie więc nie wiadomo<br>właściwie kiedy zmienić filtr (150 l w ciągu 30<br>jesiennych dni nie przelaliśmy przez dzbanek na<br>pewno). Używamy wyłącznie do picia. Do gotowania<br>natomiast wodę z kranu.",
           "NEU"
          ],
          [
           "Etui mega spoko, dobrze się trzyma telefonu i<br>zmienia jego wygląd na plus, aż znajomi pytali czy<br>kupiłam nowy telefon.  Niestety szybka trochę<br>gorszej jakości - ale może to dlatego, że ekran<br>mojego modelu tel. jest lekko zaokrąglony i żadna<br>szybka nie trzyma się zbyt dobrze, przez co potem<br>pęka :(   OBsługa i wysłka na 5!",
           "NEU"
          ],
          [
           "Produkt posiada wszystkie wcięcia które powinien<br>posiadać, lecz nie wszystkie kable da się<br>podłączyć do lądowania (dolną część ramki przy<br>gnieździe do ładowania trzeba nadpiłować). Poza<br>tym ramka godna polecenia. Nie odpina się, spadł<br>telefon mi nie raz i nadal żyje (nie korzystam ze<br>szkła hartowanego). Lepsze rozwiązanie niż z<br>podobnymi ramkami przykręcanymi na śrubki które<br>wiecznie się odkręcają.",
           "NEU"
          ],
          [
           "to jak dobrze się klei do magnesu zależy od siły<br>magnesu, więc ciężko o uchwyt z wystarczająco<br>silnym magnesem, bo sam telefon też trochę waży ;/<br>cała reszta jak najbardziej na plus, wygodny i nie<br>tylko powierzchnia ale też dodatkowy uchwyt na<br>palec zwiększa znacznie pewny chwyt :) jak z<br>ochroną ciężko mi ocenić, bo nie upuszczam<br>telefonów",
           "NEU"
          ],
          [
           "Nie mam możliwości zbadania wody przed i po<br>filtrowaniu, ale czajnik, do którego lejemy wodę<br>tylko przefiltrowaną wcześniej do dzbanka dużo<br>mniej zarasta kamieniem (nie to, ze w ogóle, ale<br>różnica jest bardzo wyraźna). Z rzadka zdarzy, że<br>filtr się przytka (zdarzało się też przy innych<br>producentach), wtedy wystarczy go wyciągnąć i<br>wstrząsnąć.",
           "NEU"
          ],
          [
           "Dla początkujących jak najbardziej okej. Dźwięk<br>nieco przytłumiony, ale to jest mikrofon za kilka<br>stówek, który ma w sobie interfejs audio.<br>Mikrofony pod usb nigdy nie będą tak dobre jak te<br>łączone preampem czy mikserem. Wykonanie<br>wporządku, statyw troszkę ssie popfiltr daje radę.<br>Pudełko raczej minimalistyczne ja osobiście<br>musiałem dokupić walizkę aby móc go bezpiecznie<br>przewozić.",
           "NEU"
          ],
          [
           "\"Dobra, zgodnie z oczekiwaniami. MA być szybsza od<br>klasycznych mechaników - nie jestem w stanie tego<br>zmierzyć.  Dla zwykłego \"\"pisania\"\" nie najlepsza<br>ze względu na czcionkę i widoczność liter<br>wyłącznie po podświetleniu klawiatury.  Ale szybka<br>potrzebna jest do grania, nie do pisania. Do gier<br>fajna, a pisma też można, tylko trzeba się<br>przyzwyczaić. Jeśli poszukujesz mechanicznej -<br>polecam. \"",
           "NEU"
          ],
          [
           "Bardzo dobrze wykonane etui, idealnie pasuje do<br>telefonu. Jedyny minus to wyjście na słuchawki.<br>Jest otwór w gumie, ale nie ma go w klapce etui,<br>więc podłączenie słuchawek uniemożliwia zamknięcie<br>klapki. Szkło też pasuje idealnie, natomiast<br>ściereczka, która powinna być nasączona płynem do<br>wyczyszczenia ekranu, była sucha. Poza tym brzegi<br>szkła nie doklejają się dokładnie do ekranu.",
           "NEU"
          ],
          [
           "Płytka, jak płytka. Robi swoje. Trzyma aparat,<br>trzyma się w głowicy. Kupiłem ją jako zamiennik do<br>głowicy Vanguard GH-300T. Była jednak za krótka.<br>Gdyby nie to, byłaby OK. Choć opisują ją jako<br>38mm, jest jakby trochę za szeroka i za gruba do<br>tej głowicy, ale dałoby się ją zamontować i<br>używać.",
           "NEU"
          ],
          [
           "Łatwo zamontować, ale trzeba uważać, bo podkład-<br>zabezpieczenie jest twardsze niż samo szkło. Nie<br>trudno złamać szkło przy odklejaniu od<br>zabezpieczenia. Samo szkło ma dobry poślizg,<br>dobrze przylega i ma odpowiednią ilość kleju. Na<br>minus ramki boczne w kolorze, które zasłaniają<br>boczną krzywiznę. Sam dotyk łapie nawet na<br>zakrzywieniu. Gdyby nie to obramowanie to byłby<br>ideał.",
           "NEU"
          ],
          [
           "\"Wieszak wykonany w bardzo przyzwoity i solidny<br>sposób. Przeznaczony raczej dla ciężkich<br>telewizorów o dużej przekątnej ekranu. Niestety<br>mimo standardu VESA nie nadaje się do telewizorów<br>o rozstawie otworów 30X20 cm - otwory nie są<br>dopasowane i przy np. przekątnej 55\"\" uchwyty będą<br>wystawać poza telewizor, chyba że nawierci się<br>dodatkowe otwory samemu. \"",
           "NEU"
          ],
          [
           "spełnia swoje zadanie, ale poprzedni model który<br>miałem miał metalowy spód a tu plastik, nie<br>otwiera się bezszelestnie tylko na sucho trochę<br>szoruje (przydałoby się jakieś smarowanie), wydaje<br>sygnał dźwiękowy otwierając się z kilko sek.<br>opóźnieniem, to też w porównaniu do mojej<br>oryginalnej z laptopa trochę dziwne, dioda świeci<br>na żółto, a w starej miałem na pomarańczowo",
           "NEU"
          ],
          [
           "etui ładne, magnes trzymam wzorek nie ściera się,<br>na narożnikach wycierają się krawędzie, z czasem<br>zgięcia etui przestają się trzymać w pozycji np.<br>do oglądania filmu. Szkło pomimo reklamowania<br>dopasowania do konkretnego modelu telefonu nie<br>przylega w całości (w opisie uwzględniono to) -<br>jest o 5 mm krótsze niż ekran i na zaokrągleniach<br>płaszczyzn odstaje.",
           "NEU"
          ],
          [
           "Dysk jest widoczny jako SAMSUNG - nieco mniejsza<br>pojemność od zadeklarowanej ( około 112 GB)  Lecz<br>za takie pieniądze to świetny zapas na dane - tym<br>bardziej że HDD a nie flasch więc jest szansa że<br>przetrwają lata ( np zdjęcia i filmy jakie chcemy<br>zachować - bo właśnie w tym celu został zakupiony<br>)",
           "NEU"
          ],
          [
           "Zakupiłem torbę razem z maszynkami do strzyżenia<br>oraz innymi akcesoriami fryzjerskimi. Z początku<br>myślałem, że jest za duża ale po ułożeniu<br>wszystkiego w środku okazała się w sam raz.<br>Zamykana jest na zamek z dopinanym paskiem i<br>wyposażona w środku w kieszonki na maszynki oraz<br>inne akcesoria dzięki czemu można mieć wszystkie<br>potrzebne do strzyżenia rzeczy w jednym miejscu.",
           "NEU"
          ],
          [
           "Bateria zapakowana fabrycznie jednak w instrukcji<br>napisane było,że powinna pokazywać 70% naładowania<br>a niestety było 5% ! Po trzech próbach ładowania<br>(ładowała się kilka minut i konie) naładowała się<br>i działa ale nie wiem czy to 5 zamiast 70 nie<br>będzie miało wpływu na żywotność.Nie jestem w<br>stanie tego ocenić po kilku dniach więc mam trochę<br>mieszane odczucia.",
           "NEU"
          ],
          [
           "\"Według mnie najlepszy rodzaj etui, wytrzymałe i<br>dobrze chroni, niestety \"\"nózka\"\" się wyrabia i po<br>kilku miesiącach (jeżeli się jej często używa)<br>potrafi się popsuć, tzn. połamać bądź pęknąć. Mimo<br>to telefon w czymś takim nie wygląda źle, a jego<br>żywotność na pewno mocno się wydłuża i korzystam z<br>miłą chęcią.\"",
           "NEU"
          ],
          [
           "Etui ładne, niestety zostaje sporo tłustych<br>śladów, a dostęp do otwarcia stopki (kółka) jest<br>nieco ograniczony i trudno to zrobić bez paznokci.<br>Telefon na pewno ochroni lepiej od jakiegoś<br>zwykłego silikonu i jest przyjemne w dotyku, a<br>fakt iż można w sekundę zamontować telefon do<br>stojaka (niestety chyba tylko do samochodu) za<br>pomocą magnesu to ogromny plus.",
           "NEU"
          ]
         ],
         "hovertemplate": "Annotation=%{customdata[1]}<br>t-SNE 1=%{x}<br>t-SNE 2=%{y}<br>sentence=%{customdata[0]}<extra></extra>",
         "legendgroup": "NEU",
         "marker": {
          "color": "#EF553B",
          "line": {
           "color": "DarkSlateGrey",
           "width": 1
          },
          "opacity": 0.8,
          "size": 10,
          "symbol": "circle"
         },
         "mode": "markers",
         "name": "NEU",
         "orientation": "v",
         "showlegend": true,
         "type": "scatter",
         "x": [
          0.0043160142,
          -2.3668377,
          2.0203419,
          -4.3491616,
          -0.19032966,
          1.801719,
          -5.9658003,
          4.344866,
          -9.245266,
          -10.283242,
          -6.6609616,
          4.93316,
          -7.5643616,
          -1.452201,
          -8.493345,
          -0.9697813,
          3.1115322,
          3.6919396,
          -7.9726744,
          0.27634028,
          1.3617601,
          1.8701332,
          4.7903476,
          -1.7200211,
          -0.44991738,
          4.5042458,
          -8.405,
          -1.5356178,
          -0.2658314,
          4.2199364,
          2.0370314,
          3.8792942,
          -3.05431,
          -2.9421635,
          1.4843231,
          5.7172146,
          -2.7050545,
          -1.2762548,
          -2.0001643,
          -4.426599,
          4.0310636,
          4.58757,
          4.5828147,
          2.20991,
          2.4435134,
          3.3172522,
          -7.877413,
          -6.105123,
          -5.1814713,
          -1.2384735,
          -1.8023309
         ],
         "xaxis": "x",
         "y": [
          3.8532765,
          1.7159737,
          -4.533357,
          -2.3054116,
          6.2304516,
          1.7655466,
          7.313672,
          5.559778,
          0.99989,
          -2.3452563,
          0.3313329,
          -6.7657995,
          0.5333536,
          3.2244759,
          4.6114435,
          -0.026039751,
          -0.16941169,
          -8.3287,
          -1.9502014,
          -1.2206264,
          3.0711012,
          8.270137,
          0.58951646,
          -2.452523,
          8.300535,
          -3.7897518,
          -1.497313,
          9.032205,
          1.5491464,
          -2.8971283,
          -1.167818,
          3.479001,
          -6.3833656,
          1.0719979,
          1.037723,
          2.1148942,
          4.9732566,
          -4.450858,
          0.339211,
          -3.3848782,
          2.8613977,
          5.8832917,
          -0.100251436,
          5.5544057,
          -9.545578,
          2.0387197,
          2.7746358,
          4.8178444,
          -1.1982535,
          3.2032092,
          4.9505277
         ],
         "yaxis": "y"
        },
        {
         "customdata": [
          [
           "Pozytywne opinie na temat tego uchwytu zachęciły<br>mnie do jego zakupu, niestety bardzo się<br>rozczarowałam. Uchwyt wcale nie trzyma się<br>kokpitu, już po chwili sam się odkleja. Próbowałam<br>zamontować go kilka razy, niestety nie udało się.<br>Być może do szyby się nada, ale jeśli ktoś chce<br>ten uchwyt na kokpit to nie polecam, strata<br>pieniędzy.",
           "NEG"
          ],
          [
           "O Ile inny produkt tej firmy został mi polecony<br>przez profesjonalnego fryzjera, tak ten konkretny<br>jest po prostu chińskim tworem z naklejką WAHL.<br>Maszynka w dotyku tania i lekka. Nie sprawia<br>dobrego wrażenia. Silniczek wydaje przeraźliwe<br>dźwięki i działa tylko wpięty sieciowo. Ledwo<br>zipie na akumulatorze, dlatego nie polecam jeśli<br>ktoś chce używać mobilnie.",
           "NEG"
          ],
          [
           "ciężko podważyć ich oryginalność, na co dostałem<br>zapewnienie, bo wyglądają identycznie jak te<br>dołączone do Samsunga S8 za 2500zł, które miałem<br>okazję testować od znajomego (dlatego się<br>połasiłem) Niemniej grają o wiele słabiej. Mają<br>zdecydowanie mniej dołu, są cichsze, dźwięk jest<br>mniej nasycony. Reasumując sugeruję testować je na<br>miejscu i wtedy podejmować decyzję w celu<br>uniknięcia rozczarowania. pozdrawiam.",
           "NEG"
          ],
          [
           "\"Zasługuje na dwie i pół gwiazdki. Łączenie z<br>odbiornikiem dobre, nie zawsze można odebrać<br>poprzez przycisk. Niska jakość i wytrzymałość<br>pałąka mocowania, powinna byś profilowana. Po<br>dwóch miesiącach kupiłem nowy, po kolejnych znowu.<br>W uchu siedzi dobrze, lecz ze względu na kształt<br>gumy zaczyna \"\"drażnić\"\", odbiorca połączenia<br>niezależnie od marki telefonu, smartfona narzeka<br>na jakość połączenia, użytkownik ma świetną<br>słyszalność. Nie kupię powtórnie.\"",
           "NEG"
          ],
          [
           "\"Jakość tego produktu jest fatalna. Końcówka USB<br>jest wadliwa i bardzo luźno siedzi w gniazdku,<br>więc komputer przeważnie w ogóle nie widzi tego<br>dysku, a każde potrącenie czy dotknięcie kabelka<br>powoduje podłączenie/rozłączenie. Sama obudowa<br>wygląda na bardzo kiepską i niesolidną. Dysk w<br>środku \"\"lata\"\", jak potrząśnie się nim lekko,<br>słychać stukot. Nie zapisałabym na nim moich<br>plików. Nie można zaufać temu produktowi... \"",
           "NEG"
          ],
          [
           "niestety  przystawka absolutnie nie spełnia swojej<br>roli tak jak mowa w nazwie . Wyciskane maliny wraz<br>z sokiem i tak wychodziły wylotem z przodu<br>maszynki  . a bokiem tylko niewielka ilość soku.<br>Pomimo regulacji pokrętła z przodu przystawki ,<br>nic to nie dało . Jestem nie zadowolona z takiego<br>rozwiązania.",
           "NEG"
          ],
          [
           "jedyne co się zgadza to ze pokrywa cały ekran.<br>natomiast to niby dopasowanie polega na 2<br>grubościach normalnie z chamskim schodkiem,<br>żadnego zaokrąglenia. telefon wygląda gorzej niż<br>ze zwykłym szkłem. szkło nie będzie pasowało do<br>większości etui chroniących przód telefonu, gdyż<br>trzyma się na tyle słabo że etui je odrywa od<br>ekranu.",
           "NEG"
          ],
          [
           "Trudno ocenić , ale wydaje mi się ,że nie są zbyt<br>skuteczne do twardej wody. Do ekspresu używałem<br>wyłącznie wody z tego filtra i zakamienił się<br>bardzo szybko. Podejrzane wydaje mi się to ,że<br>woda przelewa się przez filtr bardzo szybko i nie<br>wiem czy ma czas się odkamienić . Ogólnie jestem<br>rozczarowany.",
           "NEG"
          ],
          [
           "Jedno z połączeń ma luzy. Tego luzu nie można<br>skasować.  Kamera nagrywa ładny obraz tylko<br>podczas jazdy po  gładkim jak stół asfalcie. Na<br>wszelkich nierównościach  wpada w takie drgania,<br>że miałem obawy czy się nie urwie.  Wkręt<br>(malutki) metalowy wkręcony w plastik to marny<br>pomysł na przenoszenie drgań. W oczach widać jak<br>luz  robi się coraz większy.",
           "NEG"
          ],
          [
           "Etui w żaden sposób nie chroni telefonu, przy<br>bardzo małym upadku dosyć, że magnesy się<br>rozczepily to tylna pokrywa pękła. Dzięki temu<br>zamiast super ochrony telefonu mam go<br>rozwalonego.!!! W dodatku szkło pękło na 3 dzień<br>użytkowania z niewiadomych przyczyn (chyba<br>najbardziej cieniutkie szkło). Nie polecam. Lepiej<br>kupić gumowe etui za 5 złoty...",
           "NEG"
          ],
          [
           "Etui na zdjęciu prezentuje się elegancko jednak w<br>rzeczywistości totalny badziew. Plastik słabej<br>jakości, ma się wrażenie że montujac telefon w<br>obudowie zaraz wszystko popęka (choć i tak do mnie<br>produkt trafił już uszkodzony więc telefon nie<br>mógł być umieszczony w etui) klapka obudowy w<br>ogóle się nie domyka, lata bezwładnie w lewo i<br>prawo. Również nie polecam",
           "NEG"
          ],
          [
           "Niestety szkło w zamyśle jest do Nokii 7,1<br>aczkolwiek w rzeczywistości pasuje, ale tylko na<br>szerokość. Na długość już nie bardzo. Przy próbie<br>montażu okazało się, że wycięcie na przedni aparat<br>nie jest kompatybilne gdyż zasłania część aparatu<br>oraz czujnika zbliżeniowego. Aby tego uniknąć<br>należy zamocować szkło tak aby w górnej części<br>wystawało poza obrys telefonu ok. 1.5 mm...",
           "NEG"
          ],
          [
           "Drugi raz już nie popełnię tego samego błędu. To<br>szkło jest niedopasowane do telefonu, szybko się<br>odkleja, a przez to dotyk nie działa jak powinien.<br>Ogólnie strata czasu i pieniędzy na tego typu<br>szkła. Lepiej poszukać szkła, które być może nie<br>jest zaokrąglone na krawędziach, za to lepiej<br>spasowane do telefonu",
           "NEG"
          ],
          [
           "Zakupiony egzemplarz nie był dobrze spasowany,<br>ramka etui delikatnie wygięta, kłopot sprawiał<br>tylni panel - montaż siłowy na wcisk - nie wsuwany<br>jak podano, ponad to panel tylni się ruszał,<br>dołączone szkło hartowane nie trzymanie się<br>telefonu mimo uprzedniego przygotowania<br>wyświetlacza, dołączone ściereczki zamiast mokre<br>były suche. Dokonano reklamacji - towar został<br>wymieniony na inny bez ponoszenia kosztów.",
           "NEG"
          ],
          [
           "Niestety, kolor jest nietrwały i się zdrapuje.<br>Boki już mam praktycznie starte i widać czarne<br>rysy. Szkoda, ponieważ obudowa naprawdę fajnie<br>wygląda i rzeczywiście na początku wyglądała<br>dobrze i estetycznie. Jednak z kolejnymi dniami<br>wyglądało to gorzej dlatego zdecydowałam się<br>pomalować lakierem (co również nie wygląda dobrze<br>ale chciałam dłużej zachować kolor). Z żalem<br>stwierdzam, że obudowa tylko na chwilę",
           "NEG"
          ],
          [
           "Tak sobie. Niby lekki, zwinny i poręczny. Ale to<br>chyba koniec jego zalet. Buczy jak stary kopciuch,<br>ssanie też bez szału - dywanu nie porywa.  Na plus<br>jest jeszcze bezworkowość. Ale cyklonowy? Jak<br>zobaczyłam to u rodziców to miałam niemiłe<br>skojarzenia z panem z kiepskim wąsikiem.  W każdym<br>bądź razie odkurza jak każdy inny znany mi<br>odkurzacz.",
           "NEG"
          ],
          [
           "Produkt godny polecenia ale ZAWSZE mam z nim jedne<br>problem. Przy próbie wytarcia nadmiaru kleju<br>zawsze wyjedzie go troszkę spod szkła. Dodatkowo<br>tym razem nadmiar kleju wlał się do obudowy przez<br>szpary przy bocznych klawiszach... pomimo<br>zastosowanych, załączonych, podkładek, które ten<br>nadmiar miały z boków pochłonąć. Wszystko zrobione<br>zgodnie z instrukcją, a jednak.... Na Note 8<br>takiego wycieku nie miałem.",
           "NEG"
          ],
          [
           "Szkło zle przylega do telefonu. Tylko cieniutki<br>pasek kleju trzymał szkło na telefonie i przez to<br>pod szkło przyklejaly się brudy. Dodatkowo w<br>miejscu kleju dotyk nie działa, co oznacza brak<br>możliwości uzywania dotyku na skrajnych brzegach<br>telefonu. Po jednym dniu użytkowania szkło musiało<br>wyladowac w koszu z polecenia serwisanta w<br>autoryzowanym serwisie Apple. Nie polecam,<br>pieniądze wyrzucone w błoto.",
           "NEG"
          ],
          [
           "Sprzedającego ten produkt omijać z daleka. Sprzęt<br>nie zgodny z tym co jest wystawione na<br>aukcji,czyli starszy model. Widoczne były ślady<br>użytkowania. Nie podłączyłem tych słuchawek bo nie<br>był to ten model co widniał na aukcji. Reklamacja<br>i zwrot odbyła się bez problemów z jedną małą<br>rzeczą.. Nie mogłem odesłać w pakiecie Smart.",
           "NEG"
          ],
          [
           "Bardzo kiepskie wykonanie nie polecam zakupu. Klej<br>naniesiony nie trzyma, dotyk źle wykrojony nie<br>przylega do ramki w rogach, otwór na przycisk home<br>zbyt wielki w konsekwencji przycisk lata na boki,<br>trzeba się zaopatrzyć w klej B-7000, szkło nie<br>dolane z wadą na środku w konsekwencji wielki<br>bombel i o wiele za wąski od razu poszedł do kosza",
           "NEG"
          ],
          [
           "Etui na pierwszy rzut oka wydaje się bardzo ładne<br>i dobrze wykonane lecz nie nadaje się do użytku.<br>Przednia część etui jest sztywna i twarda co<br>powoduje powstawanie ryz w przypadku dostania się<br>zanieczyszczeń pomiędzy wyświetlacz a etui. Po<br>tygodniu użytkowania szkło na wyświetlaczu<br>nadawało się do wymiany. Szkoda telefonu.<br>Aplikacja nie działa.",
           "NEG"
          ],
          [
           "Brak opakowania, instrukcji przez co występują<br>trudności w identyfikacji sterowników - nie<br>instaluje się też automatycznie  pod Win7. Nie<br>uruchamia się po uśpieniu, gubi sterowniki, sieć<br>przez co rozłącza się i co utrudnia użytkowanie.<br>Prawdopodobnie produkt z odzysku, po zwrocie nie w<br>pełni kompatybilny i  sprawny. Bez anteny b. słaby<br>zasięg.",
           "NEG"
          ],
          [
           "Jakość i praktyczność wykonania tego trymera<br>pozostawia naprawdę wiele do życzenia. O golarce w<br>tym zestawie nie warto nawet wspominać. Lepiej od<br>razu ja wyrzucić. Za połowę ceny można kupić nieco<br>lepszy produkt produkowany dla marketów jak np<br>Lidl. Jednym słowem warto dołożyć kilkanaście<br>złotych i zakupić np Philipsa. Różnica kolosalna.<br>Nie polecam.",
           "NEG"
          ],
          [
           "Kompletna TANDETA!!!  To szkło w ogóle nie pasuj<br>do LG K8 2017, jest za długie, wycięcia są<br>nieprawidłowe, zgadza się tylko szerokość ale co z<br>tego skoro odstaje bokami, jest PŁASKIE a nie<br>zaokrąglone jak mówi opis, N I E    P O L E C A M<br>! ! !",
           "NEG"
          ],
          [
           "LCD świeci ładnie i wyraźnie. Nie jest to co<br>prawda amoled samsunga ale wygląda znośnie.<br>Problem w samym wykonaniu frontu.Sam LCD Jest<br>nieznacznie grubszy niż oryginał i nie ma<br>możliwości poprawnego wklejenia w ramki. Całość<br>nie mieści się w korpusie. Całość po wklejeniu<br>wystaje z ramki o ok 0.5mm. Nie wygląda to fajnie.",
           "NEG"
          ],
          [
           "Mówiąc krótko szkło kiepskie. Dłużej: szkło na<br>starcie jest porysowane, pasek odkleił się sam i<br>nie odkleił folii, co spowodowało, że trzeba było<br>ją mechanicznie odkleić (to spowodowało odciski<br>palców i kurz). Wacik do polerowania zostawia<br>bardzo dużo niteczek, nie nadaje się kompletnie.<br>Po tej zabawie tylko porysowany telefon. Nie<br>polecam kompletnie.",
           "NEG"
          ],
          [
           "Co prawda szkło jest jeszcze krótko na moim<br>telefonie ale już chcę przestrzec potencjalnych<br>kupców o fakcie, iż przez nie (to szkło) bardzo<br>słabo a praktycznie kompletnie nie działa czytnik<br>linii papilarnych. Oby chociaż dobrze ochroniło<br>przed ewentualnym zbiciem ekranu, chociaż chyba<br>nie chciałabym sprawdzać bo jeszcze bym się<br>rozczarowała.",
           "NEG"
          ],
          [
           "Witam niestety gdzieś zawieruszył mi się paragon i<br>nici  z reklamacji ,towar oceniam na  beznadziejny<br>,bateria jest minimalnie mniejsza od wyciągniętej<br>fabrycznej ,ale to by jeszcze nie miało  takiego<br>znaczenia gdyby bateria pracowała poprawnie a<br>pracuje beznadziejnie ,średnio  przy normalnym<br>użytkowaniu wymagała ładowania dwa razy na dzień",
           "NEG"
          ],
          [
           "Rozumiem,że cena słuchawek nie jest porywająca ale<br>fakt,że jedna słuchaweczka była pęknięta a z<br>drugiej paczki, słuchawek jedna z niej jakby nie<br>sklejona od razu wypadła, przentując mi zaratość<br>kabelków itd , to uważam ,ż etowar jest wadliwy.<br>Chyba bym nie poleciła. Za 15,99 kupiłam w<br>markecie identyczne, wszytsko działa, nei rozpadły<br>się po rozpakowaniu :)",
           "NEG"
          ],
          [
           "Generalnie OK, jednak po sprzęcie kilkukrotnie<br>droższym od najtańszego spodziewałem się lepszej<br>jakości. Radio koszmarne, jeśli ktoś kupuje, żeby<br>posłuchać przed snem, to niestety nie nadaje się.<br>Projektor tylko na sufit i to w pozycji dziwnej,<br>zmiana i regulacja średnio pomaga. Jako zegarek<br>spełnia swoją funkcję, gdu=yby nie radio, można<br>polecać.",
           "NEG"
          ],
          [
           "\"Albumy są słabej jakości. Materiał nie jest<br>dostatecznie wytrzymały, stąd też zagniecenia<br>okładki albumu  powstają już w chwili transportu.<br>Folia z której wykonana jest \"\"koperta\"\" na<br>zdjęcia jest bardzo delikatna i targa się podczas<br>umieszczania zdjęć w albumie. Cena nie jest<br>wygórowana, ale w marketach można kupić album w<br>tej samej cenie w dużo lepszym wykonaniu.\"",
           "NEG"
          ],
          [
           "Porażka! Z tak słabymi zdjęciami jeszcze się nie<br>spotkałam a zawsze zamawiam przez internet!<br>Jakość, kolory i papier który jest bardzo cienki-<br>pierwszy raz coś takiego widzę!  Zdjęcia poniżej<br>do porównania oryginalnego i odbitki. Nie wiem czy<br>z tych 210 zdjęć wybiorę chociaż 20 które się do<br>czegoś nadają. Strata pieniędzy!!!!!!",
           "NEG"
          ],
          [
           "\"Niestety, zbyt łatwo przesuwająca się przednia<br>klapka (zbyt miękkie zawieszenie) i źle wycięty<br>górny otwór powodują, że komfort używania w<br>postaci praktycznych okienek jest umniejszony<br>przez często pojawiający się komunikat \"\"Nie<br>zakrywaj górnej części ekranu\"\" a tryb pracy z<br>podparciem w zasadzie nie jest użyteczny. Ale na<br>co dzień da się używać jako ochronka telefonu.\"",
           "NEG"
          ],
          [
           "Ogólnie w porządku, ale można używać  tylko w<br>gniazdku. Nie można np. postawić i podłączyć do<br>przedłużacza ze względu na wlot powietrza od<br>spodu. Kupiłem z myślą o suszeniu samochodu w<br>środku i do tego się nie nadaje. Głośny i mocno<br>śmierdzi, ale się może się wypali. Obsługa klienta<br>ok.",
           "NEG"
          ],
          [
           "\"Po niecałym dniu użytkowania szkło zaczęło się<br>kruszyć i pękać, mimo że telefon był w obudowie i<br>tak na prawdę nie uległ żadnemu upadkowi, ani<br>niczemu co mogło wpłynąć na jego uszkodzenie. Mam<br>też wrażenie, że nieco wpływa na jakość przedniego<br>aparatu, ponieważ czasami obraz jest \"\"zamglony\"\".<br>Dopasowanie jest jednak bardzo dobre i sam klej<br>dobrze trzyma.\"",
           "NEG"
          ],
          [
           "Akumulatorki ładowały się 30 minut do pełnego<br>ładowania ( a były w stanie rozładowania), więc<br>ich pojemność jest pewnie 550mAh a nie<br>deklarowane. W firmowych o pojemności 2000mAh<br>ładowarka potrzebuje ok 4 godzin do pełnego<br>naładowania. Nie spodziewałem się oczywiście<br>otrzymać tego co jest napisane na obudowie, ale<br>mógłby to być produkt trochę lepszy :)",
           "NEG"
          ],
          [
           "Kamera działa ok ale radio to porażka. Guziki na<br>przodzie to atrapa. Gdyby mi gdzieś pokrętło nie<br>wyleciało bo nawet nie było przyklejone to bym<br>odesłał. Gubi dźwięk i raz gra raz nie. Nawet żeby<br>ściszyć to trzeba sie rozkojarzyć bo pokrętło na<br>panelu nie działa. Nie tracie nerwów na te<br>chińskie badziewia. Lepiej dołożyć i mieć spokój.",
           "NEG"
          ],
          [
           "\"wg opisu z auk.ji i instrukcji dostarczonej przez<br>producenta czas  działania \"\"do 8 godzin\"\"  w<br>praktyce czas działania  jaki udało się uzyskać po<br>całonocnym ładowaniu to 1:45h,  równie dobrze<br>można było by napisać że działa do 1 roku na<br>jednym ładowaniu,  ten adapter to pieniądze<br>wyrzucone w błoto,  nie kupujcie tego\"",
           "NEG"
          ],
          [
           "Produkt spełnia swoje przeznaczenie, jednakże<br>podczas użytkowania na produkcie pozostają wyraźne<br>ślady zagięć co w znaczącym stopniu szkodzi<br>estetyce. Ślady te nie odkształcają się same,<br>tylko pozostają na produkcie. Za cenę 40 zł od<br>produktu oczekuję nie tylko spełniania swoich<br>funkcji ale również estetycznego wyglądu co<br>niestety w tym przypadku jest psute przez<br>odkształcenia.",
           "NEG"
          ],
          [
           "Wygląd jak na zdjęciach, jednak cyfry są zbyt<br>wąskie. UWAGA  w opisie przedmiotu nie ma<br>informacji, że zegarek nie posiada trybu 24h, jest<br>tylko 12AM/PM. Gdyby to było zamieszczone w<br>opisie, to nie kupiłbym go. Chyba nie ma w zegarku<br>bardziej irytującej rzeczy, jak gdy zamiast np.<br>15:00 widzę 3:00.",
           "NEG"
          ],
          [
           "Po ponad miesiącu użytkowania mogę stwierdzić iż<br>casy są średniej jakości, szybko się rysują i<br>pękają same na rogach. Kupiłem 4 sztuki i dwie z<br>nich już wylądowały w koszu gdyż pękł sam bok i<br>pęknięcie posuwało się dalej, aż obudowa się<br>ukruszyła. Ponadto kolor czerwony potrafi brudzić<br>i farbować. No ale jaka cena taka jakość.",
           "NEG"
          ],
          [
           "Nie polecam. Pasek miał być najwyższej jakości.<br>Sam pasek jest ok natomiast jeden z teleskopów<br>jest nieco grubszy i nie dokładnie pasuje. (<br>teleskopy to tani zamiennik) Nie zakładam paska<br>gdyż obawiam się że mogę go zgubić. ( szkoda<br>stracić zegarek za niemałe pieniądze ). Nie<br>polecam osobom którzy cenią sobie jakość produktu.",
           "NEG"
          ],
          [
           "Według mnie takie coś nie powinno trafić na rynek.<br>Szkło nie przykleja się na brzegach ekranu (bo<br>jest on leciutko zaokrąglony), z czasem pod spód<br>dostaje się kurz i syf i całość wygląda<br>tragicznie,  niestety do tego telefonu trzeba<br>kupić albo szkło bardziej miękkie (7H), albo sporo<br>mniejsze, albo folię... powinni tego zabronić",
           "NEG"
          ],
          [
           "Po pierwsze szkło ewidentnie nie jest dedykowane<br>do Redmi Note 6 Pro. Jest dużo za małe i nie<br>zakrywa całego ekranu, a do tego czarny pasek z<br>dołu zakrywa część wyświetlacza. o Otwory na<br>obiektyw, słuchawkę i czujniki również nie pasują.<br>Jakby tego było mało mój egzemplarz był mocno<br>uszkodzony, a konkretnie cały popękany. Nie<br>polecam.",
           "NEG"
          ],
          [
           "Porażka. Ekspres za prawie 4tys. zł był wysyłany<br>kilkukrotnie na serwis w przeciągu 2 lat<br>użytkowania. Za każdym razem serwis stwierdzał że<br>ekspres był zbyt rzadko odkamieniany co było nie<br>prawdą. Zawsze był odkamieniany gdy pojawiał się<br>komunikat. Albo coś jest nie tak z odkamieniaczem<br>DeLonghi albo z ekspresem tego samego pożal się<br>Boże producenta. Nigdy więcej DeLonghi.",
           "NEG"
          ],
          [
           "Porażka. Pomimo odkamieniania i czyszczenia układu<br>spieniania mleka ekspres kilkukrotnie ulegał<br>awarii i był wysyłany do serwisu. Serwis<br>stwierdzał że ekspres był za rzadko czyszczony, co<br>oczywiście było nie prawdą. Albo coś jest nie tak<br>z ekspresem tej samej firmy albo że środkami do<br>czyszczenia. Nigdy więcej DeLonghi!!! Zarówno<br>sprzętu jak i chemii. PORAŻKA!!!",
           "NEG"
          ],
          [
           "Bardzo słaby. Po pierwsze, wbrew promocyjnym<br>zapewnieniem nie da się nalać wody bez zdjęcia<br>pokrywki, bo nie widać poziomu nalewanej wody. Do<br>tego  jest tak zbudowany, że nie można korzystać z<br>wody, zanim się cała nie przefiltruje: przy próbie<br>wcześniejszego wylania z dzbanka przefiltrowanej<br>wody wylewa się jednocześnie przez otwory w<br>pokrywie (te do napełniania dzbanka) woda<br>nieprzefiltrowana.",
           "NEG"
          ]
         ],
         "hovertemplate": "Annotation=%{customdata[1]}<br>t-SNE 1=%{x}<br>t-SNE 2=%{y}<br>sentence=%{customdata[0]}<extra></extra>",
         "legendgroup": "NEG",
         "marker": {
          "color": "#00cc96",
          "line": {
           "color": "DarkSlateGrey",
           "width": 1
          },
          "opacity": 0.8,
          "size": 10,
          "symbol": "circle"
         },
         "mode": "markers",
         "name": "NEG",
         "orientation": "v",
         "showlegend": true,
         "type": "scatter",
         "x": [
          -1.3979712,
          -9.978176,
          -4.106655,
          -4.499604,
          -3.5662634,
          -4.362287,
          2.4546115,
          -1.9145097,
          2.311236,
          3.3596122,
          0.32084385,
          0.0972231,
          -0.84014094,
          2.1507962,
          5.982392,
          -2.8769286,
          6.3776045,
          4.8051767,
          4.4606767,
          3.662191,
          3.4338186,
          -0.3051835,
          -6.1556244,
          -0.051048893,
          4.527814,
          5.5507627,
          5.8419075,
          -5.187695,
          -2.2467604,
          -3.5766563,
          2.2215097,
          7.211841,
          1.0842611,
          -4.1079807,
          1.5130064,
          -5.24934,
          -3.5669384,
          0.76173645,
          4.146335,
          -2.385551,
          6.36538,
          -4.444224,
          7.864524,
          2.5210373,
          8.859845,
          8.895962,
          -1.465303
         ],
         "xaxis": "x",
         "y": [
          1.8638608,
          -2.3017597,
          5.048034,
          -5.2568502,
          -4.537825,
          -7.9121823,
          1.628442,
          -3.359264,
          -9.615917,
          1.2218666,
          2.9466255,
          -0.46542013,
          1.3182065,
          3.6316109,
          -4.3449497,
          5.764038,
          0.62581414,
          0.20638958,
          -7.2248454,
          -0.58271575,
          2.108729,
          -3.1505284,
          -3.1049693,
          0.5744819,
          -3.9483025,
          -1.2320317,
          -1.45521,
          -0.46392417,
          -9.128247,
          -0.9537882,
          -2.2774181,
          -0.9227989,
          -1.0858029,
          -3.6918392,
          2.5257897,
          -1.432074,
          -0.3824145,
          -2.7467716,
          -7.60573,
          -1.1051443,
          -4.748907,
          2.6538234,
          2.4707105,
          -0.74204785,
          1.4403576,
          1.4257643,
          -3.9288156
         ],
         "yaxis": "y"
        }
       ],
       "layout": {
        "coloraxis": {
         "colorbar": {
          "title": {
           "text": "Annotation"
          }
         }
        },
        "height": 800,
        "legend": {
         "title": {
          "text": "Annotation"
         },
         "tracegroupgap": 0
        },
        "template": {
         "data": {
          "bar": [
           {
            "error_x": {
             "color": "#2a3f5f"
            },
            "error_y": {
             "color": "#2a3f5f"
            },
            "marker": {
             "line": {
              "color": "white",
              "width": 0.5
             },
             "pattern": {
              "fillmode": "overlay",
              "size": 10,
              "solidity": 0.2
             }
            },
            "type": "bar"
           }
          ],
          "barpolar": [
           {
            "marker": {
             "line": {
              "color": "white",
              "width": 0.5
             },
             "pattern": {
              "fillmode": "overlay",
              "size": 10,
              "solidity": 0.2
             }
            },
            "type": "barpolar"
           }
          ],
          "carpet": [
           {
            "aaxis": {
             "endlinecolor": "#2a3f5f",
             "gridcolor": "#C8D4E3",
             "linecolor": "#C8D4E3",
             "minorgridcolor": "#C8D4E3",
             "startlinecolor": "#2a3f5f"
            },
            "baxis": {
             "endlinecolor": "#2a3f5f",
             "gridcolor": "#C8D4E3",
             "linecolor": "#C8D4E3",
             "minorgridcolor": "#C8D4E3",
             "startlinecolor": "#2a3f5f"
            },
            "type": "carpet"
           }
          ],
          "choropleth": [
           {
            "colorbar": {
             "outlinewidth": 0,
             "ticks": ""
            },
            "type": "choropleth"
           }
          ],
          "contour": [
           {
            "colorbar": {
             "outlinewidth": 0,
             "ticks": ""
            },
            "colorscale": [
             [
              0,
              "#0d0887"
             ],
             [
              0.1111111111111111,
              "#46039f"
             ],
             [
              0.2222222222222222,
              "#7201a8"
             ],
             [
              0.3333333333333333,
              "#9c179e"
             ],
             [
              0.4444444444444444,
              "#bd3786"
             ],
             [
              0.5555555555555556,
              "#d8576b"
             ],
             [
              0.6666666666666666,
              "#ed7953"
             ],
             [
              0.7777777777777778,
              "#fb9f3a"
             ],
             [
              0.8888888888888888,
              "#fdca26"
             ],
             [
              1,
              "#f0f921"
             ]
            ],
            "type": "contour"
           }
          ],
          "contourcarpet": [
           {
            "colorbar": {
             "outlinewidth": 0,
             "ticks": ""
            },
            "type": "contourcarpet"
           }
          ],
          "heatmap": [
           {
            "colorbar": {
             "outlinewidth": 0,
             "ticks": ""
            },
            "colorscale": [
             [
              0,
              "#0d0887"
             ],
             [
              0.1111111111111111,
              "#46039f"
             ],
             [
              0.2222222222222222,
              "#7201a8"
             ],
             [
              0.3333333333333333,
              "#9c179e"
             ],
             [
              0.4444444444444444,
              "#bd3786"
             ],
             [
              0.5555555555555556,
              "#d8576b"
             ],
             [
              0.6666666666666666,
              "#ed7953"
             ],
             [
              0.7777777777777778,
              "#fb9f3a"
             ],
             [
              0.8888888888888888,
              "#fdca26"
             ],
             [
              1,
              "#f0f921"
             ]
            ],
            "type": "heatmap"
           }
          ],
          "heatmapgl": [
           {
            "colorbar": {
             "outlinewidth": 0,
             "ticks": ""
            },
            "colorscale": [
             [
              0,
              "#0d0887"
             ],
             [
              0.1111111111111111,
              "#46039f"
             ],
             [
              0.2222222222222222,
              "#7201a8"
             ],
             [
              0.3333333333333333,
              "#9c179e"
             ],
             [
              0.4444444444444444,
              "#bd3786"
             ],
             [
              0.5555555555555556,
              "#d8576b"
             ],
             [
              0.6666666666666666,
              "#ed7953"
             ],
             [
              0.7777777777777778,
              "#fb9f3a"
             ],
             [
              0.8888888888888888,
              "#fdca26"
             ],
             [
              1,
              "#f0f921"
             ]
            ],
            "type": "heatmapgl"
           }
          ],
          "histogram": [
           {
            "marker": {
             "pattern": {
              "fillmode": "overlay",
              "size": 10,
              "solidity": 0.2
             }
            },
            "type": "histogram"
           }
          ],
          "histogram2d": [
           {
            "colorbar": {
             "outlinewidth": 0,
             "ticks": ""
            },
            "colorscale": [
             [
              0,
              "#0d0887"
             ],
             [
              0.1111111111111111,
              "#46039f"
             ],
             [
              0.2222222222222222,
              "#7201a8"
             ],
             [
              0.3333333333333333,
              "#9c179e"
             ],
             [
              0.4444444444444444,
              "#bd3786"
             ],
             [
              0.5555555555555556,
              "#d8576b"
             ],
             [
              0.6666666666666666,
              "#ed7953"
             ],
             [
              0.7777777777777778,
              "#fb9f3a"
             ],
             [
              0.8888888888888888,
              "#fdca26"
             ],
             [
              1,
              "#f0f921"
             ]
            ],
            "type": "histogram2d"
           }
          ],
          "histogram2dcontour": [
           {
            "colorbar": {
             "outlinewidth": 0,
             "ticks": ""
            },
            "colorscale": [
             [
              0,
              "#0d0887"
             ],
             [
              0.1111111111111111,
              "#46039f"
             ],
             [
              0.2222222222222222,
              "#7201a8"
             ],
             [
              0.3333333333333333,
              "#9c179e"
             ],
             [
              0.4444444444444444,
              "#bd3786"
             ],
             [
              0.5555555555555556,
              "#d8576b"
             ],
             [
              0.6666666666666666,
              "#ed7953"
             ],
             [
              0.7777777777777778,
              "#fb9f3a"
             ],
             [
              0.8888888888888888,
              "#fdca26"
             ],
             [
              1,
              "#f0f921"
             ]
            ],
            "type": "histogram2dcontour"
           }
          ],
          "mesh3d": [
           {
            "colorbar": {
             "outlinewidth": 0,
             "ticks": ""
            },
            "type": "mesh3d"
           }
          ],
          "parcoords": [
           {
            "line": {
             "colorbar": {
              "outlinewidth": 0,
              "ticks": ""
             }
            },
            "type": "parcoords"
           }
          ],
          "pie": [
           {
            "automargin": true,
            "type": "pie"
           }
          ],
          "scatter": [
           {
            "fillpattern": {
             "fillmode": "overlay",
             "size": 10,
             "solidity": 0.2
            },
            "type": "scatter"
           }
          ],
          "scatter3d": [
           {
            "line": {
             "colorbar": {
              "outlinewidth": 0,
              "ticks": ""
             }
            },
            "marker": {
             "colorbar": {
              "outlinewidth": 0,
              "ticks": ""
             }
            },
            "type": "scatter3d"
           }
          ],
          "scattercarpet": [
           {
            "marker": {
             "colorbar": {
              "outlinewidth": 0,
              "ticks": ""
             }
            },
            "type": "scattercarpet"
           }
          ],
          "scattergeo": [
           {
            "marker": {
             "colorbar": {
              "outlinewidth": 0,
              "ticks": ""
             }
            },
            "type": "scattergeo"
           }
          ],
          "scattergl": [
           {
            "marker": {
             "colorbar": {
              "outlinewidth": 0,
              "ticks": ""
             }
            },
            "type": "scattergl"
           }
          ],
          "scattermapbox": [
           {
            "marker": {
             "colorbar": {
              "outlinewidth": 0,
              "ticks": ""
             }
            },
            "type": "scattermapbox"
           }
          ],
          "scatterpolar": [
           {
            "marker": {
             "colorbar": {
              "outlinewidth": 0,
              "ticks": ""
             }
            },
            "type": "scatterpolar"
           }
          ],
          "scatterpolargl": [
           {
            "marker": {
             "colorbar": {
              "outlinewidth": 0,
              "ticks": ""
             }
            },
            "type": "scatterpolargl"
           }
          ],
          "scatterternary": [
           {
            "marker": {
             "colorbar": {
              "outlinewidth": 0,
              "ticks": ""
             }
            },
            "type": "scatterternary"
           }
          ],
          "surface": [
           {
            "colorbar": {
             "outlinewidth": 0,
             "ticks": ""
            },
            "colorscale": [
             [
              0,
              "#0d0887"
             ],
             [
              0.1111111111111111,
              "#46039f"
             ],
             [
              0.2222222222222222,
              "#7201a8"
             ],
             [
              0.3333333333333333,
              "#9c179e"
             ],
             [
              0.4444444444444444,
              "#bd3786"
             ],
             [
              0.5555555555555556,
              "#d8576b"
             ],
             [
              0.6666666666666666,
              "#ed7953"
             ],
             [
              0.7777777777777778,
              "#fb9f3a"
             ],
             [
              0.8888888888888888,
              "#fdca26"
             ],
             [
              1,
              "#f0f921"
             ]
            ],
            "type": "surface"
           }
          ],
          "table": [
           {
            "cells": {
             "fill": {
              "color": "#EBF0F8"
             },
             "line": {
              "color": "white"
             }
            },
            "header": {
             "fill": {
              "color": "#C8D4E3"
             },
             "line": {
              "color": "white"
             }
            },
            "type": "table"
           }
          ]
         },
         "layout": {
          "annotationdefaults": {
           "arrowcolor": "#2a3f5f",
           "arrowhead": 0,
           "arrowwidth": 1
          },
          "autotypenumbers": "strict",
          "coloraxis": {
           "colorbar": {
            "outlinewidth": 0,
            "ticks": ""
           }
          },
          "colorscale": {
           "diverging": [
            [
             0,
             "#8e0152"
            ],
            [
             0.1,
             "#c51b7d"
            ],
            [
             0.2,
             "#de77ae"
            ],
            [
             0.3,
             "#f1b6da"
            ],
            [
             0.4,
             "#fde0ef"
            ],
            [
             0.5,
             "#f7f7f7"
            ],
            [
             0.6,
             "#e6f5d0"
            ],
            [
             0.7,
             "#b8e186"
            ],
            [
             0.8,
             "#7fbc41"
            ],
            [
             0.9,
             "#4d9221"
            ],
            [
             1,
             "#276419"
            ]
           ],
           "sequential": [
            [
             0,
             "#0d0887"
            ],
            [
             0.1111111111111111,
             "#46039f"
            ],
            [
             0.2222222222222222,
             "#7201a8"
            ],
            [
             0.3333333333333333,
             "#9c179e"
            ],
            [
             0.4444444444444444,
             "#bd3786"
            ],
            [
             0.5555555555555556,
             "#d8576b"
            ],
            [
             0.6666666666666666,
             "#ed7953"
            ],
            [
             0.7777777777777778,
             "#fb9f3a"
            ],
            [
             0.8888888888888888,
             "#fdca26"
            ],
            [
             1,
             "#f0f921"
            ]
           ],
           "sequentialminus": [
            [
             0,
             "#0d0887"
            ],
            [
             0.1111111111111111,
             "#46039f"
            ],
            [
             0.2222222222222222,
             "#7201a8"
            ],
            [
             0.3333333333333333,
             "#9c179e"
            ],
            [
             0.4444444444444444,
             "#bd3786"
            ],
            [
             0.5555555555555556,
             "#d8576b"
            ],
            [
             0.6666666666666666,
             "#ed7953"
            ],
            [
             0.7777777777777778,
             "#fb9f3a"
            ],
            [
             0.8888888888888888,
             "#fdca26"
            ],
            [
             1,
             "#f0f921"
            ]
           ]
          },
          "colorway": [
           "#636efa",
           "#EF553B",
           "#00cc96",
           "#ab63fa",
           "#FFA15A",
           "#19d3f3",
           "#FF6692",
           "#B6E880",
           "#FF97FF",
           "#FECB52"
          ],
          "font": {
           "color": "#2a3f5f"
          },
          "geo": {
           "bgcolor": "white",
           "lakecolor": "white",
           "landcolor": "white",
           "showlakes": true,
           "showland": true,
           "subunitcolor": "#C8D4E3"
          },
          "hoverlabel": {
           "align": "left"
          },
          "hovermode": "closest",
          "mapbox": {
           "style": "light"
          },
          "paper_bgcolor": "white",
          "plot_bgcolor": "white",
          "polar": {
           "angularaxis": {
            "gridcolor": "#EBF0F8",
            "linecolor": "#EBF0F8",
            "ticks": ""
           },
           "bgcolor": "white",
           "radialaxis": {
            "gridcolor": "#EBF0F8",
            "linecolor": "#EBF0F8",
            "ticks": ""
           }
          },
          "scene": {
           "xaxis": {
            "backgroundcolor": "white",
            "gridcolor": "#DFE8F3",
            "gridwidth": 2,
            "linecolor": "#EBF0F8",
            "showbackground": true,
            "ticks": "",
            "zerolinecolor": "#EBF0F8"
           },
           "yaxis": {
            "backgroundcolor": "white",
            "gridcolor": "#DFE8F3",
            "gridwidth": 2,
            "linecolor": "#EBF0F8",
            "showbackground": true,
            "ticks": "",
            "zerolinecolor": "#EBF0F8"
           },
           "zaxis": {
            "backgroundcolor": "white",
            "gridcolor": "#DFE8F3",
            "gridwidth": 2,
            "linecolor": "#EBF0F8",
            "showbackground": true,
            "ticks": "",
            "zerolinecolor": "#EBF0F8"
           }
          },
          "shapedefaults": {
           "line": {
            "color": "#2a3f5f"
           }
          },
          "ternary": {
           "aaxis": {
            "gridcolor": "#DFE8F3",
            "linecolor": "#A2B1C6",
            "ticks": ""
           },
           "baxis": {
            "gridcolor": "#DFE8F3",
            "linecolor": "#A2B1C6",
            "ticks": ""
           },
           "bgcolor": "white",
           "caxis": {
            "gridcolor": "#DFE8F3",
            "linecolor": "#A2B1C6",
            "ticks": ""
           }
          },
          "title": {
           "x": 0.05
          },
          "xaxis": {
           "automargin": true,
           "gridcolor": "#EBF0F8",
           "linecolor": "#EBF0F8",
           "ticks": "",
           "title": {
            "standoff": 15
           },
           "zerolinecolor": "#EBF0F8",
           "zerolinewidth": 2
          },
          "yaxis": {
           "automargin": true,
           "gridcolor": "#EBF0F8",
           "linecolor": "#EBF0F8",
           "ticks": "",
           "title": {
            "standoff": 15
           },
           "zerolinecolor": "#EBF0F8",
           "zerolinewidth": 2
          }
         }
        },
        "title": {
         "font": {
          "size": 20
         },
         "text": "t-SNE - TF-IDF Sentence Embeddings",
         "x": 0.5
        },
        "width": 1200,
        "xaxis": {
         "anchor": "y",
         "domain": [
          0,
          1
         ],
         "showgrid": false,
         "title": {
          "text": "t-SNE 1"
         }
        },
        "yaxis": {
         "anchor": "x",
         "domain": [
          0,
          1
         ],
         "showgrid": false,
         "title": {
          "text": "t-SNE 2"
         }
        }
       }
      }
     },
     "metadata": {},
     "output_type": "display_data"
    }
   ],
   "source": [
    "# display interactive plot with reduced dimensionality\n",
    "annotation_plt_series = pd.Series(data[\"target\"])\n",
    "\n",
    "fig = px.scatter(\n",
    "    x=vectors_tfidf_embedded[:, 0],\n",
    "    y=vectors_tfidf_embedded[:, 1],\n",
    "    color=annotation_plt_series,\n",
    "    hover_data={\n",
    "        \"sentence\": data[\"sentence\"]\n",
    "        .str.wrap(50)\n",
    "        .apply(lambda x: x.replace(\"\\n\", \"<br>\")),\n",
    "        \"Annotation\": annotation_plt_series,\n",
    "    },\n",
    "    title=\"t-SNE - TF-IDF Sentence Embeddings\",\n",
    "    labels={\"color\": \"Annotation\", \"x\": \"t-SNE 1\", \"y\": \"t-SNE 2\"},\n",
    "    color_continuous_scale=px.colors.sequential.Viridis,\n",
    "    template=\"plotly_white\",\n",
    ")\n",
    "\n",
    "fig.update_traces(\n",
    "    marker=dict(size=10, opacity=0.8, line=dict(width=1, color=\"DarkSlateGrey\"))\n",
    ")\n",
    "fig.update_layout(\n",
    "    title_font_size=20,\n",
    "    title_x=0.5,\n",
    "    xaxis=dict(showgrid=False),\n",
    "    yaxis=dict(showgrid=False),\n",
    "    coloraxis_colorbar=dict(title=\"Annotation\"),\n",
    "    legend_title_text=\"Annotation\",\n",
    "    width=1200,\n",
    "    height=800,\n",
    ")\n",
    "\n",
    "fig.show()"
   ]
  }
 ],
 "metadata": {
  "kernelspec": {
   "display_name": "Python 3",
   "language": "python",
   "name": "python3"
  },
  "language_info": {
   "codemirror_mode": {
    "name": "ipython",
    "version": 3
   },
   "file_extension": ".py",
   "mimetype": "text/x-python",
   "name": "python",
   "nbconvert_exporter": "python",
   "pygments_lexer": "ipython3",
   "version": "3.10.12"
  }
 },
 "nbformat": 4,
 "nbformat_minor": 2
}
