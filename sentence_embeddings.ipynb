{
 "cells": [
  {
   "cell_type": "markdown",
   "metadata": {},
   "source": [
    "# Setup"
   ]
  },
  {
   "cell_type": "code",
   "execution_count": 2,
   "metadata": {},
   "outputs": [],
   "source": [
    "import os\n",
    "import pandas as pd\n",
    "import fasttext.util\n",
    "import numpy as np\n",
    "\n",
    "import plotly.express as px\n",
    "from sklearn.manifold import TSNE\n",
    "from sklearn.feature_extraction.text import TfidfVectorizer\n",
    "\n",
    "import nltk\n",
    "import nltk.downloader\n",
    "\n",
    "fasttext.util.download_model(\"pl\", if_exists=\"ignore\")\n",
    "\n",
    "if not os.path.exists(\"nkjp+wiki-forms-all-100-cbow-hs.txt\"):\n",
    "    raise ValueError(\n",
    "        \"Download the model from http://dsmodels.nlp.ipipan.waw.pl/dsmodels/nkjp+wiki-forms-all-100-cbow-hs.txt.gz and extract it to the root of the project\"\n",
    "    )\n",
    "\n",
    "\n",
    "if not nltk.downloader.Downloader().is_installed(\"punkt_tab\"):\n",
    "    nltk.download(\"punkt_tab\")"
   ]
  },
  {
   "cell_type": "code",
   "execution_count": 3,
   "metadata": {},
   "outputs": [],
   "source": [
    "model_fasttext = fasttext.load_model(\"cc.pl.300.bin\")"
   ]
  },
  {
   "cell_type": "code",
   "execution_count": 4,
   "metadata": {},
   "outputs": [
    {
     "data": {
      "text/html": [
       "<div>\n",
       "<style scoped>\n",
       "    .dataframe tbody tr th:only-of-type {\n",
       "        vertical-align: middle;\n",
       "    }\n",
       "\n",
       "    .dataframe tbody tr th {\n",
       "        vertical-align: top;\n",
       "    }\n",
       "\n",
       "    .dataframe thead th {\n",
       "        text-align: right;\n",
       "    }\n",
       "</style>\n",
       "<table border=\"1\" class=\"dataframe\">\n",
       "  <thead>\n",
       "    <tr style=\"text-align: right;\">\n",
       "      <th></th>\n",
       "      <th>sentence</th>\n",
       "      <th>target</th>\n",
       "    </tr>\n",
       "  </thead>\n",
       "  <tbody>\n",
       "    <tr>\n",
       "      <th>0</th>\n",
       "      <td>Super lekarz i człowiek przez duże C . Bardzo ...</td>\n",
       "      <td>__label__meta_plus_m</td>\n",
       "    </tr>\n",
       "    <tr>\n",
       "      <th>1</th>\n",
       "      <td>Bardzo olewcze podejscie do pacjenta . Przypro...</td>\n",
       "      <td>__label__meta_minus_m</td>\n",
       "    </tr>\n",
       "    <tr>\n",
       "      <th>2</th>\n",
       "      <td>Lekarz zalecił mi kurację alternatywną do doty...</td>\n",
       "      <td>__label__meta_amb</td>\n",
       "    </tr>\n",
       "    <tr>\n",
       "      <th>3</th>\n",
       "      <td>Konsumenci oczywiście kierują się ceną . Te l...</td>\n",
       "      <td>__label__meta_zero</td>\n",
       "    </tr>\n",
       "    <tr>\n",
       "      <th>4</th>\n",
       "      <td>Pani Doktor Iwona jest profesjonalistką w każd...</td>\n",
       "      <td>__label__meta_plus_m</td>\n",
       "    </tr>\n",
       "    <tr>\n",
       "      <th>5</th>\n",
       "      <td>Jest nie prawda co napisal ten internauta . Te...</td>\n",
       "      <td>__label__meta_plus_m</td>\n",
       "    </tr>\n",
       "    <tr>\n",
       "      <th>6</th>\n",
       "      <td>Krzysztof jest ZNAKOMITYM fizjoterapeutą ! Prz...</td>\n",
       "      <td>__label__meta_plus_m</td>\n",
       "    </tr>\n",
       "    <tr>\n",
       "      <th>7</th>\n",
       "      <td>Pani Doktor bardzo delikatna , wygląda na bard...</td>\n",
       "      <td>__label__meta_amb</td>\n",
       "    </tr>\n",
       "    <tr>\n",
       "      <th>8</th>\n",
       "      <td>jest bardzo dobrym lekarzem miłu ciepły troszc...</td>\n",
       "      <td>__label__meta_plus_m</td>\n",
       "    </tr>\n",
       "    <tr>\n",
       "      <th>9</th>\n",
       "      <td>Lekarz ten przyjął mnie nie uprzedzając , że n...</td>\n",
       "      <td>__label__meta_minus_m</td>\n",
       "    </tr>\n",
       "  </tbody>\n",
       "</table>\n",
       "</div>"
      ],
      "text/plain": [
       "                                            sentence                 target\n",
       "0  Super lekarz i człowiek przez duże C . Bardzo ...   __label__meta_plus_m\n",
       "1  Bardzo olewcze podejscie do pacjenta . Przypro...  __label__meta_minus_m\n",
       "2  Lekarz zalecił mi kurację alternatywną do doty...      __label__meta_amb\n",
       "3   Konsumenci oczywiście kierują się ceną . Te l...     __label__meta_zero\n",
       "4  Pani Doktor Iwona jest profesjonalistką w każd...   __label__meta_plus_m\n",
       "5  Jest nie prawda co napisal ten internauta . Te...   __label__meta_plus_m\n",
       "6  Krzysztof jest ZNAKOMITYM fizjoterapeutą ! Prz...   __label__meta_plus_m\n",
       "7  Pani Doktor bardzo delikatna , wygląda na bard...      __label__meta_amb\n",
       "8  jest bardzo dobrym lekarzem miłu ciepły troszc...   __label__meta_plus_m\n",
       "9  Lekarz ten przyjął mnie nie uprzedzając , że n...  __label__meta_minus_m"
      ]
     },
     "execution_count": 4,
     "metadata": {},
     "output_type": "execute_result"
    }
   ],
   "source": [
    "# dummy data from train.tsv, you may replace it with your own data\n",
    "data = pd.read_csv(\"train.tsv\", sep=\"\\t\")\n",
    "data.head(10)"
   ]
  },
  {
   "cell_type": "code",
   "execution_count": 5,
   "metadata": {},
   "outputs": [],
   "source": [
    "# comment out this entire cell to use the full dataset\n",
    "data = data.sample(n=300, random_state=42)"
   ]
  },
  {
   "cell_type": "markdown",
   "metadata": {},
   "source": [
    "# 1. FastText embedding"
   ]
  },
  {
   "cell_type": "code",
   "execution_count": 6,
   "metadata": {},
   "outputs": [],
   "source": [
    "# vectorize the words with FastText\n",
    "vectors_fasttext = []\n",
    "\n",
    "\n",
    "for idx, sentence in enumerate(data[\"sentence\"]):\n",
    "    vectorized = model_fasttext.get_sentence_vector(sentence.replace(\"\\n\", \" \"))\n",
    "    vectors_fasttext.append(vectorized)\n",
    "\n",
    "\n",
    "vectors_fasttext = np.array(vectors_fasttext)"
   ]
  },
  {
   "cell_type": "code",
   "execution_count": 7,
   "metadata": {},
   "outputs": [],
   "source": [
    "# reduce dimensionality\n",
    "tsne_fasttext = TSNE(n_components=2, random_state=42)\n",
    "vectors_fasttext_embedded = tsne_fasttext.fit_transform(vectors_fasttext)"
   ]
  },
  {
   "cell_type": "code",
   "execution_count": 8,
   "metadata": {},
   "outputs": [
    {
     "data": {
      "application/vnd.plotly.v1+json": {
       "config": {
        "plotlyServerURL": "https://plot.ly"
       },
       "data": [
        {
         "customdata": [
          [
           "Jestem bardzo niezadowolona z atmosfery panującej<br>podczas wizyty . Pani Doktor odradziła mi zabieg i<br>prawdopodobnie słusznie . Jednak klimat wizyty<br>fatalny i tego pacjent nigdy nie oczekuje po<br>wizycie w prywatnym gabinecie . Nawet jeśli<br>problem pacjenta jest \" urojony \" ( cytat za Panią<br>Doktor ) to lekarz , a już zwłaszcza lekarz<br>przyjmujący w prywatnym gabinecie , nie ma prawa<br>pozwalać sobie na tak protekcjonalny ton oraz \" do<br>widzenia \" na czole przy każdym zadawanym pytaniu<br>. Przypominam , że wizyta nie jest darmowa .<br>Żałuję , że zostawiła m tam jakiekolwiek pieniądze<br>oraz że nie podzieliła m się z Panią Janeczko<br>wystarczająco dosadnie moją opinią na temat jej<br>postawy wobec pacjenta .",
           "__label__meta_minus_m"
          ],
          [
           "Przyjechali śmy do pięknie wyglądającwgo zajazdu<br>aby zjeść kolację . Po zamówieniu zup oraz drugich<br>dań otrzymali śmy obie zupy oraz jedno drugie<br>tanie w tym samym momencie . Po zjedzeniu zup<br>danie było zimne a drugiego głównego jeszcze nie<br>było . Po zwróceniu uwagi obsłudze zza baru<br>słychać było rozmowy obsługi : „ weź to odgrzej ”<br>„ miej to w d * * ie ” „ o co im chodzi ” . Po<br>usłyszeniu tych słów podeszli śmy do baru aby<br>zapłacić jedynie za zupy oraz napoje . Na nasze<br>słowa „ Chcieli by śmy zapłacić za napoje oraz<br>zupy ponieważ po pierwsze dania były podane w złej<br>kolejności a przyjechali śmy zjeść razem a nie<br>każdy osobno więc nie będziemy jeść zimnych dań ”<br>jedna z Pań bezczelnie odpowiedziała „ Ale żeby<br>focha na jedzenie strzelać , chyba nie byli ście<br>głodni ” . To hasło zakończyło rozmowę .<br>Podsumowując zajazd piękny , jedzenie średnie a<br>obsługa dramatyczna mająca gdzieś klienta i<br>podstawy kultury . Nie polecam .",
           "__label__meta_minus_m"
          ],
          [
           "Lekarz nie był zainteresowany moimi<br>dolegliwościami . Nie została m zbadana , mimo że<br>sygnalizowała m utrzymujące się ( i nawracające )<br>bóle żołądka . Jestem zadowolona , że doktor<br>wykonał mi usg , ale nie otrzymała m wydruku ,<br>ponieważ zapisał się wynik poprzedniego pacjenta .<br>Mam nadzieję , że przepisany lek będzie pomocny .<br>Szkoda , ponieważ liczyła m , że będę pod stałą<br>kontrolą gastrologiczną , jeżeli dolegliwości nie<br>ustąpią . Nie polecam . Jagoda",
           "__label__meta_minus_m"
          ],
          [
           "W styczniu 2016r . zaczął em krwawić przy<br>oddawaniu stolca . Należę do grupy bezpośredniego<br>ryzyka zachorowania na nowotwór jelita grubego . .<br>. . więc czym prędzej udał em się do Proktologa .<br>Wybór doktora Jurczyszyna podyktowany był terminem<br>( najszybciej ) . Podczas wizyty został em zbadany<br>, także anoskopem . Doktor wykluczył chorobę<br>hemoroidalną , zlecił wykonanie dalszych badań u<br>swojego znajomego ( m . in . rektoskopia ) .<br>Pomimo wieku przed 40 - tką natychmiast zdecydował<br>em się na wykonanie kolonoskopii ( nie opisuję \"<br>wątpliwej \" przyjemności kilkudniowego<br>przygotowywania się do kolonoskopii jak również<br>samego badania ) . Przed badaniem kolonoskopowym<br>proktolog / chirurg już podczas badania per rectum<br>stwierdził hemoroidy , po badaniu anoskopem ocenił<br>je na hemoroidy II stopnia . . . . Na koniec<br>kolonoskopii zobaczył em hemoroidy \" od środka \"<br>na ekranie . Być może Pan doktor Jurczyszyn miał<br>podczas badania mojej osoby po prostu bardzo słaby<br>dzień . . . . Sytuacja nieprzyjemna , bardzo duży<br>stres dla mnie i mojej rodziny , dodatkowe koszty<br>kolonoskopii ; postanowił em porozmawiać z Panem<br>doktorem . Rozmowa była mimo wszystko raczej z<br>gatunku \" kulturalnych \" , na koniec doktor<br>zwrócił mi 200zł , które pobrał za wizytę . . .<br>Jeszcze nieprzyjemna uwaga - Pan doktor przyjmuje<br>w brudnym chałacie , nie takim troszkę brudnym ,<br>tylko takim nie pranym przez okres co najmniej<br>kilku tygodni . Mam nadzieje , że po zwróceniu<br>Panu doktorowi uwagi , następni pacjenci nie będą<br>witani przez lekarza w brudnym chałacie ( przy<br>koszcie wizyty wynoszącym 200zł ) . Pan doktor ma<br>bardzo pochlebne opinie w zakresie leczenia<br>szpiczaka , więc pewnie nie jest \" słabym \"<br>lekarzem , natomiast jeżeli chodzi o proktologię -<br>zdecydowanie nie polecam .",
           "__label__meta_minus_m"
          ],
          [
           "Dojazd do hotelu bezproblemowy , jednak sama<br>lokalizacja i oznakowanie parkingu nie do<br>przyjęcia zwłaszcza przy deszczowej pogodzie .<br>Przy wejściu do hallu w bramie czuć stęchliznę .<br>Pokoje akustyczne , słychać hałasy z korytarza .<br>Śniadanie przeciętne w tle muzyka chóralna -<br>dłuższe słuchanie jest nużące .",
           "__label__meta_minus_m"
          ],
          [
           "Miejsce z potencjałem , chociaż , ze względu na<br>liczbę turystów dość zatłoczone i niezbyt zaciszne<br>. Najgorsze , że nocą nikt nie pilnuje aby na<br>terenie panowała cisza - podpici kolesie krzyczeli<br>pod oknami i nie chcieli się uciszyć . Rano<br>obsługa twierdziła że na terenie jest ochrona . .<br>. No ale może głównie pilnuje aby nie kraść roślin<br>- tabliczki straszące policją są wszędzie . A o<br>spokojny sen gości nikt nie dba ! W karczmie<br>kelnerka nie podeszła do nas przez prawie 20 minut<br>. . . Sielanka , prawda ?",
           "__label__meta_minus_m"
          ],
          [
           "Witam , gdy dowiedziała m się że jestem w ciąży<br>chciała m aby prowadził ją doświadczony lekarz .<br>Wiec zapisała m się na wizytę do dr<br>Bystrzejewskiego sugerując się opiniami na<br>internecie . Mogę teraz stwierdzić że wszystkie<br>moje wizyty były przeprowadzane w pospiechu<br>ponieważ za każdym razem było opóźnienie co<br>najmniej godzinne gdyż doktor wiecznie się<br>spóźniał . Taka sytuacja nie powinna mieć miejsca<br>biorąc pod uwagę że każdorazowo za wizytę trzeba<br>odpowiednio zapłacić . Podczas całej ciąży miała m<br>około 13 wizyt po których lekarz nawet nie<br>pamiętał jak mam na imię . Z czystym sumieniem<br>mogę stwierdzić że lekarz sympatyczny , badanie<br>przeprowadzał w sposób delikatny . Niestety wizyty<br>trwały w sumie kilka minut , lekarz zapominał<br>wypisać recepty bo był w wiecznym pośpiechu .<br>Najgorsze jest to że z tego pośpiechu i<br>rozkojarzenia zle zinterpretował wyniki badań co<br>mogło skutkować uszkodzeniem płodu . Gdy po mojej<br>nadgorliwości wyszło w końcu że wyniki są złe i<br>jest to przez nieuwagę lekarza , nie usłyszała m<br>nawet przepraszam . Nie polecam .",
           "__label__meta_minus_m"
          ],
          [
           "Wybierając hotel sugerowalismy się przede<br>wszystkim standardem , zależało nam aby hotel był<br>dość kameralny i w miarę nowy . W biurze podróży<br>hotel opisano w samych superlatywach . Po<br>przylocie okazało się , że pokoje w hotelu nie są<br>jeszcze gotowe i jedna noc spędzimy w innym hotelu<br>a na następny dzień o 13 autokar przewiezie nas do<br>Evity . Trochę byli śmy zdziwieni , bo rezydentka<br>poinformowała nas ze jest to z przyczyn<br>technicznych ( dotyczyło to conajmniej 18 par co<br>było dla nas dziwne ) ale zamknelismy temat i<br>czekali śmy do następnego dnia do godziny 13 .<br>Nazajutrz o 13 ruszyli śmy do hotelu , po<br>przyjeździe kazano nam udać się na obiad i<br>poinformowano nas ze po obiedzie otrzymamy klucze<br>do pokoju . W recepcji Pani zaczęła się tłumaczyć<br>, że potrzebują około 30 minut bo wieszaja firanki<br>, po oczekiwaniu 30 minut okazało się że musimy<br>poczekać minimum 3 godziny ponieważ rozpadal się<br>deszcz i obsługa hotelowa nie może prowadzić prac<br>na dachu ( podłączyć wody w pokojach w których<br>mieli śmy zamieszkać ) . Cierpliwość ludzi wtedy<br>się definitywnie skończyła i zaczęli dociekać czy<br>pokoje w ogóle będą gotowe . Najpierw zwodzil nas<br>manager hotelu po czym właściciel . Zaczęli śmy<br>domagać się pokazania pokoji do których rzekomo za<br>pare godzin mieli śmy dostać klucze , jak się<br>okazało pokoje były w stanie przygotowań i wcale<br>nie chodziło tu o firanki a o skręcanie mebli ,<br>montowanie urządzeń sanitarnych w łazience ,<br>zawieszeniu tv na ścianie . Jedna wielka masakra !<br>! ! Stracili śmy kolejny dzień na jeżdżenie<br>pomiędzy hotelami , od właściciela nie usłyszeli<br>śmy nawet jednego słowa przepraszam . Organizacja<br>zerowa , pokoje sprzedane a fizycznie nawet nie<br>możliwe do użytku myślę że jeszcze do połowy<br>czerwca . Ostrzegam każdego kto decyduje się na<br>ten hotel aby sprawdzić czy aby napewno po<br>przyjeździe nie okaże się że zostaną przewiezieni<br>całkowicie w inne miejsce . Hotel do którego nas<br>przewieziono nie był w takim standardzie jak ten<br>za który zapłacili śmy . Stanowczo nie polecam i<br>jescze raz przestrzegam przed niepotrzebnym<br>nerwami i strata 2 dni urlopu na jeżdżenia<br>autokarem pomiędzy hotelami .",
           "__label__meta_minus_m"
          ],
          [
           "Wszystkich , którzy zamierzają skorzystać z oferty<br>Apartinfo chcę przestrzec przed tym nieuczciwym<br>przedsiębiorcą ! W marcu zarezerwowała m<br>Apartament z Widokiem na Żuraw w terminie 2 - 9<br>września br . Oczywiście w terminie ekspresowym<br>musiała m wysłać zaliczkę w kwocie 660 zł . Pobyt<br>w apartamencie miał być prezentem na rocznicę<br>ślubu Rodziców . W nocy z 30 na 31 marca Rodzice<br>mieli bardzo poważny wypadek samochodowy , więc<br>musiała m rezerwację anulować i wtedy zaczęły się<br>kłopoty . Spółka Apartinfo oznajmiła , że zaliczka<br>rezerwacyjna jest bezzwrotna , choć jest to wbrew<br>prawu ( Kodeks Cywilny , art . 410 , paragraf 2 )<br>. Po wymianie maili firma Apartinfo zdecydowała<br>się na oddanie zaliczki , jednak do dzisiaj<br>pieniędzy nie otrzymała m . Dodam jeszcze , że<br>rezerwację anulowała m na 5 miesięcy przed<br>terminem jej realizacji . Będę ostrzegać<br>wszystkich przed Apartinfo .",
           "__label__meta_minus_m"
          ],
          [
           "Byli śmy ze znajomymi na weekend w tym hotelu ,<br>lecz się zawiedli śmy po pierwsze ciągle mieli śmy<br>problemy z prądem , po drugie jedzenie kiepskie ,<br>zwłaszcza śniadanie w formie bufetu - wybór mały .<br>Jak przystało na 3gwiazdkowy hotel standard<br>powinien byc w miare wysoki , a tu w restauracji<br>sprzedaja wode z biedronki Polaris , która w<br>dyskoncie kosztuje 50gr , a tu kasuja 5zł - śmiech<br>! ! ! W pokojach popękane ściany - my tak akurat<br>trafili śmy ( pokój208 ) , nie ma klimatyzacj<br>iZostawiłam komórkę w pokoju jak sie zorientowała<br>m , to juz jej nie było - Pan w recepcji najpierw<br>powiedział że znalezli te komórkrę , a za chwilę<br>zmienił zdanie złodzieje . Szczerze nie polecam .",
           "__label__meta_minus_m"
          ],
          [
           "Rodziła m swoje dziecko we wrześniu 2014 i dopiero<br>teraz zebrała m się na siłę aby napisać swoją<br>opinię o p . Urbańskiej . . . widzę , że pozytywne<br>opinie dotyczą osób , które tej pani zapłaciły za<br>odbieranie porodu . . ja niestety nie miała m<br>opłaconej położnej i niestety trafiła m do tej<br>kobiety pod opiekę podczas porodu . . to był<br>koszmar ! ! ! widać , że liczy tylko na kasę a jak<br>trzeba pracować za pieniądze podatników to łaskę<br>robi ! była niemiła , bezczelna , okropnie się<br>odnosiła do mnie i do mojego męża . . bała m się o<br>cokolwiek zapytać bo warczała cały czas i jakieś<br>dziwne żale miała ze swojego życia . . rzucała<br>tekstami typu \" ja rodziła m bez znieczulenia i<br>bez męża i dała m radę \" poza tym zero wsparcia !<br>cały czas się nade mną znęcała tekstami typu \"<br>niee ty nie urodzisz . . a co to parcie jest ? pff<br>. . \" szkoda słów . . Kazała mi przeć i wychodziła<br>bez słowa . . a jakby główka wyszła ? a jakby<br>trzeba było mnie naciąć ? Mam nadzieję , że uda mi<br>się ostrzec kobiety przed tą położną ponieważ ja<br>przeżyła m koszmar . . całe szczęście mój poród na<br>koniec przyjął lekarz a nie ona . . bała by m się<br>że zrobi coś specjalnie żeby zadać mi ból albo<br>mojemu dziecku . . NIE POLECAM ! ! ! ! ! ! !",
           "__label__meta_minus_m"
          ],
          [
           "Po przeczytaniu tak licznych pozytywnych opinii<br>zapisała m się na wizytę do Pana doktora .<br>Niestety zawiodła m się . Pan doktor zlecił mi<br>badania , nie informując mnie w jakiej fazie cyklu<br>mam je wykonać . Co było bardzo istotne . Badania<br>wykonała m w nieodpowiedniej fazie cyklu , przez<br>co moje wyniki były bardzo złe . W dalszym etapie<br>trafiła m do szpitala , w którym poinformowano<br>mnie , że poprzednie badania wykonała m w<br>nieodpowiedniej fazie cyklu przez co mój wynik<br>wyszedł bardzo zawyżony . W szpitalu została m<br>zbadana w dwóch fazach cyklu i okazało się , że<br>moje wyniki są w normie .",
           "__label__meta_minus_m"
          ],
          [
           "Umówiła m się na wizytę gdyż planowała m zabieg<br>VaserLipo na brzuch i plecy . Nie jestem osobą<br>otyłą , noszę rozmiar M / 38 i raczej postrzegam<br>się jako osobę szczupłą z nierównieomiernie<br>rozłożonym tłuszczem - właśnie w okolicach brzucha<br>i pleców . Podczas wizyty pan doktor staksował<br>moją sylwetkę kiedy siedziała m na krześle i<br>dowiedziała m się że z moim wyglądem kwalifikuję<br>się raczej na zabieg plastyki powłok brzusznych (<br>sic ! ) przy czym nigdy nie rodziła m , a siedząc<br>trudno o brak wałeczków . Kiedy wstała m i<br>rozebrała m się usłuszałam , że mam cyt : \"<br>bałagan na plecach \" , nie mam talii ani pośladków<br>. Dodam , że swoją figurę określiła by m raczej<br>jako \" klepsydra \" niż \" jabłko \" więc takie<br>określenia uważam za obliczone na wpędzienie<br>pacjentki w jeszcze większe niezadowolenie z<br>własnego ciala i namówienie jej na poszerzenie<br>zabiegu o kolejne obszary . Nie wrócę tam .",
           "__label__meta_minus_m"
          ],
          [
           "Fantastyczne położenie hotelu - przy stoku ,<br>rewelacja dla narciarzy , dobrze rozwiązany<br>skiroom i w zasadzie to wszystko z plusów .<br>Obsługa bardzo niemiła - przez tydzień nikt się do<br>mnie nie uśmiechnął z przymusem odpowiadał na<br>Dzień dobry , Jedzenie - śniadania monotonne w<br>formie stołu szwedzkiego - gdy zejdziesz 1 / 2<br>godziny przed końcem wydawania nie ma już warzyw<br>których i wcześnie rano jest bardzo mało to na<br>dodatek obsłucha nie chce dorobić jajecznicy - bo<br>robią tylko 2 x , Obiadokolacje małe i niesmaczne<br>- a znam i bardzo lubię czeską kuchnię - bez<br>porównania z poprzednimi hotelami i restauracjami<br>w innych okolicach Czech , Obsługa niesympatyczna<br>- bardzo wyraźnie dają znać że nie lubią Polaków -<br>niesympatyczni , komentują coś pod nosem , po raz<br>pierwszy w życiu widział em kelnera chodzącego po<br>sali z rękami w kieszeniach , tylko 1 kelnerka<br>mówi po angielsku , brak obrusów na stole - OK<br>maja tylko * * * ale czuł em się jak na kiepskiej<br>stołówce , trzeba prosić o wymianę ręczników po<br>kilku dniach - obsługo nie rozumie że ręcznik<br>pozostawiony w łazience na podłodze trzeba<br>wymienić ! ! ! ! na zwrócenie się do personelu –<br>twierdzą że po 4 dniach się nie należy ! ! ! ! Bar<br>czynny od 7 . 30 do 24 . 00 , w pokojach nie wolno<br>używać urządzeń elektrycznych w tym czajników -<br>więc kawy lub herbaty się nie napijesz w nocy<br>jeśli chcesz poczytać . Koleżance zabrano z pokoju<br>prywatny czajnik bez poinformawania jej o tym ,<br>mimo że go nie używała - Ja cieszę się że nie<br>zabrano mi laptopa Uśmiech . Jak wspomniał em –<br>złe jedzenie i bar czynny do 24 . 00 a nie wolno<br>wnosić jedzenia i napoi ! ! ! Koledze któremu<br>przed wyjazdem rozchorowały się dzieci i<br>przyjechał w 3 osoby zamiast deklarowanych 5 – za<br>które zapłacił 50 % - kazano dopłacić 100 % za 4<br>osobę mimo że w miał opcję bezpłatnego anulowania<br>rezerwacji . Podsumowując - Nikomu nie polecę tego<br>hotelu , przed takimi hotelami powinno się<br>ostrzegać potencjalnych gości . Efekt -<br>Kilkunastoosobowa grupa w przyszłym roku jedzie na<br>narty do Słowacji . Pozdrawiam",
           "__label__meta_minus_m"
          ],
          [
           "Był em leczony przez dr Graneckiego na<br>dolegliwosci zoładkowe . Człowiek otwarty ,<br>komunikatywny , dosc rzutki w swoich pogladach ,<br>zeby nie powiedzieć zbyt rzutki . Ok , on leczy ,<br>on wie , wiec nie komentuje tego . Zdziwiło mnie<br>tylko zapisywanie mnie co tydzien na wizyte ,<br>powiedzmy kontrolna , choc schorzenia tego typu<br>leczy sie praktycznie jednorazowo ( opinia innego<br>lekarza ) . To miło , ze dr chciał mnie widziec na<br>kontroli , ale robienie 4 czy 5 kontroli to juz<br>zakrawa z lekka na biznes a nie na leczenie . To<br>jednak jestem w stanie przełknąc . Niestety USG<br>wykonane u dr i zinterpretowane przez niego jako<br>powiekszenie watroby napedziło mi mnóstwo<br>niepotrzebnego strachu . Powtórne badanie na nowym<br>sprzecie w innym miejscu wykluczyło calkowicie<br>diagnoze dr Graneckiego . Rozumiem , ze bład moze<br>sie zdarzyc , ale skoro pracuje sie juz na<br>zlomowym sprzecie nalezałoby wziac poprawke przy<br>stawianiu powaznych diagnoz . Krótko mowiac Panie<br>doktorze , jesli biznes to na dobrym sprzecie a<br>generowanie zysków niekoniecznie przez niekonczace<br>sie kontrole : ) Pozdrawiam , Maciej",
           "__label__meta_minus_m"
          ],
          [
           "Bylam na połówkowym u Doktora wczoraj ( pakiet<br>Medicover ) Niby specjalista dobry , wszystko co<br>sie należalo sprawdzil ale straszny mruk , ciezko<br>doslyszec co mowi . Meżowi to musialam streszczac<br>bo on już w ogole nic nie slyszal . Obsługa<br>klienta raczej słaba - przedmiotowa . Wizyta<br>trwala 15min . Na usg pierwszego trymestru bylam u<br>innego specjalisy i widze dużą różnice w podejściu<br>do pacjenta . Jeśli przy IIIUSG ciaży będe miała<br>możliwośc wyboru w ramach pakietu to postaram sie<br>żeby był to inny lekarz .",
           "__label__meta_minus_m"
          ],
          [
           "Plusem jest to , że pokoje są naprawdę duże : )<br>Niestety pokoje nadają sie do porządnego remontu ,<br>są stare i ani trochę nie dorównują Novotelovi w<br>Warszawie . Po przybyciu w ubikacji zobaczyła m<br>nie spuszczone pozostałości po poprzednich<br>użytkownikach pokoju co świadczy o tym , że pani<br>sprzątająca nie zainteresowała się nawet<br>posprzątaniem toalety . Wymeldowanie było o<br>godzinie 12 a gdy już wychodzili śmy o godzinie 11<br>. 50 usłyszeli śmy telefon od pana z recepcji , że<br>należy sie wymeldować . Na przyszłość radze nie<br>dzwonić przed czasem i nie upominać gości ,<br>ponieważ było to bardzo niegrzeczne wypędzać nas<br>przed czasem . Niestety obsługa nas zawiodła i nie<br>odwiedzimy więcej tego hotelu ; )",
           "__label__meta_minus_m"
          ],
          [
           "Hotel lata świetności ma DAWNO za sobą ! Wymaga<br>kapitalnego remontu i wymiany ekipy zarządzającej<br>, a właściwe nie panującej nad funkcjonowaniem<br>hotelu . Ale po kolei : położenie hotelu jest<br>fajne - spokojne i niedaleko centrum Zlotych<br>Piasków , więc gdyby dyrekcja hotelu wykorzystała<br>ten atut , mogła by osiągnąć doskonaly rezultat .<br>Ale niestety . . . . Otoczenie czyli plaża i basen<br>- dramat . Oba miejsca brudne , leżaki połamane ,<br>parasole brudne i obszarpane . Dróżka z desek<br>prowadząca przez piasek do morza , z wystającymi ,<br>połamanymi deskami ( zrobiła m zdjęcia , mam<br>nadzieje , że zamieścicie ) , ratownicy nie<br>interesują się wypływającymi na materacach daleko<br>w morze . . . Za \" drobne wynagrodzenie \"<br>wpuszczają ludzi spoza hotelu , którzy bezczelnie<br>zajmują leżaki na plaży i przy basenie . Goście<br>hotelowi mają problemy ze znalezieniem miejsca<br>gdziekolwiek na plaży i przy basenie . Basen aż<br>gęsty z brudu , kafelki z pleśnią , a obramowanie<br>metalowe wokół basenu zardzewiałe ( zrobiła m<br>zdjęcie ) . Pokoje sprzątane co 2 - 3 dni ! Nie<br>codziennie ! Zresztą to sprzątanie to kpina . Ani<br>razu nie odkurzane , piasek w łazience i na<br>podłodze , łóżka nie ścielone , tylko zagrzebywane<br>( również zrobiła m zdjęcie pokoju po tzw .<br>sprzątaniu ) . W łazience pleśń na kafelkach , a w<br>całym pokoju okropny smród nikotyny , nie do<br>wywietrzenia . Wżarty w zaslony i meble . Jeśli<br>ktoś liczy na prawdziwy all inclusive to będzie<br>mocno rozczarowany . W barach proste koktajle za<br>dodatkową opłatą ! Pracują od 10 do 22 .<br>Poprosilam o kawę o 9 , 55 - barman zażądal opłaty<br>. Natomiast zaprzestają obsługiwać już 21 . 50 .<br>Oddzielnej uwagi zasluguje grupa tzw . animatorów<br>. To już jest absolutna katastrofa ! ! ! i żenada<br>. Z większą nieprofesjonalnością i lenistwem<br>jeszcze się nie spotkała m w żadnym hotelu .<br>Przychodzili 3razy dziennie w okolice basenu na (<br>dosłownie 2 min ! ) , właczali jedną i ciągle tę<br>samą piosenką i wykonywali niechętne ruchy<br>kończynami , które wg nich nazywaly się aerobikiem<br>. I tyle . 3 w razy w tygodniu odbywały się<br>żenujące show dla dorosłych . Były to konkursy na<br>\" wysokim \" poziomie , na przykład kto pierwszy z<br>gości wypije piwo łyżeczką . A deklarowany mini<br>klub dla dzieci - zero odpowiedzialności ze strony<br>\" opiekunek \" . Moi znajomi odprowadzili dwójke<br>swoich dzieciaków ( 5 i 6 lat ) na rzekome zajęcia<br>plastyczne . Była tam jeszcze dwójka innych dzieci<br>i znudzona swoją pracą opiekunka . Kiedy po<br>godzinie przyszli po dzieci , okazało się , ze ich<br>pociech nie ma . Na pytanie , gdzie są , \"<br>opiekunka \" odpowiedziała , ze nie wie !",
           "__label__meta_minus_m"
          ],
          [
           "Hol główny widać że po remoncie , nowoczesny , ale<br>pokoje już gorzej . Pokoje małe , zimne bardzo<br>skromne . w porównaniu z innymi hotelami w tej<br>samej cenie - masakra . Jedzenie nie porywa ,<br>kelnerzy z łaską .",
           "__label__meta_minus_m"
          ],
          [
           "Hotel bez rewelacji . Wystarczy zostawiać dziennie<br>kilka lirów na poduszce zeby każdego dnia był<br>posprzątany dobrze i wymienione ręczniki .<br>położenie hotelu świetne to chyba jedyny plus<br>chociaz jest wiele piękniejszych miejsc za ta sama<br>cenę . Transfer z lotniska 3 godziny z przesiadka<br>z dużego autokaru na małego busa bardzo męczące<br>jeżeli ktoś jedzie z dziećmi , jedzenie średnie<br>każdego dnia hamburgery frytki i pizza ktora nawet<br>dzieci mogą sie znudzić . Aqapark czynny od 11do<br>17 wiec trzeba krążyć z basenu na basen . Woda<br>zimna nawet przy temp 33 stopni . Niestety<br>atmosferę błogości i spokoju niszczy ilośc Polaków<br>z dziećmi które naprzemian krzyczą i płaczą do<br>godz 24 . Polacy nie bardzo przejmują sie tam<br>czymkolwiek począwszy od ciagłego picia głośnych<br>krzykach awantur o leżaki ( które zajmują o 4 w<br>nocy ręcznikiem a potem do 16 ich nie ma ) . Może<br>my trafili śmy na taki tour wiec nie polecam tego<br>miejsca w sezonie , są tylko Polacy wiec obsługa<br>hotelu nie bardzo dba o czystość czy jedzenie<br>widząc ze Polak zje wszystko co mu sie da . Jeżeli<br>kończyło sie cos na kolacje nie było donoszone ,<br>szybko zbierane talerze nawet z nieskończonym<br>jedzeniem , szybko podawana kolacja z naciskiem<br>zeby szybko skończyć i zabierać jedzenie tak samo<br>przy śniadaniach . To jedno z tych miejsc gdzie<br>można wstydzić sie za zachowanie Polaków<br>zostawiających swoje dzieci na placu zabaw do<br>północy a sami pijacy przy barze . Co do obsługi<br>tak jak wspomniała m wystarczy zostawić dwa liry<br>dziennie na poduszce sprzątaczce i wręczyć<br>dyskretnie tip kelnerowi , ktory obsługuje przy<br>kolacji od razu robi sie miłej i człowiek jest<br>lepiej postrzegany . Jeżeli człowiek chce troszkę<br>ciszy polecam plaże lub basen przy restauracji na<br>którym rubasznych Polaków mniej w większości<br>leżeli tam Niemcy Anglicy i Turcy . Przy basenach<br>mało leżaków co naprawdę przeszkadzało bo trzeba<br>było iść na plaże . Spokoju w tym hotelu nie<br>zaznali śmy pomimo tego ze kompletnie dzieci nam<br>nie przeszkadzały bardziej ich rodzice Andolutnie<br>wybrała by m teraz juz inny hotel",
           "__label__meta_minus_m"
          ],
          [
           "Tragiczne miejsce . Jak żywcem z krainy PiSiorów ,<br>z chamskim właścicielem . . . Brudno , syf .<br>Pokoje śmierdzą . Obok restauracja - smażalnia<br>DORSZ , z super jedzeniem i fajną , wesołą obsługą<br>, ale to chyba inni właściciele . Bar PRL z<br>rewelacyjnym jedzeniem , najlepszym powiedział by<br>m w Niechorzu . Co do hotelu , to trzeba jeszcze<br>wspomnieć o braku parkingu . Internet to jakaś<br>kpina .",
           "__label__meta_minus_m"
          ],
          [
           "Słaby hotel . Zdecydowanie kiepski stosunek ceny<br>do jakości . Nie jest to dobra wizytówka Ibisa .<br>Wyposażenie słabe , stare i mocno zużyte . Do<br>szafy trzeba się było przeciskać obok łóżka .<br>Drzwi do łazienki się nie domykały . Czystość w<br>pokoju też pzozostawiała wiele do życzenia . Na<br>pewno nie wrócę do tego hotelu .",
           "__label__meta_minus_m"
          ],
          [
           "Bardzo podobała nam się oferta Folwarku Łękuk ,<br>więc gdy nagle zdecydowali śmy się na wyjazd na<br>Mazury , a w Łękuku nie było już miejsc , zabrali<br>śmy ze sobą namiot , żeby na zakończenie pobytu w<br>okolicach Giżycka , chociaż 2 - 3 noce spędzić<br>jednak w Łękuku . Byli śmy z dwójką dzieci , to<br>miał być ich pierwszy pobyt pod namiotem , więc<br>bardzo się na to cieszyli śmy . Miejsce nam się<br>ogólnie spodobało , zadbane , sporo zieleni , pole<br>namiotowe pod dużymi drzewami , sanitariaty bardzo<br>czyste , jedynie jezioro zarośnięte dosyć poza<br>miejscami wyznaczonymi do pluskania się przy<br>brzegu , więc jeśli ktoś pływa , to kiepsko raczej<br>. Chcieli śmy wykupić wyżywienie , ale okazało się<br>, że nie wiadomo co z obiadem w dniu przyjazdu ,<br>mamy poczekać , to może coś zostanie ? : / grilla<br>nie wiadomo czy można rozpalić , rower wodny nie<br>wiadomo czy można wziąć o 9 wieczorem , ogólnie<br>nic nie wiadomo , tylko jedna pani naprawdę<br>kompetentna , wszystko zawsze wiedziała : ) jakoś<br>nas to zniechęciło wszystko , do tego hałas<br>całodzienny dobiegający z budowy nowego obiektu i<br>grupa wyrostków pijących piwo na pomoście jeziora<br>wieczorkiem , rzucająca głośno niewybredne<br>komentarze , wulgarnym słownictwem , mimo<br>obecności małych dzieci . Spędzili śmy tam tylko<br>jedną noc i wyjechali śmy rano , zjadając tylko<br>śniadanie , nie rewelacyjne zresztą . Nie wiem o<br>jakich serkach kozich i innych frykasach pisze pan<br>w komentarzu poniżej , może mieli śmy pecha , bo<br>na nic takiego nie trafili śmy , zwyczajne<br>jedzenie , wędlina dobra , aczkolwiek nazywanie<br>wody z syropem z butelki \" sokiem \" to trochę<br>przesada . Pomijając fakt , że za kawę trzeba<br>dopłacić ekstra 6 zł , na ekspresie napisano , że<br>tylko obsługa podaje kawę , obsługa zapytana<br>odpowiada , że ona nie wie : ) , dobrze , że miły<br>pan ( gość ) pomógł . Aha , wi - fi jest płatne<br>5zł za dobę , wyjeżdżali śmy o 9 rano , ale<br>policzono nam 2 doby , a jakże : D Trampolina (<br>nie najmłodsza już niestety , nawiasem mówiąc )<br>dla dzieci też płatna , chyba , że się jest w<br>pakiecie : ) Ogólnie , nam się nie podobało .",
           "__label__meta_minus_m"
          ],
          [
           "Fantastyczne położenie hotelu i ładna bryła<br>architektoniczna . Z dojazdem było trochę zabawy .<br>Dojechał em , ale nie ma gdzie zaparkować .<br>Zaparkował em na pobliskiej ulicy gdyż nie można<br>wjechać pod główne wejście . Niesamowicie mało<br>miejsca na i tak zablokowanym podjazdjeżdzie .<br>Miła obsługa w hotelu i chyba tyle miłego . Jakim<br>cudem ten hotel posiada 4 gwiazdki ? Odnosi się<br>wrażenie jakby jutro miał przechodzić remont<br>kapitalny po socjalistycznej wizji eleganckiego<br>hotelu . Brak klimatyzacji - wiatrak , a na<br>zewnątrz 30 stopni cel . temperatura w pokoju duża<br>i duszno . Trzeba otworzyć okno - no to huk od<br>ruchu ulicznego . Widok z okna - na górę Gellerta<br>- tak faktycznie to na krzaki . Istnieją pokoje z<br>widokiem na Dunaj - za ile ? Po godz . 20 : 00<br>basen nieczynny . Dopiero rano od 6 : 00 .<br>Śniadanie OK . Łazienka nie odpowiada parametrom 4<br>gwiazdek . Brzydka . Meble i łóżko - głowa boli !<br>Cena wyjątkowo wysoka . Na koniec ciekawostka -<br>samochód pozostał na noc na przyległej do hotelu<br>ulicy wśród innych tam zaparkowanych . Rano stał<br>tylko mój z zablokowanym kołem przez<br>budapesztańską straż miejską . Po prawie godzinie<br>oczekiwania przyjechali i z uśmiechem na twarzy<br>skasowali 11500 forintów i życzyli przyjemnej<br>podróży . Podziękował em za gościnę za duże<br>pieniądze i z uśmiechem również wyjechał em z<br>hotelu . Ten hotel to > LIPA",
           "__label__meta_minus_m"
          ],
          [
           "Właśnie wrócili śmy z \" weekendowego \" pobytu w<br>Amaxie , skusili śmy sie akurat na ten hotel po<br>przeczytaniu pozytywnych opinii . Wolna była willa<br>4 osobowa , wybrali śmy się z mężem i dzieckiem -<br>2 doby to koszt 1600 zł więc tym bardziej jechali<br>śmy ze spokojem , bez obaw co nas czeka na miejscu<br>. Cena w końcu zobowiązuje ? Hotel połozony w<br>fajnym miejscu , autem mogli śmy zaparkować przy<br>samym domku . Domek w środku wymagający remontu ,<br>taki typowy PRL , stare płytki , łazienka<br>wymagająca remontu , stare meble , kominek ,<br>kuchnia wyposażona w talerze sztucce itd . mała<br>lodówka ( i tu po jej otwarciu bo przyjechalismy z<br>miesem na girlla , wywalila sie szklana butelka od<br>piwa - oczywiscie koszt dodatkowo platny ) . Domek<br>2 pietrowy na dole salon z aneksem + lazienka wc .<br>Na gorze 2 sypialnie w sypialniach pełno pająków ,<br>much , meszek - ale mąż jakoś sobie z nimi<br>poradził - chociaż moim zdaniem obsługa hotelowa<br>przed przyjazdem gości powinna zadbać o coś<br>takiego . Łazienki wyposazone w zestawy kosmetyków<br>, nie wiem czy dobrej jakosci bo nie korzystalismy<br>z niczego oprocz z mydla do mycia rak . To co nas<br>zdziwilo na samym wstepie to ilosc reczników -<br>skoro domek jest na 4 osoby , to każda osoba<br>powinna miec dla siebie komplet recznikow , tak<br>zawsze dostawalismy w innych hotelach . O dziwo<br>nie w Amaxie , 2 duże reczniki + 4 małe do<br>wytarcia co najwyżej nóg lub włosów na głowie .<br>Rozpalilismy grila posiedzielismy , poszlismy na<br>spacer zwiedzic okolice , i to wszystko . O<br>poranku śniadanie , spodziewali śmy się wow - ze<br>wzgledu na cene jaka zaplacilismy , jak i opinie<br>obiektu . I tutaj kolejne zdziwienie - sniadania<br>bardzo ubogie , na ciepło jajecznica , i parówki ,<br>3 / 4 rodzaje wedlin ser zolty twarog , jajka<br>pomidory , ogorki , galaretki z jakim farszem w<br>srodku , pasztet , pieczywo ( chleb i bulki )<br>platki sniadaniowe , z jogurtów tylko jogurt<br>naturalny augustowski , kawa herbata , sok z<br>nalewaka , i lemoniada . Co nas zdziwilo<br>najbardziej ? brak owocowów . Skusilismy sie na<br>standard czyli jajecznice , pieczywo i wedline .<br>Bylo smaczne . Ale naparwde patrzac przez pryzmat<br>ceny jaka oplacilismy za 2 noce to bardzo ubogo .<br>W hotelu znajduje sie basen ( z tego co czytalam<br>nawet 2 ) widzielismy jeden - na zewnątrz . Trcohę<br>owadów w nim pływało , więc wybralismy sie do<br>centrum mikolajek , wypozyczylismy lodke i tak<br>spedzilismy caly dzien . Wrocilismy ok godz 18 -<br>domek nie sprzatniety - ale ok niedziela w koncu<br>moze obsluga hotelowa ma wolne . Rozpalili śmy<br>grilla , dzwonek do drzwi - obsluga sprzatajaca z<br>pytaniem czy potrzebujemy sprzątniecia domku ?<br>Stwierdzili śmy że o tej porze nie ma już sensu ,<br>na sprzątanie tym bardziej że z rana czeka nas<br>wyjazd - więc jaki jest sens sprzatania o tej<br>porze ? Myslalam ze pokoje sprzata sie rano ?<br>Dodam ze butelki z woda rowniez nie zostaly nam<br>dostawione na kolejna dobe . W trakcie grillowania<br>stwierdzilismy ze szkoda ze wybralismy ten hotel<br>bo tylko zmarnowalismy pieniadze , a doplacajac<br>300 / 600 zł wiecej moglismy miec pokoj w Hotelu<br>Mikołajki , czy w Gołębiewskim . Ale tak to jest<br>jak czlowiek chce czegos innego . Po grillu<br>spakowalismy sie i o 20 wrocilismy do do domu , w<br>koncu i tak nie mielismy nic do stracenia - oprocz<br>podrozy , kolejny nocleg i sniadanie bylo nie<br>warte zachodu . Z + tylko i wyłącznie , grill<br>ktory jest dostepny na miejscu , polozenie w<br>spokojnym miejscu z fajnym widokiem - a reszta to<br>niestety minusy . Jestesmy wymagający z mezem - i<br>cena po prostu nie jest adekwatna do jakosci .<br>Zeby za pokoj zaplacic 200 zł za dobe to ok nie ma<br>sie do czego czepiac , ale za takie pieniadze jak<br>my zaplacilismy oczekiwalismy wow . W każdym badz<br>razie ostatni raz sugerowalismy sie opiniami ludzi<br>w internecie , bo jak widac kazdy czlowiek ma inne<br>wymagania , inne standardy itd . Moze dla<br>niektorych pobyt w Amaxie to wymarzone wakacje ,<br>odpoczynek itd . Nie dla nas . My duzo jezdzimy ,<br>bylismy w wielu hotelach , i jestesmy osobami<br>wymagajacymi . Cena naszym zdaniem powinna isc w<br>parze z jakoscia , tutaj tak sie nie stalo .<br>Pierwsza wizyta w tym miejscu i ostatnia .<br>Osobiscie nie polecamy .",
           "__label__meta_minus_m"
          ],
          [
           "Nie polecam . Brak uwag do kompetencji tego<br>lekarza . Jest on jednak bezczelny i arogancki w<br>stosunku do pacjenta - poniża i ocenia jego urodę<br>( \" Myślisz , że mam w ogóle ochotę patrzeć na<br>twoją \" piękną \" paszczę ? \" ) , inteligencję ( \"<br>Światłość od ciebie bije ! \" ) czy umiejętność<br>czytania ( \" Umiesz czytać ? \" ) . Rzuca także<br>kąśliwe docinki na odpowiedź , że pacjent nie<br>przypomina sobie , jak aplikuje się dany lek ( \"<br>No to przypomnimy koledze . . . \" ironicznym tonem<br>) , bo nigdy o nim nie słyszał ani go nie widział<br>, a w przychodni pielęgniarki nie poinstruowały<br>pacjenta przy pierwszej wizycie . Ponadto wyraża<br>się wulgarnym językiem - używa różnych zwrotów<br>zawierających w sobie słowo oznaczające wiadomą<br>część ciała na 4 litery . U normalnego lekarza<br>sprawdzanie oddechu czy jamy ustnej przebiega po<br>wydanej grzecznym poleceniu do pacjenta . U dr<br>Sankowskiego pacjent musi czytać w myślach ( nie<br>wiadomo , czy chce sprawdzić dziurki nosa czy usta<br>, bo jego ręka nie potrafi utrzymać bez drgania<br>latarki ) , gdy już jednak wydaje polecenie , to w<br>bezczelny sposób ( \" Otwórz paszczę ! Wywal ten<br>jęzor ! \" ) . Specjalista ten ma problemy z<br>empatią , kontaktem z pacjentami i przyznawaniem<br>się do błędu . Zdecydowanie odradzam wizyty u<br>niego , chyba że ktoś z Państwa jest w stanie<br>wytrzymać godzinę poniżania i mieć popsuty humor<br>przez całą resztę dnia .",
           "__label__meta_minus_m"
          ],
          [
           "Stanowczo NIE POLECAM Pana Moralewicza jako<br>lekarza , ponieważ , niedosyć że czekała m bardzo<br>długo na pierwszą wizytę która została odwołana na<br>piękną pogodę i Pan \" doktor \" poszedł na urlopik<br>to przesunięto mi wizytę na dalszą datę . W<br>momęcie kiedy doszło do owej wizyty to trwała<br>około 1 , 5 minuty Pan M . wydrukował nam kartkę z<br>tekstem \" Zalecenie usunięcia laserem \" ( co też<br>każdy o tym dobrze wiedział a syn potrzebuje<br>właśnie tego a nie kartki z drukarki ) i<br>powiedział żeby śmy sobie lekarza poszukali na<br>internecie . Gdzy zwrócił em mu uwagę , że to co<br>zrobił ( wizyta półtoraminutowa ) nie warte było<br>stu złotych zabrał mi tą wydrukowaną kartkę ale<br>niestety stówka przepadła ponieważ żona już<br>zapłaciła . Po tej wizycie stwierdzam , że nie<br>warto tam przychodzić . Pan Moralewicz nie wykazał<br>się przez 1 , 5 minuty żadną wiedzą a stówkę<br>zapłacili śmy właściwie za nic Nie polecam , nie<br>wykazuje żadnego zainteresowania pacjętem a<br>dziecko dalej chodzi z chorymi nogami . Odradzam<br>stanowczo .",
           "__label__meta_minus_m"
          ],
          [
           "Z opinią zaczekała m do momentu , w którym będę<br>mogła ocenić również skutki leczenia , a nie samą<br>wizytę . Niestety moja opinia nie jest zbyt<br>pochlebna . . . Cena wizyty jest wszystkim dobrze<br>znana , więc z tym nie mam problemu , jednak<br>płacąc za wizytę liczę na godną opiekę , dokładne<br>badanie , kilka porad i oczywiście skuteczne<br>leczenie . Niestety było kompletnie inaczej . Moja<br>wizyta trwała raptem z 10 min , badanie było<br>zrobione bardzo pobieżnie ( nigdy w życiu , żaden<br>ginekolog nie badał mnie tak krótko . . . ) a<br>wybrane leczenie ? Niestety nie dało żadnych<br>efektów . Moja infekcja po ośmiodniowym braniu<br>globulek i wydanych 200zł nadal jest obecna .<br>Jedyny plus za zbadanie pH pochwy , bo z tym<br>jeszcze się nie spotkała m . . .",
           "__label__meta_minus_m"
          ],
          [
           "Tydzień temu odbyła się moja wizyta u lek .<br>Przemysława Kosińskiego . Było to usg między 11 -<br>14 tc z oceną ryzyka w Multi Med na ul . Polnej .<br>Koszt wizyty wyniósł 300 zł . Nie chcę oceniać<br>profesjonalizmu lekarza , wydaje mi się , że<br>badanie wykonał prawidłowo , a zważywszy na<br>kompetencje lek . Przemysława oraz bardzo dobry<br>sprzęt na którym pracuje myślę że tak się właśnie<br>stało . Natomiast mam zastrzeżenia co do czasu<br>jaki lekarz poświęcił mojej osobie . Z zegarkiem w<br>ręku było to 10 min . Od samego początku Pan<br>doktor ewidentnie się śpieszył . Mówił bardzo<br>szybko , szybko wykonał usg i bardzo szybko<br>sporządził dokumentacje . Nie dał mi zbytnio<br>szansy na zadanie wszystkich nurtujących mnie<br>pytań , a poprzez pośpiech wywołał nerwową<br>atmosferę , w której ciężko było mi myśleć . W<br>trakcie badania zapytała m czy widać już płeć<br>dziecka ( osoby polecające mi klinikę mówiły że<br>jest to już możliwe w jakimś tam niewielkim<br>zakresie ) , ale lekarz skomentował moje pytanie<br>iż bardziej powinno mnie serce dziecka interesować<br>niż płeć . Na koniec dwa razy powiedział do<br>widzenia , żeby śmy już wyszli . Wizyta u Lek .<br>Przemysława Kosińskiego nie spełniła moich<br>wszystkich oczekiwań . Najważniejsza jest dla mnie<br>nadzieja , iż poprzez pośpiech nic nie zostało<br>przeoczone .",
           "__label__meta_minus_m"
          ],
          [
           "Był em na wizycie prywatnej w LUX - MEDzie .<br>Pomimo tego , że za wizytę zapłacił em 140 złotych<br>, wyglądało tak jak zwyczajna wizyta u państwowego<br>lekarza , gdzie czuł em się źle z tym , że<br>przeszkadzam pani doktor w wypiciu kawy . Zupełnie<br>nie chciała słuchać historii mojej choroby , bo '<br>to co wcześniej jest nie ważne - ważne czy teraz<br>boli' . Nie umiała udzielić informacji , skąd może<br>brać się moja choroba , a - co gorsza - nie umiała<br>powiedzieć , czy to przejdzie . Na kilka moich<br>dodatkowych pytań odpowiadała ' nie wiem ' albo '<br>trudno powiedzieć' . Szkoda , że za kilka minut<br>wątpliwej jakości porady , musiałem zapłacić aż<br>tyle . Skończyło się na tym , że zapisane mi<br>zostały krople do uszu , które można kupić bez<br>recepty oraz Nurofen - najprostszy lek<br>przeciwbólowy . Ogólnie - nie polecam .",
           "__label__meta_minus_m"
          ],
          [
           "Pokój brudny , łazienka brudna , kuchnia -<br>korytarz zapomnijmy , meble w opłakanym stanie , \"<br>łòżko \" - skrzypiąca wersalka z ery<br>przedkomunistycznej nie była odkurzana od jej<br>zakupu . Wejście to tego \" cudu \" od zapuszczonego<br>podwòrka . Zdjęcia na ich stronie zrobione chyba<br>były w minionym stuleciu . W zwiazku z tym , że<br>przyjechała m późnym wieczorem , zostaję ( ale pod<br>prysznic nie pójdę ) - kto się zastanawia nad<br>wyborem Petit Hostel , nie polecam , chyba że ktoś<br>lubi horrory .",
           "__label__meta_minus_m"
          ],
          [
           "Pani doktor jest miła , ale mało delikatna i<br>niestety w moim przypadku sprawiła , że<br>nieustannie czuję okropny ból , którego przed<br>wizytą w gabinecie nigdy wcześniej nie odczuwała m<br>. Dodatkowo moje dolne równe zęby spiłowała tak<br>krzywo pod korony , że daleko jest to od pojęcia<br>stomatologi estetycznej i a tym bardziej komfortu<br>życia . \" Profilaktyka leczenia próchnicy \" to<br>niestety zwykle nakłanianie na zbędne leczenie i<br>to w dodatku bardzo kosztowne . Żałuję , że<br>skonsultowała m tego co powiedziała Pani doktor z<br>innym dentystą . Zapewne uniknęła by m bólu ,<br>który trwa do dzisiaj po leczeniu w gabinecie . Po<br>założeniu koron do których musiała m mieć zdrowe<br>zęby , po zaledwie kilku miesiącach podczas jednej<br>z kontroli powiedziała , ze mam próchnicę na<br>innych zębach , którą niestety dała m sobie<br>wyleczyć . I w ten sposób z niebolących zębów Pani<br>doktor sprawiła , ze cały zgryz się zmienił ,<br>ciagle boli mnie cała szczęka , nie mogę gryźć<br>zwykłych posiłków , już nie wspominając o twardych<br>produktach , a te \" wyleczone \" zęby bolą mnie<br>nieustannie od momentu ich \" wyleczenia z<br>próchnicy \" , czyli od ponad kilku miesięcy .<br>Chcąc poprawić estetykę dwóch górnych zębów Pani<br>doktor uszkodziła mi dodatkowo kilka zdrowych na<br>dole i mówiła , ze to \" normalne \" przygotowanie<br>pod korony . Żałuję , że na to się zgodziła m i<br>dała m sobie spiłować dół , ponieważ przez to<br>zmienil mi się zgryz , a nie sądziła m , że będzie<br>to aż tak wielka ingerencja w zęby i tak mocne<br>piłowanie moich wczesnej prostych zębów , które są<br>teraz krzywe i bolące , bo Pani doktor zależało na<br>tym , ażeby zrobić to jak najszybciej , a nie jak<br>najlepiej . Przed tym całym leczeniem nie<br>odczuwała m żadnego bólu , a po \" leczeniu \" czuję<br>go ciągle . Wolała by m oddać te pieniądze za<br>darmo niż leczyć je ponownie w gabinecie Pani<br>doktor . Mimo wielu korekt Pani doktor nie<br>potrafiła naprawić moich zębów . Leczenie się<br>tutaj to najgorsza decyzja , jaka podjęła m , z<br>którą niestety będę musiała jeszcze długo się<br>męczyć . Sugeruje skonsultować plan leczenia<br>zalecony przez Panią doktor z innym dentystą ,<br>najlepiej zaufanym . Ja niestety trafiła m tutaj<br>przez przypadek i z pewnością nie chce tam wracać<br>. Nie polecam .",
           "__label__meta_minus_m"
          ],
          [
           "Pobyt krótki , biznesowy . Obiekt dobrze położony<br>, blisko Stare Miasto , Teatr Narodowy , pod ręką<br>tramwaj i metro . Niestety na tym koniec plusów .<br>Poza tym : całkowita , dramatyczna masówa ,<br>hurtowy przerób gości , automatyzm , bez dbałości<br>o jakość obsługi i komfort pobytu , przy czym<br>chodzi mi wyłącznie o aspekty „ miękkie ” , nie<br>odnoszę się do kwestii obiektywnych , jak ciasne<br>pokoje , brak wieszaka w łazience , gniazdka przy<br>łóżku itp . Obsługa restauracji fatalna i zajęta<br>sama sobą / 13 . 11 . 2017 , wieczór / , długi<br>czas oczekiwania / sala prawie pusta ok . godz .<br>20 / , burger całkowicie zimny , niesmaczny i<br>podany z wielką łaską nawet bez ketchupu i<br>dodatków , za to z dużą ilością fioletowej kapusty<br>. Sok ze świeżych pomarańczy tylko w nazwie , w<br>praktyce jedynie podejrzany „ ulep ” z lodem w<br>środku . Śniadanie sztuczne , przeciętne ,<br>jajecznica z prochu , parówki i wędlina z dolnej<br>półki , soki zmieszane z wodą . Generalnie dość<br>szybko przyjmujesz postawę „ oby przetrwać do<br>wyjazdu ” . Reasumując : bardzo słabo , również<br>jak na Ibis . Nie do przyjęcia zwłaszcza przy<br>dłuższym pobycie lub z dzieckiem . Polecam<br>szkolenia np . w Ibisie Gdańsk Stare Miasto !",
           "__label__meta_minus_m"
          ],
          [
           "Jak dla mnie to ta pani nie zna się za bardzo na<br>tym co robi - przyjmując prywatnie powinna chociaż<br>mieć porządny gabinet - ale mniejsza o gabinet , w<br>ogóle mi nie pomogła i wypisała leki które nie<br>miały nic a nic do uszu . Jak dla mnie to nie jest<br>lekarzem z powołania i na niczym się nie zna .<br>Solidnie mnie skasowała , wypisała drogie leki a<br>dolegliwości jak był tak są . Czekam na kolejną<br>wizytę ale teraz u innego lekarza - może ktoś inny<br>mi pomoże bo moje dolegliwości nie ustąpiły po<br>calcium i kropelkach ( drogich na maxa ) , które<br>mi pani doktor wypisała ! !",
           "__label__meta_minus_m"
          ],
          [
           "Tym razem nie jestem zadowolona z podejscia<br>fizjoterapeuty do pacienta . Pan Bartosz nie<br>odeslal mnie do ortopedy lub na ultrasonografie<br>tylko potraktowal moj bol jako falszywy alarm I<br>zastosowal terapie na zasadzie bedzie lepiej lub<br>gorzej . Potym jak pojawil sie u mnie stan zapalny<br>poszlam na ultrasonografie I dostalam diagnoze \"<br>uszkodzenie 2 - go stopnia przyczepu blizszego<br>przywodziciela dlugiego \" . Uwazam , ze<br>powinno.sie bardziej serio . traktowac ludzi I<br>potrafic tez powiedziec , ze czegos sie nie wie I<br>nie stosowac terapii bez pewnosci jej rezultatu .",
           "__label__meta_minus_m"
          ],
          [
           "Witam . Ja dla odmiany mam złą opinie o tym<br>lekarzu . Trafiła m do Niego z mamą , która ma<br>poważne schorzenie kręgosłupa i wymaga - zgodnie z<br>opinią dwóch innych specjalistów - skierowania na<br>operację w celu wszczepienia jakiejś blaszki<br>pomiędzy kręgi , inaczej grozi Jej wózek<br>inwalidzki . Dr Kłosiński pobrał kilka razy<br>honorarium za wizytę w prywatnym gabinecie i<br>leczenie zakończył na podaniu 5 blokad , które nie<br>są obojętne dla organizmu a w żadnym razie nie<br>pomogły na to schorzenie . Po tym leczeniu nie<br>zaproponował nic wiecej , wynika z tego , ze<br>wszystko co mógł juz zrobił - niewiele . NIE<br>POLECAM",
           "__label__meta_minus_m"
          ],
          [
           "ODRADZAM wszystkim wizyte u tej Pani . Zachecona<br>dobrymi opiniami i strona internetowa gabinetu<br>udalam sie na leczenie tradziku , wypadajacych<br>wlosow i stanu skory . Pani od poczatku zachowuje<br>sie jakby robila łaske , ze przyjmuje pacjenta .<br>Nie pomogla w niczym . Stwierdzila krotko , ze<br>wszystko to wina hormonow , gdzie powtarzalam jej<br>, ze wyniki hormonow mam bardzo dobre . Na dodatek<br>liczylam ze pomoze mi dobrac masci i kosmetyki do<br>mojej cery , a ona stwierdzila ze to samemu trzeba<br>dobierac . Wiec pytam za co sie tam placi ?<br>Stracone pieniadze . Poza tym trzeba sie liczyc ,<br>ze na poczekalni wszyscy beda slyszec cala rozmowe<br>, a Pani sprawia wrazenie jakby szybko chciala sie<br>pozbyc pacjenta .",
           "__label__meta_minus_m"
          ],
          [
           "Nie polecam . Nie udziela żadnych konkretnych<br>informacji o stanie zdrowia pacjenta , wszystkiego<br>trzeba się domyślać . Przez cały pobyt w szpitalu<br>mojej bliskiej osoby , nie poświęcił mi jako<br>najbliższej rodzinie pacjenta nawet 5 minut na<br>rozmowę . Do tego nieudana operacja tętniaka .<br>Niestety mam bardzo złe wspomnienia po kontakcie z<br>tym lekarzem . Doktor Pałka nie wie co to jest<br>empatia , przynajmniej w moim przypadku tak było .",
           "__label__meta_minus_m"
          ],
          [
           "Miała m to nieszczęście , że rodząc moje pierwsze<br>dziecko dziecko trafiła m na dyżur tego \" doktora<br>\" w Ujastku . Bawił się ze mną w kotka i myszkę<br>cały dzień , najpierw obiecując wywołanie skurczów<br>a chwilę później się z tego wycofując ( odeszły mi<br>wody a nie było żadnych skurczów ) . W końcu , po<br>kilkunastu godzinach postawiła m na swoim i<br>dostała m kroplówkę . Powód jaki ten pan podał<br>jako odmowę podania oxytocyny był taki , że za 12<br>godzin moja lekarka przychodzi na dyżur i ona się<br>mną zajmie . Dodam , że była to noc z soboty na<br>niedzielę , 6 lat temu więc ruch na Ujastku nie<br>był wtedy jeszcze tak duży . Poród był straszny ,<br>nikt się mną nie zajmował , położna kumpela \"<br>doktora \" też mnie olała . Kowalczyk podczas<br>porodu cały czas żartował w sposób obrzydliwy ,<br>żalił się że mało mu płacą a jeszcze cudze porody<br>musi odbierać . Na koniec w ramach chyba odwetu<br>szył mnie na żywca , bez znieczulenia naigrywając<br>się ze mnie i przedrzeźniając moje jęki ! Naprawdę<br>\" wspaniały \" z niego lekarz ! Oby takich więcej !<br>A ja ci tego doktorku nigdy nie zapomnę jak mnie<br>potraktował eś i będę to nadal rozgłaszać gdzie<br>się da ! !",
           "__label__meta_minus_m"
          ],
          [
           "Bardzo , mały pokój , śniadania codziennie takie<br>same , obiady w formie bufetu , do wyboru ok . 6<br>dań bardzo różnej jakości , zimne , często<br>brakowało czegoś . Picie do obiadu tylko płatne ,<br>nawet czysta woda . Pół litra czerwonego wina ,<br>słabej jakości 7 euro - dużo za dużo . Basen wąski<br>, na jedną osobę , niewygodne wejście do morza .<br>Dobry hotel gdy ma się samochód i można podróżować<br>. Kompletnie nie nadaje się na pobyt z dziećmi ,<br>po prostu nie ma co robić . Jego wielką zaletą<br>jest cisza",
           "__label__meta_minus_m"
          ],
          [
           "Pan doktor jest mily i sympatyczny , ale nie<br>polecam go do prowadzenia ciazy . Chyba , ze<br>prywatnie . Ja chodzilam do niego przez pakiet<br>firmowy i jesli chodzi o standardowe wizyty to<br>spoko . Potem zaszlam w ciaze i tez do niego<br>chodzilam i powiem szczerze , ze przez 7 miesiecy<br>ciazy zylam w nieswiadomosci . Moja ciaza<br>przebiega bez problemowo , ale jednak czulam sie<br>niedoinformowana , zwlaszcza , ze to moje pierwsze<br>dziecko . Musialam sie upominac o badania , moje<br>UGS polowkowe ( bardzo wazne w ciazy ) bylo malo<br>szczegolowe i bardzo krotkie . Moje ostatnie<br>wizyty trwaly 15 minut , z czego 8min zajmowalo<br>wypisanie zwolnienia . I najlepsze na koniec - po<br>32 tyg . ciazy powinien mi zwiekszyc<br>czestoltliwosc wizyt , a on je zmniejszyl ! ! !<br>Dlatego poszlam do innego lekarza prywatnie i<br>widze roznice . Poza tym pan doktor podobno jest<br>dobry jak sie nic nie dzieje wlasnie , tak jak u<br>mnie . Ale jak juz sa komplikacje to chyba nie<br>jest najlepszy . Ale to , ze jest mily to<br>przyznaje . Tylko , ze w ciazy chcemy miec duzo<br>informacji , a to czy lekarz jest mily czy nie<br>schodzi na drugi plan , bo najwazniejsze staje sie<br>nasze malenstwo !",
           "__label__meta_minus_m"
          ],
          [
           "Hotel jako całość może być . Biorąc pod uwagę 3<br>gwiazdki - pokoje sprzątane codziennie ,<br>wyżywienie też w normie ale nie dłużej niż 7dni ,<br>natomiast całkowita bezradność w temacie reakcji<br>na zachowanie rozwydrzonej młodzieży hiszpańskiej<br>. Nie polecam wyjazdu w czerwcu gdyż 95 %<br>mieszkańców hotelu stanowi młodzież w wieku 11 -<br>17 lat i zabawa na terenie hotelu trwa od godz .<br>21 do 4 rano . Nikt nad tą zgrają nie panuje - nie<br>ma opiekunów - krzyki , śpiewy , wrzaski , na<br>balkonach i tarasach po 10 - 15 osób pijących .<br>Interwencje nic nie dają . Przez 8 dni nie<br>przespali śmy normalnie żadnej nocy ( byli śmy z<br>wnuczkiem ) . Nie wspomnę oprzelotach które w obu<br>kierunkach były opóźnione o ok . 2 godziny .<br>Rezydentka w hotelu też totalnie bezradna ! ! ! !<br>! ! !",
           "__label__meta_minus_m"
          ],
          [
           "Pokoj niby z wyzszym standardem a pod prysznicem<br>rozwalajca sie armatura , kabel z pradem w szafie<br>wisi , nie przygotowany pokoj na czas . . . Jak<br>wybierasz oferte to zwroc uwage na zameldowanie od<br>17 : 30 a wyeldowanie o 10 : 00 - nie spotkalme<br>sie z takim systemem . . . Bardzo słaaba<br>organizacja przy pełnym obłożeniu . . . Jedzenie w<br>miare ale restauracja za mała . . . Kopletny chaos<br>w kawiarniach , dlugi czas oczekiwania i promocja<br>na drinka ale w kawiarni w innym budynku dowiesz<br>sie o tym przy platnosci - mistrzostwo anty<br>marketing . . . Recznik basenowe odbierzesz w spa<br>ktore jest na innym pietrze , basen czynny do 21<br>ale reczniki juz nie oddzasz bo spa 20 : 55<br>zamykane , mokre zabierasz na pokój . . . dla mnie<br>duzo nie dociagniec . . .",
           "__label__meta_minus_m"
          ],
          [
           "Dla osoby z problemami psychicznymi ogromnym<br>wysiłkiem jest uświadomienie sobie , że potrzebuje<br>pomocy osoby z zewnątrz . A jeszcze trudniej<br>opowiedzieć o tych problemach , zazwyczaj<br>wstydliwych , żenujących , o porażkach i<br>słabościach . Oczekiwała by m wobec tego<br>mentalnego wsparcia od lekarza , nici empatii ,<br>pewnej dobrej aury podczas wizyty , która pomoże<br>się otworzyć i wyrazić słowami ból wewnętrzny .<br>Niestety tego brakowało Pani doktor . Z każdym<br>zdaniem mojej \" opowieści \" na twarzy malowały jej<br>się nowe \" miny \" . . . od irytacji po ironię .<br>Była m tak zażenowana , że omal nie wybiegła m z<br>płaczem ale resztkami sił się opanowała m , choć<br>teraz żałuję , że tak nie postąpiła m , bo żal na<br>tą Panią wydanych pieniędzy . Wyszła m upokorzona<br>i roztrzęsiona . Nie wrócę do niej nigdy więcej .",
           "__label__meta_minus_m"
          ],
          [
           "Bylam u Pana Doktora tylko raz kilka miesiecy temu<br>i byla to moaj pierwsza i zarazem ostatnia wizyta<br>. Pomijam juz pytanie o wyksztalcenie ( cytat \"<br>inaczej mowie do osob z wyzszym wyksztalceniem \" )<br>, stan cywilny ( jakby mial o czymkowiek swiadczyc<br>) i miejsce pracy . Trafilam do Doktora<br>przypadkiem , takze zachecona wieloma pozytywnymi<br>opiniami na tym portalu . Pojawilo sie u mnie<br>niewielkie krwawienie po menupauzie ( jestem na<br>htz ) co mnie bardzo zaniepokoilo . Niestety , moj<br>staly lekarz byl wtedy nieuchwytny . Pan doktor<br>potraktowal mnie jak osobe prawie na lozu smierci<br>. Stwierdzil , ze jestem jego \" najciezszym w tym<br>dniu przypadkiem \" . Zrobil mi usg , pokrzykujac<br>bez przerwy , ze moje endometrium jest w bardzo<br>zlym stanie i wyglada na stan przednowotworowy<br>albo nawet gorzej . Nie omieszkal krytykowac<br>jednoczesnie mojego lekarza za przepisanie mi<br>wlasnie tego leku jako htz . No i oczywiscie bez<br>przerwy podkreslal , ze pracowal w Wielkiej<br>Brytanii , jakby mialo to dla mnie jakies<br>znaczenie . Wystraszym mnie nieziemsko , zakazal<br>kontynuacji htz i skierowal natychmiast do<br>szpitala . Na szczecie po pierwszym szoku (<br>krwawienie dwa dni potem ustalo ) poczekalam , az<br>wroci moj lekarz , nie przerywajac htz i okazalo<br>sie , ze przyczyna mojego krwawienia byl dosc duzy<br>polip w szyjcie macicy , ktorego Pan Doktor w<br>ogole nie zauwazyl ( mimo badania i usg ) a moje<br>endometrium okazalo sie byc w porzadku . Jestem<br>juz po histeroskopii polipa , wynik badania<br>histopatologicznego jest dobty , zatem wszystko<br>jest ok . Zdecydowanie nie polecam Pana Doktora za<br>brak profesjonalizmu , bardzo nieprzyjemny<br>stosunek do pacjenta i brak empatii .",
           "__label__meta_minus_m"
          ],
          [
           "Kiepsko wyszkolona obsługa pracująca bez<br>zaangażowania , nie zwracająca uwagi na gości .<br>Brak klimatu , atmosfera obsługi zimna . Ani do<br>widzenia , ani zapraszamy ponownie . Podane<br>posiłki kiepskiej jakości jak na cenę i miejsce .<br>Danie obiadowe podane zimne , bez galanterii smaku<br>i szyku jakiej się spodziewali śmy w tej klasie<br>lokalu . Ogólna ocena pracy restauracji niska .<br>Nie zamierzam powtórzyć wizyty w tym obiekcie . A<br>może o to chodzi , bo goście bywają tu tylko raz ?<br>Nie jest to miejsce do którego zachęcę swoich<br>znajomych , ani sama nie zamierzam tu wracać .<br>Przykre , ale prawdziwe .",
           "__label__meta_minus_m"
          ],
          [
           "Przeszła m zabieg korekty powiek górnych u doktora<br>Ibrahima ponad rok temu . Operacja poskutkowała<br>lekką poprawą wyglądu powiek ( daleką od<br>spodziewanej ) a skutkiem ubocznym są bardzo duże<br>blizny . Na lewym oku blizna sięga skroni ! ! ! To<br>była moja pierwsza i jedyna operacja plastyczna ,<br>więc nie wiedziała m dokładnie czego się<br>spodziewać . Konsultacja przedzabiegowa była<br>pośpieszna . Recepcjonistka poinformowała mnie<br>przed zabiegiem , że dostanę tzw . niebieską<br>pigułkę na zobojętnienie , jednak nikt mi jej nie<br>podał . Ogólnie w klinice panowała atmosfera<br>pośpiechu i braku organizacji . Podczas operacji<br>doktorowi asystowali pielęgniarze , którzy w ogóle<br>nie mówili po polsku i słabo po angielsku wiéc<br>komunkacja była bardzo utrudniona . Bardzo mocno<br>uciskali moje oczy , żeby wyjąć woreczki<br>tłuszczowe , musiała m prosić doktora o zwrócenie<br>im uwagi . Doktor zainterweniował , ale siniaki<br>miała m przez cały miesiąc . Ale to jescze nic .<br>Najgorsze , że moje powieki wyglądają , jakby<br>przypadkowo pocięte . Blizny różnią się położeniem<br>i długością . Teraz mam na powiekach blizny<br>zanikowe idące w kierunku skroni , są nierówne ,<br>jedna jest dłuższa i leży wyżej od drugiej . Przy<br>tak rozległych bliznach nie pomaga żaden makijaż ,<br>nawet specjalistyczny korygujący . Od ponad roku<br>próbuję zabiegów laserowych , kremów , maści itp .<br>Niestety wzystko to pomogło tylko trochę .<br>Nieunikniony będzie zabieg rewizyjny . Doktor<br>Ibrahim nie wykazał żadnej chęci pomocy po<br>zaistniałej sytuacji . Stwierdził , że to moja<br>wina , bo mam zaburzenia produkcji kolagenu . 3<br>lekarzy chirurgów u których była m na konsultacji<br>w sprawie operacji rewizyjnej , nie potwierdziło<br>jego opinii . Nie polecam tego lekarza ani kliniki<br>Mandala .",
           "__label__meta_minus_m"
          ],
          [
           "Uwazam ze lepiej doplacic 100 - 200 zl w innym<br>biurze i kupic wycieczke gdzie hotel jest<br>normalnej wielkosci jak na standardy w turcji .<br>Bylam w paru hotelach i slowo daje nie wiem jakim<br>sposobem ten hotel ma 4ngwiazdki . . . moim<br>zdaniem zasluguje na 3 . Hotel maly , maly basen ,<br>drugi basen ze zjezdzalniami od ulicy tez malutki<br>. Ogolnie w podobnej cenie mozna znalezc hotel z<br>duzo lepszym standardem . Bo jeszcze gdyby plaza<br>byla normalna jakos bysmy przezyli , natomiast<br>plaza nie jest jak w ogloszeniu piaszczysto<br>zwirowa tylko kamienista . Negatyw ze wzgledu na<br>to ze w podobnych cenach jest duzoooo lepszy<br>standard .",
           "__label__meta_minus_m"
          ],
          [
           "Arogancki , mało empatyczny i nieuprzejmy człowiek<br>. Nie wzbudził mojego zaufania . Pan Doktor<br>udzielał zdawkowych odpowiedzi na zadawane mu<br>pytania . Zapytał mnie o kierunek studiów , jednak<br>kiedy udzieliła m odpowiedzi spotkała m się z<br>drwiącym uśmiechem i komentarzami , co było bardzo<br>przykre . Pan doktor przepisał mi leki po których<br>strasznie bolał mnie żołądek , a efektów ich<br>działania na zgłoszony przeze mnie problem nie<br>było widać . Podczas wizyty u innego ortopedy<br>pokazując leki jakie dostała m od dr<br>Zwinczewskiego nawet nie skomentował i wypisał<br>inne . Pan doktor Zwinczewski stwierdził również ,<br>ze jest potrzeba wykonania zastrzyków w kolana .<br>Chciała m zaznaczyć ze mam niespełna 24 lata .<br>Przestraszyła m się tego , więc zasięgnęła m<br>opinii u wspomnianego wyżej , innego ortopedy .<br>Jak do tej pory nie miała m zastrzyków w kolana i<br>mam nadzieję że nigdy nie będę mieć . Wizyta<br>trwała może 10 minut , natomiast opóźnienie było<br>godzinne . W poczekalni panuje chaos , jest<br>tłoczno , nie ma gdzie usiąść , ludzie są nerwowi<br>ze względu na duże opóźnienia . Nie jestem<br>zadowolona z usług tego pana . Płacąc wymagam<br>pełnego , świadomego zaangażowania w moje leczenie<br>od osoby leczącej . Nie gdy więcej nie skorzystam<br>z usług tego gabinetu .",
           "__label__meta_minus_m"
          ],
          [
           "Pani lekarz na pewno miła i co do wizyty<br>lekarskiej nie ma się do czego przyczepić . Pani<br>lekarz jednakowoż proponuje wielce kuszący ,<br>niestandardowy proces leczenia , który ma się<br>odbywać w innej placówce oraz innym terminie .<br>Pani lekarz obiecuje podać szczegóły telefonicznie<br>w \" następny wtorek \" , ale po 4 wtorkach nijak<br>nie można dowiedzieć się niczego nowego . Pani<br>lekarz kilka razy sama wyznacza datę kolejnego<br>kontaktu , ale ów kontakt nie następuje i szukaj<br>wiatru w polu . . . Podsumowując , zdecydowanie na<br>minus : - kontakt z pacjentem - niespełnione<br>lekarza obietnice - ulotne postrzeganie czasu<br>przez Panią lekarz Plusik za pierwsze wrażenie ,<br>które niewątpliwie jest pozytywne , ale oczekujemy<br>efektów leczenia , a takich ani widu , ani słychu<br>. PS : W razie pytań proszę dzwonić \" we wtorek \"<br>.",
           "__label__meta_minus_m"
          ],
          [
           "Pani Dr . Bystrzanowska nie interesuje sie<br>problemem pacjenta ! Wiecznie wygląda na znudzoną<br>i widać , że nie lubi swojej pracy . Pierwszy raz<br>spotkał em sie z takim podejściem do pacjenta ,<br>nawet w publicznej przychodni był em lepiej<br>traktowany ( a u niej wizyta to 100zł ) . Siedzi<br>wiecznie wpatrzona w laptopa a ma otwarte tylko gg<br>! ! ! ) . Kilka wizyt to tylko kilka stów<br>wywalonych w błoto . Pomogli mi dopiero w klinice<br>na koszykowej a tam nic sie nie płaci ! Tak wiec<br>stanowczo odradzam - ewentualnie jeśli ktoś chce<br>sobie popatrzeć na śliczną panią doktor przez<br>10min za cenę 100zł to jak najbardziej : )",
           "__label__meta_minus_m"
          ],
          [
           "podczas wizyty z dzieckiem w poradni zamiast<br>zajmować się córką ciągle pytał , czy przypadkiem<br>ja nie mam problemu z nerwem twarzowym i dziecko<br>go mniej interesowało , niż ja . Nie słuchał , co<br>do niego mówił em o objawach u dziecka i dyktował<br>pielęgniarce do karty zupełnie inny wywiad , niż<br>mu podawał em . W karcie zapisano lekkie bóle<br>głowy , podczas , gdy córka płakała z bólu i nie<br>mogła normalnie funkcjonować . Zdecydowanie mnie<br>lekceważył . Nie pomógł w żaden sposób .",
           "__label__meta_minus_m"
          ],
          [
           "Zrobili śmy rezerwację tydzień przed walentynkami<br>, pokoik był okej , oferta zapowiadała się super<br>szkoda tylko że był malutki basen a w nim zimna<br>woda , jacuzzi nie uruchomione w restauracji zimno<br>strasznie było , . . oprócz nas widzieli śmy tylko<br>barmanke i managera bo w hotelu było pusto , zimno<br>, zero klimat , obiad był nie smaczny a śniadanie<br>nie ciekawe . Nie polecam bo za 400zl za dobę to<br>można być w pięknym spa zjeść pyszny obiadzik i<br>posiedzieć wieczorem w przytulnej restauracji .<br>Nigdy już tam porostu nie wrócimy .",
           "__label__meta_minus_m"
          ],
          [
           "Kolejny bardzo nie udany pobyt . To zdecydowane<br>jeden z najbardziej brudnych hoteli w Katowicach w<br>ktorym dodatkowo panuje jeszcze PRL jesli chodzi o<br>wystroj pokoi . Pokoje sa brudne i zakurzone .<br>Stare wytarte meble , brudne poduszki i nieczynny<br>sejf . Lampa w moim pokoju byla zepsuta i peknieta<br>. Nawet klamka w oknie byla brudna ! Lazienka byla<br>istnym koszmarem . Brudne fugi i kabina<br>prysznicowa . Sufit caly w zaciekach . Stare ,<br>wytarte reczniki . Telefon ktory byl w lazience<br>nawet nie byl podlaczony . Dodatkowo zapach<br>papierosow choc w hotelu sie ponoc nie pali .<br>Recepcja bardzo nieudolna . Sniadania zdecydowanie<br>za drogie . Nie polecam !",
           "__label__meta_minus_m"
          ],
          [
           "Odradzam . Wizyta kosztowala w styczni 105 zl , a<br>trwala 5 minut . Corka na tradzik dostala jakies<br>masci . Po miesiacu nastepna wizyta - umowione<br>bylysmy na 17 . 00 a weszlysmy do gabinetu ok 18 .<br>Przed nami weszly 2 osoby , ktore nie byly<br>zapisane ale pani doktor poprosila je . Na moje<br>pytanie dlaczego tak sa zalatwiani pacjenci<br>dowiedzialam sie ze tak jest i juz Wizyta trwala 5<br>minut 105 zl i pani stwierdzila ze corka musi brak<br>antybiotyki . Wyspisala 5 opakowan na moje pytanie<br>czy te antybiotyki nie zaszkodza jej ,<br>dowiedzialam sie ze i aspiryna szkodzi . Pani<br>doktor nie miala ochoty odpowiadac na inne moje<br>pytania tylko zaprosila na wizyte za miesiac .<br>Zrezygnowalysmy .",
           "__label__meta_minus_m"
          ],
          [
           "Odniosła m wrażenie , ze ten PAN jest znudzony<br>swoja praca i siedzi w gabinecie bo musi . W<br>zeszłym roku neurolog skierował mnie na<br>konsultacje neurochirurgiczna , sugerujac operacje<br>. Rezonans wykazał dyskopatie z rwa kulszowa na<br>poz . L5 / S1 . Pan Sajewicz po zapoznaniu się z<br>moim przypadkiem stwierdził , ze nie zakwalifikuje<br>mnie do operacji gdyż ( cytuje ) : dopóki nie<br>bierze Pani 10 tabletek przeciwbólowych naraz oraz<br>potrafi Pani unieść nogę do 45 ° to nie jest tak<br>źle . Trzy dni temu miała m mikrodyscektomie .<br>Sadze , ze gdyby nie \" profesjonalizm \" p .<br>Sajewicza , moglabym uniknąć niepotrzebnego bólu<br>przez kolejny rok oraz poniesionych w tym czasie<br>kosztów .",
           "__label__meta_minus_m"
          ],
          [
           "Mam wrażenie , że klimat podczas wizyty u dr<br>Szymuli zalezy od dwóch czynników - czy zapałał<br>sympatią do pacjentki oraz czy akurat ma nastrój .<br>Dwa razy usłyszała m od niego uwagi na temat mojej<br>wagi ( a wazyłam wówczas 56 kg przy 162 cm , więc<br>żadna to nadwaga , co nie zmienia faktu , że uwagę<br>pamiętam do dziś ( po 4 latach . . . ) ) . Jeśli<br>chodzi o kompetencje - 3 lata leczył mnie z<br>infekcji , z której mnie nie wyleczył , natomiast<br>spowodował uodpornienie na większość dostępnych<br>leków . Pomogła dopier rewelacyjna i absolutnie<br>najlepsza lekarka , z jaką miała m do czynienia w<br>życiu - dr Olszak - Sokołowska z Medicoveru w<br>Gdyni . Dziś znów mam abonament w Lux Medzie i<br>wiem , że najlepszych lekarzy to tam nie ma , a do<br>Szymuli nie pójde na pewno . Złośliwy , arogancki<br>typ , wspominam wizyty bardzo nieprzyjemnie",
           "__label__meta_minus_m"
          ],
          [
           "Miała m dzisiaj wątpliwą przyjemność uczestniczyć<br>w pikniku organizowanym w Dolinie Charlotty i<br>jestem zawiedziona . Atrakcje dla dzieci to i<br>owszem ale podane nam posiłki nie nadawały się do<br>konsumpcji . Pierś z kurczaka wysuszona na wiór ,<br>karkówka nieświeża , a zupa gulaszowa to<br>zabarwiona woda z niewielkimi kawałkami papryki .<br>Wszystko było bez smaku , a hitem były \" lody<br>śmietankowe \" - biały , nieprzetopiony smalec ,<br>który nawet na słońcu się nie rozpuścił . Jestem<br>zniesmaczona i jeszcze z taką arogancją się nie<br>spotkała m . Nie polecam ! ! !",
           "__label__meta_minus_m"
          ],
          [
           "U pani okulistki leczę się od dziecka obecnie mam<br>28lat i jestem w ciąży . Mam ciągle postępująca<br>wadę wzroku ( obecnie - 7 ) dlatego podczas ciąży<br>chciała m wykonać badanie dna oka w celu<br>wykluczenia wad siatkówki oraz ewentualnego<br>zaświadczenia o wskazaniach do cesarki . Pani<br>doktor badanie wykonała wskazań do cesarki nie<br>stwierdziła tylko dodała na koniec wizyty żeby m<br>broń Boże nie zamykała oczów podczas porodu bo<br>mogę stracić wzrok zademonstrowała również pozycje<br>jaką mam przyjąć podczas porodu i powiedziała , że<br>mam sobie ćwiczyć bo mam jeszcze czas . . . Po tej<br>wizycie poszła m do innego okulisty , który<br>wykonał badanie dna oka , które wyglądało zupełnie<br>inaczej niż u pani doktor i okazało się , że mam<br>tak słabą siatkówkę , że nie mogę rodzic<br>naturalnie .",
           "__label__meta_minus_m"
          ],
          [
           "Zupełnie nie rozumiem zachwytów nad panem doktorem<br>. Po pierwsze tradycyjnie ponad godzinne<br>opóźnienie . Po drugie przedmiotowe potraktowanie<br>dziecka a cena za wizytę wysoka . Po trzecie<br>załatwianie swoich prywatnych telefonów podczas<br>wizyty . Na koniec jeszcze do gabinetu wpakował<br>się chyba syn doktora i ten był tak zajęty rozmową<br>z nim , że nawet nie odpowiedział do widzenia . Za<br>150 zl wypadało by to zrobić . . . .",
           "__label__meta_minus_m"
          ],
          [
           "Była m u Pani Dermatolog kilka miesięcy temu z<br>łuszczycą i zapaleniem skóry na twarzy (<br>spowodowanym jednokrotnym posmarowaniem twarzy<br>sterydem ) . Po wizycie była m załamana , bo nie<br>uzyskała m żadnej pomocy , prócz informacji , że<br>mam myć twarz szamponem Pirolam . Usłyszała m , że<br>mam przyjść jeszcze raz na wizytę i jeśli się nie<br>poprawi po tym szamponie to zostanę skierowana do<br>szpitala . Po wizycie zadzwoniła m do poradni w<br>szpitalu do której chodzę na NFZ z prośbą o jak<br>najszybszą wizytę - usłyszała m , że mogę przyjść<br>następnego dnia . Ze względu na mój stan została m<br>skierowana do szpitala - była m w takim stanie ,<br>że wstydziła m się wychodzić z domu . Na szczęście<br>wszystko już jest w porządku . Zdaje sobie sprawę<br>z tego , że mój przypadek był ciężki , ale<br>zawiodła m się na Pani Doktor nie dlatego , że nie<br>potrafiła mi pomóc , tylko dlatego , że nie<br>potrafiła mi tego powiedzieć i nie skierowała mnie<br>do szpitala od razu .",
           "__label__meta_minus_m"
          ],
          [
           "Byli śmy w Primawerze po raz 4 i po raz pierwszy<br>musimy napisać , że obsługa na recepcji FATALNA !<br>! ! Panie nieuprzejme , bez uśmiechu , doba<br>hotelowa rozpoczyna się od 17 . 30 co już na<br>wstępie jest nieporozumieniem , do tego<br>przyjechalismy o 18 a pokój nie byl jeszcze gotowy<br>. Zero słowa przepraszam , tylko oschłe : musicie<br>poczekać . Rezerwacja poprzez portal booking i to<br>chyba się nie spodobało , ponieważ zapłacili śmy<br>mniej niż przez stronę Ośrodka . W pokoju w łóżku<br>włosy , śmierdząca wykładzina . Plusem jedzenie<br>oraz atrakcje dla dzieci . Po raz pierwszy tak się<br>zrazili śmy przyjęciem na recepcji . . . Chcieli<br>śmy przedłużyć pobyt , Pani oczywiście<br>niezadowolona , że przez booking znowu taniej , a<br>więc jednej rezerwacji doba konczy się o 10 ( mimo<br>, że korzystali śmy z programu Genius i mogli śmy<br>skorzystać z późniejszego wymeldowania i zgłaszali<br>śmy to przy zameldowaniu ) , kazano nam opuścić<br>pokój i ponownie zameldować się o 17 . 30 . Z<br>dzieckiem czekać 7 godzin ! ŻENADA ! ! Oczywiście<br>nie skorzystali śmy z propozycji . .",
           "__label__meta_minus_m"
          ],
          [
           "Leczenie w Madurowiczu nie ma wiekszego sensu<br>jesli wczesniej nie uda sie do prywatnego gabinetu<br>jednego z tamtejszych lekarzy a w szczególności<br>pana Suzina , ktory na obchodzie nie poświęci<br>nawet sekundy ' obcym ' pacjentkom . Po 4 dniach<br>leżenia w szpitalu nikt nawet nie był zapoznany z<br>moim przypadkiem a doktor stawial złe diagnozy ,<br>które bojący się jego inni specjaliści szpitalni<br>potwierdzali bez zastanowienia . Przykry system :<br>(",
           "__label__meta_minus_m"
          ],
          [
           "Badanie nie nalezalo do przyjemnych , przyszedlem<br>z mniejszym bolem niz wyszedlem . Do dzis czuje<br>straszny bol . Zadnych informacji poza tym ze mam<br>hemoroidy nie dostalem . Podejscie doktora<br>neutralne ani nie byl zbytnio mily ani zbytnio<br>zainteresowany problemem . Recepta na lidokaine I<br>w sumie tyle .",
           "__label__meta_minus_m"
          ],
          [
           "Beznadziejny lekarz , dziecko traktuje w czasie<br>badania instrumentalnie czym doprowadził mojego<br>synka do płaczu i strachu przed badaniem ( sam<br>stwierdza , że tak powinno być ; ma płakać dziecko<br>i matka ! ! ! ) . Stwiedził , że synek ma stulejkę<br>i wędrujące jądra co oczywiście było diagnozą<br>nietrafną , w stresie jąderka mogą się cofnąć .<br>Skrzywdził mojego synka , przy odciąganiu napletka<br>doprowadził do jego popękania a przez to teraz do<br>zrostów i stanu zapalnego . Synek nacierpiał się<br>przez tego Pana i jeszcze czeka nas leczenie . Pan<br>Galewski odrywa ręcznie napletek już niemowlaką -<br>to metoda leczenia sprzed dwudziestu lat , której<br>teraz już się nie stosuje i leczy się najpierw<br>zachowawczo lekami ( to opinia innego lekarza ,<br>który zna tego Pana z takich poczynań ) . Ten Pan<br>nie powinien pracować jako lekarz pediatra . Celem<br>zamieszczenia tej opinii jest przestroga dla matek<br>chłopców , żeby nie zezwoliły Panu Galewskiemu na<br>badanie okolic intymnych ich pociech .",
           "__label__meta_minus_m"
          ],
          [
           "Kompleks dość duży z fajnym basenem i saunami .<br>Największym minusem było zachowanie kelnerki<br>podczas śniadania . Syn i córka jakoś słabo zjedli<br>śniadanie wiec żona chciała wziąć im jogurt na<br>później . Schowała go do torebeczki i położyła na<br>krześle . Od tej pory mieli śmy dziwne wrażenie ,<br>że jesteśmy obserwowani i obgadywani przez<br>personel . Po pewnym czasie z torebeczki zniknął<br>jogurt . Kelnerka wyciągnęła go z naszej prywatnej<br>torebki , gdy robili śmy herbatę . Zostali śmy<br>wezwani na rozmowę do Pani prezes , która<br>poinformowała nas , że nie wynosimy jedzenia z<br>restauracji ( nawet bułeczki zrobionej dla dziecka<br>, owoców itp . ) . Przeprosili śmy za swoje fo pa<br>. Jednak zachowanie kelnerki jest dramatyczne i<br>zaglądanie do prywatnych rzeczy gości hotelowych<br>bez ich wiedzy nie powinno mieć miejsca . Kelnerka<br>nie przerosiła za swoje zachowanie i w sposób<br>arogancki zachowywała się do nas . Jedzenie w<br>hotelu przeciętne , zawsze trzeba było się prosić<br>obsługę bo czegoś brakowało . Serwis śniadaniowy<br>to już inna historia - szczerbione talerzyki i<br>filiżanki , niedomyte sztućce , Jak na 4 * to<br>bardzo słabo .",
           "__label__meta_minus_m"
          ],
          [
           "Właśnie siedzę w hotelowej kawiarni . To juz 15<br>minut , a wciąż nikt nie podszedł . Zaczynam<br>zastanawiać się czy Panie pracujące tutaj są<br>rzeczywiście w pracy czy może na wakacjach .<br>Widoki z hotelu wspaniałe ( jeśli trafi się na<br>odpowiedni pokój ) . Niestety w dniu dzisiejszym<br>była awaria zamków do pokoju . I niestety nie<br>mogła m wejść . Słabe oznaczenia w hotelu - łatwo<br>się tutaj zgubić . Kolejnym minusem jest to , że<br>statki hotelowe jeszcze nie kursują bo jak<br>powiedziała Pani z recepcji \" jest za zimno \" (<br>przy 20 stopniach na dworzu ) . Na basenie minusem<br>są grupy dzieci , które krzyczą , pluskają i nie<br>można nawet spokojnie wypocząć .",
           "__label__meta_minus_m"
          ],
          [
           "Niestety nie mogę polecić dr Nogala . Leczę się na<br>niedoczynność tarczycy i moje wizyty przez ponad<br>rok czasu wyglądały tak , że wchodziła m do<br>gabinetu , doktor zerkał na badania , przepisywał<br>kolejną receptę , brał za 3 minutową wizytę 100zł<br>i do widzenia , a w efekcie żadnej poprawy . Na<br>szczęście podjęła m decyzję , że tak dalej być nie<br>może i udało mi się trafić do super Pani Doktor (<br>znaleziona na tym portalu w ciemno dzięki opiniom<br>) i teraz mam porównanie jak różnie może wyglądać<br>leczenie .",
           "__label__meta_minus_m"
          ],
          [
           "Minusy : Niezbyt uprzejma obsługa w restauracji ;<br>Bardzo słaba polska kuchnia ; małe pokoje w<br>ośrodku oraz w domkach ; Niestety miałem<br>nieprzyjemność obserwacji znajomych właściciela (<br>grupa tenisowa z Legii ) którzy myślą że wszystko<br>im wolno , zachowują się w bezczelnie i po chamsku<br>. atmosfera z warszawskiej pragi tyle że w<br>markowych ciuchach . Plusy : Miła obsługa hotelowa<br>; Dobra kuchnia turecka ; Dużo miejsc do spacerów<br>Ogólnie : drogo i nie warte swej ceny",
           "__label__meta_minus_m"
          ],
          [
           "Zacznijmy od jedzenia : ŚNIADANIA : generalnie<br>skromnie ale świeżo , pieczywo tylko pszenne ,<br>kawa słabej jakości , i co najważniejsze : jak<br>przyjdziesz 30 min przed końcem NIE MA CO ZJEŚĆ -<br>a kelnerka poproszona o doniesienie , grzecznie<br>informuję , że już nic nie mają - ŻAL !<br>OBIADOKOLACJE : w ogóle nie dostosowane do dzieci<br>, bo przecież za Humusem nie przepadają , cukinia<br>królowała przez 3 dni pod rząd , wszytskie dania<br>smakowały podobnie , nie wyraziste i nie<br>doprawione . - Generalnie NIE POLECAM pobytu z<br>opcją z obiadokolacjami.BASEN : trzeba uważać ,<br>woda z dodatkiem chemii która podrażnia oczy -<br>DZIECI POTRAFIŁY PŁAKAĆ , odpadające płytki w<br>basenie , brak ratownika - BARDZO SŁABO ! SAUNY :<br>fińska i aromatyczna - ok . , INFRARED - nie<br>działa .",
           "__label__meta_minus_m"
          ],
          [
           "Zdecydowanie odradzam . Dr Obidziński wykonywał mi<br>dwa razy artroskopie kolana . Za pierwszym razem<br>ok . , przygotowanie do rekonstrukcji , chociaż<br>teraz jestem już obcykana w tym temacie i wiem ,<br>że można od razu zrekonstruować zerwane więzadło<br>podczas jednej operacji . Sama rekonstrukcja u<br>innego lekarza ( źle zrobiona , przeszczep<br>wstawiony w złym miejscu ) . Od razu czuła m że<br>coś poszło nie tak . Została m więc skierowana na<br>artroskopię którą wykonał właśnie Pan dr . Kilka<br>miesięcy po artroskopii poszła m na wizytę o<br>kulach oczywiście . Dr był wielce zdziwiony .<br>Mówię , że to nic nie zmieniło , że dalej wszystko<br>się przestawia , wskazała m miejsce bólu a Dr<br>Obidziński na to : , , tam artroskop nie dochodzi<br>' ' i uśmiech . To była ostatnia wizyta u tego<br>Pana . Obecnie jestem po ponownej czwartej już<br>operacji , pod opieką super ortopedy i nareszcie<br>po prawie 3 latach chodzenia o kulach odstawiła m<br>je . Koniec płaczu i bezsilności . Wreszcie .",
           "__label__meta_minus_m"
          ],
          [
           "bez nadzieja all incliusiwe tylko z nazwy , basen<br>miniatura 10 lezakow na caly hotel zgroza ,<br>jedzenie dla swin . stare i odgrzewane z<br>poprzedniego dnia po interwencji wbiurze Rainbow<br>bez zmian , wstyt ze to europa chyba ze<br>grecka.nigdy wiecej tak wycieczek a bylismy na<br>wielu .",
           "__label__meta_minus_m"
          ],
          [
           "Hotel poziomem ogólnym odbiegający od standardów<br>europejskich , a zwłaszcza jego opcja all<br>inclusive . Muszą się jeszcze dużo nauczyć .<br>Wprost ubogie menu , formalizm przy jego<br>realizacji ( każdorazowy podpis , ograniczanie<br>ilości zamówień , przestrzeganie co do minuty<br>czasu wydawania napojów - wybiła 11 . 00 odmowa<br>podania posiłku , napoju ) , oferta żywieniowa<br>mało urozmaicona , śniadanie poniżej krytyki ,<br>brak interenetu , to prawda , że w wyniku<br>prawdopodobni awarii , ale nic nie zrobiono , by<br>ją w ogóle usunąć , hotel nie jest godny<br>zainteresowania i polecenia",
           "__label__meta_minus_m"
          ],
          [
           "Przykro mi , że w ten sposób wypowiem się o<br>lekarzu . Niestety wiele osób ma rację . Lekarz<br>nastawiony na zysk 3 min wizyty , 150 zł ( Dolmed<br>) i do tego nie trafiona diagnoza . Jestem w ciąży<br>, ginekolog zlecił TSH wyszło teoretycznie w<br>normie , jednak skierował mnie na wizytę u<br>endokrynologa , ponieważ normy dla ciąży są inne .<br>Dr Mędraś w ciągu 3 minut stwierdził że nie widzi<br>potrzeb do leczenia . Po miesiącu zrobiła m<br>kontrolne TSH , wyszło 5 - krotnie ponad normę !<br>Zmieniała m lekarza , a tego Pana doktora nie<br>polecam .",
           "__label__meta_minus_m"
          ],
          [
           "Z początku napiszę , że moja wizyta odbywała się<br>na NFZ . Może nie jestem stara , ale chyba nie<br>wypada mówić do pacjenta \" na ty \" i to w taki<br>sposób , z jakim zwrócił się do mnie po pytaniu ,<br>czy mam sztuczną szczękę a potem opryskliwie<br>odpowiedział \" dziwne gdyby ś miała w wieku 20 lat<br>! \" . Sama gastroskopia była bez znieczulenia ale<br>to już pominę , może taka specyfika tego miejsca .<br>Po badaniu Pan dał mi wynik i skwitował naszą<br>wizytę \" proszę z tym iść do tego , kto tu panią<br>przysłał \" . Koniec . Więcej już do niego nie<br>pójdę za te opryskliwość . Może , gdyby wizyta<br>była prywatna , to i zachowanie było by lepsze ?",
           "__label__meta_minus_m"
          ],
          [
           "Aktualnie przebywamy w hotelu . W porównaniu do<br>zeszłego roku jest gorzej - zmienił się menager .<br>Śniadania + kolacje = stanie w KOLEJKACH po kawę /<br>napoje ( serio , ludzie robią sobie zdjęcia ) - do<br>obsługi setki ludzi jest jeden boiler z wrzątkiem<br>+ jeden ekspress ( drugi popsuty ) , + jeden<br>dystrybutor do wody / soku ( wybór przeogromny bo<br>możemy przebierać do woli w soku pomarańczowym<br>albo jabłkowym - jest szał ) . Do kolacji nie ma<br>herbaty gdyż \" teraz w hotelach odchodzi się od<br>tego \" , także pozbawieni jakiegokolwiek ciepłego<br>napoju ( przy ekspresie kartka , że kawę można<br>NABYĆ w barze ) na wieczór wlewamy w siebie zimne<br>szklaneczki soku pomarańczowego z koncentratu ( w<br>zeszłym roku były soki z kartonów ) . Na śniadania<br>codziennie to samo - jajecznica w jednym kawałku +<br>najtańsza parówka + pieczarki błagające o litość .<br>Do tego coś na zimno - wszytko tak przepieprzone ,<br>że nie da się jeść . Surówki do obiadów - kapusta<br>kiszona ( z pieprzem ) , sałaty ( bez dresingu ) ,<br>pychota ! Brak kamer nawet przy salce zabaw dla<br>dzieci , gdzie maluchy zostawiają buty ( nasze \"<br>coś \" znalazło nowego właściciela . . . ) Parking<br>częściowo wyłożony kostką , częściowo jedziemy po<br>utwardzonym żwirze urozmaiconym DOŁAMI ( parking<br>dla lepszych i gorszych ) . Kuchnia dla dzieci -<br>NIEDOGOTOWANE i TWARDE warzywa , mięso<br>przyprawione głównie pieprzem . Ośrodek jak inny ,<br>kuchnia go ratowała , teraz się nie obroni . PS .<br>Naczynia też nie powalają czystością .",
           "__label__meta_minus_m"
          ],
          [
           "Spokojny tu się zgodzę i za to mogą go lubić<br>pacjenci ale nie polecam . Dlaczego ? bo z<br>dzisiejszymi chorobami i ich powikłaniami trzeba<br>być jako lekarz naprawdę na bierząco . Wydaje mi<br>się że do mojego przypadku podszedł bardzo<br>szablonowo . Miała m bóle stawów , trwały one do<br>24godzin , potem znikał na dzień lub dwa , potem<br>powaracał , ten ból po prostu po mnie \" chodził \"<br>( dzisiaj boli mnie staw w nadgarstku za dwa dni<br>np . w kolanie ) . Wywiad jaki o chorobie ze mną<br>zrobił to kiedy robiła m badanie ginekologiczne ,<br>stomatologiczne i wysłał do laryngologa . Dadam że<br>te badania były ok . Przepisał lekarstwo na<br>zapalenie stawów . Bóle nie przechodziły . Ten<br>koszmar mój trwał gdzieś z 1 , 5roku . W końcu<br>trafiła m na lekarza w Rzeszowie ( na kase chorych<br>) Po opisaniu bóli skierowała mnie na badanie<br>boleriozy i chlamidii . Okazało się że mam<br>chlamidię . Odpowiednia dawka antybiotyku i<br>lekarstwo przeciew zapalne i po problemie ! ! ! !",
           "__label__meta_minus_m"
          ],
          [
           "Jestesmy kolejny raz 2 Golden Tulip . Jak widac po<br>pierwszych wrazeniach . . Hotel zdobyl juz sobie<br>klientów i standard z znacząco sie obnizyl . . .<br>zwlaszcza jezeli chodzi o sniadania . . . szkoda<br>ze dzis nie dodalismy zdjec . . . polowa tego co<br>oferowali w zeszlym roku . Jajecznica zimna .<br>wedliny wyschniete pasztetowa i pasztet a ryby<br>wedzone . . . makrela uschnieta i odpadki od<br>lososia . . . zle bardzo zle . . Do szanownej<br>Dyrekcji prosze sie zastanowic sie czy warto robic<br>\" dziadoskie oszczędności \" wyglada to naprawde<br>zle . . . jezeli przez kolejne dni sie nie zmieni<br>a watpie . . . jestesmy Tu ostatni raz . . . I tak<br>sie traci stalych klientów . . . Historia jak z<br>podrecznika o zarządzaniu . Artur",
           "__label__meta_minus_m"
          ],
          [
           "Niestety nie jestem zadowolona z pobytu w hotelu<br>Best Western Kraków , spędziła m tam dwie doby .<br>Hotel ten wybrała m głownie dlatego ze w swojej<br>ofercie miał saunę i basen . Po przyjeździe do<br>hotelu ku mojemu zaskoczeniu dowiedziała m sie ze<br>basen i sauna są w remoncie , wyraziła m swoje<br>niezadowolenie tym faktem na co w odpowiedzi<br>zamiast przeprosin usłyszała m ze \" żadna pora nie<br>jest dobra na remont \" . Rezerwacje robiła m z<br>dużym wyprzedzeniem , był zatem czas na<br>poinformowanie mnie o ograniczonej ofercie ( brak<br>basenu i sauny ) . W takiej sytuacji zrezygnowała<br>by m z pobytu w tym hotelu . Zapłaciła m za usługę<br>hotelowa której nie otrzymała m , nie wykupiła by<br>m pobytu w tym hotelu wiedząc ze nie mam<br>możliwości korzystania z basenu i sauny bo<br>możliwość korzystania z tych obiektów była jednym<br>z podstawowych warunków wyboru hotelu . Reasumując<br>, oferta hotelu minęła się z prawda bo zawierała<br>usługi których hotel nie zapewniał . Hotel<br>wiedział ze nie jest w stanie udostępnić gościom<br>basenu i sauny bo takie prace jak remont planowane<br>są z wyprzedzeniem a jednak z premedytacja<br>oferował i pobrał pieniądze za te usługi których<br>nie był w stanie wykonać . Nie dość ze nikt nie<br>poinformował mnie ze nie będę mogła otrzymać tego<br>za co zapłaciła m to nawet nie uznano za stosowne<br>wyartykuowac elementarnego \" przepraszamy \" .<br>Czuje sie oszukana bo zapłaciła m za usługi<br>których nie otrzymała m . Małgorzata",
           "__label__meta_minus_m"
          ],
          [
           "W dniu 15 . 09 . 2010 r . w HOTELU „ LIBURNIA ” w<br>Cieszynie ok . godz . 6 . 30 klient spożył stare ,<br>źle przechowywane bądź zepsute masło .<br>Zaniepokojony sytuacją zwrócił na ten fakt uwagę w<br>recepcji hotelu i zaczął się horror który miał<br>finisz w sanepidzie . Efekt był taki że zamiast<br>poprawić jakość usług zastraszano klienta<br>prokuraturą i odmówiono klientowi dalszego pobytu<br>w hotelu . Powyższy hotel wykazał się paskudnym<br>podejściem do klienta a kierowniczka w ocenie<br>klienta winna stracić pracę . Osobiście dodam , że<br>dzięki powstałej sytuacji klient spędził noc w<br>dużo fajniejszym hotelu ( obsługa i wyposażenie )<br>jak i o wiele tańszym ( także w Cieszynie ) . Za<br>co kierowniczce a może i właścicielowi hotelu<br>LIBURNIA bardzo dziękuję . Żałuję , że nie mogę<br>zareklamować tego fajnego hotelu w którym<br>poszkodowany klient spędził em noc , ale<br>taksówkarze go znają … wystarczy zapytać .<br>Pozdrawiam .",
           "__label__meta_minus_m"
          ],
          [
           "Niestety wyrzucone pieniądze w błoto na prywatną<br>wizytę u pana doktora . Może i w miarę miły , ale<br>na USG 3D nie zobaczyła m mojego dziecka , bo się<br>odwróciło . Zamiast dać nam chwilę na spacer , to<br>lekarz stwierdził , że się zasłoniło i po badaniu<br>. 200 zł skasował i powiedział , że dziecko<br>zobaczę jak się urodzi . . No tak , regulaminowe<br>20 minut minęło .",
           "__label__meta_minus_m"
          ],
          [
           "Witam serdecznie ! u p . Dr Witwiskiego wykonywała<br>m dwie operacje plastyki nosa , pierwsza była to<br>korekta części chrzęstnej w 2012 roku , oraz pełna<br>korekta w 2016 . Efekt niestety mocno<br>niezadowalający zarówno po pierwszej jak i drugiej<br>operacji . Po pierszym zabiegu nos w prawdzie był<br>nieco krótszy , ale po zagojeniu ran przybrał<br>dziwny kształt , pojawiły sie zgrubienia , czubek<br>nosa opadł , Nos po prostu szpecił twarz . Po<br>konsultacji z p . doktorem postanowiła m<br>zdecydować się na druga operację , tym razem pełną<br>korektę . Aktualnie nos ma nieco lepszy kształt<br>nie mniej jednak daleko mu do łądnego wyglądu .<br>Kość jest z jednej strony nierówno spiłowana (<br>zwróciła m na to uwagę p . dr w trakcie wizyty<br>kontrotnej - usłyszała m , że to pewnie jeszcze<br>rana po zabiegu i powinno się zagoić ) .<br>Nierówność pozostała do dziś . Reasumując , owszem<br>nos wyglada nieco lepiej niż przed operacjami ,<br>nie mniej jednak po dwóch zabiegach spodziewała m<br>się zdecydowanie ! lepszego efektu . Osobiście nie<br>mogę polecić !",
           "__label__meta_minus_m"
          ],
          [
           "Po dwóch wizytach zmieniła m tego lekarza na<br>innego . Mało komunikatywny , ignorujący pacjentkę<br>, badanie szybkie , niedelikatne . O wszystko<br>trzeba się dopytywać . Próbowała m się dowiedzieć<br>, jak leczyć wykrytą przez niego nadżerkę , to<br>powiedział mi , że teraz w modzie jest nieleczenie<br>. Mogę brać globulki . Jak długo ? Dopóki mi się<br>nie znudzi . To nie jest dla mnie fachowa porada<br>lekarza . Tym bardziej , że są inne metody<br>leczenia , a przede wszystkim dokładniejsza<br>diagnostyka .",
           "__label__meta_minus_m"
          ],
          [
           "Hotel średniej jakości podczas tygodniowego pobytu<br>nie widział em nikogo w recepcji . . . W ogóle<br>chyba nie było w pokoju posprzatac , nawet ręcznik<br>miałem po kimś wysmarowany tuszem do rzes .<br>Telewizor czasami nie chciał się uruchomić albo<br>obraz się przyciemnial , trzeba było poruszać<br>kablem . Śniadania bardzo skromne i sredniej<br>jakości . . . Łóżka za to wygodne i pokoje duże",
           "__label__meta_minus_m"
          ],
          [
           "Nasz samolot się spóźnił , zajechalismy o 22 ,<br>hotel nie zapewnił nam posiłku , który stracili<br>śmy nie z własnej winy . Mało tego , ledwo można<br>było się po angielsku dogadać . W pokoju<br>smierdziało , wilgoć , klimatyzacja praktycznie<br>nie działała , w drugim pokoju wynajmowanym przez<br>rodziców telewizor i lodówka nie działały . Mrówki<br>na podłodze , u rodziców karaluchy . Tragiczne<br>wnętrze i grzyb . Moim zdaniem tak wykończone<br>pokoje nie zasługują nawet na 3 gwiazdki .<br>Jedzenie średnie . Liczyła m na zjedzenie jakiś<br>dobrych ryb , a tutaj tylko śledzie i głównie<br>wołowina . Alkoholi nie ma dużo do wyboru , lody<br>tylko na plaży przez 1 - 1 , 5h i tylko 2 smaki .<br>Basen fajny , ale ciężko o miejsce . Po śniadaniu<br>nie ma już praktycznie szans na jakiekolwiek<br>miejsce . Pokoje sprzątane , ale powierzchownie .<br>Część gniazdek nie działa , telewizor malutki . Na<br>start 2 małe wody z lodówki . Większość Rosjan i<br>Turków . Ogólnie pechowo trafili śmy , nie polecam<br>: )",
           "__label__meta_minus_m"
          ],
          [
           "Słaby lekarz , każe powtarzać badania od<br>poprzednich lekarzy bo podobno zostały \" źle<br>wykonane \" , nie koncentruje się na tym co<br>pacjentowi dolega i jak mu pomóc przy obecnych<br>dolegliwościach , zleca masę bardzo drogich badań<br>po kilka razy , podważa opinię swoich poprzedników<br>a na pacjenta ( szczególnie tego o mniejszej<br>zasobności portfela ) patrzy z wyższością . Pomimo<br>wysokiej ceny wizyty konsultacja okazała się być<br>całkowitym fiaskiem .",
           "__label__meta_minus_m"
          ],
          [
           "Zdecydowanie odradzam tego pana . Jedyne co umie<br>powiedzieć to zaproponowanie terapeuty manualnego<br>, oczywiście w tej samej klinice . Całkowite<br>zlekceważenie objawów chorobowych sygnalizowanych<br>przez ze mnie . Gdy opowiadała m o moich<br>dolegliwościach szanowny pan patrzył na zegarek ,<br>bo przecież ma przeznaczone tylko 15 minut na<br>pacjenta . Potraktowana została m lekceważąco a o<br>rzekomym bólu powiedział , że mi się zdaje , że<br>odczuwam to tak mocno i poradził udać się do<br>psychologa , oczywiście piętro niżej . Po miesiącu<br>od tej wizyty przestała m chodzić . Przy chorobie<br>, którą u mnie wykryto miała m dużo szczęścia , że<br>terapeuta manualny nie zrobił mi krzywdy ,<br>ponieważ nie można wykonywać manipulacji przy<br>mojej chorobie ze względu na duże ryzyko<br>uszkodzenia kręgosłupa . Doktor powinien skierować<br>mnie na badania po zasygnalizowaniu symptomów<br>choroby zamiast kierować mnie prosto do terapeuty<br>i psychologa . Stracony cenny czas , stracone<br>pieniądze i zyskanie jedynie dużego bólu na<br>terapii . Nie polecam .",
           "__label__meta_minus_m"
          ],
          [
           "Szanowni Panstwo , spedzilismy Sylwestra w tym<br>wyjatkowym miejscu i mozemy tylko wszystkim zyczy<br>omijac je z daleka . W pokojach nie dzialalo<br>ogrzewanie - temperatura wynosila ok . 16 C i<br>trudno bylo wyjsc z pod koldry Jakosc bazanta<br>podanego na kolacje Sylwestrowa raczej \" gumowa \"<br>Ceny b . wysokie Kelnerzy pijani , a obsluga<br>recepcji chowajaca sie przek reklamacjami klientow<br>. Do tego jeszcze New Years Party , za ktore<br>skasowano ok . 800 pln ( cena pokoju ) , a w ogole<br>sie nie odbylo . COZ , radzimy uwazac na to<br>miejsce zima . Latem zapewne panuje to nieco inna<br>atmosfera",
           "__label__meta_minus_m"
          ],
          [
           "Dużo podróżuję po kraju i większość hoteli<br>rezerwację telefoniczną traktuje jako pewną bez<br>konieczności wcześniejszej zapłaty . kiepskie<br>meble w pokoju , stary telewizor , przestarzała<br>łazienka . Za pokój w dużo wyższym standardzie<br>płacę w takich miastach jak Lublin , Rzeszów ,<br>Wrocław czy Białystok odpowiednio 40 , 00 PLN<br>mniej . Parking monitorowany w cenie . Wizualnie w<br>środku hotel nie zachwyca . przydał by się<br>generalny remont .",
           "__label__meta_minus_m"
          ],
          [
           "Położenie hotelu zupełnie nie atrakcyjne . Dookoła<br>działki letniskowe i wielka budowa sali weselnej .<br>Wystrój restauracji i kolor sprawiają dość<br>przygnębiające wrażenie . Podczas weekendu<br>majowego formuła bufetu zarówno śniadań jak i<br>kolacji zupełnie się nie sprawdziła . Zaserwowano<br>tylko kilka potraw i to w małych ilościach , na<br>które trzeba było \" polować \" lub się prosić<br>kelnerów o doniesienie . W jeden wieczór \"<br>atrakcją \" był grill ! Czyli kiełbaski , kaszanka<br>itp . W drugi wieczór zaproponowano atrakcję \"<br>wieczór włoski \" z tzw . cooking show ,<br>polegającym na tym , że każdy gość musiał stać w<br>kolejce za makaronem , w oparach dymu i zapachów<br>pieczonego czosnku , krewetek czy cebuli . Poza<br>tym nic innego do jedzenia nie było . Przy<br>wyjeździe w recepcji nie bardzo mogli rozliczyć<br>nasz pobyt , ciągle coś było dopisywane lub<br>odejmowane , w końcu po tygodniu od pobyty<br>rozliczenie zostało przesłane na maila .<br>Oczywiście wyższe niż oferta jaką dostali śmy<br>przed przyjazdem . Jednym słowem nie polecam tego<br>hotelu !",
           "__label__meta_minus_m"
          ],
          [
           "Organizowalismy z mężem w Hotelu Tajty przyjęcie<br>weselne i poprawiny . Dwie gwiazdki za lokalizację<br>i piękne widoki . Niemniej jednak reszta , a<br>zwłaszcza obsługa hotelu pozostawia wiele do<br>życzenia . Wódka nie była roznoszona na stoły po<br>godzinie 1 : 00 , goście musieli sami chodzić do<br>lodówek i sobie brać . Ciepłe posiłki serwowane na<br>stół państwa młodych na samym końcu . Na sali nikt<br>na bieżąco nie sprzatal w dniu wesela , a w dniu<br>poprawin nie sprzatano prawie w ogóle . Hotel<br>zostal wynajety w 95 % , a Pani z recepcji robila<br>w niedziele sceny , ze goscie nie oddali kluczy .<br>Ci wlasnie goscie dwie godziny wczesniej oplacili<br>kolejna dobe w hotelu , takze - zero organizacji .<br>Największy niesmak jednak pozostawia sytuacja , w<br>której swiadkowa poprosiła obsługę o pomoc w<br>posprzataniu po jednym z gości . Kazano jej<br>posprzątać samej i powiedziano , że państwo młodzi<br>organizując wesele powinni liczyć się z tym , że<br>ktoś może narozrabiac i sami powinni to posprzątać<br>. Pojawia się zatem pytanie za co zapłacili śmy<br>tyle pieniędzy ? Szczerze odradzam wszystkim<br>chętnym . Widoki nie rekompensują tego jak zostali<br>śmy potraktowani my i nasi goście .",
           "__label__meta_minus_m"
          ],
          [
           "Nie polecam Pani Doktor ! Na podstawie wypisów ze<br>szpitala , w których było napisane obserwacja w<br>kierunku astmy oskrzelowej , bez żadnych<br>dodatkowych badań , tylko osłuchała dziecko ,<br>stwierdziła astmę oskrzelową ! ! Porażka , jak u 2<br>- letniego dziecka , bez żadnych badań<br>laboratoryjnych można stwierdzić coś takiego ? !<br>120 zł wyrzucone w błoto , szukamy kolejnego<br>lekarza .",
           "__label__meta_minus_m"
          ],
          [
           "Pokoje małe , ale odnowione , czyste , codziennie<br>sprzątane . Mały basen , prawie w ogóle nie ma<br>animacji , mimo że podobno obłożenie hotelu 100 %<br>( a to maj ) . Leżaki od rana pozajmowane , nie ma<br>gdzie się położyć przy basenie . Płacili śmy za<br>widok na morze , a dostali śmy widok na miasto i<br>gigantyczny plac budowy . Morze widać z boku , a<br>hotel i Itaka twierdzą , że to przecież widok na<br>morze , choć częściowy ( oczywiście nigdzie nie<br>było to zaznaczone ) . Dramat , nie można wyjść na<br>balkon , prace budowlane w okolicznych budynkach ,<br>ale też w samym hotelu trwają przez cały dzień .<br>Czytali śmy wcześniej opinie o tym , że w hotelach<br>gorzej traktują Polaków oraz że Itaka ma najgorsze<br>pokoje , ale po raz pierwszy na własnej skórze to<br>odczuli śmy . Recepcja hotelu ale też opieka Itaki<br>zupełnie nie jest pomocna - oferowali nam zamianę<br>na pokój z nieco lepszym widokiem , ale dużo<br>mniejszy , a pan z recepcji bez ogródek powiedział<br>, że lepsze pokoje są dla innych gości , nie z<br>Itaki . Jedzenie monotonne , bardzo mały wybór ,<br>choć trzeba przyznać , że w większości smaczne .<br>Ryby czy lubiane przez dzieci gofry znikają z<br>sekundę i potem trzeba długo czekać , aż dołożą (<br>swoją drogą jedna czy dwie amatorskie maszyny ,<br>które robią po 4 małe gofry na raz na taki duży<br>hotel to słabe ) . Poza głównymi posiłkami<br>jedzenie w all inclusive bardzo słabe , napoje i<br>alkohole także . Plaża przy hotelu mała , brzydka<br>i brudna , leżaki oczywiście płatne . Okolica<br>brzydka , samo miasteczko także . Na Zakynthos<br>jest mnóstwo dużo lepszych i tańszych hoteli , na<br>pewno drugi raz tu nie przyjedziemy .",
           "__label__meta_minus_m"
          ],
          [
           "Uwagi , które wypisał em w trakcie pobytu w<br>punktach : * na stołówce kelnerka zabrała talerz z<br>jedzeniem sprzed nosa , a właśnie chciał em coś<br>nabrać * bardzo słaba kawa * jedzenie bez smaku ,<br>monotonne , codziennie prawie wszystko się<br>powtarza , część jedzenia na obiad i kolację była<br>mrożona * płatki jakby były sprzed roku - gumowe ,<br>niechrupiące * Pani w recepcji zamiast po<br>angielsku rozmawiała po rosyjsku lub francusku * w<br>pokoju mieli śmy zakrwawione kołdry , po<br>interwencji w recepcji późnym wieczorem nikt<br>następnego dnia się tym nie zajął * gniazdka w<br>pokoju ulokowane w nielogicznych miejscach * późne<br>śniadanie to po prostu wszystko co zostało z \"<br>normalnego \" śniadania wrzucone na jeden talerz (<br>resztki ) * w okolicy totalnie nic się nie dzieje<br>* basen tylko od 9 : 00 do 18 : 00 * Cuba Libre<br>jest z cytryną , a nie limonką * blisko fajna<br>restauracja z „ normalnymi \" , \" polskimi ” cenami<br>* bułki świeże , smaczne , ale mały wybór pieczywa<br>* jednego dnia na obiad bądź kolację był kurczak<br>tikka masala , który w życiu nie miał z tym nic<br>wspólnego - było to poszarpane mięso z udek z<br>kurczaka w zalewie , która miała smak i<br>konsystencję jak pomieszanie rosołu z zupą<br>pomidorową , strasznie słabe . . . * frytki czasem<br>były w porządku , a czasami tak niedobre , że w<br>życiu by m nie pomyślał , że da się tak zepsuć<br>frytki * all inclusive bardzo ubogie , w ciągu<br>dnia bufet otwarty praktycznie tylko w godzinach<br>obiadu , w czym nie widzę większego sensu * napoje<br>z dystrybutorów strasznie zalatywały chemią ,<br>zwykłe soki były naprawdę bardzo słabeGeneralnie<br>nie polecam !",
           "__label__meta_minus_m"
          ],
          [
           "Prawdopodobnie w okresie letnim jest tam ładnie i<br>jest czyste powietrze . był em w budynku \" B \" w<br>grudniu 2016 czyli niedawno . ża oknem można<br>popatrzeć na dymy z domów na drugiej stronie<br>doliny . Kiedy jest niż atmosferyczny dymy z<br>miasta zaścielają cały park . Kiedyś / 100 lat<br>temu był zakaz ogrzewania domów węglem tylko<br>koksem . Teraz po stu latach polskiego<br>gospodarowania takiego nakazy nie ma i każdy pali<br>czym chce . Wydział ochrony środowiska jest u<br>Urzędzie miejskim - ale tylko jest - być może<br>zawijają cukierki w sreberka . Bogate miasto ma<br>dużo dochodów z Zieleńca ale dbają o nazwę Zdrój .<br>Powietrze fatalne , woda w kranach mocno<br>chlorowana śmierdząca , tak jak we Wrocławiu . Za<br>to miasto sobie życzy 3 , 90 zł za jeden dzień<br>pobytu . W tym mieście nawet nie przystanę na<br>minutę na parkingu .",
           "__label__meta_minus_m"
          ],
          [
           "W zasadzie przez całą wizytę Pani doktor<br>wklepywała coś do komputera i nic się nie odzywała<br>. Siedziała m i patrzyła m w ścianę , czekając aż<br>wszystkie wyniki badań zostaną przepisane do<br>komputera . Mam Hashimoto od 2 lat , jakąś tam<br>wiedzę na temat tej choroby już mam , zdziwiła m<br>się więc gdy Pani doktor uznała TSH = 7 za \" nieco<br>podwyższone , bo norma jest do 4 \" , zwłaszcza że<br>mam 27 lat i być może za niedługi czas będę<br>planowała dziecko . W taki sposób mogła by m je<br>szybko stracić , a chyba nie o to chodzi . . .<br>Chciała żeby m kilka miesięcy brała naprzemienną<br>dawkę leku , na co się nie zgodziła m . Jedynym<br>plusem było badanie USG podczas wizyty , które raz<br>na jakiś czas się przydaje . Dodatkowy niesmak<br>wzbudziło to , że w aptece zapłaciła m za lek 3<br>razy więcej niż dotychczas , bo Pani doktor<br>wspaniałomyślnie wypisała receptę 100 % płatną ,<br>wiedząc że opakowanie 2x50 tabletek Euthyroxu jest<br>refundowane i zapłaciła by m za nie około 6 zł jak<br>do tej pory . Polecam jeśli ktoś chce iść tylko po<br>receptę , ale jeśli ktoś ma zamiar zadawać pytania<br>i chce uzyskać na nie odpowiedź , to trzeba szukać<br>innego lekarza , bo Pani doktor nie jest zbyt<br>rozmowna .",
           "__label__meta_minus_m"
          ],
          [
           "Hostel w remoncie więc ogólny bajzel . Pełno kurzu<br>i hałas niemiłosierny . Robotnicy kręcą się<br>wszędzie wiec generalnie nawet pod oknami ich nie<br>brakuje . Obsługa hostelu , a raczej właściciel .<br>. . . delikatnie mówiąc ma coś z głową . .<br>Bezczelność i nieżyczliwość w stosunku do gości to<br>delikatne określenia tego , w jaki sposób są oni<br>traktowani . Nigdy nie zabierajcie tam wycieczki<br>szkolnej bo o zapewnieniu bezpieczeństwa dzieciom<br>nie ma w ogóle mowy . Dzieci dostają pokoje daleko<br>od nauczycieli , śpią na małżeńskich łożach , a<br>właściciel nie potrafi zrozumieć dlaczego<br>nauczyciele robią problem z zakwaterowaniem : )<br>szok ! PODSUMOWUJĄC . . . OMIJAJCIE SZEROKIM<br>ŁUKIEM !",
           "__label__meta_minus_m"
          ],
          [
           "Absolutnie nie . Mój problem z którym postanowiła<br>m przyjść do tego lekarza ciągnął się od roku .<br>Natrafiła m na jego gabinet z polecenia i już<br>chyba nigdy nie posłucham nikogo w sprawie lekarzy<br>. Kiedy w końcu udało mi się umówić na pierwszą<br>wizytę , co i tak nie było łatwe ( już przez<br>telefon musiała m sprecyzować na czym ma polegać<br>wizyta - trochę bez sensu , wolała by m żeby<br>lekarz sam stwierdził co mi jest a nie bazował na<br>moich domysłach ) była m całkiem zadowolona .<br>Lekarz wydawał się być profesjonalny , bardzo miły<br>i uprzejmy . Z każdą kolejną wizytą moja pewność<br>co do jego kompetencji malała . Już na pierwszej<br>wizycie dostała m leki antydepresyjne oraz miliony<br>maści ( w tym maść przeciwbólową ) - doktor<br>stwierdził wulwodynię , chociaż nie była m pewna<br>czy słuchał tego , że jej objawy nie pokrywają się<br>z moimi . Ale dobra , uznała m że pewnie ma racje<br>. Niestety z czasem mój stan się nie polepszał a<br>wręcz przeciwnie - było coraz gorzej . Z każdą<br>następną wizytą ( a nie ukrywajmy , wizyty do<br>najtańszych nie należą ) słyszała m \" Pani jeszcze<br>nie odczuwa poprawy ale ja już ją widze . ( . . .<br>) Tylko zwiększymy dawkę leków . ( . . . ) Przy<br>następnym ataku bólu prosze smarować się maścią<br>przeciwbólową . \" W końcu zaczęlam mieć czegoś<br>takiego dosyć . Faszerowanie się lekami i tylko<br>tymczasowe unikanie bólu maścią nie rozwiąże<br>problemu . Postanowiła m wybrać się do innego<br>lekarza . Pani doktor u której była m stwierdziła<br>, że należy udać się do urologa , gdyż w okolicy<br>warg sromowych przy cewce moczowej mam torbiel ,<br>którą powinien zobaczyć specjalista . Aktualnie<br>jestem po dwóch zabiegach próby usunięcia torbieli<br>, która nawraca w postaci ropnia . Istnieje szansa<br>na operacje . Lekarz do którego się z tym zgłosiła<br>m powiedział , że problem był zbyt długo nie<br>leczony i był w ciężkim szoku , gdy usłyszał o<br>metodzie leczenia tego otóż lekarza . Jestem<br>bardzo rozczarowana i zła , że zmarnowała m tyle<br>pieniędzy , czasu i oczywiście zdrowia .<br>Zastanawiam się , czy nie wrócić tam jeszcze raz i<br>nie wyjaśnić tego dlaczego nie zostało podjęte<br>leczenie adekwatne do choroby . Zrażona bardzo nie<br>polecam nikomu , nawet na zwykłe wizyty kobiet bez<br>większych problemów ginekologicznych .",
           "__label__meta_minus_m"
          ],
          [
           "Ostrzegam wszystkich przed tym obiektem . W lipcu<br>2014r miałem tam zarezerwowane trzy pokoje z<br>prywatnymi łazienkami na jedną noc . Hotel wybrał<br>em jako miejsce do noclegu powracając z południa<br>Europy do Polski . Zależało mi by się ukąpać ,<br>zjeść kolację i się wyspać po kilkunastogodzinnej<br>podróży samochodem . Przyjechał em około 20 - 21 .<br>Przed otrzymaniem kluczy musiałem dokonać opłaty<br>za dokonaną rezerwację 3 pokoi zgodnie z ceną<br>podana na Booking-u . Po zapłaceniu barmanowi<br>zaprowadzono Nas do pokoi , droga prowadziła<br>wąskimi schodami na piętro - schody wyłożone<br>wykładziną dywanową która była brudna i strasznie<br>cuchnęła . Okazało się iż czekał na nas jeden<br>pokój z łazienką i dwa pokoje z łazienką wspólną<br>dla całego pensjonatu . Łazienka wspólna brudna .<br>Zaczął em składać reklamację . Powiedziano nam że<br>nie ma innych pokoi i mamy poczekać na właściciela<br>. Po ponad godzinie czekania okazało się iz ów<br>barman zapomniał języka angielskiego , stał się<br>ironicznym cwaniaczkiem i odwracał się plecami do<br>osoby , która próbowała podjąć z nim rozmowę . Na<br>wyraźne i stanowcze żądanie rozmowy z właścicielem<br>, pojawił się on przed 23 . 00 . Zażądał<br>potwierdzenia rezerwacji w formie papierowej i nie<br>respektował wersji elektronicznej . Dalsze próby<br>wyjaśnienia zlej rezerwacji nie przynosiły<br>rezultatu . Byli śmy zmęczeni po 18 godzinach<br>jazdy samochodem a przed nami jeszcze 600km do<br>domu od wczesnych godzin rannych . Właściciel nie<br>zaproponował jakiegokolwiek alternatywnego<br>rozwiązania i rekompensaty , nie otrzymali śmy<br>nawet rachunku . Przed północą nie było sensu<br>szukać innych miejsc noclegowych . Położyli śmy<br>się spać . Wielokrotne reklamacje przez Booking<br>nie przynoszą jakiegokolwiek rezultatu -<br>właściciel zaprzecza swojej pomyłce . Ewidentnej<br>pomyłce ponieważ w pensjonacie nie ma 3 pokoi z<br>łazienkami . Są tylko dwa takie pokoje ale opłaty<br>pobrał za trzy pokoje z łazienkami . Przestrzegam<br>wszystkich przed tym obiektem . Wokół jest wiele<br>pięknych pensjonatów ale to zobaczyli śmy dopiero<br>rankiem wyjeżdżając z tego miasteczka .",
           "__label__meta_minus_m"
          ],
          [
           "Nigdy wiecej tego hotelu . Brudny zarowno w<br>pokojach jak i na calym obiekcie . Jedzenie to<br>resztki z posilkow brak urozmaicenia a co gorsza<br>odpowiedniej ilosci i higieny . Pakiet byl kupiony<br>przez popularna strone z ofertami turystycznymi .<br>Basen maly i brudny . zdecydowanie nie polecam",
           "__label__meta_minus_m"
          ],
          [
           "Będąc przejazdem na trasie w końcu zatrzymał em<br>się z ciekawości . Chcieli śmy zjeść coś ciepłego<br>na szybko i za to plus . Trzy zupy do wyboru w<br>kociołkach podgrzewanych jak na weselu . Mimo<br>wszystko smaczne i czuć było że robione tego<br>samego dnia . Minusy to na pewno wygląd tej sali<br>restauracyjnej , to że przy barze za ścianą<br>kobieta paliła papierosa ( wewnętrzne regulacje ?<br>) i czekanie bez końca na obsługę , stojąc przy<br>barze czekałem aż ktoś mnie zauważy . Minus<br>również za cenę . Mimo że przy trasie to jednak<br>jest to Rymań a nie Warszawa . 29 zł za dwie<br>gotowe zupy i kilka kromek chleba ( mimo iż pyszny<br>z własnego wypieku ) to trochę za dużo . Spróbował<br>em , dziękuję ale już więcej się nie zatrzymam .",
           "__label__meta_minus_m"
          ],
          [
           " W ciągu trzech lat , korzystając z ponad 4 , 5<br>mln euro środków unijnych , stworzyli śmy ośrodek<br>naukowy - to dziesięć zespołów współpracujących ze<br>sobą ściśle w badaniach nad zdrowym starzeniem .<br>Dzięki tym pieniądzom mogli śmy poprawić jakość<br>naszych badań naukowych , co uzyskali śmy poprzez<br>międzynarodową wymianę naukową i zainwestowanie<br>ponad 1 , 5 mln euro w nowoczesny sprzęt . Program<br>umożliwił też promocję naszych badań naukowych -<br>zorganizowali śmy dziesięć konferencji<br>międzynarodowych z udziałem kilkuset wykładowców z<br>całego świata - podkreślił koordynator Centrum<br>prof . Marek L . Kowalski . Centrum Badań nad<br>Zdrowym Starzeniem ( ang . Healthy Ageing Research<br>Centre , HARC ) , stworzone przy Uniwersytecie<br>Medycznym w Łodzi , jest ośrodkiem naukowym ,<br>badawczym i propagującym wiedzę na temat szeroko<br>pojętej problematyki starzenia się . W ramach<br>projektu , w którym w latach 2013 - 2016<br>uczestniczyło 21 partnerów zagranicznych ,<br>stworzono m . in . wirtualne laboratorium<br>prowadzące zaawansowane badania nad układem<br>immunologicznym oraz pierwszy w Łodzi biobank , w<br>którym są przechowywane próbki służące badaniom<br>naukowym .        __label__meta_zero W Chorzowie<br>Pani Doktór przyjmuje w piątki od 17 , ale<br>najlepiej zadzwonić tam i się umówić na kontretną<br>godzinę ( czasem trzeba dzwonić kilka razy jak<br>nikt nie odbiera telefonu , bo ta mała poradania<br>czynna jest tylko jak jakiś lekarz akurat<br>przyjmuje ) . Wizyta w Chorzowie kosztuje 40 albo<br>50 zł ( nie pamiętam dokładnie , ale wydaje mi się<br>, że w tym roku podrożała z 40 na 50 zł ) . Pani<br>Doktór przyjmuje też prawatnie gdziś w Katowicach<br>( w okolicach Słonecznej Pętli ) w czwartki<br>popołudniu , ale tam wizyta jak się kiedyś<br>dowadywałam kosztowała 80 zł .<br>__label__meta_zero Ryzyko zawału u pacjentów<br>cierpiących np . na chorobę wieńcową ( szczególnie<br>groźna , a wiele osób nie wie , że ją ma ) ,<br>otyłych , mających wysokie ciśnienie wzrasta ,<br>jeśli prowadziły one siedzący tryb życia , a<br>aktywność fizyczną rozpoczynają nagle i jest ona<br>intensywna . Należy zadbać o odpowiednią<br>rozgrzewkę i stopniowo zwiększać aktywność . Ważne<br>jest spokojne zakończenie ćwiczeń , ponieważ do<br>zawału często dochodzi nie tylko w czasie wysiłku<br>, ale i po jego zakończeniu . Pacjenci -<br>zaznaczyła lekarka - nie powinni podejmować<br>aktywności fizycznej , gdy jest zbyt ciepło .<br>Bezpośrednio po wysiłku niebezpieczne jest<br>korzystanie z sauny oraz branie gorącego prysznica<br>. Zgubne mogą się też okazać ćwiczenia , gdy jest<br>niska temperatura powietrza , i w górach . Przed<br>wejściem na stok należy odczekać jakiś czas , aby<br>organizm przyzwyczaił się do nowej temperatury i<br>ciśnienia . __label__meta_zero Pani doktor bardzo<br>jest dobrym specjalistom . Wiem , bo sama jestem<br>jej pacjentem od kilku lat . I naprawde mi pomaga<br>. Jestem na lekach i dzięki nich , nie mam żadnych<br>ataków epilepsji i funkcjonuje normalnie . Zaleca<br>mi duzo badan do wykonania ale to dla mojego dobra<br>. Naprawdę polecam tą Panią doktor i jestem z<br>rodzicami starsznie z niej zadowolona ; )<br>__label__meta_plus_m Zainspirowana poniższymi<br>postami piszę swoje zdanie . PROSTE , OCZYWISTE<br>PROBLEMY z kolanami faktycznie dr Żbikowski<br>rozwiązuje od ręki . Wówczas i diagnoza nie jest<br>trudna i zabieg i zainkasowanie kilku tys . Z<br>NIEOCZYWISTYMI PRZYPADKAMI JAK MÓJ NIE RADZI SOBIE<br>. DZIĘKI  doktorowi \" Żbikowskiemu mój problem z<br>kolanem nie został rozpoznany w porę , a był<br>oczywisty dla lekarzy z Bielska Białej ( szpital<br>Św . Łukasza ) , co potwierdził rezonans . I<br>właśnie dzięki doktorowi mój okres powrotu do<br>sprawności zamiast trwać rok ( wg lekarzy z Bieska<br>) przedłużył się do 4 lat . Tak więc życzę dużo<br>zdrowia po wizytach w doktora .",
           "__label__meta_minus_m"
          ],
          [
           "Pan Dr nie zrobil na mnie dobrego wrazenia .<br>Ewidetnie spieszyl sie i chcial tylko odwalic<br>wizyte , mimo ze byla prywatna . Mialam problem z<br>gardlem , to pan dr to zlekcewazyl , ze nic mi nie<br>jest . Dziwne ze kilka dni pozniej rozchorowalam<br>sie jeszcze bardziej . . . jedyne co to<br>zasugerowal operacje wyciecia migdalkow . Bylam u<br>innego lekarza i sie okazalo ze przyczyny bolu<br>gardla sa gdzie indziej i migdalki mam jak<br>najbardziej w porzadku . Dodatkowo zasugerowal mi<br>jeszcze operacje przegrody nosa gdzie takowa nie<br>jest mi potrzebna bo nie mam wiekszych problemow z<br>oddychaniem . .",
           "__label__meta_minus_m"
          ],
          [
           "Nie twierdzę , że Pani dr jest złym lekarzem ale<br>ja jestem zawiedziona . Przyszła m do niej z<br>alergią skórną i mimo , że widziała m , iż Pani dr<br>kompletnie nie ma pomysłu co to może być i jak to<br>leczyć zapisała mi jakieś kremy ( w zasadzie nie<br>lecznicze tylko nawilżające ) i poleciła zakup<br>rękawic na noc z internetu . Co najgorsze<br>osłuchała mnie mimo , iż nie zgłaszała m żadnych<br>dolegliwości związanych z kaszlem itp . Skasowała<br>oczywiście normalnie zamiast przyznać , iż na<br>problemie się nie zna i polecić innego lekarza .",
           "__label__meta_minus_m"
          ],
          [
           "Byli śmy w tym apartamencie w lutym 2014 roku sam<br>apartament jest ok ale nie do końca wyposażony<br>brak jest czajnika na wodę brak pokrywek do<br>garnków ale największym problemem jest to że jest<br>kuchenka elektryczna czteropalnikowa z<br>piekarnikiem ale niestety można korzystać tylko z<br>jednego palinka albo piekarnika w innym wypadku<br>wyłączają się korki a wówczas musicie Państwo udać<br>się do właścicielki która jest bardzo nie miła<br>oczywiście dostali śmy opiernicz , że za dużo<br>rzeczy przywieźli śmy i dlatego wysadza korki .<br>Sytuacja się kilkakrotnie powtarzała w końcu nie<br>korzystali śmy z kuchni bo nie było innej<br>możliwości . Własciciele nie pozwalają otwierac<br>okien w apartamentach ! ! ! ! co jest masakra<br>szczególnie jak na początku chcieli śmy sami<br>gotować a właczenie wyciągu powodowało wyłączenie<br>światła . Kolejny duzy problem to ogrzewanie które<br>przez tydzień czasu było właczone z dwa razy i to<br>przez kilka godzin nie schło nic reczniki<br>śmierdziały stęchlizną ubrania narciarskie też nie<br>do końca mogły się wysuszyć . Suszarnia na buty to<br>niestety kolejny minus tego osroda owszem jest ale<br>nie ogrzewana buty nie wysuszone po tygodniu<br>śmierdziały wilgocią masakra . W ofercie Tui<br>napisane było , że jest łacze internetowe wszystko<br>się zgadza ale dodatkowo płatne 15 euro i znowu<br>mała niespodzianka bo pomimo opłaty prawie nie<br>działał na pytanie dlaczego nie mam neta usłyszeli<br>śmy ze tak tu już jest . W ośrodku znajduje się<br>basen no może basenik ale smród chloru jest nie do<br>wutrzymania az piecze w oczy na wejściu do budynku<br>dlatego tez odpuścili śmy sobie wizytę w tym super<br>spa . Na koniec przejdziecie Panstwo test białej<br>rękawiczki przeprowadzony prze właścicielkę<br>zostaną przeliczone wszystkie sztuce , kubki ,<br>talerze radę od razu zgłaszać np . nie do końca<br>czysta łaziekę czy brudne talerze bo takie się<br>zdarzają brudno na podłodze bo na koniec i tak<br>będziecie musieli sami to sprzątać . Jak<br>przyjechali śmy w łazience był kosz na sieci z<br>workiem , do którego wrzucili śmy 10 płatków<br>kosmetycznych przy wyjeździe wyciagnelismy worek<br>pod spodem kosz był ohydnie brudny włascicielka<br>powiedziała ze jak tego nie umyjemy to obciąży nas<br>50 euro za sprzątanie to po prostu jedna wielka<br>kpina . Co roku jezdzimy do Austrii to nasz<br>pierwszy pobyt we Włoszech ale takiej porażki nie<br>przeżyli śmy nigdzie . Miał to być super pobyt ale<br>niestety nie fajnie jeździ się z mokrymi<br>rękawiczkami czy butami ! ! ! ! ! Naprawdę nie<br>polecam szkoda nerwów",
           "__label__meta_minus_m"
          ],
          [
           "Pierwszy minus za niemiłą obsługę . Przyjechał em<br>w piątek i chciał em na parkingu pod hotelem<br>zostawić samochód , a na nocleg dojechać rowerem w<br>sobotę . Bardzo niemiła pani z obsługi zaczęła<br>tłumaczyć , że zwykle parking jest pełny i nie<br>mogę zostawić auta ( parkingi dolny i górny były<br>prawie puste ) . Uparł em się jednak , auto<br>zostawił em i taki sam pusty parking zastał em w<br>sobotę . Pokój z wyjściem na taras , bardzo ładny<br>, super klimat , ładnie urządzony , łoże<br>małżeńskie wygodne , wszystko super , tylko , że<br>nie można się wyspać , a nawet chwili odpocząć ,<br>bo za oknem huczą niemiłosiernie wentylatory od<br>klimatyzacji . No i kilka słów o tarasie , bo<br>pomimo , że był sierpień , to na tarasie w ogóle<br>nie posprzątane , brudne stoliki , brudne krzesła<br>, brudny taras , pajęczyny na każdym rogu . Za te<br>pieniądze , w tym hotelu , nigdy więcej . . .",
           "__label__meta_minus_m"
          ],
          [
           "Rzeczywistość rozmija się ze zdjęciami z oferty ,<br>łazienki są brudne , korytarze śmierdzą brudną<br>wykładziną . Hotel połączony z hostelem , dostali<br>śmy pokój hostelowy , z wyjściem na brudną małą<br>przestrzeń ograniczoną murami i jakimiś<br>urządzeniami wentylacyjnymi , w dodatku bez<br>ciepłej wody . Po interwencji włączono ciepłą wodę<br>, a po trzech nocach przeniesiono do pokoju na 2<br>piętrze . Pokój o trochę lepszym standardzie ,<br>chociaż urządzenia w łazience zdążyły się już<br>częściowo zużyć i nie są dokładnie myte . Niestety<br>upał ( pokój bezpośrednio pod dachem ) i brak<br>odpowiedniej wentylacji ( tylko okno dachowe w<br>łazience , pokój miał okienko zamurowane<br>luksferami ) nie pozwalał spokojnie się wyspać ,<br>ochładzało się dopiero około 6 rano . Obsługa jest<br>miła , ale naprawdę poczuła m się oszukana<br>zderzeniem z rzeczywistością . Wolała by m<br>dopłacić więcej , ale dostać uczciwą ofertę , a<br>nie wyretuszowane zdjęcia .",
           "__label__meta_minus_m"
          ],
          [
           "Jak zajechalismy do hotelu , z zewnątrz i w<br>wewnątrz na pierwszy rzut oka robi fajne wrażenie<br>. Ale nie do konca tak bylo . W skrócie : jedna<br>zasłonka nie zasłania całego okna , na gorącą wodę<br>rano pod prysznicem trzeba trochę poczekać ,<br>jedzenie z karty jeśli jest dostepne to jest<br>poniżej jakichkolwiek standardów ( nigdy nie jadła<br>m koktailu z krewetek w sosie keczupowo -<br>chrzanowym ) , kręgle ledwo działają , woda w<br>basenie taka zimna , że nie da się wejść , jeśli<br>chodzi o jacuzzi to duże , szkoda tylko , że<br>działała jego jedna trzecia . Ogólnie bardzo drogo<br>, jeśli jednak miał byc standard * * * * to ceny<br>przystępne , szkoda , ze standard był raczej * .<br>Nie polecam .",
           "__label__meta_minus_m"
          ],
          [
           "Miała m zlecona kolonoskopie i została m<br>skierowana do tego Pana . . W prywatnym gabinecie<br>przepisał mi leki , podał numer do siebie i<br>opowiedział na czym polega kolonoskopia i obiecał<br>, że zrobi to na znieczuleniu . . gdy nadszedł<br>dzień zabiegu i weszła m do gabinetu Pani<br>pielęgniarka kazała mi się przebrać w spodenki do<br>kolonoskopi co też uczynilam . Położyła m się na<br>stole do zabiegu i Pan doktor przeprowadził mi<br>kolonoskopie bez znieczulenia . . . Wolała by m<br>rodzic dziecko niż przeżyć to jeszcze raz .<br>Zwijalam się z bólu na stole a pielęgniarka mnie<br>przytrzymywala , żeby m nie uciekła . . . po całym<br>zabiegu pan doktor poklepal mnie po głowie i<br>powiedział że już po a po leki żeby m przyszła do<br>gabinetu ( ok . 200 zł wizyta ) . . . nie polecam<br>. Trzeba było mnie poinformować , że za<br>znieczulenie musiała by m dopłacić bo NFZ nie<br>refunduje go . . .",
           "__label__meta_minus_m"
          ],
          [
           "Cóż , świetnie położony hotel , rewelacyjne SPA i<br>. . . nic poza tym . Hotel jedzie na opinii , jaką<br>wyrobił sobie zaraz po otwarciu . Bardzo mocno<br>widać brak dobrego managera , który potrafił by<br>poprowadzić hotel . Klient jest tu mocno na drugim<br>miejscu , niestety . Hotel NIE JEST przystosowany<br>dla niepełnsprawnych ! ! ! tudzież dla rodzin z<br>dziećmi - aby zejść na dół do fokarium czy zoo<br>mamy dwa wyjścia : albo kilkadziesiąt stromych<br>schodów albo dookoła wsi : ( . ZOO - zaniedbane ,<br>zarośnięte , z wysokiej trawy nie widać mniejszych<br>zwierząt . FOKARIUM - tu widać zaangażowanie osób<br>pracujących . Byli śmy na pokazie karmienia o godz<br>. 18 : 00 - pan prowadzący z ogromnym<br>zaangażowaniem opowiadał i pokazywał umiejętności<br>fok . JAZDA KONNA - niestety tu także brak<br>zaangażowania osób pracujących . RESTAURACJA -<br>brudne sztućce , szklanki , jedzenie monotonne (<br>brakowało chleba ! ! ) czekanie na stolik - jednym<br>słowem kiepsko . SPA - szczerze polecam ! ! ! Brak<br>najmniejszego sklepiku - punktu , gdzie możnaby<br>zakupić podstawowe środki higieniczne , wodę do<br>picia itd . Zostali śmy poinformowani , iż w domku<br>na drzewie , gdzie mieli śmy zakwaterowanie<br>znajduje się barek kawowy i . . . był czajnik i<br>plastikowe kubki . Ani śladu po filiżankach ,<br>kawie , herbacie . Na moje pytanie w recepcji o<br>powyższe usłyszała m , że \" mogę sobie zabrać z<br>restauracji \" - słabo : ( . ( gdy chciała m użyć<br>soli równie osobliwie usłyszała m - prosze sobie<br>poszukać na sali )",
           "__label__meta_minus_m"
          ],
          [
           "Była m dzisiaj u Pana doktora , poprosiła m o<br>skierowanie na podstawowe badanie krwi ale<br>niestety Pan Rafał odmówił . Moja prośba wynikała<br>z tego , ze staramy sie z mężem o dziecko wiec<br>chciała m mieć wyniki pod kontrola . Pan Rafał<br>stwierdził , ze niedawno była m ( owszem 7<br>miesięcy temu ) i ze z takimi wynikami tu cytat :<br>\" mogę dwa porody obskoczyć \" ( bardzo<br>profesjonalna wypowiedz ) . Nie rozumiem decyzji<br>lekarza bo po pierwsze place abonament od 5 lat i<br>bardzo rzadko korzystam z usług , wiec jeżeli chce<br>dwa razy w roku zrobić sobie badania bo planuje<br>dziecko to chyba nie jest nic nadzwyczajnego . Po<br>drugie tyle sie mówi o profilaktyce , ze pacjenci<br>przychodzą za późno . Jestem bardzo bardzo<br>rozczarowana postawa lekarza . GNERALNIE NIE<br>POLECAM ! ! ! ! !",
           "__label__meta_minus_m"
          ],
          [
           "Czuła m się jak na standardowej wizycie na NFZ ,<br>czyli szybko , krótko , pani doktor wie wszystko<br>najlepiej , po co słuchać pacjenta . Wydaje się ,<br>że pani doktor ma wiedzę , nie zamierzam tego<br>kwestionować , jednak przychodząc prywatnie i<br>płacąc za wizytę , oczekuje się nieco innego<br>podejścia . Najważniejsze , co mnie zraziło . . .<br>Siedząc w kolejce , było przede mną kilka osób ,<br>słyszała m dokładnie słowo w słowo o czym pani<br>doktor rozmawia z pacjentem . Kiedy nadeszła moja<br>kolej zdawalam sobie sprawę , że wszyscy będą<br>słyszeli również o moich problemach , tragedia -<br>zero prywatności , czuła m się bardzo<br>niekomfortowo .",
           "__label__meta_minus_m"
          ]
         ],
         "hovertemplate": "Annotation=__label__meta_minus_m<br>t-SNE 1=%{x}<br>t-SNE 2=%{y}<br>sentence=%{customdata[0]}<br>annotation=%{customdata[1]}<extra></extra>",
         "legendgroup": "__label__meta_minus_m",
         "marker": {
          "color": "#636efa",
          "symbol": "circle"
         },
         "mode": "markers",
         "name": "__label__meta_minus_m",
         "orientation": "v",
         "showlegend": true,
         "type": "scatter",
         "x": [
          0.4047442078590393,
          -7.744296550750732,
          -3.9600512981414795,
          3.1214020252227783,
          -5.618132591247559,
          -5.662892818450928,
          0.22044961154460907,
          -8.184887886047363,
          1.5808706283569336,
          -3.917819023132324,
          0.4575786888599396,
          -0.11700087040662766,
          1.6543378829956055,
          -1.8063621520996094,
          6.004431247711182,
          6.2550950050354,
          -7.4953508377075195,
          -1.5060902833938599,
          -3.458716630935669,
          -8.334599494934082,
          -0.02740563452243805,
          -9.168974876403809,
          -3.1641287803649902,
          -1.918863296508789,
          2.2906439304351807,
          -0.6528418660163879,
          -0.5610235929489136,
          -0.8963869214057922,
          0.25330689549446106,
          -2.002143621444702,
          -0.29001012444496155,
          0.13740462064743042,
          -1.662346601486206,
          -3.8035154342651367,
          7.043125629425049,
          2.4458842277526855,
          6.364369869232178,
          0.22872743010520935,
          -0.6225858330726624,
          -3.5561368465423584,
          6.080520153045654,
          0.007979970425367355,
          2.013935089111328,
          1.3542848825454712,
          6.138823986053467,
          -6.559296131134033,
          2.233931303024292,
          3.1672494411468506,
          0.8936812281608582,
          -0.22859111428260803,
          -0.711305558681488,
          1.3846014738082886,
          -4.498445510864258,
          3.2071800231933594,
          5.293859004974365,
          2.842449188232422,
          1.570209264755249,
          -0.3828144967556,
          1.2481907606124878,
          -1.4577842950820923,
          0.23098954558372498,
          -1.2999663352966309,
          2.7893412113189697,
          7.5081892013549805,
          1.9612630605697632,
          -7.348483085632324,
          -5.924172401428223,
          -0.4125003516674042,
          -5.567704677581787,
          -0.5223857760429382,
          1.7577910423278809,
          1.9090243577957153,
          -1.1388431787490845,
          2.1673965454101562,
          -1.394410490989685,
          -1.2868096828460693,
          1.1940988302230835,
          2.6522765159606934,
          -9.64706039428711,
          0.8053385615348816,
          0.6120259761810303,
          2.330634117126465,
          -2.3053295612335205,
          -9.324965476989746,
          -2.9168663024902344,
          2.927670478820801,
          1.180295705795288,
          2.4410436153411865,
          -0.6317004561424255,
          -7.552639484405518,
          -7.7978057861328125,
          4.731399059295654,
          -3.607900381088257,
          -1.0294511318206787,
          -7.237129211425781,
          -0.541523814201355,
          -5.600449562072754,
          0.3175482749938965,
          -8.488800048828125,
          3.4608685970306396,
          -1.9358389377593994,
          5.97780179977417,
          6.786648750305176,
          -3.447397470474243,
          -8.394965171813965,
          -2.9069664478302,
          -7.8768696784973145,
          -2.5814707279205322,
          1.3117153644561768,
          -1.5280230045318604,
          0.5300297737121582,
          -2.5947659015655518
         ],
         "xaxis": "x",
         "y": [
          8.282327651977539,
          -4.24934720993042,
          8.852556228637695,
          4.8321757316589355,
          -10.44965934753418,
          -2.877321243286133,
          9.088435173034668,
          -3.209721803665161,
          -9.190446853637695,
          -1.8054355382919312,
          4.191746711730957,
          11.018774032592773,
          5.732909202575684,
          -4.338474273681641,
          -1.2004543542861938,
          -0.7092728614807129,
          -2.6815202236175537,
          -6.755954265594482,
          -6.211665153503418,
          -2.650667190551758,
          -6.7735137939453125,
          -7.156227111816406,
          -2.4430673122406006,
          -9.186277389526367,
          -4.266376495361328,
          4.092726707458496,
          6.530935287475586,
          7.893186092376709,
          8.147448539733887,
          6.886776924133301,
          -5.201748847961426,
          6.9923272132873535,
          -7.200098514556885,
          5.972970008850098,
          -1.083303689956665,
          7.937956809997559,
          -1.9099980592727661,
          9.752671241760254,
          6.0910258293151855,
          -5.454718589782715,
          -1.6641525030136108,
          -7.9027252197265625,
          -6.524493217468262,
          7.1827216148376465,
          -1.2633631229400635,
          -4.562701225280762,
          6.769665241241455,
          -3.8509411811828613,
          7.904717445373535,
          7.92281436920166,
          5.0579915046691895,
          8.294766426086426,
          -1.2025153636932373,
          -5.654770851135254,
          -2.2071382999420166,
          4.585258960723877,
          2.667764663696289,
          -4.07067346572876,
          9.438630104064941,
          11.801668167114258,
          6.537813186645508,
          -4.791027069091797,
          9.532341957092285,
          -1.039490818977356,
          9.28835678100586,
          -4.388397693634033,
          -3.29697322845459,
          6.913646221160889,
          -11.696319580078125,
          -2.908944845199585,
          4.479940891265869,
          -3.4675276279449463,
          -2.1079587936401367,
          2.895922899246216,
          6.201446056365967,
          -5.758021831512451,
          3.8398241996765137,
          -6.831634521484375,
          -2.2937357425689697,
          -9.419597625732422,
          3.006042003631592,
          6.368215560913086,
          7.060042858123779,
          -5.927818298339844,
          -5.42023229598999,
          8.612890243530273,
          7.969897747039795,
          -5.031546115875244,
          -11.623019218444824,
          -4.949775695800781,
          -3.3859140872955322,
          6.510231971740723,
          -3.380234479904175,
          -4.0168304443359375,
          -6.2422285079956055,
          6.730915069580078,
          -3.7443721294403076,
          7.5200982093811035,
          -4.711731433868408,
          -4.501871585845947,
          -3.6564652919769287,
          5.352202415466309,
          -1.635435938835144,
          6.714533805847168,
          -2.333747625350952,
          -3.729471445083618,
          -8.614880561828613,
          -2.3461897373199463,
          3.6942620277404785,
          -6.645020008087158,
          5.343175888061523,
          7.524540901184082
         ],
         "yaxis": "y"
        },
        {
         "customdata": [
          [
           "dotarli śmy późno wieczorem okazało się , iż Stare<br>Sady są pełne takich pensjonatów , hoteli ,<br>apartamentów jak ten \" Chillout Rooms \"<br>bezpośrednio ulokowane nad jeziorem na szlaku<br>Wielkich Jezior ; kilka minut samochodem od<br>Mikołajek - urocze genialne miejsce . . .<br>wszystkie pokoje z widokiem na jezioro , wnętrze<br>urządzone w stylu skandynawskim , dominujące<br>kolory biały i pastele ; ogólnie w dobrym stylu \"<br>mój gust \" . . . szczególnie super wspominam tutaj<br>podane śniadanie \" na trawie \" przy samym jeziorze<br>; piękna słoneczna pogoda , widok na jezioro i<br>smaczne jedzonko w dużym wyborze ; zapamiętam ten<br>widok na całe życie : )",
           "__label__meta_plus_m"
          ],
          [
           "Pierwszy lekarz ortopeda , który w ogóle mnie<br>zbadał i zdiagnozował . Wcześniejsi , a \" leczę<br>się \" od kilku lat , nawet na mnie nie spojrzeli .<br>Ale były to wizyty w ramach NFZ , co wiele<br>wyjaśnia . Pana doktora wybrała m na podstawie<br>opisów na tym portalu , i po pierwszej wizycie<br>uważam , że to bardzo dobry wybór .",
           "__label__meta_plus_m"
          ],
          [
           "Kolejny pobyt w Novotelu City West . Obsługa<br>nienaganna . Zajmował em dwa pokoje , w tym<br>apartament . Jako członkowi programu<br>lojalnościowego dostarczono przepyszny upominek .<br>Śniadania bardzo przyzwoite . Bardzo dobry<br>rozwiązaniem jest bezpłatny bus kursujący dwa razy<br>dziennie pomiędzy hotelem a centrum miasta . Uwaga<br>! Dla tych , którym dotąd NVT siłą rzeczy kojarzył<br>się z zapachem novotelowskich kosmentyków ; Sieć<br>NOVOTEL wprowadziła nową linię kosmetyków - niby z<br>trawy z Mauritiusa , ale dla mnie osobiście niczym<br>nie różni się od tych z Mercure - dla mnie<br>osobiscie krok w niewłasciwa stronę , zapach<br>nijaki ale to jest subiektywne odczucie i by<br>najmniej nie obciąża ono dyrekcji hotelu . Hotel<br>na pięć z plusem . Na pewno wrócę !",
           "__label__meta_plus_m"
          ],
          [
           "Uważam , że doktor Nawrocki jest wspaniałym<br>specjalistą . Wykrył u mojej mamy raka piersi . W<br>trakcie usg powiedział , że jest to nowotwór<br>złośliwy . Inni lekarze nie postawili diagnozy bez<br>badania histopatologicznego guza . On to<br>stwierdził po samym usg i miał rację . Badania<br>potwierdziły to co powiedział . Była m również na<br>usg ciąży - dwukrotnie . Tak jak powiedział<br>wszystko było w porządku , płeć też się sprawdziła<br>: ) Polecam wszystkim . Dla zainteresowanych nr<br>telefonu 602765825 , rejestracja tylko w<br>poniedziałki od 10 . 00 do 11 . 00 . Ciężko się<br>dodzwonić , ale można : )",
           "__label__meta_plus_m"
          ],
          [
           "Trafili śmy do B & B przypadkiem i bardzo żałujemy<br>, że spędzili śmy tutaj jedynie dwie noce .<br>Chętnie wrócimy na dłużej ! Czekał na nas czysty ,<br>komfortowy , stylowo urządzony pokój z aneksem<br>kuchennym . W samym hotelu cisza i spokój ,<br>naprawdę przyjemnie się spało . Jednocześnie<br>świetna lokalizacja , można się wybrać spacerkiem<br>w różne zakątki Warszawy . Śniadania nie tylko<br>były pyszne , ale też odbywały się w przemiłej<br>atmosferze , gdyż wspólny stół sprzyja<br>nawiązywaniu kontaktów . Również obsługa była<br>bardzo sympatyczna i pomocna . Miejsce o<br>wyjątkowej atmosferze i doskonałych warunkach !",
           "__label__meta_plus_m"
          ],
          [
           "Rewelacyjny ! Nie miała m nic do zarzucenia mojemu<br>wyglądowi , zanim rozpoznano u mnie raka piersi .<br>Po mastektomii nie wyobrażała m sobie dalszego<br>funkcjonowania . Dziękuję Panie Doktorze za<br>przywrócenie mi chęci do życia . Piersi prezentują<br>się lepiej niż kiedykolwiek przed chorobą . Dr<br>Dmytrzak jest profesjonalistą w każdym calu ,<br>artystą pośród rzemieślników . Polecam .",
           "__label__meta_plus_m"
          ],
          [
           "Cudowny hotel w centrum miasta . Wystarczające<br>pokoje z swietnie wyposażona łazienka . Czysto ,<br>schludnie , bardzo wygodne łóżka . Bliska<br>odległość do głównych zabytków miasta . Dobry ,<br>pomocny personel . Prosili śmy o 2 pokoje na tym<br>samym pietrze i tak było . Byli śmy bardzo<br>zadowoleni z pobytu w hotelu . Ze śniadań nie<br>korzystali śmy ale polecamy rewelacyjna<br>restauracje hotelowa i własny browar . Piwo<br>pierwsza klasa .",
           "__label__meta_plus_m"
          ],
          [
           "Małe info dla zawiedzionych \\ \" pacjento -<br>turystów \\ \" : może pomylili ście specjalistów ( ?<br>) Karmicie się informacjami z różnych for<br>internetowych , stawiacie sobie wzajemnie diagnozy<br>i oczekujecie że \\ \" dobry \\ \" lekarz pownien<br>przyklepać Wam Wasze przypuszczenia . Tak , jestem<br>pacjentem dr Daroszewskiego od dłuższego czasu i<br>czytając niektóre wpisy nie mogę wyjść ze<br>zdumienia . Może to konkurencja robi czarny PR .<br>Na wizyty chodzę zarówno prywatnie jak i na NFZ w<br>klinice i nie poczuł em się nigdy \\ \" olany \\ \" ,<br>a muszę przyznać że jestem dość skomplikowanym<br>przypadkiem i często zadaję głupie bądź irytujące<br>pytania . Kilka pobytów w szpitalu i zawsze<br>trafione leczenie , a co najważniejsze -<br>poprzedzone drobiazgową diagnostyką .<br>Profesjonalizm i stoicki spokój - a tego należy<br>oczekiwać chyba od specjalisty . Jeśli szukali<br>ście kogoś do poklepywania po plecach przy każdym<br>napięciu przedmiesiączkowym , andropauzie lub<br>menopauzie to poszukajcie psychologa .",
           "__label__meta_plus_m"
          ],
          [
           "To jest lekarz z powołania , który wysłucha i<br>poradzi . Oprócz dużej wiedzy , posiada niezwykłà<br>wrażliwość na drugiego człowieka . Najlepszy<br>lekarz , z którym miała m do czynienia w moim<br>życiu , to jest poprostu bardzo dobry człowiek ,<br>który kieruje się sercem , być Jego pacjentem to<br>zaszczyt ! Mogę polecić Doktora z czystym<br>sumieniem ! ! ! ! ! !",
           "__label__meta_plus_m"
          ],
          [
           "Cudowny lekarz jestem bardzo wdzięczna za to co<br>zrobił . Najpierw trafiła m do Sokołowa<br>Podlaskiego gdzie lekarze zrobili mi rezonans tam<br>się okazało ze mam bardzo dużą przepuklinę która<br>naciska na rdzeń kręgowy moja prawa ręka robiła<br>się niewładna . Tam stwierdzono ze nie da się już<br>tego zoperować i muszę się z tym pogodzić ze w<br>najbliższym czasie będę jeździ na wózku<br>inwalidzkim ( mam 23lata ) . Dzięki mojemu<br>wielkiemu szczęściu trafiła m w ręce Pana dr Pawła<br>Wichrowskiego który bardzo szybko mnie zoperował<br>4h po zaczęła m chodzić nic mnie nie boli blizna<br>jest prawie nie widoczna . Mogę tylko powiedzieć<br>ze nie mogła m trafić w lepsze ręce . Jest to<br>lekarz który pracuje rękoma Boga .",
           "__label__meta_plus_m"
          ],
          [
           "Pani doktor Karolina Kusnierek jest w moich oczach<br>lekarzem stomatologiem z powolania . Bardzo<br>dokladne ogledziny uzebienia poprzedzajace<br>jakiekolwiek prace , dokumentacja fotograficzna ,<br>wykonanie zdjec rentgenowskich - wszystko to mialo<br>na celu upewnienie sie , co do kwalifikacji<br>ktoregos z zebow do ewentualnego leczenia , a<br>takze pozwolenia pacjentowi na zobaczenie na<br>wlasne oczy , co niepokoi p . doktor . Bardzo<br>spodobalo mi sie podejscie pani Karoliny do<br>korekcji protetycznych , ktore byly glownym<br>powodem mojej ostatniej wizyty w gabinecie . Pani<br>doktor slucha najpierw pacjenta , pyta jaki efekt<br>estetyczny , bylby dla niego satysfakcjonujacy , a<br>potem dokladnie i rzetelnie informuje , jak<br>wyglada to od strony medycznej i funkcjonalnej -<br>ksztalt i wielkosc zebow pieczolowicie dobiera do<br>zgryzu pacjenta . Zawsze wybiera rozwiazania<br>najmniej inwazyjne i tym samym sa one najczesciej<br>dla pacjenta milym zaskoczeniem , jesli chodzi o<br>koszta . O koszcie leczenia pani doktor zawsze<br>informuje na pierwszej wizycie i sa to maksymalne<br>kwoty , jakie pacjent moze poniesc - bywa , ze<br>ulegaja one redukcji - dlatego kazdy moze<br>zaplanowac te wydatki , bez zbednego stresu .<br>Polecam p . doktor Karoline Kusnierek wszystkim ,<br>ktorzy troszcza sie o swoj usmiech i poszukuja<br>profesjonalisty , ktory w najlepszy sposob potrafi<br>sie nim zaopiekowac .",
           "__label__meta_plus_m"
          ],
          [
           "Jestem ogromną fanka Doktora Piotrowiaka operowal<br>moja mama już 3 razy . Schudła 44 kilo w wieku 58<br>lat i skóra wisiała jej wszędzie Doktor wyczarowal<br>jej sylwetkę na nowo : - ) ) Jest teraz dzięki<br>niemu szczesliwsza kobieta . Ja osobiście miała m<br>plastyke brzucha u doktora wraz z odsysaniem<br>boczkow jestem mega zadowolona Podejście Doktora<br>jest bardzo profesjonalne To wspaniały lekarz i<br>człowiek wszystko potrafi wytłumaczyć w<br>zrozumiałym języku dla pacjenta . Na każde pytanie<br>odpowiadał wyczerpujaco , Po operacji kontakt<br>telefoniczny rewelacja Czulysmy się z mamą zawsze<br>bezpiecznie A zaufanie do lekarza i kontakt to<br>chyba jedna z najważniejszych rzeczy przy tego<br>typu operacji . Również korzystam regularnie z<br>zabiegów typu botox i powiększanie ust u Doktora i<br>tu również jest czarodziejem Robiła m już<br>wcześniej takie zabiegi u innych lekarzy i nikt<br>nigdy nie umiał mi tak ładnie brwi podnieść<br>botoxem bez efektu opadnietych powiek Pan Doktor<br>jest w tym mistrzem no i usta pieknee naturalne<br>takie jak zawsze chciała m",
           "__label__meta_plus_m"
          ],
          [
           "Obiekt położony na uboczu , z dala od zgiełku<br>głównej trasy przez Spałę . Pokój w standardzie<br>normalnym , czysty i schludny . Bardzo przyjemny<br>personel . Pokój był ze śniadaniem i tylko dla<br>mnie jedna z kucharek przyjechała wcześniej , by<br>śniadanie podać w bardzo wczesnej godzinie . To na<br>duży plus . Obiekt z dużym parkingiem oraz w<br>otoczeniu lasu o przepięknym zapachu . Naprawdę<br>jest to miejsce , w którym można wypocząć .",
           "__label__meta_plus_m"
          ],
          [
           "Hotel znajduje się na półwyspie . Wszystkie pokoje<br>mają widok na jezioro . Dzięki szklanej scianie<br>widok nie jest niczym ograniczony . Pokoje są<br>jasne , nowocześnie urządzone . Łazienka bardzo<br>ładna . Brakowalo mi tylko chusteczek w pokoju /<br>łazience . W hotelu znajduje się wiele atrakcji ,<br>z wszystkich nie zdążyła m skorzystać . Teren<br>wokół hotelu dobrze zagospodarowany , pomosty ,<br>plaża , mini pole golfowe . W hotelu basen , sauna<br>. Można wypożyczyć bule , rowery itd . Jest co<br>robić . Smaczne śniadania , dość duży wybór ,<br>nawet prosecco można się napić do śniadania .<br>Szkoda , że śniadania tylko do 10 . 00 . Jedenym<br>minusem był barman w cafe Portofino . Nie dość ,<br>że nie przyjmny , to jeszcze niekompetentny . Przy<br>zamówieniu Aperol Spritz dostali śmy samego<br>aperola . Porosili śmy , aby dolał do tego<br>prosecco , wody i dorzucił pamaranczę . Okazało<br>się , żeby wypić jednego Aperol Spritz musieli śmy<br>kupić całą butelkę prosecco . Zamiast plasterów<br>pomarańczy wrzucił skórkę z pomaranczy : ( Na<br>pewno jeszcze wrócę do Marina Golf Clubu .",
           "__label__meta_plus_m"
          ],
          [
           "Pani doktor jest osobą kompetentną i konkretna .<br>Oglądając moją zmianę na skórze już wiedziała jak<br>leczyć . Nie ograniczyla się do samych maści tylko<br>zapisała mi również lek doustny , po którym usunąć<br>można przyczynę problemu . I o to chodzi . Co do<br>skuteczności leczenia to jeszcze czas na ocenę<br>ostateczną . Ogólnie polecam innym pacjentom dr<br>Czubak .",
           "__label__meta_plus_m"
          ],
          [
           "Mila obsługa . Pokoje czyste . Zadbane . Łazienka<br>wysprzątana i wyposażona w dobrej klasy armaturę i<br>ceramikę . Dość skomplikowana podróż między<br>recepcją a pokojem , ale do opanowania . Śniadanie<br>było w porządku , ale to nie był luksusowy poziom<br>. Za taki też nie płacił em . : ) Ogólnie<br>przyjemnie i w oferowanym budżecie , w centrum<br>miasta miejsce z parkingiem na auto , wybór uważam<br>za trafny . Pobyt za udany . : )",
           "__label__meta_plus_m"
          ],
          [
           "Hotel Arche jest zlokalizowany w sąsiedztwie<br>Jasnej Góry . Wybierajac droge przez park mamy<br>piekny spacer i w ciągu 15 min jestesmy w samym<br>centrum miasta . Hotel posiada piekne przestronne<br>stylizowane i eleganckie lobby , zamkniety parking<br>jest plusem , dodatkowo mamy do dyspozycji saunę i<br>siłownię . Restauracja hotelowa serwuje pyszne<br>dania w odpowiednich do tego miejsca cenach .<br>Restaurację zdobią wilekie zdjecia Jury Krakowsko<br>- Częstochowskiej , ruin zamków szlaku Orlich<br>Gniazd . Jest tam wytwornie a jednoczesnie bardzo<br>klimatycznie .",
           "__label__meta_plus_m"
          ],
          [
           "Hotel w bardzo dobrym standardzie zlokalizowany na<br>Malcie 3 minuty od term Maltanskich i jeziora<br>Malta , blisko galeria handlowa i tereny<br>rekreacyjne . Super miejsce na odpoczynek . Hotel<br>po delikatnym liftingu , bardzo czysto , fajny<br>basen . Bardzo fajnie ze zamiast wody w pokojach<br>na każdym piętrze jest dystrybutor wody . Minus<br>jedna winda i brak klimatyzacji w pokojach .<br>Obsługa w recepcji perfekcyjna , porównywalna do 5<br>gwiazdkowego pokoju , podczas pobytu rozmawiał em<br>z 3 Paniami , każda kompetentna i służyła pomocą ,<br>wychodziła z inicjatywą by rozwiązać problem .<br>Bardzo rzadko zdarza się obsługa której się chce<br>coś robić . Zameldowanie szybkie i miłe . Wiele<br>cenny porad , mapa , pomoc w lokalizacji . Ogólnie<br>hotel 4 na 5 . Odjęte za brak klimatyzacji .",
           "__label__meta_plus_m"
          ],
          [
           "Super lokalizacja , która zadecydowała o wyborze -<br>kompromis między rozsądną odległością do centrum i<br>na plażę , a jednocześnie na tyle daleko , że<br>hałas nie zakłóca spokoju w nocy . Przemili<br>właściciele . Wzbudzają zaufanie , służą radą . W<br>cenie śniadanie . Bez szału ale można się najeść .<br>Czysto . Pokoje codziennie sprzątane . Świetny<br>stosunek ceny do jakości : 608 € za 8 dni ( 2<br>osoby ) .",
           "__label__meta_plus_m"
          ],
          [
           "Witam Wszystkich - od kiedy znam p . dr Marka<br>Braszkiewicza polecam Go każdemu kto potrzebuje<br>specjalisty w dziedzinie endokrynologii - rodzinie<br>, przyjaciołom , znajomym . Pan dr Braszkiewicz<br>najpierw słucha , potem zleca badania , wreszcie<br>skrupulatnie je analizuje , bada pacjenta , aby<br>postawić diagnozę , wreszcie dobiera właściwe leki<br>i dostosowuje dawkę do stanu pacjenta - a to w tej<br>dziedzinie nie jest łatwe . Zawsze do dyspozycji<br>kosztem swojego czasu , czasem zdrowia . . .<br>Gratulacje Panie Doktorze i wdzięczność na zawsze<br>! bardzo dobry to mało - TO PRAWDZIWY LEKARZ !",
           "__label__meta_plus_m"
          ],
          [
           "OD CZTERECH LAT STARAMY SIĘ Z MĘŻEM O DZIECKO . I<br>PRZEZ TE CZTERY LATA WIELE W NASZYM ŻYCIU SIE<br>DZIAŁO . BYŁY BARDZO PIĘKNE CHWILE ( KIEDY OKAZAŁO<br>SIE ŻE JESTEM W CIĄŻY ) I BYŁY GORZKIE ŁZY ( JAK<br>PORONIŁA M . NAJPIERW PIERWSZĄ CIĄŻE , POTEM DRUGĄ<br>. ) ALE NADAL TRZYMAMY SIE RAZEM I NADAL NIE MAMY<br>ZAMIARU SIE PODDAĆ . KOCAMY SIE MOCNO I CHCEMY<br>ŻEBY OWOCEM NASZEJ MOŁOŚCI BYŁO DZIECKO . JESZCZE<br>CAŁKIEM NIEDAWNO BO JAKIEŚ PÓŁ ROKU TEMU , MIELI<br>ŚMY JUŻ DOŚĆ . ALE DZIĘKI DOKTOROWI ZIĘTKOWIAKOWI<br>NASZE ŻYCIE NAGLE SIĘ ZMIENIŁO . MAMY TAK WIELKI<br>ZAPAŁ DO SPEŁNIENIA NASZEGO MARZENIA , TAKĄ<br>OGROMNĄ WIARE I SIŁE ŻE CZASEM MAMY OCHOTĘ<br>PRZENOSIĆ GÓRY . JEST TO CZŁOWIEK , KTÓRY<br>WYTLUMACZY WSZYSTKO TAK DOKŁADNIE , ŻE NAWET KTOŚ<br>KTO ZUPEŁNIE NA NICZYM SIE NIE ZNA TO WSZYSTKO<br>ZROZUMIE . I MA PRZY TYM ANIELSKĄ CIERPLIWOŚĆ . A<br>JEST TO CECHA , KTÓRĄ POSIADA BARDZO MAŁO MĘŻCZYZN<br>. NAPRAWDE BARDZO GO POLECAM . ODWIEDZIŁA M JUŻ<br>BARDZO DUŻO LEKARZY I ZAPEWNIAM , ŻE DOKTOR<br>ZIĘTKOWIAK NALERZY DO TYCH Z POWOŁANIA .",
           "__label__meta_plus_m"
          ],
          [
           "Mieszkam w Łagiewnikach i poszukiwała m miejsca na<br>zorganizowanie imprezy urodzinowej dla 22 osób .<br>Postanowiła m skorzystać z oferty jaką otrzymała m<br>od Menagera hotelu Lorenzo Pani Ani . Muszę<br>przyznać , że impreza przerosła moje oczekiwania .<br>Jedzenie wyśmienite i wspaniale podane , obsługa<br>bardzo miła i profesjonalna . Goście byli<br>zachwyceni i do dzisiaj gratulują wyboru miejsca<br>imprezy . Chciała by m z tego miejsca jeszcze raz<br>specjalnie podziękować całemu Personelowi hotelu<br>za profesjonalizm , życzliwość i zaangażowanie .<br>Zaproponowane przez Panią Anię nagrody w konkursie<br>karaoke w postaci figurek z belgijskiej czekolady<br>okazały się hitem ! ! ! Polecamy Hotel Lorenzo<br>jako miejsce na zorganizowanie kameralnych imprez<br>. Agata i Witek",
           "__label__meta_plus_m"
          ],
          [
           "Lekarz bardzo dobry , prężnie działający , na<br>kolanach zna się jak nikt . A co do Kliniki Ruchu<br>- nie znam bardziej profesjonalnej i lepiej<br>nastawionej do klienta placówki . Miłe i pomocne<br>panie na recepcji , które są w stanie zapisać cię<br>na rehabilitację nawet do konkurencyjnej firmy<br>rehabilitacyjnej - była m świadkiem takiej<br>sytuacji ! A wszyscy rehabilitanci super !<br>Najlepszy specjalista od barku w Warszawie -<br>Andrzej Kępczyński , jestem jego pacjentką i<br>zawsze , jak cś mi sie stanie , dzwonię do niego .",
           "__label__meta_plus_m"
          ],
          [
           "Obsługa bardzo miła i uczynna . Ich życzliwość<br>była wręcz ujmująca . Pokój przerósł nasze<br>oczekiwania zarówno pod względem czystości jak i<br>wystroju . Wbrew innym opiniom nie odczuwali śmy<br>hałasu . Wieczorami organizowano ciekawe i<br>różnorodne animacje ( pokaz magii , występ<br>regionalnego zespołu , koncert muzyczny itp . ) ,<br>nam się podobały . Posiłki były smaczne i<br>pozwalały też na spróbowanie elementów regionalnej<br>kuchni , chociaż trzymano styl europejski . Plaża<br>Kleopatry jest tak blisko , że w hotelu czuć<br>morską bryzę . Z całą pewnością tam wrócimy . P .<br>s . Pozdrawiamy Osmana , Bekira , Umita i Elif<br>oraz Kapitana dowodzącego restauracją ! : - )",
           "__label__meta_plus_m"
          ],
          [
           "Pobyt z rodzina ( 2 + 1 ) oceniam b dobrze .<br>Mielismy zarezerwowany pokoj typu Studio . Dwa<br>pokoje przedzielone drzwiami . Wyposazenie pokoju<br>odpowiadalo gwiazdkowosci hotelu . Na podlodze<br>wykladzina . Sniadania w formie bufetu ,<br>obiadokolacje podawane do stołu - z góry okreslone<br>. Na szczescie dla mniejszych dzieci istniala<br>opcja zamiany dania na bardziej „ dziecinne ” .<br>Strefa Spa - basen w porzadku , choc woda w<br>badenie zimna ! ! Tak nie wypada . Kazdy kto<br>wchodzil robil mine jak by wchodzil do Bałtyku : )<br>hotel godny polecenia cichy i polozony troszke na<br>uboczu .",
           "__label__meta_plus_m"
          ],
          [
           "wrażenia pozytywne , warte polecenia , jednak na 5<br>gwiazdek nie należy się nastawić jest to tureckie<br>coś w okolicy 4 . Czystość jak u turków ; )<br>obsługa bez zarzutu . najważniejsza jednak była<br>pogoda i plaża - tutaj oczekiwania zostały<br>zaspokojone - plaża jest czysta , woda w morzu<br>również . Baseny hotelowe czyste",
           "__label__meta_plus_m"
          ],
          [
           "Odkąd pamiętam męczyła m się z „ sińcami ” pod<br>oczami . Przed każdym wyjściem z domu musiała m<br>nakładać ogromne ilości korektora wokół oczu , aby<br>je ukryć . . . Było to moje utrapienie . Doktor<br>Rzepnikowski polecił mi zabieg Karboksyterapii<br>oraz light eyes ultra . Obydwa zabiegi powtórzyła<br>m kilkakrotnie i muszę przyznać , że efekty są<br>rewelacyjne ! Widzę ogromną poprawę . Skóra wokół<br>oczu jest rozjaśniona , a \" sińce \" praktycznie<br>zniknęły . Odnośnie Doktora Rzepnikowskiego to<br>jest on bardzo sympatyczną i zawsze uśmiechniętą<br>osobą . Przed rozpoczęciem zabiegu dokładnie<br>wytłumaczy na czym polega i jakich efektów możemy<br>się spodziewać . Wszystkim polecam Fabskin .",
           "__label__meta_plus_m"
          ],
          [
           "Dotarli śmy do Malmö przed rozpoczęciem doby<br>hotelowej . Ponieważ podróżowali śmy z dzieckiem i<br>potrzebowali śmy łóżeczka nasz pokój nie był<br>jeszcze gotowy . Jednak pracownicy recepcji szybko<br>znaleźli dla nas czysty pokój , a łóżeczko dotarło<br>kilka minut później . Naprawdę sprawnie . Pokój<br>miał dobrą wielkość , z widokiem na ulicę od<br>strony wejścia do hotelu , a ponieważ budynek<br>naprzeciwko to dom towarowy na ulicy było naprawdę<br>cicho . Koniec końców spędzili śmy tu dwa udane<br>dni . Pokój był odpowiednio duży z podwójnym<br>łóżkiem i z dużą ilością miejsca na łóżeczko .<br>Wszyscy troje spali śmy jak dzieci , a następnie<br>obudzili śmy się i zjedli śmy śniadanie , na które<br>składał się boczek , jajka , kiełbaski , duży<br>wybór pieczywa i przypraw oraz świeże owoce .",
           "__label__meta_plus_m"
          ],
          [
           "Hotelik jest usytuowany w centrum , ale nie<br>słychać hałasu ulicy . Plusów jest bardzo dużo :<br>wnętrze urządzone jest ze smakiem , na 5 +<br>zasługuje miła obsługa , czystość pokoi oraz<br>innych pomieszczeń hotelowych ! Śniadanie jest<br>urozmaicone . Ceny są preferencyjne w porównaniu<br>do standardu hotelu . Dodatkowo hotel robi ukłon w<br>kierunku stałych gości i proponuje im zniżki - np<br>. 10 zł mniej przy kolejnych pobytach : ) Planuję<br>się tam jeszcze zatrzymać w podróży służbowej !",
           "__label__meta_plus_m"
          ],
          [
           "atmosfera w hotelu powiedział by m domowa . Jak<br>się wchodzi do recepcji to panie witają miłym<br>dzień dobry aż chce się dalej wchodzić a nie jak<br>to bywa , że siedzą dziewczyny na recepcji i ani<br>me ani be . A tu zupełnie inaczej . Cały pobyt<br>również ciekawie przebiegł . Przyjadę jeszcze<br>kiedyś : )",
           "__label__meta_plus_m"
          ],
          [
           "Pobyt w tym hotelu zawsze jest udany . Przestronne<br>pokoje , bardzo miła obsługa zarówno na recepcji<br>jak i podczas posiłków zawsze smacznych i będących<br>w wystarczającym wyborze . Dla dzieci sporo<br>miejsca do zabawy i faktycznie można poczuć że<br>dziecko to dla hotelu ważny gość . Miejsce blisko<br>centrum jak i morza lecz nie ma tu zgiełku jaki<br>panuje w ścisłym centrum . Przebywamy tu często o<br>różnych porach roku i zawsze wszystko jest ok .<br>Cena adekwatna do świadczonych usług . Obiekt ma<br>już swoje lata ale jest za to bardzo przestronnie<br>i nawet przy pełnym obłożeniu nie czuje się ścisku<br>.",
           "__label__meta_plus_m"
          ],
          [
           "Przyjechali śmy z synem do szpitala z bólem<br>brzucha . Pan doktor natychmiast trafnie<br>zdiagnozował zapalenie wyrostka i przyjął nas na<br>oddział . Swoim zdecydowaniem i profesjonalnym<br>podejściem uspokoił zarówno dziecko jak i nas -<br>rodziców . Pan doktor ma niezwykle podejście do<br>dzieci , za każdym razem jak badał syna , zciagal<br>mu opatrunek czy szwy odwracał jego uwagę pełna<br>humoru rozmowa . Nie lekceważył moich pytań ,<br>chociaż teraz wiem ze te , szczególnie zadawane<br>przed operacja , nie były mądre . Zdecydowanie<br>uważam , ze Pan doktor ma talent poparty praca i<br>doświadczeniem . Pan Doktor codziennie rano pytał<br>dziecko jak się czuje i odpowiadał na pytania ,<br>widziała m szczere zainteresowanie , które<br>sprawilo , ze czulismy się dobrze i bezpiecznie .<br>Lekarz , który robił usg przed decyzja o wyjściu<br>do domu , zachwycał się pięknym założeniem szwów ,<br>i faktycznie miejsce to ładnie wyglada .<br>Szczególnie cenne dla mnie było poczucie humoru<br>Pana doktora i siła charakteru , która bije od<br>niego . Dodam , ze po operacji nie było żadnych<br>powikłań , gorączki , sączenia się rany - wyniki i<br>stan dziecka bardzo dobre . Pobyt w szpitalu<br>wspominamy bardzo dobrze , wyszli śmy bogatsi o<br>nowych znajomych , którzy leżeli z nami w sali<br>przez ten okres . Dziękuje Panie Doktorze ! Agata<br>Pilarczyk",
           "__label__meta_plus_m"
          ],
          [
           "Nocowali śmy w starszej części hotelu - spore ,<br>czyste pokoje . Ręczniki zmieniane codziennie . W<br>pokoju suszarka , sejf , TV , mała lodówka .<br>Jedzenie ( w opcji HB ) różnorodne , świeże .<br>Napoje do obiadokolacji dodatkowo płatne ( 2 , 70<br>euro za 0 . 5 wodę , 4 euro za małe wino 187 ml<br>itp ) . Duży wybór świeżych owoców . Pomocna<br>obsługa . Bardzo małe windy . Market w odległości<br>50 m ) , Carrefour ok . 150 m . Wypożyczalnia<br>samochodów i lokalne biua podróży przy samym<br>hotelu . Plaża ok . 100 metrów od hotelu (<br>niewielka , żwirowo - piaszczysta ) . Podróżowali<br>śmy z 5 - miesięcznym dzieckiem i nie mamy żadnych<br>zastrzeżeń .",
           "__label__meta_plus_m"
          ],
          [
           "Witam , szczerze polecam Pana Doktora innym<br>pacjentkom ! Jako jedyny z wielu ginekologów , do<br>których chodziła m na wizyty zarówno w ramach NFZ<br>, jak i prywatnie , nie zbagatelizował mojego<br>problemu i wypisał skierowanie do odpowiedniej<br>poradni . Dzięki temu w dniu dzisiejszym jestem po<br>stosownym zabiegu i co najważniejsze - jestem<br>zdrowa : ) Podczas wizyty zachowana pełna<br>fachowość , rzetelne odpowiedzi na zadawane<br>pytania , szczera chęć pomocy i przydatne rady .<br>Dodatkowo Pan Doktor zachęca do podzielenia się<br>swoimi wątpliwościami i chętnie w miarę swoich<br>możliwości i wiedzy je rozwiewa . Jestem bardzo<br>zadowolona z dzisiejszej wizyty , poczuła m się '<br>' zaopiekowana'' - uważam , że to bardzo ważna<br>cecha w relacji pacjent - lekarz . Pozdrawiam .",
           "__label__meta_plus_m"
          ],
          [
           "Od 17 roku życia jestem pod opieką dr Kunerta ,<br>nie jestem chora na żadną z wymienionych chorób ,<br>jednak na jeszcze inną , jednak właśnie ten lekarz<br>od samego początku okazuje mi wiele ciepła i<br>serdeczności , potrafi sprawić , że pogodziła m<br>się , że jestem chora i muszę trochę inaczej żyć<br>niż moi rówieśnicy , a także skierował mnie do<br>lekarza , który zajmuje się ludźmi chorymi na to<br>co ja . Doktor Kunert przyjmuje również w Centrum<br>medycznym Enel - med , ma prawdziwe podejście do<br>pacjenta i niesamowitą cierpliwość . Mnie<br>osobiście leczy jako neurolog . Gorąco polecam ! !<br>!",
           "__label__meta_plus_m"
          ],
          [
           "Ludzie a do jakiego doktora idziemy i nie płacimy<br>minimum 50 zł . Chyba że państwowo za pół roku .<br>Do dr . Szczesiula rano dzwonisz i tego samego<br>dnia idziesz . Kolejna rzecz jeśli decydujecie się<br>na homeopatie to musicie się uzbroić w cierpliwość<br>. A wiekszość osób które wypowiadają złą opinię to<br>2 razy były i nie widziały rezultatu bo ich<br>zdaniem każde choroba to siedmio dniowy katar i ma<br>za 7 dni być w stu procentach zdrowym . Następnie<br>słuchamy doktora bo każdy błąd w diecie zły zapach<br>itp to nawroty dolegliwości . Ale jeśli jesteście<br>cierpliwi , konsekwentnie stosujecie się do<br>zaleceń to efekt będzie stuprocentowy . Polecam dr<br>. Szczesiula jeśli macie naprawde kłopoty z<br>zdrowiem , mojemu dziecku pomógł dr . i pomoże tym<br>którym nie pomogło tradycyjne leczenie .",
           "__label__meta_plus_m"
          ],
          [
           "Ponownie wybrali śmy ten hotel na nocleg przed<br>wyjazdem na lotnisko . Miła i szybka obsługa przez<br>pracowników recepcji . Szybki transport z lotniska<br>- po wykonaniu telefonu na recepcję a na lotnisko<br>- po zgłoszeniu na recepcji , bez dodatkowej<br>opłaty . W pokoju dostępny internet ( wifi ) .<br>Pokoje obszerne , czyste , wyposażone w czajnik z<br>zestawem herbat . Polecam .",
           "__label__meta_plus_m"
          ],
          [
           "Polecam Panią doktor , jako pierwsza z wielu<br>lekarzy wykryła przyczynę nawracających stanów<br>zapalnych , kazała zrobić wymaz , zapisała<br>antybiotyk i od roku czuję się jak nowo narodzona<br>( jej diagnoza była trafiona w 10 ) . Poza tym<br>Pani doktor jest bardzo miła , wszystko spokojnie<br>tłumaczy i nie zdziera kasy z pacjentek ( gdy<br>przyszła m z wynikami na drugą wizytę , za wizytę<br>, badanie i przepisanie leku zapłaciła m tylko 20<br>zł ) . Polecam !",
           "__label__meta_plus_m"
          ],
          [
           "Ogólne wrażenia b . dobre . Hotel ładny i chyba<br>najwyższy w okolicy . Bardzo przyjemny wypoczynek<br>. Animacje trochę słabe ale nadrabiają barmani i<br>obsługa hotelowa . Lokalizacja jest w bardzo<br>spokojnym i mało ruchliwym miejscu na wyspie . W<br>okolicy ładna plaża De Muro ( jakieś 20 minut<br>autobusem ) . Alkohole oryginalne !",
           "__label__meta_plus_m"
          ],
          [
           "Przemiły dokładny lekarz rozmawia z pacjentem jak<br>trzeba nic nie obiecuje przyczynę przebieg i<br>zakończenie choroby tłumaczy dokładnie jestem<br>dzień po zabiegu Termolezji jak będzie dalej<br>zobaczymy na razie 6 tygodni zwolnienia ale myślę<br>że będzie bardzo dobrze każdemu polecam dr .<br>Łukasza Antolaka . Jedyny lekarz z jakim przez<br>ostatnie 10 lat rozmawiał em mając problemy z<br>kręgosłupem który spojrzał na wyniki badań nie w<br>opisie a wziął płytkę z rezonansu i sam określił<br>moją chorobę i co się tam przy tym moim<br>sfatygowanym kręgosłupie dzieje polecam godny<br>zaufania brakuje nam takich jak on lekarzy<br>pozdrawiam wszystkich po zabiegu Termolezji",
           "__label__meta_plus_m"
          ],
          [
           "Bardzo dobry lekarz , diagnostyka trafna , szybka<br>decyzja , precyzyjny zabieg i po bólu . Rzeczowy ,<br>merytoryczny , po prostu fachowiec . Po zabiegu 2<br>tygodnie / L 5 - 6 / i funkcjonuje całkiem nieźle<br>. Wszyscy , których operował razem ze mną i<br>wcześniej są bardzo zadowoleni z zabiegów i<br>wracają do zdrowia . Żadnych powikłań<br>pooperacyjnych . Szwy wykonane majestatycznie .<br>Naprawdę polecam doktora Janusza , to świetny<br>neurochirurg .",
           "__label__meta_plus_m"
          ],
          [
           "Położony kilka minut spaceru od dworca Termini<br>stanowi idealny punkt wypadowy do podróży po<br>Rzymie , miła obsługa , zadbane , komfortowe<br>pokoje , urozmaicone śniadania , świetna kawa ,<br>bezpłatny internet dostępny w pokojach - same<br>zalety , żadnych zastrzeżeń , Był to mój kolejny i<br>na pewno nie ostatni pobyt w tym hotelu ,",
           "__label__meta_plus_m"
          ],
          [
           "Spędzili śmy naprawdę fajny weekend w tym hotelu ,<br>świetne miejsce wypadowe w każdym kierunku . Miła<br>obsługa choć widać i czuć , że hotel jest świeżo<br>otwarty , to możemy go śmiało polecić .<br>Mankamentem jest na pewno usługa transportowa .<br>Podróż na lotnisko taksówką zamówioną przez hotel<br>to udręka , spóżniona taksówka , drożej niż<br>ustalono , ogólnie mówiąc brud i kierowca mądrala<br>, to ponad siły . Ogólnie polecam ale niech ktoś<br>się zainteresuje tą firmą taxi .",
           "__label__meta_plus_m"
          ],
          [
           "Najlepszy Sylwester na jakim była m . Nie ma nawet<br>jednej rzeczy do której można się przyczepić .<br>Obsługa hotelu bardzo miła i pomocna , organizacja<br>imprezy bardzo dobra . Orkiestra bez zarzutu grali<br>różnorodną muzykę ( dla każdego coś dobrego : ) .<br>Jedzenie bardzo smaczne i urozmaicone , nawet by m<br>powiedziała że za dużo . Pokoje też przytulne i co<br>najważniejsze wszędzie czysto i zadbanie . Z<br>pewnością nie tam wrócę i polecam : )",
           "__label__meta_plus_m"
          ],
          [
           "Ja była m tylko na konsultacji u doktora<br>Ciesińskiego , więc nie mogę się wypowiadać na<br>temat efektów operacji , ale co do zachowania<br>doktora na wizycie konsultacyjnej nie mogę się<br>zgodzić z waszymi ocenami . Konsultowała m się w<br>sprawie plastyki powłok brzucha . Doktor wcale<br>mnie nie \" spławił \" . Wręcz przeciwnie .<br>Dokładnie ocenił sytuację , wszystko mi<br>wytłumaczył , opisał cały zabieg . Wizyta wcale<br>nie trwała 5 min tylko pół godziny , ale gdyby<br>nawet trwała 5 min to wydaje mi się , że przecież<br>nie chodzi o czas trwania wizyty tylko o to żeby<br>się wszystkiego dowiedzieć i żeby lekarz dobrze<br>ocenił sytuację . Widocznie ma na tyle duże<br>doświadczenie , że nie potrzebuje spędzać całego<br>dnia z pacjentem . Pozdrawiam .",
           "__label__meta_plus_m"
          ],
          [
           "Jestem zadowolony z wizyty , która była szybka ,<br>konkretna a diagnoza trafiona . Pomimo rejestracji<br>poprzez Internet na ul . Zagórską 20 ,<br>przypominający sms cały czas mnie informował , że<br>wizyta odbędzie się w Centermed ul . Piekoszowska<br>126 ? . To ciekawe bo lekarz tam nigdy nie<br>przyjmował . To jedyny minus związany z obecną<br>techniką .",
           "__label__meta_plus_m"
          ],
          [
           "W hotelu Faleza mieli śmy przyjemność gościć<br>cztery razy , w różnych porach roku . Urzekło nas<br>położenie hotelu , doskonała dbałość o szczegóły<br>wystroju . Bardzo sympatyczny personel . Czysto ,<br>miło i smacznie . No własnie i tu wkrada się<br>monotonia . Posiłki są smaczne , a karta w<br>oczywisty sposób ograniczona . Jednak nic w niej<br>nie ulega zmianie . Od lat stabilna . Czasem<br>chciało by się jakiejś zmiany . . Ogólne wrażenia<br>jednak bardzo pozytywne .",
           "__label__meta_plus_m"
          ],
          [
           "Lekarza polecam , ponieważ ustawił mi insulinę (<br>wykryta cukrzyca typ 1 ) czego nie udało ise w<br>szpitalu na Banacha . Co prawda wychodzi drożej ,<br>ale przynajmniej jest OK . Pani doktor ma duże<br>doświadczenie , jakkolwiek nie miałem kontaktu z<br>innymi specjalistami oprócz wymienianej Pani<br>Doktor i lekarzy z Banacha . Pozdrawiam M .",
           "__label__meta_plus_m"
          ],
          [
           "W maju uległa m wypadkowi na uczelni , w wyniku<br>którego dość mocno potłukła m prawe kolano . Na<br>skutek urazu nie mogła m ruszać kolanem a co<br>dopiero stanąć na nogę . Przez około 2 miesiące<br>chodziła m o kulach . Od wypadku tułała m się po<br>różnych lekarzach , miała m mnóstwo badań , leków<br>i chodziła m na rehabilitacje ale to nie pomogło .<br>Oczywiście zeszły mi liczne krwiaki i siniaki z<br>kolana ale nadal miała m trudności z chodzeniem .<br>Dopiero po jakimś czasie zaczęła m chodzić na<br>terapie manualna do pana Piotra i muszę szczerze<br>przyznać , że już po pierwszej wizycie zauważyła m<br>poprawę . Po kolejnych wizytach było coraz lepiej<br>. Według mnie pan Piotr wykonuje swoją pracę<br>sumiennie , zadaje wszelkie pytania odnośnie urazu<br>i szuka najlepszego rozwiązania . Polecam każdej<br>osobie po urazie na wizytę u pana Piotra .",
           "__label__meta_plus_m"
          ],
          [
           "Jeśli macie Panie ochote pogadać , to idżcie na<br>bazar , a nie do lekarza . Doktor ma leczyć , a<br>nie patrzeć pacjentkom w oczy . On poprostu<br>pracuje , zadużo pracuje . Jestem pacjentką Pana T<br>. Milewicza od kilku lat , faktycznie różne ma<br>nastroje , ale czy my jesteśmy na codzień idealne<br>? Jest bardzo dobrym specjalista . Jest jedynym<br>lekarzem , który zdiagnozował u mnie chorobę .",
           "__label__meta_plus_m"
          ],
          [
           "Bardzo przyjemny hotel w cichym i spokojnym<br>miejscu . Bardzo dobrze wyposażone pokoje m.in w<br>lodówkę , zestaw do kawy i herbaty i sejf .<br>Wygodne łóżko i komfortowa łazienka . Wszystko<br>nowe , a czystość na bardzo wysokim poziomie .<br>Restauracja z bardzo dobrym jedzeniem w<br>przystępnej cenie . Obsługa bardzo miła i pomocna<br>. Szybko odpowiadają na maile , Co jest wielkim<br>pozytywem . Ogólnie standard na poziomie 4 * .<br>Jedyny minus to nieco utrudniony dojazd<br>spowodowany przebudową drogi S8 ale to już nie<br>wina hotelu . Nie mniej nawigacja w telefonie<br>prowadzi dość precyzyjnie .",
           "__label__meta_plus_m"
          ],
          [
           "DROGIE PANIE POLECAM ! ! ! ! ! ! DR . ISMAEIL<br>SALLOUM JEST LEKARZEM GODNYM ZAUFANIA . POTRAFI<br>ROZMAWIAC Z PACJETKA TAK ZEBY BYLO DLA NIEJ<br>WSZYSTKO ZROZUMIALE.JA CHODZE OD KILKUNASTU LAT DO<br>DOKTORA KTURY JAKO JEDYNY DAL MI NADZIEJE I<br>WYLECZYL MNIE - - - BEZ OPERACJI - - - MIALAM<br>OGROMNEGO ( wielkosci pomaranczy ) TORBIELA NA<br>JAJNIKU I Z CZYM SIE WIAZALO TO PRZEWLEKLE<br>ZAPALENIE PRZYDATKOW ( niesamowicie bolesne ) A<br>ZOSTALA TYLKO BLIZNA , . WIELU INNYCH LEKARZY<br>KIEROWALI MNIE NA OPERACJE I MOWILI ZE NA TO LEKU<br>NIE MA . DOKTOR SALLOUM POTRAFIL ZAJAC SIE MNA<br>PROFESJONALNIE I WYLECZYL.OD 10 LAT NIE MAM<br>PROBLEMOW . Z PODZIEKOWANIAMI DLA PANA DOKTORA -<br>STALA PACJETKA",
           "__label__meta_plus_m"
          ],
          [
           "Pani doktor anioł . . . ze świecą szukać w<br>dzisiejszych czasach tak wspaniałych lekarzy .<br>Przyszlam do pani dr z prośbą o konsultacje , bo<br>miała m wrażenie że jestem źle leczona przez<br>innego endokrynologa . . . moja intuicja mnie nie<br>zawiodła . Pani dr poświęciła mi 45min tłumacząc<br>wyniki badań i upewniajäc się czy na pewno<br>wszystko zrozumiała m . Zostalam wreszcie zbadana<br>, bo od pół roku żaden lekarz tego nie uczynił .<br>Od dawna chodzę od gabinetu do gabinetu , wydała m<br>już tysiące złotych na wizyty , badania i leki ,<br>ale tak wspaniałej Pani doktor jeszcze nie miała m<br>okazji spotkać . Po spotkaniu z panią doktor wraca<br>mi nadzieja , że istnieją jeszcze lekarze z<br>powołania .",
           "__label__meta_plus_m"
          ],
          [
           "Hotel mógł by zostać nieco odświeżony ale jest<br>nadal bardzo atrakcyjny . Codziennie sprzątane<br>pokoje , czyste ręczniki , pościel . Mieszkali śmy<br>w wygodnym pokoju rodzinnym z dużym umeblowanym<br>tarasem . Jedzenie bardzo dobre , urozmaicone ;<br>każdy znajdzie tam coś dla siebie . Wspaniały Aqua<br>park z atrakcjami dla każdego , niezależnie od<br>wieku . Bezpośrednia bliskość plaży . Bardzo miły<br>i pomocny personel zarówno w recepcji jak i w<br>restauracji . Wiele atrakcji dla dzieci . Szczerze<br>polecam .",
           "__label__meta_plus_m"
          ],
          [
           "Pokoje bardzo zadbane , czyste i ładne . Miła<br>obsługa . Dobrze zlokalizowany - blisko centrum<br>miasta . Piękne widoki z pokoi . Jedyne co<br>przeszkadza to hałas dobiegający zza okien .<br>Ogólnie hotel oceniam pozytywnie , dobre pierwsze<br>wrażenie . Z pewnością nie zawiodł em się po<br>przyjeździe . Polecam odwiedzić ten hotel podczas<br>pobytu w Pradze .",
           "__label__meta_plus_m"
          ],
          [
           "Jestem w 37 tygodniu ciąży . Dzisiaj była m<br>pierwszy raz u Dr Szymańskiego w Lux Med . Bardzo<br>przyjemna wizyta w miłej atmosferze . Doktor sam<br>pytał o moje samopoczucie , odpowiadał na<br>wszystkie pytania . Bez problemu wypisał<br>skierowanie na USG i receptę , którą zawsze<br>dostaję od chirurga . Polecam w 100 % ; )",
           "__label__meta_plus_m"
          ],
          [
           "Wybrali śmy się do tego hotelu w październiku 2012<br>r . całą rodziną z dwójką naszych dzieci w wieku<br>20 i 18 lat , które wzięły ze sobą chłopaka i<br>kolegę . Zarezerwowali śmy go około 5 tygodni<br>wcześniej i postanowili śmy zatrzymać się jeszcze<br>raz w miejscu , w którym byli śmy 17 lat temu .<br>Cóż , hotel nie zmienił się zbytnio , choć przejął<br>hotel obok , dzięki czemu zyskał dodatkowy basen<br>dla dorosłych . Rozrywka była nadal na tym samym<br>wysokim poziomie , a jedzenie w porządku , ale nie<br>najlepsze , jakie jedli śmy , chociaż mieli śmy<br>duży wybór i było go wystarczająco . Pokoje były<br>odpowiedniej wielkości i czyste , a jeśli pokój<br>wychodzi na basen , są z niego piękne widoki na<br>zatokę . W sumie hotel jest świetny i podobało nam<br>się tam przez cały tydzień . Hotel położony jest<br>około 20 minut spacerem od centrum San Antonio , a<br>więc wygodnie dla tych , którzy chcą odwiedzać<br>bary i kluby ( choć większość była zamknięta ,<br>kiedy tam byli śmy ) . Po wyspie łatwo podróżuje<br>się miejscowymi autobusami , więc nie trzeba<br>wynajmować samochodu . Czy zatrzymali by śmy się<br>ponownie w hotelu Tanit ? Tak , ponieważ położony<br>jest w spokojnej części kurortu , ale blisko , co<br>spodoba się młodszym , którzy chcą wychodzić na<br>miasto .",
           "__label__meta_plus_m"
          ],
          [
           "Hotel nie należy do najnowszych , lecz widać , ze<br>jest zadbany oraz odremontowany . Znajduje się<br>przy głównej ulicy w Alanyi , bardzo blisko do<br>różnego rodzaju kafejek oraz barów , 7 min do<br>kolejki którą można dojechać na wzgórze gdzie<br>znajdują sie ruiny zamku , bardzo popularne dla<br>turystów oraz jedna z popularnych tam jaskini<br>Damlataş . Hotel znajduje sie równiez przy samej<br>plaży Kleopatry ( najpopularniejsza plaza na<br>Tureckiej rivierze ) . Pokoje nie są za duże ,<br>lecz każdy posiada klimatyzację , która bez<br>problemu mozna sterować . Pokoje sprzątane<br>codziennie . Balkon z pokoju widokiem na morze .<br>Co do posiłków , wszystko było świeże ,<br>urozmaicone produkty na śniadania , kolacja bogata<br>w różnorodne miejscowe posiłki ( Była m tam ze<br>swoim mężem , który pochodzi z Turcji , powiedział<br>, że kucharze gotują bardzo regionalne potrawy ,<br>należące do tego miejsca . WSZYSTKO PYSZNE ! piszę<br>to dlatego , że nóż mi się w kieszeni otwierał ,<br>gdy czytała m poprzednie recenzje odnośnie<br>jedzenia , podejrzewam , że goscie za niewielką<br>cenę oczekiwali kawioru ze złotem ) . Obsługa miła<br>, manager w recepcji przyjazny , pomoże doradzi ,<br>podpowie , Pan opiekujący się barem na basenie<br>bardzo miły , mówiący w 3 językach , z wielka<br>starannoscią dbał o gosci . Basen hotelowy czysty<br>, oddzielone miejsce dla mniejszych dzieci . Hotel<br>posiadał własne leżaki na plaży , ktore mozna bylo<br>wypożyczyc za jedyne 10TL czyli mniej niż 10zl na<br>cały dzień , na plaży rownież sympatyczna obsługa<br>opiekująca sie leżakami i gośćmi . Jedyne do czego<br>mogła by m się przyczepić to fakt , lodówka w<br>pokoju chłodzi bardzo słabo , oraz znalezienie<br>wolnego leżaka przy basenie w godzinach porannych<br>graniczy z cudem , ponieważ niektorzy goscie<br>zostawiaja tam swoje rzeczy by zająć leżak na<br>pózniej , a czasami nawet się przy basenie nie<br>pojawiają , ale to raczej nie wina hotelu a<br>mentalności niektorych gości . Ogolna ocena na 6 ,<br>tanio , hotel zadbany , jedzenie dobre , obsługa<br>sympatyczna , świetna lokalizacja . POLECAMY",
           "__label__meta_plus_m"
          ],
          [
           "Zanim przejdę do opinii n . t . Pana Doktora to<br>kilka słów o obsłudze w Plejadach . Jestem bardzo<br>zadowolony z podejścia do klienta . Personel<br>bardzo miły i stara się pomóc we wszelki możliwy<br>sposób , tak aby ułatwić życie pacjentowi . W tym<br>miejscu duża piątka ! ! ! Co do Pana Doktora ,<br>robił USG stawu biodrowego mojej miesięcznej córce<br>. Ma niesamowitą cierpliwość do dzieci . Pomimo ,<br>że dziecko podczas zabiegu kilkakrotnie załatwiało<br>się na stół Pan doktor traktował ten fakt z dużą<br>wyrozumiałością . Na koniec , jako że jestem<br>początkującym tatusiem , pomógł mi zawinąć córkę w<br>pampersa i ubrać . Oczywiście nie wspominam tutaj<br>o profesjonalizmie Pana Doktora bo jest to sprawa<br>oczywista . Wytłumaczył mi wszystko co i jak , tak<br>że nawet laik taki jak ja wszystko zrozumiał .<br>Polecam Plejady wszystkim - są w porządku i będę<br>tam wracał .",
           "__label__meta_plus_m"
          ],
          [
           "Hotel o znanym i pewnym standardzie . Czysto ,<br>schludnie i bez stresów . Blisko do lotniska ,<br>oddalony od centrum miasta . Zatrzymali śmy się z<br>grupą znajomych na jedną noc i wszystko było jak<br>trzeba . Pokoje o przyzwoitych rozmiarach ,<br>wygodne łóżko , czysta łazienka i bezpłatny<br>internet wifi . Na miejscu parking . Śniadania<br>przyzwoite ale bez szaleństw . Polecam jako<br>przystanek w podróży .",
           "__label__meta_plus_m"
          ],
          [
           "Postanowił em napisać , być może ktoś z<br>przewlekłym zapaleniem zatok , objawiajacym sie<br>czestymi przeziebieniami , zatkanym od lat nosem i<br>bolaca glowa to przeczyta i zdecyduje sie na<br>zabieg endoskopowej operacji zatok . Nie zaluje ze<br>wydalem 5 . 000 zl . bo tyle kosztuje taka<br>operacja w Medi Clinicue . W przeciwnym wypadku<br>musiał by m w szpitalu czekac na ten zabieg 1 , 5<br>roku . Jesli masz przewlekle zapalenie zatok to<br>nie zaluj , sprzedaj samochod lub co innego i zrob<br>sobie endoskopowa operacje , nie bedziesz zalowac<br>( ja jestem aktualnie bezrobotnym i nie zaluje )<br>Gdy zaciagniesz sie powietrzem przez czsty<br>udrozniony nos zapomnisz o wydanej kasie . Po<br>przebytej operacji nie oczekuj odrazu na efekty ,<br>u mnie dopiero po dwuch tygodniach poprawila sie<br>zdecydowanie wentylacja w nosie i zaczela<br>intensywnie splywac ropa z zakrzepnieta krwia . Po<br>przebytym zabiegu wszystkie kontrolne wizyty u<br>Pani Dr . Paradowskiej ( u mnie byly trzy ) sa<br>bezplatne . REASUMUJAC - POLECAM - MEDI CLINICUE I<br>DR . PARADOWSKA SA THE BEST",
           "__label__meta_plus_m"
          ],
          [
           "Nasyceni zwiedzaniem Paryza na noc wracalismy do<br>Timhotel , ktory przyjal nas sympatyczna ,<br>usmiechnieta obsluga . Pokoje male lecz bardzo<br>przytulne . To sprawialo , ze czulismy sie swojsko<br>i bezpiecznie . Utrzymanie czystosci nie budzi<br>zadnych zastrzezen . Czesto w hotelach o wyzszym<br>standarcie poziom utrzymania czystosci ma wiele do<br>zyczenia ale nie tu w Timhotel . Sniadania smaczne<br>. Lokalizacja hotelu wspaniala , to przeciez<br>Montmartre . Serdecznie polecam .",
           "__label__meta_plus_m"
          ],
          [
           "Był delikatny , pokazywał mi na usg jajniki ,<br>śmiał się . Mówił mi dokładnie co robi , czego<br>szuka i ile to będzie jeszcze trwało . Nagle<br>weszła pielęgniarka informując , że mają<br>dziewczynę z tak ostrymi bólami , że mdleje i<br>wychodząc nie zamknęła drzwi . Widział moje<br>przerażenie . Przeprosił , zamknął drzwi wcześniej<br>zwracając uwagę pielęgniarce . Powiedział , że<br>tamta musi poczekać , bo aktualnie bada pacjentkę<br>. Widziała m , że nie spieszy się , potraktował<br>mnie na prawdę jak kobietę , nie przedmiotowo i z<br>pośpiechem . Bardzo była m zadowolona , muszę<br>poszukać gdzie przyjmuje gdy będę wybierała się<br>następnym razem .",
           "__label__meta_plus_m"
          ],
          [
           "Czytając te opinie , trudno sie nie zgodzić , choć<br>ja osobiście , przez zespół prof . Niżankowskiej ,<br>została m własciwie pozbawiona widzenia w jednym<br>oku . No ale cóż . . zdarzyło sie powikłanie i<br>widzenie w oku straciła m . Stało sie to jednak w<br>klinice okulistycznej / ten sam zespół lekarzy ! -<br>wtedy jeszcze nie było Spektrum . / Potem dr dr<br>Oficjalska i Zając przez długie miesiące zajmowały<br>się mną / moim okiem / bardzo serdecznie . . . no<br>cóż , ale wzroku nie odzyskała m . Jednak obie<br>bardzo polecam",
           "__label__meta_plus_m"
          ],
          [
           "Spędzili śmy z wnukami długi weekend w Raju .<br>Miejsce przepiękne , widoki urzekające . Hotel<br>czysty , zadbany , sympatyczna obsługa , śniadania<br>wyborne , różnorodne i smaczne . Basen mały , ale<br>sympatyczny z ciepłą wodą , można pływać z małymi<br>dziećmi . Pokoje nie duże , ale czyste i<br>komfortowo wyposażone . W hotelu nie brakuje<br>atrakcji dla dorosłych : kręgle , tenis stołowy ,<br>piłkarzyki , bilard . Byli śmy z maluszkami więc<br>brakowało nam dla dzieci pokoju zabaw , na<br>szczęście była ładna pogoda więc korzystali śmy z<br>placu zabaw i małego ZOO , które było nie lada<br>atrakcją . Polecam ten hotel ( niekoniecznie z<br>przedszkolakami ) .",
           "__label__meta_plus_m"
          ],
          [
           "jest bardzo dobrym lekarzem miłu ciepły troszczy<br>się o swoje pacjętki tylko , że ja chodze do niego<br>w gdańsku i nie wiem czy to jest ten sam lekarz `<br>` ` Ocena została zmieniona na \" Polecam \" . Powód<br>: Zbyt lakoniczna argumentacja do wystawienia<br>najwyższej oceny . ` ` `",
           "__label__meta_plus_m"
          ],
          [
           "Początkowo obawiała m się , że ta pani terapeutka<br>jest zbyt młoda ( ja mam 47lat ) więc nie zrozumie<br>moich problemów . Na szczęście się myliła m .<br>Rozumie , ale nie \" jęczy \" razem ze mna , tylko<br>wskazuje drogę . Nie zawsze była m zachwycona tym<br>, czego się o sobie dowiedziała m , ale wiem , że<br>aby zaakceptować siebie Pani Karolina musiała mi<br>powiedzieć nie to co CHCIAŁA M usłyszeć ale to co<br>POWINNA M . Ma dziewczyna charakter ! A dzieki<br>niej , ja też będę miała ! ! ! Wierzę w to , że<br>nie jest dla mnie - mimo wieku - zbyt pózno .<br>Polecam z całego serca wszystkim , którzy myślą ,<br>że na wszystko już za pózno . Maria",
           "__label__meta_plus_m"
          ],
          [
           "O jakości tego hotelu niech świadczy fakt , że<br>żeby tu dotrzeć muszę przebyć prawie 5000<br>kilometrów . Był em tutaj we wszystkich porach<br>roku . Spędzał em tu czas z rodziną , przyjaciółmi<br>, był em na spotkaniu biznesowym i bawił em się na<br>Balach Sylwestrowych . Za każdym razem było<br>wyjątkowo . I tym razem się nie zawiodł em . Dla<br>tych którzy tu jeszcze nie dotarli kilka istotnych<br>informacji . Wspaniała lokalizacja z fantastycznym<br>widokiem , blisko wyciągu na Jaworzynę ( ważne<br>zimą - narty ) , pokoje super czyste z dodatkowym<br>wieczornym serwisem , restauracja ze śniadaniami z<br>których ciężko się wychodzi ( domowe wędliny i<br>chleb ) , bar z palarnią cygar i alkoholami z<br>całego świata ( polecam kompilację japońskiej<br>whisky i dobrego cygara ) , centrum spa z basenem<br>z którego można podziwiać narciarzy szusujących na<br>stoku i instytut kosmetyczny z sewisem na<br>najwyższym poziomie . To wszystko ważne , jednak o<br>wyjątkowości tego miejsca stanowią ludzie tutaj<br>zatrudnieni w pełni profesjonalni i mili .<br>Odwiedził em wiele wysokiej klasy hoteli na całym<br>świecie , jednak serwis oferowany przez pesonel<br>Erisa nie ma sobie równych . Pozazdrościć<br>właścicielom .",
           "__label__meta_plus_m"
          ],
          [
           "Bardzo miły hotelik . Atmosfera rodzinna . Byli<br>śmy w Klimku w styczniu w ferie . Bardzo miły<br>personel . Panie na recepcji zawsze doradziły<br>gdzie pojechać lub jaki jest plan zajęć w danym<br>dniu dla dzieci . Do stoku w Wierchomli jest ok 10<br>minut jazdy samochodem . Nie ma czajników w pokoju<br>ale zawsze można poprosić o gorącą wodę w termosie<br>. Polecam basen gdzie jest ratownik i super rura<br>do zjeżdżania dla dzieciaków . Warto też<br>skorzystać ze SPA ( ceny całkiem normalne ) . W<br>barze są kręgle ale bardziej dla osób które chcą<br>sobie się zrelaksować lub dla dzieci . Jest też<br>bilard . Na obie gry trzeba robić rezerwację .<br>Jedzenie było dobre szło się najeść . Polecam ten<br>hotel na ferie w górach .",
           "__label__meta_plus_m"
          ],
          [
           "Bardzo sympatyczny terapeuta , z zasobem bardzo<br>dużej wiedzy . . . to moja pierwsza wizyta ,<br>jestem dość skomplikowanym przypadkiem z dużą<br>ilością pracy w przyszłości , jednak Panu<br>Bartoszowi udało się poprawić i to już na<br>pierwszej wizycie , problemy z moim stawem<br>skroniowo - żuchwowym . . . fakt , do przyjemnych<br>to nie należało , ale efekt jest - po raz pierwszy<br>zjadła m normalne śniadanie bez żadnego bólu . . .<br>Ma takie \" ludzkie \" podejście do pacjenta , dużo<br>też tłumaczył i pytał , co mi się bardzo podobało<br>, można się było dowiedzieć ciekawych rzeczy , nie<br>zerkał co chwilę na zegarek , nie spieszył się ,<br>bo ma kolejnego pacjenta . . . jak najbardziej na<br>plus , polecam wszystkim , którzy mają nietypowe<br>objawy , bolącą każdą część ciała - ten terapeuta<br>pomoże .",
           "__label__meta_plus_m"
          ],
          [
           "Dużo podróżuję służbowo i mam okazję porównywać<br>hotele z różnych półek cenowych . W NOVOTELU na ul<br>. Wyścigowej mile zaskoczyła mnie serdeczność i<br>prawdziwe zainteresowanie mną jako Klientką . Mimo<br>umiarkowanych cen pobytu , Personel jest w stałej<br>gotowości do pomocy , reakcje na prośby są<br>natychmiastowe , a ustalenia dotrzymywane . Czuć<br>doświadczenie i profesjonalizm , ale też czysto<br>ludzką życzliwość . Nie muszę biegać po lobby w<br>poszukiwaniu kogokolwiek z obsługi jak to zdarza<br>się w niektórych hotelach / bez względu na ilość<br>gwiazdek ! ! / . Szczególnie polecam przywitać się<br>z Panem Zdzisławem , który dba o Gości jakby<br>przyjmował ich we własnym domu . Wracam tam i<br>polecam Wszystkim .",
           "__label__meta_plus_m"
          ],
          [
           "Do Pani Doktor zapisała m się jakiś czas temu . Z<br>perspektywy czasu uważam , że była to moja<br>najlepsza decyzja w życiu . Pani Ania jest osobą ,<br>która wkłada w swoją pracę 100 % siebie , jest<br>osobą pełną pozytywnej energii , którą zaraża<br>wszystkich wokół . Jest to bardzo mądra osoba ,<br>empatyczna . Myślę , że jest jedyna w swoim<br>rodzaju i najlepsza . Efekty mówią same za siebie<br>. Z idealnie dobraną dietą , gdzie NIGDY nie<br>chodziła m głodna i pysznymi propozycjami posiłków<br>udało się - 6kg w miesiąc . : ) Każda wizyta<br>przebiega w baaardzooo miłej atmosferze ! Pani<br>Doktor ZAWSZE znajduje rozwiązanie każdego<br>problemu i bardzo wspiera i motywuje , co jest<br>niezbędne , aby wytrwać . Serdecznie polecam i<br>każdemu , kto zacznie życzę wytrwałości ! !<br>Pozdrawiam . : )",
           "__label__meta_plus_m"
          ],
          [
           "10 . 10 . 2013 była m operowana przez dr .<br>Krzysztofa Tomasiewicza na odcinek lędźwiowy ,<br>operacja przebiegła pomyślnie , teraz wracam do<br>sprawności fizycznej . Bardzo cieszę się że<br>trafiła m właśnie do pana dr . Tomasiewicza ,<br>świetny fachowiec , uprzejmy , zawsze odbiera<br>telefon , gdy nie może odebrać oddzwania , pacjent<br>czuje się otoczony troskliwą opieką lekarska od<br>samego początku . Świetnie zobrazował moją chorobę<br>, gdzie do tej pory inni wprowadzali mnie w błąd (<br>po prostu niewiedza ze strony lekarzy ) , co<br>pozwoliło mi zaufać temu lekarzowi i poddać się<br>jak najszybciej operacji , od roku była m na<br>silnych środkach przeciwbólowych ( ból nogi ,<br>drętwienie , uszkodzenie nerwu , nieprzespane noce<br>) . Polecam tego lekarza , bardzo dobry fachowiec<br>. . . . . . . . Bardzo dziękuję panie doktorze . .<br>. . . . . . . . . . . pozdrawiam pana pacjentka<br>Aneta . M .",
           "__label__meta_plus_m"
          ],
          [
           "Wielokrotnie był em na konsultacjach u Doktora z<br>niejako następstwami wyczynowo uprawianego sportu<br>. Choć bezpośrednio mi nie pomógł , to jednak JEGO<br>HiPOTEZY okazały się najbliższe prawdzie , i gdyby<br>nie On i prawdopodobnie wciąż nie pozbył by m się<br>dolegliwości . Kluczem okazało się rehabilitacja i<br>stopniowy powrót do AMATORSKIEGO sportu .<br>Dolegliwości bólowe kończyn rzeczywiście były od<br>niestabilności kręgosłupa .",
           "__label__meta_plus_m"
          ],
          [
           "Zdecydowanie polecam . Gospodarze gościnni . Mimo<br>bariery językowej ( nie mówią praktycznie po<br>angielsku ) zapewniają rodzinną atmosferę ze<br>wspólnym wieczorem przy winie po przyjeździe .<br>Cena do komfortu pokoju oraz lokalizacji korzystna<br>. Wrażenie robi ogród / taras pomiędzy pokojami .<br>Plus za widok i drzewa pomarańczy . Na prawdę<br>można się zrelaksować . Pokoje komfortowe , czyste<br>a jednocześnie oryginalne i urocze . Na pewno<br>skorzystamy przy kolejnej wizycie w Berat .",
           "__label__meta_plus_m"
          ],
          [
           "Byli śmy w Rzymie razem z przyjaciółmi w drugim<br>tygodniu listopadaZależało nam na dobrym położeniu<br>hotelu , ponieważ zaplanowali śmy w pierwszym dniu<br>zwiedzanie Rzymu , w drugim dniu zwiedzanie<br>WatykanuNiestety na samym początku spore<br>zamieszanie związane z opłatą za transfer z<br>lotniska , która musieli śmy zapłacić , natomiast<br>spowodowane to było zbyt późno wysłaną odpowiedzią<br>ze strony hotelu . Odpowiedź o opłacie za transfer<br>dostali śmy kiedy siedzieli śmy już w<br>samolocieNatomiast na wysokości zadania stanął<br>menager hotelu . Wyjaśnił wszystko i<br>zrekompensował nam to w transferze powrotnymSam<br>hotel ma bardzo dobre położenie , wszystkie<br>atrakcje są w bardzo bliskiej odległości ,<br>znajduje się w samym centrum Rzymu . Pomimo tego<br>ze nie jesteśmy typowymi piechurami , spokojnie<br>dali śmy sobie radę . Hotel czysty , codziennie<br>sprzątany . Śniadania smaczne i świeże , każdy<br>znajdzie tam cos dla siebie . Bardzo przyjazny<br>personel , szczególne podziękowania dla pana<br>Giuseppe który wyjaśnił sprawę transferu . W<br>pobliżu hotelu znajduje wiele małych restauracji ,<br>które oferują naprawdę nie drogie i smaczne<br>posiłki , jest wiele kawiarni i kilka małych<br>supermarketów . Szczerze polecam hotel dla osób<br>które jadą do Rzymu z myślą o zwiedzaniu",
           "__label__meta_plus_m"
          ],
          [
           "Wybrała m to miejsce na jesienny weekend . Hotel<br>bardzo ładny , zadbany . Obsługa hotelowa bardzo<br>miła , kompetentna i przyjaźnie nastawiona do<br>gości . Trafili śmy tu dzięki innym opiniom i nie<br>rozczarowali śmy się . Fajny basen , ręczniki w<br>pokoju zarówno do my ja jak i kąpielowe na basen (<br>nie zgadzam sie z opinią jakoby ich brakowało ) .<br>Jedzenie bardzo dobre , śniadania urozmaicone a<br>obiadokolacje świeżutkie i ładnie podane .<br>Otoczenie hotelu to park z ławeczkami ( nie udało<br>nam się go przejść z powodu innych atrakcji ,<br>ktore mieli śmy zaplanowane ) . SPA nie jest<br>jakieś \" wypasione \" jeśli chodzi o klimat pokoju<br>i wystrój ale osoby przeprowadzające zabiegi znają<br>sie na rzeczy . Po masażu naprawdę mozna sie<br>zrelaksować . Bylam te tym hotelu z dwójką małych<br>dzieci i zaplecze pod tym kątem jest bardzo dobre<br>( dostali śmy turystyczne łóżeczko , podgrzewacz )<br>. Do tego dzieci migą korzystać z pokoju zabaw (<br>moi chłopcy zwykle bawili sie w nim sami wiec<br>mozna powiedzieć ze było bardzo kameralnie : ) ) .<br>Chetnie wybrała by m sie tam jeszcze raz : )",
           "__label__meta_plus_m"
          ],
          [
           "Hotel bardzo ładny , cichy a jednocześnie z dobra<br>lokalizacją i parkingiem . Pokoje czyściutkie i<br>absolutnie przepyszne śniadania , co cieszy nie<br>tylko dzieciaki , ale i rodziców . Bardzo miła<br>obsługa zarówno w recepcji jak i w restauracji z<br>wyjątkowymi potrawami . Hotel bardzo gustownie i<br>ładnie urządzony , dlatego chętnie będę tam wracał<br>i POLECAM SERDECZNIE .",
           "__label__meta_plus_m"
          ]
         ],
         "hovertemplate": "Annotation=__label__meta_plus_m<br>t-SNE 1=%{x}<br>t-SNE 2=%{y}<br>sentence=%{customdata[0]}<br>annotation=%{customdata[1]}<extra></extra>",
         "legendgroup": "__label__meta_plus_m",
         "marker": {
          "color": "#EF553B",
          "symbol": "circle"
         },
         "mode": "markers",
         "name": "__label__meta_plus_m",
         "orientation": "v",
         "showlegend": true,
         "type": "scatter",
         "x": [
          -2.4835009574890137,
          0.8714231848716736,
          -6.573694705963135,
          2.680706262588501,
          -5.790939807891846,
          3.5507009029388428,
          -3.225127696990967,
          -0.6716038584709167,
          -3.07741379737854,
          1.0827646255493164,
          5.827582359313965,
          1.7509987354278564,
          -3.745009183883667,
          -3.3020386695861816,
          -1.047390103340149,
          -2.3292579650878906,
          -5.867371082305908,
          -3.0663764476776123,
          -1.2428717613220215,
          -1.624616026878357,
          7.660799980163574,
          -10.577301979064941,
          -1.7911667823791504,
          -3.7008843421936035,
          2.5279524326324463,
          -3.9117276668548584,
          2.851925849914551,
          -9.317551612854004,
          -5.652581691741943,
          -5.3654961585998535,
          -8.48919677734375,
          1.6429976224899292,
          -0.506342887878418,
          -1.595840334892273,
          -2.328317642211914,
          -0.19782978296279907,
          -1.7368733882904053,
          4.335505485534668,
          -2.7807586193084717,
          1.7622030973434448,
          2.983609914779663,
          -7.577243328094482,
          -4.367359161376953,
          -4.880970001220703,
          -0.32905450463294983,
          4.034919261932373,
          -5.953217029571533,
          3.578686237335205,
          2.3507466316223145,
          -2.8666296005249023,
          -3.327043294906616,
          7.6600494384765625,
          0.9445421099662781,
          -4.142467021942139,
          -3.681015729904175,
          2.710331916809082,
          -8.851944923400879,
          -4.31170129776001,
          -1.4686262607574463,
          -2.717151165008545,
          4.990396022796631,
          2.894444704055786,
          -3.3470780849456787,
          1.49394953250885,
          -4.166205406188965,
          -1.2534024715423584,
          -4.25098991394043,
          -6.3790178298950195,
          -7.7854509353637695,
          -2.0856003761291504,
          -6.649410724639893,
          -2.4868061542510986,
          2.986645221710205,
          3.343322992324829,
          -3.922288179397583,
          -8.781067848205566,
          -5.275080680847168,
          -4.3848490715026855
         ],
         "xaxis": "x",
         "y": [
          -8.002544403076172,
          2.3680310249328613,
          -7.221255302429199,
          3.161999225616455,
          -5.603111743927002,
          7.308707237243652,
          -10.85635757446289,
          4.021060466766357,
          3.9338433742523193,
          10.645005226135254,
          -1.3894562721252441,
          10.366929054260254,
          -10.031859397888184,
          -7.1524977684021,
          8.913684844970703,
          -9.60692024230957,
          -9.329262733459473,
          -9.827154159545898,
          -9.528679847717285,
          3.5329465866088867,
          -5.831454277038574,
          -6.6094794273376465,
          2.5462887287139893,
          -8.129254341125488,
          -5.810078144073486,
          -4.72065544128418,
          6.80605411529541,
          -4.212917804718018,
          -8.925169944763184,
          0.3306107223033905,
          -6.075009822845459,
          8.888459205627441,
          -9.843826293945312,
          3.4381606578826904,
          5.017261981964111,
          5.4020891189575195,
          -10.580912590026855,
          5.141976356506348,
          -11.863039016723633,
          10.787939071655273,
          1.1697437763214111,
          -11.84744930267334,
          -2.640456199645996,
          -5.085866928100586,
          8.3774995803833,
          2.866119384765625,
          -4.629167556762695,
          4.192307472229004,
          5.817536354064941,
          4.77148962020874,
          -10.307623863220215,
          -5.829555511474609,
          6.246018409729004,
          -10.241494178771973,
          -11.780967712402344,
          2.603877305984497,
          -3.6175761222839355,
          -5.693849563598633,
          4.949487209320068,
          -10.560015678405762,
          -0.9807466864585876,
          -5.22275447845459,
          7.906583786010742,
          4.881652355194092,
          -8.337981224060059,
          10.053808212280273,
          7.161190986633301,
          -6.222033977508545,
          -6.1342926025390625,
          5.913193225860596,
          -5.2033162117004395,
          3.6311919689178467,
          1.5016915798187256,
          10.628582000732422,
          -11.488028526306152,
          -3.8192474842071533,
          -5.564774990081787,
          -8.968353271484375
         ],
         "yaxis": "y"
        },
        {
         "customdata": [
          [
           "Bieżąca historia miejsca rozpoczyna się w styczniu<br>2007 roku , kiedy to obecny właściciel pierwszy<br>raz odwiedził to miejsce , a dwa miesiące później<br>należało już do niego . Zakup zespołu dworskiego w<br>Kombornii uwieńczyło dłuższe poszukiwania w całej<br>Polsce , odpowiedniego miejsca pod hotel ,<br>dedykowany wyrafinowanemu wypoczynkowi .<br>Postanowili śmy znaleźć miejsce , gdzie ludzie<br>poddani reżimowi pracy „ na okrągło ” będą mogli<br>przyjechać , żeby odpocząć , naładować akumulatory<br>, odbudować więzi rodzinne i uzyskać stan pewnego<br>błogostanu . Stwierdzili śmy , że takie miejsce<br>może być w dowolnym regionie Polski , bo jeśli<br>będzie miało swój klimat i urok , to ludzie je<br>znajdą i do niego przyjadą . – tak pomysł na<br>inwestycję opisał nam Ryszard Skotniczny ,<br>właściciel . Takim miejscem okazała się Kombornia<br>.",
           "__label__meta_zero"
          ],
          [
           "Lekarze podkreślają , że nierozpoznane i<br>nieleczone tętniaki aorty są bardzo niebezpieczne<br>dla chorego - szczególnie , że w większości<br>przypadków pozostają bezobjawowe . Z czasem<br>powiększają się , osłabiając wytrzymałość ich<br>ściany , a to w konsekwencji prowadzić może do ich<br>pęknięcia , krwotoku i zagrożenia życia pacjenta .<br>Szacuje się , że w Polsce na tętniaka<br>zlokalizowanego w brzusznym odcinku aorty choruje<br>ok . 200 tys . osób . Jeszcze 20 lat temu<br>podstawowym sposobem leczenia tętniaków aorty była<br>złożona operacja chirurgiczna , ryzykowna dla<br>pacjentów . Od lat 90 . z powodzeniem zaczęto<br>stosować również w Polsce nowoczesne leczenie<br>endowaskularne z wykorzystaniem stentgraftów<br>aortalnów produkowanych w innych krajach -<br>dostępnych , ale stosunkowo drogich . Dziś takie<br>leczenie w zakresie tętniaków aorty piersiowej<br>jest standardem .",
           "__label__meta_zero"
          ],
          [
           "„ Nasze odkrycia dotyczące kannabinoidów są ważne<br>dla zrozumienia mechanizmów odpowiedzialnych za<br>powstawanie cukrzycy typu drugiego , pojawiającej<br>się na ogół u osób w wieku dorosłym i nierzadko<br>związanej z przyrostem masy ciała . Jeśli dalsze<br>badania przebiegną po naszej myśli , być może w<br>niedalekiej przyszłości uda się te wyniki<br>wykorzystać w sposób , który uwolni przynajmniej<br>część chorych od koszmaru ciągłych zastrzyków z<br>insuliną ” - mówi prof . Agnieszka Dobrzyń z<br>Instytutu Nenckiego . W najnowszej publikacji na<br>łamach prestiżowego amerykańskiego czasopisma „<br>Proceedings of the National Academy of Sciences<br>USA ” ( PNAS ) naukowcy z Instytutu Nenckiego<br>wykazali , że szlak sygnałów chemicznych z<br>udziałem kannabinoidów nie tylko pełni ważną rolę<br>w komunikacji między komórkami alfa i beta , ale<br>nawet wpływa na zachowanie tożsamości komórek beta<br>. Kannabinoidy wytwarzane przez komórki alfa mogą<br>bowiem aktywować receptory kannabinoidowe CB1 ,<br>znajdujące się w wyspach trzustkowych . Receptory<br>te decydują o budowie wysp trzustkowych oraz<br>poziomie insuliny , wydzielanej przez komórki beta<br>w odpowiedzi na glukozę .",
           "__label__meta_zero"
          ],
          [
           "W tym celu , zajęcia prowadzone są w języku<br>angielskim przez uznanych profesorów z<br>Uniwersystetu Łódzkiego oraz ekspertów Grupy<br>Hotelowej Orbis . Modułowy tryb zajęć w czterech<br>sesjach pozwala studentom na połączenie pracy z<br>efektywnym uczestniczeniem w programie .<br>Tegoroczna edycja została oficjalnie zakończona 19<br>listopada br . podczas gali wręczenia certyfikatów<br>ukończenia programu w hotelu Mercure Warszawa<br>Grand . Prezes Grupy Hotelowej Orbis , Laurent<br>Picheral osobiście wręczył 22 studentom dyplomy ,<br>wyrażając wdzięczność za ich pracę i zaangażowanie<br>. „ Jesteśmy bardzo zadowoleni , że już drugi raz<br>zostali śmy partnerem programu Top Talent . W tym<br>roku jest on bardzo międzynarodowy , 40 %<br>studentów pochodzi spoza Polski , ” powiedział<br>Profesor Tomasz Domański , zarządzający programem<br>„ International Hotel Management ” . Każdy student<br>jest pewien , że od razu po zakończeniu programu<br>będzie mógł wykorzystać zdobytą wiedzę w pracy .",
           "__label__meta_zero"
          ],
          [
           "„ Nasz produkt będzie oczyszczony , a więc wolny<br>od wszelkich substancji balastowych . Będzie<br>zawierał fagi , które będą dobrze<br>scharakteryzowane pod względem biologicznym oraz<br>genetycznym . Na świecie ok . 5 firm rozpoczęło<br>prowadzenie badań klinicznych na oczyszczonych<br>preparatach fagowych pod agendą amerykańskiej<br>Agencji Żywności i Leków ( FDA ) lub Europejskiej<br>agencji ds . Leków ( EMA ) \" - informuje doktor .<br>W bazie dot . badań klinicznych dostępne są<br>informacje nt . stosowania testowanych preparatów<br>fagowych , są to fagi do leczenia biegunki u<br>dzieci , oparzeń , owrzodzeń podudzi , zapalenia<br>ucha . Żaden z tych preparatów nie jest<br>bezpośrednio dedykowany do leczenia infekcji i<br>zakażeń krwi u pacjentów o obniżonej odporności ,<br>w tym onkologicznych .",
           "__label__meta_zero"
          ],
          [
           "Badanie dotyczyło m . in . czułości i swoistości .<br>Czułość to prawdopodobieństwo uzyskania dodatniego<br>wyniku testu diagnostycznego wśród pacjentów<br>chorych . Wysoka czułość oznacza przeoczenie<br>niewielu chorych . Z kolei swoistość oznacza<br>prawdopodobieństwo uzyskania ujemnego wyniku testu<br>diagnostycznego wśród pacjentów niechorujących na<br>diagnozowaną chorobę . Wysoka swoistość oznacza<br>brak fałszywie dodatnich wskazań ( test nie<br>wskazuje zdrowych pacjentów jako chorych ) .<br>Uzyskana w badaniu czułość i swoistość badania<br>termograficznego wynosiła , odpowiednio 72 proc .<br>oraz 58 proc . Tester BRASTER uzyskał jeszcze<br>lepsze wyniki u kobiet 50 - letnich i starszych .<br>Na wyniki miała wpływ struktura piersi - u osób z<br>tłuszczową strukturą czułość i swoistość wynosiła<br>odpowiednio : 100 proc . i 64 proc . , a z<br>gruczołową strukturą piersi – odpowiednio : 71<br>proc . i 63 proc .",
           "__label__meta_zero"
          ],
          [
           "Restauracja Marconi stanowi odzwierciedlenie pasji<br>kulinarnej Michała Tkaczyka – jego doskonałego<br>stylu , łączącego elementy kuchni polskiej i<br>śródziemnomorskiej , najlepiej reprezentowanego<br>przez słynną kaczkę z karmelizowanymi jabłkami ,<br>przyprawianą rozmarynem , czosnkiem i goździkami .<br>Eleganckie , secesyjne wnętrza restauracji , w<br>których ciemny parkiet kontrastuje z łagodnie<br>białymi ścianami oraz delikatną paletą barw i<br>wyjątkowymi detalami – kryształowymi świecznikami<br>i najlepszą porcelaną , zapewnia wyjątkowe<br>doznania w wysmakowanym i romantycznym otoczeniu .<br>Legendarna Café Bristol to miejsce , gdzie<br>tradycja łączy się z wielkomiejskim stylem życia .<br>Kawiarnia od 1901 roku oczarowuje gości<br>oryginalnymi wnętrzami w wiedeńskim stylu ,<br>aromatem świeżo parzonej kawy , doskonałymi<br>daniami i wyrafinowanymi deserami . Strefa<br>wypoczynku i obsługa The Luxury Collection<br>Concierge Złote i białe lampy oświetlające<br>wyjątkową , delikatną skórę węgorza w recepcji<br>strefy wypoczynku , tworzą wyciszoną , nieziemską<br>atmosferę już od momentu wejścia .",
           "__label__meta_zero"
          ],
          [
           "Podczas konferencji prof . Maciejewski wskazał<br>jednak , że gliwicki ośrodek jest kliniką<br>chirurgii onkologicznej i rekonstrukcyjnej , a nie<br>jest ośrodkiem replantologicznym - nie ma w nim<br>takich dyżurów , nie ma zaplecza urazowego itd . „<br>Dlatego też w tego typu przypadkach , które<br>obejmują nie tylko urazy regionu głowy i szyi ,<br>wymagające interwencji mikronaczyniowej , w tym<br>wypadku replantacji , my nie jesteśmy w stanie<br>zapewnić odpowiedniej opieki dla chorych , których<br>urazy dotyczą większych powierzchni i większego<br>zakresu ” – mówił . Jednocześnie zapewnił , że<br>oczywiście lekarze w razie potrzeby będą służyć<br>pomocą , ponieważ obecnie w Polsce , jak mówił ,<br>nie ma wyspecjalizowanego ośrodka w zakresie<br>replantacji twarzy , szyi i urazów<br>wielonarządowych .",
           "__label__meta_zero"
          ],
          [
           "W stosunku do stanu rzeczywistego jest to liczba<br>zaniżona o ponad połowę . Wg Głównego Urzędu<br>Statystycznego w dniu 31 lipca 2013 r . w Polsce<br>dostępnych było 105 , 8 tys . pokoi rozlokowanych<br>w 2107 hotelach . Natomiast według szacunków „<br>Hotelarstwa ” na początku tego roku liczba pokoi<br>hotelowych w Polsce przekraczała 130 tys . Tak<br>duże różnice wynikają z różnych metodologii<br>obliczeń i różnie określanej definicji hotelu . W<br>Polsce podstawą do uznania obiektu noclegowego za<br>hotel jest jego , zgodna z obowiązującym prawem ,<br>kategoryzacja na 1 - 5 gwiazdek . Natomiast STR za<br>hotele uznaje przede wszystkim obiekty działające<br>w strukturach międzynarodowych sieci hotelowych (<br>nawet jeśli nie są skategoryzowane jako hotel wg<br>polskich przepisów ) , a dalszej kolejności<br>największe a także nowoczesne obiekty działające<br>pod własnymi markami .",
           "__label__meta_zero"
          ],
          [
           "Zespół pod kierownictwem prof . Marka Naruszewicza<br>, kierownika Katedry Farmakognozji i Molekularnych<br>Podstaw Fitoterapii WUM jako pierwszy na świecie<br>wykazał , że oleaceina występująca w oliwie z<br>oliwek ( tylko typu ekstra vergine ) ma unikalną<br>właściwość przeciwdziałania pękaniu blaszki<br>miażdżycowej , co może zapobiegać między innymi<br>zawałowi serca oraz udarowi mózgu . Liczne badania<br>epidemiologiczne wskazują , że w basenie Morza<br>Śródziemnego zapadalność na choroby układu sercowo<br>- naczyniowego i nowotwory , oraz śmiertelność z<br>ich powodu jest znacznie mniejsza niż w<br>pozostałych krajach Europy . Ma to związek ze<br>sposobem odżywiania – zwłaszcza ze spożywaniem<br>oliwy z oliwek . Codzienne spożywanie 40<br>mililitrów oliwy obniża śmiertelność z powodu<br>chorób serca o 40 proc . , zaś z powodu innych<br>chorób - o 30 proc .",
           "__label__meta_zero"
          ],
          [
           "Na 1 , 8 mld USD szacuje łączne wpływy hoteli w<br>USA w roku 2011 z dopłat i opłat dodatkowych ,<br>Bjorn Hanson z Tisch Center for Hospitality ,<br>Tourism , and Sports Management New York<br>University . Szczególnie w okresie po kryzysie<br>hotele stały się aktywne we wprowadzaniu nowych<br>opłat , czyli źródeł przychodów . Nic w tym<br>dziwnego bo zdaniem profesora Hansona , opłaty i<br>dopłaty są szczególnie opłacalne , a większość z<br>nich osiąga rentowność 80 do 90 lub nawet więcej<br>procent . Opłaty i dopłaty pojawiły się praktyce<br>branży w 1997 r . i z roku na rok przybywa ich , a<br>przychody hoteli z tego tytułu stale wzrastają .<br>Wyjątkiem są okresy malejącego popytu na noclegi ,<br>czyli lata 2001 i 2009 .",
           "__label__meta_zero"
          ],
          [
           "Ujmując rzecz najprościej system polega na<br>punktowej ocenie poszczególnych elementów<br>infrastruktury oraz usług świadczonych przez<br>obiekt i kwalifikacji obiektu do danej kategorii<br>na podstawie sumy osiągniętych punktów . Istotnym<br>– a nie występującym w obowiązujących w Polsce<br>przepisach kategoryzacyjnych – elementem jest to ,<br>że brak np . recepcji z holem , czy serwowania<br>śniadań nie pozbawia obiektu możliwości zostania<br>hotelem . Dziś , po czterech latach funkcjonowania<br>system kategoryzacji wg reguł Hotelstars Union ,<br>obowiązuje on już w 15 państwach Europy . Są to :<br>Austria , Belgia , Czechy , Dania , Estonia ,<br>Grecja , Holandia , Litwa , Luksemburg , Łotwa ,<br>Malta , Niemcy , Szwajcaria , Szwecja i Węgry .",
           "__label__meta_zero"
          ],
          [
           "Duża część młodzieży nadal unika aktywności<br>fizycznej . \" Widać jedynie niewielką poprawę po<br>wstąpieniu Polski do Unii Europejskiej . Obecnie<br>wystarczającą aktywność fizyczną stwierdza się<br>jedynie u około 30 proc . chłopców oraz u 20 proc<br>. dziewcząt . Aktywność obu płci wyraźnie maleje z<br>wiekiem \" - wskazała prof . Fijałkowska . Rośnie<br>liczba dzieci niezdrowo odżywianych . Naukowcy<br>ocenili , że niezdrowych wyborów żywieniowych ( na<br>przykład chipsy , napoje gazowane , fast food )<br>dokonuje obecnie 21 proc . dzieci w wieku 11 - 12<br>lat , 28 proc . dzieci w wieku 13 - 14 lat i 33<br>proc . 15 - 16 - latków . Choć zmniejsza się<br>częstość palenia papierosów wśród 15 - 16 - latków<br>, to stopniowo rośnie wśród młodszych dzieci ,<br>szczególnie dziewcząt . \" To poważny problem i<br>duże wyzwanie dla nas wszystkich \" - niepokoił się<br>prof . Piotr Jankowski , przewodniczący Komisji<br>Promocji Zdrowia Polskiego Towarzystwa<br>Kardiologicznego .",
           "__label__meta_zero"
          ],
          [
           "Dla sprzedawców usług turystycznych najważniejsze<br>jest zrozumienie i dostosowanie się do sposobu , w<br>jaki konsumenci chcą dokonywać wyboru , a nie<br>tylko do tego , jak robią to obecnie . Niniejszy<br>raport wskazuje na najważniejsze elementy ,<br>których w tej chwili brakuje na witrynach<br>internetowych firm ” . Publikacja jest efektem<br>badań przeprowadzonych przez PhoCusWright Inc . na<br>zlecenie firmy Amadeus , obejmujących 4638<br>podróżnych z USA , Wielkiej Brytanii , Niemiec ,<br>Indii , Rosji i Brazylii .",
           "__label__meta_zero"
          ],
          [
           "„ Skrócony schemat leczenia ma jednak tę zaletę ,<br>że jest równie skuteczny , powoduje natomiast<br>mniej bezpośrednich działań niepożądanych i<br>dlatego jest bardziej korzystny i wygodniejszy dla<br>pacjenta ” – podkreślił w rozmowie z dziennikarzem<br>PAP prof . Wyrwicz . Dodał , że terapia ta jest<br>także mniej kosztowna , co ma szczególne znacznie<br>w krajach , gdzie ograniczone są środki na<br>leczenie onkologiczne . Prof . Bujko podkreśla ,<br>że w obu terapiach równie często można było<br>doszczętnie usunąć guz . W dotychczasowych<br>obserwacjach uzyskano jednak o ponad 9 punktów<br>procentowych większe przeżycia ogólne chorych<br>poddanych skróconej radioterapii połączonej z<br>następującą po tym chemioterapią ( 63 , 5 proc . w<br>standardowym schemacie leczenia wobec 73 proc . w<br>nowym sposobie leczenia ) .",
           "__label__meta_zero"
          ],
          [
           "Pierwszy w Polsce hotel marki Doubletree by Hilton<br>jest dziś oficjalnie otwierany w Łodzi .<br>Dysponujący 200 pokojami , restauracją , ośmioma<br>salami konferencyjnymi , salą balową , kinem 3D i<br>zespołem spa z basenem umieszczonym na ostatnim ,<br>dziesiątym piętrze , czterogwiazdkowy obiekt jest<br>zlokalizowany przy ulicy Łąkowej 29 . Inwestorem<br>jest Film Hotel , spółka - córka Grupy Toya . Do<br>hotelu bezpośrednio przylegają – stanowiąc jego<br>dodatkowe zaplecze – zmodernizowane obiekty dawnej<br>Wytwórni Filmów Fabularnych , obecnie : TOYA<br>Studios , Klub „ Wytwórnia ” oraz Łódzkie Centrum<br>Filmowe . Uzyskane w ten sposób dodatkowe<br>przestrzenie konferencyjno – kongresowo –<br>wystawienniczo – koncertowe w postaci<br>klimatyzowanych i świetnie wyposażonych hal z<br>zapleczem , zapewniają dodatkowe 7 600 mkw .<br>powierzchni i synergię obu obiektów .",
           "__label__meta_zero"
          ],
          [
           "Lekarze wykazali także , że pacjenci w<br>niedostateczny sposób dbają o higienę jamy ustnej<br>- zadawalający stan miała mniej niż połowa<br>badanych . Jeszcze gorzej jest u pacjentów z<br>chorobą wieńcową - osób , które powinny o to dbać<br>szczególnie , gdyż przewlekle stany zapalne<br>zwiększają ryzyko kolejnych infekcji serca ,<br>zawałów , powikłań , mogą sprzyjać arytmiom ,<br>niewydolności serca . Kamiński zaznaczył , że<br>nieprawidłowa higiena jamy ustnej może też<br>sprzyjać chorobom autoimmunologicznym . Lekarze<br>wykazali także , że wciąż za dużo osób pali<br>papierosy , przy czym większy kłopot z rzucaniem<br>nałogu mają kobiety . Badania Białystok Plus<br>wykazały także , że 30 proc . badanych , którzy<br>zgodzili się na badanie snu , ma groźne dla<br>zdrowia zaburzenia oddychania w czasie snu .<br>Kamiński ocenił , że to bardzo dużo .",
           "__label__meta_zero"
          ],
          [
           "Stosowane dotychczas w immunoterapii przeciwciała<br>łączą się białkami znajdującymi się na powierzchni<br>limfocytów T , aktywując je w ten sposób do walki<br>z komórkami nowotworowymi . Można powiedzieć , że<br>odblokowują one działanie układu immunologicznego<br>. Tymczasem polsko - szwajcarski zespół szuka<br>związków peptydowych , które będą działały na<br>układ immunologiczny podobnie jak przeciwciała . \"<br>Dla porównania : przeciwciała składają się np . z<br>3 tys . cegiełek - aminokwasów , a peptydy -<br>zaledwie z 20 - 30 cegiełek \" - wskazuje prof .<br>Rodziewicz - Motowidło . Dodaje , że o ile peptyd<br>naukowcy są w stanie zsyntezować w laboratorium ,<br>o tyle przeciwciała produkuje się najczęściej w<br>organizmach zwierząt , np . myszy lub królików lub<br>też w hodowlach tkankowych .",
           "__label__meta_zero"
          ],
          [
           "Senat Uniwersytetu Marii Curie - Skłodowskiej w<br>Lublinie , w uchwale o nadaniu prof .<br>Skarżyńskiemu godności doktora honoris causa ,<br>podkreślił jego „ pełną oddania służbę<br>społeczeństwu i nauce , przejawiającą się w<br>opracowaniu i realizowaniu wielu programów<br>leczenia głuchoty u dorosłych , a szczególnie u<br>dzieci ” . Promotor doktoratu honorowego , prof .<br>Stanisław Grabias z Zakładu Logopedii i<br>Językoznawstwa Stosowanego UMCS , wskazał na<br>wielkie znaczenie implantów w leczeniu upośledzeń<br>słuchu i rolę prof . Skarżyńskiego w ich wdrażaniu<br>. „ Implanty słuchowe są elektronicznymi systemami<br>, które potrafią zastąpić źle funkcjonujące ucho<br>zewnętrzne , środkowe i wewnętrzne , jeśli umiemy<br>je wszczepić do wnętrza ludzkiej czaszki . Prof .<br>Skarżyński umie to robić , jak nikt inny na<br>świecie ” – powiedział Grabias .",
           "__label__meta_zero"
          ],
          [
           "A następnie stworzyć ceny pomiędzy najwyższą a<br>najniższą ceną . Brzmi to prosto ale właśnie na<br>takiej zasadzie działa RM i system opisany powyżej<br>, jest jak najbardziej funkcjonującym modelem<br>revenue managementu . Na co powinni hotelarze<br>zwrócić uwagę ( zwłaszcza na początku ) ? jaką<br>analizę / raporty prowadzić , aby zobaczyli realną<br>różnicę z wdrożonych rozwiązań RM ? Zdecydowanie<br>przed wdrożeniem rozwiązań RM , trzeba<br>przeanalizować swoją sprzedaż , aby zrozumieć czy<br>wdrożenie w ogóle się opłaca . Nie mam pojęcia ile<br>systemy RM kosztują na rynku , ale statystycznie<br>wdrożenie systemu RM podwyższa przychód o 10 % .<br>Obliczając 10 % z przychodu można policzyć ROI (<br>zwrot z inwestycji ) z takiego systemu . Zwłaszcza<br>dla małych hoteli można zastosować łatwe zasady<br>opisane powyżej i osiągnąć korzyści z RM . W<br>ramach dygresji uważam , że te molochy jak<br>booking.com niedługo wprowadzą silnik który sam<br>będzie generował ceny na podstawie obłożenia w<br>hotelu . W chwili obecnej te firmy nie mają<br>możliwości do manipulowania jakimkolwiek systemem<br>sprzedaży zainstalowanym w hotelu ale moim zdaniem<br>to się zmieni . Jeśli wprowadzą taką aplikację w<br>ramach ich standardowej prowizji , wiele hoteli<br>się na to zgodzi .",
           "__label__meta_zero"
          ],
          [
           "Szef resortu zdrowia podkreślił w swoim<br>wystąpieniu , że jednym z priorytetów i wyzwań ,<br>jakie stoją przed stomatologią jest promowanie w<br>społeczeństwie nawyków pro - zdrowotnych . „ Żadne<br>środki zapobiegawcze nie będą należycie<br>zastosowane , jeśli nie zadbamy zawczasu o<br>efektywną promocję zdrowia . Aby to jednak<br>przyniosło efekty , należy uświadomić to<br>społeczeństwu , zadbać , by miało odpowiednią<br>wiedzę na temat ochrony zdrowia \" – zaznaczył<br>Radziwiłł . Wyraził zadowolenie , że kongres<br>stwarza wszystkim praktykującym stomatologom<br>możliwość wymiany doświadczeń i wiedzy , a także<br>do podkreślenia roli , jaką odgrywa edukacja . \"<br>Jesteśmy świadomi tego , co potwierdzają także<br>badania , że zdrowie jamy ustnej jest niezwykle<br>istotne dla zdrowia całego organizmu . Wiemy , że<br>oprócz diagnostyki i samego leczenia , bardzo<br>ważna jest również prewencja i działania<br>zapobiegawcze ” – zaznaczył minister zdrowia .",
           "__label__meta_zero"
          ],
          [
           "W sezonie 2011 / 2012 zaszczepiło się jedynie 4 ,<br>5 proc . Polaków , najmniej od kilku lat .<br>Jesteśmy pod tym względem na jednym z ostatnich<br>miejsc w Europie . W 2005 r . zaszczepiło się 8 ,<br>6 proc . osób , a w 2009 r . – jedynie 6 , 8 proc<br>. Przykładowo w Hiszpanii w sezonie 2010 / 2011<br>zaszczepiło się 19 proc . osób dorosłych , w USA –<br>41 proc . , a w Korei Południowej – 24 proc . „ To<br>zadziwiające , że Polacy nie chcą się szczepić<br>przeciwko grypie , a jednocześnie w sezonie<br>grypowym narzekamy na kolejki do lekarza<br>rodzinnego . Jaka w tym logika ? Wszystko dlatego<br>, że mamy lekceważący stosunek do szczepień<br>przeciwko tej infekcji ” – dodała prof . Brydak .",
           "__label__meta_zero"
          ],
          [
           " Jest źle , ale było gorzej . Może być lepiej -<br>podsumował wyniki prof . Jacek Wciórka -<br>psychiatra z warszawskiego Instytutu Psychiatrii i<br>Neurologii . - Do realizacji Narodowego Programu<br>Ochrony Zdrowia Psychicznego nie wystarczą wysiłki<br>psychiatrów i psychologów , potrzebna jest<br>współpraca mediów i polityków  . Polacy w 70 proc<br>. oceniają swoją kondycję psychiczną jako bardzo<br>dobrą lub doskonałą . Jednak około 30 proc . to<br>potencjalni kandydaci do poszukiwania jakiejś<br>formy pomocy lub wsparcia . Chociaż tylko ok . 23<br>proc Polaków deklaruje doświadczenie osobistego<br>kontaktu z osobą chorą psychicznie , większość ma<br>na temat takich osób , a także na temat chorób<br>psychicznych i instytucji psychiatrycznych dość<br>zdecydowaną opinię o cechach niechętnego<br>stereotypu .",
           "__label__meta_zero"
          ],
          [
           "Śląscy naukowcy prowadzą badania na zwierzętach<br>laboratoryjnych , tkankach ludzkich pobranych w<br>innych celach podczas operacji okulistycznych oraz<br>na tkankach oka pozostałych po pobraniach rogówek<br>do transplantacji . „ Opracowali śmy model<br>przewlekłej neuropatii nerwu wzrokowego , czyli<br>model eksperymentalnej jaskry wywołanej u zwierząt<br>, która postępuje w czasie , w związku z czym<br>mogli śmy badać , co się dzieje w oku w przebiegu<br>jaskry ” – wyjaśniła prof . Lewin - Kowalik .<br>Naukowcy badają m . in . możliwości wykorzystania<br>komórek gleju , które były już z sukcesem<br>stosowane u chorych z uszkodzonym rdzeniem<br>kręgowym . „ Próbowali śmy wzbudzić regenerację<br>albo zapobiec obumieraniu komórek zwojowych<br>siatkówki , dając im możliwość kontaktu z<br>komórkami gleju obwodowego – komórkami Schwanna i<br>okazało się , że im to bardzo dobrze robi . Myślę<br>, że w miarę rozwoju naszej wiedzy komórki glejowe<br>w wielu działaniach naprawczych w układzie<br>nerwowym odegrają ogromną rolę ” – powiedziała<br>profesor .",
           "__label__meta_zero"
          ],
          [
           "„ Jeżeli pszczoła użądli nas w palec , palec może<br>spuchnąć , nic nam się nie stanie . Jeżeli użądli<br>nas w czubek głowy , pod spodem jest kość –<br>opuchlizna spowoduje potworny ból głowy . Nie<br>powinni śmy jednak bać się – osoby dorosłe ,<br>nieuczulone , spokojnie potrafią przeżyć pięćset<br>użądleń . ( . . . ) Uczuleni muszą wiedzieć , jak<br>się zachowywać i jakie środki ostrożności ze sobą<br>nosić , choćby adrenalinę ” – wskazał ekspert . W<br>przypadku użądlenia pszczoła praktycznie zawsze<br>zostawia w skórze człowieka żądło , a razem z nim<br>- zbiornik z jadem . Podczas użądlenia do rany<br>wydostaje się z niego od jednej piątej do jednej<br>trzeciej zebranego tam jadu . Gdy jednak chwyci<br>się za żądło palcami , wyciska się do rany niemal<br>całą zawartość zbiornika .",
           "__label__meta_zero"
          ],
          [
           "Europa Centralna i Wschodnia , pozostaje w ścisłej<br>czołówce subregionów odnotowujących najszybszy<br>wzrost liczby przyjeżdżających turystów . W naszej<br>części Europy wynosi on 9 , 2 proc . , w<br>porównaniu do 4 , 1 proc . średniej światowej i 3<br>, 4 proc . średniej europejskiej . Polska<br>dodatkowo wyróżnia się wysokim , bo 19 - proc .<br>wzrostem przychodów z turystyki , wynika z<br>najnowszego badania Światowej Organizacji<br>Turystyki ( UNWTO ) Tourism Barometer<br>prezentującego dane z pierwszych ośmiu miesięcy<br>roku 2012 . W okresie od początku roku do końca<br>sierpnia liczba międzynarodowych podróży wyniosła<br>705 mln ( o 28 mln więcej niż w analogicznym<br>okresie roku 2011 ) , co zdaniem UNWTO , wskazuje<br>na odporność turystyki na zawirowania światowej<br>gospodarki . UNWTO jest przekonana , że do końca<br>roku liczba międzynarodowych turystów po raz<br>pierwszy przekroczy miliard . Organizacja<br>wyznaczyła 13 grudnia jako symboliczny dzień , w<br>którym pojawi się miliardowy turysta .",
           "__label__meta_zero"
          ],
          [
           "Nie było jeszcze precyzyjnych przepisów o<br>pobieraniu narządów do transplantacji w Polsce .<br>Obowiązująca wtedy ustawa z 1948 r . dotyczyły<br>jedynie pobieraniu rogówki i pozyskiwania tkanek<br>od zmarłych , a nie narządów . Jednak pobranie<br>nerek od osób zmarłych uznawano wtedy za etap<br>wstępny badania sekcyjnego . Do tej interpretacji<br>przychylił się również prokurator Zygmunt Papierz<br>. W tej sytuacji nie trzeba było pytać rodziny o<br>zgodę na pobranie narządu , ale tego nie ukrywano<br>. W tym okresie nie było jeszcze koncepcji śmierci<br>mózgowej . Pierwsze jej kryteria opracowano w 1968<br>r . na Uniwersytecie Harvarda . Dlatego choć dawcą<br>nerki dla Danuty Milewskiej była kobieta , która „<br>zmarła na skutek ciężkiego urazu czaszki ” , jak<br>napisano w protokole szpitalnym , to z jej<br>pobraniem czekano aż ustanie krążenie krwi .<br>Dopiero wtedy stwierdzano zgon , choć nerki często<br>były już mocno zniszczone , nie zawsze nadawały<br>się do przeszczepu .",
           "__label__meta_zero"
          ],
          [
           "Pamiętajmy też o tym , jak głęboki research<br>prowadzi gość przed podjęciem decyzji . Nie<br>rozdrabniając się w statystykach – jest to od<br>kilkunastu do kilkudziesięciu stron internetowych<br>różnych hoteli ( ale też OTA , metasearch , itp .<br>) i kilka do kilkunastu opinii o interesującym go<br>obiekcie . Jak widzimy mamy mnóstwo okazji aby<br>wygrać gościa dla siebie ! – 2 – Rezerwacja<br>rozpatrywana od technicznej strony zamknięcia<br>transakcji , ponieważ zakładamy , że sama decyzja<br>została podjęta w punkcie pierwszym . Musimy tutaj<br>zwrócić uwagę , że w dalszym ciągu gość może się<br>rozmyślić trafiając na przeszkody w procesie<br>rezerwacji . Wymienię tylko wybrane przykłady :<br>nieprzygotowanie recepcji , zwrócenie uwagi na<br>inną ofertę korzystając z OTA czy brak<br>preferowanej formy płatności w silniku<br>rezerwacyjnym na stronie . Przeszkody te mogą<br>wpłynąć na zmianę kanału rezerwacji ( z mniej na<br>bardziej kosztową ) lub prowadzić do całkowitego<br>jej zaniechania .",
           "__label__meta_zero"
          ],
          [
           "Prof . Jacek Sieradzki z Uniwersytetu<br>Jagiellońskiego w Krakowie przypomniał , że w<br>Polsce wciąż nie refunduje się inteligentnych<br>leków , tzw . inkretynowych , które pozwalają<br>lepiej kontrolować poziom glukozy we krwi , a nie<br>zwiększają ryzyka niedocukrzeń i tycia . Ponadto ,<br>nie ma dobrego finansowania edukacji<br>diabetologicznej , a pacjenci z cukrzycą muszą<br>czekać po kilka miesięcy w kolejce do diabetologa<br>i specjalistów zajmujących się leczeniem powikłań<br>choroby , wymieniał . O tym , że cukrzyca nie jest<br>leczona w Polsce zgodnie z zaleceniami<br>międzynarodowych towarzystw naukowych , w tym<br>Polskiego Towarzystwa Diabetologicznego ( PTD ) ,<br>świadczy według diabetologa to , że u mniej niż 7<br>proc . pacjentów z cukrzycą udaje się uzyskać<br>najważniejsze cele terapeutyczne , tj . odpowiedni<br>poziom glukozy ( mierzony wskaźnikiem hemoglobiny<br>glikowanej HbA1c ) , ciśnienia tętniczego oraz<br>lipidów ( cholesterolu ) we krwi .",
           "__label__meta_zero"
          ],
          [
           "Sprzedaż na poziomie 21 , 5 mln zł i 2 , 2 mln zł<br>zysku brutto , to wyniki jakie osiągnęła w I kw .<br>br . Gromada , trzecia pod względem wielkości sieć<br>hotelowa w Polsce . W I kw . 2011 r . Gromada<br>odnotowała 19 mln zł przychodów i niespełna milion<br>zł . zysku , co oznacza wzrost odpowiednio o 13 i<br>29 proc . Gromada , dysponująca łącznie 20<br>hotelami i ośrodkami wypoczynkowymi z ponad 2 , 1<br>tys . pokoi oraz siecią biur turystycznych ,<br>będzie pozbywać się nierentownych obiektów i<br>zarabiać głównie na usługach dla firm . Zajmie się<br>także turystyką medyczną . „ Chcemy być siecią<br>kojarzoną z turystyką kongresową i biznesową<br>poprzez duże centra konferencyjne , jak w<br>Warszawie i Krakowie , a także z niedrogą siecią<br>hoteli miejskich – zapowiada prezes Jan Błoński .",
           "__label__meta_zero"
          ],
          [
           "Dodaje , że jeśli w projekcie pojawią się ciekawe<br>rozwiązania , trzeba będzie – właśnie dla<br>bezpieczeństwa - podjąć współpracę z „ prawdziwą ”<br>medycyną . Obecnie takie kontakty NANOBIOM zawarło<br>z ośrodkami badawczymi , które umożliwiają<br>prowadzenie badań m . in . na myszach i prosiakach<br>. Te pilotażowe prace polegają na wprowadzaniu<br>nanocząstek do żywych organizmów i badaniu<br>mechanizmów ich wchłaniania oraz tego , jak<br>roznoszą się one po organizmie z krwioobiegiem .<br>Prof . Godlewski wyjaśnia , że nanoproszki krążące<br>w organizmie mogą znacznikować zmiany nowotworowe<br>. Daje to szansę wczesnego wykrycia choroby , a<br>nowotwór wcześnie wykryty jest kategoryzowany jako<br>choroba przewlekła , ale nie śmiertelna - różnica<br>jest olbrzymia i nadzieje wielkie .",
           "__label__meta_zero"
          ],
          [
           "Jednak pierwszy pacjent , który go przeszedł<br>musiał mieć przedtem wykonaną skomplikowaną<br>kilkugodzinną operację usunięcia trzustki z powodu<br>przewlekłego zapalenia tego narządu . Była bardzo<br>trudna , ponieważ mężczyzna już wcześniej<br>przechodził operację z tej przyczyny – wykonano mu<br>wówczas tzw . bypass żołądkowo - jelitowy , po<br>którym w jamie otrzewnej pozostało dużo zrostów .<br>„ Wycinając pacjentowi trzustkę wywołujemy u niego<br>cukrzycę typu 1 , która wymaga podawania insuliny<br>. Aby tego uniknąć z usuniętego narządu<br>natychmiast wyizolowali śmy wyspy trzustkowe i<br>wszczepili śmy je pod śluzówkę żołądka chorego .<br>Było to zatem autoprzeszczepienie , co jest<br>korzystne , bo nie grozi odrzuceniem przeszczepu i<br>nie wymaga stosowania leków immunosupresyjnych ” -<br>tłumaczył prof . Chmura .",
           "__label__meta_zero"
          ],
          [
           " Mało ludzi jest świadomych , że niedokrwistość (<br>anemia ) , u małego dziecka istotnie wpływa<br>negatywnie na jego intelekt w przyszłości . Przy<br>czym niedokrwistość z niedoboru żelaza jest jedną<br>z najczęstszych chorób przewlekłych u dzieci i<br>jednocześnie jedną z nielicznych , które możemy<br>skutecznie i szybko wyleczyć  – podkreślił .<br>Poprawa wykrywalności chorób hematologicznych<br>poprzez edukację nt . objawów i istoty wczesnej<br>diagnostyki w powodzeniu terapii to główny cel<br>kampanii edukacyjnej „ Odpowiedź masz we krwi ” ,<br>wspieranej m . in . przez Polskie Towarzystwo<br>Hematologów i Transfuzjologów , Polskie<br>Towarzystwo Onkologii i Hematologii Dziecięcej<br>oraz Instytut Hematologii i Transfuzjologii .<br>Patronat honorowy nad kampanią objęli konsultant<br>krajowy w dziedzinie hematologii , prof . dr hab .<br>n . med . Wiesław W . Jędrzejczak oraz konsultant<br>krajowy w dziedzinie medycyny pracy , lek . Paweł<br>Wdówik .",
           "__label__meta_zero"
          ],
          [
           "W ostatnich kilkudziesięciu latach więcej osób<br>umiera w szpitalach lub hospicjach . Z danych GUS<br>wynika , że w 1980 r . w szpitalu zmarło 42 , 7<br>proc . osób , 0 , 5 proc . w innym zakładzie<br>opieki zdrowotnej ; 49 , 1 proc . zgonów nastąpiło<br>w domu . Po 30 latach proporcje te znacznie się<br>zmieniły m . in . w związku z długotrwałymi<br>procesami leczenia w szpitalach . W 2011 roku aż<br>50 , 6 proc . zgonów nastąpiło w szpitalach , 6 ,<br>6 proc . w innych placówkach ( głównie w<br>hospicjach ) , a 37 proc . w domach . Tym samym<br>zmniejszało się obciążenie rodziny opieką nad<br>umierającymi . Jednocześnie można podejrzewać , że<br>wskutek zaniku naturalnego , w minionych epokach<br>historycznych , \" oswojenia śmierci \" stres<br>psychiczny wynikający z utraty bliskiej osoby nie<br>zmniejszył się , lecz wręcz przeciwnie – narasta .",
           "__label__meta_zero"
          ],
          [
           " Równolegle do działalności naukowej Centrum<br>prowadziło bardzo intensywne działania w obszarze<br>społecznym . Powołali śmy Akademię Zdrowego<br>Starzenia , która nie jest jedynie uniwersytetem<br>trzeciego wieku , ale i realizacją idei , że osoby<br>starsze należy nie tylko edukować , lecz starać<br>się też zmieniać ich styl życia . W cyklach<br>warsztatów przeszkolili śmy ok . 1 , 3 tys .<br>seniorów . Uważamy , że te działania to właściwa<br>droga do propagowania zdrowego starzenia się ,<br>dlatego mamy zamiar je kontynuować  - zaznaczył<br>prof . Kowalski . Tematy warsztatów w ramach<br>Akademii Zdrowego Starzenia dotyczyły utrzymania<br>sprawności fizycznej i psychicznej , zdrowego<br>odżywianie i radzenia sobie z chorobami typowymi<br>dla osób w starszym wieku . Z zajęć skorzystało<br>600 seniorów .",
           "__label__meta_zero"
          ],
          [
           "Jak wyjaśnił PAP prof . Krzysztof Simon , prezes<br>Polskiego Towarzystwa Epidemiologów i Lekarzy<br>Chorób Zakaźnych , jeśli wynik testu na HCV będzie<br>pozytywny pacjent powinien zgłosić się do lekarza<br>specjalisty chorób zakaźnych , który oceni , czy<br>infekcja ma charakter aktywny , czy też dodatni<br>wynik testu tylko świadczy o kontakcie z wirusem w<br>przeszłości . „ Niestety , większość przypadków<br>zakażenia przechodzi w postać przetrwałą i wymaga<br>lub będzie wymagała leczenia ” – ocenił<br>specjalista . O tym , jak bardzo potrzebna jest<br>edukacja społeczeństwa na temat WZW C i zachęcanie<br>do wykonywania testów świadczyć mogą wyniki<br>ostatnich badań przeprowadzonych przez instytut<br>badawczy GfK Polonia w lutym 2012 roku . Wskazują<br>one , że 32 proc . Polaków nigdy nie słyszało o<br>HCV i WZW C i tylko 6 proc . kojarzy skrót HCV z<br>wirusem wywołującym chorobę wątroby . Spośród osób<br>, które słyszały o HCV / WZW C 61 proc . było<br>mylnie przekonanych o istnieniu szczepionki<br>przeciwko HCV ( a tej ciągle nie opracowano ) .<br>Zaledwie 9 proc . zadeklarowało , iż wykonało<br>testy w kierunku zakażenia HCV .",
           "__label__meta_zero"
          ],
          [
           "Na jednym z blogów poświęconych Gdyni można<br>znaleźć taką informację o obiekcie : \" Hotel \"<br>Centralny \" został wzniesiony w 1928 roku przy ul<br>. Starowiejskiej 1 , w miejscu starej gospody . \"<br>Reklamowany jako \" pierwszorzędny dom , pokoje<br>zaopatrzone stale w ciepłą wodę i centralne<br>ogrzewanie . Na dole była restauracja i winiarnia<br>, duża sala pełniąca funkcję balowej lub<br>teatralnej oraz ogródek ze stolikami dla gości ,<br>ukrytymi pod parasolami lub drewnianym daszkiem \"<br>. Sielankę przerwała oczywiście wojna , ale po<br>wojnie właściciel odzyskał prawo posiadania<br>budynku . Nie na długo jednak .",
           "__label__meta_zero"
          ],
          [
           "Jednak duże sportowe imprezy takie jak Zimowe<br>Igrzyska Olimpijskie w roku 2014 i Mistrzostwa<br>Świata w Piłce Nożnej w roku 2018 powodują , że<br>baza rozwija się także w innych miastach , jak np<br>. w Soczi , które ma 13 , 2 proc . udziału w<br>budowanej i planowanej bazie hotelowej . Z innych<br>ośrodków największy wzrost markowej bazy hotelowej<br>odnotują m . in . Kaliningrad , Niżny Nowgorod i<br>Rostów nad Donem . Obecnie największą<br>międzynarodową grupą w Rosji jest Rezidor Hotel<br>Group , która dysponuje 21 hotelami z 6 357<br>pokojami , zaś w do roku 2018 chce zwiększyć swój<br>stan posiadania do 40 hoteli z 9 739 pokojami .",
           "__label__meta_zero"
          ],
          [
           "Obiekt oferuje 53 pokoje , salę konferencyjną ,<br>restaurację oraz podziemny parking . Według<br>zapowiedzi jeszcze w tym roku pod szyldem Best<br>Western rozpoczną działalność hotele w Gdańsku ,<br>Łebie i Samotworze pod Wrocławiem . „ W tym roku<br>podpisali śmy umowy już z pięcioma hotelami , z<br>czego cztery zaczną działać pod marką Best Western<br>jesienią . Tym sposobem nasza oferta wzbogaci się<br>o blisko 200 pokoi . A to jeszcze nie koniec .<br>Planujemy zamknąć rok 2012 z co najmniej 20<br>obiektami ” , mówi Gheorghe Marian Cristescu ,<br>regionalny dyrektor sprzedaży Best Western na<br>Polskę . W ciągu pierwszej połowy roku sieć Best<br>Western przyłączyła w Polsce jeden hotel ( Best<br>Western Poleczki ) z 24 pokojami , osiągając tym<br>samym stan 12 obiektów oferujących łącznie 1288<br>pokoi .",
           "__label__meta_zero"
          ],
          [
           "Hiszpańska sieć hotelowa Paradores jest synonimem<br>luksusu . Tu za pokój płaci się od 100 euro w górę<br>za noc , a w Pańskim hotelu , będącym wizytówką<br>grupy i położonym tuż obok słynnej katedry w<br>Santiago de Compostela - nawet 280 - 400 euro .<br>Mimo kryzysu Paradores dobrze sobie radzą . Jaka<br>jest Państwa filozofia działania ? To , co robimy<br>tutaj , robimy też w innych hotelach należących do<br>sieci . Jak Pani wie , nasza sieć liczy 83 lata<br>historii . Została ufundowana w 1928 r . Jej<br>powstaniu przyświecały jej trzy cele :<br>przywrócenie dawnej świetności historycznemu<br>dziedzictwu Hiszpanii – zamkom , pałacom , dawnym<br>klasztorom poprzez przekształcenie ich w hotele ,<br>po drugie - nadanie impulsu krajowej gospodarce<br>dzięki rozwojowi turystyki , a także ożywienie<br>turystyczne mniej znanych czy wręcz nieznanych<br>regionów i miejsc .",
           "__label__meta_zero"
          ],
          [
           "Młodzi krakowscy wynalazcy widzą w swoim pomyśle<br>duży potencjał komercjalizacyjny . Wynalazkiem<br>interesują się już różne placówki medyczne ,<br>jednak sprzedaż mogła by ruszyć dopiero po testach<br>urządzenia , czyli najwcześniej wiosną . \" Rynek<br>jest bardzo duży , szacuje się , że na całym<br>świecie liczba osób , u których zdiagnozowano<br>astmę , to ponad 250 mln . Nasz projekt stawia na<br>rozwiązywanie codziennych problemów pacjenta .<br>Chcemy , aby z naszym urządzeniem komfort ich<br>życia rósł , a uciążliwość choroby malała \" -<br>podsumował Tomasz Mikosz . Wynalazek wszedł by na<br>rynek poprzez start - up . Krakowski start - up<br>zdobył już wsparcie finansowe zlokalizowanego w<br>Berlinie inkubatora innowacji medycznych -<br>Startupbootcamp Digital Health . Wynalazek znalazł<br>się w gronie 10 zwycięskich projektów zgłoszonych<br>spośród 513 prac z całego świata do konkursu<br>Startupbootcamp Digital Health .",
           "__label__meta_zero"
          ],
          [
           "Mam pytanie odnośnie prowadzenia ciąży , czy w<br>przypadku nadciśnienia w drugiej części ciąży i<br>przyjęcia do siebie do szpitala wykonuje często<br>badania np . KTG i koniecznie ocenę przepływów<br>Doppler ? Właśnie zastanawiam się nad zmianą<br>lekarza i pod uwagę biorę między innymi dr Piętę .<br>Z góry dzięki . Pozdrawiam",
           "__label__meta_zero"
          ],
          [
           "Naukowcy z zespołu dr hab . Katarzyny Radwańskiej<br>z Instytutu Biologii Doświadczalnej PAN w<br>Warszawie przez 95 dni prowadzili eksperyment , w<br>którym badali skłonność myszy do sięgania po<br>alkohol . \" Myszy piją alkohol i to bardzo chętnie<br>. Natomiast nieco trudniej powiedzieć , czy myszy<br>mogą być od tego alkoholu uzależnione \" - mówi<br>Radwańska . W swojej pracy badawczej zajmuje się<br>ona m . in . zwierzęcymi modelami uzależnienia od<br>alkoholu , a jednym z jej celów badawczych jest<br>zrozumienie molekularnego , komórkowego podłoża<br>pamięci uzależnienia . \" Jeśli psychiatra ma<br>określić , czy jego pacjent jest uzależniony np .<br>od alkoholu , to zadaje mu konkretne pytania : jak<br>długo pije , czy jego picie przekłada się na życie<br>prywatne , zawodowe . My w pewnym sensie takie<br>same pytania musimy zadać myszom , które jak<br>wiadomo odpowiadają mniej chętnie \" - opisuje<br>badaczka .",
           "__label__meta_zero"
          ],
          [
           "„ Prof . Bandmann opisał u niej powolne zanikanie<br>neuronów , które produkują dopaminę . Jest to<br>dokładnie ten sam mechanizm , który wywołuje<br>postęp choroby u ludzi . Kiedy w określonej części<br>naszego mózgu zaniknie 80 procent takich neuronów<br>, wówczas pojawia się choroba Parkinsona . U ryby<br>można prześledzić przebieg tych patologicznych<br>zmian ” – wyjaśnia profesor . Uczeni szukają zatem<br>sposobów , żeby im zapobiec . Rozpuszczają w<br>wodzie różne substancje i sprawdzają , czy mogą<br>one wstrzymać lub przynajmniej opóźnić proces<br>zanikania neuronów dopaminergicznych . Od wielu<br>lat nie ma nowych leków na chorobę Parkinsona .<br>Dawki klasycznego leku muszą być stopniowo<br>zwiększane , a i tak po pewnym czasie przestają<br>działać .",
           "__label__meta_zero"
          ],
          [
           " O innowacyjności naszego rozwiązania technicznego<br>w konstrukcji nowego typu tomografu EPRI stanowi<br>możliwość otrzymywania w czasie kilku sekund<br>obrazów rozkładu stężenia tlenu we krwi pacjenta w<br>przestrzeni 3D . Stężenie tlenu we krwi to istotny<br>parametr w wykrywaniu i leczeniu nowotworów .<br>Możliwość obrazowania jego rozkładu stanowi<br>zasadniczy postęp w odniesieniu do innych technik<br>diagnozowania , takich jak PET , MRI . i wielu<br>innych  – tłumaczy inicjator wynalazku dr Tomasz<br>Czechowski z Laboratorium Tomografii EPR Instytutu<br>Technologii Materiałów . Wyjaśnia , że z chwilą<br>wykrycia nowotworu należy pacjenta przeprowadzić<br>przez odpowiednią terapię . Zastosowanie np .<br>radioterapii wymaga wiedzy o odpowiednim poziomie<br>stężenia tlenu wokół nowotworu . Jeśli poziom ten<br>utrzymuje się poniżej pewnej wartości , wówczas<br>niszczone są bardziej zdrowe komórki aniżeli guz -<br>mniej czuły na terapię . Jeżeli stężenie tlenu<br>jest powyżej określonej wartości , to terapia<br>będzie efektywniejsza . Ten wskaźnik pozwala<br>lekarzom na zaplanowanie optymalnego leczenia ,<br>które w mniejszym stopniu obciąża pacjenta .",
           "__label__meta_zero"
          ],
          [
           "Jednoczesny przeszczep był u tego chorego<br>konieczny z powodu genetyczne uwarunkowanej<br>choroby spichrzeniowej , która powoduje , że<br>brakuje niektórych enzymów w wątrobie i odkładają<br>się substancje uszkadzające mięsień sercowy . \"<br>Gdy w takiej sytuacji przeszczepimy jedynie serce<br>, to wątroba nadal nie produkuje tych enzymów i<br>nowe serce zostanie uszkodzone \" – wyjaśniał prof<br>. Kuśmierczyk . Specjalista powiedział , że w<br>przyszłości będzie coraz większe zapotrzebowanie<br>na jednoczesne przeszczepy serca i wątroby ,<br>ponieważ przybywa pacjentów w młodym wieku z tzw .<br>jednokomorowym sercem . \" Polska jest drugim<br>krajem na świecie po Stanach Zjednoczonych , w<br>których operacje się najwięcej noworodków z<br>niedorozwojem lewej komory serca \" – podkreśla<br>prof . Kuśmierczyk .",
           "__label__meta_zero"
          ],
          [
           "Prawidłowa struktura kości jest wypadkową<br>aktywności dwóch typów komórek . Pierwsze to<br>osteoblasty , tworzą one mineralne rusztowanie<br>kości . Drugi typ to osteoklasty . Komórki te<br>odpowiadają za resorpcję kości , czyli wchłaniają<br>kości , są komórkami żernymi . Równowaga pomiędzy<br>przeciwstawnymi aktywnościami tych dwóch typów<br>komórek podlega regulacji przez hormony ,<br>neurotransmitery i cytokiny . Urszula Kędzierska<br>zamierza poznać ścieżki sygnałowe aktywowane w<br>komórkach kości przez cytokiny . Jak wyjaśnia ,<br>gdy dochodzi do infekcji , aktywowany układ<br>odpornościowy produkuje cytokiny prozapalne . Te<br>białka są cząsteczkami sygnałowymi i niosą<br>informacje o zagrożeniu zrozumiałą dla większości<br>komórek organizmu . Organizm przełącza się na „<br>awaryjny tryb pracy ” i rozwija ogólnoustrojową<br>reakcję zapalną . Taki stan nie jest stanem<br>równowagi , funkcje innych układów są zaburzone i<br>podporządkowane głównemu celowi jakim jest<br>przeżycie .",
           "__label__meta_zero"
          ],
          [
           "Wybór zarządu padł na kraje o stosunkowo niskich<br>kosztach wprowadzania produktów na rynek : Czechy<br>, Węgry , Słowację , Słowenię oraz Rumunię .<br>Środki otrzymane z NCBR spółka przeznaczy na<br>opracowanie i weryfikację strategii wejścia na<br>rynki zagraniczne . Umiędzynarodowienie<br>działalności będzie się łączyć z udziałem w<br>targach , szkoleniach i spotkaniach biznesowych .<br>„ W dalszej perspektywie planujemy wprowadzenie na<br>rynki zagraniczne całej oferty produktowej<br>przedsiębiorstwa oraz preparatów , które pozostają<br>obecnie w przygotowaniu . Aktualnie mamy w swoim<br>portfolio 11 preparatów . Linia Calmapherol to 4<br>preparaty – dla pacjentów z podrażnioną ,<br>zaczerwienioną i swędzącą skórą . Na linię<br>Calmapherol Baby składają się 3 preparaty<br>pielęgnacyjne dla niemowląt i dzieci z atopowym<br>zapaleniem skóry . Dla osób z suchą i przesuszoną<br>skórą przygotowali śmy linię Idravitae , natomiast<br>dla tych , którzy mają skłonności do opryszczki ,<br>mamy innowacyjny preparat Celip duo ” – wylicza<br>Prejsnar .",
           "__label__meta_zero"
          ],
          [
           "Na razie wcale nie jest tak prosto wykazać , że<br>zakatarzony pacjent , który przychodzi do lekarza<br>z gorączką i kaszlem , ma akurat grypę . Względną<br>pewność dają tylko niedostępne dla zwykłych<br>zjadaczy chleba badania pobranych od pacjenta<br>próbek ( badania masowe lub PCR ) . To testy ,<br>które są nie tylko drogie , ale w dodatku<br>zabierają sporo czasu - na wyniki trzeba czekać<br>kilka dni . Lekarze , nie mogąc od razu ustalić ,<br>czy mają do czynienia z infekcją wirusową czy<br>bakteryjną , czasami - na wszelki wypadek -<br>przepisują choremu antybiotyki . A to w przypadku<br>obecności wirusa , np . grypy czy rinowirusa ,<br>jest zupełnie niepotrzebne i przyczynia się do<br>osłabienia organizmu , a także powstawania<br>szczepów bakterii opornych na antybiotyki .",
           "__label__meta_zero"
          ],
          [
           "O śródbłonek możemy zadbać sami , przede wszystkim<br>zwracając uwagę na to , co pojawia się na naszym<br>talerzu . \" Należy pamiętać , że dieta powinna być<br>zbilansowana , bogata w warzywa i owoce , które są<br>źródłem witamin i antyoksydantów , a ograniczać<br>spożycie tłuszczów zwierzęcych \" - wyjaśnia dr<br>Balcerczyk . \" Po drugie , strać się eliminować<br>stres , co nie zawsze jest łatwe i zażywać dużo<br>ruchu . To wszystko , zapewni odpowiedni profil<br>aktywności śródbłonka i zminimalizuje ryzyko<br>chorób układu krążenia \" - dodaje . Współczesne<br>badania śródbłonka są prowadzone na wielu<br>poziomach i dotyczą różnych aspektów jego<br>funkcjonowania . Skuteczniejsze leczenie schorzeń<br>śródbłonka jest możliwe dzięki coraz lepszemu<br>rozumieniu jego roli w rozwoju poszczególnych<br>chorób .",
           "__label__meta_zero"
          ],
          [
           "Prototyp aparatu , który powstał dzięki współpracy<br>naukowców Politechniki Śląskiej , Politechniki<br>Częstochowskiej , lekarzy z Centrum Leczenia<br>Oparzeń w Siemianowicach Śląskich i inżynierów z<br>Instytutu Aparatury Medycznej w Zabrzu przesuwa<br>się nad ciałem pacjenta , „ skanując ”<br>powierzchnię rany . Po dokonaniu pomiaru<br>termogramy są \" rozkładane \" na płaszczyźnie i<br>porównywane ze sobą . Dlatego poza samą<br>diagnostyką oparzenia termowizja opasająca pozwala<br>na porównanie sposobu i tempa gojenia się ran ,<br>umożliwiając dopasowanie terapii i efektywne<br>leczenie . „ Droga takiego wynalazku do<br>powszechnego użycia jest bardzo długa ” – mówi<br>prof . Majchrzak . \" Najpierw jest koncepcja i<br>model wirtualny , który tworzyli śmy we współpracy<br>z siemianowickimi lekarzami , poprzez wykonanie<br>prototypu przez zabrzański IAM , aż po testy ,<br>których wciąż jest mało . Taki sprzęt jest<br>najpierw testowany na manekinach , sprawdza się<br>bezpieczeństwo jego użycia , testuje sposób<br>prowadzenia badania ( np . odległość od rany ,<br>pozwalającą optymalizować pomiar ) , potem<br>prowadzi się test na zdrowych i chorych ” –<br>opisuje badaczka .",
           "__label__meta_zero"
          ],
          [
           "Wyjątkową zaletą bazy opartej na pełnych genomach<br>126 zdrowych , długowiecznych ( 90 + ) Polaków<br>jest połączenie danych klinicznych ,<br>biochemicznych i genomowych . To genetyczny<br>wzorzec osoby długowiecznej , w dobrej kondycji .<br>Ma postać bazy danych , do której można odnosić<br>dane genetyczne każdego polskiego pacjenta , by<br>móc zaoferować mu precyzyjną diagnostykę genomową<br>. Długość życia i liczba osób starszych będą w<br>najbliższej przyszłości rosły . Jak mówiła dr hab<br>. Małgorzata Mossakowska z Instytutu Biologii<br>Komórkowej i Molekularnej , do badania wybrano<br>osoby w wieku powyżej 90 lat , niemające problemów<br>z codziennymi czynnościami życiowymi ( co najmniej<br>4 punkty na 6 możliwych ) , bez poważnych<br>problemów z pamięcią i funkcjami poznawczymi ( co<br>najmniej 20 punktów na 30 możliwych ) , które<br>przed 80 . rokiem życia nie chorowały na cukrzycę<br>typu 2 , udar , zawał serca ani nowotwory i miały<br>prawidłowe lub niemal nieprawidłowe wyniki badań<br>biochemicznych .",
           "__label__meta_zero"
          ],
          [
           "Badania zweryfikują pogląd , że pacjenci po<br>leczeniu ortodontycznym miewają problemy z zębami<br>i muszą częściej odwiedzać dentystów . Dotąd nie<br>dowiedziono jednoznacznie , że takie leczenie<br>osłabia szkliwo , natomiast korzyści z leczenia<br>ortodontycznego podejmowanego z powodów<br>pozaestetycznych nie budzą najmniejszych<br>wątpliwości . „ Dentyści maja sporą wiedzę na<br>temat wycieku metali z aparatów ortodontycznych i<br>dostawania się ich do śliny , mineralodzy mają<br>opracowane struktury zębów . Warto połączyć tę<br>wiedzę . Jednak metodyka badań nad wpływem tak<br>uwalnianych metali na zdrowie jest skomplikowana .<br>Badania kliniczne , gdzie potrzebujemy dużej próby<br>, są dość trudne dlatego , że na stan jamy ustnej<br>i śliny wpływają też nawyki poszczególnych<br>pacjentów i genetyka . Jeśli zaś chodzi o<br>eksperymenty , to ciężko jest oddać realne<br>środowisko , które panuje w jamie ustnej , gdzie<br>zęby są wystawione na tarcie , a skład śliny<br>nieustannie się zmienia - ciężko to odwzorować w<br>warunkach laboratoryjnych ” - tłumaczy w rozmowie<br>z PAP dr Topolska .",
           "__label__meta_zero"
          ],
          [
           "„ To bliskie sąsiedztwo człowieka . W przypadku<br>braku lub zbyt małej liczby ptasich żywicieli , a<br>także w przypadku nadmiernego wzrostu ich<br>populacji , wygłodniałe obrzeżki mogą przenikać do<br>mieszkań i atakować ludzi , głównie podczas<br>odpoczynku nocnego ” – powiedział PAP prof .<br>Solarz , który kieruje Zakładem Parazytologii<br>Wydziału Farmacji z Oddziałem Medycyny<br>Laboratoryjnej ŚUM w Sosnowcu . Obrzeżki gołębie<br>kłują bardzo boleśnie , a ich ofiara długo odczuwa<br>ból i świąd . Zmiany skórne mogą się utrzymywać<br>nawet do 1 , 5 roku . Jak podkreśla parazytolog ,<br>bardzo niebezpieczne jest zaatakowanie twarzy –<br>może spowodować opuchliznę lub paraliż kleszczowy<br>uniemożliwiający oddychanie . Efektem ukłucia może<br>być też zapalenie naczyń limfatycznych , a u osób<br>wrażliwych – reakcje alergiczne . „ W skrajnych<br>przypadkach powtarzające się ukłucia obrzeżków u<br>osób wrażliwych mogą spowodować wstrząs<br>anafilaktyczny i śmierć , notowano takie przypadki<br>w Polsce ” – przestrzegł prof . Solarz .",
           "__label__meta_zero"
          ],
          [
           "Sprawdźmy , czy usługi , takie jak sauna , posiłki<br>, parking nie są dodatkowo płatne . Zaszeregowania<br>obiektu do odpowiedniego rodzaju i kategorii<br>dokonuje marszałek województwa , który również<br>sprawdza czy przedsiębiorcy przestrzegają<br>określonych wymagań . Wykaz obiektów hotelarskich<br>możemy sprawdzić w specjalnym rejestrze .<br>WymaganiaW hotelach i motelach pięcio - , cztero -<br>i trzygwiazdkowych w każdym pokoju musi znajdować<br>się łazienka , zaś w przypadku pensjonatów tylko w<br>tych , które posiadają pięć lub cztery gwiazdki .<br>Tylko cztero - i pięciogwiazdkowe hotele i<br>wszystkie motele muszą zapewnić klientowi parking<br>strzeżony , garaż strzeżony bądź strzeżone miejsce<br>parkingowe .",
           "__label__meta_zero"
          ],
          [
           "Nie po to śledzi ktoś markę luksusowego samochodu<br>aby oglądać kotki . Ani też strony hotelu aby<br>codziennie rano dowiadywać się jak to super jest<br>wypić teraz kawę . Śledzi albo dlatego , że wyraża<br>uznanie dla marki ( jej usług czy produktów ) ,<br>lub też po to aby być na bieżąco z jej ofertą (<br>zwłaszcza promocjami , nowościami ) . Widzicie<br>paradoks ? Płacimy za reklamę , kiedy nie powinni<br>śmy i nie korzystamy z niej kiedy możemy ! W<br>sytuacji kiedy darmowo można promować własne<br>usługi to wolimy bawić się w sportowy newsroom .<br>Jak to miało miejsce np . w przypadku złotych<br>medali olimpijskich , kiedy ze świecą można było<br>szukać profili nie informujących o tym .<br>Prawdopodobnie największy z wymienionych błędów .<br>Zwłaszcza patrząc z perspektywy branży w jakiej<br>pracujemy .",
           "__label__meta_zero"
          ],
          [
           "Badacz z Instytutu Farmakologii PAN przypomniał ,<br>że możliwość leczniczego wykorzystania liści<br>konopi odkryli już w starożytności mieszkańcy<br>krajów Wschodu : Indii , Chin , Mezopotamii czy<br>Egiptu . Według źródeł pisanych Chińczycy już w<br>III tysiącleciu p . n . e . wykorzystywali<br>ekstrakty z tych roślin jako leki przeciwbólowe i<br>przeciwspastyczne ( zmniejszające sztywność mięśni<br>) . W świętych księgach hinduizmu - Wedach<br>wspomina się o konopiach jako o leku przeciw<br>bólowi , bezsenności oraz środkowi przeciw<br>znieczuleniu operacyjnemu . Europejczycy –<br>przypomniał profesor – wpadli na medyczne<br>zastosowanie tej rośliny stosunkowo późno – w<br>końcu XVIII wieku . Co więcej , w czasach nam<br>bliższych – na początku XX wieku , zdelegalizowano<br>w USA i Kanadzie marihuanę , podobnie stało się na<br>naszym kontynencie . Potem , z biegiem czasu , na<br>Zachodzie narastała kampania przeciw marihuanie ,<br>która spowodowała rodzaj społecznego tabu wokół<br>jakiegokolwiek jej wykorzystania , także w celach<br>terapii .",
           "__label__meta_zero"
          ]
         ],
         "hovertemplate": "Annotation=__label__meta_zero<br>t-SNE 1=%{x}<br>t-SNE 2=%{y}<br>sentence=%{customdata[0]}<br>annotation=%{customdata[1]}<extra></extra>",
         "legendgroup": "__label__meta_zero",
         "marker": {
          "color": "#00cc96",
          "symbol": "circle"
         },
         "mode": "markers",
         "name": "__label__meta_zero",
         "orientation": "v",
         "showlegend": true,
         "type": "scatter",
         "x": [
          -9.96396541595459,
          8.047004699707031,
          9.450429916381836,
          6.4559197425842285,
          9.37680721282959,
          8.368517875671387,
          -7.647671699523926,
          7.412846565246582,
          3.241088628768921,
          8.732274055480957,
          3.758667230606079,
          3.284409999847412,
          5.551212787628174,
          -8.175799369812012,
          7.159665584564209,
          2.178213357925415,
          7.505655765533447,
          10.465492248535156,
          9.910727500915527,
          -8.521549224853516,
          7.708725452423096,
          5.35895299911499,
          6.192840099334717,
          9.30010986328125,
          -5.075630187988281,
          4.1634697914123535,
          4.963432312011719,
          -8.472705841064453,
          8.542237281799316,
          4.28963565826416,
          8.069852828979492,
          5.309085845947266,
          9.70286750793457,
          5.3707404136657715,
          6.229619026184082,
          7.17437219619751,
          -6.874261379241943,
          3.5304999351501465,
          2.7436513900756836,
          2.256568431854248,
          6.564841270446777,
          -7.11112117767334,
          7.063777923583984,
          8.883326530456543,
          9.763296127319336,
          8.469828605651855,
          9.856329917907715,
          9.700953483581543,
          6.023062229156494,
          7.982128620147705,
          8.925607681274414,
          8.784202575683594,
          7.7092156410217285,
          8.361506462097168,
          -9.452494621276855,
          -8.550058364868164,
          8.11755084991455
         ],
         "xaxis": "x",
         "y": [
          -3.4858996868133545,
          6.782368183135986,
          6.967838764190674,
          3.3410348892211914,
          4.728878021240234,
          3.839926242828369,
          -9.993721961975098,
          9.194255828857422,
          -11.220666885375977,
          5.508620262145996,
          -11.224527359008789,
          -9.31117057800293,
          -10.28099250793457,
          1.5782006978988647,
          6.011194705963135,
          -12.371277809143066,
          7.79306173324585,
          6.648129940032959,
          5.54365873336792,
          0.330173522233963,
          8.898512840270996,
          -10.689536094665527,
          5.2663140296936035,
          6.779801368713379,
          3.3706204891204834,
          -11.145627975463867,
          8.924059867858887,
          0.4364825189113617,
          5.09632682800293,
          -11.462465286254883,
          7.514845848083496,
          9.211103439331055,
          5.255105018615723,
          -10.705399513244629,
          5.465968608856201,
          5.253478527069092,
          -10.13508415222168,
          -11.496679306030273,
          -12.056672096252441,
          -10.826783180236816,
          4.158786296844482,
          4.339451789855957,
          6.890992164611816,
          8.156822204589844,
          7.252277851104736,
          7.205667972564697,
          8.032179832458496,
          4.10219669342041,
          7.829850196838379,
          8.44312572479248,
          6.180983066558838,
          4.7738542556762695,
          7.831441402435303,
          7.35612678527832,
          -9.603866577148438,
          -0.543316662311554,
          5.827622890472412
         ],
         "yaxis": "y"
        },
        {
         "customdata": [
          [
           "Spędzili śmy noc przy okazji zwiedzania kopalni .<br>Położenie hotelu nie jest zbyt relaksujące : koło<br>dużego marketu i drogi . Mimo to w pokoju cichutko<br>. Od kopalni 15 min spacerkiem . W środku bardzo<br>ładnie i gustownie . Nowoczesne , ale przytulne<br>wnętrza . Obsługa miła , ale trochę słabo<br>zorganizowana . Trochę profesjonalnego szlifu<br>brakuje . Śniadania ok .",
           "__label__meta_amb"
          ],
          [
           "Za dużo by pisać , w skrócie plusy i minusy :<br>PLUSY : Malownicze położenie , z widokiem na<br>jezioro , spokój , cisza , duży teren wokół<br>obiektu , miła obsługa , piękny z potencjałem<br>pałac , spa , duży plus za stół pingpongowy ! ! ,<br>smaczne śniadania , można powiedzieć wręcz<br>rodzinna atmosfera . MINUSY : Tak jak pisała m<br>hotel z potencjałem , widać jednak , że nikt od<br>dawno tu już nie inwestował a marketing zatrzymał<br>się w PRLu , gdzie dominowała zasada klient dla<br>nas nie my dla niego . W pokoju brak suszarki ,<br>tak jak o śniadaniach nie mogę niczego złego<br>powiedzieć tak o obiadokolacji już tak . Porcje<br>małe , potrawy mało wyszukana a ' la bar mleczny (<br>nawet smaczne ) do tego ceny astronomiczne nie<br>adekwatne do reszty .",
           "__label__meta_amb"
          ],
          [
           "Pani Doktor bardzo sympatyczna . To była moja<br>pierwsza wizyta wybrana dzięki opiniom ze strony<br>znanylekarz.pl I nie zawiodła m się . Życzliwe<br>podejście do pacjenta , wyjaśnienie każdej<br>wątpliwości oraz postrzeganie problemu szeroko tzn<br>. nie tylko ginekologicznie , ale też<br>endokrynologicznie . Podczas wizyty nie czuła m w<br>ogóle skrępowania , nie było zbędnych pytań ,<br>tylko same konkrety . A przy tym wizyta w stosunku<br>do innych specjalistów w atrakcyjnej cenie .<br>Polecam z czystym sumieniem . - - - - - - - - - -<br>- - - - - - - Niestety przy kolejnej wizycie w<br>marcu bardzo się zawiodła m , gdyż była m po<br>zabiegu a Pani Doktor zrobiła przegląd w 2 minuty<br>nie mówiąc nic . Gdyby m nie zadawała pytań , nie<br>otrzymała by m żadnych odpowiedzi ani informacji<br>co dalej mam robić i jak mam dalej postępować .<br>Rozumiem , że było opóźnienie w wizytach ponad 15<br>minut , ale pacjent płaci i chce być należycie<br>obsłużony . Niestety jak na początku miała m dobre<br>zdanie , tak po kolejnej wizycie się zmieniło .<br>Dodatkowo Pani Doktor twierdziła , że nadżerki nie<br>mam , a lekarze w szpitalu stwierdzili , że mam<br>bardzo rozległą , więc to chyba Pani Doktor cały<br>ten pośpiech powoduje , że wiele rzeczy Pani nie<br>dostrzega . Nie chcę wchodzić w kompetencje bo<br>myślę , że jest Pani na pewno dobrym lekarzem ,<br>ale pospiech nie jest dobrym doradcą i można<br>szybko stracić tym samym pacjenta .",
           "__label__meta_amb"
          ],
          [
           "Domek , który dostali śmy , nie był uwzględniony<br>na zdjęciach , które są dostępne na stronie<br>internetowej Villa Baltica ani Booking.com ( skąd<br>zamawiali śmy ) . Był to domek \" osobniak \" , nie<br>szeregówka - co było w sumie dobre , poza jedną<br>kwestią : temperatura w nocy bardzo szybko spadała<br>, przez co rano w domku było bardzo chłodno (<br>niefajne , mając na uwadze , że byli śmy z<br>półrocznym dzieckiem ) . Poza tym nie mam<br>zastrzeżeń : przyzwoity standard , bez luksusów ,<br>ale tych nie oczekiwali śmy , przede wszystkim zaś<br>- w oddaleniu od centrum Niechorza i całej<br>tamtejszej tandety , blisko lasu , cicho i<br>sympatycznie . Bardzo dobry kontakt z właścicielem<br>, miły człowiek .",
           "__label__meta_amb"
          ],
          [
           "Doktor bardzo dobry , kompetentny ale sądzę , że<br>zbyt mało czasu poświęca swoim pacjentom , no i to<br>jest ten minus , ale reszta jest nie do podważenia<br>. Jedynie co to pan na portierni zachowuje sie<br>arogancko i wyniośle ( choc nie wiem czy jeszcze<br>tam pracuje , bo dawno nie była m u doktora ) ,<br>ale oczywiście to nie wpływa na ocenę .",
           "__label__meta_amb"
          ],
          [
           "Pierwszy raz był em u dietetyka i chyba ostatni .<br>Po prostu otyłość utrudnia mi życie i coś muszę z<br>tym zrobić . Pani była bardzo miła i pewnie<br>kompetentna , dała mi szczegółowy jadłospis , ale<br>to nie dla mnie . Ja pracuję , żona też , w domu<br>obowiązki liczne , a do przygotowywania tych<br>posiłków z jadłospisu musiał by m chyba zatrudnić<br>gosposię , i to na cały etat . Sama lista<br>składników do zakupu na pierwsze dwa dni - to<br>chyba z 50 pozycji , część nie do kupienia w<br>zwykłym osiedlowym sklepie , a przygotowywanie to<br>co dzień najmniej ze 2 - 3 godziny . Skończyło się<br>na tym , że odrzucił em z posiłków cukier , mięso<br>wieprzowe , pieczywo , a zastąpił em to owocami ,<br>warzywami , miodem , rybą . Ale o tym mogę<br>poczytać w pierwszym lepszym poradniku , nie muszę<br>chodzić do dietetyka . Widocznie to specjalista<br>dla gospodyń domowych , które nudzą się w domu i<br>mogą pół dnia spędzić na zakupach i pitraszeniu .<br>A ja mam za dużo roboty",
           "__label__meta_amb"
          ],
          [
           "Wszędzie blisko . To co chcesz zobaczyć masz w<br>zasięgu ręki . Apartament jest wygodny , cichy i<br>chłodny ( latem ! ) . Dużym minusem jest żebracze<br>śniadanie serwowane w kawiarence ( pół kanapki ! )<br>i za to odejmuje punkt w recenzji . Myślę , że<br>dodatkowe pół bułki nie było by wielkim kosztem<br>dla hotelu , a tak : wstyd !",
           "__label__meta_amb"
          ],
          [
           "Zacznę od plusów : Animatorzy - bez wyjątku -<br>znakomici ! ! ! Pomocni dzieciom , otwarci do<br>zabawy , uśmiechnięci , MEGA zaangażowani w swoją<br>pracę , kulturalni , z wielką pasją i łatwością<br>kontaktu z dziećmi , mili , po prostu SUPER .<br>Zwiedzili śmy wiele miejsc ale takich animacji i<br>przede wszystkim takich Animatorów nie spotkali<br>śmy . Kolejnym atutem odległość od morza ,<br>następnym NOWY plac zabaw i baseny dla dzieci . No<br>i jeszcze Uśmiech i słyszane z dala \" Dzień Dobry<br>\" od obsługi sprzątającej . Na tym z plusami tego<br>miejsca można było by zakończyć . Pokój - mieli<br>śmy studio plus po remoncie , w sumie ok , choć<br>widać , że remont robiony raczej w pośpiechu - w<br>łazience pęknięta płytka , w wielu miejscach<br>brakuje już fugi , mała łazienka . Pokoju do<br>plusów nie zaliczam , choć nie uważam , że był zły<br>. BOISKA dla dzieci - to totalna masakra !<br>Asfaltowa , krzywa nawierzchnia , mini bramki , aż<br>szkoda tego opisywać . Najgorsze rozczarowanie to<br>KUCHNIA . Generalnie - najgorsza strona tego<br>miejsca . Mała różnorodność potraw , z reguły<br>podane \" bez wyrazu \" , jak na wiejskiej stołówce<br>a nie w restauracji , dania główne - bez względu<br>na porę przyjścia zwykle zimne lub \" letnie \" ,<br>kawa i kruche ciastko - totalne nieporozumienie .<br>Cieszymy się , że nasze dzieci wróciły zachwycone<br>i to najważniejsze . Bez dzieci do tego miejsca<br>nie wybrał by m się nigdy więcej . Za takie czy<br>niewiele większe pieniądze można znaleźć wiele<br>atrakcyjnych ofert .",
           "__label__meta_amb"
          ],
          [
           "Lokalizacja super , wszędzie blisko na piechotę .<br>Hotel nie dysponuje własnym parkingiem , trzeba<br>zostawić auto na oddalonym o ok . 5 min . na<br>piechotę parkingu płatnym albo ( jak się znajdzie<br>miejsce ) na ulicy ( płatne od poniedziałku do<br>piątku ) . Jedank bagaże można wyładować przed<br>hotelem , gdyż jest jedno zarezerwowane miesce<br>przeznaczone na ten cel . Nasz pokój był raczej<br>ciasny , ale jakoś się pomieścili śmy . Był<br>elektryczny czajnik - plus za to . Pokoje<br>usytuowane są na czterech piętrach , hotel jednak<br>nie dysponuje windą . Wnoszenie bagaży krętymi<br>schodami było uciążliwe . Sniadanie ok ( twarog ,<br>ser zolty , parowki , jajecznica na zamowienie (<br>nie probowalismy ) , mozzarella z pomidorami ,<br>chleb toastowy + toster , woda , sok jabłkowy i<br>pomarańczowy , mleko , chyba płatki albo musli ,<br>więcej nie pamiętam ) , kawa raczej słaba . W sali<br>, gdzie podawano śniadanie było zimno . Obsługa<br>bardzo miła .",
           "__label__meta_amb"
          ],
          [
           "Ten hotel ma tak naprawdę dwa oblicza : 1 .<br>Pozytywne : - piękna okolica , sąsiedztwo Zalewu<br>Zegrzyńskiego , piaszczysta plaża , możliwość<br>wypożyczenia kajaków - Kiddos - genialne miejsce<br>dla dzieci w którym nigdy się nie nudzą ,<br>profesjonalna obsługa z możliwością podglądu na<br>ekranach - SPA - bardzo profesjonalne - Basen -<br>rewelacja - szczególnie fajna rwąca rzeka -<br>Śniadania - duży wybór aczkolwiek monotonne -<br>Hotel duży , przestronny z ogromną ilością miejsca<br>z przemiłą obsługą - Yach Club restauracja -<br>rewelacja - najwyższy poziom obsługi i produktów z<br>miejscem dla dzieci do zabawy 2 . Negatywne : -<br>Śniadania - w momencie gdy mają duże obłożenie<br>chaos w restauracji - brak jedzenia , masła ,<br>wszedzie kolejka , nie nadążają dokładać produktów<br>- Śniadania - krzesełka dla dzieci - hotel który<br>się reklamuje jako dla dzieci do śniadania ma 5<br>krzesełek dla dzieci - rodzice chodzą i szukają<br>jak posadzić swoje pociechy żeby sami mogli zjeść<br>a obsługa informuje że więcej nie ma - nikt nie<br>każe kupować markowych ale z Ikei za kilkadziesiąt<br>złoty można by chyba kupić dodatkowe 10 - Góralska<br>Chata - jak jest obłożenie 15 minut czeka się na<br>to żeby w ogóle kelner podszedł przyjąć zamówienie<br>przy czym po chwili jest duża szansa , że<br>dostaniemy informację , że produktu już nie ma ,<br>danie dla dzieci kurczak z frytkami w każdym<br>przypadku przesuszony jakby był odgrzewany .<br>Największe kuriozum : pierogi ruskie ze słodkim<br>serem",
           "__label__meta_amb"
          ],
          [
           "Witam ! Biorąc wszystkie aspekty pod uwagę ,<br>wystawiam ocenę 4 / 5 , którą uważam w 100 %<br>adekwatną do wystroju , obsługi , pomieszczeń ,<br>lokalizacji itp . Najbardziej podobała mi się sama<br>lokalizacja hotelu oraz świetna kolacja z<br>szampanem i tutaj pochwała dla Pana w okularach ,<br>który nas obsługiwał . Najgorzej z całego pobytu<br>wypadła obsługa powitalna , zaraz po wejściu do<br>hotelu . Pani , która nas przyjmowała była<br>strasznie , ale to strasznie niemiła . Naprawdę<br>nie jestem osobą , która się czepia i szuka dziury<br>w całym , ale podejście do klienta , który<br>przyjechał z \" Gruponu \" czy jakiegoś innego<br>portalu na którym wykupił \" zniżkę \" na pobyt nie<br>jest powodem by traktować go dużo gorzej niżeli<br>inną osobę . Może po prostu trafili śmy na gorszy<br>dzień tamtej Pani . Przy wyjeździe natomiast była<br>bardzo miła i sympatyczna inna kobieta . Polecam z<br>czystego serca !",
           "__label__meta_amb"
          ],
          [
           "Hotel dobrze , położony . Blisko ruchliwej ulicy<br>ale między budynkami więc jest cichutko . W hotelu<br>są \" super \" windy - klaustrofobiczne , jak dwóch<br>facetów jedzie to maksymalnie dwóch tam wejdzie .<br>w związku z tym są mega kolejki do wind . Pokoje<br>niby w porządku , ale brudne . Sprzątane na odwal<br>. Nawet na muszli po poprzednich gościach była<br>dracha . Fajnie że jest aneks kuchenny , dobrze<br>wyposażony . Niestety syf w szafkach . Rozumiem że<br>hotel jest tani , że ma tańsze wyposazenie ale nie<br>rozumiem dlaczego dyrekcja nie dba o czystość .",
           "__label__meta_amb"
          ],
          [
           "Na pierwszy rzut oka hotel jest super . Urok mija<br>po pobycie w restauracji , lobby barze , basenie<br>czy spa . W każdym z tych miejsc jest bardzo<br>głośno i wręcz nie da się rozmawiać . Winną tego<br>jest akustyka całego hotelu i podziemia gdzie<br>znajdują się wszystkie atrakcje . Ściany i<br>posadzka są zbudowane z kamienia , powoduje to<br>gigantyczne echo . Dodatkowo siedząc w lobby barze<br>można być świadkiem transportowania różnego<br>rodzaju mebli ( stołów i krzeseł ) które są<br>noszone pomiędzy barem i stolikami . Kolacja w<br>formie bufetu za 70 zł od osoby to czysta kpina .<br>Bufet oferuje posiłki raczej niewygórowanych lotów<br>i na pewno nie jest wart swojej ceny . Płacąc 600<br>zł za dwie osoby , za 1 noc , dostał em w zamian<br>pokój do spania , dwa posiłki , mały zabieg spa .<br>Nie dostał em : klimatu , ciszy , relaksu ,<br>dobrego jedzenia . Za te pieniądze jest wiele<br>ciekawszych miejsce na weekend .",
           "__label__meta_amb"
          ],
          [
           "Hotel ogólnie zadbany , czysty , chyba jeden z<br>najstarszych w Krakowie , ale fasada budynku jest<br>w renowacji , a wnętrze bardzo nowoczesne ,<br>szczególnie w lobby i w restauracji . W<br>korytarzach między pokojami rzeczywiście trochę \"<br>śmierdzi PRL-em \" , lecz pokoje w miarę nowoczesne<br>i nowe , dużym minusem jest mała \" otwieralność \"<br>okien , ponieważ jest bardzo gorąco w pokoju , a<br>klimatyzacja nie działa , co jest mocnym<br>zaskoczeniem w maju . Obsługa dobra . Śniadania<br>dobre , w miarę bogate , tylko szkoda , że w ich<br>ramach nie ma napojów gazowanych tylko same soki .<br>Przystanek autobusowy \" Przybyszewskiego \" w<br>zasięgu wzroku z wyjścia z hotelu linią 501 / 511<br>3 przystanki do centrum przesiadkowego \" Plac<br>Inwalidów \" . Lokalizacja do centrum daleka jak na<br>Kraków , bo na Bronowicach . Ogólnie bardzo<br>polecam ten hotel . Aktualnie to takie 3 , 5 * ,<br>ale po trwających renowacjach mocne 4 * .",
           "__label__meta_amb"
          ],
          [
           "Hotel czasy świetności ma za sobą . Pokoje czyste<br>, odświeżone ale trochę małe . Obsługa się stara -<br>dużo młodych ludzi , którzy się uczą hotelarstwa .<br>Ja wolę ludzi którym może nie wszystko wychodzi ,<br>ale widać ze im zależy niż nadęte osoby , które<br>muszę przepraszać ze im przeszkadzam w pracy .<br>Dobra kuchnia , nie jest to restauracja ale<br>stołówka w dobrym wydaniu . Smacznie . W miarę<br>duży wybór , duży plus . Atutem jest aquapark ,<br>jest co robić i gdzie odpocząć po aktywnym dniu w<br>oczekiwaniu na posiłek . Lokalizacja na uboczu .",
           "__label__meta_amb"
          ],
          [
           "Hotel Novotel Warszawa Centrum wybieram ze względu<br>na jego lokalizację . Jest to hotel w samym<br>centrum Warszawy z widokiem - z jednej strony na<br>Pałac Kultury i centrum biznesowe , z drugiej na<br>stadion Narodowy i zachodnią część Warszawy . Jako<br>główne plusy tego hotelu wskazał by m : - bardzo<br>dobra lokalizacja - bardzo dobre warunki , w tym<br>sauna ze świetnym widokiem na miasto - darmowe<br>vouchery na powitalnego drinka ( dla posiadaczy<br>karty Accorhotels - minimum srebrnej ) -<br>zaproszenia na wieczorki artystyczneŚniadania w<br>hotelu są smaczne , ale wg mnie zbyt mało<br>urozmaicone . Pokoje schludne , czyste . Minusy<br>hotelu : - bardzo duża liczba gości , co powoduje<br>że czasem ciężko jest poczuć tam klimat odpoczynku<br>( zdarzyło mi się , że grupa gości nie<br>respektowała ciszy nocnej i zachowywała się głośno<br>na korytarzu ) - parking poza hotelem ( w budynku<br>obok ) - co powoduje konieczność uciążliwego<br>przenoszenia bagażyReasumując - polecam ten hotel<br>głównie ze względu na świetną lokalizację .",
           "__label__meta_amb"
          ],
          [
           "Niby , ze wszystko ok ale jest \" ale \" . Najpierw<br>co mi sie nie podobało : - Do śniadania zamiast<br>soków , podawane są napoje sztucznie słodzone , -<br>obsługa trochę sztywna jakby ktoś non stop im na<br>ręce patrzył , - w okna bardzo wieje co nie daje<br>spac . A teraz co mi sie podobało : - mimo małych<br>wymiarów materaca był wygodny i porządnie sie<br>wyspalem , - przepyszne jedzenie , sałatka Cezar<br>mistrzostwo świata - łazienki bardzo przyjemne -<br>mimo wszystko obsługa na bardzo dobrym poziomie .<br>Czy wrócę ? Choćby dla samej sałatki , ale na<br>pewno .",
           "__label__meta_amb"
          ],
          [
           "Miejsce niezwykle urokliwe , w otoczeniu samej<br>natury i to tak dosłownie . Mieli śmy pokój bardzo<br>ładny i przestronny . Natomiast w łazience<br>prysznic przeciekał . Myśle , że należy jakoś ta<br>kwestie rozwiązać aby uniknąć jakiś strat . Było<br>to dosyć niekomfortowe wychodząc z prysznica i<br>wchodząc od razu w kałuże . Śniadanie też uważam ,<br>że za skromne jak za tą cene ponieważ możnaby<br>wymyśleć coś bardziej kreatywnego niż to co można<br>dostać w sieciówkowym sklepie . Ale nie było<br>najgorsze . Całokształt oceniam na 4 !",
           "__label__meta_amb"
          ],
          [
           "Polecielismy na tygodniowe wakacje z narzeczona i<br>bylismy bardzo rozczarowani warunkami panujacymi<br>na miejscu . Mrowki w lazience , dwa niewygodne<br>pojedyncze lozka pomimo prosby o jedno podwojne i<br>bardzo maly basen . Na plus mozemy ocenic jedzenie<br>i obsuge w kuchni , bardzo przyjazni ludzie i<br>pyszne posilki o kazdej porze . Fajne animacje i<br>zjezdzalnia do basenu . Bardzo male plaze , albo<br>bardzo ladne widoki . Polecamy wycieczke do Palmy<br>, jednakze trzeba sie liczyc z brakiem powrotnego<br>autobusu wieczorem , tak wiec proponuje wynajem<br>auta , my zaplacilismy sporo za taxi .",
           "__label__meta_amb"
          ],
          [
           "Ten hotel na pewno nie zapewnia standardu 4 * , to<br>co oferuje to solidne 3 * względnie nawet 3 * + ,<br>ale nie 4 . Nowy budynek , ale dość tandetny ,<br>ściany wystarczająco cienkie , by dało się<br>dosłyszeć sąsiadów . Wszystko wygląda w miarę<br>przyzwoicie , ale widać , że za kilka lat ten<br>hotel nie będzie zbyt przyjaznym miejscem .<br>Dziwaczny system w pokoju , który w momencie gdy<br>wyłącza się główne oświetlenie wyłącza<br>automatycznie wentylację / klimę . Obsługa<br>niestety niezbyt sympatyczna , bez doświadczenia i<br>praktyki - przy zameldowaniu musiałem się naczekać<br>, pomimo obecności 3 osób , Dwie panienki<br>obsługiwały jedną klientkę , po chwili doszedł<br>kolega , który niby chciał mnie zameldować , ale<br>gdy tylko dojrzał , że jego koleżanki już pomału<br>kończą , odpuścił , stwierdzając , że zanim on się<br>zaloguje do systemu … . Jak na hotel 4 * to po<br>prostu żenada . Może kluczem do tajemnicy jest to<br>, że hotelu nie prowadzi Orbis ale firma o nazwie<br>\" Hotele ekonomiczne \" ? I w sumie to się zgadza -<br>Novotel w Łodzi prezentuje poziom usług hotelu<br>ekonomicznego , ale na pewno nie 4 * .",
           "__label__meta_amb"
          ],
          [
           "Nieco na uboczu w stosunku do zabytków , ale<br>nieodległa stacja metro ( 5 - 7 min . ) pozwala<br>dotrzeć szybko do większości ciekawych miejsc .<br>Przy odrobinie szczęścia możną trafić na tramwaj<br>lub autobus - na przystankach brak rozkładu<br>jazdyWarto kupić kartę wieloprzejazdową . Hotel<br>dobrze utrzymany , obsługa OK , śniadania smaczne<br>( poza sztywną jajecznicą z pojemnika ) . Pokój<br>wygodny , ogrzewanie , które można regulować<br>samemuŁazienka dobrze wyposażona - umywalka ,<br>wanna , bidet , sedes , kosmetyki dobrej jakości",
           "__label__meta_amb"
          ],
          [
           "Była m w willi raj wraz z partnerem - pobyt<br>zakupiony w ramach zakupów grupowych . Miał to być<br>prezent imieninowy . Oferta obejmowała pobyt w<br>pokoju dwuosobowym , wyżywienie - śniadania plus<br>obiadokolacje , bon na zabiegi spa oraz wejście do<br>strefy wellness i spa . Poniżej krótkie<br>podsumowanie poszczególnych elementów :<br>Lokalizacja : Duży plus . W pobliżu park zdrojowy<br>i alternatywne ( lepsze ) knajpy . Bardzo blisko (<br>3 - 5 min . drogi ) do centrum i marketu . Pokoje<br>: pokój z łazienką , wielkość pokoju odpowiednia .<br>Plusy : w pokoju było ciepło ( przy minus 18<br>stopniach na zewnątrz ) , czyste ręczniki , świeża<br>pościel , było czysto . Minusy : łoże dwuosobowe<br>złożone było z dwóch pojedynczych łóżek , które<br>rozjeżdżały się , gdyż były na kółkach ( blokada<br>kół była popsuta ) , popsuta kabina prysznicowa .<br>Wystrój staroświecki , sprawiał wrażenie raczej<br>zaniedbania niż luksusu ( choć mniemam , iż taki<br>właśnie był zamysł autora ) . Wyżywienie : Posiłki<br>serwowanie w restauracji w sąsiedniej willi .<br>Śniadania w formie szwedzkiego bufetu z<br>możliwością wyboru dania na ciepło ( jajecznica<br>lub parówki ) spełniały oczekiwania dla lokalu tej<br>klasy . Obiadokolacje smaczne , jednak przez aż<br>dwa dni pobytu nie udało się uniknąć wpadek w<br>postaci surowego w środku kotleta mielonego .<br>Dania z karty ( spoza wyżywienia wliczonego w cenę<br>) poniżej przeciętnej - sałatka cezara z<br>parmezanem bez parmezanu i spleśniały sok malinowy<br>do piwa . Obsługa przeprosiła za niedogodności ,<br>ale niestety nie zatarło to złego wrażenia .<br>Ponadto lokal serwuje posiłki jedynie do godziny<br>20 . 00 . , co nocnych Marków zmusza do<br>poszukiwania kulinarnych doznań na mieście .<br>Zabiegi SPA : Niestety , spośród wybranych w<br>ramach bonu zabiegów jeden z nich nie doszedł do<br>skutku z powodu awarii urządzenia . Dopiero w dniu<br>wymeldowania zaproponowano nam rekompensatę w<br>wysokości 40 % wartości zabiegu , który się nie<br>odbył ( nie policzono dodatkowo zakupionej usługi<br>) . Masaż pleców całkiem przyjemny - nie przyniósł<br>jednak ulgi dla kręgosłupa , mimo iż temu właśnie<br>miał służyć . Strefa wellness : Ogólne wrażenie<br>pozytywne , pomijając jacuzzi działające \" na pół<br>gwizdka \" , niedziałającą saunę parową oraz<br>legendarną saunę infra red ( na której najbardziej<br>nam zależało ) , o której istnieniu informuje<br>oferta , ale nikt nie potrafi jej uruchomić .<br>Ogólne wrażenie : Oferta nie do końca była zgodna<br>z opisem . W przypadku zakupu w promocyjnej cenie<br>można jakoś przeżyć , jednak gdyby m zakupiła<br>wyjazd w standardowej cenie , jaka widnieje w<br>ofercie , była by m bardzo mocno rozczarowana .<br>Teraz jestem tylko mocno rozczarowana . Szkoda ,<br>bo myślę , że gdyby właściciele naprawili nieduże<br>, ale jednak doprowadzające do szału ( głównie<br>przez ich ilość ) usterki , obiekt miał by szansę<br>na prawdę się rozwinąć .",
           "__label__meta_amb"
          ],
          [
           "Zacznę może od dobrych rzeczy . Na plus czystość<br>pokojów , panie sprzątające robią robotę . Obsługa<br>nienachalna , miła , transparentna . Pyszne<br>śniadania , każdy znajdzie coś dla siebie . Fajnie<br>, że można zjeść na dworzu w ogródku . Bliziutko<br>do plaży , można na dworzu wypić piwko z kawiarni<br>lub ze sklepu . Z drugiej strony hotel trochę<br>nadgryziony przez ząb czasu , dywany mają<br>specyficzny zapach . W łazience , a to deska się<br>rusza , a to pojemnik na mydło odpada , a to<br>czytnik kart nie dziala , wifi które było<br>restartowane , a przez cały pobyt nie udało mi się<br>połączyć z internetem . Wizualnie też by dało się<br>hotel odświeżyć . Generalnie nie mam zbyt wielkich<br>oczekiwań co do * * , hotel nie popsuł mi wyjazdu<br>, ale za tą cenę nocowała m w lepszych miejscach .",
           "__label__meta_amb"
          ],
          [
           "Spędził em w \" Śnieżce \" dwa tygodnie w ramach<br>wakacyjnej oferty osadkowo . Ośrodek bardzo<br>rozległy i wielopoziomowy co oznacza że położona<br>jest na bardzo długiej ( ok 600 - 800 m od<br>recepcji do najdalej położonych apartamentów ) i<br>dość wąskiej działce o zróżnicowanym nachyleniu<br>terenu . Apartamenty bardzo duże , eleganckie i<br>bardzo dobrze wyposażone ( zgodnie z opisem na<br>stronie ) . Apartamenty na parterze w większości<br>zlokalizowane są tak że zagląda się do nich przez<br>okno przechodząc chodnikiem dlatego zdecydowanie<br>polecam te umieszczone na piętrze oraz z uwagi na<br>wygodę poruszania się po obiekcie polecam te nie<br>objęte programem osadkowo ( obklejone zwierzakami<br>dla dzieci ) . Jedzenie bardzo smaczne i<br>urozmaicone , problemem jest dość mała ilość<br>miejsca w restauracji śnieżka . Baseny czyste ,<br>małe i bez zjeżdżalni dla większych dzieci .<br>Animacje w ramach osadkowa skierowane głównie do<br>młodszych dzieci . Zaplecze w postaci family<br>center i placu zabaw bardzo małe i w sezonie<br>zdecydowanie za ciasne . Jeśli ktoś nastawi się na<br>ćwiczenie w fit center to uprzedzam że jest ono<br>mikroskopijne i do tego bardzo ubogo wyposażone ,<br>ale na plus uznaję fakt iż jest . Na duży plus<br>zasługuje fakt iż w osadzie można nabyć w bardzo<br>atrakcyjnych cenach wejściówki do niektórych<br>okolicznych atrakcji regionu ( np . huta Julia ) .<br>W sezonie również lekki problem z parkowaniem<br>samochodów ( brak wystarczającej liczby miejsc<br>postojowych pod apartamentami ) . Ogólnie polecam<br>ośrodek dla rodzin z dziećmi , które lubią spędzać<br>czas aktywnie i niekoniecznie na terenie ośrodka ,<br>ponieważ jego lokalizacja stanowi bazę wypadową do<br>wycieczek po okolicy . Do sklepu i stacji<br>benzynowej ok 500 m .",
           "__label__meta_amb"
          ],
          [
           "Mały zajazd w dość dużej odległości od centrum .<br>Pokoje w osobnym budynku . Sam pokój czysty ale<br>chłodny i bardzo wilgotny . Łazienka niestety<br>wymaga zdecydowanie odświeżenia i dogrzewania -<br>wilgotno na tyle że ręczniki nie wyschły przez noc<br>wcale a woda z przepływowego ogrzewacza - niezbyt<br>ciepła i malutkie ciśnienie pod prysznicem . W<br>pokoju przydał by się też chociaż czajnik .<br>Śniadanie smaczne .",
           "__label__meta_amb"
          ],
          [
           "Sama lokalizacja hotelu bardzo średnia . . Osoba<br>nie posiadająca samochodu musi 10 - 15 minut dojśc<br>do pętli tramwajowej skąd dojedzie do centrum<br>Wrocławia ( np . Galeria Dominikańska ) jakieś 25<br>- 30 minut . Robi się juz z tego mała wyprawa .<br>Jedzenie w sumie jest bardzo smaczne , nie mam na<br>co narzekać . Pokoje bardzo średniej jakości .<br>Cześć z nich jest niby po remoncie ale momentami<br>ma się wrażenie że wcale go nie było . Niestety<br>uczulam na jakoś wody w hotelu . . już po kilku<br>dniach miała m nieprzyjemne uczulenie na ciele . .<br>. .",
           "__label__meta_amb"
          ],
          [
           "Witam , dziś i ja dołączyła m do grona osób<br>leczących się u Pani dr . Póki co nie mogę za<br>wiele powiedzieć o skuteczności leczenia . Pani<br>doktor bardzo spokojna , opanowana . Reagowała<br>natychmiast na każdą moją niechęć do proponowanego<br>leku , bo przeszła m już sporo specyfików w<br>dotychczasowym leczeniu .",
           "__label__meta_amb"
          ],
          [
           "Wybrali śmy się do tego obiektu na pobyt<br>walentynkowy całą rodziną , dzieci w wieku 6 , 9<br>lat . Ocena ogólna 3 . Wystrój całości wczesne<br>lata 90 , kuchnia raczej średnia bez rewelacji .<br>Duży minus za wprowadzenie mnie w błąd gdyż<br>podczas rezerwacji uzyskał em info kwatera w<br>budynku A jest głównym budynkiem w którym jest<br>restauracja i basen a okazało się to nie prawdą .<br>. . Duży minus również za wprowadzenie w błąd<br>informacją o sieci wi - fi której defakto nie ma<br>ani w budynku A ani holu budynku B . Pokoje małe<br>nie funkcjonalne ale czyste . Plus za strefę<br>basenową dla dzieci . . . Ogólne jeżeli komuś nie<br>zależy na odrobinie luksusu , nie przeszladza<br>jedzenie w stołówce rodem PRL może śmiało<br>odwiedzić ten obiekt , jeśli zaś nastawiacje się<br>na jakośc adekwatną do ceny poszperajcie w net i<br>znajdzcie inny obiekt . .",
           "__label__meta_amb"
          ],
          [
           "Na razie trudno coś powiedzieć o samym leczeniu ,<br>ponieważ dostał em skierowanie na badania i<br>dopiero w oparciu o wyniki będzie diagnoza i<br>zalecenia . Wizyta opóźniła się niestety . Pan<br>doktor miły , życzliwy , zainteresowany pacjentem<br>, przeprowadził szczegółowy wywiad i oględziny<br>zmian skórnych . Mam nadzieję , że będzie w stanie<br>mi pomóc .",
           "__label__meta_amb"
          ],
          [
           "Hostel jak hostel spali śmy w lepszych , dobrze że<br>trafił się \" apartament o podwyższonym standardzie<br>\" dzięki temu była cisza spokój , polecam na<br>bardzo krótki pobyt bez wymagań , śniadanie no cóż<br>lepiej zjeść trzy kroki dalej w cukierni albo w<br>kawiarence : )",
           "__label__meta_amb"
          ],
          [
           "W większości przypadków Pani Doktor rzeczywiście<br>jest miła i przyjemna . Jednakże jak nie ma humoru<br>, jest opryskliwa i nieprzyjemna . Np . Odmawia<br>wykonania odpłatnie USG jajników , bo coś jej się<br>ubzdurało . Nie chce badać piersi . Niepoprawnie<br>interpretuje wyniki badań hormonów . Zaleta :<br>często wysyła na badania .",
           "__label__meta_amb"
          ],
          [
           "Hotel posiada świetną lokalizację . Ok 10 - 15min<br>od dworca Cais do Sodre , z którego można<br>przesiąść się w metro , kolejkę , autobusy i<br>tramwaje . Pod hotelem również jest przystanek<br>autobusowy i tramwajowy . Kamienica dość stara i<br>obskurna . Bardzo słabo oznaczona , ciężko<br>wieczorem było ją znaleźć . W środku ładnie .<br>Winda , wąskie schody . Wyposażenie apartamentu<br>dobre . Klimatyzacja działała bez zarzutu ( w<br>marcu jeszcze dość chłodnie więc trzeba było grzać<br>) . W łazience w wannie po 2 dniach odpadł zawór z<br>ciepłą wodą . . Łóżka duże i wygodne . Ogólnie<br>czysto w pokoju . W nocy hałas . Sklepy ,<br>kawiarnie blisko , pod wejściem do hotelu . Blisko<br>ok 10 min do świetnego targu z owocami i warzywami<br>i z pysznym jedzeniem - mercado do ribeira .<br>Internet działał bez zarzutu . Duży minus za brak<br>recepcji , albo chociaż możliwości zostawienia<br>bagażu w dniu wylotu . Przy następnym pobycie w<br>Lizbonie na pewno zatrzymam się w tym miejscu .<br>Polecam ! ! !",
           "__label__meta_amb"
          ],
          [
           "Bardzo dobry hotel , ciekawy wystrój , czysty ,<br>miłą obsługa , wysoki standard , gdyby nie<br>śniadanie , które jest na końcu i psuje całe<br>wrażenie . O godzinie 8 : 30 puste talerze a osoba<br>z obsługi średnio się ty przejmowała . To co<br>zostało zjedzone nie było już dokładane , szkoda ,<br>bo chętnie by m tam wracał ale jak wiadomo<br>śniadanie w całym dniu jest najważniejsze . Pokoje<br>na ostatnim piętrze - ciasne i niskie .",
           "__label__meta_amb"
          ],
          [
           "Plus . Dobre śniadanie , fajna obsluga panie w<br>recepcji pomocne , dobra lokalizacja . A poza tym<br>rozczarowanie jak na taka cene . . . brudna<br>wykladzina w pokoju , brudne sciany , odrapane<br>meble z czasów prl-u , drugiego dnia czekała m 10<br>min na ciepla wode pod prysznicem , nie doczekała<br>m sie . . . nie polecam .",
           "__label__meta_amb"
          ],
          [
           "Głównym problemem jest to że obiekt jest określany<br>jako hotel . Dla mnie ma standard podrzednego<br>taniego motelu . Cena za noc jest więc mocno<br>zawyzona . Hotel jest już praktycznie poza<br>Poznaniem i trudno do niego trafić . Typowa<br>noclegownia bo do centrum daleko . W środku<br>okropny zaduch i brud . Nie ma okien tylko ściana<br>wyłożona lustrem więc brak wentylacji .<br>Prawdopodobnie hotel jest zaadoptowany z jakiegos<br>budynku przemysłowego . Zero wygluszenia więc<br>słychać absolutnie wszystko z pokoju obok . Na<br>plus smaczne i różnorodne śniadanie i duży TV w<br>pokoju . Ogólnie można przeżyć ale nie za tę cenę<br>.",
           "__label__meta_amb"
          ],
          [
           "To zdecydowanie nie jest hotel dla wymagających<br>klientów . Jednak jak na Warszawę stosunek jakości<br>do ceny jest więcej niż zadowalający . Obiekt jest<br>sukcesywnie remontowany . Mankamentem jest brak<br>klimatyzacji . Przy tym należy pamiętać , że<br>pokoje od strony Wisły są głośne z uwagi na<br>przebiegającą ruchliwą ulicę . Natomiast pokoje od<br>strony miasta są ciche ale po południu bardzo się<br>nagrzewają . Po wybudowaniu 2 linii metra obiekt \"<br>przybliżył \" się do centrum . Z całą pewnością<br>będę wracał .",
           "__label__meta_amb"
          ],
          [
           "Jak na hotel biorący około 700 pln za nocleg w<br>sezonie , siłownia zaniedbana . Miła obsługa , ale<br>cóż z tego , jeśli wiele urządzeń \" znoszonych \" .<br>Działają , ale w tej klasie hotelu , powinno być<br>lepiej . Spójrzcie na zdjęcia . Następna uwaga !<br>Wykupił em karnet na 10 wejść ( pobyt tygodniowy )<br>głównie ze względu na to , że zaczynali od 8 . 00<br>, niestety , po weekendzie poinformowano mnie , że<br>będą czynni dopiero od 9 . 00 , nieładnie ! Poza<br>tym , jest tylko jedna klimatyzacja , jak sądzę<br>centralny system nawiewu albo za drogi albo nie<br>działa . Takie dziadowanie , a ceny pokoi , jak na<br>lokalizację , wysokie . Brak ławeczki do ćwiczeń<br>mięśnia prostego grzbietu .",
           "__label__meta_amb"
          ],
          [
           "Hotel bajecznie położony . Robi ogromne wrażenie<br>zarówno w środku jak i na zewnątrz . Wspaniałe<br>zaplecze rekreacyjno - sportowe . Właściwie ciężko<br>się nudzić . Oczywiście większość atrakcji<br>dodatkowo płatna . Do tego basen wewnętrzny i<br>całoroczny basen zewnętrzny z biczami i naprawdę<br>gorącą wodą . Pokoje bardzo porządnie wyposażone .<br>Przestronnie , czysto i bardzo komfortowo .<br>Praktycznie każdy pokój z pięknym widokiem . Jeśli<br>chodzi o kuchnie to śniadania rewelacyjne .<br>Natomiast zarówno obiadokolacje jak i dania ala ’<br>carte słabe . Zdecydowanie do poprawki . Dla mnie<br>skończyło to się poważnymi problemami z żołądkiem<br>, które trwają już 2 miesiące a są<br>najprawdopodobniej wynikiem zakażenia jakąś<br>bakterią . Choć też nie chciała by m tutaj zrzucać<br>pełnej winy na kolacyjną kuchnię „ bemarową ” , bo<br>przyczyną mogła być woda w kranie lub w basenie .<br>Tym samym przed wyjazdem do Arłamowa warto<br>pamiętać o tym , że z hotelu do najbliższego<br>sklepu jest 10km , natomiast najbliższy punkt<br>apteczny to 20km w jedną stronę . Ja miała m ta<br>nieprzyjemność dolegliwości żołądkowych i niestety<br>nikt nie był mi w stanie pomóc , gdyż w recepcji<br>mają zakaz dawania gościom jakichkolwiek leków .<br>Natomiast w mini kiosku znajdującym się na terenie<br>hotelu było tylko jedno opakowanie węgla<br>lekarskiego , gdyż jak powiedziała Pani<br>sprzedawczyni - tydzień wcześniej dość sporo<br>dzieci miało w hotelu problemy żołądkowe .<br>Przydało by się na takim odludziu i w tak masowym<br>obiekcie by apteka była na miejscu .",
           "__label__meta_amb"
          ],
          [
           "Ładny budynek , duże pokoje , nowe meble i czysto<br>. Bardzo miękkie łóżka - mi nie odpowiadają , ale<br>może mają swoich zwolenników . Mało przyjemna<br>obsługa , śniadania również mogły by być lepsze -<br>zimna jajecznica i parówki . Za tą cenę można<br>naprawdę zadbać o gości . Kilka drobnych zmian i<br>hotel mógł by być bardzo dobry . Jest potencjał ,<br>na razie nie wykorzystany",
           "__label__meta_amb"
          ],
          [
           "Przeczytalam wszystkie opinie o Pani Dr . Szczerze<br>powiem , tez mam mieszane uczucia . Urodzilam<br>pierwsze dziecko , chodzilam do Pani Dr przez cala<br>ciaze . Bywaly wizyty , ze odpowiadala na pytania<br>, miala czas i byla przemila , ale bywalo tez tak<br>, ze badanie trwalo chwile , sprawiala wrazenie ,<br>ze pracuje tu za kare , a ja jestem zwyklym<br>intruzem . . . potrafila odbierac tel w trakcie<br>wizyty i rozmawiac prywatnie , choc uwazam , ze<br>jest w pracy i nie powinna tego robic . . . .<br>jestesmy tylko ludzmi i mamy miec prawo gorsze dni<br>, ale trzeba tez uszanowac drugiego czlowieka , bo<br>tego wymaga kultura osobista i profesjonalizm ,<br>moim zdaniem . Na pewno uratowala wiele osob i<br>pomogla innym . To jest tak na prawde nasz wybor<br>do kogo chodzimy , wiec najpierw sie spotkajmy , a<br>potem oceniajmy . Pozdrawiam wszystkie Panie : )",
           "__label__meta_amb"
          ],
          [
           "Polecam ten hotel - świetny widok , super dojazd .<br>Obsługa hotelu na najwyższym poziomie - czysto i<br>przytulnie . Tylko jeśli chodzi o kuchnie to mam<br>pewne zastrzeżenia - kucharz chyba aspiruje do<br>masterchef-a ale mu się nie udaje . Potrawy ładnie<br>wyglądają ale brakuje im dobrego smaku . Proszę o<br>zmianę kuchni na bardziej regionalną a będę stałym<br>gościem . A i zimna woda w basenie - ale może<br>przesadzam : )",
           "__label__meta_amb"
          ],
          [
           "Świetne miejsce do odpoczynku po trudach<br>zwiedzania Lizbony i okolic . Bardzo blisko do<br>stacji metra , obok centrum Gulbenkiana i kilku<br>miłych restauracyjek . Centrum handlowe dla<br>lubiących towarzyszyć żonom w zakupach i Campo<br>Pequeno . Cztery gwiazdki , którymi szczyci się<br>hotel , to chyba troszkę za dużo . Pokoje wymagają<br>gruntownego remontu . Na podkreślenie zasługują<br>pokojowe , których praca zaskakuje sumiennością i<br>dokładnością . Śniadania naprawdę świetne , nawet<br>po kilku porankach można je spokojnie urozmaicić .<br>Problemem położenia hotelu są podchodzące do<br>lądowania samoloty , szczególnie dla mieszkających<br>od północnej strony - polecam zabranie stoperów do<br>uszu .",
           "__label__meta_amb"
          ],
          [
           "Dziś po raz pierwszy bylismy na wizycie u p .<br>Doktora z 2 letnim synem . Wizyta ekspresowa , że<br>nie zdążyła m zadać kilku pytań , dostalismy<br>skierowanie na badania krwi i leki na alergie . I<br>tyle , mam nadzieję , ze nastepnym razem , z<br>kompletem badań dowiemy się wszystkiego , a przede<br>wszystkim , jak pomóc dziecku : - )",
           "__label__meta_amb"
          ],
          [
           "Pani doktor dobra , postawiła wstępną diagnozę ,<br>zaleciła badania aczkolwiek czas spędzony w<br>kolejce to masakra , wizyta prywatna a czas<br>opóźnienia 1 , 5h o którym nikt wcześniej nie<br>informuje . Przydał by się telefon z recepcji że<br>jest opóźnienie w wizycie i było by wszystko ok .",
           "__label__meta_amb"
          ],
          [
           "Hotel nowy , bardzo fajny ( pokoje od strony<br>jeziora ! ) , świetny basen , sauny , lokalizacja<br>, teren wokół hotelu itp . Restauracja -<br>przygotujcie się na niezły kataklizm . Jeśli<br>jeszcze posiłki w formie bufetu jako tako są<br>ogarniane , tak kilka zajętych stolików w porze<br>lunchu powoduje totalny bezruch ( 30 minut<br>czekania na kieliszek wina ! ! ! ) oraz chaos (<br>czekadła dostają tylko wybrane stoliki , dania do<br>stolików przynoszone są tak , że jedna osoba<br>kończy cały posiłek a druga np jeszcze czeka przez<br>20 minut na pierwsze danie , obsługa bez ładu i<br>składu biega po sali ) . Jeśli nie macie ochoty<br>psuć sobie humoru i tracić póltorej godziny na<br>prosty lunch lepiej skoczyć na sąsiedni kemping na<br>frytki : ) Aha , żeby nie było - jedzenie bardzo<br>smaczne .",
           "__label__meta_amb"
          ],
          [
           "Zalety : hotel położony jest tuż nad brzegiem<br>morza , odnowiony , dobre jedzenie , basen kryty ,<br>zabiegi zdrowotne , zadbany teren zielony , winda<br>. W pokojach leżaki , wiatrochron , TV , suszarka<br>, ręczniki , lodówka , szlafroki ( w recepcji ) .<br>Polecam pokoje z widokiem na morze , na 1 - szym<br>piętrze , przy dużym tarasie . Po południu można<br>na nich opalać się i kontemplować widoki , np .<br>zachód słońca . Wady : przez 7 dni ani razu nie<br>sprzątano pokoju , taras był bardzo brudny ! ! ! i<br>wyglądał na nie sprzątany od poprzedniego sezonu .<br>Nie domykające się drzwi na taras . Drogi parking<br>i nie strzeżony .",
           "__label__meta_amb"
          ],
          [
           "Pacjentką była 6 - letnia dziewczynka . Sama<br>wizyta przebiegła w miłej atmosferze . Pani Doktor<br>ma bardzo dobre podejście do dzieci . Niestety<br>poziom konsultacji muszę ocenić jako słaby . Pani<br>Doktor otrzymała dokładną rozpiskę leków<br>przyjmowanych przez córkę do tej pory . Córka<br>przyjmowała Pronasal - Pani Doktor przepisała<br>Nasonex , czyli lek o dokładnie takim samym<br>składzie . Córka przyjmowała Petit Drill - Pani<br>Doktor pomyliła z Pecto Drill i kazała odstawić .<br>Niestety całość odkryli śmy dopiero w domu po<br>sprawdzeniu składu leków , więc oprócz straconego<br>czasu , dodatkowa strata 300 zł na wizytę i ' nowe<br>' leki . Mam nadzieję , że nasz przypadek był<br>jednak odosobniony : )",
           "__label__meta_amb"
          ],
          [
           "W hotelu spędzili śmy tydzień czasu . Byli śmy z 6<br>miesięcznym synkiem . Hotel 4 * * * * . Hotel<br>oceniam jako słabo w stosunku do ceny . Nad<br>jeziorem płatne leżaki za dzień od osoby 10 zł ,<br>większa leżanka płatna 100 zł za dzień . Absurd !<br>W żadnym hotelu w Polsce 4 gwiazdkowym nie<br>spotkała m się z takim oszustwem ! Na terenie<br>obiektu ścieżka prowadząca do jeziora wysypana<br>kamykami , bardzo ciężko prowadzi się wózek !<br>Jeśli hotel reklamuje się hasłem \" u nas dziecko<br>jestem vipem \" powinien spełnić przynajmniej jedno<br>z ważniejszych dogodności dla dzieci . Kółka<br>naszego wózka , który nie był tani są w opłakanym<br>stanie . Plusem hotelu były dobre śniadania i<br>obiadokolacje , a także zabiegi w Spa .<br>Zdecydowanie uważam , że hotel nie jest wart ceny<br>jaką zapłacili śmy za tygodniowy pobyt .",
           "__label__meta_amb"
          ],
          [
           "Przez cały czas trwania wizyty czuła m się bardzo<br>dziwnie . Pan Bartkowiak nie umiał określić co mi<br>się dzieje , odesłał na badanie , które według<br>dwóch następnych laryngologów było zupełnie<br>niepotrzebne . Mam bardzo mieszane uczucia co do<br>tej wizyty . Zaletą jest to , że bez problemu<br>wypisał mi L4 oraz receptę na przyjmowany lek .",
           "__label__meta_amb"
          ],
          [
           "Doktor niemiła , nie przepadam za wizytami u niej<br>( jesteśmy tylko w nagłych wypadkach , bo mamy<br>najbliżej ) . Nieprawda , że lekarz zmęczony , to<br>lekarz arogancki - my mamy bardzo rozchwytywaną<br>pediatrę i nigdy nie była tak niemiła . . . mam<br>wrażenie , że niedokładnie ogląda córkę i jedyne<br>zalecenia , jakie dostały śmy to smecta i dieta<br>eliminacyjna ( co w ogóle nie miało związku z<br>problemem , z którym przyszły śmy ) . Pomimo tego<br>wdzięczna jestem doktor za to , że poświęciła czas<br>, gdy potrzebowały śmy skierowanie , a ona nas nie<br>spławiła , tylko upewniła się , że na pewno nie<br>może wystawić konkretnego .",
           "__label__meta_amb"
          ],
          [
           "Przyjeżdziamy do tego hotelu przy każdej okazji ,<br>kiedy wybieramy się na narty na Czarną Górę ( 19<br>km ) . Dobre i obfite śniadania , przyjemne obiady<br>a do tego basen i sauny jako nieodzowny relaks po<br>codziennym wysiłku narciarskim . Czysto ,<br>przyjemnie i spokojnie . Dla rodziny idealne<br>miejsce . Poza tym piękne miejsca do spacerów ,<br>blisko do Lądka Zdroju , Bystrzycy Kłodzkiej czy<br>Międzygórza . Jednak na święta Bożego Narodzenia<br>więcej tu nie przyjadę - rozczarowało mnie zarówno<br>świąteczne menu ( nieświeże uszka , zbyt kwaśny<br>barszczyk ) , jak i obsługa kelnerska zwłaszcza w<br>wieczór wigilijny oraz pierwszy dzień świąt . Duży<br>plus za masaż : ) , zajęcia dla dzieci i<br>świąteczny prezencik .",
           "__label__meta_amb"
          ],
          [
           "Pani doktor nie była bardzo wylewna . musiała m<br>niestety wszystkie informacje od niej wyciągać .<br>jedyne z czego jestem zadowolona , to tabletki<br>odpornościowe , które mi przepisała , po których<br>przeszedł mi ból gardła i skierowała mnie na wymaz<br>z migdałkow . Nie powiedziała mi nic konkretnego .<br>Mimo wszystko , w jakimś stopniu mi pomogła , wiec<br>całokształt oceniam na dobry . .",
           "__label__meta_amb"
          ],
          [
           "Zamek Pod Brzozami to niewątpliwie bardzo ciekawe<br>miejsce i fajny pomysł jeśli chodzi o wykonanie i<br>wyposażenie obiektu . Pod tym względem naprawdę<br>robi wrażenie i miło spędzić czas w \" zamkowej<br>scenerii \" . Osobiście wybrał em się tam jednak<br>rodzinnie z 2 dzieci w wieku 3 i 5 i to już nie<br>jest najlepszy pomysł . Pomimo , iż wybrali śmy<br>największą komnatę tj . Avatar powstała mała<br>konsternacja kiedy okazało się , że dostawki nie<br>są przygotowane pomimo wcześniejszej rezerwacji i<br>potwierdzenia mailowego . W końcu się jednak<br>pojawiły . . . jedno łóżeczko dziecięce i jedno<br>przenośne różowe dla niemowlaków z informacją od<br>Pani obsługującej iż będzie dobre dla naszego<br>chłopaka : ) Pełna konsternacja . . . Suma<br>summarum sobie poradzili śmy , jednak nie ma mowy<br>o wypoczynku i wygodzie jeśli wybierasz się na<br>Zamek z dziećmi . Co więcej oczy trzeba mieć<br>dosłownie z każdej strony gdyż fajny pomysł na<br>Zamek i jego niezłe wykonanie zostały połączone z<br>całkowitym brakiem wyobraźni jeśli chodzi o<br>podstawową użyteczność obiektu odwiedzanego przez<br>rodziny z dziećmi . Wszystkie podłogi w Zamku są<br>twarde , pomimo śniegu do kolan w całym obiekcie<br>ZERO jakiejkolwiek wycieraczki w którą można<br>wytrzeć buty , śnieg na dojściu i schodach nikomu<br>też w tym zamku nie przeszkadza . Szczytem<br>bezmyślności są wysokie schody bez żadnej barierki<br>z których młodzi mogą zlądować na dół raz na<br>zawsze . Słowem jak dla mnie zdecydowany przerost<br>formy nad treścią i obiekt zdecydowanie<br>niebezpieczny podczas pobytu z dziećmi - co więcej<br>nieprzystosowany do takich wizyt choćby ze względu<br>na pokoje w których zazwyczaj jest jedno osobowe \"<br>łoże \" . Jeśli przyjedziesz zmęczony wieczorem , a<br>drzwi będą zamknięte na klucz nic się nie martw .<br>W naszym wypadku po kilku minutach i kilkunastu<br>telefonach drzwi się w końcu uchyliły . . . Aha ,<br>gdyby ś planował zamówić romantyczny wystrój<br>pokoju w tym Zamku musisz mieć duże poczucie<br>humoru gdyż pięknie prezentujące się płatki róż ,<br>które zostały przed naszym przyjazdem rozsypane po<br>całej komnacie i meblach są wykonane z . . .<br>czerwonego materiału i staraj się na nich nie<br>przejechać , gdyż łapią poślizg aż miło . Polecam<br>je posprzątać przez użytkowaniem komnaty . Słowem<br>: warto zobaczyć , nie warto nocować z dziećmi ,<br>warto odwiedzić we dwoje z własnymi płatkami do<br>dekoracji komnaty : )",
           "__label__meta_amb"
          ]
         ],
         "hovertemplate": "Annotation=__label__meta_amb<br>t-SNE 1=%{x}<br>t-SNE 2=%{y}<br>sentence=%{customdata[0]}<br>annotation=%{customdata[1]}<extra></extra>",
         "legendgroup": "__label__meta_amb",
         "marker": {
          "color": "#ab63fa",
          "symbol": "circle"
         },
         "mode": "markers",
         "name": "__label__meta_amb",
         "orientation": "v",
         "showlegend": true,
         "type": "scatter",
         "x": [
          -2.5918548107147217,
          -2.6832213401794434,
          -1.680454969406128,
          -3.4594693183898926,
          -4.916301250457764,
          -0.10578200221061707,
          -0.746601939201355,
          -2.680379629135132,
          -2.321815252304077,
          -2.5166497230529785,
          -3.0103859901428223,
          -4.64985990524292,
          -5.132391929626465,
          -1.8197157382965088,
          -4.512933731079102,
          -5.377398490905762,
          -2.3117613792419434,
          -5.325613021850586,
          2.218902826309204,
          -2.9216771125793457,
          -2.590839147567749,
          -4.658614635467529,
          -3.035219669342041,
          -6.173225402832031,
          -8.842293739318848,
          -0.2062070071697235,
          0.9182530641555786,
          -6.890425682067871,
          -2.288642406463623,
          -6.216714859008789,
          -2.9703636169433594,
          -2.0722506046295166,
          -2.563544988632202,
          1.5785588026046753,
          -8.50776195526123,
          -7.629944801330566,
          -0.9657362699508667,
          -7.1751484870910645,
          -4.5936279296875,
          5.9845123291015625,
          -2.414189100265503,
          -6.4509077072143555,
          0.5202603340148926,
          -2.139728307723999,
          -2.6271414756774902,
          -1.4907299280166626,
          3.5888781547546387,
          -5.621652603149414,
          -0.15420714020729065,
          -3.9836838245391846,
          -4.0631103515625,
          -2.96543550491333,
          -7.220113277435303
         ],
         "xaxis": "x",
         "y": [
          -11.782038688659668,
          -3.0930302143096924,
          7.198072910308838,
          -2.6945152282714844,
          6.464660167694092,
          -0.035457950085401535,
          -7.055976867675781,
          -4.841830253601074,
          -6.42350959777832,
          -4.680722236633301,
          1.4352285861968994,
          -3.729825973510742,
          -7.279785633087158,
          -7.5309224128723145,
          -3.7177562713623047,
          -8.057503700256348,
          -1.5203883647918701,
          -1.7788465023040771,
          -4.266623020172119,
          -2.273371696472168,
          -7.005022048950195,
          -7.254628658294678,
          -3.9538016319274902,
          -8.097197532653809,
          -8.335410118103027,
          -8.554738998413086,
          6.339516639709473,
          -6.780279636383057,
          9.30478286743164,
          -1.3317852020263672,
          10.641823768615723,
          -9.729426383972168,
          -2.573568820953369,
          -6.82099723815918,
          -7.152660369873047,
          -7.494496822357178,
          -6.381604194641113,
          -5.658053874969482,
          -4.444802761077881,
          -1.9286259412765503,
          -0.9892501831054688,
          -8.492319107055664,
          0.7045989036560059,
          8.431853294372559,
          -5.848572731018066,
          -8.078996658325195,
          5.526039123535156,
          -7.243266582489014,
          9.180437088012695,
          6.919478893280029,
          -7.231367588043213,
          6.288326740264893,
          -5.176650047302246
         ],
         "yaxis": "y"
        }
       ],
       "layout": {
        "legend": {
         "title": {
          "text": "Annotation"
         },
         "tracegroupgap": 0
        },
        "template": {
         "data": {
          "bar": [
           {
            "error_x": {
             "color": "#2a3f5f"
            },
            "error_y": {
             "color": "#2a3f5f"
            },
            "marker": {
             "line": {
              "color": "#E5ECF6",
              "width": 0.5
             },
             "pattern": {
              "fillmode": "overlay",
              "size": 10,
              "solidity": 0.2
             }
            },
            "type": "bar"
           }
          ],
          "barpolar": [
           {
            "marker": {
             "line": {
              "color": "#E5ECF6",
              "width": 0.5
             },
             "pattern": {
              "fillmode": "overlay",
              "size": 10,
              "solidity": 0.2
             }
            },
            "type": "barpolar"
           }
          ],
          "carpet": [
           {
            "aaxis": {
             "endlinecolor": "#2a3f5f",
             "gridcolor": "white",
             "linecolor": "white",
             "minorgridcolor": "white",
             "startlinecolor": "#2a3f5f"
            },
            "baxis": {
             "endlinecolor": "#2a3f5f",
             "gridcolor": "white",
             "linecolor": "white",
             "minorgridcolor": "white",
             "startlinecolor": "#2a3f5f"
            },
            "type": "carpet"
           }
          ],
          "choropleth": [
           {
            "colorbar": {
             "outlinewidth": 0,
             "ticks": ""
            },
            "type": "choropleth"
           }
          ],
          "contour": [
           {
            "colorbar": {
             "outlinewidth": 0,
             "ticks": ""
            },
            "colorscale": [
             [
              0,
              "#0d0887"
             ],
             [
              0.1111111111111111,
              "#46039f"
             ],
             [
              0.2222222222222222,
              "#7201a8"
             ],
             [
              0.3333333333333333,
              "#9c179e"
             ],
             [
              0.4444444444444444,
              "#bd3786"
             ],
             [
              0.5555555555555556,
              "#d8576b"
             ],
             [
              0.6666666666666666,
              "#ed7953"
             ],
             [
              0.7777777777777778,
              "#fb9f3a"
             ],
             [
              0.8888888888888888,
              "#fdca26"
             ],
             [
              1,
              "#f0f921"
             ]
            ],
            "type": "contour"
           }
          ],
          "contourcarpet": [
           {
            "colorbar": {
             "outlinewidth": 0,
             "ticks": ""
            },
            "type": "contourcarpet"
           }
          ],
          "heatmap": [
           {
            "colorbar": {
             "outlinewidth": 0,
             "ticks": ""
            },
            "colorscale": [
             [
              0,
              "#0d0887"
             ],
             [
              0.1111111111111111,
              "#46039f"
             ],
             [
              0.2222222222222222,
              "#7201a8"
             ],
             [
              0.3333333333333333,
              "#9c179e"
             ],
             [
              0.4444444444444444,
              "#bd3786"
             ],
             [
              0.5555555555555556,
              "#d8576b"
             ],
             [
              0.6666666666666666,
              "#ed7953"
             ],
             [
              0.7777777777777778,
              "#fb9f3a"
             ],
             [
              0.8888888888888888,
              "#fdca26"
             ],
             [
              1,
              "#f0f921"
             ]
            ],
            "type": "heatmap"
           }
          ],
          "heatmapgl": [
           {
            "colorbar": {
             "outlinewidth": 0,
             "ticks": ""
            },
            "colorscale": [
             [
              0,
              "#0d0887"
             ],
             [
              0.1111111111111111,
              "#46039f"
             ],
             [
              0.2222222222222222,
              "#7201a8"
             ],
             [
              0.3333333333333333,
              "#9c179e"
             ],
             [
              0.4444444444444444,
              "#bd3786"
             ],
             [
              0.5555555555555556,
              "#d8576b"
             ],
             [
              0.6666666666666666,
              "#ed7953"
             ],
             [
              0.7777777777777778,
              "#fb9f3a"
             ],
             [
              0.8888888888888888,
              "#fdca26"
             ],
             [
              1,
              "#f0f921"
             ]
            ],
            "type": "heatmapgl"
           }
          ],
          "histogram": [
           {
            "marker": {
             "pattern": {
              "fillmode": "overlay",
              "size": 10,
              "solidity": 0.2
             }
            },
            "type": "histogram"
           }
          ],
          "histogram2d": [
           {
            "colorbar": {
             "outlinewidth": 0,
             "ticks": ""
            },
            "colorscale": [
             [
              0,
              "#0d0887"
             ],
             [
              0.1111111111111111,
              "#46039f"
             ],
             [
              0.2222222222222222,
              "#7201a8"
             ],
             [
              0.3333333333333333,
              "#9c179e"
             ],
             [
              0.4444444444444444,
              "#bd3786"
             ],
             [
              0.5555555555555556,
              "#d8576b"
             ],
             [
              0.6666666666666666,
              "#ed7953"
             ],
             [
              0.7777777777777778,
              "#fb9f3a"
             ],
             [
              0.8888888888888888,
              "#fdca26"
             ],
             [
              1,
              "#f0f921"
             ]
            ],
            "type": "histogram2d"
           }
          ],
          "histogram2dcontour": [
           {
            "colorbar": {
             "outlinewidth": 0,
             "ticks": ""
            },
            "colorscale": [
             [
              0,
              "#0d0887"
             ],
             [
              0.1111111111111111,
              "#46039f"
             ],
             [
              0.2222222222222222,
              "#7201a8"
             ],
             [
              0.3333333333333333,
              "#9c179e"
             ],
             [
              0.4444444444444444,
              "#bd3786"
             ],
             [
              0.5555555555555556,
              "#d8576b"
             ],
             [
              0.6666666666666666,
              "#ed7953"
             ],
             [
              0.7777777777777778,
              "#fb9f3a"
             ],
             [
              0.8888888888888888,
              "#fdca26"
             ],
             [
              1,
              "#f0f921"
             ]
            ],
            "type": "histogram2dcontour"
           }
          ],
          "mesh3d": [
           {
            "colorbar": {
             "outlinewidth": 0,
             "ticks": ""
            },
            "type": "mesh3d"
           }
          ],
          "parcoords": [
           {
            "line": {
             "colorbar": {
              "outlinewidth": 0,
              "ticks": ""
             }
            },
            "type": "parcoords"
           }
          ],
          "pie": [
           {
            "automargin": true,
            "type": "pie"
           }
          ],
          "scatter": [
           {
            "fillpattern": {
             "fillmode": "overlay",
             "size": 10,
             "solidity": 0.2
            },
            "type": "scatter"
           }
          ],
          "scatter3d": [
           {
            "line": {
             "colorbar": {
              "outlinewidth": 0,
              "ticks": ""
             }
            },
            "marker": {
             "colorbar": {
              "outlinewidth": 0,
              "ticks": ""
             }
            },
            "type": "scatter3d"
           }
          ],
          "scattercarpet": [
           {
            "marker": {
             "colorbar": {
              "outlinewidth": 0,
              "ticks": ""
             }
            },
            "type": "scattercarpet"
           }
          ],
          "scattergeo": [
           {
            "marker": {
             "colorbar": {
              "outlinewidth": 0,
              "ticks": ""
             }
            },
            "type": "scattergeo"
           }
          ],
          "scattergl": [
           {
            "marker": {
             "colorbar": {
              "outlinewidth": 0,
              "ticks": ""
             }
            },
            "type": "scattergl"
           }
          ],
          "scattermapbox": [
           {
            "marker": {
             "colorbar": {
              "outlinewidth": 0,
              "ticks": ""
             }
            },
            "type": "scattermapbox"
           }
          ],
          "scatterpolar": [
           {
            "marker": {
             "colorbar": {
              "outlinewidth": 0,
              "ticks": ""
             }
            },
            "type": "scatterpolar"
           }
          ],
          "scatterpolargl": [
           {
            "marker": {
             "colorbar": {
              "outlinewidth": 0,
              "ticks": ""
             }
            },
            "type": "scatterpolargl"
           }
          ],
          "scatterternary": [
           {
            "marker": {
             "colorbar": {
              "outlinewidth": 0,
              "ticks": ""
             }
            },
            "type": "scatterternary"
           }
          ],
          "surface": [
           {
            "colorbar": {
             "outlinewidth": 0,
             "ticks": ""
            },
            "colorscale": [
             [
              0,
              "#0d0887"
             ],
             [
              0.1111111111111111,
              "#46039f"
             ],
             [
              0.2222222222222222,
              "#7201a8"
             ],
             [
              0.3333333333333333,
              "#9c179e"
             ],
             [
              0.4444444444444444,
              "#bd3786"
             ],
             [
              0.5555555555555556,
              "#d8576b"
             ],
             [
              0.6666666666666666,
              "#ed7953"
             ],
             [
              0.7777777777777778,
              "#fb9f3a"
             ],
             [
              0.8888888888888888,
              "#fdca26"
             ],
             [
              1,
              "#f0f921"
             ]
            ],
            "type": "surface"
           }
          ],
          "table": [
           {
            "cells": {
             "fill": {
              "color": "#EBF0F8"
             },
             "line": {
              "color": "white"
             }
            },
            "header": {
             "fill": {
              "color": "#C8D4E3"
             },
             "line": {
              "color": "white"
             }
            },
            "type": "table"
           }
          ]
         },
         "layout": {
          "annotationdefaults": {
           "arrowcolor": "#2a3f5f",
           "arrowhead": 0,
           "arrowwidth": 1
          },
          "autotypenumbers": "strict",
          "coloraxis": {
           "colorbar": {
            "outlinewidth": 0,
            "ticks": ""
           }
          },
          "colorscale": {
           "diverging": [
            [
             0,
             "#8e0152"
            ],
            [
             0.1,
             "#c51b7d"
            ],
            [
             0.2,
             "#de77ae"
            ],
            [
             0.3,
             "#f1b6da"
            ],
            [
             0.4,
             "#fde0ef"
            ],
            [
             0.5,
             "#f7f7f7"
            ],
            [
             0.6,
             "#e6f5d0"
            ],
            [
             0.7,
             "#b8e186"
            ],
            [
             0.8,
             "#7fbc41"
            ],
            [
             0.9,
             "#4d9221"
            ],
            [
             1,
             "#276419"
            ]
           ],
           "sequential": [
            [
             0,
             "#0d0887"
            ],
            [
             0.1111111111111111,
             "#46039f"
            ],
            [
             0.2222222222222222,
             "#7201a8"
            ],
            [
             0.3333333333333333,
             "#9c179e"
            ],
            [
             0.4444444444444444,
             "#bd3786"
            ],
            [
             0.5555555555555556,
             "#d8576b"
            ],
            [
             0.6666666666666666,
             "#ed7953"
            ],
            [
             0.7777777777777778,
             "#fb9f3a"
            ],
            [
             0.8888888888888888,
             "#fdca26"
            ],
            [
             1,
             "#f0f921"
            ]
           ],
           "sequentialminus": [
            [
             0,
             "#0d0887"
            ],
            [
             0.1111111111111111,
             "#46039f"
            ],
            [
             0.2222222222222222,
             "#7201a8"
            ],
            [
             0.3333333333333333,
             "#9c179e"
            ],
            [
             0.4444444444444444,
             "#bd3786"
            ],
            [
             0.5555555555555556,
             "#d8576b"
            ],
            [
             0.6666666666666666,
             "#ed7953"
            ],
            [
             0.7777777777777778,
             "#fb9f3a"
            ],
            [
             0.8888888888888888,
             "#fdca26"
            ],
            [
             1,
             "#f0f921"
            ]
           ]
          },
          "colorway": [
           "#636efa",
           "#EF553B",
           "#00cc96",
           "#ab63fa",
           "#FFA15A",
           "#19d3f3",
           "#FF6692",
           "#B6E880",
           "#FF97FF",
           "#FECB52"
          ],
          "font": {
           "color": "#2a3f5f"
          },
          "geo": {
           "bgcolor": "white",
           "lakecolor": "white",
           "landcolor": "#E5ECF6",
           "showlakes": true,
           "showland": true,
           "subunitcolor": "white"
          },
          "hoverlabel": {
           "align": "left"
          },
          "hovermode": "closest",
          "mapbox": {
           "style": "light"
          },
          "paper_bgcolor": "white",
          "plot_bgcolor": "#E5ECF6",
          "polar": {
           "angularaxis": {
            "gridcolor": "white",
            "linecolor": "white",
            "ticks": ""
           },
           "bgcolor": "#E5ECF6",
           "radialaxis": {
            "gridcolor": "white",
            "linecolor": "white",
            "ticks": ""
           }
          },
          "scene": {
           "xaxis": {
            "backgroundcolor": "#E5ECF6",
            "gridcolor": "white",
            "gridwidth": 2,
            "linecolor": "white",
            "showbackground": true,
            "ticks": "",
            "zerolinecolor": "white"
           },
           "yaxis": {
            "backgroundcolor": "#E5ECF6",
            "gridcolor": "white",
            "gridwidth": 2,
            "linecolor": "white",
            "showbackground": true,
            "ticks": "",
            "zerolinecolor": "white"
           },
           "zaxis": {
            "backgroundcolor": "#E5ECF6",
            "gridcolor": "white",
            "gridwidth": 2,
            "linecolor": "white",
            "showbackground": true,
            "ticks": "",
            "zerolinecolor": "white"
           }
          },
          "shapedefaults": {
           "line": {
            "color": "#2a3f5f"
           }
          },
          "ternary": {
           "aaxis": {
            "gridcolor": "white",
            "linecolor": "white",
            "ticks": ""
           },
           "baxis": {
            "gridcolor": "white",
            "linecolor": "white",
            "ticks": ""
           },
           "bgcolor": "#E5ECF6",
           "caxis": {
            "gridcolor": "white",
            "linecolor": "white",
            "ticks": ""
           }
          },
          "title": {
           "x": 0.05
          },
          "xaxis": {
           "automargin": true,
           "gridcolor": "white",
           "linecolor": "white",
           "ticks": "",
           "title": {
            "standoff": 15
           },
           "zerolinecolor": "white",
           "zerolinewidth": 2
          },
          "yaxis": {
           "automargin": true,
           "gridcolor": "white",
           "linecolor": "white",
           "ticks": "",
           "title": {
            "standoff": 15
           },
           "zerolinecolor": "white",
           "zerolinewidth": 2
          }
         }
        },
        "title": {
         "text": "t-SNE - FastText sentence embeddings"
        },
        "xaxis": {
         "anchor": "y",
         "domain": [
          0,
          1
         ],
         "title": {
          "text": "t-SNE 1"
         }
        },
        "yaxis": {
         "anchor": "x",
         "domain": [
          0,
          1
         ],
         "title": {
          "text": "t-SNE 2"
         }
        }
       }
      }
     },
     "metadata": {},
     "output_type": "display_data"
    }
   ],
   "source": [
    "# display interactive plot with reduced dimensionality\n",
    "annotation_plt_series = pd.Series(data[\"target\"])\n",
    "\n",
    "fig = px.scatter(\n",
    "    x=vectors_fasttext_embedded[:, 0],\n",
    "    y=vectors_fasttext_embedded[:, 1],\n",
    "    color=annotation_plt_series,\n",
    "    hover_data={\n",
    "        \"sentence\": data[\"sentence\"]\n",
    "        .str.wrap(50)\n",
    "        .apply(lambda x: x.replace(\"\\n\", \"<br>\")),\n",
    "        \"annotation\": annotation_plt_series,\n",
    "    },\n",
    "    title=\"t-SNE - FastText sentence embeddings\",\n",
    "    labels={\"color\": \"Annotation\", \"x\": \"t-SNE 1\", \"y\": \"t-SNE 2\"},\n",
    ")\n",
    "fig.show()"
   ]
  },
  {
   "cell_type": "markdown",
   "metadata": {},
   "source": [
    "# 2. TF-IDF embedding"
   ]
  },
  {
   "cell_type": "code",
   "execution_count": 9,
   "metadata": {},
   "outputs": [],
   "source": [
    "tfidf_vectorizer = TfidfVectorizer()\n",
    "vectors_tfidf = tfidf_vectorizer.fit_transform(data[\"sentence\"])"
   ]
  },
  {
   "cell_type": "code",
   "execution_count": 17,
   "metadata": {},
   "outputs": [],
   "source": [
    "# reduce dimensionality\n",
    "tfidf_tsne = TSNE(n_components=2, random_state=42, init=\"random\")\n",
    "vectors_tfidf_embedded = tfidf_tsne.fit_transform(vectors_tfidf)"
   ]
  },
  {
   "cell_type": "code",
   "execution_count": 18,
   "metadata": {},
   "outputs": [
    {
     "data": {
      "application/vnd.plotly.v1+json": {
       "config": {
        "plotlyServerURL": "https://plot.ly"
       },
       "data": [
        {
         "customdata": [
          [
           "Jestem bardzo niezadowolona z atmosfery panującej<br>podczas wizyty . Pani Doktor odradziła mi zabieg i<br>prawdopodobnie słusznie . Jednak klimat wizyty<br>fatalny i tego pacjent nigdy nie oczekuje po<br>wizycie w prywatnym gabinecie . Nawet jeśli<br>problem pacjenta jest \" urojony \" ( cytat za Panią<br>Doktor ) to lekarz , a już zwłaszcza lekarz<br>przyjmujący w prywatnym gabinecie , nie ma prawa<br>pozwalać sobie na tak protekcjonalny ton oraz \" do<br>widzenia \" na czole przy każdym zadawanym pytaniu<br>. Przypominam , że wizyta nie jest darmowa .<br>Żałuję , że zostawiła m tam jakiekolwiek pieniądze<br>oraz że nie podzieliła m się z Panią Janeczko<br>wystarczająco dosadnie moją opinią na temat jej<br>postawy wobec pacjenta .",
           "__label__meta_minus_m"
          ],
          [
           "Przyjechali śmy do pięknie wyglądającwgo zajazdu<br>aby zjeść kolację . Po zamówieniu zup oraz drugich<br>dań otrzymali śmy obie zupy oraz jedno drugie<br>tanie w tym samym momencie . Po zjedzeniu zup<br>danie było zimne a drugiego głównego jeszcze nie<br>było . Po zwróceniu uwagi obsłudze zza baru<br>słychać było rozmowy obsługi : „ weź to odgrzej ”<br>„ miej to w d * * ie ” „ o co im chodzi ” . Po<br>usłyszeniu tych słów podeszli śmy do baru aby<br>zapłacić jedynie za zupy oraz napoje . Na nasze<br>słowa „ Chcieli by śmy zapłacić za napoje oraz<br>zupy ponieważ po pierwsze dania były podane w złej<br>kolejności a przyjechali śmy zjeść razem a nie<br>każdy osobno więc nie będziemy jeść zimnych dań ”<br>jedna z Pań bezczelnie odpowiedziała „ Ale żeby<br>focha na jedzenie strzelać , chyba nie byli ście<br>głodni ” . To hasło zakończyło rozmowę .<br>Podsumowując zajazd piękny , jedzenie średnie a<br>obsługa dramatyczna mająca gdzieś klienta i<br>podstawy kultury . Nie polecam .",
           "__label__meta_minus_m"
          ],
          [
           "Lekarz nie był zainteresowany moimi<br>dolegliwościami . Nie została m zbadana , mimo że<br>sygnalizowała m utrzymujące się ( i nawracające )<br>bóle żołądka . Jestem zadowolona , że doktor<br>wykonał mi usg , ale nie otrzymała m wydruku ,<br>ponieważ zapisał się wynik poprzedniego pacjenta .<br>Mam nadzieję , że przepisany lek będzie pomocny .<br>Szkoda , ponieważ liczyła m , że będę pod stałą<br>kontrolą gastrologiczną , jeżeli dolegliwości nie<br>ustąpią . Nie polecam . Jagoda",
           "__label__meta_minus_m"
          ],
          [
           "W styczniu 2016r . zaczął em krwawić przy<br>oddawaniu stolca . Należę do grupy bezpośredniego<br>ryzyka zachorowania na nowotwór jelita grubego . .<br>. . więc czym prędzej udał em się do Proktologa .<br>Wybór doktora Jurczyszyna podyktowany był terminem<br>( najszybciej ) . Podczas wizyty został em zbadany<br>, także anoskopem . Doktor wykluczył chorobę<br>hemoroidalną , zlecił wykonanie dalszych badań u<br>swojego znajomego ( m . in . rektoskopia ) .<br>Pomimo wieku przed 40 - tką natychmiast zdecydował<br>em się na wykonanie kolonoskopii ( nie opisuję \"<br>wątpliwej \" przyjemności kilkudniowego<br>przygotowywania się do kolonoskopii jak również<br>samego badania ) . Przed badaniem kolonoskopowym<br>proktolog / chirurg już podczas badania per rectum<br>stwierdził hemoroidy , po badaniu anoskopem ocenił<br>je na hemoroidy II stopnia . . . . Na koniec<br>kolonoskopii zobaczył em hemoroidy \" od środka \"<br>na ekranie . Być może Pan doktor Jurczyszyn miał<br>podczas badania mojej osoby po prostu bardzo słaby<br>dzień . . . . Sytuacja nieprzyjemna , bardzo duży<br>stres dla mnie i mojej rodziny , dodatkowe koszty<br>kolonoskopii ; postanowił em porozmawiać z Panem<br>doktorem . Rozmowa była mimo wszystko raczej z<br>gatunku \" kulturalnych \" , na koniec doktor<br>zwrócił mi 200zł , które pobrał za wizytę . . .<br>Jeszcze nieprzyjemna uwaga - Pan doktor przyjmuje<br>w brudnym chałacie , nie takim troszkę brudnym ,<br>tylko takim nie pranym przez okres co najmniej<br>kilku tygodni . Mam nadzieje , że po zwróceniu<br>Panu doktorowi uwagi , następni pacjenci nie będą<br>witani przez lekarza w brudnym chałacie ( przy<br>koszcie wizyty wynoszącym 200zł ) . Pan doktor ma<br>bardzo pochlebne opinie w zakresie leczenia<br>szpiczaka , więc pewnie nie jest \" słabym \"<br>lekarzem , natomiast jeżeli chodzi o proktologię -<br>zdecydowanie nie polecam .",
           "__label__meta_minus_m"
          ],
          [
           "Dojazd do hotelu bezproblemowy , jednak sama<br>lokalizacja i oznakowanie parkingu nie do<br>przyjęcia zwłaszcza przy deszczowej pogodzie .<br>Przy wejściu do hallu w bramie czuć stęchliznę .<br>Pokoje akustyczne , słychać hałasy z korytarza .<br>Śniadanie przeciętne w tle muzyka chóralna -<br>dłuższe słuchanie jest nużące .",
           "__label__meta_minus_m"
          ],
          [
           "Miejsce z potencjałem , chociaż , ze względu na<br>liczbę turystów dość zatłoczone i niezbyt zaciszne<br>. Najgorsze , że nocą nikt nie pilnuje aby na<br>terenie panowała cisza - podpici kolesie krzyczeli<br>pod oknami i nie chcieli się uciszyć . Rano<br>obsługa twierdziła że na terenie jest ochrona . .<br>. No ale może głównie pilnuje aby nie kraść roślin<br>- tabliczki straszące policją są wszędzie . A o<br>spokojny sen gości nikt nie dba ! W karczmie<br>kelnerka nie podeszła do nas przez prawie 20 minut<br>. . . Sielanka , prawda ?",
           "__label__meta_minus_m"
          ],
          [
           "Witam , gdy dowiedziała m się że jestem w ciąży<br>chciała m aby prowadził ją doświadczony lekarz .<br>Wiec zapisała m się na wizytę do dr<br>Bystrzejewskiego sugerując się opiniami na<br>internecie . Mogę teraz stwierdzić że wszystkie<br>moje wizyty były przeprowadzane w pospiechu<br>ponieważ za każdym razem było opóźnienie co<br>najmniej godzinne gdyż doktor wiecznie się<br>spóźniał . Taka sytuacja nie powinna mieć miejsca<br>biorąc pod uwagę że każdorazowo za wizytę trzeba<br>odpowiednio zapłacić . Podczas całej ciąży miała m<br>około 13 wizyt po których lekarz nawet nie<br>pamiętał jak mam na imię . Z czystym sumieniem<br>mogę stwierdzić że lekarz sympatyczny , badanie<br>przeprowadzał w sposób delikatny . Niestety wizyty<br>trwały w sumie kilka minut , lekarz zapominał<br>wypisać recepty bo był w wiecznym pośpiechu .<br>Najgorsze jest to że z tego pośpiechu i<br>rozkojarzenia zle zinterpretował wyniki badań co<br>mogło skutkować uszkodzeniem płodu . Gdy po mojej<br>nadgorliwości wyszło w końcu że wyniki są złe i<br>jest to przez nieuwagę lekarza , nie usłyszała m<br>nawet przepraszam . Nie polecam .",
           "__label__meta_minus_m"
          ],
          [
           "Wybierając hotel sugerowalismy się przede<br>wszystkim standardem , zależało nam aby hotel był<br>dość kameralny i w miarę nowy . W biurze podróży<br>hotel opisano w samych superlatywach . Po<br>przylocie okazało się , że pokoje w hotelu nie są<br>jeszcze gotowe i jedna noc spędzimy w innym hotelu<br>a na następny dzień o 13 autokar przewiezie nas do<br>Evity . Trochę byli śmy zdziwieni , bo rezydentka<br>poinformowała nas ze jest to z przyczyn<br>technicznych ( dotyczyło to conajmniej 18 par co<br>było dla nas dziwne ) ale zamknelismy temat i<br>czekali śmy do następnego dnia do godziny 13 .<br>Nazajutrz o 13 ruszyli śmy do hotelu , po<br>przyjeździe kazano nam udać się na obiad i<br>poinformowano nas ze po obiedzie otrzymamy klucze<br>do pokoju . W recepcji Pani zaczęła się tłumaczyć<br>, że potrzebują około 30 minut bo wieszaja firanki<br>, po oczekiwaniu 30 minut okazało się że musimy<br>poczekać minimum 3 godziny ponieważ rozpadal się<br>deszcz i obsługa hotelowa nie może prowadzić prac<br>na dachu ( podłączyć wody w pokojach w których<br>mieli śmy zamieszkać ) . Cierpliwość ludzi wtedy<br>się definitywnie skończyła i zaczęli dociekać czy<br>pokoje w ogóle będą gotowe . Najpierw zwodzil nas<br>manager hotelu po czym właściciel . Zaczęli śmy<br>domagać się pokazania pokoji do których rzekomo za<br>pare godzin mieli śmy dostać klucze , jak się<br>okazało pokoje były w stanie przygotowań i wcale<br>nie chodziło tu o firanki a o skręcanie mebli ,<br>montowanie urządzeń sanitarnych w łazience ,<br>zawieszeniu tv na ścianie . Jedna wielka masakra !<br>! ! Stracili śmy kolejny dzień na jeżdżenie<br>pomiędzy hotelami , od właściciela nie usłyszeli<br>śmy nawet jednego słowa przepraszam . Organizacja<br>zerowa , pokoje sprzedane a fizycznie nawet nie<br>możliwe do użytku myślę że jeszcze do połowy<br>czerwca . Ostrzegam każdego kto decyduje się na<br>ten hotel aby sprawdzić czy aby napewno po<br>przyjeździe nie okaże się że zostaną przewiezieni<br>całkowicie w inne miejsce . Hotel do którego nas<br>przewieziono nie był w takim standardzie jak ten<br>za który zapłacili śmy . Stanowczo nie polecam i<br>jescze raz przestrzegam przed niepotrzebnym<br>nerwami i strata 2 dni urlopu na jeżdżenia<br>autokarem pomiędzy hotelami .",
           "__label__meta_minus_m"
          ],
          [
           "Wszystkich , którzy zamierzają skorzystać z oferty<br>Apartinfo chcę przestrzec przed tym nieuczciwym<br>przedsiębiorcą ! W marcu zarezerwowała m<br>Apartament z Widokiem na Żuraw w terminie 2 - 9<br>września br . Oczywiście w terminie ekspresowym<br>musiała m wysłać zaliczkę w kwocie 660 zł . Pobyt<br>w apartamencie miał być prezentem na rocznicę<br>ślubu Rodziców . W nocy z 30 na 31 marca Rodzice<br>mieli bardzo poważny wypadek samochodowy , więc<br>musiała m rezerwację anulować i wtedy zaczęły się<br>kłopoty . Spółka Apartinfo oznajmiła , że zaliczka<br>rezerwacyjna jest bezzwrotna , choć jest to wbrew<br>prawu ( Kodeks Cywilny , art . 410 , paragraf 2 )<br>. Po wymianie maili firma Apartinfo zdecydowała<br>się na oddanie zaliczki , jednak do dzisiaj<br>pieniędzy nie otrzymała m . Dodam jeszcze , że<br>rezerwację anulowała m na 5 miesięcy przed<br>terminem jej realizacji . Będę ostrzegać<br>wszystkich przed Apartinfo .",
           "__label__meta_minus_m"
          ],
          [
           "Byli śmy ze znajomymi na weekend w tym hotelu ,<br>lecz się zawiedli śmy po pierwsze ciągle mieli śmy<br>problemy z prądem , po drugie jedzenie kiepskie ,<br>zwłaszcza śniadanie w formie bufetu - wybór mały .<br>Jak przystało na 3gwiazdkowy hotel standard<br>powinien byc w miare wysoki , a tu w restauracji<br>sprzedaja wode z biedronki Polaris , która w<br>dyskoncie kosztuje 50gr , a tu kasuja 5zł - śmiech<br>! ! ! W pokojach popękane ściany - my tak akurat<br>trafili śmy ( pokój208 ) , nie ma klimatyzacj<br>iZostawiłam komórkę w pokoju jak sie zorientowała<br>m , to juz jej nie było - Pan w recepcji najpierw<br>powiedział że znalezli te komórkrę , a za chwilę<br>zmienił zdanie złodzieje . Szczerze nie polecam .",
           "__label__meta_minus_m"
          ],
          [
           "Rodziła m swoje dziecko we wrześniu 2014 i dopiero<br>teraz zebrała m się na siłę aby napisać swoją<br>opinię o p . Urbańskiej . . . widzę , że pozytywne<br>opinie dotyczą osób , które tej pani zapłaciły za<br>odbieranie porodu . . ja niestety nie miała m<br>opłaconej położnej i niestety trafiła m do tej<br>kobiety pod opiekę podczas porodu . . to był<br>koszmar ! ! ! widać , że liczy tylko na kasę a jak<br>trzeba pracować za pieniądze podatników to łaskę<br>robi ! była niemiła , bezczelna , okropnie się<br>odnosiła do mnie i do mojego męża . . bała m się o<br>cokolwiek zapytać bo warczała cały czas i jakieś<br>dziwne żale miała ze swojego życia . . rzucała<br>tekstami typu \" ja rodziła m bez znieczulenia i<br>bez męża i dała m radę \" poza tym zero wsparcia !<br>cały czas się nade mną znęcała tekstami typu \"<br>niee ty nie urodzisz . . a co to parcie jest ? pff<br>. . \" szkoda słów . . Kazała mi przeć i wychodziła<br>bez słowa . . a jakby główka wyszła ? a jakby<br>trzeba było mnie naciąć ? Mam nadzieję , że uda mi<br>się ostrzec kobiety przed tą położną ponieważ ja<br>przeżyła m koszmar . . całe szczęście mój poród na<br>koniec przyjął lekarz a nie ona . . bała by m się<br>że zrobi coś specjalnie żeby zadać mi ból albo<br>mojemu dziecku . . NIE POLECAM ! ! ! ! ! ! !",
           "__label__meta_minus_m"
          ],
          [
           "Po przeczytaniu tak licznych pozytywnych opinii<br>zapisała m się na wizytę do Pana doktora .<br>Niestety zawiodła m się . Pan doktor zlecił mi<br>badania , nie informując mnie w jakiej fazie cyklu<br>mam je wykonać . Co było bardzo istotne . Badania<br>wykonała m w nieodpowiedniej fazie cyklu , przez<br>co moje wyniki były bardzo złe . W dalszym etapie<br>trafiła m do szpitala , w którym poinformowano<br>mnie , że poprzednie badania wykonała m w<br>nieodpowiedniej fazie cyklu przez co mój wynik<br>wyszedł bardzo zawyżony . W szpitalu została m<br>zbadana w dwóch fazach cyklu i okazało się , że<br>moje wyniki są w normie .",
           "__label__meta_minus_m"
          ],
          [
           "Umówiła m się na wizytę gdyż planowała m zabieg<br>VaserLipo na brzuch i plecy . Nie jestem osobą<br>otyłą , noszę rozmiar M / 38 i raczej postrzegam<br>się jako osobę szczupłą z nierównieomiernie<br>rozłożonym tłuszczem - właśnie w okolicach brzucha<br>i pleców . Podczas wizyty pan doktor staksował<br>moją sylwetkę kiedy siedziała m na krześle i<br>dowiedziała m się że z moim wyglądem kwalifikuję<br>się raczej na zabieg plastyki powłok brzusznych (<br>sic ! ) przy czym nigdy nie rodziła m , a siedząc<br>trudno o brak wałeczków . Kiedy wstała m i<br>rozebrała m się usłuszałam , że mam cyt : \"<br>bałagan na plecach \" , nie mam talii ani pośladków<br>. Dodam , że swoją figurę określiła by m raczej<br>jako \" klepsydra \" niż \" jabłko \" więc takie<br>określenia uważam za obliczone na wpędzienie<br>pacjentki w jeszcze większe niezadowolenie z<br>własnego ciala i namówienie jej na poszerzenie<br>zabiegu o kolejne obszary . Nie wrócę tam .",
           "__label__meta_minus_m"
          ],
          [
           "Fantastyczne położenie hotelu - przy stoku ,<br>rewelacja dla narciarzy , dobrze rozwiązany<br>skiroom i w zasadzie to wszystko z plusów .<br>Obsługa bardzo niemiła - przez tydzień nikt się do<br>mnie nie uśmiechnął z przymusem odpowiadał na<br>Dzień dobry , Jedzenie - śniadania monotonne w<br>formie stołu szwedzkiego - gdy zejdziesz 1 / 2<br>godziny przed końcem wydawania nie ma już warzyw<br>których i wcześnie rano jest bardzo mało to na<br>dodatek obsłucha nie chce dorobić jajecznicy - bo<br>robią tylko 2 x , Obiadokolacje małe i niesmaczne<br>- a znam i bardzo lubię czeską kuchnię - bez<br>porównania z poprzednimi hotelami i restauracjami<br>w innych okolicach Czech , Obsługa niesympatyczna<br>- bardzo wyraźnie dają znać że nie lubią Polaków -<br>niesympatyczni , komentują coś pod nosem , po raz<br>pierwszy w życiu widział em kelnera chodzącego po<br>sali z rękami w kieszeniach , tylko 1 kelnerka<br>mówi po angielsku , brak obrusów na stole - OK<br>maja tylko * * * ale czuł em się jak na kiepskiej<br>stołówce , trzeba prosić o wymianę ręczników po<br>kilku dniach - obsługo nie rozumie że ręcznik<br>pozostawiony w łazience na podłodze trzeba<br>wymienić ! ! ! ! na zwrócenie się do personelu –<br>twierdzą że po 4 dniach się nie należy ! ! ! ! Bar<br>czynny od 7 . 30 do 24 . 00 , w pokojach nie wolno<br>używać urządzeń elektrycznych w tym czajników -<br>więc kawy lub herbaty się nie napijesz w nocy<br>jeśli chcesz poczytać . Koleżance zabrano z pokoju<br>prywatny czajnik bez poinformawania jej o tym ,<br>mimo że go nie używała - Ja cieszę się że nie<br>zabrano mi laptopa Uśmiech . Jak wspomniał em –<br>złe jedzenie i bar czynny do 24 . 00 a nie wolno<br>wnosić jedzenia i napoi ! ! ! Koledze któremu<br>przed wyjazdem rozchorowały się dzieci i<br>przyjechał w 3 osoby zamiast deklarowanych 5 – za<br>które zapłacił 50 % - kazano dopłacić 100 % za 4<br>osobę mimo że w miał opcję bezpłatnego anulowania<br>rezerwacji . Podsumowując - Nikomu nie polecę tego<br>hotelu , przed takimi hotelami powinno się<br>ostrzegać potencjalnych gości . Efekt -<br>Kilkunastoosobowa grupa w przyszłym roku jedzie na<br>narty do Słowacji . Pozdrawiam",
           "__label__meta_minus_m"
          ],
          [
           "Był em leczony przez dr Graneckiego na<br>dolegliwosci zoładkowe . Człowiek otwarty ,<br>komunikatywny , dosc rzutki w swoich pogladach ,<br>zeby nie powiedzieć zbyt rzutki . Ok , on leczy ,<br>on wie , wiec nie komentuje tego . Zdziwiło mnie<br>tylko zapisywanie mnie co tydzien na wizyte ,<br>powiedzmy kontrolna , choc schorzenia tego typu<br>leczy sie praktycznie jednorazowo ( opinia innego<br>lekarza ) . To miło , ze dr chciał mnie widziec na<br>kontroli , ale robienie 4 czy 5 kontroli to juz<br>zakrawa z lekka na biznes a nie na leczenie . To<br>jednak jestem w stanie przełknąc . Niestety USG<br>wykonane u dr i zinterpretowane przez niego jako<br>powiekszenie watroby napedziło mi mnóstwo<br>niepotrzebnego strachu . Powtórne badanie na nowym<br>sprzecie w innym miejscu wykluczyło calkowicie<br>diagnoze dr Graneckiego . Rozumiem , ze bład moze<br>sie zdarzyc , ale skoro pracuje sie juz na<br>zlomowym sprzecie nalezałoby wziac poprawke przy<br>stawianiu powaznych diagnoz . Krótko mowiac Panie<br>doktorze , jesli biznes to na dobrym sprzecie a<br>generowanie zysków niekoniecznie przez niekonczace<br>sie kontrole : ) Pozdrawiam , Maciej",
           "__label__meta_minus_m"
          ],
          [
           "Bylam na połówkowym u Doktora wczoraj ( pakiet<br>Medicover ) Niby specjalista dobry , wszystko co<br>sie należalo sprawdzil ale straszny mruk , ciezko<br>doslyszec co mowi . Meżowi to musialam streszczac<br>bo on już w ogole nic nie slyszal . Obsługa<br>klienta raczej słaba - przedmiotowa . Wizyta<br>trwala 15min . Na usg pierwszego trymestru bylam u<br>innego specjalisy i widze dużą różnice w podejściu<br>do pacjenta . Jeśli przy IIIUSG ciaży będe miała<br>możliwośc wyboru w ramach pakietu to postaram sie<br>żeby był to inny lekarz .",
           "__label__meta_minus_m"
          ],
          [
           "Plusem jest to , że pokoje są naprawdę duże : )<br>Niestety pokoje nadają sie do porządnego remontu ,<br>są stare i ani trochę nie dorównują Novotelovi w<br>Warszawie . Po przybyciu w ubikacji zobaczyła m<br>nie spuszczone pozostałości po poprzednich<br>użytkownikach pokoju co świadczy o tym , że pani<br>sprzątająca nie zainteresowała się nawet<br>posprzątaniem toalety . Wymeldowanie było o<br>godzinie 12 a gdy już wychodzili śmy o godzinie 11<br>. 50 usłyszeli śmy telefon od pana z recepcji , że<br>należy sie wymeldować . Na przyszłość radze nie<br>dzwonić przed czasem i nie upominać gości ,<br>ponieważ było to bardzo niegrzeczne wypędzać nas<br>przed czasem . Niestety obsługa nas zawiodła i nie<br>odwiedzimy więcej tego hotelu ; )",
           "__label__meta_minus_m"
          ],
          [
           "Hotel lata świetności ma DAWNO za sobą ! Wymaga<br>kapitalnego remontu i wymiany ekipy zarządzającej<br>, a właściwe nie panującej nad funkcjonowaniem<br>hotelu . Ale po kolei : położenie hotelu jest<br>fajne - spokojne i niedaleko centrum Zlotych<br>Piasków , więc gdyby dyrekcja hotelu wykorzystała<br>ten atut , mogła by osiągnąć doskonaly rezultat .<br>Ale niestety . . . . Otoczenie czyli plaża i basen<br>- dramat . Oba miejsca brudne , leżaki połamane ,<br>parasole brudne i obszarpane . Dróżka z desek<br>prowadząca przez piasek do morza , z wystającymi ,<br>połamanymi deskami ( zrobiła m zdjęcia , mam<br>nadzieje , że zamieścicie ) , ratownicy nie<br>interesują się wypływającymi na materacach daleko<br>w morze . . . Za \" drobne wynagrodzenie \"<br>wpuszczają ludzi spoza hotelu , którzy bezczelnie<br>zajmują leżaki na plaży i przy basenie . Goście<br>hotelowi mają problemy ze znalezieniem miejsca<br>gdziekolwiek na plaży i przy basenie . Basen aż<br>gęsty z brudu , kafelki z pleśnią , a obramowanie<br>metalowe wokół basenu zardzewiałe ( zrobiła m<br>zdjęcie ) . Pokoje sprzątane co 2 - 3 dni ! Nie<br>codziennie ! Zresztą to sprzątanie to kpina . Ani<br>razu nie odkurzane , piasek w łazience i na<br>podłodze , łóżka nie ścielone , tylko zagrzebywane<br>( również zrobiła m zdjęcie pokoju po tzw .<br>sprzątaniu ) . W łazience pleśń na kafelkach , a w<br>całym pokoju okropny smród nikotyny , nie do<br>wywietrzenia . Wżarty w zaslony i meble . Jeśli<br>ktoś liczy na prawdziwy all inclusive to będzie<br>mocno rozczarowany . W barach proste koktajle za<br>dodatkową opłatą ! Pracują od 10 do 22 .<br>Poprosilam o kawę o 9 , 55 - barman zażądal opłaty<br>. Natomiast zaprzestają obsługiwać już 21 . 50 .<br>Oddzielnej uwagi zasluguje grupa tzw . animatorów<br>. To już jest absolutna katastrofa ! ! ! i żenada<br>. Z większą nieprofesjonalnością i lenistwem<br>jeszcze się nie spotkała m w żadnym hotelu .<br>Przychodzili 3razy dziennie w okolice basenu na (<br>dosłownie 2 min ! ) , właczali jedną i ciągle tę<br>samą piosenką i wykonywali niechętne ruchy<br>kończynami , które wg nich nazywaly się aerobikiem<br>. I tyle . 3 w razy w tygodniu odbywały się<br>żenujące show dla dorosłych . Były to konkursy na<br>\" wysokim \" poziomie , na przykład kto pierwszy z<br>gości wypije piwo łyżeczką . A deklarowany mini<br>klub dla dzieci - zero odpowiedzialności ze strony<br>\" opiekunek \" . Moi znajomi odprowadzili dwójke<br>swoich dzieciaków ( 5 i 6 lat ) na rzekome zajęcia<br>plastyczne . Była tam jeszcze dwójka innych dzieci<br>i znudzona swoją pracą opiekunka . Kiedy po<br>godzinie przyszli po dzieci , okazało się , ze ich<br>pociech nie ma . Na pytanie , gdzie są , \"<br>opiekunka \" odpowiedziała , ze nie wie !",
           "__label__meta_minus_m"
          ],
          [
           "Hol główny widać że po remoncie , nowoczesny , ale<br>pokoje już gorzej . Pokoje małe , zimne bardzo<br>skromne . w porównaniu z innymi hotelami w tej<br>samej cenie - masakra . Jedzenie nie porywa ,<br>kelnerzy z łaską .",
           "__label__meta_minus_m"
          ],
          [
           "Hotel bez rewelacji . Wystarczy zostawiać dziennie<br>kilka lirów na poduszce zeby każdego dnia był<br>posprzątany dobrze i wymienione ręczniki .<br>położenie hotelu świetne to chyba jedyny plus<br>chociaz jest wiele piękniejszych miejsc za ta sama<br>cenę . Transfer z lotniska 3 godziny z przesiadka<br>z dużego autokaru na małego busa bardzo męczące<br>jeżeli ktoś jedzie z dziećmi , jedzenie średnie<br>każdego dnia hamburgery frytki i pizza ktora nawet<br>dzieci mogą sie znudzić . Aqapark czynny od 11do<br>17 wiec trzeba krążyć z basenu na basen . Woda<br>zimna nawet przy temp 33 stopni . Niestety<br>atmosferę błogości i spokoju niszczy ilośc Polaków<br>z dziećmi które naprzemian krzyczą i płaczą do<br>godz 24 . Polacy nie bardzo przejmują sie tam<br>czymkolwiek począwszy od ciagłego picia głośnych<br>krzykach awantur o leżaki ( które zajmują o 4 w<br>nocy ręcznikiem a potem do 16 ich nie ma ) . Może<br>my trafili śmy na taki tour wiec nie polecam tego<br>miejsca w sezonie , są tylko Polacy wiec obsługa<br>hotelu nie bardzo dba o czystość czy jedzenie<br>widząc ze Polak zje wszystko co mu sie da . Jeżeli<br>kończyło sie cos na kolacje nie było donoszone ,<br>szybko zbierane talerze nawet z nieskończonym<br>jedzeniem , szybko podawana kolacja z naciskiem<br>zeby szybko skończyć i zabierać jedzenie tak samo<br>przy śniadaniach . To jedno z tych miejsc gdzie<br>można wstydzić sie za zachowanie Polaków<br>zostawiających swoje dzieci na placu zabaw do<br>północy a sami pijacy przy barze . Co do obsługi<br>tak jak wspomniała m wystarczy zostawić dwa liry<br>dziennie na poduszce sprzątaczce i wręczyć<br>dyskretnie tip kelnerowi , ktory obsługuje przy<br>kolacji od razu robi sie miłej i człowiek jest<br>lepiej postrzegany . Jeżeli człowiek chce troszkę<br>ciszy polecam plaże lub basen przy restauracji na<br>którym rubasznych Polaków mniej w większości<br>leżeli tam Niemcy Anglicy i Turcy . Przy basenach<br>mało leżaków co naprawdę przeszkadzało bo trzeba<br>było iść na plaże . Spokoju w tym hotelu nie<br>zaznali śmy pomimo tego ze kompletnie dzieci nam<br>nie przeszkadzały bardziej ich rodzice Andolutnie<br>wybrała by m teraz juz inny hotel",
           "__label__meta_minus_m"
          ],
          [
           "Tragiczne miejsce . Jak żywcem z krainy PiSiorów ,<br>z chamskim właścicielem . . . Brudno , syf .<br>Pokoje śmierdzą . Obok restauracja - smażalnia<br>DORSZ , z super jedzeniem i fajną , wesołą obsługą<br>, ale to chyba inni właściciele . Bar PRL z<br>rewelacyjnym jedzeniem , najlepszym powiedział by<br>m w Niechorzu . Co do hotelu , to trzeba jeszcze<br>wspomnieć o braku parkingu . Internet to jakaś<br>kpina .",
           "__label__meta_minus_m"
          ],
          [
           "Słaby hotel . Zdecydowanie kiepski stosunek ceny<br>do jakości . Nie jest to dobra wizytówka Ibisa .<br>Wyposażenie słabe , stare i mocno zużyte . Do<br>szafy trzeba się było przeciskać obok łóżka .<br>Drzwi do łazienki się nie domykały . Czystość w<br>pokoju też pzozostawiała wiele do życzenia . Na<br>pewno nie wrócę do tego hotelu .",
           "__label__meta_minus_m"
          ],
          [
           "Bardzo podobała nam się oferta Folwarku Łękuk ,<br>więc gdy nagle zdecydowali śmy się na wyjazd na<br>Mazury , a w Łękuku nie było już miejsc , zabrali<br>śmy ze sobą namiot , żeby na zakończenie pobytu w<br>okolicach Giżycka , chociaż 2 - 3 noce spędzić<br>jednak w Łękuku . Byli śmy z dwójką dzieci , to<br>miał być ich pierwszy pobyt pod namiotem , więc<br>bardzo się na to cieszyli śmy . Miejsce nam się<br>ogólnie spodobało , zadbane , sporo zieleni , pole<br>namiotowe pod dużymi drzewami , sanitariaty bardzo<br>czyste , jedynie jezioro zarośnięte dosyć poza<br>miejscami wyznaczonymi do pluskania się przy<br>brzegu , więc jeśli ktoś pływa , to kiepsko raczej<br>. Chcieli śmy wykupić wyżywienie , ale okazało się<br>, że nie wiadomo co z obiadem w dniu przyjazdu ,<br>mamy poczekać , to może coś zostanie ? : / grilla<br>nie wiadomo czy można rozpalić , rower wodny nie<br>wiadomo czy można wziąć o 9 wieczorem , ogólnie<br>nic nie wiadomo , tylko jedna pani naprawdę<br>kompetentna , wszystko zawsze wiedziała : ) jakoś<br>nas to zniechęciło wszystko , do tego hałas<br>całodzienny dobiegający z budowy nowego obiektu i<br>grupa wyrostków pijących piwo na pomoście jeziora<br>wieczorkiem , rzucająca głośno niewybredne<br>komentarze , wulgarnym słownictwem , mimo<br>obecności małych dzieci . Spędzili śmy tam tylko<br>jedną noc i wyjechali śmy rano , zjadając tylko<br>śniadanie , nie rewelacyjne zresztą . Nie wiem o<br>jakich serkach kozich i innych frykasach pisze pan<br>w komentarzu poniżej , może mieli śmy pecha , bo<br>na nic takiego nie trafili śmy , zwyczajne<br>jedzenie , wędlina dobra , aczkolwiek nazywanie<br>wody z syropem z butelki \" sokiem \" to trochę<br>przesada . Pomijając fakt , że za kawę trzeba<br>dopłacić ekstra 6 zł , na ekspresie napisano , że<br>tylko obsługa podaje kawę , obsługa zapytana<br>odpowiada , że ona nie wie : ) , dobrze , że miły<br>pan ( gość ) pomógł . Aha , wi - fi jest płatne<br>5zł za dobę , wyjeżdżali śmy o 9 rano , ale<br>policzono nam 2 doby , a jakże : D Trampolina (<br>nie najmłodsza już niestety , nawiasem mówiąc )<br>dla dzieci też płatna , chyba , że się jest w<br>pakiecie : ) Ogólnie , nam się nie podobało .",
           "__label__meta_minus_m"
          ],
          [
           "Fantastyczne położenie hotelu i ładna bryła<br>architektoniczna . Z dojazdem było trochę zabawy .<br>Dojechał em , ale nie ma gdzie zaparkować .<br>Zaparkował em na pobliskiej ulicy gdyż nie można<br>wjechać pod główne wejście . Niesamowicie mało<br>miejsca na i tak zablokowanym podjazdjeżdzie .<br>Miła obsługa w hotelu i chyba tyle miłego . Jakim<br>cudem ten hotel posiada 4 gwiazdki ? Odnosi się<br>wrażenie jakby jutro miał przechodzić remont<br>kapitalny po socjalistycznej wizji eleganckiego<br>hotelu . Brak klimatyzacji - wiatrak , a na<br>zewnątrz 30 stopni cel . temperatura w pokoju duża<br>i duszno . Trzeba otworzyć okno - no to huk od<br>ruchu ulicznego . Widok z okna - na górę Gellerta<br>- tak faktycznie to na krzaki . Istnieją pokoje z<br>widokiem na Dunaj - za ile ? Po godz . 20 : 00<br>basen nieczynny . Dopiero rano od 6 : 00 .<br>Śniadanie OK . Łazienka nie odpowiada parametrom 4<br>gwiazdek . Brzydka . Meble i łóżko - głowa boli !<br>Cena wyjątkowo wysoka . Na koniec ciekawostka -<br>samochód pozostał na noc na przyległej do hotelu<br>ulicy wśród innych tam zaparkowanych . Rano stał<br>tylko mój z zablokowanym kołem przez<br>budapesztańską straż miejską . Po prawie godzinie<br>oczekiwania przyjechali i z uśmiechem na twarzy<br>skasowali 11500 forintów i życzyli przyjemnej<br>podróży . Podziękował em za gościnę za duże<br>pieniądze i z uśmiechem również wyjechał em z<br>hotelu . Ten hotel to > LIPA",
           "__label__meta_minus_m"
          ],
          [
           "Właśnie wrócili śmy z \" weekendowego \" pobytu w<br>Amaxie , skusili śmy sie akurat na ten hotel po<br>przeczytaniu pozytywnych opinii . Wolna była willa<br>4 osobowa , wybrali śmy się z mężem i dzieckiem -<br>2 doby to koszt 1600 zł więc tym bardziej jechali<br>śmy ze spokojem , bez obaw co nas czeka na miejscu<br>. Cena w końcu zobowiązuje ? Hotel połozony w<br>fajnym miejscu , autem mogli śmy zaparkować przy<br>samym domku . Domek w środku wymagający remontu ,<br>taki typowy PRL , stare płytki , łazienka<br>wymagająca remontu , stare meble , kominek ,<br>kuchnia wyposażona w talerze sztucce itd . mała<br>lodówka ( i tu po jej otwarciu bo przyjechalismy z<br>miesem na girlla , wywalila sie szklana butelka od<br>piwa - oczywiscie koszt dodatkowo platny ) . Domek<br>2 pietrowy na dole salon z aneksem + lazienka wc .<br>Na gorze 2 sypialnie w sypialniach pełno pająków ,<br>much , meszek - ale mąż jakoś sobie z nimi<br>poradził - chociaż moim zdaniem obsługa hotelowa<br>przed przyjazdem gości powinna zadbać o coś<br>takiego . Łazienki wyposazone w zestawy kosmetyków<br>, nie wiem czy dobrej jakosci bo nie korzystalismy<br>z niczego oprocz z mydla do mycia rak . To co nas<br>zdziwilo na samym wstepie to ilosc reczników -<br>skoro domek jest na 4 osoby , to każda osoba<br>powinna miec dla siebie komplet recznikow , tak<br>zawsze dostawalismy w innych hotelach . O dziwo<br>nie w Amaxie , 2 duże reczniki + 4 małe do<br>wytarcia co najwyżej nóg lub włosów na głowie .<br>Rozpalilismy grila posiedzielismy , poszlismy na<br>spacer zwiedzic okolice , i to wszystko . O<br>poranku śniadanie , spodziewali śmy się wow - ze<br>wzgledu na cene jaka zaplacilismy , jak i opinie<br>obiektu . I tutaj kolejne zdziwienie - sniadania<br>bardzo ubogie , na ciepło jajecznica , i parówki ,<br>3 / 4 rodzaje wedlin ser zolty twarog , jajka<br>pomidory , ogorki , galaretki z jakim farszem w<br>srodku , pasztet , pieczywo ( chleb i bulki )<br>platki sniadaniowe , z jogurtów tylko jogurt<br>naturalny augustowski , kawa herbata , sok z<br>nalewaka , i lemoniada . Co nas zdziwilo<br>najbardziej ? brak owocowów . Skusilismy sie na<br>standard czyli jajecznice , pieczywo i wedline .<br>Bylo smaczne . Ale naparwde patrzac przez pryzmat<br>ceny jaka oplacilismy za 2 noce to bardzo ubogo .<br>W hotelu znajduje sie basen ( z tego co czytalam<br>nawet 2 ) widzielismy jeden - na zewnątrz . Trcohę<br>owadów w nim pływało , więc wybralismy sie do<br>centrum mikolajek , wypozyczylismy lodke i tak<br>spedzilismy caly dzien . Wrocilismy ok godz 18 -<br>domek nie sprzatniety - ale ok niedziela w koncu<br>moze obsluga hotelowa ma wolne . Rozpalili śmy<br>grilla , dzwonek do drzwi - obsluga sprzatajaca z<br>pytaniem czy potrzebujemy sprzątniecia domku ?<br>Stwierdzili śmy że o tej porze nie ma już sensu ,<br>na sprzątanie tym bardziej że z rana czeka nas<br>wyjazd - więc jaki jest sens sprzatania o tej<br>porze ? Myslalam ze pokoje sprzata sie rano ?<br>Dodam ze butelki z woda rowniez nie zostaly nam<br>dostawione na kolejna dobe . W trakcie grillowania<br>stwierdzilismy ze szkoda ze wybralismy ten hotel<br>bo tylko zmarnowalismy pieniadze , a doplacajac<br>300 / 600 zł wiecej moglismy miec pokoj w Hotelu<br>Mikołajki , czy w Gołębiewskim . Ale tak to jest<br>jak czlowiek chce czegos innego . Po grillu<br>spakowalismy sie i o 20 wrocilismy do do domu , w<br>koncu i tak nie mielismy nic do stracenia - oprocz<br>podrozy , kolejny nocleg i sniadanie bylo nie<br>warte zachodu . Z + tylko i wyłącznie , grill<br>ktory jest dostepny na miejscu , polozenie w<br>spokojnym miejscu z fajnym widokiem - a reszta to<br>niestety minusy . Jestesmy wymagający z mezem - i<br>cena po prostu nie jest adekwatna do jakosci .<br>Zeby za pokoj zaplacic 200 zł za dobe to ok nie ma<br>sie do czego czepiac , ale za takie pieniadze jak<br>my zaplacilismy oczekiwalismy wow . W każdym badz<br>razie ostatni raz sugerowalismy sie opiniami ludzi<br>w internecie , bo jak widac kazdy czlowiek ma inne<br>wymagania , inne standardy itd . Moze dla<br>niektorych pobyt w Amaxie to wymarzone wakacje ,<br>odpoczynek itd . Nie dla nas . My duzo jezdzimy ,<br>bylismy w wielu hotelach , i jestesmy osobami<br>wymagajacymi . Cena naszym zdaniem powinna isc w<br>parze z jakoscia , tutaj tak sie nie stalo .<br>Pierwsza wizyta w tym miejscu i ostatnia .<br>Osobiscie nie polecamy .",
           "__label__meta_minus_m"
          ],
          [
           "Nie polecam . Brak uwag do kompetencji tego<br>lekarza . Jest on jednak bezczelny i arogancki w<br>stosunku do pacjenta - poniża i ocenia jego urodę<br>( \" Myślisz , że mam w ogóle ochotę patrzeć na<br>twoją \" piękną \" paszczę ? \" ) , inteligencję ( \"<br>Światłość od ciebie bije ! \" ) czy umiejętność<br>czytania ( \" Umiesz czytać ? \" ) . Rzuca także<br>kąśliwe docinki na odpowiedź , że pacjent nie<br>przypomina sobie , jak aplikuje się dany lek ( \"<br>No to przypomnimy koledze . . . \" ironicznym tonem<br>) , bo nigdy o nim nie słyszał ani go nie widział<br>, a w przychodni pielęgniarki nie poinstruowały<br>pacjenta przy pierwszej wizycie . Ponadto wyraża<br>się wulgarnym językiem - używa różnych zwrotów<br>zawierających w sobie słowo oznaczające wiadomą<br>część ciała na 4 litery . U normalnego lekarza<br>sprawdzanie oddechu czy jamy ustnej przebiega po<br>wydanej grzecznym poleceniu do pacjenta . U dr<br>Sankowskiego pacjent musi czytać w myślach ( nie<br>wiadomo , czy chce sprawdzić dziurki nosa czy usta<br>, bo jego ręka nie potrafi utrzymać bez drgania<br>latarki ) , gdy już jednak wydaje polecenie , to w<br>bezczelny sposób ( \" Otwórz paszczę ! Wywal ten<br>jęzor ! \" ) . Specjalista ten ma problemy z<br>empatią , kontaktem z pacjentami i przyznawaniem<br>się do błędu . Zdecydowanie odradzam wizyty u<br>niego , chyba że ktoś z Państwa jest w stanie<br>wytrzymać godzinę poniżania i mieć popsuty humor<br>przez całą resztę dnia .",
           "__label__meta_minus_m"
          ],
          [
           "Stanowczo NIE POLECAM Pana Moralewicza jako<br>lekarza , ponieważ , niedosyć że czekała m bardzo<br>długo na pierwszą wizytę która została odwołana na<br>piękną pogodę i Pan \" doktor \" poszedł na urlopik<br>to przesunięto mi wizytę na dalszą datę . W<br>momęcie kiedy doszło do owej wizyty to trwała<br>około 1 , 5 minuty Pan M . wydrukował nam kartkę z<br>tekstem \" Zalecenie usunięcia laserem \" ( co też<br>każdy o tym dobrze wiedział a syn potrzebuje<br>właśnie tego a nie kartki z drukarki ) i<br>powiedział żeby śmy sobie lekarza poszukali na<br>internecie . Gdzy zwrócił em mu uwagę , że to co<br>zrobił ( wizyta półtoraminutowa ) nie warte było<br>stu złotych zabrał mi tą wydrukowaną kartkę ale<br>niestety stówka przepadła ponieważ żona już<br>zapłaciła . Po tej wizycie stwierdzam , że nie<br>warto tam przychodzić . Pan Moralewicz nie wykazał<br>się przez 1 , 5 minuty żadną wiedzą a stówkę<br>zapłacili śmy właściwie za nic Nie polecam , nie<br>wykazuje żadnego zainteresowania pacjętem a<br>dziecko dalej chodzi z chorymi nogami . Odradzam<br>stanowczo .",
           "__label__meta_minus_m"
          ],
          [
           "Z opinią zaczekała m do momentu , w którym będę<br>mogła ocenić również skutki leczenia , a nie samą<br>wizytę . Niestety moja opinia nie jest zbyt<br>pochlebna . . . Cena wizyty jest wszystkim dobrze<br>znana , więc z tym nie mam problemu , jednak<br>płacąc za wizytę liczę na godną opiekę , dokładne<br>badanie , kilka porad i oczywiście skuteczne<br>leczenie . Niestety było kompletnie inaczej . Moja<br>wizyta trwała raptem z 10 min , badanie było<br>zrobione bardzo pobieżnie ( nigdy w życiu , żaden<br>ginekolog nie badał mnie tak krótko . . . ) a<br>wybrane leczenie ? Niestety nie dało żadnych<br>efektów . Moja infekcja po ośmiodniowym braniu<br>globulek i wydanych 200zł nadal jest obecna .<br>Jedyny plus za zbadanie pH pochwy , bo z tym<br>jeszcze się nie spotkała m . . .",
           "__label__meta_minus_m"
          ],
          [
           "Tydzień temu odbyła się moja wizyta u lek .<br>Przemysława Kosińskiego . Było to usg między 11 -<br>14 tc z oceną ryzyka w Multi Med na ul . Polnej .<br>Koszt wizyty wyniósł 300 zł . Nie chcę oceniać<br>profesjonalizmu lekarza , wydaje mi się , że<br>badanie wykonał prawidłowo , a zważywszy na<br>kompetencje lek . Przemysława oraz bardzo dobry<br>sprzęt na którym pracuje myślę że tak się właśnie<br>stało . Natomiast mam zastrzeżenia co do czasu<br>jaki lekarz poświęcił mojej osobie . Z zegarkiem w<br>ręku było to 10 min . Od samego początku Pan<br>doktor ewidentnie się śpieszył . Mówił bardzo<br>szybko , szybko wykonał usg i bardzo szybko<br>sporządził dokumentacje . Nie dał mi zbytnio<br>szansy na zadanie wszystkich nurtujących mnie<br>pytań , a poprzez pośpiech wywołał nerwową<br>atmosferę , w której ciężko było mi myśleć . W<br>trakcie badania zapytała m czy widać już płeć<br>dziecka ( osoby polecające mi klinikę mówiły że<br>jest to już możliwe w jakimś tam niewielkim<br>zakresie ) , ale lekarz skomentował moje pytanie<br>iż bardziej powinno mnie serce dziecka interesować<br>niż płeć . Na koniec dwa razy powiedział do<br>widzenia , żeby śmy już wyszli . Wizyta u Lek .<br>Przemysława Kosińskiego nie spełniła moich<br>wszystkich oczekiwań . Najważniejsza jest dla mnie<br>nadzieja , iż poprzez pośpiech nic nie zostało<br>przeoczone .",
           "__label__meta_minus_m"
          ],
          [
           "Był em na wizycie prywatnej w LUX - MEDzie .<br>Pomimo tego , że za wizytę zapłacił em 140 złotych<br>, wyglądało tak jak zwyczajna wizyta u państwowego<br>lekarza , gdzie czuł em się źle z tym , że<br>przeszkadzam pani doktor w wypiciu kawy . Zupełnie<br>nie chciała słuchać historii mojej choroby , bo '<br>to co wcześniej jest nie ważne - ważne czy teraz<br>boli' . Nie umiała udzielić informacji , skąd może<br>brać się moja choroba , a - co gorsza - nie umiała<br>powiedzieć , czy to przejdzie . Na kilka moich<br>dodatkowych pytań odpowiadała ' nie wiem ' albo '<br>trudno powiedzieć' . Szkoda , że za kilka minut<br>wątpliwej jakości porady , musiałem zapłacić aż<br>tyle . Skończyło się na tym , że zapisane mi<br>zostały krople do uszu , które można kupić bez<br>recepty oraz Nurofen - najprostszy lek<br>przeciwbólowy . Ogólnie - nie polecam .",
           "__label__meta_minus_m"
          ],
          [
           "Pokój brudny , łazienka brudna , kuchnia -<br>korytarz zapomnijmy , meble w opłakanym stanie , \"<br>łòżko \" - skrzypiąca wersalka z ery<br>przedkomunistycznej nie była odkurzana od jej<br>zakupu . Wejście to tego \" cudu \" od zapuszczonego<br>podwòrka . Zdjęcia na ich stronie zrobione chyba<br>były w minionym stuleciu . W zwiazku z tym , że<br>przyjechała m późnym wieczorem , zostaję ( ale pod<br>prysznic nie pójdę ) - kto się zastanawia nad<br>wyborem Petit Hostel , nie polecam , chyba że ktoś<br>lubi horrory .",
           "__label__meta_minus_m"
          ],
          [
           "Pani doktor jest miła , ale mało delikatna i<br>niestety w moim przypadku sprawiła , że<br>nieustannie czuję okropny ból , którego przed<br>wizytą w gabinecie nigdy wcześniej nie odczuwała m<br>. Dodatkowo moje dolne równe zęby spiłowała tak<br>krzywo pod korony , że daleko jest to od pojęcia<br>stomatologi estetycznej i a tym bardziej komfortu<br>życia . \" Profilaktyka leczenia próchnicy \" to<br>niestety zwykle nakłanianie na zbędne leczenie i<br>to w dodatku bardzo kosztowne . Żałuję , że<br>skonsultowała m tego co powiedziała Pani doktor z<br>innym dentystą . Zapewne uniknęła by m bólu ,<br>który trwa do dzisiaj po leczeniu w gabinecie . Po<br>założeniu koron do których musiała m mieć zdrowe<br>zęby , po zaledwie kilku miesiącach podczas jednej<br>z kontroli powiedziała , ze mam próchnicę na<br>innych zębach , którą niestety dała m sobie<br>wyleczyć . I w ten sposób z niebolących zębów Pani<br>doktor sprawiła , ze cały zgryz się zmienił ,<br>ciagle boli mnie cała szczęka , nie mogę gryźć<br>zwykłych posiłków , już nie wspominając o twardych<br>produktach , a te \" wyleczone \" zęby bolą mnie<br>nieustannie od momentu ich \" wyleczenia z<br>próchnicy \" , czyli od ponad kilku miesięcy .<br>Chcąc poprawić estetykę dwóch górnych zębów Pani<br>doktor uszkodziła mi dodatkowo kilka zdrowych na<br>dole i mówiła , ze to \" normalne \" przygotowanie<br>pod korony . Żałuję , że na to się zgodziła m i<br>dała m sobie spiłować dół , ponieważ przez to<br>zmienil mi się zgryz , a nie sądziła m , że będzie<br>to aż tak wielka ingerencja w zęby i tak mocne<br>piłowanie moich wczesnej prostych zębów , które są<br>teraz krzywe i bolące , bo Pani doktor zależało na<br>tym , ażeby zrobić to jak najszybciej , a nie jak<br>najlepiej . Przed tym całym leczeniem nie<br>odczuwała m żadnego bólu , a po \" leczeniu \" czuję<br>go ciągle . Wolała by m oddać te pieniądze za<br>darmo niż leczyć je ponownie w gabinecie Pani<br>doktor . Mimo wielu korekt Pani doktor nie<br>potrafiła naprawić moich zębów . Leczenie się<br>tutaj to najgorsza decyzja , jaka podjęła m , z<br>którą niestety będę musiała jeszcze długo się<br>męczyć . Sugeruje skonsultować plan leczenia<br>zalecony przez Panią doktor z innym dentystą ,<br>najlepiej zaufanym . Ja niestety trafiła m tutaj<br>przez przypadek i z pewnością nie chce tam wracać<br>. Nie polecam .",
           "__label__meta_minus_m"
          ],
          [
           "Pobyt krótki , biznesowy . Obiekt dobrze położony<br>, blisko Stare Miasto , Teatr Narodowy , pod ręką<br>tramwaj i metro . Niestety na tym koniec plusów .<br>Poza tym : całkowita , dramatyczna masówa ,<br>hurtowy przerób gości , automatyzm , bez dbałości<br>o jakość obsługi i komfort pobytu , przy czym<br>chodzi mi wyłącznie o aspekty „ miękkie ” , nie<br>odnoszę się do kwestii obiektywnych , jak ciasne<br>pokoje , brak wieszaka w łazience , gniazdka przy<br>łóżku itp . Obsługa restauracji fatalna i zajęta<br>sama sobą / 13 . 11 . 2017 , wieczór / , długi<br>czas oczekiwania / sala prawie pusta ok . godz .<br>20 / , burger całkowicie zimny , niesmaczny i<br>podany z wielką łaską nawet bez ketchupu i<br>dodatków , za to z dużą ilością fioletowej kapusty<br>. Sok ze świeżych pomarańczy tylko w nazwie , w<br>praktyce jedynie podejrzany „ ulep ” z lodem w<br>środku . Śniadanie sztuczne , przeciętne ,<br>jajecznica z prochu , parówki i wędlina z dolnej<br>półki , soki zmieszane z wodą . Generalnie dość<br>szybko przyjmujesz postawę „ oby przetrwać do<br>wyjazdu ” . Reasumując : bardzo słabo , również<br>jak na Ibis . Nie do przyjęcia zwłaszcza przy<br>dłuższym pobycie lub z dzieckiem . Polecam<br>szkolenia np . w Ibisie Gdańsk Stare Miasto !",
           "__label__meta_minus_m"
          ],
          [
           "Jak dla mnie to ta pani nie zna się za bardzo na<br>tym co robi - przyjmując prywatnie powinna chociaż<br>mieć porządny gabinet - ale mniejsza o gabinet , w<br>ogóle mi nie pomogła i wypisała leki które nie<br>miały nic a nic do uszu . Jak dla mnie to nie jest<br>lekarzem z powołania i na niczym się nie zna .<br>Solidnie mnie skasowała , wypisała drogie leki a<br>dolegliwości jak był tak są . Czekam na kolejną<br>wizytę ale teraz u innego lekarza - może ktoś inny<br>mi pomoże bo moje dolegliwości nie ustąpiły po<br>calcium i kropelkach ( drogich na maxa ) , które<br>mi pani doktor wypisała ! !",
           "__label__meta_minus_m"
          ],
          [
           "Tym razem nie jestem zadowolona z podejscia<br>fizjoterapeuty do pacienta . Pan Bartosz nie<br>odeslal mnie do ortopedy lub na ultrasonografie<br>tylko potraktowal moj bol jako falszywy alarm I<br>zastosowal terapie na zasadzie bedzie lepiej lub<br>gorzej . Potym jak pojawil sie u mnie stan zapalny<br>poszlam na ultrasonografie I dostalam diagnoze \"<br>uszkodzenie 2 - go stopnia przyczepu blizszego<br>przywodziciela dlugiego \" . Uwazam , ze<br>powinno.sie bardziej serio . traktowac ludzi I<br>potrafic tez powiedziec , ze czegos sie nie wie I<br>nie stosowac terapii bez pewnosci jej rezultatu .",
           "__label__meta_minus_m"
          ],
          [
           "Witam . Ja dla odmiany mam złą opinie o tym<br>lekarzu . Trafiła m do Niego z mamą , która ma<br>poważne schorzenie kręgosłupa i wymaga - zgodnie z<br>opinią dwóch innych specjalistów - skierowania na<br>operację w celu wszczepienia jakiejś blaszki<br>pomiędzy kręgi , inaczej grozi Jej wózek<br>inwalidzki . Dr Kłosiński pobrał kilka razy<br>honorarium za wizytę w prywatnym gabinecie i<br>leczenie zakończył na podaniu 5 blokad , które nie<br>są obojętne dla organizmu a w żadnym razie nie<br>pomogły na to schorzenie . Po tym leczeniu nie<br>zaproponował nic wiecej , wynika z tego , ze<br>wszystko co mógł juz zrobił - niewiele . NIE<br>POLECAM",
           "__label__meta_minus_m"
          ],
          [
           "ODRADZAM wszystkim wizyte u tej Pani . Zachecona<br>dobrymi opiniami i strona internetowa gabinetu<br>udalam sie na leczenie tradziku , wypadajacych<br>wlosow i stanu skory . Pani od poczatku zachowuje<br>sie jakby robila łaske , ze przyjmuje pacjenta .<br>Nie pomogla w niczym . Stwierdzila krotko , ze<br>wszystko to wina hormonow , gdzie powtarzalam jej<br>, ze wyniki hormonow mam bardzo dobre . Na dodatek<br>liczylam ze pomoze mi dobrac masci i kosmetyki do<br>mojej cery , a ona stwierdzila ze to samemu trzeba<br>dobierac . Wiec pytam za co sie tam placi ?<br>Stracone pieniadze . Poza tym trzeba sie liczyc ,<br>ze na poczekalni wszyscy beda slyszec cala rozmowe<br>, a Pani sprawia wrazenie jakby szybko chciala sie<br>pozbyc pacjenta .",
           "__label__meta_minus_m"
          ],
          [
           "Nie polecam . Nie udziela żadnych konkretnych<br>informacji o stanie zdrowia pacjenta , wszystkiego<br>trzeba się domyślać . Przez cały pobyt w szpitalu<br>mojej bliskiej osoby , nie poświęcił mi jako<br>najbliższej rodzinie pacjenta nawet 5 minut na<br>rozmowę . Do tego nieudana operacja tętniaka .<br>Niestety mam bardzo złe wspomnienia po kontakcie z<br>tym lekarzem . Doktor Pałka nie wie co to jest<br>empatia , przynajmniej w moim przypadku tak było .",
           "__label__meta_minus_m"
          ],
          [
           "Miała m to nieszczęście , że rodząc moje pierwsze<br>dziecko dziecko trafiła m na dyżur tego \" doktora<br>\" w Ujastku . Bawił się ze mną w kotka i myszkę<br>cały dzień , najpierw obiecując wywołanie skurczów<br>a chwilę później się z tego wycofując ( odeszły mi<br>wody a nie było żadnych skurczów ) . W końcu , po<br>kilkunastu godzinach postawiła m na swoim i<br>dostała m kroplówkę . Powód jaki ten pan podał<br>jako odmowę podania oxytocyny był taki , że za 12<br>godzin moja lekarka przychodzi na dyżur i ona się<br>mną zajmie . Dodam , że była to noc z soboty na<br>niedzielę , 6 lat temu więc ruch na Ujastku nie<br>był wtedy jeszcze tak duży . Poród był straszny ,<br>nikt się mną nie zajmował , położna kumpela \"<br>doktora \" też mnie olała . Kowalczyk podczas<br>porodu cały czas żartował w sposób obrzydliwy ,<br>żalił się że mało mu płacą a jeszcze cudze porody<br>musi odbierać . Na koniec w ramach chyba odwetu<br>szył mnie na żywca , bez znieczulenia naigrywając<br>się ze mnie i przedrzeźniając moje jęki ! Naprawdę<br>\" wspaniały \" z niego lekarz ! Oby takich więcej !<br>A ja ci tego doktorku nigdy nie zapomnę jak mnie<br>potraktował eś i będę to nadal rozgłaszać gdzie<br>się da ! !",
           "__label__meta_minus_m"
          ],
          [
           "Bardzo , mały pokój , śniadania codziennie takie<br>same , obiady w formie bufetu , do wyboru ok . 6<br>dań bardzo różnej jakości , zimne , często<br>brakowało czegoś . Picie do obiadu tylko płatne ,<br>nawet czysta woda . Pół litra czerwonego wina ,<br>słabej jakości 7 euro - dużo za dużo . Basen wąski<br>, na jedną osobę , niewygodne wejście do morza .<br>Dobry hotel gdy ma się samochód i można podróżować<br>. Kompletnie nie nadaje się na pobyt z dziećmi ,<br>po prostu nie ma co robić . Jego wielką zaletą<br>jest cisza",
           "__label__meta_minus_m"
          ],
          [
           "Pan doktor jest mily i sympatyczny , ale nie<br>polecam go do prowadzenia ciazy . Chyba , ze<br>prywatnie . Ja chodzilam do niego przez pakiet<br>firmowy i jesli chodzi o standardowe wizyty to<br>spoko . Potem zaszlam w ciaze i tez do niego<br>chodzilam i powiem szczerze , ze przez 7 miesiecy<br>ciazy zylam w nieswiadomosci . Moja ciaza<br>przebiega bez problemowo , ale jednak czulam sie<br>niedoinformowana , zwlaszcza , ze to moje pierwsze<br>dziecko . Musialam sie upominac o badania , moje<br>UGS polowkowe ( bardzo wazne w ciazy ) bylo malo<br>szczegolowe i bardzo krotkie . Moje ostatnie<br>wizyty trwaly 15 minut , z czego 8min zajmowalo<br>wypisanie zwolnienia . I najlepsze na koniec - po<br>32 tyg . ciazy powinien mi zwiekszyc<br>czestoltliwosc wizyt , a on je zmniejszyl ! ! !<br>Dlatego poszlam do innego lekarza prywatnie i<br>widze roznice . Poza tym pan doktor podobno jest<br>dobry jak sie nic nie dzieje wlasnie , tak jak u<br>mnie . Ale jak juz sa komplikacje to chyba nie<br>jest najlepszy . Ale to , ze jest mily to<br>przyznaje . Tylko , ze w ciazy chcemy miec duzo<br>informacji , a to czy lekarz jest mily czy nie<br>schodzi na drugi plan , bo najwazniejsze staje sie<br>nasze malenstwo !",
           "__label__meta_minus_m"
          ],
          [
           "Hotel jako całość może być . Biorąc pod uwagę 3<br>gwiazdki - pokoje sprzątane codziennie ,<br>wyżywienie też w normie ale nie dłużej niż 7dni ,<br>natomiast całkowita bezradność w temacie reakcji<br>na zachowanie rozwydrzonej młodzieży hiszpańskiej<br>. Nie polecam wyjazdu w czerwcu gdyż 95 %<br>mieszkańców hotelu stanowi młodzież w wieku 11 -<br>17 lat i zabawa na terenie hotelu trwa od godz .<br>21 do 4 rano . Nikt nad tą zgrają nie panuje - nie<br>ma opiekunów - krzyki , śpiewy , wrzaski , na<br>balkonach i tarasach po 10 - 15 osób pijących .<br>Interwencje nic nie dają . Przez 8 dni nie<br>przespali śmy normalnie żadnej nocy ( byli śmy z<br>wnuczkiem ) . Nie wspomnę oprzelotach które w obu<br>kierunkach były opóźnione o ok . 2 godziny .<br>Rezydentka w hotelu też totalnie bezradna ! ! ! !<br>! ! !",
           "__label__meta_minus_m"
          ],
          [
           "Pokoj niby z wyzszym standardem a pod prysznicem<br>rozwalajca sie armatura , kabel z pradem w szafie<br>wisi , nie przygotowany pokoj na czas . . . Jak<br>wybierasz oferte to zwroc uwage na zameldowanie od<br>17 : 30 a wyeldowanie o 10 : 00 - nie spotkalme<br>sie z takim systemem . . . Bardzo słaaba<br>organizacja przy pełnym obłożeniu . . . Jedzenie w<br>miare ale restauracja za mała . . . Kopletny chaos<br>w kawiarniach , dlugi czas oczekiwania i promocja<br>na drinka ale w kawiarni w innym budynku dowiesz<br>sie o tym przy platnosci - mistrzostwo anty<br>marketing . . . Recznik basenowe odbierzesz w spa<br>ktore jest na innym pietrze , basen czynny do 21<br>ale reczniki juz nie oddzasz bo spa 20 : 55<br>zamykane , mokre zabierasz na pokój . . . dla mnie<br>duzo nie dociagniec . . .",
           "__label__meta_minus_m"
          ],
          [
           "Dla osoby z problemami psychicznymi ogromnym<br>wysiłkiem jest uświadomienie sobie , że potrzebuje<br>pomocy osoby z zewnątrz . A jeszcze trudniej<br>opowiedzieć o tych problemach , zazwyczaj<br>wstydliwych , żenujących , o porażkach i<br>słabościach . Oczekiwała by m wobec tego<br>mentalnego wsparcia od lekarza , nici empatii ,<br>pewnej dobrej aury podczas wizyty , która pomoże<br>się otworzyć i wyrazić słowami ból wewnętrzny .<br>Niestety tego brakowało Pani doktor . Z każdym<br>zdaniem mojej \" opowieści \" na twarzy malowały jej<br>się nowe \" miny \" . . . od irytacji po ironię .<br>Była m tak zażenowana , że omal nie wybiegła m z<br>płaczem ale resztkami sił się opanowała m , choć<br>teraz żałuję , że tak nie postąpiła m , bo żal na<br>tą Panią wydanych pieniędzy . Wyszła m upokorzona<br>i roztrzęsiona . Nie wrócę do niej nigdy więcej .",
           "__label__meta_minus_m"
          ],
          [
           "Bylam u Pana Doktora tylko raz kilka miesiecy temu<br>i byla to moaj pierwsza i zarazem ostatnia wizyta<br>. Pomijam juz pytanie o wyksztalcenie ( cytat \"<br>inaczej mowie do osob z wyzszym wyksztalceniem \" )<br>, stan cywilny ( jakby mial o czymkowiek swiadczyc<br>) i miejsce pracy . Trafilam do Doktora<br>przypadkiem , takze zachecona wieloma pozytywnymi<br>opiniami na tym portalu . Pojawilo sie u mnie<br>niewielkie krwawienie po menupauzie ( jestem na<br>htz ) co mnie bardzo zaniepokoilo . Niestety , moj<br>staly lekarz byl wtedy nieuchwytny . Pan doktor<br>potraktowal mnie jak osobe prawie na lozu smierci<br>. Stwierdzil , ze jestem jego \" najciezszym w tym<br>dniu przypadkiem \" . Zrobil mi usg , pokrzykujac<br>bez przerwy , ze moje endometrium jest w bardzo<br>zlym stanie i wyglada na stan przednowotworowy<br>albo nawet gorzej . Nie omieszkal krytykowac<br>jednoczesnie mojego lekarza za przepisanie mi<br>wlasnie tego leku jako htz . No i oczywiscie bez<br>przerwy podkreslal , ze pracowal w Wielkiej<br>Brytanii , jakby mialo to dla mnie jakies<br>znaczenie . Wystraszym mnie nieziemsko , zakazal<br>kontynuacji htz i skierowal natychmiast do<br>szpitala . Na szczecie po pierwszym szoku (<br>krwawienie dwa dni potem ustalo ) poczekalam , az<br>wroci moj lekarz , nie przerywajac htz i okazalo<br>sie , ze przyczyna mojego krwawienia byl dosc duzy<br>polip w szyjcie macicy , ktorego Pan Doktor w<br>ogole nie zauwazyl ( mimo badania i usg ) a moje<br>endometrium okazalo sie byc w porzadku . Jestem<br>juz po histeroskopii polipa , wynik badania<br>histopatologicznego jest dobty , zatem wszystko<br>jest ok . Zdecydowanie nie polecam Pana Doktora za<br>brak profesjonalizmu , bardzo nieprzyjemny<br>stosunek do pacjenta i brak empatii .",
           "__label__meta_minus_m"
          ],
          [
           "Kiepsko wyszkolona obsługa pracująca bez<br>zaangażowania , nie zwracająca uwagi na gości .<br>Brak klimatu , atmosfera obsługi zimna . Ani do<br>widzenia , ani zapraszamy ponownie . Podane<br>posiłki kiepskiej jakości jak na cenę i miejsce .<br>Danie obiadowe podane zimne , bez galanterii smaku<br>i szyku jakiej się spodziewali śmy w tej klasie<br>lokalu . Ogólna ocena pracy restauracji niska .<br>Nie zamierzam powtórzyć wizyty w tym obiekcie . A<br>może o to chodzi , bo goście bywają tu tylko raz ?<br>Nie jest to miejsce do którego zachęcę swoich<br>znajomych , ani sama nie zamierzam tu wracać .<br>Przykre , ale prawdziwe .",
           "__label__meta_minus_m"
          ],
          [
           "Przeszła m zabieg korekty powiek górnych u doktora<br>Ibrahima ponad rok temu . Operacja poskutkowała<br>lekką poprawą wyglądu powiek ( daleką od<br>spodziewanej ) a skutkiem ubocznym są bardzo duże<br>blizny . Na lewym oku blizna sięga skroni ! ! ! To<br>była moja pierwsza i jedyna operacja plastyczna ,<br>więc nie wiedziała m dokładnie czego się<br>spodziewać . Konsultacja przedzabiegowa była<br>pośpieszna . Recepcjonistka poinformowała mnie<br>przed zabiegiem , że dostanę tzw . niebieską<br>pigułkę na zobojętnienie , jednak nikt mi jej nie<br>podał . Ogólnie w klinice panowała atmosfera<br>pośpiechu i braku organizacji . Podczas operacji<br>doktorowi asystowali pielęgniarze , którzy w ogóle<br>nie mówili po polsku i słabo po angielsku wiéc<br>komunkacja była bardzo utrudniona . Bardzo mocno<br>uciskali moje oczy , żeby wyjąć woreczki<br>tłuszczowe , musiała m prosić doktora o zwrócenie<br>im uwagi . Doktor zainterweniował , ale siniaki<br>miała m przez cały miesiąc . Ale to jescze nic .<br>Najgorsze , że moje powieki wyglądają , jakby<br>przypadkowo pocięte . Blizny różnią się położeniem<br>i długością . Teraz mam na powiekach blizny<br>zanikowe idące w kierunku skroni , są nierówne ,<br>jedna jest dłuższa i leży wyżej od drugiej . Przy<br>tak rozległych bliznach nie pomaga żaden makijaż ,<br>nawet specjalistyczny korygujący . Od ponad roku<br>próbuję zabiegów laserowych , kremów , maści itp .<br>Niestety wzystko to pomogło tylko trochę .<br>Nieunikniony będzie zabieg rewizyjny . Doktor<br>Ibrahim nie wykazał żadnej chęci pomocy po<br>zaistniałej sytuacji . Stwierdził , że to moja<br>wina , bo mam zaburzenia produkcji kolagenu . 3<br>lekarzy chirurgów u których była m na konsultacji<br>w sprawie operacji rewizyjnej , nie potwierdziło<br>jego opinii . Nie polecam tego lekarza ani kliniki<br>Mandala .",
           "__label__meta_minus_m"
          ],
          [
           "Uwazam ze lepiej doplacic 100 - 200 zl w innym<br>biurze i kupic wycieczke gdzie hotel jest<br>normalnej wielkosci jak na standardy w turcji .<br>Bylam w paru hotelach i slowo daje nie wiem jakim<br>sposobem ten hotel ma 4ngwiazdki . . . moim<br>zdaniem zasluguje na 3 . Hotel maly , maly basen ,<br>drugi basen ze zjezdzalniami od ulicy tez malutki<br>. Ogolnie w podobnej cenie mozna znalezc hotel z<br>duzo lepszym standardem . Bo jeszcze gdyby plaza<br>byla normalna jakos bysmy przezyli , natomiast<br>plaza nie jest jak w ogloszeniu piaszczysto<br>zwirowa tylko kamienista . Negatyw ze wzgledu na<br>to ze w podobnych cenach jest duzoooo lepszy<br>standard .",
           "__label__meta_minus_m"
          ],
          [
           "Arogancki , mało empatyczny i nieuprzejmy człowiek<br>. Nie wzbudził mojego zaufania . Pan Doktor<br>udzielał zdawkowych odpowiedzi na zadawane mu<br>pytania . Zapytał mnie o kierunek studiów , jednak<br>kiedy udzieliła m odpowiedzi spotkała m się z<br>drwiącym uśmiechem i komentarzami , co było bardzo<br>przykre . Pan doktor przepisał mi leki po których<br>strasznie bolał mnie żołądek , a efektów ich<br>działania na zgłoszony przeze mnie problem nie<br>było widać . Podczas wizyty u innego ortopedy<br>pokazując leki jakie dostała m od dr<br>Zwinczewskiego nawet nie skomentował i wypisał<br>inne . Pan doktor Zwinczewski stwierdził również ,<br>ze jest potrzeba wykonania zastrzyków w kolana .<br>Chciała m zaznaczyć ze mam niespełna 24 lata .<br>Przestraszyła m się tego , więc zasięgnęła m<br>opinii u wspomnianego wyżej , innego ortopedy .<br>Jak do tej pory nie miała m zastrzyków w kolana i<br>mam nadzieję że nigdy nie będę mieć . Wizyta<br>trwała może 10 minut , natomiast opóźnienie było<br>godzinne . W poczekalni panuje chaos , jest<br>tłoczno , nie ma gdzie usiąść , ludzie są nerwowi<br>ze względu na duże opóźnienia . Nie jestem<br>zadowolona z usług tego pana . Płacąc wymagam<br>pełnego , świadomego zaangażowania w moje leczenie<br>od osoby leczącej . Nie gdy więcej nie skorzystam<br>z usług tego gabinetu .",
           "__label__meta_minus_m"
          ],
          [
           "Pani lekarz na pewno miła i co do wizyty<br>lekarskiej nie ma się do czego przyczepić . Pani<br>lekarz jednakowoż proponuje wielce kuszący ,<br>niestandardowy proces leczenia , który ma się<br>odbywać w innej placówce oraz innym terminie .<br>Pani lekarz obiecuje podać szczegóły telefonicznie<br>w \" następny wtorek \" , ale po 4 wtorkach nijak<br>nie można dowiedzieć się niczego nowego . Pani<br>lekarz kilka razy sama wyznacza datę kolejnego<br>kontaktu , ale ów kontakt nie następuje i szukaj<br>wiatru w polu . . . Podsumowując , zdecydowanie na<br>minus : - kontakt z pacjentem - niespełnione<br>lekarza obietnice - ulotne postrzeganie czasu<br>przez Panią lekarz Plusik za pierwsze wrażenie ,<br>które niewątpliwie jest pozytywne , ale oczekujemy<br>efektów leczenia , a takich ani widu , ani słychu<br>. PS : W razie pytań proszę dzwonić \" we wtorek \"<br>.",
           "__label__meta_minus_m"
          ],
          [
           "Pani Dr . Bystrzanowska nie interesuje sie<br>problemem pacjenta ! Wiecznie wygląda na znudzoną<br>i widać , że nie lubi swojej pracy . Pierwszy raz<br>spotkał em sie z takim podejściem do pacjenta ,<br>nawet w publicznej przychodni był em lepiej<br>traktowany ( a u niej wizyta to 100zł ) . Siedzi<br>wiecznie wpatrzona w laptopa a ma otwarte tylko gg<br>! ! ! ) . Kilka wizyt to tylko kilka stów<br>wywalonych w błoto . Pomogli mi dopiero w klinice<br>na koszykowej a tam nic sie nie płaci ! Tak wiec<br>stanowczo odradzam - ewentualnie jeśli ktoś chce<br>sobie popatrzeć na śliczną panią doktor przez<br>10min za cenę 100zł to jak najbardziej : )",
           "__label__meta_minus_m"
          ],
          [
           "podczas wizyty z dzieckiem w poradni zamiast<br>zajmować się córką ciągle pytał , czy przypadkiem<br>ja nie mam problemu z nerwem twarzowym i dziecko<br>go mniej interesowało , niż ja . Nie słuchał , co<br>do niego mówił em o objawach u dziecka i dyktował<br>pielęgniarce do karty zupełnie inny wywiad , niż<br>mu podawał em . W karcie zapisano lekkie bóle<br>głowy , podczas , gdy córka płakała z bólu i nie<br>mogła normalnie funkcjonować . Zdecydowanie mnie<br>lekceważył . Nie pomógł w żaden sposób .",
           "__label__meta_minus_m"
          ],
          [
           "Zrobili śmy rezerwację tydzień przed walentynkami<br>, pokoik był okej , oferta zapowiadała się super<br>szkoda tylko że był malutki basen a w nim zimna<br>woda , jacuzzi nie uruchomione w restauracji zimno<br>strasznie było , . . oprócz nas widzieli śmy tylko<br>barmanke i managera bo w hotelu było pusto , zimno<br>, zero klimat , obiad był nie smaczny a śniadanie<br>nie ciekawe . Nie polecam bo za 400zl za dobę to<br>można być w pięknym spa zjeść pyszny obiadzik i<br>posiedzieć wieczorem w przytulnej restauracji .<br>Nigdy już tam porostu nie wrócimy .",
           "__label__meta_minus_m"
          ],
          [
           "Kolejny bardzo nie udany pobyt . To zdecydowane<br>jeden z najbardziej brudnych hoteli w Katowicach w<br>ktorym dodatkowo panuje jeszcze PRL jesli chodzi o<br>wystroj pokoi . Pokoje sa brudne i zakurzone .<br>Stare wytarte meble , brudne poduszki i nieczynny<br>sejf . Lampa w moim pokoju byla zepsuta i peknieta<br>. Nawet klamka w oknie byla brudna ! Lazienka byla<br>istnym koszmarem . Brudne fugi i kabina<br>prysznicowa . Sufit caly w zaciekach . Stare ,<br>wytarte reczniki . Telefon ktory byl w lazience<br>nawet nie byl podlaczony . Dodatkowo zapach<br>papierosow choc w hotelu sie ponoc nie pali .<br>Recepcja bardzo nieudolna . Sniadania zdecydowanie<br>za drogie . Nie polecam !",
           "__label__meta_minus_m"
          ],
          [
           "Odradzam . Wizyta kosztowala w styczni 105 zl , a<br>trwala 5 minut . Corka na tradzik dostala jakies<br>masci . Po miesiacu nastepna wizyta - umowione<br>bylysmy na 17 . 00 a weszlysmy do gabinetu ok 18 .<br>Przed nami weszly 2 osoby , ktore nie byly<br>zapisane ale pani doktor poprosila je . Na moje<br>pytanie dlaczego tak sa zalatwiani pacjenci<br>dowiedzialam sie ze tak jest i juz Wizyta trwala 5<br>minut 105 zl i pani stwierdzila ze corka musi brak<br>antybiotyki . Wyspisala 5 opakowan na moje pytanie<br>czy te antybiotyki nie zaszkodza jej ,<br>dowiedzialam sie ze i aspiryna szkodzi . Pani<br>doktor nie miala ochoty odpowiadac na inne moje<br>pytania tylko zaprosila na wizyte za miesiac .<br>Zrezygnowalysmy .",
           "__label__meta_minus_m"
          ],
          [
           "Odniosła m wrażenie , ze ten PAN jest znudzony<br>swoja praca i siedzi w gabinecie bo musi . W<br>zeszłym roku neurolog skierował mnie na<br>konsultacje neurochirurgiczna , sugerujac operacje<br>. Rezonans wykazał dyskopatie z rwa kulszowa na<br>poz . L5 / S1 . Pan Sajewicz po zapoznaniu się z<br>moim przypadkiem stwierdził , ze nie zakwalifikuje<br>mnie do operacji gdyż ( cytuje ) : dopóki nie<br>bierze Pani 10 tabletek przeciwbólowych naraz oraz<br>potrafi Pani unieść nogę do 45 ° to nie jest tak<br>źle . Trzy dni temu miała m mikrodyscektomie .<br>Sadze , ze gdyby nie \" profesjonalizm \" p .<br>Sajewicza , moglabym uniknąć niepotrzebnego bólu<br>przez kolejny rok oraz poniesionych w tym czasie<br>kosztów .",
           "__label__meta_minus_m"
          ],
          [
           "Mam wrażenie , że klimat podczas wizyty u dr<br>Szymuli zalezy od dwóch czynników - czy zapałał<br>sympatią do pacjentki oraz czy akurat ma nastrój .<br>Dwa razy usłyszała m od niego uwagi na temat mojej<br>wagi ( a wazyłam wówczas 56 kg przy 162 cm , więc<br>żadna to nadwaga , co nie zmienia faktu , że uwagę<br>pamiętam do dziś ( po 4 latach . . . ) ) . Jeśli<br>chodzi o kompetencje - 3 lata leczył mnie z<br>infekcji , z której mnie nie wyleczył , natomiast<br>spowodował uodpornienie na większość dostępnych<br>leków . Pomogła dopier rewelacyjna i absolutnie<br>najlepsza lekarka , z jaką miała m do czynienia w<br>życiu - dr Olszak - Sokołowska z Medicoveru w<br>Gdyni . Dziś znów mam abonament w Lux Medzie i<br>wiem , że najlepszych lekarzy to tam nie ma , a do<br>Szymuli nie pójde na pewno . Złośliwy , arogancki<br>typ , wspominam wizyty bardzo nieprzyjemnie",
           "__label__meta_minus_m"
          ],
          [
           "Miała m dzisiaj wątpliwą przyjemność uczestniczyć<br>w pikniku organizowanym w Dolinie Charlotty i<br>jestem zawiedziona . Atrakcje dla dzieci to i<br>owszem ale podane nam posiłki nie nadawały się do<br>konsumpcji . Pierś z kurczaka wysuszona na wiór ,<br>karkówka nieświeża , a zupa gulaszowa to<br>zabarwiona woda z niewielkimi kawałkami papryki .<br>Wszystko było bez smaku , a hitem były \" lody<br>śmietankowe \" - biały , nieprzetopiony smalec ,<br>który nawet na słońcu się nie rozpuścił . Jestem<br>zniesmaczona i jeszcze z taką arogancją się nie<br>spotkała m . Nie polecam ! ! !",
           "__label__meta_minus_m"
          ],
          [
           "U pani okulistki leczę się od dziecka obecnie mam<br>28lat i jestem w ciąży . Mam ciągle postępująca<br>wadę wzroku ( obecnie - 7 ) dlatego podczas ciąży<br>chciała m wykonać badanie dna oka w celu<br>wykluczenia wad siatkówki oraz ewentualnego<br>zaświadczenia o wskazaniach do cesarki . Pani<br>doktor badanie wykonała wskazań do cesarki nie<br>stwierdziła tylko dodała na koniec wizyty żeby m<br>broń Boże nie zamykała oczów podczas porodu bo<br>mogę stracić wzrok zademonstrowała również pozycje<br>jaką mam przyjąć podczas porodu i powiedziała , że<br>mam sobie ćwiczyć bo mam jeszcze czas . . . Po tej<br>wizycie poszła m do innego okulisty , który<br>wykonał badanie dna oka , które wyglądało zupełnie<br>inaczej niż u pani doktor i okazało się , że mam<br>tak słabą siatkówkę , że nie mogę rodzic<br>naturalnie .",
           "__label__meta_minus_m"
          ],
          [
           "Zupełnie nie rozumiem zachwytów nad panem doktorem<br>. Po pierwsze tradycyjnie ponad godzinne<br>opóźnienie . Po drugie przedmiotowe potraktowanie<br>dziecka a cena za wizytę wysoka . Po trzecie<br>załatwianie swoich prywatnych telefonów podczas<br>wizyty . Na koniec jeszcze do gabinetu wpakował<br>się chyba syn doktora i ten był tak zajęty rozmową<br>z nim , że nawet nie odpowiedział do widzenia . Za<br>150 zl wypadało by to zrobić . . . .",
           "__label__meta_minus_m"
          ],
          [
           "Była m u Pani Dermatolog kilka miesięcy temu z<br>łuszczycą i zapaleniem skóry na twarzy (<br>spowodowanym jednokrotnym posmarowaniem twarzy<br>sterydem ) . Po wizycie była m załamana , bo nie<br>uzyskała m żadnej pomocy , prócz informacji , że<br>mam myć twarz szamponem Pirolam . Usłyszała m , że<br>mam przyjść jeszcze raz na wizytę i jeśli się nie<br>poprawi po tym szamponie to zostanę skierowana do<br>szpitala . Po wizycie zadzwoniła m do poradni w<br>szpitalu do której chodzę na NFZ z prośbą o jak<br>najszybszą wizytę - usłyszała m , że mogę przyjść<br>następnego dnia . Ze względu na mój stan została m<br>skierowana do szpitala - była m w takim stanie ,<br>że wstydziła m się wychodzić z domu . Na szczęście<br>wszystko już jest w porządku . Zdaje sobie sprawę<br>z tego , że mój przypadek był ciężki , ale<br>zawiodła m się na Pani Doktor nie dlatego , że nie<br>potrafiła mi pomóc , tylko dlatego , że nie<br>potrafiła mi tego powiedzieć i nie skierowała mnie<br>do szpitala od razu .",
           "__label__meta_minus_m"
          ],
          [
           "Byli śmy w Primawerze po raz 4 i po raz pierwszy<br>musimy napisać , że obsługa na recepcji FATALNA !<br>! ! Panie nieuprzejme , bez uśmiechu , doba<br>hotelowa rozpoczyna się od 17 . 30 co już na<br>wstępie jest nieporozumieniem , do tego<br>przyjechalismy o 18 a pokój nie byl jeszcze gotowy<br>. Zero słowa przepraszam , tylko oschłe : musicie<br>poczekać . Rezerwacja poprzez portal booking i to<br>chyba się nie spodobało , ponieważ zapłacili śmy<br>mniej niż przez stronę Ośrodka . W pokoju w łóżku<br>włosy , śmierdząca wykładzina . Plusem jedzenie<br>oraz atrakcje dla dzieci . Po raz pierwszy tak się<br>zrazili śmy przyjęciem na recepcji . . . Chcieli<br>śmy przedłużyć pobyt , Pani oczywiście<br>niezadowolona , że przez booking znowu taniej , a<br>więc jednej rezerwacji doba konczy się o 10 ( mimo<br>, że korzystali śmy z programu Genius i mogli śmy<br>skorzystać z późniejszego wymeldowania i zgłaszali<br>śmy to przy zameldowaniu ) , kazano nam opuścić<br>pokój i ponownie zameldować się o 17 . 30 . Z<br>dzieckiem czekać 7 godzin ! ŻENADA ! ! Oczywiście<br>nie skorzystali śmy z propozycji . .",
           "__label__meta_minus_m"
          ],
          [
           "Leczenie w Madurowiczu nie ma wiekszego sensu<br>jesli wczesniej nie uda sie do prywatnego gabinetu<br>jednego z tamtejszych lekarzy a w szczególności<br>pana Suzina , ktory na obchodzie nie poświęci<br>nawet sekundy ' obcym ' pacjentkom . Po 4 dniach<br>leżenia w szpitalu nikt nawet nie był zapoznany z<br>moim przypadkiem a doktor stawial złe diagnozy ,<br>które bojący się jego inni specjaliści szpitalni<br>potwierdzali bez zastanowienia . Przykry system :<br>(",
           "__label__meta_minus_m"
          ],
          [
           "Badanie nie nalezalo do przyjemnych , przyszedlem<br>z mniejszym bolem niz wyszedlem . Do dzis czuje<br>straszny bol . Zadnych informacji poza tym ze mam<br>hemoroidy nie dostalem . Podejscie doktora<br>neutralne ani nie byl zbytnio mily ani zbytnio<br>zainteresowany problemem . Recepta na lidokaine I<br>w sumie tyle .",
           "__label__meta_minus_m"
          ],
          [
           "Beznadziejny lekarz , dziecko traktuje w czasie<br>badania instrumentalnie czym doprowadził mojego<br>synka do płaczu i strachu przed badaniem ( sam<br>stwierdza , że tak powinno być ; ma płakać dziecko<br>i matka ! ! ! ) . Stwiedził , że synek ma stulejkę<br>i wędrujące jądra co oczywiście było diagnozą<br>nietrafną , w stresie jąderka mogą się cofnąć .<br>Skrzywdził mojego synka , przy odciąganiu napletka<br>doprowadził do jego popękania a przez to teraz do<br>zrostów i stanu zapalnego . Synek nacierpiał się<br>przez tego Pana i jeszcze czeka nas leczenie . Pan<br>Galewski odrywa ręcznie napletek już niemowlaką -<br>to metoda leczenia sprzed dwudziestu lat , której<br>teraz już się nie stosuje i leczy się najpierw<br>zachowawczo lekami ( to opinia innego lekarza ,<br>który zna tego Pana z takich poczynań ) . Ten Pan<br>nie powinien pracować jako lekarz pediatra . Celem<br>zamieszczenia tej opinii jest przestroga dla matek<br>chłopców , żeby nie zezwoliły Panu Galewskiemu na<br>badanie okolic intymnych ich pociech .",
           "__label__meta_minus_m"
          ],
          [
           "Kompleks dość duży z fajnym basenem i saunami .<br>Największym minusem było zachowanie kelnerki<br>podczas śniadania . Syn i córka jakoś słabo zjedli<br>śniadanie wiec żona chciała wziąć im jogurt na<br>później . Schowała go do torebeczki i położyła na<br>krześle . Od tej pory mieli śmy dziwne wrażenie ,<br>że jesteśmy obserwowani i obgadywani przez<br>personel . Po pewnym czasie z torebeczki zniknął<br>jogurt . Kelnerka wyciągnęła go z naszej prywatnej<br>torebki , gdy robili śmy herbatę . Zostali śmy<br>wezwani na rozmowę do Pani prezes , która<br>poinformowała nas , że nie wynosimy jedzenia z<br>restauracji ( nawet bułeczki zrobionej dla dziecka<br>, owoców itp . ) . Przeprosili śmy za swoje fo pa<br>. Jednak zachowanie kelnerki jest dramatyczne i<br>zaglądanie do prywatnych rzeczy gości hotelowych<br>bez ich wiedzy nie powinno mieć miejsca . Kelnerka<br>nie przerosiła za swoje zachowanie i w sposób<br>arogancki zachowywała się do nas . Jedzenie w<br>hotelu przeciętne , zawsze trzeba było się prosić<br>obsługę bo czegoś brakowało . Serwis śniadaniowy<br>to już inna historia - szczerbione talerzyki i<br>filiżanki , niedomyte sztućce , Jak na 4 * to<br>bardzo słabo .",
           "__label__meta_minus_m"
          ],
          [
           "Właśnie siedzę w hotelowej kawiarni . To juz 15<br>minut , a wciąż nikt nie podszedł . Zaczynam<br>zastanawiać się czy Panie pracujące tutaj są<br>rzeczywiście w pracy czy może na wakacjach .<br>Widoki z hotelu wspaniałe ( jeśli trafi się na<br>odpowiedni pokój ) . Niestety w dniu dzisiejszym<br>była awaria zamków do pokoju . I niestety nie<br>mogła m wejść . Słabe oznaczenia w hotelu - łatwo<br>się tutaj zgubić . Kolejnym minusem jest to , że<br>statki hotelowe jeszcze nie kursują bo jak<br>powiedziała Pani z recepcji \" jest za zimno \" (<br>przy 20 stopniach na dworzu ) . Na basenie minusem<br>są grupy dzieci , które krzyczą , pluskają i nie<br>można nawet spokojnie wypocząć .",
           "__label__meta_minus_m"
          ],
          [
           "Niestety nie mogę polecić dr Nogala . Leczę się na<br>niedoczynność tarczycy i moje wizyty przez ponad<br>rok czasu wyglądały tak , że wchodziła m do<br>gabinetu , doktor zerkał na badania , przepisywał<br>kolejną receptę , brał za 3 minutową wizytę 100zł<br>i do widzenia , a w efekcie żadnej poprawy . Na<br>szczęście podjęła m decyzję , że tak dalej być nie<br>może i udało mi się trafić do super Pani Doktor (<br>znaleziona na tym portalu w ciemno dzięki opiniom<br>) i teraz mam porównanie jak różnie może wyglądać<br>leczenie .",
           "__label__meta_minus_m"
          ],
          [
           "Minusy : Niezbyt uprzejma obsługa w restauracji ;<br>Bardzo słaba polska kuchnia ; małe pokoje w<br>ośrodku oraz w domkach ; Niestety miałem<br>nieprzyjemność obserwacji znajomych właściciela (<br>grupa tenisowa z Legii ) którzy myślą że wszystko<br>im wolno , zachowują się w bezczelnie i po chamsku<br>. atmosfera z warszawskiej pragi tyle że w<br>markowych ciuchach . Plusy : Miła obsługa hotelowa<br>; Dobra kuchnia turecka ; Dużo miejsc do spacerów<br>Ogólnie : drogo i nie warte swej ceny",
           "__label__meta_minus_m"
          ],
          [
           "Zacznijmy od jedzenia : ŚNIADANIA : generalnie<br>skromnie ale świeżo , pieczywo tylko pszenne ,<br>kawa słabej jakości , i co najważniejsze : jak<br>przyjdziesz 30 min przed końcem NIE MA CO ZJEŚĆ -<br>a kelnerka poproszona o doniesienie , grzecznie<br>informuję , że już nic nie mają - ŻAL !<br>OBIADOKOLACJE : w ogóle nie dostosowane do dzieci<br>, bo przecież za Humusem nie przepadają , cukinia<br>królowała przez 3 dni pod rząd , wszytskie dania<br>smakowały podobnie , nie wyraziste i nie<br>doprawione . - Generalnie NIE POLECAM pobytu z<br>opcją z obiadokolacjami.BASEN : trzeba uważać ,<br>woda z dodatkiem chemii która podrażnia oczy -<br>DZIECI POTRAFIŁY PŁAKAĆ , odpadające płytki w<br>basenie , brak ratownika - BARDZO SŁABO ! SAUNY :<br>fińska i aromatyczna - ok . , INFRARED - nie<br>działa .",
           "__label__meta_minus_m"
          ],
          [
           "Zdecydowanie odradzam . Dr Obidziński wykonywał mi<br>dwa razy artroskopie kolana . Za pierwszym razem<br>ok . , przygotowanie do rekonstrukcji , chociaż<br>teraz jestem już obcykana w tym temacie i wiem ,<br>że można od razu zrekonstruować zerwane więzadło<br>podczas jednej operacji . Sama rekonstrukcja u<br>innego lekarza ( źle zrobiona , przeszczep<br>wstawiony w złym miejscu ) . Od razu czuła m że<br>coś poszło nie tak . Została m więc skierowana na<br>artroskopię którą wykonał właśnie Pan dr . Kilka<br>miesięcy po artroskopii poszła m na wizytę o<br>kulach oczywiście . Dr był wielce zdziwiony .<br>Mówię , że to nic nie zmieniło , że dalej wszystko<br>się przestawia , wskazała m miejsce bólu a Dr<br>Obidziński na to : , , tam artroskop nie dochodzi<br>' ' i uśmiech . To była ostatnia wizyta u tego<br>Pana . Obecnie jestem po ponownej czwartej już<br>operacji , pod opieką super ortopedy i nareszcie<br>po prawie 3 latach chodzenia o kulach odstawiła m<br>je . Koniec płaczu i bezsilności . Wreszcie .",
           "__label__meta_minus_m"
          ],
          [
           "bez nadzieja all incliusiwe tylko z nazwy , basen<br>miniatura 10 lezakow na caly hotel zgroza ,<br>jedzenie dla swin . stare i odgrzewane z<br>poprzedniego dnia po interwencji wbiurze Rainbow<br>bez zmian , wstyt ze to europa chyba ze<br>grecka.nigdy wiecej tak wycieczek a bylismy na<br>wielu .",
           "__label__meta_minus_m"
          ],
          [
           "Hotel poziomem ogólnym odbiegający od standardów<br>europejskich , a zwłaszcza jego opcja all<br>inclusive . Muszą się jeszcze dużo nauczyć .<br>Wprost ubogie menu , formalizm przy jego<br>realizacji ( każdorazowy podpis , ograniczanie<br>ilości zamówień , przestrzeganie co do minuty<br>czasu wydawania napojów - wybiła 11 . 00 odmowa<br>podania posiłku , napoju ) , oferta żywieniowa<br>mało urozmaicona , śniadanie poniżej krytyki ,<br>brak interenetu , to prawda , że w wyniku<br>prawdopodobni awarii , ale nic nie zrobiono , by<br>ją w ogóle usunąć , hotel nie jest godny<br>zainteresowania i polecenia",
           "__label__meta_minus_m"
          ],
          [
           "Przykro mi , że w ten sposób wypowiem się o<br>lekarzu . Niestety wiele osób ma rację . Lekarz<br>nastawiony na zysk 3 min wizyty , 150 zł ( Dolmed<br>) i do tego nie trafiona diagnoza . Jestem w ciąży<br>, ginekolog zlecił TSH wyszło teoretycznie w<br>normie , jednak skierował mnie na wizytę u<br>endokrynologa , ponieważ normy dla ciąży są inne .<br>Dr Mędraś w ciągu 3 minut stwierdził że nie widzi<br>potrzeb do leczenia . Po miesiącu zrobiła m<br>kontrolne TSH , wyszło 5 - krotnie ponad normę !<br>Zmieniała m lekarza , a tego Pana doktora nie<br>polecam .",
           "__label__meta_minus_m"
          ],
          [
           "Z początku napiszę , że moja wizyta odbywała się<br>na NFZ . Może nie jestem stara , ale chyba nie<br>wypada mówić do pacjenta \" na ty \" i to w taki<br>sposób , z jakim zwrócił się do mnie po pytaniu ,<br>czy mam sztuczną szczękę a potem opryskliwie<br>odpowiedział \" dziwne gdyby ś miała w wieku 20 lat<br>! \" . Sama gastroskopia była bez znieczulenia ale<br>to już pominę , może taka specyfika tego miejsca .<br>Po badaniu Pan dał mi wynik i skwitował naszą<br>wizytę \" proszę z tym iść do tego , kto tu panią<br>przysłał \" . Koniec . Więcej już do niego nie<br>pójdę za te opryskliwość . Może , gdyby wizyta<br>była prywatna , to i zachowanie było by lepsze ?",
           "__label__meta_minus_m"
          ],
          [
           "Aktualnie przebywamy w hotelu . W porównaniu do<br>zeszłego roku jest gorzej - zmienił się menager .<br>Śniadania + kolacje = stanie w KOLEJKACH po kawę /<br>napoje ( serio , ludzie robią sobie zdjęcia ) - do<br>obsługi setki ludzi jest jeden boiler z wrzątkiem<br>+ jeden ekspress ( drugi popsuty ) , + jeden<br>dystrybutor do wody / soku ( wybór przeogromny bo<br>możemy przebierać do woli w soku pomarańczowym<br>albo jabłkowym - jest szał ) . Do kolacji nie ma<br>herbaty gdyż \" teraz w hotelach odchodzi się od<br>tego \" , także pozbawieni jakiegokolwiek ciepłego<br>napoju ( przy ekspresie kartka , że kawę można<br>NABYĆ w barze ) na wieczór wlewamy w siebie zimne<br>szklaneczki soku pomarańczowego z koncentratu ( w<br>zeszłym roku były soki z kartonów ) . Na śniadania<br>codziennie to samo - jajecznica w jednym kawałku +<br>najtańsza parówka + pieczarki błagające o litość .<br>Do tego coś na zimno - wszytko tak przepieprzone ,<br>że nie da się jeść . Surówki do obiadów - kapusta<br>kiszona ( z pieprzem ) , sałaty ( bez dresingu ) ,<br>pychota ! Brak kamer nawet przy salce zabaw dla<br>dzieci , gdzie maluchy zostawiają buty ( nasze \"<br>coś \" znalazło nowego właściciela . . . ) Parking<br>częściowo wyłożony kostką , częściowo jedziemy po<br>utwardzonym żwirze urozmaiconym DOŁAMI ( parking<br>dla lepszych i gorszych ) . Kuchnia dla dzieci -<br>NIEDOGOTOWANE i TWARDE warzywa , mięso<br>przyprawione głównie pieprzem . Ośrodek jak inny ,<br>kuchnia go ratowała , teraz się nie obroni . PS .<br>Naczynia też nie powalają czystością .",
           "__label__meta_minus_m"
          ],
          [
           "Spokojny tu się zgodzę i za to mogą go lubić<br>pacjenci ale nie polecam . Dlaczego ? bo z<br>dzisiejszymi chorobami i ich powikłaniami trzeba<br>być jako lekarz naprawdę na bierząco . Wydaje mi<br>się że do mojego przypadku podszedł bardzo<br>szablonowo . Miała m bóle stawów , trwały one do<br>24godzin , potem znikał na dzień lub dwa , potem<br>powaracał , ten ból po prostu po mnie \" chodził \"<br>( dzisiaj boli mnie staw w nadgarstku za dwa dni<br>np . w kolanie ) . Wywiad jaki o chorobie ze mną<br>zrobił to kiedy robiła m badanie ginekologiczne ,<br>stomatologiczne i wysłał do laryngologa . Dadam że<br>te badania były ok . Przepisał lekarstwo na<br>zapalenie stawów . Bóle nie przechodziły . Ten<br>koszmar mój trwał gdzieś z 1 , 5roku . W końcu<br>trafiła m na lekarza w Rzeszowie ( na kase chorych<br>) Po opisaniu bóli skierowała mnie na badanie<br>boleriozy i chlamidii . Okazało się że mam<br>chlamidię . Odpowiednia dawka antybiotyku i<br>lekarstwo przeciew zapalne i po problemie ! ! ! !",
           "__label__meta_minus_m"
          ],
          [
           "Jestesmy kolejny raz 2 Golden Tulip . Jak widac po<br>pierwszych wrazeniach . . Hotel zdobyl juz sobie<br>klientów i standard z znacząco sie obnizyl . . .<br>zwlaszcza jezeli chodzi o sniadania . . . szkoda<br>ze dzis nie dodalismy zdjec . . . polowa tego co<br>oferowali w zeszlym roku . Jajecznica zimna .<br>wedliny wyschniete pasztetowa i pasztet a ryby<br>wedzone . . . makrela uschnieta i odpadki od<br>lososia . . . zle bardzo zle . . Do szanownej<br>Dyrekcji prosze sie zastanowic sie czy warto robic<br>\" dziadoskie oszczędności \" wyglada to naprawde<br>zle . . . jezeli przez kolejne dni sie nie zmieni<br>a watpie . . . jestesmy Tu ostatni raz . . . I tak<br>sie traci stalych klientów . . . Historia jak z<br>podrecznika o zarządzaniu . Artur",
           "__label__meta_minus_m"
          ],
          [
           "Niestety nie jestem zadowolona z pobytu w hotelu<br>Best Western Kraków , spędziła m tam dwie doby .<br>Hotel ten wybrała m głownie dlatego ze w swojej<br>ofercie miał saunę i basen . Po przyjeździe do<br>hotelu ku mojemu zaskoczeniu dowiedziała m sie ze<br>basen i sauna są w remoncie , wyraziła m swoje<br>niezadowolenie tym faktem na co w odpowiedzi<br>zamiast przeprosin usłyszała m ze \" żadna pora nie<br>jest dobra na remont \" . Rezerwacje robiła m z<br>dużym wyprzedzeniem , był zatem czas na<br>poinformowanie mnie o ograniczonej ofercie ( brak<br>basenu i sauny ) . W takiej sytuacji zrezygnowała<br>by m z pobytu w tym hotelu . Zapłaciła m za usługę<br>hotelowa której nie otrzymała m , nie wykupiła by<br>m pobytu w tym hotelu wiedząc ze nie mam<br>możliwości korzystania z basenu i sauny bo<br>możliwość korzystania z tych obiektów była jednym<br>z podstawowych warunków wyboru hotelu . Reasumując<br>, oferta hotelu minęła się z prawda bo zawierała<br>usługi których hotel nie zapewniał . Hotel<br>wiedział ze nie jest w stanie udostępnić gościom<br>basenu i sauny bo takie prace jak remont planowane<br>są z wyprzedzeniem a jednak z premedytacja<br>oferował i pobrał pieniądze za te usługi których<br>nie był w stanie wykonać . Nie dość ze nikt nie<br>poinformował mnie ze nie będę mogła otrzymać tego<br>za co zapłaciła m to nawet nie uznano za stosowne<br>wyartykuowac elementarnego \" przepraszamy \" .<br>Czuje sie oszukana bo zapłaciła m za usługi<br>których nie otrzymała m . Małgorzata",
           "__label__meta_minus_m"
          ],
          [
           "W dniu 15 . 09 . 2010 r . w HOTELU „ LIBURNIA ” w<br>Cieszynie ok . godz . 6 . 30 klient spożył stare ,<br>źle przechowywane bądź zepsute masło .<br>Zaniepokojony sytuacją zwrócił na ten fakt uwagę w<br>recepcji hotelu i zaczął się horror który miał<br>finisz w sanepidzie . Efekt był taki że zamiast<br>poprawić jakość usług zastraszano klienta<br>prokuraturą i odmówiono klientowi dalszego pobytu<br>w hotelu . Powyższy hotel wykazał się paskudnym<br>podejściem do klienta a kierowniczka w ocenie<br>klienta winna stracić pracę . Osobiście dodam , że<br>dzięki powstałej sytuacji klient spędził noc w<br>dużo fajniejszym hotelu ( obsługa i wyposażenie )<br>jak i o wiele tańszym ( także w Cieszynie ) . Za<br>co kierowniczce a może i właścicielowi hotelu<br>LIBURNIA bardzo dziękuję . Żałuję , że nie mogę<br>zareklamować tego fajnego hotelu w którym<br>poszkodowany klient spędził em noc , ale<br>taksówkarze go znają … wystarczy zapytać .<br>Pozdrawiam .",
           "__label__meta_minus_m"
          ],
          [
           "Niestety wyrzucone pieniądze w błoto na prywatną<br>wizytę u pana doktora . Może i w miarę miły , ale<br>na USG 3D nie zobaczyła m mojego dziecka , bo się<br>odwróciło . Zamiast dać nam chwilę na spacer , to<br>lekarz stwierdził , że się zasłoniło i po badaniu<br>. 200 zł skasował i powiedział , że dziecko<br>zobaczę jak się urodzi . . No tak , regulaminowe<br>20 minut minęło .",
           "__label__meta_minus_m"
          ],
          [
           "Witam serdecznie ! u p . Dr Witwiskiego wykonywała<br>m dwie operacje plastyki nosa , pierwsza była to<br>korekta części chrzęstnej w 2012 roku , oraz pełna<br>korekta w 2016 . Efekt niestety mocno<br>niezadowalający zarówno po pierwszej jak i drugiej<br>operacji . Po pierszym zabiegu nos w prawdzie był<br>nieco krótszy , ale po zagojeniu ran przybrał<br>dziwny kształt , pojawiły sie zgrubienia , czubek<br>nosa opadł , Nos po prostu szpecił twarz . Po<br>konsultacji z p . doktorem postanowiła m<br>zdecydować się na druga operację , tym razem pełną<br>korektę . Aktualnie nos ma nieco lepszy kształt<br>nie mniej jednak daleko mu do łądnego wyglądu .<br>Kość jest z jednej strony nierówno spiłowana (<br>zwróciła m na to uwagę p . dr w trakcie wizyty<br>kontrotnej - usłyszała m , że to pewnie jeszcze<br>rana po zabiegu i powinno się zagoić ) .<br>Nierówność pozostała do dziś . Reasumując , owszem<br>nos wyglada nieco lepiej niż przed operacjami ,<br>nie mniej jednak po dwóch zabiegach spodziewała m<br>się zdecydowanie ! lepszego efektu . Osobiście nie<br>mogę polecić !",
           "__label__meta_minus_m"
          ],
          [
           "Po dwóch wizytach zmieniła m tego lekarza na<br>innego . Mało komunikatywny , ignorujący pacjentkę<br>, badanie szybkie , niedelikatne . O wszystko<br>trzeba się dopytywać . Próbowała m się dowiedzieć<br>, jak leczyć wykrytą przez niego nadżerkę , to<br>powiedział mi , że teraz w modzie jest nieleczenie<br>. Mogę brać globulki . Jak długo ? Dopóki mi się<br>nie znudzi . To nie jest dla mnie fachowa porada<br>lekarza . Tym bardziej , że są inne metody<br>leczenia , a przede wszystkim dokładniejsza<br>diagnostyka .",
           "__label__meta_minus_m"
          ],
          [
           "Hotel średniej jakości podczas tygodniowego pobytu<br>nie widział em nikogo w recepcji . . . W ogóle<br>chyba nie było w pokoju posprzatac , nawet ręcznik<br>miałem po kimś wysmarowany tuszem do rzes .<br>Telewizor czasami nie chciał się uruchomić albo<br>obraz się przyciemnial , trzeba było poruszać<br>kablem . Śniadania bardzo skromne i sredniej<br>jakości . . . Łóżka za to wygodne i pokoje duże",
           "__label__meta_minus_m"
          ],
          [
           "Nasz samolot się spóźnił , zajechalismy o 22 ,<br>hotel nie zapewnił nam posiłku , który stracili<br>śmy nie z własnej winy . Mało tego , ledwo można<br>było się po angielsku dogadać . W pokoju<br>smierdziało , wilgoć , klimatyzacja praktycznie<br>nie działała , w drugim pokoju wynajmowanym przez<br>rodziców telewizor i lodówka nie działały . Mrówki<br>na podłodze , u rodziców karaluchy . Tragiczne<br>wnętrze i grzyb . Moim zdaniem tak wykończone<br>pokoje nie zasługują nawet na 3 gwiazdki .<br>Jedzenie średnie . Liczyła m na zjedzenie jakiś<br>dobrych ryb , a tutaj tylko śledzie i głównie<br>wołowina . Alkoholi nie ma dużo do wyboru , lody<br>tylko na plaży przez 1 - 1 , 5h i tylko 2 smaki .<br>Basen fajny , ale ciężko o miejsce . Po śniadaniu<br>nie ma już praktycznie szans na jakiekolwiek<br>miejsce . Pokoje sprzątane , ale powierzchownie .<br>Część gniazdek nie działa , telewizor malutki . Na<br>start 2 małe wody z lodówki . Większość Rosjan i<br>Turków . Ogólnie pechowo trafili śmy , nie polecam<br>: )",
           "__label__meta_minus_m"
          ],
          [
           "Słaby lekarz , każe powtarzać badania od<br>poprzednich lekarzy bo podobno zostały \" źle<br>wykonane \" , nie koncentruje się na tym co<br>pacjentowi dolega i jak mu pomóc przy obecnych<br>dolegliwościach , zleca masę bardzo drogich badań<br>po kilka razy , podważa opinię swoich poprzedników<br>a na pacjenta ( szczególnie tego o mniejszej<br>zasobności portfela ) patrzy z wyższością . Pomimo<br>wysokiej ceny wizyty konsultacja okazała się być<br>całkowitym fiaskiem .",
           "__label__meta_minus_m"
          ],
          [
           "Zdecydowanie odradzam tego pana . Jedyne co umie<br>powiedzieć to zaproponowanie terapeuty manualnego<br>, oczywiście w tej samej klinice . Całkowite<br>zlekceważenie objawów chorobowych sygnalizowanych<br>przez ze mnie . Gdy opowiadała m o moich<br>dolegliwościach szanowny pan patrzył na zegarek ,<br>bo przecież ma przeznaczone tylko 15 minut na<br>pacjenta . Potraktowana została m lekceważąco a o<br>rzekomym bólu powiedział , że mi się zdaje , że<br>odczuwam to tak mocno i poradził udać się do<br>psychologa , oczywiście piętro niżej . Po miesiącu<br>od tej wizyty przestała m chodzić . Przy chorobie<br>, którą u mnie wykryto miała m dużo szczęścia , że<br>terapeuta manualny nie zrobił mi krzywdy ,<br>ponieważ nie można wykonywać manipulacji przy<br>mojej chorobie ze względu na duże ryzyko<br>uszkodzenia kręgosłupa . Doktor powinien skierować<br>mnie na badania po zasygnalizowaniu symptomów<br>choroby zamiast kierować mnie prosto do terapeuty<br>i psychologa . Stracony cenny czas , stracone<br>pieniądze i zyskanie jedynie dużego bólu na<br>terapii . Nie polecam .",
           "__label__meta_minus_m"
          ],
          [
           "Szanowni Panstwo , spedzilismy Sylwestra w tym<br>wyjatkowym miejscu i mozemy tylko wszystkim zyczy<br>omijac je z daleka . W pokojach nie dzialalo<br>ogrzewanie - temperatura wynosila ok . 16 C i<br>trudno bylo wyjsc z pod koldry Jakosc bazanta<br>podanego na kolacje Sylwestrowa raczej \" gumowa \"<br>Ceny b . wysokie Kelnerzy pijani , a obsluga<br>recepcji chowajaca sie przek reklamacjami klientow<br>. Do tego jeszcze New Years Party , za ktore<br>skasowano ok . 800 pln ( cena pokoju ) , a w ogole<br>sie nie odbylo . COZ , radzimy uwazac na to<br>miejsce zima . Latem zapewne panuje to nieco inna<br>atmosfera",
           "__label__meta_minus_m"
          ],
          [
           "Dużo podróżuję po kraju i większość hoteli<br>rezerwację telefoniczną traktuje jako pewną bez<br>konieczności wcześniejszej zapłaty . kiepskie<br>meble w pokoju , stary telewizor , przestarzała<br>łazienka . Za pokój w dużo wyższym standardzie<br>płacę w takich miastach jak Lublin , Rzeszów ,<br>Wrocław czy Białystok odpowiednio 40 , 00 PLN<br>mniej . Parking monitorowany w cenie . Wizualnie w<br>środku hotel nie zachwyca . przydał by się<br>generalny remont .",
           "__label__meta_minus_m"
          ],
          [
           "Położenie hotelu zupełnie nie atrakcyjne . Dookoła<br>działki letniskowe i wielka budowa sali weselnej .<br>Wystrój restauracji i kolor sprawiają dość<br>przygnębiające wrażenie . Podczas weekendu<br>majowego formuła bufetu zarówno śniadań jak i<br>kolacji zupełnie się nie sprawdziła . Zaserwowano<br>tylko kilka potraw i to w małych ilościach , na<br>które trzeba było \" polować \" lub się prosić<br>kelnerów o doniesienie . W jeden wieczór \"<br>atrakcją \" był grill ! Czyli kiełbaski , kaszanka<br>itp . W drugi wieczór zaproponowano atrakcję \"<br>wieczór włoski \" z tzw . cooking show ,<br>polegającym na tym , że każdy gość musiał stać w<br>kolejce za makaronem , w oparach dymu i zapachów<br>pieczonego czosnku , krewetek czy cebuli . Poza<br>tym nic innego do jedzenia nie było . Przy<br>wyjeździe w recepcji nie bardzo mogli rozliczyć<br>nasz pobyt , ciągle coś było dopisywane lub<br>odejmowane , w końcu po tygodniu od pobyty<br>rozliczenie zostało przesłane na maila .<br>Oczywiście wyższe niż oferta jaką dostali śmy<br>przed przyjazdem . Jednym słowem nie polecam tego<br>hotelu !",
           "__label__meta_minus_m"
          ],
          [
           "Organizowalismy z mężem w Hotelu Tajty przyjęcie<br>weselne i poprawiny . Dwie gwiazdki za lokalizację<br>i piękne widoki . Niemniej jednak reszta , a<br>zwłaszcza obsługa hotelu pozostawia wiele do<br>życzenia . Wódka nie była roznoszona na stoły po<br>godzinie 1 : 00 , goście musieli sami chodzić do<br>lodówek i sobie brać . Ciepłe posiłki serwowane na<br>stół państwa młodych na samym końcu . Na sali nikt<br>na bieżąco nie sprzatal w dniu wesela , a w dniu<br>poprawin nie sprzatano prawie w ogóle . Hotel<br>zostal wynajety w 95 % , a Pani z recepcji robila<br>w niedziele sceny , ze goscie nie oddali kluczy .<br>Ci wlasnie goscie dwie godziny wczesniej oplacili<br>kolejna dobe w hotelu , takze - zero organizacji .<br>Największy niesmak jednak pozostawia sytuacja , w<br>której swiadkowa poprosiła obsługę o pomoc w<br>posprzataniu po jednym z gości . Kazano jej<br>posprzątać samej i powiedziano , że państwo młodzi<br>organizując wesele powinni liczyć się z tym , że<br>ktoś może narozrabiac i sami powinni to posprzątać<br>. Pojawia się zatem pytanie za co zapłacili śmy<br>tyle pieniędzy ? Szczerze odradzam wszystkim<br>chętnym . Widoki nie rekompensują tego jak zostali<br>śmy potraktowani my i nasi goście .",
           "__label__meta_minus_m"
          ],
          [
           "Nie polecam Pani Doktor ! Na podstawie wypisów ze<br>szpitala , w których było napisane obserwacja w<br>kierunku astmy oskrzelowej , bez żadnych<br>dodatkowych badań , tylko osłuchała dziecko ,<br>stwierdziła astmę oskrzelową ! ! Porażka , jak u 2<br>- letniego dziecka , bez żadnych badań<br>laboratoryjnych można stwierdzić coś takiego ? !<br>120 zł wyrzucone w błoto , szukamy kolejnego<br>lekarza .",
           "__label__meta_minus_m"
          ],
          [
           "Pokoje małe , ale odnowione , czyste , codziennie<br>sprzątane . Mały basen , prawie w ogóle nie ma<br>animacji , mimo że podobno obłożenie hotelu 100 %<br>( a to maj ) . Leżaki od rana pozajmowane , nie ma<br>gdzie się położyć przy basenie . Płacili śmy za<br>widok na morze , a dostali śmy widok na miasto i<br>gigantyczny plac budowy . Morze widać z boku , a<br>hotel i Itaka twierdzą , że to przecież widok na<br>morze , choć częściowy ( oczywiście nigdzie nie<br>było to zaznaczone ) . Dramat , nie można wyjść na<br>balkon , prace budowlane w okolicznych budynkach ,<br>ale też w samym hotelu trwają przez cały dzień .<br>Czytali śmy wcześniej opinie o tym , że w hotelach<br>gorzej traktują Polaków oraz że Itaka ma najgorsze<br>pokoje , ale po raz pierwszy na własnej skórze to<br>odczuli śmy . Recepcja hotelu ale też opieka Itaki<br>zupełnie nie jest pomocna - oferowali nam zamianę<br>na pokój z nieco lepszym widokiem , ale dużo<br>mniejszy , a pan z recepcji bez ogródek powiedział<br>, że lepsze pokoje są dla innych gości , nie z<br>Itaki . Jedzenie monotonne , bardzo mały wybór ,<br>choć trzeba przyznać , że w większości smaczne .<br>Ryby czy lubiane przez dzieci gofry znikają z<br>sekundę i potem trzeba długo czekać , aż dołożą (<br>swoją drogą jedna czy dwie amatorskie maszyny ,<br>które robią po 4 małe gofry na raz na taki duży<br>hotel to słabe ) . Poza głównymi posiłkami<br>jedzenie w all inclusive bardzo słabe , napoje i<br>alkohole także . Plaża przy hotelu mała , brzydka<br>i brudna , leżaki oczywiście płatne . Okolica<br>brzydka , samo miasteczko także . Na Zakynthos<br>jest mnóstwo dużo lepszych i tańszych hoteli , na<br>pewno drugi raz tu nie przyjedziemy .",
           "__label__meta_minus_m"
          ],
          [
           "Uwagi , które wypisał em w trakcie pobytu w<br>punktach : * na stołówce kelnerka zabrała talerz z<br>jedzeniem sprzed nosa , a właśnie chciał em coś<br>nabrać * bardzo słaba kawa * jedzenie bez smaku ,<br>monotonne , codziennie prawie wszystko się<br>powtarza , część jedzenia na obiad i kolację była<br>mrożona * płatki jakby były sprzed roku - gumowe ,<br>niechrupiące * Pani w recepcji zamiast po<br>angielsku rozmawiała po rosyjsku lub francusku * w<br>pokoju mieli śmy zakrwawione kołdry , po<br>interwencji w recepcji późnym wieczorem nikt<br>następnego dnia się tym nie zajął * gniazdka w<br>pokoju ulokowane w nielogicznych miejscach * późne<br>śniadanie to po prostu wszystko co zostało z \"<br>normalnego \" śniadania wrzucone na jeden talerz (<br>resztki ) * w okolicy totalnie nic się nie dzieje<br>* basen tylko od 9 : 00 do 18 : 00 * Cuba Libre<br>jest z cytryną , a nie limonką * blisko fajna<br>restauracja z „ normalnymi \" , \" polskimi ” cenami<br>* bułki świeże , smaczne , ale mały wybór pieczywa<br>* jednego dnia na obiad bądź kolację był kurczak<br>tikka masala , który w życiu nie miał z tym nic<br>wspólnego - było to poszarpane mięso z udek z<br>kurczaka w zalewie , która miała smak i<br>konsystencję jak pomieszanie rosołu z zupą<br>pomidorową , strasznie słabe . . . * frytki czasem<br>były w porządku , a czasami tak niedobre , że w<br>życiu by m nie pomyślał , że da się tak zepsuć<br>frytki * all inclusive bardzo ubogie , w ciągu<br>dnia bufet otwarty praktycznie tylko w godzinach<br>obiadu , w czym nie widzę większego sensu * napoje<br>z dystrybutorów strasznie zalatywały chemią ,<br>zwykłe soki były naprawdę bardzo słabeGeneralnie<br>nie polecam !",
           "__label__meta_minus_m"
          ],
          [
           "Prawdopodobnie w okresie letnim jest tam ładnie i<br>jest czyste powietrze . był em w budynku \" B \" w<br>grudniu 2016 czyli niedawno . ża oknem można<br>popatrzeć na dymy z domów na drugiej stronie<br>doliny . Kiedy jest niż atmosferyczny dymy z<br>miasta zaścielają cały park . Kiedyś / 100 lat<br>temu był zakaz ogrzewania domów węglem tylko<br>koksem . Teraz po stu latach polskiego<br>gospodarowania takiego nakazy nie ma i każdy pali<br>czym chce . Wydział ochrony środowiska jest u<br>Urzędzie miejskim - ale tylko jest - być może<br>zawijają cukierki w sreberka . Bogate miasto ma<br>dużo dochodów z Zieleńca ale dbają o nazwę Zdrój .<br>Powietrze fatalne , woda w kranach mocno<br>chlorowana śmierdząca , tak jak we Wrocławiu . Za<br>to miasto sobie życzy 3 , 90 zł za jeden dzień<br>pobytu . W tym mieście nawet nie przystanę na<br>minutę na parkingu .",
           "__label__meta_minus_m"
          ],
          [
           "W zasadzie przez całą wizytę Pani doktor<br>wklepywała coś do komputera i nic się nie odzywała<br>. Siedziała m i patrzyła m w ścianę , czekając aż<br>wszystkie wyniki badań zostaną przepisane do<br>komputera . Mam Hashimoto od 2 lat , jakąś tam<br>wiedzę na temat tej choroby już mam , zdziwiła m<br>się więc gdy Pani doktor uznała TSH = 7 za \" nieco<br>podwyższone , bo norma jest do 4 \" , zwłaszcza że<br>mam 27 lat i być może za niedługi czas będę<br>planowała dziecko . W taki sposób mogła by m je<br>szybko stracić , a chyba nie o to chodzi . . .<br>Chciała żeby m kilka miesięcy brała naprzemienną<br>dawkę leku , na co się nie zgodziła m . Jedynym<br>plusem było badanie USG podczas wizyty , które raz<br>na jakiś czas się przydaje . Dodatkowy niesmak<br>wzbudziło to , że w aptece zapłaciła m za lek 3<br>razy więcej niż dotychczas , bo Pani doktor<br>wspaniałomyślnie wypisała receptę 100 % płatną ,<br>wiedząc że opakowanie 2x50 tabletek Euthyroxu jest<br>refundowane i zapłaciła by m za nie około 6 zł jak<br>do tej pory . Polecam jeśli ktoś chce iść tylko po<br>receptę , ale jeśli ktoś ma zamiar zadawać pytania<br>i chce uzyskać na nie odpowiedź , to trzeba szukać<br>innego lekarza , bo Pani doktor nie jest zbyt<br>rozmowna .",
           "__label__meta_minus_m"
          ],
          [
           "Hostel w remoncie więc ogólny bajzel . Pełno kurzu<br>i hałas niemiłosierny . Robotnicy kręcą się<br>wszędzie wiec generalnie nawet pod oknami ich nie<br>brakuje . Obsługa hostelu , a raczej właściciel .<br>. . . delikatnie mówiąc ma coś z głową . .<br>Bezczelność i nieżyczliwość w stosunku do gości to<br>delikatne określenia tego , w jaki sposób są oni<br>traktowani . Nigdy nie zabierajcie tam wycieczki<br>szkolnej bo o zapewnieniu bezpieczeństwa dzieciom<br>nie ma w ogóle mowy . Dzieci dostają pokoje daleko<br>od nauczycieli , śpią na małżeńskich łożach , a<br>właściciel nie potrafi zrozumieć dlaczego<br>nauczyciele robią problem z zakwaterowaniem : )<br>szok ! PODSUMOWUJĄC . . . OMIJAJCIE SZEROKIM<br>ŁUKIEM !",
           "__label__meta_minus_m"
          ],
          [
           "Absolutnie nie . Mój problem z którym postanowiła<br>m przyjść do tego lekarza ciągnął się od roku .<br>Natrafiła m na jego gabinet z polecenia i już<br>chyba nigdy nie posłucham nikogo w sprawie lekarzy<br>. Kiedy w końcu udało mi się umówić na pierwszą<br>wizytę , co i tak nie było łatwe ( już przez<br>telefon musiała m sprecyzować na czym ma polegać<br>wizyta - trochę bez sensu , wolała by m żeby<br>lekarz sam stwierdził co mi jest a nie bazował na<br>moich domysłach ) była m całkiem zadowolona .<br>Lekarz wydawał się być profesjonalny , bardzo miły<br>i uprzejmy . Z każdą kolejną wizytą moja pewność<br>co do jego kompetencji malała . Już na pierwszej<br>wizycie dostała m leki antydepresyjne oraz miliony<br>maści ( w tym maść przeciwbólową ) - doktor<br>stwierdził wulwodynię , chociaż nie była m pewna<br>czy słuchał tego , że jej objawy nie pokrywają się<br>z moimi . Ale dobra , uznała m że pewnie ma racje<br>. Niestety z czasem mój stan się nie polepszał a<br>wręcz przeciwnie - było coraz gorzej . Z każdą<br>następną wizytą ( a nie ukrywajmy , wizyty do<br>najtańszych nie należą ) słyszała m \" Pani jeszcze<br>nie odczuwa poprawy ale ja już ją widze . ( . . .<br>) Tylko zwiększymy dawkę leków . ( . . . ) Przy<br>następnym ataku bólu prosze smarować się maścią<br>przeciwbólową . \" W końcu zaczęlam mieć czegoś<br>takiego dosyć . Faszerowanie się lekami i tylko<br>tymczasowe unikanie bólu maścią nie rozwiąże<br>problemu . Postanowiła m wybrać się do innego<br>lekarza . Pani doktor u której była m stwierdziła<br>, że należy udać się do urologa , gdyż w okolicy<br>warg sromowych przy cewce moczowej mam torbiel ,<br>którą powinien zobaczyć specjalista . Aktualnie<br>jestem po dwóch zabiegach próby usunięcia torbieli<br>, która nawraca w postaci ropnia . Istnieje szansa<br>na operacje . Lekarz do którego się z tym zgłosiła<br>m powiedział , że problem był zbyt długo nie<br>leczony i był w ciężkim szoku , gdy usłyszał o<br>metodzie leczenia tego otóż lekarza . Jestem<br>bardzo rozczarowana i zła , że zmarnowała m tyle<br>pieniędzy , czasu i oczywiście zdrowia .<br>Zastanawiam się , czy nie wrócić tam jeszcze raz i<br>nie wyjaśnić tego dlaczego nie zostało podjęte<br>leczenie adekwatne do choroby . Zrażona bardzo nie<br>polecam nikomu , nawet na zwykłe wizyty kobiet bez<br>większych problemów ginekologicznych .",
           "__label__meta_minus_m"
          ],
          [
           "Ostrzegam wszystkich przed tym obiektem . W lipcu<br>2014r miałem tam zarezerwowane trzy pokoje z<br>prywatnymi łazienkami na jedną noc . Hotel wybrał<br>em jako miejsce do noclegu powracając z południa<br>Europy do Polski . Zależało mi by się ukąpać ,<br>zjeść kolację i się wyspać po kilkunastogodzinnej<br>podróży samochodem . Przyjechał em około 20 - 21 .<br>Przed otrzymaniem kluczy musiałem dokonać opłaty<br>za dokonaną rezerwację 3 pokoi zgodnie z ceną<br>podana na Booking-u . Po zapłaceniu barmanowi<br>zaprowadzono Nas do pokoi , droga prowadziła<br>wąskimi schodami na piętro - schody wyłożone<br>wykładziną dywanową która była brudna i strasznie<br>cuchnęła . Okazało się iż czekał na nas jeden<br>pokój z łazienką i dwa pokoje z łazienką wspólną<br>dla całego pensjonatu . Łazienka wspólna brudna .<br>Zaczął em składać reklamację . Powiedziano nam że<br>nie ma innych pokoi i mamy poczekać na właściciela<br>. Po ponad godzinie czekania okazało się iz ów<br>barman zapomniał języka angielskiego , stał się<br>ironicznym cwaniaczkiem i odwracał się plecami do<br>osoby , która próbowała podjąć z nim rozmowę . Na<br>wyraźne i stanowcze żądanie rozmowy z właścicielem<br>, pojawił się on przed 23 . 00 . Zażądał<br>potwierdzenia rezerwacji w formie papierowej i nie<br>respektował wersji elektronicznej . Dalsze próby<br>wyjaśnienia zlej rezerwacji nie przynosiły<br>rezultatu . Byli śmy zmęczeni po 18 godzinach<br>jazdy samochodem a przed nami jeszcze 600km do<br>domu od wczesnych godzin rannych . Właściciel nie<br>zaproponował jakiegokolwiek alternatywnego<br>rozwiązania i rekompensaty , nie otrzymali śmy<br>nawet rachunku . Przed północą nie było sensu<br>szukać innych miejsc noclegowych . Położyli śmy<br>się spać . Wielokrotne reklamacje przez Booking<br>nie przynoszą jakiegokolwiek rezultatu -<br>właściciel zaprzecza swojej pomyłce . Ewidentnej<br>pomyłce ponieważ w pensjonacie nie ma 3 pokoi z<br>łazienkami . Są tylko dwa takie pokoje ale opłaty<br>pobrał za trzy pokoje z łazienkami . Przestrzegam<br>wszystkich przed tym obiektem . Wokół jest wiele<br>pięknych pensjonatów ale to zobaczyli śmy dopiero<br>rankiem wyjeżdżając z tego miasteczka .",
           "__label__meta_minus_m"
          ],
          [
           "Nigdy wiecej tego hotelu . Brudny zarowno w<br>pokojach jak i na calym obiekcie . Jedzenie to<br>resztki z posilkow brak urozmaicenia a co gorsza<br>odpowiedniej ilosci i higieny . Pakiet byl kupiony<br>przez popularna strone z ofertami turystycznymi .<br>Basen maly i brudny . zdecydowanie nie polecam",
           "__label__meta_minus_m"
          ],
          [
           "Będąc przejazdem na trasie w końcu zatrzymał em<br>się z ciekawości . Chcieli śmy zjeść coś ciepłego<br>na szybko i za to plus . Trzy zupy do wyboru w<br>kociołkach podgrzewanych jak na weselu . Mimo<br>wszystko smaczne i czuć było że robione tego<br>samego dnia . Minusy to na pewno wygląd tej sali<br>restauracyjnej , to że przy barze za ścianą<br>kobieta paliła papierosa ( wewnętrzne regulacje ?<br>) i czekanie bez końca na obsługę , stojąc przy<br>barze czekałem aż ktoś mnie zauważy . Minus<br>również za cenę . Mimo że przy trasie to jednak<br>jest to Rymań a nie Warszawa . 29 zł za dwie<br>gotowe zupy i kilka kromek chleba ( mimo iż pyszny<br>z własnego wypieku ) to trochę za dużo . Spróbował<br>em , dziękuję ale już więcej się nie zatrzymam .",
           "__label__meta_minus_m"
          ],
          [
           " W ciągu trzech lat , korzystając z ponad 4 , 5<br>mln euro środków unijnych , stworzyli śmy ośrodek<br>naukowy - to dziesięć zespołów współpracujących ze<br>sobą ściśle w badaniach nad zdrowym starzeniem .<br>Dzięki tym pieniądzom mogli śmy poprawić jakość<br>naszych badań naukowych , co uzyskali śmy poprzez<br>międzynarodową wymianę naukową i zainwestowanie<br>ponad 1 , 5 mln euro w nowoczesny sprzęt . Program<br>umożliwił też promocję naszych badań naukowych -<br>zorganizowali śmy dziesięć konferencji<br>międzynarodowych z udziałem kilkuset wykładowców z<br>całego świata - podkreślił koordynator Centrum<br>prof . Marek L . Kowalski . Centrum Badań nad<br>Zdrowym Starzeniem ( ang . Healthy Ageing Research<br>Centre , HARC ) , stworzone przy Uniwersytecie<br>Medycznym w Łodzi , jest ośrodkiem naukowym ,<br>badawczym i propagującym wiedzę na temat szeroko<br>pojętej problematyki starzenia się . W ramach<br>projektu , w którym w latach 2013 - 2016<br>uczestniczyło 21 partnerów zagranicznych ,<br>stworzono m . in . wirtualne laboratorium<br>prowadzące zaawansowane badania nad układem<br>immunologicznym oraz pierwszy w Łodzi biobank , w<br>którym są przechowywane próbki służące badaniom<br>naukowym .        __label__meta_zero W Chorzowie<br>Pani Doktór przyjmuje w piątki od 17 , ale<br>najlepiej zadzwonić tam i się umówić na kontretną<br>godzinę ( czasem trzeba dzwonić kilka razy jak<br>nikt nie odbiera telefonu , bo ta mała poradania<br>czynna jest tylko jak jakiś lekarz akurat<br>przyjmuje ) . Wizyta w Chorzowie kosztuje 40 albo<br>50 zł ( nie pamiętam dokładnie , ale wydaje mi się<br>, że w tym roku podrożała z 40 na 50 zł ) . Pani<br>Doktór przyjmuje też prawatnie gdziś w Katowicach<br>( w okolicach Słonecznej Pętli ) w czwartki<br>popołudniu , ale tam wizyta jak się kiedyś<br>dowadywałam kosztowała 80 zł .<br>__label__meta_zero Ryzyko zawału u pacjentów<br>cierpiących np . na chorobę wieńcową ( szczególnie<br>groźna , a wiele osób nie wie , że ją ma ) ,<br>otyłych , mających wysokie ciśnienie wzrasta ,<br>jeśli prowadziły one siedzący tryb życia , a<br>aktywność fizyczną rozpoczynają nagle i jest ona<br>intensywna . Należy zadbać o odpowiednią<br>rozgrzewkę i stopniowo zwiększać aktywność . Ważne<br>jest spokojne zakończenie ćwiczeń , ponieważ do<br>zawału często dochodzi nie tylko w czasie wysiłku<br>, ale i po jego zakończeniu . Pacjenci -<br>zaznaczyła lekarka - nie powinni podejmować<br>aktywności fizycznej , gdy jest zbyt ciepło .<br>Bezpośrednio po wysiłku niebezpieczne jest<br>korzystanie z sauny oraz branie gorącego prysznica<br>. Zgubne mogą się też okazać ćwiczenia , gdy jest<br>niska temperatura powietrza , i w górach . Przed<br>wejściem na stok należy odczekać jakiś czas , aby<br>organizm przyzwyczaił się do nowej temperatury i<br>ciśnienia . __label__meta_zero Pani doktor bardzo<br>jest dobrym specjalistom . Wiem , bo sama jestem<br>jej pacjentem od kilku lat . I naprawde mi pomaga<br>. Jestem na lekach i dzięki nich , nie mam żadnych<br>ataków epilepsji i funkcjonuje normalnie . Zaleca<br>mi duzo badan do wykonania ale to dla mojego dobra<br>. Naprawdę polecam tą Panią doktor i jestem z<br>rodzicami starsznie z niej zadowolona ; )<br>__label__meta_plus_m Zainspirowana poniższymi<br>postami piszę swoje zdanie . PROSTE , OCZYWISTE<br>PROBLEMY z kolanami faktycznie dr Żbikowski<br>rozwiązuje od ręki . Wówczas i diagnoza nie jest<br>trudna i zabieg i zainkasowanie kilku tys . Z<br>NIEOCZYWISTYMI PRZYPADKAMI JAK MÓJ NIE RADZI SOBIE<br>. DZIĘKI  doktorowi \" Żbikowskiemu mój problem z<br>kolanem nie został rozpoznany w porę , a był<br>oczywisty dla lekarzy z Bielska Białej ( szpital<br>Św . Łukasza ) , co potwierdził rezonans . I<br>właśnie dzięki doktorowi mój okres powrotu do<br>sprawności zamiast trwać rok ( wg lekarzy z Bieska<br>) przedłużył się do 4 lat . Tak więc życzę dużo<br>zdrowia po wizytach w doktora .",
           "__label__meta_minus_m"
          ],
          [
           "Pan Dr nie zrobil na mnie dobrego wrazenia .<br>Ewidetnie spieszyl sie i chcial tylko odwalic<br>wizyte , mimo ze byla prywatna . Mialam problem z<br>gardlem , to pan dr to zlekcewazyl , ze nic mi nie<br>jest . Dziwne ze kilka dni pozniej rozchorowalam<br>sie jeszcze bardziej . . . jedyne co to<br>zasugerowal operacje wyciecia migdalkow . Bylam u<br>innego lekarza i sie okazalo ze przyczyny bolu<br>gardla sa gdzie indziej i migdalki mam jak<br>najbardziej w porzadku . Dodatkowo zasugerowal mi<br>jeszcze operacje przegrody nosa gdzie takowa nie<br>jest mi potrzebna bo nie mam wiekszych problemow z<br>oddychaniem . .",
           "__label__meta_minus_m"
          ],
          [
           "Nie twierdzę , że Pani dr jest złym lekarzem ale<br>ja jestem zawiedziona . Przyszła m do niej z<br>alergią skórną i mimo , że widziała m , iż Pani dr<br>kompletnie nie ma pomysłu co to może być i jak to<br>leczyć zapisała mi jakieś kremy ( w zasadzie nie<br>lecznicze tylko nawilżające ) i poleciła zakup<br>rękawic na noc z internetu . Co najgorsze<br>osłuchała mnie mimo , iż nie zgłaszała m żadnych<br>dolegliwości związanych z kaszlem itp . Skasowała<br>oczywiście normalnie zamiast przyznać , iż na<br>problemie się nie zna i polecić innego lekarza .",
           "__label__meta_minus_m"
          ],
          [
           "Byli śmy w tym apartamencie w lutym 2014 roku sam<br>apartament jest ok ale nie do końca wyposażony<br>brak jest czajnika na wodę brak pokrywek do<br>garnków ale największym problemem jest to że jest<br>kuchenka elektryczna czteropalnikowa z<br>piekarnikiem ale niestety można korzystać tylko z<br>jednego palinka albo piekarnika w innym wypadku<br>wyłączają się korki a wówczas musicie Państwo udać<br>się do właścicielki która jest bardzo nie miła<br>oczywiście dostali śmy opiernicz , że za dużo<br>rzeczy przywieźli śmy i dlatego wysadza korki .<br>Sytuacja się kilkakrotnie powtarzała w końcu nie<br>korzystali śmy z kuchni bo nie było innej<br>możliwości . Własciciele nie pozwalają otwierac<br>okien w apartamentach ! ! ! ! co jest masakra<br>szczególnie jak na początku chcieli śmy sami<br>gotować a właczenie wyciągu powodowało wyłączenie<br>światła . Kolejny duzy problem to ogrzewanie które<br>przez tydzień czasu było właczone z dwa razy i to<br>przez kilka godzin nie schło nic reczniki<br>śmierdziały stęchlizną ubrania narciarskie też nie<br>do końca mogły się wysuszyć . Suszarnia na buty to<br>niestety kolejny minus tego osroda owszem jest ale<br>nie ogrzewana buty nie wysuszone po tygodniu<br>śmierdziały wilgocią masakra . W ofercie Tui<br>napisane było , że jest łacze internetowe wszystko<br>się zgadza ale dodatkowo płatne 15 euro i znowu<br>mała niespodzianka bo pomimo opłaty prawie nie<br>działał na pytanie dlaczego nie mam neta usłyszeli<br>śmy ze tak tu już jest . W ośrodku znajduje się<br>basen no może basenik ale smród chloru jest nie do<br>wutrzymania az piecze w oczy na wejściu do budynku<br>dlatego tez odpuścili śmy sobie wizytę w tym super<br>spa . Na koniec przejdziecie Panstwo test białej<br>rękawiczki przeprowadzony prze właścicielkę<br>zostaną przeliczone wszystkie sztuce , kubki ,<br>talerze radę od razu zgłaszać np . nie do końca<br>czysta łaziekę czy brudne talerze bo takie się<br>zdarzają brudno na podłodze bo na koniec i tak<br>będziecie musieli sami to sprzątać . Jak<br>przyjechali śmy w łazience był kosz na sieci z<br>workiem , do którego wrzucili śmy 10 płatków<br>kosmetycznych przy wyjeździe wyciagnelismy worek<br>pod spodem kosz był ohydnie brudny włascicielka<br>powiedziała ze jak tego nie umyjemy to obciąży nas<br>50 euro za sprzątanie to po prostu jedna wielka<br>kpina . Co roku jezdzimy do Austrii to nasz<br>pierwszy pobyt we Włoszech ale takiej porażki nie<br>przeżyli śmy nigdzie . Miał to być super pobyt ale<br>niestety nie fajnie jeździ się z mokrymi<br>rękawiczkami czy butami ! ! ! ! ! Naprawdę nie<br>polecam szkoda nerwów",
           "__label__meta_minus_m"
          ],
          [
           "Pierwszy minus za niemiłą obsługę . Przyjechał em<br>w piątek i chciał em na parkingu pod hotelem<br>zostawić samochód , a na nocleg dojechać rowerem w<br>sobotę . Bardzo niemiła pani z obsługi zaczęła<br>tłumaczyć , że zwykle parking jest pełny i nie<br>mogę zostawić auta ( parkingi dolny i górny były<br>prawie puste ) . Uparł em się jednak , auto<br>zostawił em i taki sam pusty parking zastał em w<br>sobotę . Pokój z wyjściem na taras , bardzo ładny<br>, super klimat , ładnie urządzony , łoże<br>małżeńskie wygodne , wszystko super , tylko , że<br>nie można się wyspać , a nawet chwili odpocząć ,<br>bo za oknem huczą niemiłosiernie wentylatory od<br>klimatyzacji . No i kilka słów o tarasie , bo<br>pomimo , że był sierpień , to na tarasie w ogóle<br>nie posprzątane , brudne stoliki , brudne krzesła<br>, brudny taras , pajęczyny na każdym rogu . Za te<br>pieniądze , w tym hotelu , nigdy więcej . . .",
           "__label__meta_minus_m"
          ],
          [
           "Rzeczywistość rozmija się ze zdjęciami z oferty ,<br>łazienki są brudne , korytarze śmierdzą brudną<br>wykładziną . Hotel połączony z hostelem , dostali<br>śmy pokój hostelowy , z wyjściem na brudną małą<br>przestrzeń ograniczoną murami i jakimiś<br>urządzeniami wentylacyjnymi , w dodatku bez<br>ciepłej wody . Po interwencji włączono ciepłą wodę<br>, a po trzech nocach przeniesiono do pokoju na 2<br>piętrze . Pokój o trochę lepszym standardzie ,<br>chociaż urządzenia w łazience zdążyły się już<br>częściowo zużyć i nie są dokładnie myte . Niestety<br>upał ( pokój bezpośrednio pod dachem ) i brak<br>odpowiedniej wentylacji ( tylko okno dachowe w<br>łazience , pokój miał okienko zamurowane<br>luksferami ) nie pozwalał spokojnie się wyspać ,<br>ochładzało się dopiero około 6 rano . Obsługa jest<br>miła , ale naprawdę poczuła m się oszukana<br>zderzeniem z rzeczywistością . Wolała by m<br>dopłacić więcej , ale dostać uczciwą ofertę , a<br>nie wyretuszowane zdjęcia .",
           "__label__meta_minus_m"
          ],
          [
           "Jak zajechalismy do hotelu , z zewnątrz i w<br>wewnątrz na pierwszy rzut oka robi fajne wrażenie<br>. Ale nie do konca tak bylo . W skrócie : jedna<br>zasłonka nie zasłania całego okna , na gorącą wodę<br>rano pod prysznicem trzeba trochę poczekać ,<br>jedzenie z karty jeśli jest dostepne to jest<br>poniżej jakichkolwiek standardów ( nigdy nie jadła<br>m koktailu z krewetek w sosie keczupowo -<br>chrzanowym ) , kręgle ledwo działają , woda w<br>basenie taka zimna , że nie da się wejść , jeśli<br>chodzi o jacuzzi to duże , szkoda tylko , że<br>działała jego jedna trzecia . Ogólnie bardzo drogo<br>, jeśli jednak miał byc standard * * * * to ceny<br>przystępne , szkoda , ze standard był raczej * .<br>Nie polecam .",
           "__label__meta_minus_m"
          ],
          [
           "Miała m zlecona kolonoskopie i została m<br>skierowana do tego Pana . . W prywatnym gabinecie<br>przepisał mi leki , podał numer do siebie i<br>opowiedział na czym polega kolonoskopia i obiecał<br>, że zrobi to na znieczuleniu . . gdy nadszedł<br>dzień zabiegu i weszła m do gabinetu Pani<br>pielęgniarka kazała mi się przebrać w spodenki do<br>kolonoskopi co też uczynilam . Położyła m się na<br>stole do zabiegu i Pan doktor przeprowadził mi<br>kolonoskopie bez znieczulenia . . . Wolała by m<br>rodzic dziecko niż przeżyć to jeszcze raz .<br>Zwijalam się z bólu na stole a pielęgniarka mnie<br>przytrzymywala , żeby m nie uciekła . . . po całym<br>zabiegu pan doktor poklepal mnie po głowie i<br>powiedział że już po a po leki żeby m przyszła do<br>gabinetu ( ok . 200 zł wizyta ) . . . nie polecam<br>. Trzeba było mnie poinformować , że za<br>znieczulenie musiała by m dopłacić bo NFZ nie<br>refunduje go . . .",
           "__label__meta_minus_m"
          ],
          [
           "Cóż , świetnie położony hotel , rewelacyjne SPA i<br>. . . nic poza tym . Hotel jedzie na opinii , jaką<br>wyrobił sobie zaraz po otwarciu . Bardzo mocno<br>widać brak dobrego managera , który potrafił by<br>poprowadzić hotel . Klient jest tu mocno na drugim<br>miejscu , niestety . Hotel NIE JEST przystosowany<br>dla niepełnsprawnych ! ! ! tudzież dla rodzin z<br>dziećmi - aby zejść na dół do fokarium czy zoo<br>mamy dwa wyjścia : albo kilkadziesiąt stromych<br>schodów albo dookoła wsi : ( . ZOO - zaniedbane ,<br>zarośnięte , z wysokiej trawy nie widać mniejszych<br>zwierząt . FOKARIUM - tu widać zaangażowanie osób<br>pracujących . Byli śmy na pokazie karmienia o godz<br>. 18 : 00 - pan prowadzący z ogromnym<br>zaangażowaniem opowiadał i pokazywał umiejętności<br>fok . JAZDA KONNA - niestety tu także brak<br>zaangażowania osób pracujących . RESTAURACJA -<br>brudne sztućce , szklanki , jedzenie monotonne (<br>brakowało chleba ! ! ) czekanie na stolik - jednym<br>słowem kiepsko . SPA - szczerze polecam ! ! ! Brak<br>najmniejszego sklepiku - punktu , gdzie możnaby<br>zakupić podstawowe środki higieniczne , wodę do<br>picia itd . Zostali śmy poinformowani , iż w domku<br>na drzewie , gdzie mieli śmy zakwaterowanie<br>znajduje się barek kawowy i . . . był czajnik i<br>plastikowe kubki . Ani śladu po filiżankach ,<br>kawie , herbacie . Na moje pytanie w recepcji o<br>powyższe usłyszała m , że \" mogę sobie zabrać z<br>restauracji \" - słabo : ( . ( gdy chciała m użyć<br>soli równie osobliwie usłyszała m - prosze sobie<br>poszukać na sali )",
           "__label__meta_minus_m"
          ],
          [
           "Była m dzisiaj u Pana doktora , poprosiła m o<br>skierowanie na podstawowe badanie krwi ale<br>niestety Pan Rafał odmówił . Moja prośba wynikała<br>z tego , ze staramy sie z mężem o dziecko wiec<br>chciała m mieć wyniki pod kontrola . Pan Rafał<br>stwierdził , ze niedawno była m ( owszem 7<br>miesięcy temu ) i ze z takimi wynikami tu cytat :<br>\" mogę dwa porody obskoczyć \" ( bardzo<br>profesjonalna wypowiedz ) . Nie rozumiem decyzji<br>lekarza bo po pierwsze place abonament od 5 lat i<br>bardzo rzadko korzystam z usług , wiec jeżeli chce<br>dwa razy w roku zrobić sobie badania bo planuje<br>dziecko to chyba nie jest nic nadzwyczajnego . Po<br>drugie tyle sie mówi o profilaktyce , ze pacjenci<br>przychodzą za późno . Jestem bardzo bardzo<br>rozczarowana postawa lekarza . GNERALNIE NIE<br>POLECAM ! ! ! ! !",
           "__label__meta_minus_m"
          ],
          [
           "Czuła m się jak na standardowej wizycie na NFZ ,<br>czyli szybko , krótko , pani doktor wie wszystko<br>najlepiej , po co słuchać pacjenta . Wydaje się ,<br>że pani doktor ma wiedzę , nie zamierzam tego<br>kwestionować , jednak przychodząc prywatnie i<br>płacąc za wizytę , oczekuje się nieco innego<br>podejścia . Najważniejsze , co mnie zraziło . . .<br>Siedząc w kolejce , było przede mną kilka osób ,<br>słyszała m dokładnie słowo w słowo o czym pani<br>doktor rozmawia z pacjentem . Kiedy nadeszła moja<br>kolej zdawalam sobie sprawę , że wszyscy będą<br>słyszeli również o moich problemach , tragedia -<br>zero prywatności , czuła m się bardzo<br>niekomfortowo .",
           "__label__meta_minus_m"
          ]
         ],
         "hovertemplate": "Annotation=__label__meta_minus_m<br>t-SNE 1=%{x}<br>t-SNE 2=%{y}<br>sentence=%{customdata[0]}<br>annotation=%{customdata[1]}<extra></extra>",
         "legendgroup": "__label__meta_minus_m",
         "marker": {
          "color": "#636efa",
          "symbol": "circle"
         },
         "mode": "markers",
         "name": "__label__meta_minus_m",
         "orientation": "v",
         "showlegend": true,
         "type": "scatter",
         "x": [
          1.0981014966964722,
          -0.46803709864616394,
          1.342700481414795,
          0.8985747694969177,
          -1.0539898872375488,
          -0.3737673759460449,
          1.233768343925476,
          -0.3944218158721924,
          -0.11282947659492493,
          -0.46086594462394714,
          0.8657561540603638,
          1.643640160560608,
          0.8979529142379761,
          -0.05525107681751251,
          1.1380786895751953,
          1.1160186529159546,
          -0.053051479160785675,
          -0.3583398163318634,
          -0.9516448974609375,
          -0.0916782021522522,
          -1.0851510763168335,
          -0.7859011888504028,
          -0.3812674880027771,
          -0.40078791975975037,
          0.10900768637657166,
          0.6810639500617981,
          0.8572956919670105,
          0.9859999418258667,
          1.2430649995803833,
          0.656033456325531,
          0.3102874457836151,
          1.096470832824707,
          -0.9604270458221436,
          0.984748363494873,
          1.1496484279632568,
          0.6511057615280151,
          1.1194034814834595,
          1.1976191997528076,
          0.8964189291000366,
          -0.6249123215675354,
          1.075531005859375,
          -0.5255939960479736,
          0.28724074363708496,
          0.8882685303688049,
          1.2278867959976196,
          0.08618779480457306,
          1.2321184873580933,
          0.35737258195877075,
          1.1538078784942627,
          1.4643875360488892,
          0.9926686882972717,
          1.0194507837295532,
          -0.2519572377204895,
          0.40353652834892273,
          1.2738395929336548,
          1.4074615240097046,
          0.9937049746513367,
          0.37440967559814453,
          1.3383605480194092,
          1.0536516904830933,
          0.9888769388198853,
          -0.572913646697998,
          1.5302122831344604,
          1.1153559684753418,
          0.9998151659965515,
          -0.3881685435771942,
          -0.2727139890193939,
          1.2855561971664429,
          -1.6067521572113037,
          -0.13599440455436707,
          1.3189536333084106,
          0.2420113980770111,
          -0.2717711925506592,
          1.4982877969741821,
          0.7865525484085083,
          -0.5811741352081299,
          0.850441038608551,
          0.8409355878829956,
          0.05350150540471077,
          -0.2460624724626541,
          1.4628301858901978,
          1.5207995176315308,
          1.0373932123184204,
          -0.7568761110305786,
          -0.4909464716911316,
          1.4693083763122559,
          1.1072633266448975,
          0.40295669436454773,
          -1.8452481031417847,
          -0.25117212533950806,
          -0.27826085686683655,
          1.9361240863800049,
          -0.5662534832954407,
          0.022533992305397987,
          -0.4743972718715668,
          1.1062637567520142,
          -0.11959867924451828,
          0.858263373374939,
          -0.2932432293891907,
          0.05198293179273605,
          -0.10241694748401642,
          0.39632943272590637,
          1.1789040565490723,
          1.0417767763137817,
          -0.19384324550628662,
          -0.09645722061395645,
          -1.1541014909744263,
          -0.20227570831775665,
          1.1604199409484863,
          -0.6858334541320801,
          1.069594144821167,
          1.474500060081482
         ],
         "xaxis": "x",
         "y": [
          0.12982222437858582,
          0.02356334589421749,
          0.5243709087371826,
          -0.04488658532500267,
          -2.035250186920166,
          0.10243014246225357,
          0.21940898895263672,
          -0.21737918257713318,
          0.52956223487854,
          -0.344527930021286,
          -0.06105790287256241,
          0.07337560504674911,
          0.1466728299856186,
          -0.45771488547325134,
          -1.3283157348632812,
          -1.5089071989059448,
          -0.4794906973838806,
          -0.5957412719726562,
          -1.5938749313354492,
          -1.011953353881836,
          -1.979655385017395,
          -1.256996750831604,
          -0.23599542677402496,
          -0.8536034822463989,
          -1.0342233180999756,
          0.28158771991729736,
          -0.1022215336561203,
          -0.026042282581329346,
          0.21201811730861664,
          -0.06655067205429077,
          -1.5982447862625122,
          -0.022899547591805458,
          -1.8318860530853271,
          -0.13436059653759003,
          -1.5046615600585938,
          0.5410997271537781,
          -1.4038286209106445,
          -0.39128750562667847,
          -0.15837860107421875,
          -1.0832561254501343,
          -1.2616984844207764,
          -0.10689125955104828,
          -1.4628201723098755,
          0.3452339172363281,
          -1.0390942096710205,
          -1.1244527101516724,
          -0.4260783791542053,
          -1.6767576932907104,
          -0.2598726153373718,
          0.46261247992515564,
          -1.147889494895935,
          0.5014230608940125,
          -0.3948219418525696,
          -2.1017472743988037,
          -1.298217535018921,
          -0.8838226199150085,
          0.20113880932331085,
          -0.8897440433502197,
          0.27599015831947327,
          -0.40186041593551636,
          -0.05176200717687607,
          0.0015642709331586957,
          -1.2542768716812134,
          -1.7966594696044922,
          0.2362489402294159,
          0.03180953487753868,
          -0.3496866226196289,
          -0.06689660996198654,
          -0.31382274627685547,
          -1.0124030113220215,
          -0.35858088731765747,
          -1.968944787979126,
          -1.7530670166015625,
          0.33376824855804443,
          -0.19918587803840637,
          -0.12160708755254745,
          -0.026570850983262062,
          -1.7185102701187134,
          -0.6886888146400452,
          -1.0841666460037231,
          0.4066716134548187,
          -0.9822700023651123,
          0.31657126545906067,
          -1.3570953607559204,
          -0.6518577933311462,
          0.8155841827392578,
          -0.23575477302074432,
          -1.8635882139205933,
          0.014807975850999355,
          -0.1604418009519577,
          -0.20737631618976593,
          0.5965616106987,
          -0.5826596617698669,
          -0.7192414402961731,
          0.25298988819122314,
          0.06953093409538269,
          -1.3140311241149902,
          -0.03882952779531479,
          -0.02283104695379734,
          -2.1088850498199463,
          -0.3252968192100525,
          0.4398976266384125,
          -1.289668321609497,
          -0.17340128123760223,
          -0.3058606684207916,
          -0.8030667304992676,
          0.08243156969547272,
          -0.7626767158508301,
          -0.14467990398406982,
          -0.29121264815330505,
          -1.0237258672714233,
          0.04108339548110962
         ],
         "yaxis": "y"
        },
        {
         "customdata": [
          [
           "dotarli śmy późno wieczorem okazało się , iż Stare<br>Sady są pełne takich pensjonatów , hoteli ,<br>apartamentów jak ten \" Chillout Rooms \"<br>bezpośrednio ulokowane nad jeziorem na szlaku<br>Wielkich Jezior ; kilka minut samochodem od<br>Mikołajek - urocze genialne miejsce . . .<br>wszystkie pokoje z widokiem na jezioro , wnętrze<br>urządzone w stylu skandynawskim , dominujące<br>kolory biały i pastele ; ogólnie w dobrym stylu \"<br>mój gust \" . . . szczególnie super wspominam tutaj<br>podane śniadanie \" na trawie \" przy samym jeziorze<br>; piękna słoneczna pogoda , widok na jezioro i<br>smaczne jedzonko w dużym wyborze ; zapamiętam ten<br>widok na całe życie : )",
           "__label__meta_plus_m"
          ],
          [
           "Pierwszy lekarz ortopeda , który w ogóle mnie<br>zbadał i zdiagnozował . Wcześniejsi , a \" leczę<br>się \" od kilku lat , nawet na mnie nie spojrzeli .<br>Ale były to wizyty w ramach NFZ , co wiele<br>wyjaśnia . Pana doktora wybrała m na podstawie<br>opisów na tym portalu , i po pierwszej wizycie<br>uważam , że to bardzo dobry wybór .",
           "__label__meta_plus_m"
          ],
          [
           "Kolejny pobyt w Novotelu City West . Obsługa<br>nienaganna . Zajmował em dwa pokoje , w tym<br>apartament . Jako członkowi programu<br>lojalnościowego dostarczono przepyszny upominek .<br>Śniadania bardzo przyzwoite . Bardzo dobry<br>rozwiązaniem jest bezpłatny bus kursujący dwa razy<br>dziennie pomiędzy hotelem a centrum miasta . Uwaga<br>! Dla tych , którym dotąd NVT siłą rzeczy kojarzył<br>się z zapachem novotelowskich kosmentyków ; Sieć<br>NOVOTEL wprowadziła nową linię kosmetyków - niby z<br>trawy z Mauritiusa , ale dla mnie osobiście niczym<br>nie różni się od tych z Mercure - dla mnie<br>osobiscie krok w niewłasciwa stronę , zapach<br>nijaki ale to jest subiektywne odczucie i by<br>najmniej nie obciąża ono dyrekcji hotelu . Hotel<br>na pięć z plusem . Na pewno wrócę !",
           "__label__meta_plus_m"
          ],
          [
           "Uważam , że doktor Nawrocki jest wspaniałym<br>specjalistą . Wykrył u mojej mamy raka piersi . W<br>trakcie usg powiedział , że jest to nowotwór<br>złośliwy . Inni lekarze nie postawili diagnozy bez<br>badania histopatologicznego guza . On to<br>stwierdził po samym usg i miał rację . Badania<br>potwierdziły to co powiedział . Była m również na<br>usg ciąży - dwukrotnie . Tak jak powiedział<br>wszystko było w porządku , płeć też się sprawdziła<br>: ) Polecam wszystkim . Dla zainteresowanych nr<br>telefonu 602765825 , rejestracja tylko w<br>poniedziałki od 10 . 00 do 11 . 00 . Ciężko się<br>dodzwonić , ale można : )",
           "__label__meta_plus_m"
          ],
          [
           "Trafili śmy do B & B przypadkiem i bardzo żałujemy<br>, że spędzili śmy tutaj jedynie dwie noce .<br>Chętnie wrócimy na dłużej ! Czekał na nas czysty ,<br>komfortowy , stylowo urządzony pokój z aneksem<br>kuchennym . W samym hotelu cisza i spokój ,<br>naprawdę przyjemnie się spało . Jednocześnie<br>świetna lokalizacja , można się wybrać spacerkiem<br>w różne zakątki Warszawy . Śniadania nie tylko<br>były pyszne , ale też odbywały się w przemiłej<br>atmosferze , gdyż wspólny stół sprzyja<br>nawiązywaniu kontaktów . Również obsługa była<br>bardzo sympatyczna i pomocna . Miejsce o<br>wyjątkowej atmosferze i doskonałych warunkach !",
           "__label__meta_plus_m"
          ],
          [
           "Rewelacyjny ! Nie miała m nic do zarzucenia mojemu<br>wyglądowi , zanim rozpoznano u mnie raka piersi .<br>Po mastektomii nie wyobrażała m sobie dalszego<br>funkcjonowania . Dziękuję Panie Doktorze za<br>przywrócenie mi chęci do życia . Piersi prezentują<br>się lepiej niż kiedykolwiek przed chorobą . Dr<br>Dmytrzak jest profesjonalistą w każdym calu ,<br>artystą pośród rzemieślników . Polecam .",
           "__label__meta_plus_m"
          ],
          [
           "Cudowny hotel w centrum miasta . Wystarczające<br>pokoje z swietnie wyposażona łazienka . Czysto ,<br>schludnie , bardzo wygodne łóżka . Bliska<br>odległość do głównych zabytków miasta . Dobry ,<br>pomocny personel . Prosili śmy o 2 pokoje na tym<br>samym pietrze i tak było . Byli śmy bardzo<br>zadowoleni z pobytu w hotelu . Ze śniadań nie<br>korzystali śmy ale polecamy rewelacyjna<br>restauracje hotelowa i własny browar . Piwo<br>pierwsza klasa .",
           "__label__meta_plus_m"
          ],
          [
           "Małe info dla zawiedzionych \\ \" pacjento -<br>turystów \\ \" : może pomylili ście specjalistów ( ?<br>) Karmicie się informacjami z różnych for<br>internetowych , stawiacie sobie wzajemnie diagnozy<br>i oczekujecie że \\ \" dobry \\ \" lekarz pownien<br>przyklepać Wam Wasze przypuszczenia . Tak , jestem<br>pacjentem dr Daroszewskiego od dłuższego czasu i<br>czytając niektóre wpisy nie mogę wyjść ze<br>zdumienia . Może to konkurencja robi czarny PR .<br>Na wizyty chodzę zarówno prywatnie jak i na NFZ w<br>klinice i nie poczuł em się nigdy \\ \" olany \\ \" ,<br>a muszę przyznać że jestem dość skomplikowanym<br>przypadkiem i często zadaję głupie bądź irytujące<br>pytania . Kilka pobytów w szpitalu i zawsze<br>trafione leczenie , a co najważniejsze -<br>poprzedzone drobiazgową diagnostyką .<br>Profesjonalizm i stoicki spokój - a tego należy<br>oczekiwać chyba od specjalisty . Jeśli szukali<br>ście kogoś do poklepywania po plecach przy każdym<br>napięciu przedmiesiączkowym , andropauzie lub<br>menopauzie to poszukajcie psychologa .",
           "__label__meta_plus_m"
          ],
          [
           "To jest lekarz z powołania , który wysłucha i<br>poradzi . Oprócz dużej wiedzy , posiada niezwykłà<br>wrażliwość na drugiego człowieka . Najlepszy<br>lekarz , z którym miała m do czynienia w moim<br>życiu , to jest poprostu bardzo dobry człowiek ,<br>który kieruje się sercem , być Jego pacjentem to<br>zaszczyt ! Mogę polecić Doktora z czystym<br>sumieniem ! ! ! ! ! !",
           "__label__meta_plus_m"
          ],
          [
           "Cudowny lekarz jestem bardzo wdzięczna za to co<br>zrobił . Najpierw trafiła m do Sokołowa<br>Podlaskiego gdzie lekarze zrobili mi rezonans tam<br>się okazało ze mam bardzo dużą przepuklinę która<br>naciska na rdzeń kręgowy moja prawa ręka robiła<br>się niewładna . Tam stwierdzono ze nie da się już<br>tego zoperować i muszę się z tym pogodzić ze w<br>najbliższym czasie będę jeździ na wózku<br>inwalidzkim ( mam 23lata ) . Dzięki mojemu<br>wielkiemu szczęściu trafiła m w ręce Pana dr Pawła<br>Wichrowskiego który bardzo szybko mnie zoperował<br>4h po zaczęła m chodzić nic mnie nie boli blizna<br>jest prawie nie widoczna . Mogę tylko powiedzieć<br>ze nie mogła m trafić w lepsze ręce . Jest to<br>lekarz który pracuje rękoma Boga .",
           "__label__meta_plus_m"
          ],
          [
           "Pani doktor Karolina Kusnierek jest w moich oczach<br>lekarzem stomatologiem z powolania . Bardzo<br>dokladne ogledziny uzebienia poprzedzajace<br>jakiekolwiek prace , dokumentacja fotograficzna ,<br>wykonanie zdjec rentgenowskich - wszystko to mialo<br>na celu upewnienie sie , co do kwalifikacji<br>ktoregos z zebow do ewentualnego leczenia , a<br>takze pozwolenia pacjentowi na zobaczenie na<br>wlasne oczy , co niepokoi p . doktor . Bardzo<br>spodobalo mi sie podejscie pani Karoliny do<br>korekcji protetycznych , ktore byly glownym<br>powodem mojej ostatniej wizyty w gabinecie . Pani<br>doktor slucha najpierw pacjenta , pyta jaki efekt<br>estetyczny , bylby dla niego satysfakcjonujacy , a<br>potem dokladnie i rzetelnie informuje , jak<br>wyglada to od strony medycznej i funkcjonalnej -<br>ksztalt i wielkosc zebow pieczolowicie dobiera do<br>zgryzu pacjenta . Zawsze wybiera rozwiazania<br>najmniej inwazyjne i tym samym sa one najczesciej<br>dla pacjenta milym zaskoczeniem , jesli chodzi o<br>koszta . O koszcie leczenia pani doktor zawsze<br>informuje na pierwszej wizycie i sa to maksymalne<br>kwoty , jakie pacjent moze poniesc - bywa , ze<br>ulegaja one redukcji - dlatego kazdy moze<br>zaplanowac te wydatki , bez zbednego stresu .<br>Polecam p . doktor Karoline Kusnierek wszystkim ,<br>ktorzy troszcza sie o swoj usmiech i poszukuja<br>profesjonalisty , ktory w najlepszy sposob potrafi<br>sie nim zaopiekowac .",
           "__label__meta_plus_m"
          ],
          [
           "Jestem ogromną fanka Doktora Piotrowiaka operowal<br>moja mama już 3 razy . Schudła 44 kilo w wieku 58<br>lat i skóra wisiała jej wszędzie Doktor wyczarowal<br>jej sylwetkę na nowo : - ) ) Jest teraz dzięki<br>niemu szczesliwsza kobieta . Ja osobiście miała m<br>plastyke brzucha u doktora wraz z odsysaniem<br>boczkow jestem mega zadowolona Podejście Doktora<br>jest bardzo profesjonalne To wspaniały lekarz i<br>człowiek wszystko potrafi wytłumaczyć w<br>zrozumiałym języku dla pacjenta . Na każde pytanie<br>odpowiadał wyczerpujaco , Po operacji kontakt<br>telefoniczny rewelacja Czulysmy się z mamą zawsze<br>bezpiecznie A zaufanie do lekarza i kontakt to<br>chyba jedna z najważniejszych rzeczy przy tego<br>typu operacji . Również korzystam regularnie z<br>zabiegów typu botox i powiększanie ust u Doktora i<br>tu również jest czarodziejem Robiła m już<br>wcześniej takie zabiegi u innych lekarzy i nikt<br>nigdy nie umiał mi tak ładnie brwi podnieść<br>botoxem bez efektu opadnietych powiek Pan Doktor<br>jest w tym mistrzem no i usta pieknee naturalne<br>takie jak zawsze chciała m",
           "__label__meta_plus_m"
          ],
          [
           "Obiekt położony na uboczu , z dala od zgiełku<br>głównej trasy przez Spałę . Pokój w standardzie<br>normalnym , czysty i schludny . Bardzo przyjemny<br>personel . Pokój był ze śniadaniem i tylko dla<br>mnie jedna z kucharek przyjechała wcześniej , by<br>śniadanie podać w bardzo wczesnej godzinie . To na<br>duży plus . Obiekt z dużym parkingiem oraz w<br>otoczeniu lasu o przepięknym zapachu . Naprawdę<br>jest to miejsce , w którym można wypocząć .",
           "__label__meta_plus_m"
          ],
          [
           "Hotel znajduje się na półwyspie . Wszystkie pokoje<br>mają widok na jezioro . Dzięki szklanej scianie<br>widok nie jest niczym ograniczony . Pokoje są<br>jasne , nowocześnie urządzone . Łazienka bardzo<br>ładna . Brakowalo mi tylko chusteczek w pokoju /<br>łazience . W hotelu znajduje się wiele atrakcji ,<br>z wszystkich nie zdążyła m skorzystać . Teren<br>wokół hotelu dobrze zagospodarowany , pomosty ,<br>plaża , mini pole golfowe . W hotelu basen , sauna<br>. Można wypożyczyć bule , rowery itd . Jest co<br>robić . Smaczne śniadania , dość duży wybór ,<br>nawet prosecco można się napić do śniadania .<br>Szkoda , że śniadania tylko do 10 . 00 . Jedenym<br>minusem był barman w cafe Portofino . Nie dość ,<br>że nie przyjmny , to jeszcze niekompetentny . Przy<br>zamówieniu Aperol Spritz dostali śmy samego<br>aperola . Porosili śmy , aby dolał do tego<br>prosecco , wody i dorzucił pamaranczę . Okazało<br>się , żeby wypić jednego Aperol Spritz musieli śmy<br>kupić całą butelkę prosecco . Zamiast plasterów<br>pomarańczy wrzucił skórkę z pomaranczy : ( Na<br>pewno jeszcze wrócę do Marina Golf Clubu .",
           "__label__meta_plus_m"
          ],
          [
           "Pani doktor jest osobą kompetentną i konkretna .<br>Oglądając moją zmianę na skórze już wiedziała jak<br>leczyć . Nie ograniczyla się do samych maści tylko<br>zapisała mi również lek doustny , po którym usunąć<br>można przyczynę problemu . I o to chodzi . Co do<br>skuteczności leczenia to jeszcze czas na ocenę<br>ostateczną . Ogólnie polecam innym pacjentom dr<br>Czubak .",
           "__label__meta_plus_m"
          ],
          [
           "Mila obsługa . Pokoje czyste . Zadbane . Łazienka<br>wysprzątana i wyposażona w dobrej klasy armaturę i<br>ceramikę . Dość skomplikowana podróż między<br>recepcją a pokojem , ale do opanowania . Śniadanie<br>było w porządku , ale to nie był luksusowy poziom<br>. Za taki też nie płacił em . : ) Ogólnie<br>przyjemnie i w oferowanym budżecie , w centrum<br>miasta miejsce z parkingiem na auto , wybór uważam<br>za trafny . Pobyt za udany . : )",
           "__label__meta_plus_m"
          ],
          [
           "Hotel Arche jest zlokalizowany w sąsiedztwie<br>Jasnej Góry . Wybierajac droge przez park mamy<br>piekny spacer i w ciągu 15 min jestesmy w samym<br>centrum miasta . Hotel posiada piekne przestronne<br>stylizowane i eleganckie lobby , zamkniety parking<br>jest plusem , dodatkowo mamy do dyspozycji saunę i<br>siłownię . Restauracja hotelowa serwuje pyszne<br>dania w odpowiednich do tego miejsca cenach .<br>Restaurację zdobią wilekie zdjecia Jury Krakowsko<br>- Częstochowskiej , ruin zamków szlaku Orlich<br>Gniazd . Jest tam wytwornie a jednoczesnie bardzo<br>klimatycznie .",
           "__label__meta_plus_m"
          ],
          [
           "Hotel w bardzo dobrym standardzie zlokalizowany na<br>Malcie 3 minuty od term Maltanskich i jeziora<br>Malta , blisko galeria handlowa i tereny<br>rekreacyjne . Super miejsce na odpoczynek . Hotel<br>po delikatnym liftingu , bardzo czysto , fajny<br>basen . Bardzo fajnie ze zamiast wody w pokojach<br>na każdym piętrze jest dystrybutor wody . Minus<br>jedna winda i brak klimatyzacji w pokojach .<br>Obsługa w recepcji perfekcyjna , porównywalna do 5<br>gwiazdkowego pokoju , podczas pobytu rozmawiał em<br>z 3 Paniami , każda kompetentna i służyła pomocą ,<br>wychodziła z inicjatywą by rozwiązać problem .<br>Bardzo rzadko zdarza się obsługa której się chce<br>coś robić . Zameldowanie szybkie i miłe . Wiele<br>cenny porad , mapa , pomoc w lokalizacji . Ogólnie<br>hotel 4 na 5 . Odjęte za brak klimatyzacji .",
           "__label__meta_plus_m"
          ],
          [
           "Super lokalizacja , która zadecydowała o wyborze -<br>kompromis między rozsądną odległością do centrum i<br>na plażę , a jednocześnie na tyle daleko , że<br>hałas nie zakłóca spokoju w nocy . Przemili<br>właściciele . Wzbudzają zaufanie , służą radą . W<br>cenie śniadanie . Bez szału ale można się najeść .<br>Czysto . Pokoje codziennie sprzątane . Świetny<br>stosunek ceny do jakości : 608 € za 8 dni ( 2<br>osoby ) .",
           "__label__meta_plus_m"
          ],
          [
           "Witam Wszystkich - od kiedy znam p . dr Marka<br>Braszkiewicza polecam Go każdemu kto potrzebuje<br>specjalisty w dziedzinie endokrynologii - rodzinie<br>, przyjaciołom , znajomym . Pan dr Braszkiewicz<br>najpierw słucha , potem zleca badania , wreszcie<br>skrupulatnie je analizuje , bada pacjenta , aby<br>postawić diagnozę , wreszcie dobiera właściwe leki<br>i dostosowuje dawkę do stanu pacjenta - a to w tej<br>dziedzinie nie jest łatwe . Zawsze do dyspozycji<br>kosztem swojego czasu , czasem zdrowia . . .<br>Gratulacje Panie Doktorze i wdzięczność na zawsze<br>! bardzo dobry to mało - TO PRAWDZIWY LEKARZ !",
           "__label__meta_plus_m"
          ],
          [
           "OD CZTERECH LAT STARAMY SIĘ Z MĘŻEM O DZIECKO . I<br>PRZEZ TE CZTERY LATA WIELE W NASZYM ŻYCIU SIE<br>DZIAŁO . BYŁY BARDZO PIĘKNE CHWILE ( KIEDY OKAZAŁO<br>SIE ŻE JESTEM W CIĄŻY ) I BYŁY GORZKIE ŁZY ( JAK<br>PORONIŁA M . NAJPIERW PIERWSZĄ CIĄŻE , POTEM DRUGĄ<br>. ) ALE NADAL TRZYMAMY SIE RAZEM I NADAL NIE MAMY<br>ZAMIARU SIE PODDAĆ . KOCAMY SIE MOCNO I CHCEMY<br>ŻEBY OWOCEM NASZEJ MOŁOŚCI BYŁO DZIECKO . JESZCZE<br>CAŁKIEM NIEDAWNO BO JAKIEŚ PÓŁ ROKU TEMU , MIELI<br>ŚMY JUŻ DOŚĆ . ALE DZIĘKI DOKTOROWI ZIĘTKOWIAKOWI<br>NASZE ŻYCIE NAGLE SIĘ ZMIENIŁO . MAMY TAK WIELKI<br>ZAPAŁ DO SPEŁNIENIA NASZEGO MARZENIA , TAKĄ<br>OGROMNĄ WIARE I SIŁE ŻE CZASEM MAMY OCHOTĘ<br>PRZENOSIĆ GÓRY . JEST TO CZŁOWIEK , KTÓRY<br>WYTLUMACZY WSZYSTKO TAK DOKŁADNIE , ŻE NAWET KTOŚ<br>KTO ZUPEŁNIE NA NICZYM SIE NIE ZNA TO WSZYSTKO<br>ZROZUMIE . I MA PRZY TYM ANIELSKĄ CIERPLIWOŚĆ . A<br>JEST TO CECHA , KTÓRĄ POSIADA BARDZO MAŁO MĘŻCZYZN<br>. NAPRAWDE BARDZO GO POLECAM . ODWIEDZIŁA M JUŻ<br>BARDZO DUŻO LEKARZY I ZAPEWNIAM , ŻE DOKTOR<br>ZIĘTKOWIAK NALERZY DO TYCH Z POWOŁANIA .",
           "__label__meta_plus_m"
          ],
          [
           "Mieszkam w Łagiewnikach i poszukiwała m miejsca na<br>zorganizowanie imprezy urodzinowej dla 22 osób .<br>Postanowiła m skorzystać z oferty jaką otrzymała m<br>od Menagera hotelu Lorenzo Pani Ani . Muszę<br>przyznać , że impreza przerosła moje oczekiwania .<br>Jedzenie wyśmienite i wspaniale podane , obsługa<br>bardzo miła i profesjonalna . Goście byli<br>zachwyceni i do dzisiaj gratulują wyboru miejsca<br>imprezy . Chciała by m z tego miejsca jeszcze raz<br>specjalnie podziękować całemu Personelowi hotelu<br>za profesjonalizm , życzliwość i zaangażowanie .<br>Zaproponowane przez Panią Anię nagrody w konkursie<br>karaoke w postaci figurek z belgijskiej czekolady<br>okazały się hitem ! ! ! Polecamy Hotel Lorenzo<br>jako miejsce na zorganizowanie kameralnych imprez<br>. Agata i Witek",
           "__label__meta_plus_m"
          ],
          [
           "Lekarz bardzo dobry , prężnie działający , na<br>kolanach zna się jak nikt . A co do Kliniki Ruchu<br>- nie znam bardziej profesjonalnej i lepiej<br>nastawionej do klienta placówki . Miłe i pomocne<br>panie na recepcji , które są w stanie zapisać cię<br>na rehabilitację nawet do konkurencyjnej firmy<br>rehabilitacyjnej - była m świadkiem takiej<br>sytuacji ! A wszyscy rehabilitanci super !<br>Najlepszy specjalista od barku w Warszawie -<br>Andrzej Kępczyński , jestem jego pacjentką i<br>zawsze , jak cś mi sie stanie , dzwonię do niego .",
           "__label__meta_plus_m"
          ],
          [
           "Obsługa bardzo miła i uczynna . Ich życzliwość<br>była wręcz ujmująca . Pokój przerósł nasze<br>oczekiwania zarówno pod względem czystości jak i<br>wystroju . Wbrew innym opiniom nie odczuwali śmy<br>hałasu . Wieczorami organizowano ciekawe i<br>różnorodne animacje ( pokaz magii , występ<br>regionalnego zespołu , koncert muzyczny itp . ) ,<br>nam się podobały . Posiłki były smaczne i<br>pozwalały też na spróbowanie elementów regionalnej<br>kuchni , chociaż trzymano styl europejski . Plaża<br>Kleopatry jest tak blisko , że w hotelu czuć<br>morską bryzę . Z całą pewnością tam wrócimy . P .<br>s . Pozdrawiamy Osmana , Bekira , Umita i Elif<br>oraz Kapitana dowodzącego restauracją ! : - )",
           "__label__meta_plus_m"
          ],
          [
           "Pobyt z rodzina ( 2 + 1 ) oceniam b dobrze .<br>Mielismy zarezerwowany pokoj typu Studio . Dwa<br>pokoje przedzielone drzwiami . Wyposazenie pokoju<br>odpowiadalo gwiazdkowosci hotelu . Na podlodze<br>wykladzina . Sniadania w formie bufetu ,<br>obiadokolacje podawane do stołu - z góry okreslone<br>. Na szczescie dla mniejszych dzieci istniala<br>opcja zamiany dania na bardziej „ dziecinne ” .<br>Strefa Spa - basen w porzadku , choc woda w<br>badenie zimna ! ! Tak nie wypada . Kazdy kto<br>wchodzil robil mine jak by wchodzil do Bałtyku : )<br>hotel godny polecenia cichy i polozony troszke na<br>uboczu .",
           "__label__meta_plus_m"
          ],
          [
           "wrażenia pozytywne , warte polecenia , jednak na 5<br>gwiazdek nie należy się nastawić jest to tureckie<br>coś w okolicy 4 . Czystość jak u turków ; )<br>obsługa bez zarzutu . najważniejsza jednak była<br>pogoda i plaża - tutaj oczekiwania zostały<br>zaspokojone - plaża jest czysta , woda w morzu<br>również . Baseny hotelowe czyste",
           "__label__meta_plus_m"
          ],
          [
           "Odkąd pamiętam męczyła m się z „ sińcami ” pod<br>oczami . Przed każdym wyjściem z domu musiała m<br>nakładać ogromne ilości korektora wokół oczu , aby<br>je ukryć . . . Było to moje utrapienie . Doktor<br>Rzepnikowski polecił mi zabieg Karboksyterapii<br>oraz light eyes ultra . Obydwa zabiegi powtórzyła<br>m kilkakrotnie i muszę przyznać , że efekty są<br>rewelacyjne ! Widzę ogromną poprawę . Skóra wokół<br>oczu jest rozjaśniona , a \" sińce \" praktycznie<br>zniknęły . Odnośnie Doktora Rzepnikowskiego to<br>jest on bardzo sympatyczną i zawsze uśmiechniętą<br>osobą . Przed rozpoczęciem zabiegu dokładnie<br>wytłumaczy na czym polega i jakich efektów możemy<br>się spodziewać . Wszystkim polecam Fabskin .",
           "__label__meta_plus_m"
          ],
          [
           "Dotarli śmy do Malmö przed rozpoczęciem doby<br>hotelowej . Ponieważ podróżowali śmy z dzieckiem i<br>potrzebowali śmy łóżeczka nasz pokój nie był<br>jeszcze gotowy . Jednak pracownicy recepcji szybko<br>znaleźli dla nas czysty pokój , a łóżeczko dotarło<br>kilka minut później . Naprawdę sprawnie . Pokój<br>miał dobrą wielkość , z widokiem na ulicę od<br>strony wejścia do hotelu , a ponieważ budynek<br>naprzeciwko to dom towarowy na ulicy było naprawdę<br>cicho . Koniec końców spędzili śmy tu dwa udane<br>dni . Pokój był odpowiednio duży z podwójnym<br>łóżkiem i z dużą ilością miejsca na łóżeczko .<br>Wszyscy troje spali śmy jak dzieci , a następnie<br>obudzili śmy się i zjedli śmy śniadanie , na które<br>składał się boczek , jajka , kiełbaski , duży<br>wybór pieczywa i przypraw oraz świeże owoce .",
           "__label__meta_plus_m"
          ],
          [
           "Hotelik jest usytuowany w centrum , ale nie<br>słychać hałasu ulicy . Plusów jest bardzo dużo :<br>wnętrze urządzone jest ze smakiem , na 5 +<br>zasługuje miła obsługa , czystość pokoi oraz<br>innych pomieszczeń hotelowych ! Śniadanie jest<br>urozmaicone . Ceny są preferencyjne w porównaniu<br>do standardu hotelu . Dodatkowo hotel robi ukłon w<br>kierunku stałych gości i proponuje im zniżki - np<br>. 10 zł mniej przy kolejnych pobytach : ) Planuję<br>się tam jeszcze zatrzymać w podróży służbowej !",
           "__label__meta_plus_m"
          ],
          [
           "atmosfera w hotelu powiedział by m domowa . Jak<br>się wchodzi do recepcji to panie witają miłym<br>dzień dobry aż chce się dalej wchodzić a nie jak<br>to bywa , że siedzą dziewczyny na recepcji i ani<br>me ani be . A tu zupełnie inaczej . Cały pobyt<br>również ciekawie przebiegł . Przyjadę jeszcze<br>kiedyś : )",
           "__label__meta_plus_m"
          ],
          [
           "Pobyt w tym hotelu zawsze jest udany . Przestronne<br>pokoje , bardzo miła obsługa zarówno na recepcji<br>jak i podczas posiłków zawsze smacznych i będących<br>w wystarczającym wyborze . Dla dzieci sporo<br>miejsca do zabawy i faktycznie można poczuć że<br>dziecko to dla hotelu ważny gość . Miejsce blisko<br>centrum jak i morza lecz nie ma tu zgiełku jaki<br>panuje w ścisłym centrum . Przebywamy tu często o<br>różnych porach roku i zawsze wszystko jest ok .<br>Cena adekwatna do świadczonych usług . Obiekt ma<br>już swoje lata ale jest za to bardzo przestronnie<br>i nawet przy pełnym obłożeniu nie czuje się ścisku<br>.",
           "__label__meta_plus_m"
          ],
          [
           "Przyjechali śmy z synem do szpitala z bólem<br>brzucha . Pan doktor natychmiast trafnie<br>zdiagnozował zapalenie wyrostka i przyjął nas na<br>oddział . Swoim zdecydowaniem i profesjonalnym<br>podejściem uspokoił zarówno dziecko jak i nas -<br>rodziców . Pan doktor ma niezwykle podejście do<br>dzieci , za każdym razem jak badał syna , zciagal<br>mu opatrunek czy szwy odwracał jego uwagę pełna<br>humoru rozmowa . Nie lekceważył moich pytań ,<br>chociaż teraz wiem ze te , szczególnie zadawane<br>przed operacja , nie były mądre . Zdecydowanie<br>uważam , ze Pan doktor ma talent poparty praca i<br>doświadczeniem . Pan Doktor codziennie rano pytał<br>dziecko jak się czuje i odpowiadał na pytania ,<br>widziała m szczere zainteresowanie , które<br>sprawilo , ze czulismy się dobrze i bezpiecznie .<br>Lekarz , który robił usg przed decyzja o wyjściu<br>do domu , zachwycał się pięknym założeniem szwów ,<br>i faktycznie miejsce to ładnie wyglada .<br>Szczególnie cenne dla mnie było poczucie humoru<br>Pana doktora i siła charakteru , która bije od<br>niego . Dodam , ze po operacji nie było żadnych<br>powikłań , gorączki , sączenia się rany - wyniki i<br>stan dziecka bardzo dobre . Pobyt w szpitalu<br>wspominamy bardzo dobrze , wyszli śmy bogatsi o<br>nowych znajomych , którzy leżeli z nami w sali<br>przez ten okres . Dziękuje Panie Doktorze ! Agata<br>Pilarczyk",
           "__label__meta_plus_m"
          ],
          [
           "Nocowali śmy w starszej części hotelu - spore ,<br>czyste pokoje . Ręczniki zmieniane codziennie . W<br>pokoju suszarka , sejf , TV , mała lodówka .<br>Jedzenie ( w opcji HB ) różnorodne , świeże .<br>Napoje do obiadokolacji dodatkowo płatne ( 2 , 70<br>euro za 0 . 5 wodę , 4 euro za małe wino 187 ml<br>itp ) . Duży wybór świeżych owoców . Pomocna<br>obsługa . Bardzo małe windy . Market w odległości<br>50 m ) , Carrefour ok . 150 m . Wypożyczalnia<br>samochodów i lokalne biua podróży przy samym<br>hotelu . Plaża ok . 100 metrów od hotelu (<br>niewielka , żwirowo - piaszczysta ) . Podróżowali<br>śmy z 5 - miesięcznym dzieckiem i nie mamy żadnych<br>zastrzeżeń .",
           "__label__meta_plus_m"
          ],
          [
           "Witam , szczerze polecam Pana Doktora innym<br>pacjentkom ! Jako jedyny z wielu ginekologów , do<br>których chodziła m na wizyty zarówno w ramach NFZ<br>, jak i prywatnie , nie zbagatelizował mojego<br>problemu i wypisał skierowanie do odpowiedniej<br>poradni . Dzięki temu w dniu dzisiejszym jestem po<br>stosownym zabiegu i co najważniejsze - jestem<br>zdrowa : ) Podczas wizyty zachowana pełna<br>fachowość , rzetelne odpowiedzi na zadawane<br>pytania , szczera chęć pomocy i przydatne rady .<br>Dodatkowo Pan Doktor zachęca do podzielenia się<br>swoimi wątpliwościami i chętnie w miarę swoich<br>możliwości i wiedzy je rozwiewa . Jestem bardzo<br>zadowolona z dzisiejszej wizyty , poczuła m się '<br>' zaopiekowana'' - uważam , że to bardzo ważna<br>cecha w relacji pacjent - lekarz . Pozdrawiam .",
           "__label__meta_plus_m"
          ],
          [
           "Od 17 roku życia jestem pod opieką dr Kunerta ,<br>nie jestem chora na żadną z wymienionych chorób ,<br>jednak na jeszcze inną , jednak właśnie ten lekarz<br>od samego początku okazuje mi wiele ciepła i<br>serdeczności , potrafi sprawić , że pogodziła m<br>się , że jestem chora i muszę trochę inaczej żyć<br>niż moi rówieśnicy , a także skierował mnie do<br>lekarza , który zajmuje się ludźmi chorymi na to<br>co ja . Doktor Kunert przyjmuje również w Centrum<br>medycznym Enel - med , ma prawdziwe podejście do<br>pacjenta i niesamowitą cierpliwość . Mnie<br>osobiście leczy jako neurolog . Gorąco polecam ! !<br>!",
           "__label__meta_plus_m"
          ],
          [
           "Ludzie a do jakiego doktora idziemy i nie płacimy<br>minimum 50 zł . Chyba że państwowo za pół roku .<br>Do dr . Szczesiula rano dzwonisz i tego samego<br>dnia idziesz . Kolejna rzecz jeśli decydujecie się<br>na homeopatie to musicie się uzbroić w cierpliwość<br>. A wiekszość osób które wypowiadają złą opinię to<br>2 razy były i nie widziały rezultatu bo ich<br>zdaniem każde choroba to siedmio dniowy katar i ma<br>za 7 dni być w stu procentach zdrowym . Następnie<br>słuchamy doktora bo każdy błąd w diecie zły zapach<br>itp to nawroty dolegliwości . Ale jeśli jesteście<br>cierpliwi , konsekwentnie stosujecie się do<br>zaleceń to efekt będzie stuprocentowy . Polecam dr<br>. Szczesiula jeśli macie naprawde kłopoty z<br>zdrowiem , mojemu dziecku pomógł dr . i pomoże tym<br>którym nie pomogło tradycyjne leczenie .",
           "__label__meta_plus_m"
          ],
          [
           "Ponownie wybrali śmy ten hotel na nocleg przed<br>wyjazdem na lotnisko . Miła i szybka obsługa przez<br>pracowników recepcji . Szybki transport z lotniska<br>- po wykonaniu telefonu na recepcję a na lotnisko<br>- po zgłoszeniu na recepcji , bez dodatkowej<br>opłaty . W pokoju dostępny internet ( wifi ) .<br>Pokoje obszerne , czyste , wyposażone w czajnik z<br>zestawem herbat . Polecam .",
           "__label__meta_plus_m"
          ],
          [
           "Polecam Panią doktor , jako pierwsza z wielu<br>lekarzy wykryła przyczynę nawracających stanów<br>zapalnych , kazała zrobić wymaz , zapisała<br>antybiotyk i od roku czuję się jak nowo narodzona<br>( jej diagnoza była trafiona w 10 ) . Poza tym<br>Pani doktor jest bardzo miła , wszystko spokojnie<br>tłumaczy i nie zdziera kasy z pacjentek ( gdy<br>przyszła m z wynikami na drugą wizytę , za wizytę<br>, badanie i przepisanie leku zapłaciła m tylko 20<br>zł ) . Polecam !",
           "__label__meta_plus_m"
          ],
          [
           "Ogólne wrażenia b . dobre . Hotel ładny i chyba<br>najwyższy w okolicy . Bardzo przyjemny wypoczynek<br>. Animacje trochę słabe ale nadrabiają barmani i<br>obsługa hotelowa . Lokalizacja jest w bardzo<br>spokojnym i mało ruchliwym miejscu na wyspie . W<br>okolicy ładna plaża De Muro ( jakieś 20 minut<br>autobusem ) . Alkohole oryginalne !",
           "__label__meta_plus_m"
          ],
          [
           "Przemiły dokładny lekarz rozmawia z pacjentem jak<br>trzeba nic nie obiecuje przyczynę przebieg i<br>zakończenie choroby tłumaczy dokładnie jestem<br>dzień po zabiegu Termolezji jak będzie dalej<br>zobaczymy na razie 6 tygodni zwolnienia ale myślę<br>że będzie bardzo dobrze każdemu polecam dr .<br>Łukasza Antolaka . Jedyny lekarz z jakim przez<br>ostatnie 10 lat rozmawiał em mając problemy z<br>kręgosłupem który spojrzał na wyniki badań nie w<br>opisie a wziął płytkę z rezonansu i sam określił<br>moją chorobę i co się tam przy tym moim<br>sfatygowanym kręgosłupie dzieje polecam godny<br>zaufania brakuje nam takich jak on lekarzy<br>pozdrawiam wszystkich po zabiegu Termolezji",
           "__label__meta_plus_m"
          ],
          [
           "Bardzo dobry lekarz , diagnostyka trafna , szybka<br>decyzja , precyzyjny zabieg i po bólu . Rzeczowy ,<br>merytoryczny , po prostu fachowiec . Po zabiegu 2<br>tygodnie / L 5 - 6 / i funkcjonuje całkiem nieźle<br>. Wszyscy , których operował razem ze mną i<br>wcześniej są bardzo zadowoleni z zabiegów i<br>wracają do zdrowia . Żadnych powikłań<br>pooperacyjnych . Szwy wykonane majestatycznie .<br>Naprawdę polecam doktora Janusza , to świetny<br>neurochirurg .",
           "__label__meta_plus_m"
          ],
          [
           "Położony kilka minut spaceru od dworca Termini<br>stanowi idealny punkt wypadowy do podróży po<br>Rzymie , miła obsługa , zadbane , komfortowe<br>pokoje , urozmaicone śniadania , świetna kawa ,<br>bezpłatny internet dostępny w pokojach - same<br>zalety , żadnych zastrzeżeń , Był to mój kolejny i<br>na pewno nie ostatni pobyt w tym hotelu ,",
           "__label__meta_plus_m"
          ],
          [
           "Spędzili śmy naprawdę fajny weekend w tym hotelu ,<br>świetne miejsce wypadowe w każdym kierunku . Miła<br>obsługa choć widać i czuć , że hotel jest świeżo<br>otwarty , to możemy go śmiało polecić .<br>Mankamentem jest na pewno usługa transportowa .<br>Podróż na lotnisko taksówką zamówioną przez hotel<br>to udręka , spóżniona taksówka , drożej niż<br>ustalono , ogólnie mówiąc brud i kierowca mądrala<br>, to ponad siły . Ogólnie polecam ale niech ktoś<br>się zainteresuje tą firmą taxi .",
           "__label__meta_plus_m"
          ],
          [
           "Najlepszy Sylwester na jakim była m . Nie ma nawet<br>jednej rzeczy do której można się przyczepić .<br>Obsługa hotelu bardzo miła i pomocna , organizacja<br>imprezy bardzo dobra . Orkiestra bez zarzutu grali<br>różnorodną muzykę ( dla każdego coś dobrego : ) .<br>Jedzenie bardzo smaczne i urozmaicone , nawet by m<br>powiedziała że za dużo . Pokoje też przytulne i co<br>najważniejsze wszędzie czysto i zadbanie . Z<br>pewnością nie tam wrócę i polecam : )",
           "__label__meta_plus_m"
          ],
          [
           "Ja była m tylko na konsultacji u doktora<br>Ciesińskiego , więc nie mogę się wypowiadać na<br>temat efektów operacji , ale co do zachowania<br>doktora na wizycie konsultacyjnej nie mogę się<br>zgodzić z waszymi ocenami . Konsultowała m się w<br>sprawie plastyki powłok brzucha . Doktor wcale<br>mnie nie \" spławił \" . Wręcz przeciwnie .<br>Dokładnie ocenił sytuację , wszystko mi<br>wytłumaczył , opisał cały zabieg . Wizyta wcale<br>nie trwała 5 min tylko pół godziny , ale gdyby<br>nawet trwała 5 min to wydaje mi się , że przecież<br>nie chodzi o czas trwania wizyty tylko o to żeby<br>się wszystkiego dowiedzieć i żeby lekarz dobrze<br>ocenił sytuację . Widocznie ma na tyle duże<br>doświadczenie , że nie potrzebuje spędzać całego<br>dnia z pacjentem . Pozdrawiam .",
           "__label__meta_plus_m"
          ],
          [
           "Jestem zadowolony z wizyty , która była szybka ,<br>konkretna a diagnoza trafiona . Pomimo rejestracji<br>poprzez Internet na ul . Zagórską 20 ,<br>przypominający sms cały czas mnie informował , że<br>wizyta odbędzie się w Centermed ul . Piekoszowska<br>126 ? . To ciekawe bo lekarz tam nigdy nie<br>przyjmował . To jedyny minus związany z obecną<br>techniką .",
           "__label__meta_plus_m"
          ],
          [
           "W hotelu Faleza mieli śmy przyjemność gościć<br>cztery razy , w różnych porach roku . Urzekło nas<br>położenie hotelu , doskonała dbałość o szczegóły<br>wystroju . Bardzo sympatyczny personel . Czysto ,<br>miło i smacznie . No własnie i tu wkrada się<br>monotonia . Posiłki są smaczne , a karta w<br>oczywisty sposób ograniczona . Jednak nic w niej<br>nie ulega zmianie . Od lat stabilna . Czasem<br>chciało by się jakiejś zmiany . . Ogólne wrażenia<br>jednak bardzo pozytywne .",
           "__label__meta_plus_m"
          ],
          [
           "Lekarza polecam , ponieważ ustawił mi insulinę (<br>wykryta cukrzyca typ 1 ) czego nie udało ise w<br>szpitalu na Banacha . Co prawda wychodzi drożej ,<br>ale przynajmniej jest OK . Pani doktor ma duże<br>doświadczenie , jakkolwiek nie miałem kontaktu z<br>innymi specjalistami oprócz wymienianej Pani<br>Doktor i lekarzy z Banacha . Pozdrawiam M .",
           "__label__meta_plus_m"
          ],
          [
           "W maju uległa m wypadkowi na uczelni , w wyniku<br>którego dość mocno potłukła m prawe kolano . Na<br>skutek urazu nie mogła m ruszać kolanem a co<br>dopiero stanąć na nogę . Przez około 2 miesiące<br>chodziła m o kulach . Od wypadku tułała m się po<br>różnych lekarzach , miała m mnóstwo badań , leków<br>i chodziła m na rehabilitacje ale to nie pomogło .<br>Oczywiście zeszły mi liczne krwiaki i siniaki z<br>kolana ale nadal miała m trudności z chodzeniem .<br>Dopiero po jakimś czasie zaczęła m chodzić na<br>terapie manualna do pana Piotra i muszę szczerze<br>przyznać , że już po pierwszej wizycie zauważyła m<br>poprawę . Po kolejnych wizytach było coraz lepiej<br>. Według mnie pan Piotr wykonuje swoją pracę<br>sumiennie , zadaje wszelkie pytania odnośnie urazu<br>i szuka najlepszego rozwiązania . Polecam każdej<br>osobie po urazie na wizytę u pana Piotra .",
           "__label__meta_plus_m"
          ],
          [
           "Jeśli macie Panie ochote pogadać , to idżcie na<br>bazar , a nie do lekarza . Doktor ma leczyć , a<br>nie patrzeć pacjentkom w oczy . On poprostu<br>pracuje , zadużo pracuje . Jestem pacjentką Pana T<br>. Milewicza od kilku lat , faktycznie różne ma<br>nastroje , ale czy my jesteśmy na codzień idealne<br>? Jest bardzo dobrym specjalista . Jest jedynym<br>lekarzem , który zdiagnozował u mnie chorobę .",
           "__label__meta_plus_m"
          ],
          [
           "Bardzo przyjemny hotel w cichym i spokojnym<br>miejscu . Bardzo dobrze wyposażone pokoje m.in w<br>lodówkę , zestaw do kawy i herbaty i sejf .<br>Wygodne łóżko i komfortowa łazienka . Wszystko<br>nowe , a czystość na bardzo wysokim poziomie .<br>Restauracja z bardzo dobrym jedzeniem w<br>przystępnej cenie . Obsługa bardzo miła i pomocna<br>. Szybko odpowiadają na maile , Co jest wielkim<br>pozytywem . Ogólnie standard na poziomie 4 * .<br>Jedyny minus to nieco utrudniony dojazd<br>spowodowany przebudową drogi S8 ale to już nie<br>wina hotelu . Nie mniej nawigacja w telefonie<br>prowadzi dość precyzyjnie .",
           "__label__meta_plus_m"
          ],
          [
           "DROGIE PANIE POLECAM ! ! ! ! ! ! DR . ISMAEIL<br>SALLOUM JEST LEKARZEM GODNYM ZAUFANIA . POTRAFI<br>ROZMAWIAC Z PACJETKA TAK ZEBY BYLO DLA NIEJ<br>WSZYSTKO ZROZUMIALE.JA CHODZE OD KILKUNASTU LAT DO<br>DOKTORA KTURY JAKO JEDYNY DAL MI NADZIEJE I<br>WYLECZYL MNIE - - - BEZ OPERACJI - - - MIALAM<br>OGROMNEGO ( wielkosci pomaranczy ) TORBIELA NA<br>JAJNIKU I Z CZYM SIE WIAZALO TO PRZEWLEKLE<br>ZAPALENIE PRZYDATKOW ( niesamowicie bolesne ) A<br>ZOSTALA TYLKO BLIZNA , . WIELU INNYCH LEKARZY<br>KIEROWALI MNIE NA OPERACJE I MOWILI ZE NA TO LEKU<br>NIE MA . DOKTOR SALLOUM POTRAFIL ZAJAC SIE MNA<br>PROFESJONALNIE I WYLECZYL.OD 10 LAT NIE MAM<br>PROBLEMOW . Z PODZIEKOWANIAMI DLA PANA DOKTORA -<br>STALA PACJETKA",
           "__label__meta_plus_m"
          ],
          [
           "Pani doktor anioł . . . ze świecą szukać w<br>dzisiejszych czasach tak wspaniałych lekarzy .<br>Przyszlam do pani dr z prośbą o konsultacje , bo<br>miała m wrażenie że jestem źle leczona przez<br>innego endokrynologa . . . moja intuicja mnie nie<br>zawiodła . Pani dr poświęciła mi 45min tłumacząc<br>wyniki badań i upewniajäc się czy na pewno<br>wszystko zrozumiała m . Zostalam wreszcie zbadana<br>, bo od pół roku żaden lekarz tego nie uczynił .<br>Od dawna chodzę od gabinetu do gabinetu , wydała m<br>już tysiące złotych na wizyty , badania i leki ,<br>ale tak wspaniałej Pani doktor jeszcze nie miała m<br>okazji spotkać . Po spotkaniu z panią doktor wraca<br>mi nadzieja , że istnieją jeszcze lekarze z<br>powołania .",
           "__label__meta_plus_m"
          ],
          [
           "Hotel mógł by zostać nieco odświeżony ale jest<br>nadal bardzo atrakcyjny . Codziennie sprzątane<br>pokoje , czyste ręczniki , pościel . Mieszkali śmy<br>w wygodnym pokoju rodzinnym z dużym umeblowanym<br>tarasem . Jedzenie bardzo dobre , urozmaicone ;<br>każdy znajdzie tam coś dla siebie . Wspaniały Aqua<br>park z atrakcjami dla każdego , niezależnie od<br>wieku . Bezpośrednia bliskość plaży . Bardzo miły<br>i pomocny personel zarówno w recepcji jak i w<br>restauracji . Wiele atrakcji dla dzieci . Szczerze<br>polecam .",
           "__label__meta_plus_m"
          ],
          [
           "Pokoje bardzo zadbane , czyste i ładne . Miła<br>obsługa . Dobrze zlokalizowany - blisko centrum<br>miasta . Piękne widoki z pokoi . Jedyne co<br>przeszkadza to hałas dobiegający zza okien .<br>Ogólnie hotel oceniam pozytywnie , dobre pierwsze<br>wrażenie . Z pewnością nie zawiodł em się po<br>przyjeździe . Polecam odwiedzić ten hotel podczas<br>pobytu w Pradze .",
           "__label__meta_plus_m"
          ],
          [
           "Jestem w 37 tygodniu ciąży . Dzisiaj była m<br>pierwszy raz u Dr Szymańskiego w Lux Med . Bardzo<br>przyjemna wizyta w miłej atmosferze . Doktor sam<br>pytał o moje samopoczucie , odpowiadał na<br>wszystkie pytania . Bez problemu wypisał<br>skierowanie na USG i receptę , którą zawsze<br>dostaję od chirurga . Polecam w 100 % ; )",
           "__label__meta_plus_m"
          ],
          [
           "Wybrali śmy się do tego hotelu w październiku 2012<br>r . całą rodziną z dwójką naszych dzieci w wieku<br>20 i 18 lat , które wzięły ze sobą chłopaka i<br>kolegę . Zarezerwowali śmy go około 5 tygodni<br>wcześniej i postanowili śmy zatrzymać się jeszcze<br>raz w miejscu , w którym byli śmy 17 lat temu .<br>Cóż , hotel nie zmienił się zbytnio , choć przejął<br>hotel obok , dzięki czemu zyskał dodatkowy basen<br>dla dorosłych . Rozrywka była nadal na tym samym<br>wysokim poziomie , a jedzenie w porządku , ale nie<br>najlepsze , jakie jedli śmy , chociaż mieli śmy<br>duży wybór i było go wystarczająco . Pokoje były<br>odpowiedniej wielkości i czyste , a jeśli pokój<br>wychodzi na basen , są z niego piękne widoki na<br>zatokę . W sumie hotel jest świetny i podobało nam<br>się tam przez cały tydzień . Hotel położony jest<br>około 20 minut spacerem od centrum San Antonio , a<br>więc wygodnie dla tych , którzy chcą odwiedzać<br>bary i kluby ( choć większość była zamknięta ,<br>kiedy tam byli śmy ) . Po wyspie łatwo podróżuje<br>się miejscowymi autobusami , więc nie trzeba<br>wynajmować samochodu . Czy zatrzymali by śmy się<br>ponownie w hotelu Tanit ? Tak , ponieważ położony<br>jest w spokojnej części kurortu , ale blisko , co<br>spodoba się młodszym , którzy chcą wychodzić na<br>miasto .",
           "__label__meta_plus_m"
          ],
          [
           "Hotel nie należy do najnowszych , lecz widać , ze<br>jest zadbany oraz odremontowany . Znajduje się<br>przy głównej ulicy w Alanyi , bardzo blisko do<br>różnego rodzaju kafejek oraz barów , 7 min do<br>kolejki którą można dojechać na wzgórze gdzie<br>znajdują sie ruiny zamku , bardzo popularne dla<br>turystów oraz jedna z popularnych tam jaskini<br>Damlataş . Hotel znajduje sie równiez przy samej<br>plaży Kleopatry ( najpopularniejsza plaza na<br>Tureckiej rivierze ) . Pokoje nie są za duże ,<br>lecz każdy posiada klimatyzację , która bez<br>problemu mozna sterować . Pokoje sprzątane<br>codziennie . Balkon z pokoju widokiem na morze .<br>Co do posiłków , wszystko było świeże ,<br>urozmaicone produkty na śniadania , kolacja bogata<br>w różnorodne miejscowe posiłki ( Była m tam ze<br>swoim mężem , który pochodzi z Turcji , powiedział<br>, że kucharze gotują bardzo regionalne potrawy ,<br>należące do tego miejsca . WSZYSTKO PYSZNE ! piszę<br>to dlatego , że nóż mi się w kieszeni otwierał ,<br>gdy czytała m poprzednie recenzje odnośnie<br>jedzenia , podejrzewam , że goscie za niewielką<br>cenę oczekiwali kawioru ze złotem ) . Obsługa miła<br>, manager w recepcji przyjazny , pomoże doradzi ,<br>podpowie , Pan opiekujący się barem na basenie<br>bardzo miły , mówiący w 3 językach , z wielka<br>starannoscią dbał o gosci . Basen hotelowy czysty<br>, oddzielone miejsce dla mniejszych dzieci . Hotel<br>posiadał własne leżaki na plaży , ktore mozna bylo<br>wypożyczyc za jedyne 10TL czyli mniej niż 10zl na<br>cały dzień , na plaży rownież sympatyczna obsługa<br>opiekująca sie leżakami i gośćmi . Jedyne do czego<br>mogła by m się przyczepić to fakt , lodówka w<br>pokoju chłodzi bardzo słabo , oraz znalezienie<br>wolnego leżaka przy basenie w godzinach porannych<br>graniczy z cudem , ponieważ niektorzy goscie<br>zostawiaja tam swoje rzeczy by zająć leżak na<br>pózniej , a czasami nawet się przy basenie nie<br>pojawiają , ale to raczej nie wina hotelu a<br>mentalności niektorych gości . Ogolna ocena na 6 ,<br>tanio , hotel zadbany , jedzenie dobre , obsługa<br>sympatyczna , świetna lokalizacja . POLECAMY",
           "__label__meta_plus_m"
          ],
          [
           "Zanim przejdę do opinii n . t . Pana Doktora to<br>kilka słów o obsłudze w Plejadach . Jestem bardzo<br>zadowolony z podejścia do klienta . Personel<br>bardzo miły i stara się pomóc we wszelki możliwy<br>sposób , tak aby ułatwić życie pacjentowi . W tym<br>miejscu duża piątka ! ! ! Co do Pana Doktora ,<br>robił USG stawu biodrowego mojej miesięcznej córce<br>. Ma niesamowitą cierpliwość do dzieci . Pomimo ,<br>że dziecko podczas zabiegu kilkakrotnie załatwiało<br>się na stół Pan doktor traktował ten fakt z dużą<br>wyrozumiałością . Na koniec , jako że jestem<br>początkującym tatusiem , pomógł mi zawinąć córkę w<br>pampersa i ubrać . Oczywiście nie wspominam tutaj<br>o profesjonalizmie Pana Doktora bo jest to sprawa<br>oczywista . Wytłumaczył mi wszystko co i jak , tak<br>że nawet laik taki jak ja wszystko zrozumiał .<br>Polecam Plejady wszystkim - są w porządku i będę<br>tam wracał .",
           "__label__meta_plus_m"
          ],
          [
           "Hotel o znanym i pewnym standardzie . Czysto ,<br>schludnie i bez stresów . Blisko do lotniska ,<br>oddalony od centrum miasta . Zatrzymali śmy się z<br>grupą znajomych na jedną noc i wszystko było jak<br>trzeba . Pokoje o przyzwoitych rozmiarach ,<br>wygodne łóżko , czysta łazienka i bezpłatny<br>internet wifi . Na miejscu parking . Śniadania<br>przyzwoite ale bez szaleństw . Polecam jako<br>przystanek w podróży .",
           "__label__meta_plus_m"
          ],
          [
           "Postanowił em napisać , być może ktoś z<br>przewlekłym zapaleniem zatok , objawiajacym sie<br>czestymi przeziebieniami , zatkanym od lat nosem i<br>bolaca glowa to przeczyta i zdecyduje sie na<br>zabieg endoskopowej operacji zatok . Nie zaluje ze<br>wydalem 5 . 000 zl . bo tyle kosztuje taka<br>operacja w Medi Clinicue . W przeciwnym wypadku<br>musiał by m w szpitalu czekac na ten zabieg 1 , 5<br>roku . Jesli masz przewlekle zapalenie zatok to<br>nie zaluj , sprzedaj samochod lub co innego i zrob<br>sobie endoskopowa operacje , nie bedziesz zalowac<br>( ja jestem aktualnie bezrobotnym i nie zaluje )<br>Gdy zaciagniesz sie powietrzem przez czsty<br>udrozniony nos zapomnisz o wydanej kasie . Po<br>przebytej operacji nie oczekuj odrazu na efekty ,<br>u mnie dopiero po dwuch tygodniach poprawila sie<br>zdecydowanie wentylacja w nosie i zaczela<br>intensywnie splywac ropa z zakrzepnieta krwia . Po<br>przebytym zabiegu wszystkie kontrolne wizyty u<br>Pani Dr . Paradowskiej ( u mnie byly trzy ) sa<br>bezplatne . REASUMUJAC - POLECAM - MEDI CLINICUE I<br>DR . PARADOWSKA SA THE BEST",
           "__label__meta_plus_m"
          ],
          [
           "Nasyceni zwiedzaniem Paryza na noc wracalismy do<br>Timhotel , ktory przyjal nas sympatyczna ,<br>usmiechnieta obsluga . Pokoje male lecz bardzo<br>przytulne . To sprawialo , ze czulismy sie swojsko<br>i bezpiecznie . Utrzymanie czystosci nie budzi<br>zadnych zastrzezen . Czesto w hotelach o wyzszym<br>standarcie poziom utrzymania czystosci ma wiele do<br>zyczenia ale nie tu w Timhotel . Sniadania smaczne<br>. Lokalizacja hotelu wspaniala , to przeciez<br>Montmartre . Serdecznie polecam .",
           "__label__meta_plus_m"
          ],
          [
           "Był delikatny , pokazywał mi na usg jajniki ,<br>śmiał się . Mówił mi dokładnie co robi , czego<br>szuka i ile to będzie jeszcze trwało . Nagle<br>weszła pielęgniarka informując , że mają<br>dziewczynę z tak ostrymi bólami , że mdleje i<br>wychodząc nie zamknęła drzwi . Widział moje<br>przerażenie . Przeprosił , zamknął drzwi wcześniej<br>zwracając uwagę pielęgniarce . Powiedział , że<br>tamta musi poczekać , bo aktualnie bada pacjentkę<br>. Widziała m , że nie spieszy się , potraktował<br>mnie na prawdę jak kobietę , nie przedmiotowo i z<br>pośpiechem . Bardzo była m zadowolona , muszę<br>poszukać gdzie przyjmuje gdy będę wybierała się<br>następnym razem .",
           "__label__meta_plus_m"
          ],
          [
           "Czytając te opinie , trudno sie nie zgodzić , choć<br>ja osobiście , przez zespół prof . Niżankowskiej ,<br>została m własciwie pozbawiona widzenia w jednym<br>oku . No ale cóż . . zdarzyło sie powikłanie i<br>widzenie w oku straciła m . Stało sie to jednak w<br>klinice okulistycznej / ten sam zespół lekarzy ! -<br>wtedy jeszcze nie było Spektrum . / Potem dr dr<br>Oficjalska i Zając przez długie miesiące zajmowały<br>się mną / moim okiem / bardzo serdecznie . . . no<br>cóż , ale wzroku nie odzyskała m . Jednak obie<br>bardzo polecam",
           "__label__meta_plus_m"
          ],
          [
           "Spędzili śmy z wnukami długi weekend w Raju .<br>Miejsce przepiękne , widoki urzekające . Hotel<br>czysty , zadbany , sympatyczna obsługa , śniadania<br>wyborne , różnorodne i smaczne . Basen mały , ale<br>sympatyczny z ciepłą wodą , można pływać z małymi<br>dziećmi . Pokoje nie duże , ale czyste i<br>komfortowo wyposażone . W hotelu nie brakuje<br>atrakcji dla dorosłych : kręgle , tenis stołowy ,<br>piłkarzyki , bilard . Byli śmy z maluszkami więc<br>brakowało nam dla dzieci pokoju zabaw , na<br>szczęście była ładna pogoda więc korzystali śmy z<br>placu zabaw i małego ZOO , które było nie lada<br>atrakcją . Polecam ten hotel ( niekoniecznie z<br>przedszkolakami ) .",
           "__label__meta_plus_m"
          ],
          [
           "jest bardzo dobrym lekarzem miłu ciepły troszczy<br>się o swoje pacjętki tylko , że ja chodze do niego<br>w gdańsku i nie wiem czy to jest ten sam lekarz `<br>` ` Ocena została zmieniona na \" Polecam \" . Powód<br>: Zbyt lakoniczna argumentacja do wystawienia<br>najwyższej oceny . ` ` `",
           "__label__meta_plus_m"
          ],
          [
           "Początkowo obawiała m się , że ta pani terapeutka<br>jest zbyt młoda ( ja mam 47lat ) więc nie zrozumie<br>moich problemów . Na szczęście się myliła m .<br>Rozumie , ale nie \" jęczy \" razem ze mna , tylko<br>wskazuje drogę . Nie zawsze była m zachwycona tym<br>, czego się o sobie dowiedziała m , ale wiem , że<br>aby zaakceptować siebie Pani Karolina musiała mi<br>powiedzieć nie to co CHCIAŁA M usłyszeć ale to co<br>POWINNA M . Ma dziewczyna charakter ! A dzieki<br>niej , ja też będę miała ! ! ! Wierzę w to , że<br>nie jest dla mnie - mimo wieku - zbyt pózno .<br>Polecam z całego serca wszystkim , którzy myślą ,<br>że na wszystko już za pózno . Maria",
           "__label__meta_plus_m"
          ],
          [
           "O jakości tego hotelu niech świadczy fakt , że<br>żeby tu dotrzeć muszę przebyć prawie 5000<br>kilometrów . Był em tutaj we wszystkich porach<br>roku . Spędzał em tu czas z rodziną , przyjaciółmi<br>, był em na spotkaniu biznesowym i bawił em się na<br>Balach Sylwestrowych . Za każdym razem było<br>wyjątkowo . I tym razem się nie zawiodł em . Dla<br>tych którzy tu jeszcze nie dotarli kilka istotnych<br>informacji . Wspaniała lokalizacja z fantastycznym<br>widokiem , blisko wyciągu na Jaworzynę ( ważne<br>zimą - narty ) , pokoje super czyste z dodatkowym<br>wieczornym serwisem , restauracja ze śniadaniami z<br>których ciężko się wychodzi ( domowe wędliny i<br>chleb ) , bar z palarnią cygar i alkoholami z<br>całego świata ( polecam kompilację japońskiej<br>whisky i dobrego cygara ) , centrum spa z basenem<br>z którego można podziwiać narciarzy szusujących na<br>stoku i instytut kosmetyczny z sewisem na<br>najwyższym poziomie . To wszystko ważne , jednak o<br>wyjątkowości tego miejsca stanowią ludzie tutaj<br>zatrudnieni w pełni profesjonalni i mili .<br>Odwiedził em wiele wysokiej klasy hoteli na całym<br>świecie , jednak serwis oferowany przez pesonel<br>Erisa nie ma sobie równych . Pozazdrościć<br>właścicielom .",
           "__label__meta_plus_m"
          ],
          [
           "Bardzo miły hotelik . Atmosfera rodzinna . Byli<br>śmy w Klimku w styczniu w ferie . Bardzo miły<br>personel . Panie na recepcji zawsze doradziły<br>gdzie pojechać lub jaki jest plan zajęć w danym<br>dniu dla dzieci . Do stoku w Wierchomli jest ok 10<br>minut jazdy samochodem . Nie ma czajników w pokoju<br>ale zawsze można poprosić o gorącą wodę w termosie<br>. Polecam basen gdzie jest ratownik i super rura<br>do zjeżdżania dla dzieciaków . Warto też<br>skorzystać ze SPA ( ceny całkiem normalne ) . W<br>barze są kręgle ale bardziej dla osób które chcą<br>sobie się zrelaksować lub dla dzieci . Jest też<br>bilard . Na obie gry trzeba robić rezerwację .<br>Jedzenie było dobre szło się najeść . Polecam ten<br>hotel na ferie w górach .",
           "__label__meta_plus_m"
          ],
          [
           "Bardzo sympatyczny terapeuta , z zasobem bardzo<br>dużej wiedzy . . . to moja pierwsza wizyta ,<br>jestem dość skomplikowanym przypadkiem z dużą<br>ilością pracy w przyszłości , jednak Panu<br>Bartoszowi udało się poprawić i to już na<br>pierwszej wizycie , problemy z moim stawem<br>skroniowo - żuchwowym . . . fakt , do przyjemnych<br>to nie należało , ale efekt jest - po raz pierwszy<br>zjadła m normalne śniadanie bez żadnego bólu . . .<br>Ma takie \" ludzkie \" podejście do pacjenta , dużo<br>też tłumaczył i pytał , co mi się bardzo podobało<br>, można się było dowiedzieć ciekawych rzeczy , nie<br>zerkał co chwilę na zegarek , nie spieszył się ,<br>bo ma kolejnego pacjenta . . . jak najbardziej na<br>plus , polecam wszystkim , którzy mają nietypowe<br>objawy , bolącą każdą część ciała - ten terapeuta<br>pomoże .",
           "__label__meta_plus_m"
          ],
          [
           "Dużo podróżuję służbowo i mam okazję porównywać<br>hotele z różnych półek cenowych . W NOVOTELU na ul<br>. Wyścigowej mile zaskoczyła mnie serdeczność i<br>prawdziwe zainteresowanie mną jako Klientką . Mimo<br>umiarkowanych cen pobytu , Personel jest w stałej<br>gotowości do pomocy , reakcje na prośby są<br>natychmiastowe , a ustalenia dotrzymywane . Czuć<br>doświadczenie i profesjonalizm , ale też czysto<br>ludzką życzliwość . Nie muszę biegać po lobby w<br>poszukiwaniu kogokolwiek z obsługi jak to zdarza<br>się w niektórych hotelach / bez względu na ilość<br>gwiazdek ! ! / . Szczególnie polecam przywitać się<br>z Panem Zdzisławem , który dba o Gości jakby<br>przyjmował ich we własnym domu . Wracam tam i<br>polecam Wszystkim .",
           "__label__meta_plus_m"
          ],
          [
           "Do Pani Doktor zapisała m się jakiś czas temu . Z<br>perspektywy czasu uważam , że była to moja<br>najlepsza decyzja w życiu . Pani Ania jest osobą ,<br>która wkłada w swoją pracę 100 % siebie , jest<br>osobą pełną pozytywnej energii , którą zaraża<br>wszystkich wokół . Jest to bardzo mądra osoba ,<br>empatyczna . Myślę , że jest jedyna w swoim<br>rodzaju i najlepsza . Efekty mówią same za siebie<br>. Z idealnie dobraną dietą , gdzie NIGDY nie<br>chodziła m głodna i pysznymi propozycjami posiłków<br>udało się - 6kg w miesiąc . : ) Każda wizyta<br>przebiega w baaardzooo miłej atmosferze ! Pani<br>Doktor ZAWSZE znajduje rozwiązanie każdego<br>problemu i bardzo wspiera i motywuje , co jest<br>niezbędne , aby wytrwać . Serdecznie polecam i<br>każdemu , kto zacznie życzę wytrwałości ! !<br>Pozdrawiam . : )",
           "__label__meta_plus_m"
          ],
          [
           "10 . 10 . 2013 była m operowana przez dr .<br>Krzysztofa Tomasiewicza na odcinek lędźwiowy ,<br>operacja przebiegła pomyślnie , teraz wracam do<br>sprawności fizycznej . Bardzo cieszę się że<br>trafiła m właśnie do pana dr . Tomasiewicza ,<br>świetny fachowiec , uprzejmy , zawsze odbiera<br>telefon , gdy nie może odebrać oddzwania , pacjent<br>czuje się otoczony troskliwą opieką lekarska od<br>samego początku . Świetnie zobrazował moją chorobę<br>, gdzie do tej pory inni wprowadzali mnie w błąd (<br>po prostu niewiedza ze strony lekarzy ) , co<br>pozwoliło mi zaufać temu lekarzowi i poddać się<br>jak najszybciej operacji , od roku była m na<br>silnych środkach przeciwbólowych ( ból nogi ,<br>drętwienie , uszkodzenie nerwu , nieprzespane noce<br>) . Polecam tego lekarza , bardzo dobry fachowiec<br>. . . . . . . . Bardzo dziękuję panie doktorze . .<br>. . . . . . . . . . . pozdrawiam pana pacjentka<br>Aneta . M .",
           "__label__meta_plus_m"
          ],
          [
           "Wielokrotnie był em na konsultacjach u Doktora z<br>niejako następstwami wyczynowo uprawianego sportu<br>. Choć bezpośrednio mi nie pomógł , to jednak JEGO<br>HiPOTEZY okazały się najbliższe prawdzie , i gdyby<br>nie On i prawdopodobnie wciąż nie pozbył by m się<br>dolegliwości . Kluczem okazało się rehabilitacja i<br>stopniowy powrót do AMATORSKIEGO sportu .<br>Dolegliwości bólowe kończyn rzeczywiście były od<br>niestabilności kręgosłupa .",
           "__label__meta_plus_m"
          ],
          [
           "Zdecydowanie polecam . Gospodarze gościnni . Mimo<br>bariery językowej ( nie mówią praktycznie po<br>angielsku ) zapewniają rodzinną atmosferę ze<br>wspólnym wieczorem przy winie po przyjeździe .<br>Cena do komfortu pokoju oraz lokalizacji korzystna<br>. Wrażenie robi ogród / taras pomiędzy pokojami .<br>Plus za widok i drzewa pomarańczy . Na prawdę<br>można się zrelaksować . Pokoje komfortowe , czyste<br>a jednocześnie oryginalne i urocze . Na pewno<br>skorzystamy przy kolejnej wizycie w Berat .",
           "__label__meta_plus_m"
          ],
          [
           "Byli śmy w Rzymie razem z przyjaciółmi w drugim<br>tygodniu listopadaZależało nam na dobrym położeniu<br>hotelu , ponieważ zaplanowali śmy w pierwszym dniu<br>zwiedzanie Rzymu , w drugim dniu zwiedzanie<br>WatykanuNiestety na samym początku spore<br>zamieszanie związane z opłatą za transfer z<br>lotniska , która musieli śmy zapłacić , natomiast<br>spowodowane to było zbyt późno wysłaną odpowiedzią<br>ze strony hotelu . Odpowiedź o opłacie za transfer<br>dostali śmy kiedy siedzieli śmy już w<br>samolocieNatomiast na wysokości zadania stanął<br>menager hotelu . Wyjaśnił wszystko i<br>zrekompensował nam to w transferze powrotnymSam<br>hotel ma bardzo dobre położenie , wszystkie<br>atrakcje są w bardzo bliskiej odległości ,<br>znajduje się w samym centrum Rzymu . Pomimo tego<br>ze nie jesteśmy typowymi piechurami , spokojnie<br>dali śmy sobie radę . Hotel czysty , codziennie<br>sprzątany . Śniadania smaczne i świeże , każdy<br>znajdzie tam cos dla siebie . Bardzo przyjazny<br>personel , szczególne podziękowania dla pana<br>Giuseppe który wyjaśnił sprawę transferu . W<br>pobliżu hotelu znajduje wiele małych restauracji ,<br>które oferują naprawdę nie drogie i smaczne<br>posiłki , jest wiele kawiarni i kilka małych<br>supermarketów . Szczerze polecam hotel dla osób<br>które jadą do Rzymu z myślą o zwiedzaniu",
           "__label__meta_plus_m"
          ],
          [
           "Wybrała m to miejsce na jesienny weekend . Hotel<br>bardzo ładny , zadbany . Obsługa hotelowa bardzo<br>miła , kompetentna i przyjaźnie nastawiona do<br>gości . Trafili śmy tu dzięki innym opiniom i nie<br>rozczarowali śmy się . Fajny basen , ręczniki w<br>pokoju zarówno do my ja jak i kąpielowe na basen (<br>nie zgadzam sie z opinią jakoby ich brakowało ) .<br>Jedzenie bardzo dobre , śniadania urozmaicone a<br>obiadokolacje świeżutkie i ładnie podane .<br>Otoczenie hotelu to park z ławeczkami ( nie udało<br>nam się go przejść z powodu innych atrakcji ,<br>ktore mieli śmy zaplanowane ) . SPA nie jest<br>jakieś \" wypasione \" jeśli chodzi o klimat pokoju<br>i wystrój ale osoby przeprowadzające zabiegi znają<br>sie na rzeczy . Po masażu naprawdę mozna sie<br>zrelaksować . Bylam te tym hotelu z dwójką małych<br>dzieci i zaplecze pod tym kątem jest bardzo dobre<br>( dostali śmy turystyczne łóżeczko , podgrzewacz )<br>. Do tego dzieci migą korzystać z pokoju zabaw (<br>moi chłopcy zwykle bawili sie w nim sami wiec<br>mozna powiedzieć ze było bardzo kameralnie : ) ) .<br>Chetnie wybrała by m sie tam jeszcze raz : )",
           "__label__meta_plus_m"
          ],
          [
           "Hotel bardzo ładny , cichy a jednocześnie z dobra<br>lokalizacją i parkingiem . Pokoje czyściutkie i<br>absolutnie przepyszne śniadania , co cieszy nie<br>tylko dzieciaki , ale i rodziców . Bardzo miła<br>obsługa zarówno w recepcji jak i w restauracji z<br>wyjątkowymi potrawami . Hotel bardzo gustownie i<br>ładnie urządzony , dlatego chętnie będę tam wracał<br>i POLECAM SERDECZNIE .",
           "__label__meta_plus_m"
          ]
         ],
         "hovertemplate": "Annotation=__label__meta_plus_m<br>t-SNE 1=%{x}<br>t-SNE 2=%{y}<br>sentence=%{customdata[0]}<br>annotation=%{customdata[1]}<extra></extra>",
         "legendgroup": "__label__meta_plus_m",
         "marker": {
          "color": "#EF553B",
          "symbol": "circle"
         },
         "mode": "markers",
         "name": "__label__meta_plus_m",
         "orientation": "v",
         "showlegend": true,
         "type": "scatter",
         "x": [
          -1.6788710355758667,
          1.2354356050491333,
          -1.4900388717651367,
          1.4101295471191406,
          -1.1746547222137451,
          2.1075706481933594,
          -1.5972225666046143,
          1.778679609298706,
          1.3425931930541992,
          1.0136206150054932,
          1.4877194166183472,
          1.5946511030197144,
          -1.4084726572036743,
          -0.8423019647598267,
          1.9199684858322144,
          -1.5789072513580322,
          -1.9551137685775757,
          -1.1459943056106567,
          -1.1134141683578491,
          1.9837292432785034,
          0.7067396640777588,
          -1.3717982769012451,
          1.02290940284729,
          -1.7204548120498657,
          -0.4816322922706604,
          -2.078701972961426,
          2.216704845428467,
          -0.9167125821113586,
          -1.2650377750396729,
          0.2619563043117523,
          -0.8366422057151794,
          1.1853457689285278,
          -1.391083002090454,
          1.6800413131713867,
          1.477652668952942,
          0.5235777497291565,
          -1.705603837966919,
          1.8667656183242798,
          -2.1064295768737793,
          1.4939197301864624,
          2.0383834838867188,
          -1.7227604389190674,
          -1.5469075441360474,
          -1.0877107381820679,
          0.9943215847015381,
          1.565964698791504,
          -1.5111256837844849,
          2.065659523010254,
          1.414616346359253,
          1.2400908470153809,
          -1.1600795984268188,
          1.4261553287506104,
          1.4064253568649292,
          -1.2204173803329468,
          -1.5153167247772217,
          2.1430108547210693,
          -0.6978834271430969,
          -0.5646393299102783,
          1.327624797821045,
          -1.6486988067626953,
          1.4277887344360352,
          0.18853355944156647,
          1.1673338413238525,
          0.924260675907135,
          -1.0705170631408691,
          0.826749324798584,
          0.7112383842468262,
          0.02429540641605854,
          -0.8313215374946594,
          0.6645917296409607,
          0.21583934128284454,
          2.079535484313965,
          1.8103864192962646,
          0.5345131158828735,
          -1.2377582788467407,
          -0.9162826538085938,
          -0.31625643372535706,
          -1.3687384128570557
         ],
         "xaxis": "x",
         "y": [
          -1.4717016220092773,
          -0.4239867329597473,
          -0.7338645458221436,
          0.3706647753715515,
          -0.1913362294435501,
          -0.6879827976226807,
          -0.9814538955688477,
          -0.46002763509750366,
          0.7066512703895569,
          -0.44082018733024597,
          -1.0475859642028809,
          -0.6120644211769104,
          -0.16534101963043213,
          -0.6317397356033325,
          -0.002138839801773429,
          -1.039603352546692,
          -1.0002107620239258,
          -1.2224370241165161,
          -1.4785242080688477,
          -0.5307181477546692,
          -1.1268891096115112,
          0.1721152812242508,
          -1.1561613082885742,
          -0.02594263106584549,
          -1.6649068593978882,
          -0.25279584527015686,
          -0.37991470098495483,
          0.007108793593943119,
          -0.8214524984359741,
          -1.2384626865386963,
          -0.5979744791984558,
          -0.45997002720832825,
          -0.6309427618980408,
          -0.2921717166900635,
          -0.3184959590435028,
          0.34797438979148865,
          -1.0915135145187378,
          0.15667210519313812,
          -0.38526156544685364,
          0.675575315952301,
          -0.8604269623756409,
          -1.2094253301620483,
          -0.847392737865448,
          -0.7935250401496887,
          -0.09871791303157806,
          0.6136136651039124,
          0.18071144819259644,
          0.04675227776169777,
          -0.4724889099597931,
          -0.7379308938980103,
          -1.3661279678344727,
          -1.1710070371627808,
          -0.11420536786317825,
          -0.6551855206489563,
          -1.094103217124939,
          -0.07739890366792679,
          -0.21611987054347992,
          -0.8171412944793701,
          -0.2837654948234558,
          -1.0791816711425781,
          -1.3422679901123047,
          -1.8566555976867676,
          0.4367118179798126,
          -1.4833219051361084,
          -0.46758127212524414,
          -0.7746552228927612,
          -0.12446436285972595,
          -0.537241518497467,
          -0.38431066274642944,
          -0.14502118527889252,
          0.5388086438179016,
          -0.12395881861448288,
          -0.6789223551750183,
          0.4966305196285248,
          -1.6236317157745361,
          -0.264224112033844,
          -0.8700187802314758,
          -1.1099650859832764
         ],
         "yaxis": "y"
        },
        {
         "customdata": [
          [
           "Bieżąca historia miejsca rozpoczyna się w styczniu<br>2007 roku , kiedy to obecny właściciel pierwszy<br>raz odwiedził to miejsce , a dwa miesiące później<br>należało już do niego . Zakup zespołu dworskiego w<br>Kombornii uwieńczyło dłuższe poszukiwania w całej<br>Polsce , odpowiedniego miejsca pod hotel ,<br>dedykowany wyrafinowanemu wypoczynkowi .<br>Postanowili śmy znaleźć miejsce , gdzie ludzie<br>poddani reżimowi pracy „ na okrągło ” będą mogli<br>przyjechać , żeby odpocząć , naładować akumulatory<br>, odbudować więzi rodzinne i uzyskać stan pewnego<br>błogostanu . Stwierdzili śmy , że takie miejsce<br>może być w dowolnym regionie Polski , bo jeśli<br>będzie miało swój klimat i urok , to ludzie je<br>znajdą i do niego przyjadą . – tak pomysł na<br>inwestycję opisał nam Ryszard Skotniczny ,<br>właściciel . Takim miejscem okazała się Kombornia<br>.",
           "__label__meta_zero"
          ],
          [
           "Lekarze podkreślają , że nierozpoznane i<br>nieleczone tętniaki aorty są bardzo niebezpieczne<br>dla chorego - szczególnie , że w większości<br>przypadków pozostają bezobjawowe . Z czasem<br>powiększają się , osłabiając wytrzymałość ich<br>ściany , a to w konsekwencji prowadzić może do ich<br>pęknięcia , krwotoku i zagrożenia życia pacjenta .<br>Szacuje się , że w Polsce na tętniaka<br>zlokalizowanego w brzusznym odcinku aorty choruje<br>ok . 200 tys . osób . Jeszcze 20 lat temu<br>podstawowym sposobem leczenia tętniaków aorty była<br>złożona operacja chirurgiczna , ryzykowna dla<br>pacjentów . Od lat 90 . z powodzeniem zaczęto<br>stosować również w Polsce nowoczesne leczenie<br>endowaskularne z wykorzystaniem stentgraftów<br>aortalnów produkowanych w innych krajach -<br>dostępnych , ale stosunkowo drogich . Dziś takie<br>leczenie w zakresie tętniaków aorty piersiowej<br>jest standardem .",
           "__label__meta_zero"
          ],
          [
           "„ Nasze odkrycia dotyczące kannabinoidów są ważne<br>dla zrozumienia mechanizmów odpowiedzialnych za<br>powstawanie cukrzycy typu drugiego , pojawiającej<br>się na ogół u osób w wieku dorosłym i nierzadko<br>związanej z przyrostem masy ciała . Jeśli dalsze<br>badania przebiegną po naszej myśli , być może w<br>niedalekiej przyszłości uda się te wyniki<br>wykorzystać w sposób , który uwolni przynajmniej<br>część chorych od koszmaru ciągłych zastrzyków z<br>insuliną ” - mówi prof . Agnieszka Dobrzyń z<br>Instytutu Nenckiego . W najnowszej publikacji na<br>łamach prestiżowego amerykańskiego czasopisma „<br>Proceedings of the National Academy of Sciences<br>USA ” ( PNAS ) naukowcy z Instytutu Nenckiego<br>wykazali , że szlak sygnałów chemicznych z<br>udziałem kannabinoidów nie tylko pełni ważną rolę<br>w komunikacji między komórkami alfa i beta , ale<br>nawet wpływa na zachowanie tożsamości komórek beta<br>. Kannabinoidy wytwarzane przez komórki alfa mogą<br>bowiem aktywować receptory kannabinoidowe CB1 ,<br>znajdujące się w wyspach trzustkowych . Receptory<br>te decydują o budowie wysp trzustkowych oraz<br>poziomie insuliny , wydzielanej przez komórki beta<br>w odpowiedzi na glukozę .",
           "__label__meta_zero"
          ],
          [
           "W tym celu , zajęcia prowadzone są w języku<br>angielskim przez uznanych profesorów z<br>Uniwersystetu Łódzkiego oraz ekspertów Grupy<br>Hotelowej Orbis . Modułowy tryb zajęć w czterech<br>sesjach pozwala studentom na połączenie pracy z<br>efektywnym uczestniczeniem w programie .<br>Tegoroczna edycja została oficjalnie zakończona 19<br>listopada br . podczas gali wręczenia certyfikatów<br>ukończenia programu w hotelu Mercure Warszawa<br>Grand . Prezes Grupy Hotelowej Orbis , Laurent<br>Picheral osobiście wręczył 22 studentom dyplomy ,<br>wyrażając wdzięczność za ich pracę i zaangażowanie<br>. „ Jesteśmy bardzo zadowoleni , że już drugi raz<br>zostali śmy partnerem programu Top Talent . W tym<br>roku jest on bardzo międzynarodowy , 40 %<br>studentów pochodzi spoza Polski , ” powiedział<br>Profesor Tomasz Domański , zarządzający programem<br>„ International Hotel Management ” . Każdy student<br>jest pewien , że od razu po zakończeniu programu<br>będzie mógł wykorzystać zdobytą wiedzę w pracy .",
           "__label__meta_zero"
          ],
          [
           "„ Nasz produkt będzie oczyszczony , a więc wolny<br>od wszelkich substancji balastowych . Będzie<br>zawierał fagi , które będą dobrze<br>scharakteryzowane pod względem biologicznym oraz<br>genetycznym . Na świecie ok . 5 firm rozpoczęło<br>prowadzenie badań klinicznych na oczyszczonych<br>preparatach fagowych pod agendą amerykańskiej<br>Agencji Żywności i Leków ( FDA ) lub Europejskiej<br>agencji ds . Leków ( EMA ) \" - informuje doktor .<br>W bazie dot . badań klinicznych dostępne są<br>informacje nt . stosowania testowanych preparatów<br>fagowych , są to fagi do leczenia biegunki u<br>dzieci , oparzeń , owrzodzeń podudzi , zapalenia<br>ucha . Żaden z tych preparatów nie jest<br>bezpośrednio dedykowany do leczenia infekcji i<br>zakażeń krwi u pacjentów o obniżonej odporności ,<br>w tym onkologicznych .",
           "__label__meta_zero"
          ],
          [
           "Badanie dotyczyło m . in . czułości i swoistości .<br>Czułość to prawdopodobieństwo uzyskania dodatniego<br>wyniku testu diagnostycznego wśród pacjentów<br>chorych . Wysoka czułość oznacza przeoczenie<br>niewielu chorych . Z kolei swoistość oznacza<br>prawdopodobieństwo uzyskania ujemnego wyniku testu<br>diagnostycznego wśród pacjentów niechorujących na<br>diagnozowaną chorobę . Wysoka swoistość oznacza<br>brak fałszywie dodatnich wskazań ( test nie<br>wskazuje zdrowych pacjentów jako chorych ) .<br>Uzyskana w badaniu czułość i swoistość badania<br>termograficznego wynosiła , odpowiednio 72 proc .<br>oraz 58 proc . Tester BRASTER uzyskał jeszcze<br>lepsze wyniki u kobiet 50 - letnich i starszych .<br>Na wyniki miała wpływ struktura piersi - u osób z<br>tłuszczową strukturą czułość i swoistość wynosiła<br>odpowiednio : 100 proc . i 64 proc . , a z<br>gruczołową strukturą piersi – odpowiednio : 71<br>proc . i 63 proc .",
           "__label__meta_zero"
          ],
          [
           "Restauracja Marconi stanowi odzwierciedlenie pasji<br>kulinarnej Michała Tkaczyka – jego doskonałego<br>stylu , łączącego elementy kuchni polskiej i<br>śródziemnomorskiej , najlepiej reprezentowanego<br>przez słynną kaczkę z karmelizowanymi jabłkami ,<br>przyprawianą rozmarynem , czosnkiem i goździkami .<br>Eleganckie , secesyjne wnętrza restauracji , w<br>których ciemny parkiet kontrastuje z łagodnie<br>białymi ścianami oraz delikatną paletą barw i<br>wyjątkowymi detalami – kryształowymi świecznikami<br>i najlepszą porcelaną , zapewnia wyjątkowe<br>doznania w wysmakowanym i romantycznym otoczeniu .<br>Legendarna Café Bristol to miejsce , gdzie<br>tradycja łączy się z wielkomiejskim stylem życia .<br>Kawiarnia od 1901 roku oczarowuje gości<br>oryginalnymi wnętrzami w wiedeńskim stylu ,<br>aromatem świeżo parzonej kawy , doskonałymi<br>daniami i wyrafinowanymi deserami . Strefa<br>wypoczynku i obsługa The Luxury Collection<br>Concierge Złote i białe lampy oświetlające<br>wyjątkową , delikatną skórę węgorza w recepcji<br>strefy wypoczynku , tworzą wyciszoną , nieziemską<br>atmosferę już od momentu wejścia .",
           "__label__meta_zero"
          ],
          [
           "Podczas konferencji prof . Maciejewski wskazał<br>jednak , że gliwicki ośrodek jest kliniką<br>chirurgii onkologicznej i rekonstrukcyjnej , a nie<br>jest ośrodkiem replantologicznym - nie ma w nim<br>takich dyżurów , nie ma zaplecza urazowego itd . „<br>Dlatego też w tego typu przypadkach , które<br>obejmują nie tylko urazy regionu głowy i szyi ,<br>wymagające interwencji mikronaczyniowej , w tym<br>wypadku replantacji , my nie jesteśmy w stanie<br>zapewnić odpowiedniej opieki dla chorych , których<br>urazy dotyczą większych powierzchni i większego<br>zakresu ” – mówił . Jednocześnie zapewnił , że<br>oczywiście lekarze w razie potrzeby będą służyć<br>pomocą , ponieważ obecnie w Polsce , jak mówił ,<br>nie ma wyspecjalizowanego ośrodka w zakresie<br>replantacji twarzy , szyi i urazów<br>wielonarządowych .",
           "__label__meta_zero"
          ],
          [
           "W stosunku do stanu rzeczywistego jest to liczba<br>zaniżona o ponad połowę . Wg Głównego Urzędu<br>Statystycznego w dniu 31 lipca 2013 r . w Polsce<br>dostępnych było 105 , 8 tys . pokoi rozlokowanych<br>w 2107 hotelach . Natomiast według szacunków „<br>Hotelarstwa ” na początku tego roku liczba pokoi<br>hotelowych w Polsce przekraczała 130 tys . Tak<br>duże różnice wynikają z różnych metodologii<br>obliczeń i różnie określanej definicji hotelu . W<br>Polsce podstawą do uznania obiektu noclegowego za<br>hotel jest jego , zgodna z obowiązującym prawem ,<br>kategoryzacja na 1 - 5 gwiazdek . Natomiast STR za<br>hotele uznaje przede wszystkim obiekty działające<br>w strukturach międzynarodowych sieci hotelowych (<br>nawet jeśli nie są skategoryzowane jako hotel wg<br>polskich przepisów ) , a dalszej kolejności<br>największe a także nowoczesne obiekty działające<br>pod własnymi markami .",
           "__label__meta_zero"
          ],
          [
           "Zespół pod kierownictwem prof . Marka Naruszewicza<br>, kierownika Katedry Farmakognozji i Molekularnych<br>Podstaw Fitoterapii WUM jako pierwszy na świecie<br>wykazał , że oleaceina występująca w oliwie z<br>oliwek ( tylko typu ekstra vergine ) ma unikalną<br>właściwość przeciwdziałania pękaniu blaszki<br>miażdżycowej , co może zapobiegać między innymi<br>zawałowi serca oraz udarowi mózgu . Liczne badania<br>epidemiologiczne wskazują , że w basenie Morza<br>Śródziemnego zapadalność na choroby układu sercowo<br>- naczyniowego i nowotwory , oraz śmiertelność z<br>ich powodu jest znacznie mniejsza niż w<br>pozostałych krajach Europy . Ma to związek ze<br>sposobem odżywiania – zwłaszcza ze spożywaniem<br>oliwy z oliwek . Codzienne spożywanie 40<br>mililitrów oliwy obniża śmiertelność z powodu<br>chorób serca o 40 proc . , zaś z powodu innych<br>chorób - o 30 proc .",
           "__label__meta_zero"
          ],
          [
           "Na 1 , 8 mld USD szacuje łączne wpływy hoteli w<br>USA w roku 2011 z dopłat i opłat dodatkowych ,<br>Bjorn Hanson z Tisch Center for Hospitality ,<br>Tourism , and Sports Management New York<br>University . Szczególnie w okresie po kryzysie<br>hotele stały się aktywne we wprowadzaniu nowych<br>opłat , czyli źródeł przychodów . Nic w tym<br>dziwnego bo zdaniem profesora Hansona , opłaty i<br>dopłaty są szczególnie opłacalne , a większość z<br>nich osiąga rentowność 80 do 90 lub nawet więcej<br>procent . Opłaty i dopłaty pojawiły się praktyce<br>branży w 1997 r . i z roku na rok przybywa ich , a<br>przychody hoteli z tego tytułu stale wzrastają .<br>Wyjątkiem są okresy malejącego popytu na noclegi ,<br>czyli lata 2001 i 2009 .",
           "__label__meta_zero"
          ],
          [
           "Ujmując rzecz najprościej system polega na<br>punktowej ocenie poszczególnych elementów<br>infrastruktury oraz usług świadczonych przez<br>obiekt i kwalifikacji obiektu do danej kategorii<br>na podstawie sumy osiągniętych punktów . Istotnym<br>– a nie występującym w obowiązujących w Polsce<br>przepisach kategoryzacyjnych – elementem jest to ,<br>że brak np . recepcji z holem , czy serwowania<br>śniadań nie pozbawia obiektu możliwości zostania<br>hotelem . Dziś , po czterech latach funkcjonowania<br>system kategoryzacji wg reguł Hotelstars Union ,<br>obowiązuje on już w 15 państwach Europy . Są to :<br>Austria , Belgia , Czechy , Dania , Estonia ,<br>Grecja , Holandia , Litwa , Luksemburg , Łotwa ,<br>Malta , Niemcy , Szwajcaria , Szwecja i Węgry .",
           "__label__meta_zero"
          ],
          [
           "Duża część młodzieży nadal unika aktywności<br>fizycznej . \" Widać jedynie niewielką poprawę po<br>wstąpieniu Polski do Unii Europejskiej . Obecnie<br>wystarczającą aktywność fizyczną stwierdza się<br>jedynie u około 30 proc . chłopców oraz u 20 proc<br>. dziewcząt . Aktywność obu płci wyraźnie maleje z<br>wiekiem \" - wskazała prof . Fijałkowska . Rośnie<br>liczba dzieci niezdrowo odżywianych . Naukowcy<br>ocenili , że niezdrowych wyborów żywieniowych ( na<br>przykład chipsy , napoje gazowane , fast food )<br>dokonuje obecnie 21 proc . dzieci w wieku 11 - 12<br>lat , 28 proc . dzieci w wieku 13 - 14 lat i 33<br>proc . 15 - 16 - latków . Choć zmniejsza się<br>częstość palenia papierosów wśród 15 - 16 - latków<br>, to stopniowo rośnie wśród młodszych dzieci ,<br>szczególnie dziewcząt . \" To poważny problem i<br>duże wyzwanie dla nas wszystkich \" - niepokoił się<br>prof . Piotr Jankowski , przewodniczący Komisji<br>Promocji Zdrowia Polskiego Towarzystwa<br>Kardiologicznego .",
           "__label__meta_zero"
          ],
          [
           "Dla sprzedawców usług turystycznych najważniejsze<br>jest zrozumienie i dostosowanie się do sposobu , w<br>jaki konsumenci chcą dokonywać wyboru , a nie<br>tylko do tego , jak robią to obecnie . Niniejszy<br>raport wskazuje na najważniejsze elementy ,<br>których w tej chwili brakuje na witrynach<br>internetowych firm ” . Publikacja jest efektem<br>badań przeprowadzonych przez PhoCusWright Inc . na<br>zlecenie firmy Amadeus , obejmujących 4638<br>podróżnych z USA , Wielkiej Brytanii , Niemiec ,<br>Indii , Rosji i Brazylii .",
           "__label__meta_zero"
          ],
          [
           "„ Skrócony schemat leczenia ma jednak tę zaletę ,<br>że jest równie skuteczny , powoduje natomiast<br>mniej bezpośrednich działań niepożądanych i<br>dlatego jest bardziej korzystny i wygodniejszy dla<br>pacjenta ” – podkreślił w rozmowie z dziennikarzem<br>PAP prof . Wyrwicz . Dodał , że terapia ta jest<br>także mniej kosztowna , co ma szczególne znacznie<br>w krajach , gdzie ograniczone są środki na<br>leczenie onkologiczne . Prof . Bujko podkreśla ,<br>że w obu terapiach równie często można było<br>doszczętnie usunąć guz . W dotychczasowych<br>obserwacjach uzyskano jednak o ponad 9 punktów<br>procentowych większe przeżycia ogólne chorych<br>poddanych skróconej radioterapii połączonej z<br>następującą po tym chemioterapią ( 63 , 5 proc . w<br>standardowym schemacie leczenia wobec 73 proc . w<br>nowym sposobie leczenia ) .",
           "__label__meta_zero"
          ],
          [
           "Pierwszy w Polsce hotel marki Doubletree by Hilton<br>jest dziś oficjalnie otwierany w Łodzi .<br>Dysponujący 200 pokojami , restauracją , ośmioma<br>salami konferencyjnymi , salą balową , kinem 3D i<br>zespołem spa z basenem umieszczonym na ostatnim ,<br>dziesiątym piętrze , czterogwiazdkowy obiekt jest<br>zlokalizowany przy ulicy Łąkowej 29 . Inwestorem<br>jest Film Hotel , spółka - córka Grupy Toya . Do<br>hotelu bezpośrednio przylegają – stanowiąc jego<br>dodatkowe zaplecze – zmodernizowane obiekty dawnej<br>Wytwórni Filmów Fabularnych , obecnie : TOYA<br>Studios , Klub „ Wytwórnia ” oraz Łódzkie Centrum<br>Filmowe . Uzyskane w ten sposób dodatkowe<br>przestrzenie konferencyjno – kongresowo –<br>wystawienniczo – koncertowe w postaci<br>klimatyzowanych i świetnie wyposażonych hal z<br>zapleczem , zapewniają dodatkowe 7 600 mkw .<br>powierzchni i synergię obu obiektów .",
           "__label__meta_zero"
          ],
          [
           "Lekarze wykazali także , że pacjenci w<br>niedostateczny sposób dbają o higienę jamy ustnej<br>- zadawalający stan miała mniej niż połowa<br>badanych . Jeszcze gorzej jest u pacjentów z<br>chorobą wieńcową - osób , które powinny o to dbać<br>szczególnie , gdyż przewlekle stany zapalne<br>zwiększają ryzyko kolejnych infekcji serca ,<br>zawałów , powikłań , mogą sprzyjać arytmiom ,<br>niewydolności serca . Kamiński zaznaczył , że<br>nieprawidłowa higiena jamy ustnej może też<br>sprzyjać chorobom autoimmunologicznym . Lekarze<br>wykazali także , że wciąż za dużo osób pali<br>papierosy , przy czym większy kłopot z rzucaniem<br>nałogu mają kobiety . Badania Białystok Plus<br>wykazały także , że 30 proc . badanych , którzy<br>zgodzili się na badanie snu , ma groźne dla<br>zdrowia zaburzenia oddychania w czasie snu .<br>Kamiński ocenił , że to bardzo dużo .",
           "__label__meta_zero"
          ],
          [
           "Stosowane dotychczas w immunoterapii przeciwciała<br>łączą się białkami znajdującymi się na powierzchni<br>limfocytów T , aktywując je w ten sposób do walki<br>z komórkami nowotworowymi . Można powiedzieć , że<br>odblokowują one działanie układu immunologicznego<br>. Tymczasem polsko - szwajcarski zespół szuka<br>związków peptydowych , które będą działały na<br>układ immunologiczny podobnie jak przeciwciała . \"<br>Dla porównania : przeciwciała składają się np . z<br>3 tys . cegiełek - aminokwasów , a peptydy -<br>zaledwie z 20 - 30 cegiełek \" - wskazuje prof .<br>Rodziewicz - Motowidło . Dodaje , że o ile peptyd<br>naukowcy są w stanie zsyntezować w laboratorium ,<br>o tyle przeciwciała produkuje się najczęściej w<br>organizmach zwierząt , np . myszy lub królików lub<br>też w hodowlach tkankowych .",
           "__label__meta_zero"
          ],
          [
           "Senat Uniwersytetu Marii Curie - Skłodowskiej w<br>Lublinie , w uchwale o nadaniu prof .<br>Skarżyńskiemu godności doktora honoris causa ,<br>podkreślił jego „ pełną oddania służbę<br>społeczeństwu i nauce , przejawiającą się w<br>opracowaniu i realizowaniu wielu programów<br>leczenia głuchoty u dorosłych , a szczególnie u<br>dzieci ” . Promotor doktoratu honorowego , prof .<br>Stanisław Grabias z Zakładu Logopedii i<br>Językoznawstwa Stosowanego UMCS , wskazał na<br>wielkie znaczenie implantów w leczeniu upośledzeń<br>słuchu i rolę prof . Skarżyńskiego w ich wdrażaniu<br>. „ Implanty słuchowe są elektronicznymi systemami<br>, które potrafią zastąpić źle funkcjonujące ucho<br>zewnętrzne , środkowe i wewnętrzne , jeśli umiemy<br>je wszczepić do wnętrza ludzkiej czaszki . Prof .<br>Skarżyński umie to robić , jak nikt inny na<br>świecie ” – powiedział Grabias .",
           "__label__meta_zero"
          ],
          [
           "A następnie stworzyć ceny pomiędzy najwyższą a<br>najniższą ceną . Brzmi to prosto ale właśnie na<br>takiej zasadzie działa RM i system opisany powyżej<br>, jest jak najbardziej funkcjonującym modelem<br>revenue managementu . Na co powinni hotelarze<br>zwrócić uwagę ( zwłaszcza na początku ) ? jaką<br>analizę / raporty prowadzić , aby zobaczyli realną<br>różnicę z wdrożonych rozwiązań RM ? Zdecydowanie<br>przed wdrożeniem rozwiązań RM , trzeba<br>przeanalizować swoją sprzedaż , aby zrozumieć czy<br>wdrożenie w ogóle się opłaca . Nie mam pojęcia ile<br>systemy RM kosztują na rynku , ale statystycznie<br>wdrożenie systemu RM podwyższa przychód o 10 % .<br>Obliczając 10 % z przychodu można policzyć ROI (<br>zwrot z inwestycji ) z takiego systemu . Zwłaszcza<br>dla małych hoteli można zastosować łatwe zasady<br>opisane powyżej i osiągnąć korzyści z RM . W<br>ramach dygresji uważam , że te molochy jak<br>booking.com niedługo wprowadzą silnik który sam<br>będzie generował ceny na podstawie obłożenia w<br>hotelu . W chwili obecnej te firmy nie mają<br>możliwości do manipulowania jakimkolwiek systemem<br>sprzedaży zainstalowanym w hotelu ale moim zdaniem<br>to się zmieni . Jeśli wprowadzą taką aplikację w<br>ramach ich standardowej prowizji , wiele hoteli<br>się na to zgodzi .",
           "__label__meta_zero"
          ],
          [
           "Szef resortu zdrowia podkreślił w swoim<br>wystąpieniu , że jednym z priorytetów i wyzwań ,<br>jakie stoją przed stomatologią jest promowanie w<br>społeczeństwie nawyków pro - zdrowotnych . „ Żadne<br>środki zapobiegawcze nie będą należycie<br>zastosowane , jeśli nie zadbamy zawczasu o<br>efektywną promocję zdrowia . Aby to jednak<br>przyniosło efekty , należy uświadomić to<br>społeczeństwu , zadbać , by miało odpowiednią<br>wiedzę na temat ochrony zdrowia \" – zaznaczył<br>Radziwiłł . Wyraził zadowolenie , że kongres<br>stwarza wszystkim praktykującym stomatologom<br>możliwość wymiany doświadczeń i wiedzy , a także<br>do podkreślenia roli , jaką odgrywa edukacja . \"<br>Jesteśmy świadomi tego , co potwierdzają także<br>badania , że zdrowie jamy ustnej jest niezwykle<br>istotne dla zdrowia całego organizmu . Wiemy , że<br>oprócz diagnostyki i samego leczenia , bardzo<br>ważna jest również prewencja i działania<br>zapobiegawcze ” – zaznaczył minister zdrowia .",
           "__label__meta_zero"
          ],
          [
           "W sezonie 2011 / 2012 zaszczepiło się jedynie 4 ,<br>5 proc . Polaków , najmniej od kilku lat .<br>Jesteśmy pod tym względem na jednym z ostatnich<br>miejsc w Europie . W 2005 r . zaszczepiło się 8 ,<br>6 proc . osób , a w 2009 r . – jedynie 6 , 8 proc<br>. Przykładowo w Hiszpanii w sezonie 2010 / 2011<br>zaszczepiło się 19 proc . osób dorosłych , w USA –<br>41 proc . , a w Korei Południowej – 24 proc . „ To<br>zadziwiające , że Polacy nie chcą się szczepić<br>przeciwko grypie , a jednocześnie w sezonie<br>grypowym narzekamy na kolejki do lekarza<br>rodzinnego . Jaka w tym logika ? Wszystko dlatego<br>, że mamy lekceważący stosunek do szczepień<br>przeciwko tej infekcji ” – dodała prof . Brydak .",
           "__label__meta_zero"
          ],
          [
           " Jest źle , ale było gorzej . Może być lepiej -<br>podsumował wyniki prof . Jacek Wciórka -<br>psychiatra z warszawskiego Instytutu Psychiatrii i<br>Neurologii . - Do realizacji Narodowego Programu<br>Ochrony Zdrowia Psychicznego nie wystarczą wysiłki<br>psychiatrów i psychologów , potrzebna jest<br>współpraca mediów i polityków  . Polacy w 70 proc<br>. oceniają swoją kondycję psychiczną jako bardzo<br>dobrą lub doskonałą . Jednak około 30 proc . to<br>potencjalni kandydaci do poszukiwania jakiejś<br>formy pomocy lub wsparcia . Chociaż tylko ok . 23<br>proc Polaków deklaruje doświadczenie osobistego<br>kontaktu z osobą chorą psychicznie , większość ma<br>na temat takich osób , a także na temat chorób<br>psychicznych i instytucji psychiatrycznych dość<br>zdecydowaną opinię o cechach niechętnego<br>stereotypu .",
           "__label__meta_zero"
          ],
          [
           "Śląscy naukowcy prowadzą badania na zwierzętach<br>laboratoryjnych , tkankach ludzkich pobranych w<br>innych celach podczas operacji okulistycznych oraz<br>na tkankach oka pozostałych po pobraniach rogówek<br>do transplantacji . „ Opracowali śmy model<br>przewlekłej neuropatii nerwu wzrokowego , czyli<br>model eksperymentalnej jaskry wywołanej u zwierząt<br>, która postępuje w czasie , w związku z czym<br>mogli śmy badać , co się dzieje w oku w przebiegu<br>jaskry ” – wyjaśniła prof . Lewin - Kowalik .<br>Naukowcy badają m . in . możliwości wykorzystania<br>komórek gleju , które były już z sukcesem<br>stosowane u chorych z uszkodzonym rdzeniem<br>kręgowym . „ Próbowali śmy wzbudzić regenerację<br>albo zapobiec obumieraniu komórek zwojowych<br>siatkówki , dając im możliwość kontaktu z<br>komórkami gleju obwodowego – komórkami Schwanna i<br>okazało się , że im to bardzo dobrze robi . Myślę<br>, że w miarę rozwoju naszej wiedzy komórki glejowe<br>w wielu działaniach naprawczych w układzie<br>nerwowym odegrają ogromną rolę ” – powiedziała<br>profesor .",
           "__label__meta_zero"
          ],
          [
           "„ Jeżeli pszczoła użądli nas w palec , palec może<br>spuchnąć , nic nam się nie stanie . Jeżeli użądli<br>nas w czubek głowy , pod spodem jest kość –<br>opuchlizna spowoduje potworny ból głowy . Nie<br>powinni śmy jednak bać się – osoby dorosłe ,<br>nieuczulone , spokojnie potrafią przeżyć pięćset<br>użądleń . ( . . . ) Uczuleni muszą wiedzieć , jak<br>się zachowywać i jakie środki ostrożności ze sobą<br>nosić , choćby adrenalinę ” – wskazał ekspert . W<br>przypadku użądlenia pszczoła praktycznie zawsze<br>zostawia w skórze człowieka żądło , a razem z nim<br>- zbiornik z jadem . Podczas użądlenia do rany<br>wydostaje się z niego od jednej piątej do jednej<br>trzeciej zebranego tam jadu . Gdy jednak chwyci<br>się za żądło palcami , wyciska się do rany niemal<br>całą zawartość zbiornika .",
           "__label__meta_zero"
          ],
          [
           "Europa Centralna i Wschodnia , pozostaje w ścisłej<br>czołówce subregionów odnotowujących najszybszy<br>wzrost liczby przyjeżdżających turystów . W naszej<br>części Europy wynosi on 9 , 2 proc . , w<br>porównaniu do 4 , 1 proc . średniej światowej i 3<br>, 4 proc . średniej europejskiej . Polska<br>dodatkowo wyróżnia się wysokim , bo 19 - proc .<br>wzrostem przychodów z turystyki , wynika z<br>najnowszego badania Światowej Organizacji<br>Turystyki ( UNWTO ) Tourism Barometer<br>prezentującego dane z pierwszych ośmiu miesięcy<br>roku 2012 . W okresie od początku roku do końca<br>sierpnia liczba międzynarodowych podróży wyniosła<br>705 mln ( o 28 mln więcej niż w analogicznym<br>okresie roku 2011 ) , co zdaniem UNWTO , wskazuje<br>na odporność turystyki na zawirowania światowej<br>gospodarki . UNWTO jest przekonana , że do końca<br>roku liczba międzynarodowych turystów po raz<br>pierwszy przekroczy miliard . Organizacja<br>wyznaczyła 13 grudnia jako symboliczny dzień , w<br>którym pojawi się miliardowy turysta .",
           "__label__meta_zero"
          ],
          [
           "Nie było jeszcze precyzyjnych przepisów o<br>pobieraniu narządów do transplantacji w Polsce .<br>Obowiązująca wtedy ustawa z 1948 r . dotyczyły<br>jedynie pobieraniu rogówki i pozyskiwania tkanek<br>od zmarłych , a nie narządów . Jednak pobranie<br>nerek od osób zmarłych uznawano wtedy za etap<br>wstępny badania sekcyjnego . Do tej interpretacji<br>przychylił się również prokurator Zygmunt Papierz<br>. W tej sytuacji nie trzeba było pytać rodziny o<br>zgodę na pobranie narządu , ale tego nie ukrywano<br>. W tym okresie nie było jeszcze koncepcji śmierci<br>mózgowej . Pierwsze jej kryteria opracowano w 1968<br>r . na Uniwersytecie Harvarda . Dlatego choć dawcą<br>nerki dla Danuty Milewskiej była kobieta , która „<br>zmarła na skutek ciężkiego urazu czaszki ” , jak<br>napisano w protokole szpitalnym , to z jej<br>pobraniem czekano aż ustanie krążenie krwi .<br>Dopiero wtedy stwierdzano zgon , choć nerki często<br>były już mocno zniszczone , nie zawsze nadawały<br>się do przeszczepu .",
           "__label__meta_zero"
          ],
          [
           "Pamiętajmy też o tym , jak głęboki research<br>prowadzi gość przed podjęciem decyzji . Nie<br>rozdrabniając się w statystykach – jest to od<br>kilkunastu do kilkudziesięciu stron internetowych<br>różnych hoteli ( ale też OTA , metasearch , itp .<br>) i kilka do kilkunastu opinii o interesującym go<br>obiekcie . Jak widzimy mamy mnóstwo okazji aby<br>wygrać gościa dla siebie ! – 2 – Rezerwacja<br>rozpatrywana od technicznej strony zamknięcia<br>transakcji , ponieważ zakładamy , że sama decyzja<br>została podjęta w punkcie pierwszym . Musimy tutaj<br>zwrócić uwagę , że w dalszym ciągu gość może się<br>rozmyślić trafiając na przeszkody w procesie<br>rezerwacji . Wymienię tylko wybrane przykłady :<br>nieprzygotowanie recepcji , zwrócenie uwagi na<br>inną ofertę korzystając z OTA czy brak<br>preferowanej formy płatności w silniku<br>rezerwacyjnym na stronie . Przeszkody te mogą<br>wpłynąć na zmianę kanału rezerwacji ( z mniej na<br>bardziej kosztową ) lub prowadzić do całkowitego<br>jej zaniechania .",
           "__label__meta_zero"
          ],
          [
           "Prof . Jacek Sieradzki z Uniwersytetu<br>Jagiellońskiego w Krakowie przypomniał , że w<br>Polsce wciąż nie refunduje się inteligentnych<br>leków , tzw . inkretynowych , które pozwalają<br>lepiej kontrolować poziom glukozy we krwi , a nie<br>zwiększają ryzyka niedocukrzeń i tycia . Ponadto ,<br>nie ma dobrego finansowania edukacji<br>diabetologicznej , a pacjenci z cukrzycą muszą<br>czekać po kilka miesięcy w kolejce do diabetologa<br>i specjalistów zajmujących się leczeniem powikłań<br>choroby , wymieniał . O tym , że cukrzyca nie jest<br>leczona w Polsce zgodnie z zaleceniami<br>międzynarodowych towarzystw naukowych , w tym<br>Polskiego Towarzystwa Diabetologicznego ( PTD ) ,<br>świadczy według diabetologa to , że u mniej niż 7<br>proc . pacjentów z cukrzycą udaje się uzyskać<br>najważniejsze cele terapeutyczne , tj . odpowiedni<br>poziom glukozy ( mierzony wskaźnikiem hemoglobiny<br>glikowanej HbA1c ) , ciśnienia tętniczego oraz<br>lipidów ( cholesterolu ) we krwi .",
           "__label__meta_zero"
          ],
          [
           "Sprzedaż na poziomie 21 , 5 mln zł i 2 , 2 mln zł<br>zysku brutto , to wyniki jakie osiągnęła w I kw .<br>br . Gromada , trzecia pod względem wielkości sieć<br>hotelowa w Polsce . W I kw . 2011 r . Gromada<br>odnotowała 19 mln zł przychodów i niespełna milion<br>zł . zysku , co oznacza wzrost odpowiednio o 13 i<br>29 proc . Gromada , dysponująca łącznie 20<br>hotelami i ośrodkami wypoczynkowymi z ponad 2 , 1<br>tys . pokoi oraz siecią biur turystycznych ,<br>będzie pozbywać się nierentownych obiektów i<br>zarabiać głównie na usługach dla firm . Zajmie się<br>także turystyką medyczną . „ Chcemy być siecią<br>kojarzoną z turystyką kongresową i biznesową<br>poprzez duże centra konferencyjne , jak w<br>Warszawie i Krakowie , a także z niedrogą siecią<br>hoteli miejskich – zapowiada prezes Jan Błoński .",
           "__label__meta_zero"
          ],
          [
           "Dodaje , że jeśli w projekcie pojawią się ciekawe<br>rozwiązania , trzeba będzie – właśnie dla<br>bezpieczeństwa - podjąć współpracę z „ prawdziwą ”<br>medycyną . Obecnie takie kontakty NANOBIOM zawarło<br>z ośrodkami badawczymi , które umożliwiają<br>prowadzenie badań m . in . na myszach i prosiakach<br>. Te pilotażowe prace polegają na wprowadzaniu<br>nanocząstek do żywych organizmów i badaniu<br>mechanizmów ich wchłaniania oraz tego , jak<br>roznoszą się one po organizmie z krwioobiegiem .<br>Prof . Godlewski wyjaśnia , że nanoproszki krążące<br>w organizmie mogą znacznikować zmiany nowotworowe<br>. Daje to szansę wczesnego wykrycia choroby , a<br>nowotwór wcześnie wykryty jest kategoryzowany jako<br>choroba przewlekła , ale nie śmiertelna - różnica<br>jest olbrzymia i nadzieje wielkie .",
           "__label__meta_zero"
          ],
          [
           "Jednak pierwszy pacjent , który go przeszedł<br>musiał mieć przedtem wykonaną skomplikowaną<br>kilkugodzinną operację usunięcia trzustki z powodu<br>przewlekłego zapalenia tego narządu . Była bardzo<br>trudna , ponieważ mężczyzna już wcześniej<br>przechodził operację z tej przyczyny – wykonano mu<br>wówczas tzw . bypass żołądkowo - jelitowy , po<br>którym w jamie otrzewnej pozostało dużo zrostów .<br>„ Wycinając pacjentowi trzustkę wywołujemy u niego<br>cukrzycę typu 1 , która wymaga podawania insuliny<br>. Aby tego uniknąć z usuniętego narządu<br>natychmiast wyizolowali śmy wyspy trzustkowe i<br>wszczepili śmy je pod śluzówkę żołądka chorego .<br>Było to zatem autoprzeszczepienie , co jest<br>korzystne , bo nie grozi odrzuceniem przeszczepu i<br>nie wymaga stosowania leków immunosupresyjnych ” -<br>tłumaczył prof . Chmura .",
           "__label__meta_zero"
          ],
          [
           " Mało ludzi jest świadomych , że niedokrwistość (<br>anemia ) , u małego dziecka istotnie wpływa<br>negatywnie na jego intelekt w przyszłości . Przy<br>czym niedokrwistość z niedoboru żelaza jest jedną<br>z najczęstszych chorób przewlekłych u dzieci i<br>jednocześnie jedną z nielicznych , które możemy<br>skutecznie i szybko wyleczyć  – podkreślił .<br>Poprawa wykrywalności chorób hematologicznych<br>poprzez edukację nt . objawów i istoty wczesnej<br>diagnostyki w powodzeniu terapii to główny cel<br>kampanii edukacyjnej „ Odpowiedź masz we krwi ” ,<br>wspieranej m . in . przez Polskie Towarzystwo<br>Hematologów i Transfuzjologów , Polskie<br>Towarzystwo Onkologii i Hematologii Dziecięcej<br>oraz Instytut Hematologii i Transfuzjologii .<br>Patronat honorowy nad kampanią objęli konsultant<br>krajowy w dziedzinie hematologii , prof . dr hab .<br>n . med . Wiesław W . Jędrzejczak oraz konsultant<br>krajowy w dziedzinie medycyny pracy , lek . Paweł<br>Wdówik .",
           "__label__meta_zero"
          ],
          [
           "W ostatnich kilkudziesięciu latach więcej osób<br>umiera w szpitalach lub hospicjach . Z danych GUS<br>wynika , że w 1980 r . w szpitalu zmarło 42 , 7<br>proc . osób , 0 , 5 proc . w innym zakładzie<br>opieki zdrowotnej ; 49 , 1 proc . zgonów nastąpiło<br>w domu . Po 30 latach proporcje te znacznie się<br>zmieniły m . in . w związku z długotrwałymi<br>procesami leczenia w szpitalach . W 2011 roku aż<br>50 , 6 proc . zgonów nastąpiło w szpitalach , 6 ,<br>6 proc . w innych placówkach ( głównie w<br>hospicjach ) , a 37 proc . w domach . Tym samym<br>zmniejszało się obciążenie rodziny opieką nad<br>umierającymi . Jednocześnie można podejrzewać , że<br>wskutek zaniku naturalnego , w minionych epokach<br>historycznych , \" oswojenia śmierci \" stres<br>psychiczny wynikający z utraty bliskiej osoby nie<br>zmniejszył się , lecz wręcz przeciwnie – narasta .",
           "__label__meta_zero"
          ],
          [
           " Równolegle do działalności naukowej Centrum<br>prowadziło bardzo intensywne działania w obszarze<br>społecznym . Powołali śmy Akademię Zdrowego<br>Starzenia , która nie jest jedynie uniwersytetem<br>trzeciego wieku , ale i realizacją idei , że osoby<br>starsze należy nie tylko edukować , lecz starać<br>się też zmieniać ich styl życia . W cyklach<br>warsztatów przeszkolili śmy ok . 1 , 3 tys .<br>seniorów . Uważamy , że te działania to właściwa<br>droga do propagowania zdrowego starzenia się ,<br>dlatego mamy zamiar je kontynuować  - zaznaczył<br>prof . Kowalski . Tematy warsztatów w ramach<br>Akademii Zdrowego Starzenia dotyczyły utrzymania<br>sprawności fizycznej i psychicznej , zdrowego<br>odżywianie i radzenia sobie z chorobami typowymi<br>dla osób w starszym wieku . Z zajęć skorzystało<br>600 seniorów .",
           "__label__meta_zero"
          ],
          [
           "Jak wyjaśnił PAP prof . Krzysztof Simon , prezes<br>Polskiego Towarzystwa Epidemiologów i Lekarzy<br>Chorób Zakaźnych , jeśli wynik testu na HCV będzie<br>pozytywny pacjent powinien zgłosić się do lekarza<br>specjalisty chorób zakaźnych , który oceni , czy<br>infekcja ma charakter aktywny , czy też dodatni<br>wynik testu tylko świadczy o kontakcie z wirusem w<br>przeszłości . „ Niestety , większość przypadków<br>zakażenia przechodzi w postać przetrwałą i wymaga<br>lub będzie wymagała leczenia ” – ocenił<br>specjalista . O tym , jak bardzo potrzebna jest<br>edukacja społeczeństwa na temat WZW C i zachęcanie<br>do wykonywania testów świadczyć mogą wyniki<br>ostatnich badań przeprowadzonych przez instytut<br>badawczy GfK Polonia w lutym 2012 roku . Wskazują<br>one , że 32 proc . Polaków nigdy nie słyszało o<br>HCV i WZW C i tylko 6 proc . kojarzy skrót HCV z<br>wirusem wywołującym chorobę wątroby . Spośród osób<br>, które słyszały o HCV / WZW C 61 proc . było<br>mylnie przekonanych o istnieniu szczepionki<br>przeciwko HCV ( a tej ciągle nie opracowano ) .<br>Zaledwie 9 proc . zadeklarowało , iż wykonało<br>testy w kierunku zakażenia HCV .",
           "__label__meta_zero"
          ],
          [
           "Na jednym z blogów poświęconych Gdyni można<br>znaleźć taką informację o obiekcie : \" Hotel \"<br>Centralny \" został wzniesiony w 1928 roku przy ul<br>. Starowiejskiej 1 , w miejscu starej gospody . \"<br>Reklamowany jako \" pierwszorzędny dom , pokoje<br>zaopatrzone stale w ciepłą wodę i centralne<br>ogrzewanie . Na dole była restauracja i winiarnia<br>, duża sala pełniąca funkcję balowej lub<br>teatralnej oraz ogródek ze stolikami dla gości ,<br>ukrytymi pod parasolami lub drewnianym daszkiem \"<br>. Sielankę przerwała oczywiście wojna , ale po<br>wojnie właściciel odzyskał prawo posiadania<br>budynku . Nie na długo jednak .",
           "__label__meta_zero"
          ],
          [
           "Jednak duże sportowe imprezy takie jak Zimowe<br>Igrzyska Olimpijskie w roku 2014 i Mistrzostwa<br>Świata w Piłce Nożnej w roku 2018 powodują , że<br>baza rozwija się także w innych miastach , jak np<br>. w Soczi , które ma 13 , 2 proc . udziału w<br>budowanej i planowanej bazie hotelowej . Z innych<br>ośrodków największy wzrost markowej bazy hotelowej<br>odnotują m . in . Kaliningrad , Niżny Nowgorod i<br>Rostów nad Donem . Obecnie największą<br>międzynarodową grupą w Rosji jest Rezidor Hotel<br>Group , która dysponuje 21 hotelami z 6 357<br>pokojami , zaś w do roku 2018 chce zwiększyć swój<br>stan posiadania do 40 hoteli z 9 739 pokojami .",
           "__label__meta_zero"
          ],
          [
           "Obiekt oferuje 53 pokoje , salę konferencyjną ,<br>restaurację oraz podziemny parking . Według<br>zapowiedzi jeszcze w tym roku pod szyldem Best<br>Western rozpoczną działalność hotele w Gdańsku ,<br>Łebie i Samotworze pod Wrocławiem . „ W tym roku<br>podpisali śmy umowy już z pięcioma hotelami , z<br>czego cztery zaczną działać pod marką Best Western<br>jesienią . Tym sposobem nasza oferta wzbogaci się<br>o blisko 200 pokoi . A to jeszcze nie koniec .<br>Planujemy zamknąć rok 2012 z co najmniej 20<br>obiektami ” , mówi Gheorghe Marian Cristescu ,<br>regionalny dyrektor sprzedaży Best Western na<br>Polskę . W ciągu pierwszej połowy roku sieć Best<br>Western przyłączyła w Polsce jeden hotel ( Best<br>Western Poleczki ) z 24 pokojami , osiągając tym<br>samym stan 12 obiektów oferujących łącznie 1288<br>pokoi .",
           "__label__meta_zero"
          ],
          [
           "Hiszpańska sieć hotelowa Paradores jest synonimem<br>luksusu . Tu za pokój płaci się od 100 euro w górę<br>za noc , a w Pańskim hotelu , będącym wizytówką<br>grupy i położonym tuż obok słynnej katedry w<br>Santiago de Compostela - nawet 280 - 400 euro .<br>Mimo kryzysu Paradores dobrze sobie radzą . Jaka<br>jest Państwa filozofia działania ? To , co robimy<br>tutaj , robimy też w innych hotelach należących do<br>sieci . Jak Pani wie , nasza sieć liczy 83 lata<br>historii . Została ufundowana w 1928 r . Jej<br>powstaniu przyświecały jej trzy cele :<br>przywrócenie dawnej świetności historycznemu<br>dziedzictwu Hiszpanii – zamkom , pałacom , dawnym<br>klasztorom poprzez przekształcenie ich w hotele ,<br>po drugie - nadanie impulsu krajowej gospodarce<br>dzięki rozwojowi turystyki , a także ożywienie<br>turystyczne mniej znanych czy wręcz nieznanych<br>regionów i miejsc .",
           "__label__meta_zero"
          ],
          [
           "Młodzi krakowscy wynalazcy widzą w swoim pomyśle<br>duży potencjał komercjalizacyjny . Wynalazkiem<br>interesują się już różne placówki medyczne ,<br>jednak sprzedaż mogła by ruszyć dopiero po testach<br>urządzenia , czyli najwcześniej wiosną . \" Rynek<br>jest bardzo duży , szacuje się , że na całym<br>świecie liczba osób , u których zdiagnozowano<br>astmę , to ponad 250 mln . Nasz projekt stawia na<br>rozwiązywanie codziennych problemów pacjenta .<br>Chcemy , aby z naszym urządzeniem komfort ich<br>życia rósł , a uciążliwość choroby malała \" -<br>podsumował Tomasz Mikosz . Wynalazek wszedł by na<br>rynek poprzez start - up . Krakowski start - up<br>zdobył już wsparcie finansowe zlokalizowanego w<br>Berlinie inkubatora innowacji medycznych -<br>Startupbootcamp Digital Health . Wynalazek znalazł<br>się w gronie 10 zwycięskich projektów zgłoszonych<br>spośród 513 prac z całego świata do konkursu<br>Startupbootcamp Digital Health .",
           "__label__meta_zero"
          ],
          [
           "Mam pytanie odnośnie prowadzenia ciąży , czy w<br>przypadku nadciśnienia w drugiej części ciąży i<br>przyjęcia do siebie do szpitala wykonuje często<br>badania np . KTG i koniecznie ocenę przepływów<br>Doppler ? Właśnie zastanawiam się nad zmianą<br>lekarza i pod uwagę biorę między innymi dr Piętę .<br>Z góry dzięki . Pozdrawiam",
           "__label__meta_zero"
          ],
          [
           "Naukowcy z zespołu dr hab . Katarzyny Radwańskiej<br>z Instytutu Biologii Doświadczalnej PAN w<br>Warszawie przez 95 dni prowadzili eksperyment , w<br>którym badali skłonność myszy do sięgania po<br>alkohol . \" Myszy piją alkohol i to bardzo chętnie<br>. Natomiast nieco trudniej powiedzieć , czy myszy<br>mogą być od tego alkoholu uzależnione \" - mówi<br>Radwańska . W swojej pracy badawczej zajmuje się<br>ona m . in . zwierzęcymi modelami uzależnienia od<br>alkoholu , a jednym z jej celów badawczych jest<br>zrozumienie molekularnego , komórkowego podłoża<br>pamięci uzależnienia . \" Jeśli psychiatra ma<br>określić , czy jego pacjent jest uzależniony np .<br>od alkoholu , to zadaje mu konkretne pytania : jak<br>długo pije , czy jego picie przekłada się na życie<br>prywatne , zawodowe . My w pewnym sensie takie<br>same pytania musimy zadać myszom , które jak<br>wiadomo odpowiadają mniej chętnie \" - opisuje<br>badaczka .",
           "__label__meta_zero"
          ],
          [
           "„ Prof . Bandmann opisał u niej powolne zanikanie<br>neuronów , które produkują dopaminę . Jest to<br>dokładnie ten sam mechanizm , który wywołuje<br>postęp choroby u ludzi . Kiedy w określonej części<br>naszego mózgu zaniknie 80 procent takich neuronów<br>, wówczas pojawia się choroba Parkinsona . U ryby<br>można prześledzić przebieg tych patologicznych<br>zmian ” – wyjaśnia profesor . Uczeni szukają zatem<br>sposobów , żeby im zapobiec . Rozpuszczają w<br>wodzie różne substancje i sprawdzają , czy mogą<br>one wstrzymać lub przynajmniej opóźnić proces<br>zanikania neuronów dopaminergicznych . Od wielu<br>lat nie ma nowych leków na chorobę Parkinsona .<br>Dawki klasycznego leku muszą być stopniowo<br>zwiększane , a i tak po pewnym czasie przestają<br>działać .",
           "__label__meta_zero"
          ],
          [
           " O innowacyjności naszego rozwiązania technicznego<br>w konstrukcji nowego typu tomografu EPRI stanowi<br>możliwość otrzymywania w czasie kilku sekund<br>obrazów rozkładu stężenia tlenu we krwi pacjenta w<br>przestrzeni 3D . Stężenie tlenu we krwi to istotny<br>parametr w wykrywaniu i leczeniu nowotworów .<br>Możliwość obrazowania jego rozkładu stanowi<br>zasadniczy postęp w odniesieniu do innych technik<br>diagnozowania , takich jak PET , MRI . i wielu<br>innych  – tłumaczy inicjator wynalazku dr Tomasz<br>Czechowski z Laboratorium Tomografii EPR Instytutu<br>Technologii Materiałów . Wyjaśnia , że z chwilą<br>wykrycia nowotworu należy pacjenta przeprowadzić<br>przez odpowiednią terapię . Zastosowanie np .<br>radioterapii wymaga wiedzy o odpowiednim poziomie<br>stężenia tlenu wokół nowotworu . Jeśli poziom ten<br>utrzymuje się poniżej pewnej wartości , wówczas<br>niszczone są bardziej zdrowe komórki aniżeli guz -<br>mniej czuły na terapię . Jeżeli stężenie tlenu<br>jest powyżej określonej wartości , to terapia<br>będzie efektywniejsza . Ten wskaźnik pozwala<br>lekarzom na zaplanowanie optymalnego leczenia ,<br>które w mniejszym stopniu obciąża pacjenta .",
           "__label__meta_zero"
          ],
          [
           "Jednoczesny przeszczep był u tego chorego<br>konieczny z powodu genetyczne uwarunkowanej<br>choroby spichrzeniowej , która powoduje , że<br>brakuje niektórych enzymów w wątrobie i odkładają<br>się substancje uszkadzające mięsień sercowy . \"<br>Gdy w takiej sytuacji przeszczepimy jedynie serce<br>, to wątroba nadal nie produkuje tych enzymów i<br>nowe serce zostanie uszkodzone \" – wyjaśniał prof<br>. Kuśmierczyk . Specjalista powiedział , że w<br>przyszłości będzie coraz większe zapotrzebowanie<br>na jednoczesne przeszczepy serca i wątroby ,<br>ponieważ przybywa pacjentów w młodym wieku z tzw .<br>jednokomorowym sercem . \" Polska jest drugim<br>krajem na świecie po Stanach Zjednoczonych , w<br>których operacje się najwięcej noworodków z<br>niedorozwojem lewej komory serca \" – podkreśla<br>prof . Kuśmierczyk .",
           "__label__meta_zero"
          ],
          [
           "Prawidłowa struktura kości jest wypadkową<br>aktywności dwóch typów komórek . Pierwsze to<br>osteoblasty , tworzą one mineralne rusztowanie<br>kości . Drugi typ to osteoklasty . Komórki te<br>odpowiadają za resorpcję kości , czyli wchłaniają<br>kości , są komórkami żernymi . Równowaga pomiędzy<br>przeciwstawnymi aktywnościami tych dwóch typów<br>komórek podlega regulacji przez hormony ,<br>neurotransmitery i cytokiny . Urszula Kędzierska<br>zamierza poznać ścieżki sygnałowe aktywowane w<br>komórkach kości przez cytokiny . Jak wyjaśnia ,<br>gdy dochodzi do infekcji , aktywowany układ<br>odpornościowy produkuje cytokiny prozapalne . Te<br>białka są cząsteczkami sygnałowymi i niosą<br>informacje o zagrożeniu zrozumiałą dla większości<br>komórek organizmu . Organizm przełącza się na „<br>awaryjny tryb pracy ” i rozwija ogólnoustrojową<br>reakcję zapalną . Taki stan nie jest stanem<br>równowagi , funkcje innych układów są zaburzone i<br>podporządkowane głównemu celowi jakim jest<br>przeżycie .",
           "__label__meta_zero"
          ],
          [
           "Wybór zarządu padł na kraje o stosunkowo niskich<br>kosztach wprowadzania produktów na rynek : Czechy<br>, Węgry , Słowację , Słowenię oraz Rumunię .<br>Środki otrzymane z NCBR spółka przeznaczy na<br>opracowanie i weryfikację strategii wejścia na<br>rynki zagraniczne . Umiędzynarodowienie<br>działalności będzie się łączyć z udziałem w<br>targach , szkoleniach i spotkaniach biznesowych .<br>„ W dalszej perspektywie planujemy wprowadzenie na<br>rynki zagraniczne całej oferty produktowej<br>przedsiębiorstwa oraz preparatów , które pozostają<br>obecnie w przygotowaniu . Aktualnie mamy w swoim<br>portfolio 11 preparatów . Linia Calmapherol to 4<br>preparaty – dla pacjentów z podrażnioną ,<br>zaczerwienioną i swędzącą skórą . Na linię<br>Calmapherol Baby składają się 3 preparaty<br>pielęgnacyjne dla niemowląt i dzieci z atopowym<br>zapaleniem skóry . Dla osób z suchą i przesuszoną<br>skórą przygotowali śmy linię Idravitae , natomiast<br>dla tych , którzy mają skłonności do opryszczki ,<br>mamy innowacyjny preparat Celip duo ” – wylicza<br>Prejsnar .",
           "__label__meta_zero"
          ],
          [
           "Na razie wcale nie jest tak prosto wykazać , że<br>zakatarzony pacjent , który przychodzi do lekarza<br>z gorączką i kaszlem , ma akurat grypę . Względną<br>pewność dają tylko niedostępne dla zwykłych<br>zjadaczy chleba badania pobranych od pacjenta<br>próbek ( badania masowe lub PCR ) . To testy ,<br>które są nie tylko drogie , ale w dodatku<br>zabierają sporo czasu - na wyniki trzeba czekać<br>kilka dni . Lekarze , nie mogąc od razu ustalić ,<br>czy mają do czynienia z infekcją wirusową czy<br>bakteryjną , czasami - na wszelki wypadek -<br>przepisują choremu antybiotyki . A to w przypadku<br>obecności wirusa , np . grypy czy rinowirusa ,<br>jest zupełnie niepotrzebne i przyczynia się do<br>osłabienia organizmu , a także powstawania<br>szczepów bakterii opornych na antybiotyki .",
           "__label__meta_zero"
          ],
          [
           "O śródbłonek możemy zadbać sami , przede wszystkim<br>zwracając uwagę na to , co pojawia się na naszym<br>talerzu . \" Należy pamiętać , że dieta powinna być<br>zbilansowana , bogata w warzywa i owoce , które są<br>źródłem witamin i antyoksydantów , a ograniczać<br>spożycie tłuszczów zwierzęcych \" - wyjaśnia dr<br>Balcerczyk . \" Po drugie , strać się eliminować<br>stres , co nie zawsze jest łatwe i zażywać dużo<br>ruchu . To wszystko , zapewni odpowiedni profil<br>aktywności śródbłonka i zminimalizuje ryzyko<br>chorób układu krążenia \" - dodaje . Współczesne<br>badania śródbłonka są prowadzone na wielu<br>poziomach i dotyczą różnych aspektów jego<br>funkcjonowania . Skuteczniejsze leczenie schorzeń<br>śródbłonka jest możliwe dzięki coraz lepszemu<br>rozumieniu jego roli w rozwoju poszczególnych<br>chorób .",
           "__label__meta_zero"
          ],
          [
           "Prototyp aparatu , który powstał dzięki współpracy<br>naukowców Politechniki Śląskiej , Politechniki<br>Częstochowskiej , lekarzy z Centrum Leczenia<br>Oparzeń w Siemianowicach Śląskich i inżynierów z<br>Instytutu Aparatury Medycznej w Zabrzu przesuwa<br>się nad ciałem pacjenta , „ skanując ”<br>powierzchnię rany . Po dokonaniu pomiaru<br>termogramy są \" rozkładane \" na płaszczyźnie i<br>porównywane ze sobą . Dlatego poza samą<br>diagnostyką oparzenia termowizja opasająca pozwala<br>na porównanie sposobu i tempa gojenia się ran ,<br>umożliwiając dopasowanie terapii i efektywne<br>leczenie . „ Droga takiego wynalazku do<br>powszechnego użycia jest bardzo długa ” – mówi<br>prof . Majchrzak . \" Najpierw jest koncepcja i<br>model wirtualny , który tworzyli śmy we współpracy<br>z siemianowickimi lekarzami , poprzez wykonanie<br>prototypu przez zabrzański IAM , aż po testy ,<br>których wciąż jest mało . Taki sprzęt jest<br>najpierw testowany na manekinach , sprawdza się<br>bezpieczeństwo jego użycia , testuje sposób<br>prowadzenia badania ( np . odległość od rany ,<br>pozwalającą optymalizować pomiar ) , potem<br>prowadzi się test na zdrowych i chorych ” –<br>opisuje badaczka .",
           "__label__meta_zero"
          ],
          [
           "Wyjątkową zaletą bazy opartej na pełnych genomach<br>126 zdrowych , długowiecznych ( 90 + ) Polaków<br>jest połączenie danych klinicznych ,<br>biochemicznych i genomowych . To genetyczny<br>wzorzec osoby długowiecznej , w dobrej kondycji .<br>Ma postać bazy danych , do której można odnosić<br>dane genetyczne każdego polskiego pacjenta , by<br>móc zaoferować mu precyzyjną diagnostykę genomową<br>. Długość życia i liczba osób starszych będą w<br>najbliższej przyszłości rosły . Jak mówiła dr hab<br>. Małgorzata Mossakowska z Instytutu Biologii<br>Komórkowej i Molekularnej , do badania wybrano<br>osoby w wieku powyżej 90 lat , niemające problemów<br>z codziennymi czynnościami życiowymi ( co najmniej<br>4 punkty na 6 możliwych ) , bez poważnych<br>problemów z pamięcią i funkcjami poznawczymi ( co<br>najmniej 20 punktów na 30 możliwych ) , które<br>przed 80 . rokiem życia nie chorowały na cukrzycę<br>typu 2 , udar , zawał serca ani nowotwory i miały<br>prawidłowe lub niemal nieprawidłowe wyniki badań<br>biochemicznych .",
           "__label__meta_zero"
          ],
          [
           "Badania zweryfikują pogląd , że pacjenci po<br>leczeniu ortodontycznym miewają problemy z zębami<br>i muszą częściej odwiedzać dentystów . Dotąd nie<br>dowiedziono jednoznacznie , że takie leczenie<br>osłabia szkliwo , natomiast korzyści z leczenia<br>ortodontycznego podejmowanego z powodów<br>pozaestetycznych nie budzą najmniejszych<br>wątpliwości . „ Dentyści maja sporą wiedzę na<br>temat wycieku metali z aparatów ortodontycznych i<br>dostawania się ich do śliny , mineralodzy mają<br>opracowane struktury zębów . Warto połączyć tę<br>wiedzę . Jednak metodyka badań nad wpływem tak<br>uwalnianych metali na zdrowie jest skomplikowana .<br>Badania kliniczne , gdzie potrzebujemy dużej próby<br>, są dość trudne dlatego , że na stan jamy ustnej<br>i śliny wpływają też nawyki poszczególnych<br>pacjentów i genetyka . Jeśli zaś chodzi o<br>eksperymenty , to ciężko jest oddać realne<br>środowisko , które panuje w jamie ustnej , gdzie<br>zęby są wystawione na tarcie , a skład śliny<br>nieustannie się zmienia - ciężko to odwzorować w<br>warunkach laboratoryjnych ” - tłumaczy w rozmowie<br>z PAP dr Topolska .",
           "__label__meta_zero"
          ],
          [
           "„ To bliskie sąsiedztwo człowieka . W przypadku<br>braku lub zbyt małej liczby ptasich żywicieli , a<br>także w przypadku nadmiernego wzrostu ich<br>populacji , wygłodniałe obrzeżki mogą przenikać do<br>mieszkań i atakować ludzi , głównie podczas<br>odpoczynku nocnego ” – powiedział PAP prof .<br>Solarz , który kieruje Zakładem Parazytologii<br>Wydziału Farmacji z Oddziałem Medycyny<br>Laboratoryjnej ŚUM w Sosnowcu . Obrzeżki gołębie<br>kłują bardzo boleśnie , a ich ofiara długo odczuwa<br>ból i świąd . Zmiany skórne mogą się utrzymywać<br>nawet do 1 , 5 roku . Jak podkreśla parazytolog ,<br>bardzo niebezpieczne jest zaatakowanie twarzy –<br>może spowodować opuchliznę lub paraliż kleszczowy<br>uniemożliwiający oddychanie . Efektem ukłucia może<br>być też zapalenie naczyń limfatycznych , a u osób<br>wrażliwych – reakcje alergiczne . „ W skrajnych<br>przypadkach powtarzające się ukłucia obrzeżków u<br>osób wrażliwych mogą spowodować wstrząs<br>anafilaktyczny i śmierć , notowano takie przypadki<br>w Polsce ” – przestrzegł prof . Solarz .",
           "__label__meta_zero"
          ],
          [
           "Sprawdźmy , czy usługi , takie jak sauna , posiłki<br>, parking nie są dodatkowo płatne . Zaszeregowania<br>obiektu do odpowiedniego rodzaju i kategorii<br>dokonuje marszałek województwa , który również<br>sprawdza czy przedsiębiorcy przestrzegają<br>określonych wymagań . Wykaz obiektów hotelarskich<br>możemy sprawdzić w specjalnym rejestrze .<br>WymaganiaW hotelach i motelach pięcio - , cztero -<br>i trzygwiazdkowych w każdym pokoju musi znajdować<br>się łazienka , zaś w przypadku pensjonatów tylko w<br>tych , które posiadają pięć lub cztery gwiazdki .<br>Tylko cztero - i pięciogwiazdkowe hotele i<br>wszystkie motele muszą zapewnić klientowi parking<br>strzeżony , garaż strzeżony bądź strzeżone miejsce<br>parkingowe .",
           "__label__meta_zero"
          ],
          [
           "Nie po to śledzi ktoś markę luksusowego samochodu<br>aby oglądać kotki . Ani też strony hotelu aby<br>codziennie rano dowiadywać się jak to super jest<br>wypić teraz kawę . Śledzi albo dlatego , że wyraża<br>uznanie dla marki ( jej usług czy produktów ) ,<br>lub też po to aby być na bieżąco z jej ofertą (<br>zwłaszcza promocjami , nowościami ) . Widzicie<br>paradoks ? Płacimy za reklamę , kiedy nie powinni<br>śmy i nie korzystamy z niej kiedy możemy ! W<br>sytuacji kiedy darmowo można promować własne<br>usługi to wolimy bawić się w sportowy newsroom .<br>Jak to miało miejsce np . w przypadku złotych<br>medali olimpijskich , kiedy ze świecą można było<br>szukać profili nie informujących o tym .<br>Prawdopodobnie największy z wymienionych błędów .<br>Zwłaszcza patrząc z perspektywy branży w jakiej<br>pracujemy .",
           "__label__meta_zero"
          ],
          [
           "Badacz z Instytutu Farmakologii PAN przypomniał ,<br>że możliwość leczniczego wykorzystania liści<br>konopi odkryli już w starożytności mieszkańcy<br>krajów Wschodu : Indii , Chin , Mezopotamii czy<br>Egiptu . Według źródeł pisanych Chińczycy już w<br>III tysiącleciu p . n . e . wykorzystywali<br>ekstrakty z tych roślin jako leki przeciwbólowe i<br>przeciwspastyczne ( zmniejszające sztywność mięśni<br>) . W świętych księgach hinduizmu - Wedach<br>wspomina się o konopiach jako o leku przeciw<br>bólowi , bezsenności oraz środkowi przeciw<br>znieczuleniu operacyjnemu . Europejczycy –<br>przypomniał profesor – wpadli na medyczne<br>zastosowanie tej rośliny stosunkowo późno – w<br>końcu XVIII wieku . Co więcej , w czasach nam<br>bliższych – na początku XX wieku , zdelegalizowano<br>w USA i Kanadzie marihuanę , podobnie stało się na<br>naszym kontynencie . Potem , z biegiem czasu , na<br>Zachodzie narastała kampania przeciw marihuanie ,<br>która spowodowała rodzaj społecznego tabu wokół<br>jakiegokolwiek jej wykorzystania , także w celach<br>terapii .",
           "__label__meta_zero"
          ]
         ],
         "hovertemplate": "Annotation=__label__meta_zero<br>t-SNE 1=%{x}<br>t-SNE 2=%{y}<br>sentence=%{customdata[0]}<br>annotation=%{customdata[1]}<extra></extra>",
         "legendgroup": "__label__meta_zero",
         "marker": {
          "color": "#00cc96",
          "symbol": "circle"
         },
         "mode": "markers",
         "name": "__label__meta_zero",
         "orientation": "v",
         "showlegend": true,
         "type": "scatter",
         "x": [
          -0.8206849694252014,
          -0.4751908481121063,
          0.7875759601593018,
          -1.29885733127594,
          -0.39354220032691956,
          -0.6028047800064087,
          -2.014070749282837,
          0.3308783769607544,
          -1.1474417448043823,
          -0.20485422015190125,
          -0.9833508729934692,
          -0.36588725447654724,
          -0.5649314522743225,
          -0.47690412402153015,
          -0.09233041852712631,
          -1.9532842636108398,
          0.07797852903604507,
          0.7037326693534851,
          0.13427802920341492,
          -0.151514932513237,
          0.13771232962608337,
          -0.5605116486549377,
          -0.43347612023353577,
          0.8018708825111389,
          -0.18188585340976715,
          -0.8570500016212463,
          0.19045348465442657,
          -0.1679578721523285,
          0.11162367463111877,
          -0.9736257195472717,
          0.4587133526802063,
          0.12805068492889404,
          1.1392086744308472,
          -0.5809697508811951,
          -0.43415218591690063,
          -0.4453190863132477,
          -0.895677924156189,
          -1.0434889793395996,
          -1.3192576169967651,
          -0.3941533863544464,
          -0.6990946531295776,
          2.0164573192596436,
          0.7270818948745728,
          0.6909655332565308,
          0.5354101061820984,
          0.007018852047622204,
          0.8476470112800598,
          -0.8033149838447571,
          0.502564549446106,
          0.8842862844467163,
          0.4918270409107208,
          -0.1782485544681549,
          0.2987995147705078,
          0.16439390182495117,
          -1.4885845184326172,
          -0.20937418937683105,
          1.1212512254714966
         ],
         "xaxis": "x",
         "y": [
          0.5162103772163391,
          1.2740437984466553,
          1.7672659158706665,
          0.7824510335922241,
          1.2983810901641846,
          1.94739830493927,
          -1.6392306089401245,
          0.9212918281555176,
          0.8469980359077454,
          1.8884801864624023,
          1.5182714462280273,
          -2.0352470874786377,
          1.8429043292999268,
          0.8052780628204346,
          1.799194097518921,
          0.13281184434890747,
          1.5406250953674316,
          1.629945158958435,
          1.9191887378692627,
          0.4490261971950531,
          1.5002881288528442,
          1.8384630680084229,
          1.8437607288360596,
          1.7264273166656494,
          0.6607289910316467,
          1.7048718929290771,
          0.3536844253540039,
          0.40861350297927856,
          1.5616554021835327,
          1.561782956123352,
          1.4232765436172485,
          0.8750948309898376,
          1.605034351348877,
          1.8706222772598267,
          0.9036229252815247,
          1.873613953590393,
          -1.822108507156372,
          1.5181264877319336,
          0.9981719255447388,
          -1.966040015220642,
          1.190835952758789,
          0.7505412101745605,
          1.2108428478240967,
          1.5647331476211548,
          1.701261281967163,
          1.8236744403839111,
          1.819023609161377,
          1.0328922271728516,
          0.6584821939468384,
          1.3070238828659058,
          1.1869434118270874,
          1.3454790115356445,
          1.3315147161483765,
          1.6228196620941162,
          0.639867901802063,
          0.27946901321411133,
          1.534124493598938
         ],
         "yaxis": "y"
        },
        {
         "customdata": [
          [
           "Spędzili śmy noc przy okazji zwiedzania kopalni .<br>Położenie hotelu nie jest zbyt relaksujące : koło<br>dużego marketu i drogi . Mimo to w pokoju cichutko<br>. Od kopalni 15 min spacerkiem . W środku bardzo<br>ładnie i gustownie . Nowoczesne , ale przytulne<br>wnętrza . Obsługa miła , ale trochę słabo<br>zorganizowana . Trochę profesjonalnego szlifu<br>brakuje . Śniadania ok .",
           "__label__meta_amb"
          ],
          [
           "Za dużo by pisać , w skrócie plusy i minusy :<br>PLUSY : Malownicze położenie , z widokiem na<br>jezioro , spokój , cisza , duży teren wokół<br>obiektu , miła obsługa , piękny z potencjałem<br>pałac , spa , duży plus za stół pingpongowy ! ! ,<br>smaczne śniadania , można powiedzieć wręcz<br>rodzinna atmosfera . MINUSY : Tak jak pisała m<br>hotel z potencjałem , widać jednak , że nikt od<br>dawno tu już nie inwestował a marketing zatrzymał<br>się w PRLu , gdzie dominowała zasada klient dla<br>nas nie my dla niego . W pokoju brak suszarki ,<br>tak jak o śniadaniach nie mogę niczego złego<br>powiedzieć tak o obiadokolacji już tak . Porcje<br>małe , potrawy mało wyszukana a ' la bar mleczny (<br>nawet smaczne ) do tego ceny astronomiczne nie<br>adekwatne do reszty .",
           "__label__meta_amb"
          ],
          [
           "Pani Doktor bardzo sympatyczna . To była moja<br>pierwsza wizyta wybrana dzięki opiniom ze strony<br>znanylekarz.pl I nie zawiodła m się . Życzliwe<br>podejście do pacjenta , wyjaśnienie każdej<br>wątpliwości oraz postrzeganie problemu szeroko tzn<br>. nie tylko ginekologicznie , ale też<br>endokrynologicznie . Podczas wizyty nie czuła m w<br>ogóle skrępowania , nie było zbędnych pytań ,<br>tylko same konkrety . A przy tym wizyta w stosunku<br>do innych specjalistów w atrakcyjnej cenie .<br>Polecam z czystym sumieniem . - - - - - - - - - -<br>- - - - - - - Niestety przy kolejnej wizycie w<br>marcu bardzo się zawiodła m , gdyż była m po<br>zabiegu a Pani Doktor zrobiła przegląd w 2 minuty<br>nie mówiąc nic . Gdyby m nie zadawała pytań , nie<br>otrzymała by m żadnych odpowiedzi ani informacji<br>co dalej mam robić i jak mam dalej postępować .<br>Rozumiem , że było opóźnienie w wizytach ponad 15<br>minut , ale pacjent płaci i chce być należycie<br>obsłużony . Niestety jak na początku miała m dobre<br>zdanie , tak po kolejnej wizycie się zmieniło .<br>Dodatkowo Pani Doktor twierdziła , że nadżerki nie<br>mam , a lekarze w szpitalu stwierdzili , że mam<br>bardzo rozległą , więc to chyba Pani Doktor cały<br>ten pośpiech powoduje , że wiele rzeczy Pani nie<br>dostrzega . Nie chcę wchodzić w kompetencje bo<br>myślę , że jest Pani na pewno dobrym lekarzem ,<br>ale pospiech nie jest dobrym doradcą i można<br>szybko stracić tym samym pacjenta .",
           "__label__meta_amb"
          ],
          [
           "Domek , który dostali śmy , nie był uwzględniony<br>na zdjęciach , które są dostępne na stronie<br>internetowej Villa Baltica ani Booking.com ( skąd<br>zamawiali śmy ) . Był to domek \" osobniak \" , nie<br>szeregówka - co było w sumie dobre , poza jedną<br>kwestią : temperatura w nocy bardzo szybko spadała<br>, przez co rano w domku było bardzo chłodno (<br>niefajne , mając na uwadze , że byli śmy z<br>półrocznym dzieckiem ) . Poza tym nie mam<br>zastrzeżeń : przyzwoity standard , bez luksusów ,<br>ale tych nie oczekiwali śmy , przede wszystkim zaś<br>- w oddaleniu od centrum Niechorza i całej<br>tamtejszej tandety , blisko lasu , cicho i<br>sympatycznie . Bardzo dobry kontakt z właścicielem<br>, miły człowiek .",
           "__label__meta_amb"
          ],
          [
           "Doktor bardzo dobry , kompetentny ale sądzę , że<br>zbyt mało czasu poświęca swoim pacjentom , no i to<br>jest ten minus , ale reszta jest nie do podważenia<br>. Jedynie co to pan na portierni zachowuje sie<br>arogancko i wyniośle ( choc nie wiem czy jeszcze<br>tam pracuje , bo dawno nie była m u doktora ) ,<br>ale oczywiście to nie wpływa na ocenę .",
           "__label__meta_amb"
          ],
          [
           "Pierwszy raz był em u dietetyka i chyba ostatni .<br>Po prostu otyłość utrudnia mi życie i coś muszę z<br>tym zrobić . Pani była bardzo miła i pewnie<br>kompetentna , dała mi szczegółowy jadłospis , ale<br>to nie dla mnie . Ja pracuję , żona też , w domu<br>obowiązki liczne , a do przygotowywania tych<br>posiłków z jadłospisu musiał by m chyba zatrudnić<br>gosposię , i to na cały etat . Sama lista<br>składników do zakupu na pierwsze dwa dni - to<br>chyba z 50 pozycji , część nie do kupienia w<br>zwykłym osiedlowym sklepie , a przygotowywanie to<br>co dzień najmniej ze 2 - 3 godziny . Skończyło się<br>na tym , że odrzucił em z posiłków cukier , mięso<br>wieprzowe , pieczywo , a zastąpił em to owocami ,<br>warzywami , miodem , rybą . Ale o tym mogę<br>poczytać w pierwszym lepszym poradniku , nie muszę<br>chodzić do dietetyka . Widocznie to specjalista<br>dla gospodyń domowych , które nudzą się w domu i<br>mogą pół dnia spędzić na zakupach i pitraszeniu .<br>A ja mam za dużo roboty",
           "__label__meta_amb"
          ],
          [
           "Wszędzie blisko . To co chcesz zobaczyć masz w<br>zasięgu ręki . Apartament jest wygodny , cichy i<br>chłodny ( latem ! ) . Dużym minusem jest żebracze<br>śniadanie serwowane w kawiarence ( pół kanapki ! )<br>i za to odejmuje punkt w recenzji . Myślę , że<br>dodatkowe pół bułki nie było by wielkim kosztem<br>dla hotelu , a tak : wstyd !",
           "__label__meta_amb"
          ],
          [
           "Zacznę od plusów : Animatorzy - bez wyjątku -<br>znakomici ! ! ! Pomocni dzieciom , otwarci do<br>zabawy , uśmiechnięci , MEGA zaangażowani w swoją<br>pracę , kulturalni , z wielką pasją i łatwością<br>kontaktu z dziećmi , mili , po prostu SUPER .<br>Zwiedzili śmy wiele miejsc ale takich animacji i<br>przede wszystkim takich Animatorów nie spotkali<br>śmy . Kolejnym atutem odległość od morza ,<br>następnym NOWY plac zabaw i baseny dla dzieci . No<br>i jeszcze Uśmiech i słyszane z dala \" Dzień Dobry<br>\" od obsługi sprzątającej . Na tym z plusami tego<br>miejsca można było by zakończyć . Pokój - mieli<br>śmy studio plus po remoncie , w sumie ok , choć<br>widać , że remont robiony raczej w pośpiechu - w<br>łazience pęknięta płytka , w wielu miejscach<br>brakuje już fugi , mała łazienka . Pokoju do<br>plusów nie zaliczam , choć nie uważam , że był zły<br>. BOISKA dla dzieci - to totalna masakra !<br>Asfaltowa , krzywa nawierzchnia , mini bramki , aż<br>szkoda tego opisywać . Najgorsze rozczarowanie to<br>KUCHNIA . Generalnie - najgorsza strona tego<br>miejsca . Mała różnorodność potraw , z reguły<br>podane \" bez wyrazu \" , jak na wiejskiej stołówce<br>a nie w restauracji , dania główne - bez względu<br>na porę przyjścia zwykle zimne lub \" letnie \" ,<br>kawa i kruche ciastko - totalne nieporozumienie .<br>Cieszymy się , że nasze dzieci wróciły zachwycone<br>i to najważniejsze . Bez dzieci do tego miejsca<br>nie wybrał by m się nigdy więcej . Za takie czy<br>niewiele większe pieniądze można znaleźć wiele<br>atrakcyjnych ofert .",
           "__label__meta_amb"
          ],
          [
           "Lokalizacja super , wszędzie blisko na piechotę .<br>Hotel nie dysponuje własnym parkingiem , trzeba<br>zostawić auto na oddalonym o ok . 5 min . na<br>piechotę parkingu płatnym albo ( jak się znajdzie<br>miejsce ) na ulicy ( płatne od poniedziałku do<br>piątku ) . Jedank bagaże można wyładować przed<br>hotelem , gdyż jest jedno zarezerwowane miesce<br>przeznaczone na ten cel . Nasz pokój był raczej<br>ciasny , ale jakoś się pomieścili śmy . Był<br>elektryczny czajnik - plus za to . Pokoje<br>usytuowane są na czterech piętrach , hotel jednak<br>nie dysponuje windą . Wnoszenie bagaży krętymi<br>schodami było uciążliwe . Sniadanie ok ( twarog ,<br>ser zolty , parowki , jajecznica na zamowienie (<br>nie probowalismy ) , mozzarella z pomidorami ,<br>chleb toastowy + toster , woda , sok jabłkowy i<br>pomarańczowy , mleko , chyba płatki albo musli ,<br>więcej nie pamiętam ) , kawa raczej słaba . W sali<br>, gdzie podawano śniadanie było zimno . Obsługa<br>bardzo miła .",
           "__label__meta_amb"
          ],
          [
           "Ten hotel ma tak naprawdę dwa oblicza : 1 .<br>Pozytywne : - piękna okolica , sąsiedztwo Zalewu<br>Zegrzyńskiego , piaszczysta plaża , możliwość<br>wypożyczenia kajaków - Kiddos - genialne miejsce<br>dla dzieci w którym nigdy się nie nudzą ,<br>profesjonalna obsługa z możliwością podglądu na<br>ekranach - SPA - bardzo profesjonalne - Basen -<br>rewelacja - szczególnie fajna rwąca rzeka -<br>Śniadania - duży wybór aczkolwiek monotonne -<br>Hotel duży , przestronny z ogromną ilością miejsca<br>z przemiłą obsługą - Yach Club restauracja -<br>rewelacja - najwyższy poziom obsługi i produktów z<br>miejscem dla dzieci do zabawy 2 . Negatywne : -<br>Śniadania - w momencie gdy mają duże obłożenie<br>chaos w restauracji - brak jedzenia , masła ,<br>wszedzie kolejka , nie nadążają dokładać produktów<br>- Śniadania - krzesełka dla dzieci - hotel który<br>się reklamuje jako dla dzieci do śniadania ma 5<br>krzesełek dla dzieci - rodzice chodzą i szukają<br>jak posadzić swoje pociechy żeby sami mogli zjeść<br>a obsługa informuje że więcej nie ma - nikt nie<br>każe kupować markowych ale z Ikei za kilkadziesiąt<br>złoty można by chyba kupić dodatkowe 10 - Góralska<br>Chata - jak jest obłożenie 15 minut czeka się na<br>to żeby w ogóle kelner podszedł przyjąć zamówienie<br>przy czym po chwili jest duża szansa , że<br>dostaniemy informację , że produktu już nie ma ,<br>danie dla dzieci kurczak z frytkami w każdym<br>przypadku przesuszony jakby był odgrzewany .<br>Największe kuriozum : pierogi ruskie ze słodkim<br>serem",
           "__label__meta_amb"
          ],
          [
           "Witam ! Biorąc wszystkie aspekty pod uwagę ,<br>wystawiam ocenę 4 / 5 , którą uważam w 100 %<br>adekwatną do wystroju , obsługi , pomieszczeń ,<br>lokalizacji itp . Najbardziej podobała mi się sama<br>lokalizacja hotelu oraz świetna kolacja z<br>szampanem i tutaj pochwała dla Pana w okularach ,<br>który nas obsługiwał . Najgorzej z całego pobytu<br>wypadła obsługa powitalna , zaraz po wejściu do<br>hotelu . Pani , która nas przyjmowała była<br>strasznie , ale to strasznie niemiła . Naprawdę<br>nie jestem osobą , która się czepia i szuka dziury<br>w całym , ale podejście do klienta , który<br>przyjechał z \" Gruponu \" czy jakiegoś innego<br>portalu na którym wykupił \" zniżkę \" na pobyt nie<br>jest powodem by traktować go dużo gorzej niżeli<br>inną osobę . Może po prostu trafili śmy na gorszy<br>dzień tamtej Pani . Przy wyjeździe natomiast była<br>bardzo miła i sympatyczna inna kobieta . Polecam z<br>czystego serca !",
           "__label__meta_amb"
          ],
          [
           "Hotel dobrze , położony . Blisko ruchliwej ulicy<br>ale między budynkami więc jest cichutko . W hotelu<br>są \" super \" windy - klaustrofobiczne , jak dwóch<br>facetów jedzie to maksymalnie dwóch tam wejdzie .<br>w związku z tym są mega kolejki do wind . Pokoje<br>niby w porządku , ale brudne . Sprzątane na odwal<br>. Nawet na muszli po poprzednich gościach była<br>dracha . Fajnie że jest aneks kuchenny , dobrze<br>wyposażony . Niestety syf w szafkach . Rozumiem że<br>hotel jest tani , że ma tańsze wyposazenie ale nie<br>rozumiem dlaczego dyrekcja nie dba o czystość .",
           "__label__meta_amb"
          ],
          [
           "Na pierwszy rzut oka hotel jest super . Urok mija<br>po pobycie w restauracji , lobby barze , basenie<br>czy spa . W każdym z tych miejsc jest bardzo<br>głośno i wręcz nie da się rozmawiać . Winną tego<br>jest akustyka całego hotelu i podziemia gdzie<br>znajdują się wszystkie atrakcje . Ściany i<br>posadzka są zbudowane z kamienia , powoduje to<br>gigantyczne echo . Dodatkowo siedząc w lobby barze<br>można być świadkiem transportowania różnego<br>rodzaju mebli ( stołów i krzeseł ) które są<br>noszone pomiędzy barem i stolikami . Kolacja w<br>formie bufetu za 70 zł od osoby to czysta kpina .<br>Bufet oferuje posiłki raczej niewygórowanych lotów<br>i na pewno nie jest wart swojej ceny . Płacąc 600<br>zł za dwie osoby , za 1 noc , dostał em w zamian<br>pokój do spania , dwa posiłki , mały zabieg spa .<br>Nie dostał em : klimatu , ciszy , relaksu ,<br>dobrego jedzenia . Za te pieniądze jest wiele<br>ciekawszych miejsce na weekend .",
           "__label__meta_amb"
          ],
          [
           "Hotel ogólnie zadbany , czysty , chyba jeden z<br>najstarszych w Krakowie , ale fasada budynku jest<br>w renowacji , a wnętrze bardzo nowoczesne ,<br>szczególnie w lobby i w restauracji . W<br>korytarzach między pokojami rzeczywiście trochę \"<br>śmierdzi PRL-em \" , lecz pokoje w miarę nowoczesne<br>i nowe , dużym minusem jest mała \" otwieralność \"<br>okien , ponieważ jest bardzo gorąco w pokoju , a<br>klimatyzacja nie działa , co jest mocnym<br>zaskoczeniem w maju . Obsługa dobra . Śniadania<br>dobre , w miarę bogate , tylko szkoda , że w ich<br>ramach nie ma napojów gazowanych tylko same soki .<br>Przystanek autobusowy \" Przybyszewskiego \" w<br>zasięgu wzroku z wyjścia z hotelu linią 501 / 511<br>3 przystanki do centrum przesiadkowego \" Plac<br>Inwalidów \" . Lokalizacja do centrum daleka jak na<br>Kraków , bo na Bronowicach . Ogólnie bardzo<br>polecam ten hotel . Aktualnie to takie 3 , 5 * ,<br>ale po trwających renowacjach mocne 4 * .",
           "__label__meta_amb"
          ],
          [
           "Hotel czasy świetności ma za sobą . Pokoje czyste<br>, odświeżone ale trochę małe . Obsługa się stara -<br>dużo młodych ludzi , którzy się uczą hotelarstwa .<br>Ja wolę ludzi którym może nie wszystko wychodzi ,<br>ale widać ze im zależy niż nadęte osoby , które<br>muszę przepraszać ze im przeszkadzam w pracy .<br>Dobra kuchnia , nie jest to restauracja ale<br>stołówka w dobrym wydaniu . Smacznie . W miarę<br>duży wybór , duży plus . Atutem jest aquapark ,<br>jest co robić i gdzie odpocząć po aktywnym dniu w<br>oczekiwaniu na posiłek . Lokalizacja na uboczu .",
           "__label__meta_amb"
          ],
          [
           "Hotel Novotel Warszawa Centrum wybieram ze względu<br>na jego lokalizację . Jest to hotel w samym<br>centrum Warszawy z widokiem - z jednej strony na<br>Pałac Kultury i centrum biznesowe , z drugiej na<br>stadion Narodowy i zachodnią część Warszawy . Jako<br>główne plusy tego hotelu wskazał by m : - bardzo<br>dobra lokalizacja - bardzo dobre warunki , w tym<br>sauna ze świetnym widokiem na miasto - darmowe<br>vouchery na powitalnego drinka ( dla posiadaczy<br>karty Accorhotels - minimum srebrnej ) -<br>zaproszenia na wieczorki artystyczneŚniadania w<br>hotelu są smaczne , ale wg mnie zbyt mało<br>urozmaicone . Pokoje schludne , czyste . Minusy<br>hotelu : - bardzo duża liczba gości , co powoduje<br>że czasem ciężko jest poczuć tam klimat odpoczynku<br>( zdarzyło mi się , że grupa gości nie<br>respektowała ciszy nocnej i zachowywała się głośno<br>na korytarzu ) - parking poza hotelem ( w budynku<br>obok ) - co powoduje konieczność uciążliwego<br>przenoszenia bagażyReasumując - polecam ten hotel<br>głównie ze względu na świetną lokalizację .",
           "__label__meta_amb"
          ],
          [
           "Niby , ze wszystko ok ale jest \" ale \" . Najpierw<br>co mi sie nie podobało : - Do śniadania zamiast<br>soków , podawane są napoje sztucznie słodzone , -<br>obsługa trochę sztywna jakby ktoś non stop im na<br>ręce patrzył , - w okna bardzo wieje co nie daje<br>spac . A teraz co mi sie podobało : - mimo małych<br>wymiarów materaca był wygodny i porządnie sie<br>wyspalem , - przepyszne jedzenie , sałatka Cezar<br>mistrzostwo świata - łazienki bardzo przyjemne -<br>mimo wszystko obsługa na bardzo dobrym poziomie .<br>Czy wrócę ? Choćby dla samej sałatki , ale na<br>pewno .",
           "__label__meta_amb"
          ],
          [
           "Miejsce niezwykle urokliwe , w otoczeniu samej<br>natury i to tak dosłownie . Mieli śmy pokój bardzo<br>ładny i przestronny . Natomiast w łazience<br>prysznic przeciekał . Myśle , że należy jakoś ta<br>kwestie rozwiązać aby uniknąć jakiś strat . Było<br>to dosyć niekomfortowe wychodząc z prysznica i<br>wchodząc od razu w kałuże . Śniadanie też uważam ,<br>że za skromne jak za tą cene ponieważ możnaby<br>wymyśleć coś bardziej kreatywnego niż to co można<br>dostać w sieciówkowym sklepie . Ale nie było<br>najgorsze . Całokształt oceniam na 4 !",
           "__label__meta_amb"
          ],
          [
           "Polecielismy na tygodniowe wakacje z narzeczona i<br>bylismy bardzo rozczarowani warunkami panujacymi<br>na miejscu . Mrowki w lazience , dwa niewygodne<br>pojedyncze lozka pomimo prosby o jedno podwojne i<br>bardzo maly basen . Na plus mozemy ocenic jedzenie<br>i obsuge w kuchni , bardzo przyjazni ludzie i<br>pyszne posilki o kazdej porze . Fajne animacje i<br>zjezdzalnia do basenu . Bardzo male plaze , albo<br>bardzo ladne widoki . Polecamy wycieczke do Palmy<br>, jednakze trzeba sie liczyc z brakiem powrotnego<br>autobusu wieczorem , tak wiec proponuje wynajem<br>auta , my zaplacilismy sporo za taxi .",
           "__label__meta_amb"
          ],
          [
           "Ten hotel na pewno nie zapewnia standardu 4 * , to<br>co oferuje to solidne 3 * względnie nawet 3 * + ,<br>ale nie 4 . Nowy budynek , ale dość tandetny ,<br>ściany wystarczająco cienkie , by dało się<br>dosłyszeć sąsiadów . Wszystko wygląda w miarę<br>przyzwoicie , ale widać , że za kilka lat ten<br>hotel nie będzie zbyt przyjaznym miejscem .<br>Dziwaczny system w pokoju , który w momencie gdy<br>wyłącza się główne oświetlenie wyłącza<br>automatycznie wentylację / klimę . Obsługa<br>niestety niezbyt sympatyczna , bez doświadczenia i<br>praktyki - przy zameldowaniu musiałem się naczekać<br>, pomimo obecności 3 osób , Dwie panienki<br>obsługiwały jedną klientkę , po chwili doszedł<br>kolega , który niby chciał mnie zameldować , ale<br>gdy tylko dojrzał , że jego koleżanki już pomału<br>kończą , odpuścił , stwierdzając , że zanim on się<br>zaloguje do systemu … . Jak na hotel 4 * to po<br>prostu żenada . Może kluczem do tajemnicy jest to<br>, że hotelu nie prowadzi Orbis ale firma o nazwie<br>\" Hotele ekonomiczne \" ? I w sumie to się zgadza -<br>Novotel w Łodzi prezentuje poziom usług hotelu<br>ekonomicznego , ale na pewno nie 4 * .",
           "__label__meta_amb"
          ],
          [
           "Nieco na uboczu w stosunku do zabytków , ale<br>nieodległa stacja metro ( 5 - 7 min . ) pozwala<br>dotrzeć szybko do większości ciekawych miejsc .<br>Przy odrobinie szczęścia możną trafić na tramwaj<br>lub autobus - na przystankach brak rozkładu<br>jazdyWarto kupić kartę wieloprzejazdową . Hotel<br>dobrze utrzymany , obsługa OK , śniadania smaczne<br>( poza sztywną jajecznicą z pojemnika ) . Pokój<br>wygodny , ogrzewanie , które można regulować<br>samemuŁazienka dobrze wyposażona - umywalka ,<br>wanna , bidet , sedes , kosmetyki dobrej jakości",
           "__label__meta_amb"
          ],
          [
           "Była m w willi raj wraz z partnerem - pobyt<br>zakupiony w ramach zakupów grupowych . Miał to być<br>prezent imieninowy . Oferta obejmowała pobyt w<br>pokoju dwuosobowym , wyżywienie - śniadania plus<br>obiadokolacje , bon na zabiegi spa oraz wejście do<br>strefy wellness i spa . Poniżej krótkie<br>podsumowanie poszczególnych elementów :<br>Lokalizacja : Duży plus . W pobliżu park zdrojowy<br>i alternatywne ( lepsze ) knajpy . Bardzo blisko (<br>3 - 5 min . drogi ) do centrum i marketu . Pokoje<br>: pokój z łazienką , wielkość pokoju odpowiednia .<br>Plusy : w pokoju było ciepło ( przy minus 18<br>stopniach na zewnątrz ) , czyste ręczniki , świeża<br>pościel , było czysto . Minusy : łoże dwuosobowe<br>złożone było z dwóch pojedynczych łóżek , które<br>rozjeżdżały się , gdyż były na kółkach ( blokada<br>kół była popsuta ) , popsuta kabina prysznicowa .<br>Wystrój staroświecki , sprawiał wrażenie raczej<br>zaniedbania niż luksusu ( choć mniemam , iż taki<br>właśnie był zamysł autora ) . Wyżywienie : Posiłki<br>serwowanie w restauracji w sąsiedniej willi .<br>Śniadania w formie szwedzkiego bufetu z<br>możliwością wyboru dania na ciepło ( jajecznica<br>lub parówki ) spełniały oczekiwania dla lokalu tej<br>klasy . Obiadokolacje smaczne , jednak przez aż<br>dwa dni pobytu nie udało się uniknąć wpadek w<br>postaci surowego w środku kotleta mielonego .<br>Dania z karty ( spoza wyżywienia wliczonego w cenę<br>) poniżej przeciętnej - sałatka cezara z<br>parmezanem bez parmezanu i spleśniały sok malinowy<br>do piwa . Obsługa przeprosiła za niedogodności ,<br>ale niestety nie zatarło to złego wrażenia .<br>Ponadto lokal serwuje posiłki jedynie do godziny<br>20 . 00 . , co nocnych Marków zmusza do<br>poszukiwania kulinarnych doznań na mieście .<br>Zabiegi SPA : Niestety , spośród wybranych w<br>ramach bonu zabiegów jeden z nich nie doszedł do<br>skutku z powodu awarii urządzenia . Dopiero w dniu<br>wymeldowania zaproponowano nam rekompensatę w<br>wysokości 40 % wartości zabiegu , który się nie<br>odbył ( nie policzono dodatkowo zakupionej usługi<br>) . Masaż pleców całkiem przyjemny - nie przyniósł<br>jednak ulgi dla kręgosłupa , mimo iż temu właśnie<br>miał służyć . Strefa wellness : Ogólne wrażenie<br>pozytywne , pomijając jacuzzi działające \" na pół<br>gwizdka \" , niedziałającą saunę parową oraz<br>legendarną saunę infra red ( na której najbardziej<br>nam zależało ) , o której istnieniu informuje<br>oferta , ale nikt nie potrafi jej uruchomić .<br>Ogólne wrażenie : Oferta nie do końca była zgodna<br>z opisem . W przypadku zakupu w promocyjnej cenie<br>można jakoś przeżyć , jednak gdyby m zakupiła<br>wyjazd w standardowej cenie , jaka widnieje w<br>ofercie , była by m bardzo mocno rozczarowana .<br>Teraz jestem tylko mocno rozczarowana . Szkoda ,<br>bo myślę , że gdyby właściciele naprawili nieduże<br>, ale jednak doprowadzające do szału ( głównie<br>przez ich ilość ) usterki , obiekt miał by szansę<br>na prawdę się rozwinąć .",
           "__label__meta_amb"
          ],
          [
           "Zacznę może od dobrych rzeczy . Na plus czystość<br>pokojów , panie sprzątające robią robotę . Obsługa<br>nienachalna , miła , transparentna . Pyszne<br>śniadania , każdy znajdzie coś dla siebie . Fajnie<br>, że można zjeść na dworzu w ogródku . Bliziutko<br>do plaży , można na dworzu wypić piwko z kawiarni<br>lub ze sklepu . Z drugiej strony hotel trochę<br>nadgryziony przez ząb czasu , dywany mają<br>specyficzny zapach . W łazience , a to deska się<br>rusza , a to pojemnik na mydło odpada , a to<br>czytnik kart nie dziala , wifi które było<br>restartowane , a przez cały pobyt nie udało mi się<br>połączyć z internetem . Wizualnie też by dało się<br>hotel odświeżyć . Generalnie nie mam zbyt wielkich<br>oczekiwań co do * * , hotel nie popsuł mi wyjazdu<br>, ale za tą cenę nocowała m w lepszych miejscach .",
           "__label__meta_amb"
          ],
          [
           "Spędził em w \" Śnieżce \" dwa tygodnie w ramach<br>wakacyjnej oferty osadkowo . Ośrodek bardzo<br>rozległy i wielopoziomowy co oznacza że położona<br>jest na bardzo długiej ( ok 600 - 800 m od<br>recepcji do najdalej położonych apartamentów ) i<br>dość wąskiej działce o zróżnicowanym nachyleniu<br>terenu . Apartamenty bardzo duże , eleganckie i<br>bardzo dobrze wyposażone ( zgodnie z opisem na<br>stronie ) . Apartamenty na parterze w większości<br>zlokalizowane są tak że zagląda się do nich przez<br>okno przechodząc chodnikiem dlatego zdecydowanie<br>polecam te umieszczone na piętrze oraz z uwagi na<br>wygodę poruszania się po obiekcie polecam te nie<br>objęte programem osadkowo ( obklejone zwierzakami<br>dla dzieci ) . Jedzenie bardzo smaczne i<br>urozmaicone , problemem jest dość mała ilość<br>miejsca w restauracji śnieżka . Baseny czyste ,<br>małe i bez zjeżdżalni dla większych dzieci .<br>Animacje w ramach osadkowa skierowane głównie do<br>młodszych dzieci . Zaplecze w postaci family<br>center i placu zabaw bardzo małe i w sezonie<br>zdecydowanie za ciasne . Jeśli ktoś nastawi się na<br>ćwiczenie w fit center to uprzedzam że jest ono<br>mikroskopijne i do tego bardzo ubogo wyposażone ,<br>ale na plus uznaję fakt iż jest . Na duży plus<br>zasługuje fakt iż w osadzie można nabyć w bardzo<br>atrakcyjnych cenach wejściówki do niektórych<br>okolicznych atrakcji regionu ( np . huta Julia ) .<br>W sezonie również lekki problem z parkowaniem<br>samochodów ( brak wystarczającej liczby miejsc<br>postojowych pod apartamentami ) . Ogólnie polecam<br>ośrodek dla rodzin z dziećmi , które lubią spędzać<br>czas aktywnie i niekoniecznie na terenie ośrodka ,<br>ponieważ jego lokalizacja stanowi bazę wypadową do<br>wycieczek po okolicy . Do sklepu i stacji<br>benzynowej ok 500 m .",
           "__label__meta_amb"
          ],
          [
           "Mały zajazd w dość dużej odległości od centrum .<br>Pokoje w osobnym budynku . Sam pokój czysty ale<br>chłodny i bardzo wilgotny . Łazienka niestety<br>wymaga zdecydowanie odświeżenia i dogrzewania -<br>wilgotno na tyle że ręczniki nie wyschły przez noc<br>wcale a woda z przepływowego ogrzewacza - niezbyt<br>ciepła i malutkie ciśnienie pod prysznicem . W<br>pokoju przydał by się też chociaż czajnik .<br>Śniadanie smaczne .",
           "__label__meta_amb"
          ],
          [
           "Sama lokalizacja hotelu bardzo średnia . . Osoba<br>nie posiadająca samochodu musi 10 - 15 minut dojśc<br>do pętli tramwajowej skąd dojedzie do centrum<br>Wrocławia ( np . Galeria Dominikańska ) jakieś 25<br>- 30 minut . Robi się juz z tego mała wyprawa .<br>Jedzenie w sumie jest bardzo smaczne , nie mam na<br>co narzekać . Pokoje bardzo średniej jakości .<br>Cześć z nich jest niby po remoncie ale momentami<br>ma się wrażenie że wcale go nie było . Niestety<br>uczulam na jakoś wody w hotelu . . już po kilku<br>dniach miała m nieprzyjemne uczulenie na ciele . .<br>. .",
           "__label__meta_amb"
          ],
          [
           "Witam , dziś i ja dołączyła m do grona osób<br>leczących się u Pani dr . Póki co nie mogę za<br>wiele powiedzieć o skuteczności leczenia . Pani<br>doktor bardzo spokojna , opanowana . Reagowała<br>natychmiast na każdą moją niechęć do proponowanego<br>leku , bo przeszła m już sporo specyfików w<br>dotychczasowym leczeniu .",
           "__label__meta_amb"
          ],
          [
           "Wybrali śmy się do tego obiektu na pobyt<br>walentynkowy całą rodziną , dzieci w wieku 6 , 9<br>lat . Ocena ogólna 3 . Wystrój całości wczesne<br>lata 90 , kuchnia raczej średnia bez rewelacji .<br>Duży minus za wprowadzenie mnie w błąd gdyż<br>podczas rezerwacji uzyskał em info kwatera w<br>budynku A jest głównym budynkiem w którym jest<br>restauracja i basen a okazało się to nie prawdą .<br>. . Duży minus również za wprowadzenie w błąd<br>informacją o sieci wi - fi której defakto nie ma<br>ani w budynku A ani holu budynku B . Pokoje małe<br>nie funkcjonalne ale czyste . Plus za strefę<br>basenową dla dzieci . . . Ogólne jeżeli komuś nie<br>zależy na odrobinie luksusu , nie przeszladza<br>jedzenie w stołówce rodem PRL może śmiało<br>odwiedzić ten obiekt , jeśli zaś nastawiacje się<br>na jakośc adekwatną do ceny poszperajcie w net i<br>znajdzcie inny obiekt . .",
           "__label__meta_amb"
          ],
          [
           "Na razie trudno coś powiedzieć o samym leczeniu ,<br>ponieważ dostał em skierowanie na badania i<br>dopiero w oparciu o wyniki będzie diagnoza i<br>zalecenia . Wizyta opóźniła się niestety . Pan<br>doktor miły , życzliwy , zainteresowany pacjentem<br>, przeprowadził szczegółowy wywiad i oględziny<br>zmian skórnych . Mam nadzieję , że będzie w stanie<br>mi pomóc .",
           "__label__meta_amb"
          ],
          [
           "Hostel jak hostel spali śmy w lepszych , dobrze że<br>trafił się \" apartament o podwyższonym standardzie<br>\" dzięki temu była cisza spokój , polecam na<br>bardzo krótki pobyt bez wymagań , śniadanie no cóż<br>lepiej zjeść trzy kroki dalej w cukierni albo w<br>kawiarence : )",
           "__label__meta_amb"
          ],
          [
           "W większości przypadków Pani Doktor rzeczywiście<br>jest miła i przyjemna . Jednakże jak nie ma humoru<br>, jest opryskliwa i nieprzyjemna . Np . Odmawia<br>wykonania odpłatnie USG jajników , bo coś jej się<br>ubzdurało . Nie chce badać piersi . Niepoprawnie<br>interpretuje wyniki badań hormonów . Zaleta :<br>często wysyła na badania .",
           "__label__meta_amb"
          ],
          [
           "Hotel posiada świetną lokalizację . Ok 10 - 15min<br>od dworca Cais do Sodre , z którego można<br>przesiąść się w metro , kolejkę , autobusy i<br>tramwaje . Pod hotelem również jest przystanek<br>autobusowy i tramwajowy . Kamienica dość stara i<br>obskurna . Bardzo słabo oznaczona , ciężko<br>wieczorem było ją znaleźć . W środku ładnie .<br>Winda , wąskie schody . Wyposażenie apartamentu<br>dobre . Klimatyzacja działała bez zarzutu ( w<br>marcu jeszcze dość chłodnie więc trzeba było grzać<br>) . W łazience w wannie po 2 dniach odpadł zawór z<br>ciepłą wodą . . Łóżka duże i wygodne . Ogólnie<br>czysto w pokoju . W nocy hałas . Sklepy ,<br>kawiarnie blisko , pod wejściem do hotelu . Blisko<br>ok 10 min do świetnego targu z owocami i warzywami<br>i z pysznym jedzeniem - mercado do ribeira .<br>Internet działał bez zarzutu . Duży minus za brak<br>recepcji , albo chociaż możliwości zostawienia<br>bagażu w dniu wylotu . Przy następnym pobycie w<br>Lizbonie na pewno zatrzymam się w tym miejscu .<br>Polecam ! ! !",
           "__label__meta_amb"
          ],
          [
           "Bardzo dobry hotel , ciekawy wystrój , czysty ,<br>miłą obsługa , wysoki standard , gdyby nie<br>śniadanie , które jest na końcu i psuje całe<br>wrażenie . O godzinie 8 : 30 puste talerze a osoba<br>z obsługi średnio się ty przejmowała . To co<br>zostało zjedzone nie było już dokładane , szkoda ,<br>bo chętnie by m tam wracał ale jak wiadomo<br>śniadanie w całym dniu jest najważniejsze . Pokoje<br>na ostatnim piętrze - ciasne i niskie .",
           "__label__meta_amb"
          ],
          [
           "Plus . Dobre śniadanie , fajna obsluga panie w<br>recepcji pomocne , dobra lokalizacja . A poza tym<br>rozczarowanie jak na taka cene . . . brudna<br>wykladzina w pokoju , brudne sciany , odrapane<br>meble z czasów prl-u , drugiego dnia czekała m 10<br>min na ciepla wode pod prysznicem , nie doczekała<br>m sie . . . nie polecam .",
           "__label__meta_amb"
          ],
          [
           "Głównym problemem jest to że obiekt jest określany<br>jako hotel . Dla mnie ma standard podrzednego<br>taniego motelu . Cena za noc jest więc mocno<br>zawyzona . Hotel jest już praktycznie poza<br>Poznaniem i trudno do niego trafić . Typowa<br>noclegownia bo do centrum daleko . W środku<br>okropny zaduch i brud . Nie ma okien tylko ściana<br>wyłożona lustrem więc brak wentylacji .<br>Prawdopodobnie hotel jest zaadoptowany z jakiegos<br>budynku przemysłowego . Zero wygluszenia więc<br>słychać absolutnie wszystko z pokoju obok . Na<br>plus smaczne i różnorodne śniadanie i duży TV w<br>pokoju . Ogólnie można przeżyć ale nie za tę cenę<br>.",
           "__label__meta_amb"
          ],
          [
           "To zdecydowanie nie jest hotel dla wymagających<br>klientów . Jednak jak na Warszawę stosunek jakości<br>do ceny jest więcej niż zadowalający . Obiekt jest<br>sukcesywnie remontowany . Mankamentem jest brak<br>klimatyzacji . Przy tym należy pamiętać , że<br>pokoje od strony Wisły są głośne z uwagi na<br>przebiegającą ruchliwą ulicę . Natomiast pokoje od<br>strony miasta są ciche ale po południu bardzo się<br>nagrzewają . Po wybudowaniu 2 linii metra obiekt \"<br>przybliżył \" się do centrum . Z całą pewnością<br>będę wracał .",
           "__label__meta_amb"
          ],
          [
           "Jak na hotel biorący około 700 pln za nocleg w<br>sezonie , siłownia zaniedbana . Miła obsługa , ale<br>cóż z tego , jeśli wiele urządzeń \" znoszonych \" .<br>Działają , ale w tej klasie hotelu , powinno być<br>lepiej . Spójrzcie na zdjęcia . Następna uwaga !<br>Wykupił em karnet na 10 wejść ( pobyt tygodniowy )<br>głównie ze względu na to , że zaczynali od 8 . 00<br>, niestety , po weekendzie poinformowano mnie , że<br>będą czynni dopiero od 9 . 00 , nieładnie ! Poza<br>tym , jest tylko jedna klimatyzacja , jak sądzę<br>centralny system nawiewu albo za drogi albo nie<br>działa . Takie dziadowanie , a ceny pokoi , jak na<br>lokalizację , wysokie . Brak ławeczki do ćwiczeń<br>mięśnia prostego grzbietu .",
           "__label__meta_amb"
          ],
          [
           "Hotel bajecznie położony . Robi ogromne wrażenie<br>zarówno w środku jak i na zewnątrz . Wspaniałe<br>zaplecze rekreacyjno - sportowe . Właściwie ciężko<br>się nudzić . Oczywiście większość atrakcji<br>dodatkowo płatna . Do tego basen wewnętrzny i<br>całoroczny basen zewnętrzny z biczami i naprawdę<br>gorącą wodą . Pokoje bardzo porządnie wyposażone .<br>Przestronnie , czysto i bardzo komfortowo .<br>Praktycznie każdy pokój z pięknym widokiem . Jeśli<br>chodzi o kuchnie to śniadania rewelacyjne .<br>Natomiast zarówno obiadokolacje jak i dania ala ’<br>carte słabe . Zdecydowanie do poprawki . Dla mnie<br>skończyło to się poważnymi problemami z żołądkiem<br>, które trwają już 2 miesiące a są<br>najprawdopodobniej wynikiem zakażenia jakąś<br>bakterią . Choć też nie chciała by m tutaj zrzucać<br>pełnej winy na kolacyjną kuchnię „ bemarową ” , bo<br>przyczyną mogła być woda w kranie lub w basenie .<br>Tym samym przed wyjazdem do Arłamowa warto<br>pamiętać o tym , że z hotelu do najbliższego<br>sklepu jest 10km , natomiast najbliższy punkt<br>apteczny to 20km w jedną stronę . Ja miała m ta<br>nieprzyjemność dolegliwości żołądkowych i niestety<br>nikt nie był mi w stanie pomóc , gdyż w recepcji<br>mają zakaz dawania gościom jakichkolwiek leków .<br>Natomiast w mini kiosku znajdującym się na terenie<br>hotelu było tylko jedno opakowanie węgla<br>lekarskiego , gdyż jak powiedziała Pani<br>sprzedawczyni - tydzień wcześniej dość sporo<br>dzieci miało w hotelu problemy żołądkowe .<br>Przydało by się na takim odludziu i w tak masowym<br>obiekcie by apteka była na miejscu .",
           "__label__meta_amb"
          ],
          [
           "Ładny budynek , duże pokoje , nowe meble i czysto<br>. Bardzo miękkie łóżka - mi nie odpowiadają , ale<br>może mają swoich zwolenników . Mało przyjemna<br>obsługa , śniadania również mogły by być lepsze -<br>zimna jajecznica i parówki . Za tą cenę można<br>naprawdę zadbać o gości . Kilka drobnych zmian i<br>hotel mógł by być bardzo dobry . Jest potencjał ,<br>na razie nie wykorzystany",
           "__label__meta_amb"
          ],
          [
           "Przeczytalam wszystkie opinie o Pani Dr . Szczerze<br>powiem , tez mam mieszane uczucia . Urodzilam<br>pierwsze dziecko , chodzilam do Pani Dr przez cala<br>ciaze . Bywaly wizyty , ze odpowiadala na pytania<br>, miala czas i byla przemila , ale bywalo tez tak<br>, ze badanie trwalo chwile , sprawiala wrazenie ,<br>ze pracuje tu za kare , a ja jestem zwyklym<br>intruzem . . . potrafila odbierac tel w trakcie<br>wizyty i rozmawiac prywatnie , choc uwazam , ze<br>jest w pracy i nie powinna tego robic . . . .<br>jestesmy tylko ludzmi i mamy miec prawo gorsze dni<br>, ale trzeba tez uszanowac drugiego czlowieka , bo<br>tego wymaga kultura osobista i profesjonalizm ,<br>moim zdaniem . Na pewno uratowala wiele osob i<br>pomogla innym . To jest tak na prawde nasz wybor<br>do kogo chodzimy , wiec najpierw sie spotkajmy , a<br>potem oceniajmy . Pozdrawiam wszystkie Panie : )",
           "__label__meta_amb"
          ],
          [
           "Polecam ten hotel - świetny widok , super dojazd .<br>Obsługa hotelu na najwyższym poziomie - czysto i<br>przytulnie . Tylko jeśli chodzi o kuchnie to mam<br>pewne zastrzeżenia - kucharz chyba aspiruje do<br>masterchef-a ale mu się nie udaje . Potrawy ładnie<br>wyglądają ale brakuje im dobrego smaku . Proszę o<br>zmianę kuchni na bardziej regionalną a będę stałym<br>gościem . A i zimna woda w basenie - ale może<br>przesadzam : )",
           "__label__meta_amb"
          ],
          [
           "Świetne miejsce do odpoczynku po trudach<br>zwiedzania Lizbony i okolic . Bardzo blisko do<br>stacji metra , obok centrum Gulbenkiana i kilku<br>miłych restauracyjek . Centrum handlowe dla<br>lubiących towarzyszyć żonom w zakupach i Campo<br>Pequeno . Cztery gwiazdki , którymi szczyci się<br>hotel , to chyba troszkę za dużo . Pokoje wymagają<br>gruntownego remontu . Na podkreślenie zasługują<br>pokojowe , których praca zaskakuje sumiennością i<br>dokładnością . Śniadania naprawdę świetne , nawet<br>po kilku porankach można je spokojnie urozmaicić .<br>Problemem położenia hotelu są podchodzące do<br>lądowania samoloty , szczególnie dla mieszkających<br>od północnej strony - polecam zabranie stoperów do<br>uszu .",
           "__label__meta_amb"
          ],
          [
           "Dziś po raz pierwszy bylismy na wizycie u p .<br>Doktora z 2 letnim synem . Wizyta ekspresowa , że<br>nie zdążyła m zadać kilku pytań , dostalismy<br>skierowanie na badania krwi i leki na alergie . I<br>tyle , mam nadzieję , ze nastepnym razem , z<br>kompletem badań dowiemy się wszystkiego , a przede<br>wszystkim , jak pomóc dziecku : - )",
           "__label__meta_amb"
          ],
          [
           "Pani doktor dobra , postawiła wstępną diagnozę ,<br>zaleciła badania aczkolwiek czas spędzony w<br>kolejce to masakra , wizyta prywatna a czas<br>opóźnienia 1 , 5h o którym nikt wcześniej nie<br>informuje . Przydał by się telefon z recepcji że<br>jest opóźnienie w wizycie i było by wszystko ok .",
           "__label__meta_amb"
          ],
          [
           "Hotel nowy , bardzo fajny ( pokoje od strony<br>jeziora ! ) , świetny basen , sauny , lokalizacja<br>, teren wokół hotelu itp . Restauracja -<br>przygotujcie się na niezły kataklizm . Jeśli<br>jeszcze posiłki w formie bufetu jako tako są<br>ogarniane , tak kilka zajętych stolików w porze<br>lunchu powoduje totalny bezruch ( 30 minut<br>czekania na kieliszek wina ! ! ! ) oraz chaos (<br>czekadła dostają tylko wybrane stoliki , dania do<br>stolików przynoszone są tak , że jedna osoba<br>kończy cały posiłek a druga np jeszcze czeka przez<br>20 minut na pierwsze danie , obsługa bez ładu i<br>składu biega po sali ) . Jeśli nie macie ochoty<br>psuć sobie humoru i tracić póltorej godziny na<br>prosty lunch lepiej skoczyć na sąsiedni kemping na<br>frytki : ) Aha , żeby nie było - jedzenie bardzo<br>smaczne .",
           "__label__meta_amb"
          ],
          [
           "Zalety : hotel położony jest tuż nad brzegiem<br>morza , odnowiony , dobre jedzenie , basen kryty ,<br>zabiegi zdrowotne , zadbany teren zielony , winda<br>. W pokojach leżaki , wiatrochron , TV , suszarka<br>, ręczniki , lodówka , szlafroki ( w recepcji ) .<br>Polecam pokoje z widokiem na morze , na 1 - szym<br>piętrze , przy dużym tarasie . Po południu można<br>na nich opalać się i kontemplować widoki , np .<br>zachód słońca . Wady : przez 7 dni ani razu nie<br>sprzątano pokoju , taras był bardzo brudny ! ! ! i<br>wyglądał na nie sprzątany od poprzedniego sezonu .<br>Nie domykające się drzwi na taras . Drogi parking<br>i nie strzeżony .",
           "__label__meta_amb"
          ],
          [
           "Pacjentką była 6 - letnia dziewczynka . Sama<br>wizyta przebiegła w miłej atmosferze . Pani Doktor<br>ma bardzo dobre podejście do dzieci . Niestety<br>poziom konsultacji muszę ocenić jako słaby . Pani<br>Doktor otrzymała dokładną rozpiskę leków<br>przyjmowanych przez córkę do tej pory . Córka<br>przyjmowała Pronasal - Pani Doktor przepisała<br>Nasonex , czyli lek o dokładnie takim samym<br>składzie . Córka przyjmowała Petit Drill - Pani<br>Doktor pomyliła z Pecto Drill i kazała odstawić .<br>Niestety całość odkryli śmy dopiero w domu po<br>sprawdzeniu składu leków , więc oprócz straconego<br>czasu , dodatkowa strata 300 zł na wizytę i ' nowe<br>' leki . Mam nadzieję , że nasz przypadek był<br>jednak odosobniony : )",
           "__label__meta_amb"
          ],
          [
           "W hotelu spędzili śmy tydzień czasu . Byli śmy z 6<br>miesięcznym synkiem . Hotel 4 * * * * . Hotel<br>oceniam jako słabo w stosunku do ceny . Nad<br>jeziorem płatne leżaki za dzień od osoby 10 zł ,<br>większa leżanka płatna 100 zł za dzień . Absurd !<br>W żadnym hotelu w Polsce 4 gwiazdkowym nie<br>spotkała m się z takim oszustwem ! Na terenie<br>obiektu ścieżka prowadząca do jeziora wysypana<br>kamykami , bardzo ciężko prowadzi się wózek !<br>Jeśli hotel reklamuje się hasłem \" u nas dziecko<br>jestem vipem \" powinien spełnić przynajmniej jedno<br>z ważniejszych dogodności dla dzieci . Kółka<br>naszego wózka , który nie był tani są w opłakanym<br>stanie . Plusem hotelu były dobre śniadania i<br>obiadokolacje , a także zabiegi w Spa .<br>Zdecydowanie uważam , że hotel nie jest wart ceny<br>jaką zapłacili śmy za tygodniowy pobyt .",
           "__label__meta_amb"
          ],
          [
           "Przez cały czas trwania wizyty czuła m się bardzo<br>dziwnie . Pan Bartkowiak nie umiał określić co mi<br>się dzieje , odesłał na badanie , które według<br>dwóch następnych laryngologów było zupełnie<br>niepotrzebne . Mam bardzo mieszane uczucia co do<br>tej wizyty . Zaletą jest to , że bez problemu<br>wypisał mi L4 oraz receptę na przyjmowany lek .",
           "__label__meta_amb"
          ],
          [
           "Doktor niemiła , nie przepadam za wizytami u niej<br>( jesteśmy tylko w nagłych wypadkach , bo mamy<br>najbliżej ) . Nieprawda , że lekarz zmęczony , to<br>lekarz arogancki - my mamy bardzo rozchwytywaną<br>pediatrę i nigdy nie była tak niemiła . . . mam<br>wrażenie , że niedokładnie ogląda córkę i jedyne<br>zalecenia , jakie dostały śmy to smecta i dieta<br>eliminacyjna ( co w ogóle nie miało związku z<br>problemem , z którym przyszły śmy ) . Pomimo tego<br>wdzięczna jestem doktor za to , że poświęciła czas<br>, gdy potrzebowały śmy skierowanie , a ona nas nie<br>spławiła , tylko upewniła się , że na pewno nie<br>może wystawić konkretnego .",
           "__label__meta_amb"
          ],
          [
           "Przyjeżdziamy do tego hotelu przy każdej okazji ,<br>kiedy wybieramy się na narty na Czarną Górę ( 19<br>km ) . Dobre i obfite śniadania , przyjemne obiady<br>a do tego basen i sauny jako nieodzowny relaks po<br>codziennym wysiłku narciarskim . Czysto ,<br>przyjemnie i spokojnie . Dla rodziny idealne<br>miejsce . Poza tym piękne miejsca do spacerów ,<br>blisko do Lądka Zdroju , Bystrzycy Kłodzkiej czy<br>Międzygórza . Jednak na święta Bożego Narodzenia<br>więcej tu nie przyjadę - rozczarowało mnie zarówno<br>świąteczne menu ( nieświeże uszka , zbyt kwaśny<br>barszczyk ) , jak i obsługa kelnerska zwłaszcza w<br>wieczór wigilijny oraz pierwszy dzień świąt . Duży<br>plus za masaż : ) , zajęcia dla dzieci i<br>świąteczny prezencik .",
           "__label__meta_amb"
          ],
          [
           "Pani doktor nie była bardzo wylewna . musiała m<br>niestety wszystkie informacje od niej wyciągać .<br>jedyne z czego jestem zadowolona , to tabletki<br>odpornościowe , które mi przepisała , po których<br>przeszedł mi ból gardła i skierowała mnie na wymaz<br>z migdałkow . Nie powiedziała mi nic konkretnego .<br>Mimo wszystko , w jakimś stopniu mi pomogła , wiec<br>całokształt oceniam na dobry . .",
           "__label__meta_amb"
          ],
          [
           "Zamek Pod Brzozami to niewątpliwie bardzo ciekawe<br>miejsce i fajny pomysł jeśli chodzi o wykonanie i<br>wyposażenie obiektu . Pod tym względem naprawdę<br>robi wrażenie i miło spędzić czas w \" zamkowej<br>scenerii \" . Osobiście wybrał em się tam jednak<br>rodzinnie z 2 dzieci w wieku 3 i 5 i to już nie<br>jest najlepszy pomysł . Pomimo , iż wybrali śmy<br>największą komnatę tj . Avatar powstała mała<br>konsternacja kiedy okazało się , że dostawki nie<br>są przygotowane pomimo wcześniejszej rezerwacji i<br>potwierdzenia mailowego . W końcu się jednak<br>pojawiły . . . jedno łóżeczko dziecięce i jedno<br>przenośne różowe dla niemowlaków z informacją od<br>Pani obsługującej iż będzie dobre dla naszego<br>chłopaka : ) Pełna konsternacja . . . Suma<br>summarum sobie poradzili śmy , jednak nie ma mowy<br>o wypoczynku i wygodzie jeśli wybierasz się na<br>Zamek z dziećmi . Co więcej oczy trzeba mieć<br>dosłownie z każdej strony gdyż fajny pomysł na<br>Zamek i jego niezłe wykonanie zostały połączone z<br>całkowitym brakiem wyobraźni jeśli chodzi o<br>podstawową użyteczność obiektu odwiedzanego przez<br>rodziny z dziećmi . Wszystkie podłogi w Zamku są<br>twarde , pomimo śniegu do kolan w całym obiekcie<br>ZERO jakiejkolwiek wycieraczki w którą można<br>wytrzeć buty , śnieg na dojściu i schodach nikomu<br>też w tym zamku nie przeszkadza . Szczytem<br>bezmyślności są wysokie schody bez żadnej barierki<br>z których młodzi mogą zlądować na dół raz na<br>zawsze . Słowem jak dla mnie zdecydowany przerost<br>formy nad treścią i obiekt zdecydowanie<br>niebezpieczny podczas pobytu z dziećmi - co więcej<br>nieprzystosowany do takich wizyt choćby ze względu<br>na pokoje w których zazwyczaj jest jedno osobowe \"<br>łoże \" . Jeśli przyjedziesz zmęczony wieczorem , a<br>drzwi będą zamknięte na klucz nic się nie martw .<br>W naszym wypadku po kilku minutach i kilkunastu<br>telefonach drzwi się w końcu uchyliły . . . Aha ,<br>gdyby ś planował zamówić romantyczny wystrój<br>pokoju w tym Zamku musisz mieć duże poczucie<br>humoru gdyż pięknie prezentujące się płatki róż ,<br>które zostały przed naszym przyjazdem rozsypane po<br>całej komnacie i meblach są wykonane z . . .<br>czerwonego materiału i staraj się na nich nie<br>przejechać , gdyż łapią poślizg aż miło . Polecam<br>je posprzątać przez użytkowaniem komnaty . Słowem<br>: warto zobaczyć , nie warto nocować z dziećmi ,<br>warto odwiedzić we dwoje z własnymi płatkami do<br>dekoracji komnaty : )",
           "__label__meta_amb"
          ]
         ],
         "hovertemplate": "Annotation=__label__meta_amb<br>t-SNE 1=%{x}<br>t-SNE 2=%{y}<br>sentence=%{customdata[0]}<br>annotation=%{customdata[1]}<extra></extra>",
         "legendgroup": "__label__meta_amb",
         "marker": {
          "color": "#ab63fa",
          "symbol": "circle"
         },
         "mode": "markers",
         "name": "__label__meta_amb",
         "orientation": "v",
         "showlegend": true,
         "type": "scatter",
         "x": [
          -1.4221974611282349,
          -1.1079574823379517,
          1.0999280214309692,
          -0.6135962605476379,
          0.7260276675224304,
          0.4894063472747803,
          -1.8512742519378662,
          -0.5190461874008179,
          -0.6189635992050171,
          -0.8184759020805359,
          -0.0032723327167332172,
          -0.5769210457801819,
          -0.5517757534980774,
          -1.2845394611358643,
          -1.151630163192749,
          -0.9479373693466187,
          0.3961472809314728,
          -0.8000767827033997,
          0.00774358818307519,
          -0.12570375204086304,
          -1.0388765335083008,
          -0.49252018332481384,
          -0.48486945033073425,
          -0.7061217427253723,
          -1.687028169631958,
          -0.536670982837677,
          2.050630807876587,
          -0.8430388569831848,
          1.6783636808395386,
          -0.19838275015354156,
          1.8559508323669434,
          -1.2072676420211792,
          -1.0980857610702515,
          0.30845072865486145,
          -1.1188545227050781,
          -1.1194348335266113,
          -0.21917089819908142,
          -0.34584569931030273,
          -1.0014917850494385,
          1.119768500328064,
          -0.6573202013969421,
          -1.4727671146392822,
          1.715748906135559,
          1.9528173208236694,
          -0.47833120822906494,
          -0.565337061882019,
          1.8646240234375,
          -0.7043128609657288,
          1.4218311309814453,
          0.43617603182792664,
          -1.0403891801834106,
          1.4712902307510376,
          -0.2166682332754135
         ],
         "xaxis": "x",
         "y": [
          -1.2598944902420044,
          -0.3430172801017761,
          -0.10680209845304489,
          0.002545628696680069,
          -0.7742761373519897,
          -0.3374713659286499,
          -0.25322431325912476,
          -0.3705856502056122,
          -0.8972740173339844,
          -0.3881886601448059,
          -0.35219472646713257,
          -1.02499520778656,
          -0.3625500500202179,
          -0.8856804370880127,
          -0.38710659742355347,
          -0.8020976781845093,
          -1.3651565313339233,
          0.24203813076019287,
          -1.8767632246017456,
          -0.4641312062740326,
          -1.8714138269424438,
          -0.6530780792236328,
          -0.7608754634857178,
          -0.5856307148933411,
          -0.4525291919708252,
          -0.9814760684967041,
          0.054953403770923615,
          -0.2837267220020294,
          0.8107295036315918,
          -1.755395770072937,
          0.6458532810211182,
          -1.5219508409500122,
          -0.8536280989646912,
          -2.0161166191101074,
          -0.704259991645813,
          -0.8325260281562805,
          -0.929428219795227,
          -0.44726067781448364,
          -1.212778925895691,
          -1.3771625757217407,
          -1.4345481395721436,
          -0.8416104912757874,
          0.7842692732810974,
          0.07016455382108688,
          -1.0719103813171387,
          -1.3277775049209595,
          0.11475376784801483,
          -0.22692632675170898,
          0.1310344785451889,
          0.009939351119101048,
          -0.13617277145385742,
          -0.3617318272590637,
          0.014797312207520008
         ],
         "yaxis": "y"
        }
       ],
       "layout": {
        "legend": {
         "title": {
          "text": "Annotation"
         },
         "tracegroupgap": 0
        },
        "template": {
         "data": {
          "bar": [
           {
            "error_x": {
             "color": "#2a3f5f"
            },
            "error_y": {
             "color": "#2a3f5f"
            },
            "marker": {
             "line": {
              "color": "#E5ECF6",
              "width": 0.5
             },
             "pattern": {
              "fillmode": "overlay",
              "size": 10,
              "solidity": 0.2
             }
            },
            "type": "bar"
           }
          ],
          "barpolar": [
           {
            "marker": {
             "line": {
              "color": "#E5ECF6",
              "width": 0.5
             },
             "pattern": {
              "fillmode": "overlay",
              "size": 10,
              "solidity": 0.2
             }
            },
            "type": "barpolar"
           }
          ],
          "carpet": [
           {
            "aaxis": {
             "endlinecolor": "#2a3f5f",
             "gridcolor": "white",
             "linecolor": "white",
             "minorgridcolor": "white",
             "startlinecolor": "#2a3f5f"
            },
            "baxis": {
             "endlinecolor": "#2a3f5f",
             "gridcolor": "white",
             "linecolor": "white",
             "minorgridcolor": "white",
             "startlinecolor": "#2a3f5f"
            },
            "type": "carpet"
           }
          ],
          "choropleth": [
           {
            "colorbar": {
             "outlinewidth": 0,
             "ticks": ""
            },
            "type": "choropleth"
           }
          ],
          "contour": [
           {
            "colorbar": {
             "outlinewidth": 0,
             "ticks": ""
            },
            "colorscale": [
             [
              0,
              "#0d0887"
             ],
             [
              0.1111111111111111,
              "#46039f"
             ],
             [
              0.2222222222222222,
              "#7201a8"
             ],
             [
              0.3333333333333333,
              "#9c179e"
             ],
             [
              0.4444444444444444,
              "#bd3786"
             ],
             [
              0.5555555555555556,
              "#d8576b"
             ],
             [
              0.6666666666666666,
              "#ed7953"
             ],
             [
              0.7777777777777778,
              "#fb9f3a"
             ],
             [
              0.8888888888888888,
              "#fdca26"
             ],
             [
              1,
              "#f0f921"
             ]
            ],
            "type": "contour"
           }
          ],
          "contourcarpet": [
           {
            "colorbar": {
             "outlinewidth": 0,
             "ticks": ""
            },
            "type": "contourcarpet"
           }
          ],
          "heatmap": [
           {
            "colorbar": {
             "outlinewidth": 0,
             "ticks": ""
            },
            "colorscale": [
             [
              0,
              "#0d0887"
             ],
             [
              0.1111111111111111,
              "#46039f"
             ],
             [
              0.2222222222222222,
              "#7201a8"
             ],
             [
              0.3333333333333333,
              "#9c179e"
             ],
             [
              0.4444444444444444,
              "#bd3786"
             ],
             [
              0.5555555555555556,
              "#d8576b"
             ],
             [
              0.6666666666666666,
              "#ed7953"
             ],
             [
              0.7777777777777778,
              "#fb9f3a"
             ],
             [
              0.8888888888888888,
              "#fdca26"
             ],
             [
              1,
              "#f0f921"
             ]
            ],
            "type": "heatmap"
           }
          ],
          "heatmapgl": [
           {
            "colorbar": {
             "outlinewidth": 0,
             "ticks": ""
            },
            "colorscale": [
             [
              0,
              "#0d0887"
             ],
             [
              0.1111111111111111,
              "#46039f"
             ],
             [
              0.2222222222222222,
              "#7201a8"
             ],
             [
              0.3333333333333333,
              "#9c179e"
             ],
             [
              0.4444444444444444,
              "#bd3786"
             ],
             [
              0.5555555555555556,
              "#d8576b"
             ],
             [
              0.6666666666666666,
              "#ed7953"
             ],
             [
              0.7777777777777778,
              "#fb9f3a"
             ],
             [
              0.8888888888888888,
              "#fdca26"
             ],
             [
              1,
              "#f0f921"
             ]
            ],
            "type": "heatmapgl"
           }
          ],
          "histogram": [
           {
            "marker": {
             "pattern": {
              "fillmode": "overlay",
              "size": 10,
              "solidity": 0.2
             }
            },
            "type": "histogram"
           }
          ],
          "histogram2d": [
           {
            "colorbar": {
             "outlinewidth": 0,
             "ticks": ""
            },
            "colorscale": [
             [
              0,
              "#0d0887"
             ],
             [
              0.1111111111111111,
              "#46039f"
             ],
             [
              0.2222222222222222,
              "#7201a8"
             ],
             [
              0.3333333333333333,
              "#9c179e"
             ],
             [
              0.4444444444444444,
              "#bd3786"
             ],
             [
              0.5555555555555556,
              "#d8576b"
             ],
             [
              0.6666666666666666,
              "#ed7953"
             ],
             [
              0.7777777777777778,
              "#fb9f3a"
             ],
             [
              0.8888888888888888,
              "#fdca26"
             ],
             [
              1,
              "#f0f921"
             ]
            ],
            "type": "histogram2d"
           }
          ],
          "histogram2dcontour": [
           {
            "colorbar": {
             "outlinewidth": 0,
             "ticks": ""
            },
            "colorscale": [
             [
              0,
              "#0d0887"
             ],
             [
              0.1111111111111111,
              "#46039f"
             ],
             [
              0.2222222222222222,
              "#7201a8"
             ],
             [
              0.3333333333333333,
              "#9c179e"
             ],
             [
              0.4444444444444444,
              "#bd3786"
             ],
             [
              0.5555555555555556,
              "#d8576b"
             ],
             [
              0.6666666666666666,
              "#ed7953"
             ],
             [
              0.7777777777777778,
              "#fb9f3a"
             ],
             [
              0.8888888888888888,
              "#fdca26"
             ],
             [
              1,
              "#f0f921"
             ]
            ],
            "type": "histogram2dcontour"
           }
          ],
          "mesh3d": [
           {
            "colorbar": {
             "outlinewidth": 0,
             "ticks": ""
            },
            "type": "mesh3d"
           }
          ],
          "parcoords": [
           {
            "line": {
             "colorbar": {
              "outlinewidth": 0,
              "ticks": ""
             }
            },
            "type": "parcoords"
           }
          ],
          "pie": [
           {
            "automargin": true,
            "type": "pie"
           }
          ],
          "scatter": [
           {
            "fillpattern": {
             "fillmode": "overlay",
             "size": 10,
             "solidity": 0.2
            },
            "type": "scatter"
           }
          ],
          "scatter3d": [
           {
            "line": {
             "colorbar": {
              "outlinewidth": 0,
              "ticks": ""
             }
            },
            "marker": {
             "colorbar": {
              "outlinewidth": 0,
              "ticks": ""
             }
            },
            "type": "scatter3d"
           }
          ],
          "scattercarpet": [
           {
            "marker": {
             "colorbar": {
              "outlinewidth": 0,
              "ticks": ""
             }
            },
            "type": "scattercarpet"
           }
          ],
          "scattergeo": [
           {
            "marker": {
             "colorbar": {
              "outlinewidth": 0,
              "ticks": ""
             }
            },
            "type": "scattergeo"
           }
          ],
          "scattergl": [
           {
            "marker": {
             "colorbar": {
              "outlinewidth": 0,
              "ticks": ""
             }
            },
            "type": "scattergl"
           }
          ],
          "scattermapbox": [
           {
            "marker": {
             "colorbar": {
              "outlinewidth": 0,
              "ticks": ""
             }
            },
            "type": "scattermapbox"
           }
          ],
          "scatterpolar": [
           {
            "marker": {
             "colorbar": {
              "outlinewidth": 0,
              "ticks": ""
             }
            },
            "type": "scatterpolar"
           }
          ],
          "scatterpolargl": [
           {
            "marker": {
             "colorbar": {
              "outlinewidth": 0,
              "ticks": ""
             }
            },
            "type": "scatterpolargl"
           }
          ],
          "scatterternary": [
           {
            "marker": {
             "colorbar": {
              "outlinewidth": 0,
              "ticks": ""
             }
            },
            "type": "scatterternary"
           }
          ],
          "surface": [
           {
            "colorbar": {
             "outlinewidth": 0,
             "ticks": ""
            },
            "colorscale": [
             [
              0,
              "#0d0887"
             ],
             [
              0.1111111111111111,
              "#46039f"
             ],
             [
              0.2222222222222222,
              "#7201a8"
             ],
             [
              0.3333333333333333,
              "#9c179e"
             ],
             [
              0.4444444444444444,
              "#bd3786"
             ],
             [
              0.5555555555555556,
              "#d8576b"
             ],
             [
              0.6666666666666666,
              "#ed7953"
             ],
             [
              0.7777777777777778,
              "#fb9f3a"
             ],
             [
              0.8888888888888888,
              "#fdca26"
             ],
             [
              1,
              "#f0f921"
             ]
            ],
            "type": "surface"
           }
          ],
          "table": [
           {
            "cells": {
             "fill": {
              "color": "#EBF0F8"
             },
             "line": {
              "color": "white"
             }
            },
            "header": {
             "fill": {
              "color": "#C8D4E3"
             },
             "line": {
              "color": "white"
             }
            },
            "type": "table"
           }
          ]
         },
         "layout": {
          "annotationdefaults": {
           "arrowcolor": "#2a3f5f",
           "arrowhead": 0,
           "arrowwidth": 1
          },
          "autotypenumbers": "strict",
          "coloraxis": {
           "colorbar": {
            "outlinewidth": 0,
            "ticks": ""
           }
          },
          "colorscale": {
           "diverging": [
            [
             0,
             "#8e0152"
            ],
            [
             0.1,
             "#c51b7d"
            ],
            [
             0.2,
             "#de77ae"
            ],
            [
             0.3,
             "#f1b6da"
            ],
            [
             0.4,
             "#fde0ef"
            ],
            [
             0.5,
             "#f7f7f7"
            ],
            [
             0.6,
             "#e6f5d0"
            ],
            [
             0.7,
             "#b8e186"
            ],
            [
             0.8,
             "#7fbc41"
            ],
            [
             0.9,
             "#4d9221"
            ],
            [
             1,
             "#276419"
            ]
           ],
           "sequential": [
            [
             0,
             "#0d0887"
            ],
            [
             0.1111111111111111,
             "#46039f"
            ],
            [
             0.2222222222222222,
             "#7201a8"
            ],
            [
             0.3333333333333333,
             "#9c179e"
            ],
            [
             0.4444444444444444,
             "#bd3786"
            ],
            [
             0.5555555555555556,
             "#d8576b"
            ],
            [
             0.6666666666666666,
             "#ed7953"
            ],
            [
             0.7777777777777778,
             "#fb9f3a"
            ],
            [
             0.8888888888888888,
             "#fdca26"
            ],
            [
             1,
             "#f0f921"
            ]
           ],
           "sequentialminus": [
            [
             0,
             "#0d0887"
            ],
            [
             0.1111111111111111,
             "#46039f"
            ],
            [
             0.2222222222222222,
             "#7201a8"
            ],
            [
             0.3333333333333333,
             "#9c179e"
            ],
            [
             0.4444444444444444,
             "#bd3786"
            ],
            [
             0.5555555555555556,
             "#d8576b"
            ],
            [
             0.6666666666666666,
             "#ed7953"
            ],
            [
             0.7777777777777778,
             "#fb9f3a"
            ],
            [
             0.8888888888888888,
             "#fdca26"
            ],
            [
             1,
             "#f0f921"
            ]
           ]
          },
          "colorway": [
           "#636efa",
           "#EF553B",
           "#00cc96",
           "#ab63fa",
           "#FFA15A",
           "#19d3f3",
           "#FF6692",
           "#B6E880",
           "#FF97FF",
           "#FECB52"
          ],
          "font": {
           "color": "#2a3f5f"
          },
          "geo": {
           "bgcolor": "white",
           "lakecolor": "white",
           "landcolor": "#E5ECF6",
           "showlakes": true,
           "showland": true,
           "subunitcolor": "white"
          },
          "hoverlabel": {
           "align": "left"
          },
          "hovermode": "closest",
          "mapbox": {
           "style": "light"
          },
          "paper_bgcolor": "white",
          "plot_bgcolor": "#E5ECF6",
          "polar": {
           "angularaxis": {
            "gridcolor": "white",
            "linecolor": "white",
            "ticks": ""
           },
           "bgcolor": "#E5ECF6",
           "radialaxis": {
            "gridcolor": "white",
            "linecolor": "white",
            "ticks": ""
           }
          },
          "scene": {
           "xaxis": {
            "backgroundcolor": "#E5ECF6",
            "gridcolor": "white",
            "gridwidth": 2,
            "linecolor": "white",
            "showbackground": true,
            "ticks": "",
            "zerolinecolor": "white"
           },
           "yaxis": {
            "backgroundcolor": "#E5ECF6",
            "gridcolor": "white",
            "gridwidth": 2,
            "linecolor": "white",
            "showbackground": true,
            "ticks": "",
            "zerolinecolor": "white"
           },
           "zaxis": {
            "backgroundcolor": "#E5ECF6",
            "gridcolor": "white",
            "gridwidth": 2,
            "linecolor": "white",
            "showbackground": true,
            "ticks": "",
            "zerolinecolor": "white"
           }
          },
          "shapedefaults": {
           "line": {
            "color": "#2a3f5f"
           }
          },
          "ternary": {
           "aaxis": {
            "gridcolor": "white",
            "linecolor": "white",
            "ticks": ""
           },
           "baxis": {
            "gridcolor": "white",
            "linecolor": "white",
            "ticks": ""
           },
           "bgcolor": "#E5ECF6",
           "caxis": {
            "gridcolor": "white",
            "linecolor": "white",
            "ticks": ""
           }
          },
          "title": {
           "x": 0.05
          },
          "xaxis": {
           "automargin": true,
           "gridcolor": "white",
           "linecolor": "white",
           "ticks": "",
           "title": {
            "standoff": 15
           },
           "zerolinecolor": "white",
           "zerolinewidth": 2
          },
          "yaxis": {
           "automargin": true,
           "gridcolor": "white",
           "linecolor": "white",
           "ticks": "",
           "title": {
            "standoff": 15
           },
           "zerolinecolor": "white",
           "zerolinewidth": 2
          }
         }
        },
        "title": {
         "text": "t-SNE - TF-IDF sentence embeddings"
        },
        "xaxis": {
         "anchor": "y",
         "domain": [
          0,
          1
         ],
         "title": {
          "text": "t-SNE 1"
         }
        },
        "yaxis": {
         "anchor": "x",
         "domain": [
          0,
          1
         ],
         "title": {
          "text": "t-SNE 2"
         }
        }
       }
      }
     },
     "metadata": {},
     "output_type": "display_data"
    }
   ],
   "source": [
    "# display interactive plot with reduced dimensionality\n",
    "annotation_plt_series = pd.Series(data[\"target\"])\n",
    "\n",
    "fig = px.scatter(\n",
    "    x=vectors_tfidf_embedded[:, 0],\n",
    "    y=vectors_tfidf_embedded[:, 1],\n",
    "    color=annotation_plt_series,\n",
    "    hover_data={\n",
    "        \"sentence\": data[\"sentence\"]\n",
    "        .str.wrap(50)\n",
    "        .apply(lambda x: x.replace(\"\\n\", \"<br>\")),\n",
    "        \"annotation\": annotation_plt_series,\n",
    "    },\n",
    "    title=\"t-SNE - TF-IDF sentence embeddings\",\n",
    "    labels={\"color\": \"Annotation\", \"x\": \"t-SNE 1\", \"y\": \"t-SNE 2\"},\n",
    ")\n",
    "fig.show()"
   ]
  }
 ],
 "metadata": {
  "kernelspec": {
   "display_name": "env",
   "language": "python",
   "name": "python3"
  },
  "language_info": {
   "codemirror_mode": {
    "name": "ipython",
    "version": 3
   },
   "file_extension": ".py",
   "mimetype": "text/x-python",
   "name": "python",
   "nbconvert_exporter": "python",
   "pygments_lexer": "ipython3",
   "version": "3.8.18"
  }
 },
 "nbformat": 4,
 "nbformat_minor": 2
}
